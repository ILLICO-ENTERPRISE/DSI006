{
 "cells": [
  {
   "cell_type": "markdown",
   "id": "a68db0dc-15bf-4484-84df-487e1376bf2b",
   "metadata": {},
   "source": [
    "# Variables"
   ]
  },
  {
   "cell_type": "code",
   "execution_count": 1,
   "id": "a3bf6d2a-0a6b-4d1d-ac3b-48bde103ace6",
   "metadata": {},
   "outputs": [],
   "source": [
    "# Variables\n",
    "\n",
    "# Python est un langage non typé\n",
    "# Les variables permettent de stocker des valeurs\n",
    "# Les variables permettent de stocker quelques soit le type\n",
    "# A chaque assignation de valeur à une variable on parle d'assignation ou d'affectation\n",
    "\n",
    "# Première METHODE\n",
    "var1 = 'Ali'\n",
    "var2 = 100.100\n",
    "var3 = 22\n",
    "var4 = 188.\n",
    "\n",
    "# Deuxième METHODE\n",
    "# Cette mlethode permet de regrouper (PACK)...\n",
    "var5, var6, var7, var8 = 'Ali', 100.100, 22, 188."
   ]
  },
  {
   "cell_type": "code",
   "execution_count": 9,
   "id": "373e9be0-e824-49a2-94db-691b796b12dd",
   "metadata": {},
   "outputs": [
    {
     "data": {
      "text/plain": [
       "('Ali', 100.1, 22, 188.0)"
      ]
     },
     "execution_count": 9,
     "metadata": {},
     "output_type": "execute_result"
    }
   ],
   "source": [
    "# Afficher les variables dans le prompt de Jupyter Lab\n",
    "var1, var2, var3, var4"
   ]
  },
  {
   "cell_type": "code",
   "execution_count": 10,
   "id": "08b79b9e-6768-478a-a479-3967f572516b",
   "metadata": {},
   "outputs": [
    {
     "data": {
      "text/plain": [
       "('Ali', 100.1, 22, 188.0)"
      ]
     },
     "execution_count": 10,
     "metadata": {},
     "output_type": "execute_result"
    }
   ],
   "source": [
    "# Afficher les variables dans le prompt de Jupyter Lab\n",
    "var5, var6, var7, var8"
   ]
  },
  {
   "cell_type": "code",
   "execution_count": 11,
   "id": "bd1114b8-145d-4fe2-ae46-9720795d447f",
   "metadata": {},
   "outputs": [],
   "source": [
    "# Les entiers\n",
    "# Les réels\n",
    "# les chaines de caractères\n",
    "# Les booléens\n",
    "# Les tableau ( Entier, Reels, Chaine de caractères)"
   ]
  },
  {
   "cell_type": "markdown",
   "id": "57be0686-6630-43a2-b269-247dfc81ce00",
   "metadata": {},
   "source": [
    "# Les types de Variables"
   ]
  },
  {
   "cell_type": "code",
   "execution_count": 14,
   "id": "9dc8fdb3-c305-40de-aeb4-40ef665bfc73",
   "metadata": {},
   "outputs": [
    {
     "data": {
      "text/plain": [
       "(str, float, int, float)"
      ]
     },
     "execution_count": 14,
     "metadata": {},
     "output_type": "execute_result"
    }
   ],
   "source": [
    "# La fonction pour afficher le type est la fonction type\n",
    "\n",
    "# var1 = 'Ali'    type = str (chaine de caractère)\n",
    "# var2 = 100.100  type = float (reel)\n",
    "# var3 = 22       type = int (entier)\n",
    "# var4 = 188.     type = float (reel)\n",
    "\n",
    "type(var1), type(var2), type(var3), type(var4)"
   ]
  },
  {
   "cell_type": "code",
   "execution_count": 16,
   "id": "d196ada5-5eda-4bb6-bb0c-a241c7448611",
   "metadata": {},
   "outputs": [
    {
     "data": {
      "text/plain": [
       "(188.0, 188.0)"
      ]
     },
     "execution_count": 16,
     "metadata": {},
     "output_type": "execute_result"
    }
   ],
   "source": [
    "# Les deux manières d'écrire un float\n",
    "\n",
    "188.000, 188. # 188.0000000000"
   ]
  },
  {
   "cell_type": "code",
   "execution_count": 17,
   "id": "84359a73-0f4d-477d-b282-635a6a78f4f0",
   "metadata": {},
   "outputs": [
    {
     "data": {
      "text/plain": [
       "(str, float, int, float)"
      ]
     },
     "execution_count": 17,
     "metadata": {},
     "output_type": "execute_result"
    }
   ],
   "source": [
    "type(var5), type(var6), type(var7), type(var8)"
   ]
  },
  {
   "cell_type": "markdown",
   "id": "8b873f15-c5f9-4341-b77f-4326989b2833",
   "metadata": {},
   "source": [
    "# Les opérations usuelles en python"
   ]
  },
  {
   "cell_type": "code",
   "execution_count": 19,
   "id": "b9b3e011-ceb7-414c-b540-8c2e510e1f89",
   "metadata": {},
   "outputs": [],
   "source": [
    "add    = var2 + var3    # Addition\n",
    "sous   = var2 - var3    # Soustraction\n",
    "divi   = var2 / var3    # Divion simple\n",
    "mult   = var2 * var3    # Multiplication\n",
    "pow2   = var2 ** 2      # Exposant au carré (puissance)\n",
    "pow3   = var2 ** 3      # Exposant au cube (puissance)\n",
    "divE   = var2 // var3   # Division Entière\n",
    "divE2  = 4 // 3         # Division Entière\n",
    "modulo = 4 % 3          # Modulo (retourne le reste)"
   ]
  },
  {
   "cell_type": "code",
   "execution_count": 20,
   "id": "8fd3a7c4-8b66-48b0-87c9-a8afe1ead211",
   "metadata": {},
   "outputs": [
    {
     "data": {
      "text/plain": [
       "(122.1, 78.1, 4.55, 2202.2, 10020.009999999998, 1003003.0009999998)"
      ]
     },
     "execution_count": 20,
     "metadata": {},
     "output_type": "execute_result"
    }
   ],
   "source": [
    "add, sous, divi, mult, pow2, pow3"
   ]
  },
  {
   "cell_type": "code",
   "execution_count": 23,
   "id": "2f5f1e64-d183-447d-ae0f-77f2c59bfef6",
   "metadata": {},
   "outputs": [
    {
     "data": {
      "text/plain": [
       "(1.3333333333333333, 1)"
      ]
     },
     "execution_count": 23,
     "metadata": {},
     "output_type": "execute_result"
    }
   ],
   "source": [
    "4/3, 4//3    # La division entière filtre et retient la partie entiere du résultat"
   ]
  },
  {
   "cell_type": "code",
   "execution_count": 24,
   "id": "e9bd92f8-ab3f-476b-b2f4-3ff69ff99834",
   "metadata": {},
   "outputs": [],
   "source": [
    "# Déclarer des variables\n",
    "# Une variable <name>, contenant votre NOM\n",
    "# Une variable <age>, contenant votre AGE\n",
    "# Une variable <sex>, contenant votre sexe\n",
    "# Une variable <country>, contenant votre pays."
   ]
  },
  {
   "cell_type": "code",
   "execution_count": 27,
   "id": "90640e10-bc2d-4d7e-ab67-9c423494a237",
   "metadata": {},
   "outputs": [],
   "source": [
    "# Correction Déclarer des variables\n",
    "name    = 'Eric'\n",
    "age     = 28\n",
    "sex     = 'Masculin'\n",
    "country = 'Cameroune'"
   ]
  },
  {
   "cell_type": "code",
   "execution_count": 25,
   "id": "c2afd5e1-36e1-4b4d-9f7b-77f8c7b8d4ab",
   "metadata": {},
   "outputs": [],
   "source": [
    "# Afficher le type de vos variables\n",
    "# Afficher le type de la variable <name>\n",
    "# Afficher le type de la variable <age>\n",
    "# Afficher le type de la variable <sex>\n",
    "# Afficher le type de la variable <country>"
   ]
  },
  {
   "cell_type": "code",
   "execution_count": 29,
   "id": "c5a08c98-9455-4181-a84c-13c084f2c4e6",
   "metadata": {},
   "outputs": [
    {
     "data": {
      "text/plain": [
       "(str, int, str, str)"
      ]
     },
     "execution_count": 29,
     "metadata": {},
     "output_type": "execute_result"
    }
   ],
   "source": [
    "# Correction Afficher le type des variables\n",
    "type(name), type(age), type(sex), type(country)"
   ]
  },
  {
   "cell_type": "code",
   "execution_count": 26,
   "id": "f9b160f0-ad54-4cff-b3a3-af8cd651a163",
   "metadata": {},
   "outputs": [],
   "source": [
    "# Manipulation des varaibles\n",
    "# Declarer une variable du nom <surface>\n",
    "# Le rayon du cercle est de 18 et PI = 22/7\n",
    "# Calculer la surfaceCercle d'un cercle = PI * r**2\n",
    "# Considérer un triangle avec les dimensions suivantes:\n",
    "# Base = 22\n",
    "# Hauteur = 17\n",
    "# calculer la surface de ce triangle dans une variable surfaceTriangle\n",
    "# NB: Perimètre d'un triangle = (B * H) / 2 "
   ]
  },
  {
   "cell_type": "code",
   "execution_count": 30,
   "id": "4bd3609a-b8c6-4852-bc00-39159d1bdac2",
   "metadata": {},
   "outputs": [
    {
     "data": {
      "text/plain": [
       "(1018.2857142857142, 187.0)"
      ]
     },
     "execution_count": 30,
     "metadata": {},
     "output_type": "execute_result"
    }
   ],
   "source": [
    "# Correction Manipulation des varaibles\n",
    "PI, r, Base, Hauteur = 22/7, 18, 22, 17\n",
    "surfaceCercle        = PI * (r**2)\n",
    "surfaceTriangle      = (Base * Hauteur) / 2\n",
    "\n",
    "surfaceCercle, surfaceTriangle"
   ]
  },
  {
   "cell_type": "markdown",
   "id": "e7182a60-c6f4-4801-b577-a7aa842e6f35",
   "metadata": {},
   "source": [
    "# List, tuple, dict"
   ]
  },
  {
   "cell_type": "markdown",
   "id": "f827af7b-df7b-436f-91f2-7b9ee9ab8211",
   "metadata": {},
   "source": [
    "## Les Listes en python ou tableau"
   ]
  },
  {
   "cell_type": "code",
   "execution_count": 31,
   "id": "1149537d-3a66-494c-9082-699e34f0f126",
   "metadata": {},
   "outputs": [],
   "source": [
    "# Déclaration d'une liste ou d'un tableau\n",
    "\n",
    "tableau = []\n",
    "# tableau = list()"
   ]
  },
  {
   "cell_type": "code",
   "execution_count": 33,
   "id": "6a079d0c-5b52-4696-8687-80e86190e6c0",
   "metadata": {},
   "outputs": [],
   "source": [
    "# Ajouter des élements dans le tableau\n",
    "# La particularité des tableaux en Java ou langage C est de ne déclarer que des tableaux ne contenant que des valeurs du même type\n",
    "# En python les LISTES sont des META DONNEES ( communément appelées des STRUCTURES DE DONNEES)\n",
    "# La particularité des STRUCTURES DE DONNEES est de contenir tous types de variables\n",
    "\n",
    "# Cas en Java ou en C (Appliqué au python)\n",
    "tableau1 = [0, 1, 2, 3, 4, 5, 1991, 20778] # que des entiers\n",
    "tableau2 = [0.00, 1.00, 2.00, 3.00, 4.00, 1991.012] # que des réels\n",
    "tableau3 = ['Eric', 'Marius', 'Maodo', 'Russell'] # que des chaines de caractères\n",
    "\n",
    "# Cas en python\n",
    "tableau4 = [11, 188.02, 'Eric']\n",
    "tableau5 = [11.88, 12, 'Russell', []]\n",
    "tableau6 = [[1,2,3], [99.88, 'ALI'], []]"
   ]
  },
  {
   "cell_type": "code",
   "execution_count": 35,
   "id": "08975023-3065-4f31-9334-ee6abf64a15c",
   "metadata": {},
   "outputs": [
    {
     "data": {
      "text/plain": [
       "(0, 1, 1991)"
      ]
     },
     "execution_count": 35,
     "metadata": {},
     "output_type": "execute_result"
    }
   ],
   "source": [
    "# Afficher les valeurs du tableau en passant par les indexes\n",
    "tableau1[0], tableau1[1], tableau1[6]"
   ]
  },
  {
   "cell_type": "code",
   "execution_count": 37,
   "id": "f5c0870e-61c1-4913-8d10-d4812ec3e9ef",
   "metadata": {},
   "outputs": [
    {
     "data": {
      "text/plain": [
       "('Eric', 1.0, 1991.012)"
      ]
     },
     "execution_count": 37,
     "metadata": {},
     "output_type": "execute_result"
    }
   ],
   "source": [
    "# Afficher les valeurs du tableau en passant par les indexes\n",
    "tableau3[0], tableau2[1], tableau2[5]"
   ]
  },
  {
   "cell_type": "code",
   "execution_count": 38,
   "id": "f1291955-e17c-4cf1-b8af-7e5387897b98",
   "metadata": {},
   "outputs": [
    {
     "data": {
      "text/plain": [
       "(11.88, 'Russell', 3.0)"
      ]
     },
     "execution_count": 38,
     "metadata": {},
     "output_type": "execute_result"
    }
   ],
   "source": [
    "# Afficher les valeurs du tableau en passant par les indexes\n",
    "tableau5[0], tableau5[2], tableau2[3]"
   ]
  },
  {
   "cell_type": "code",
   "execution_count": 39,
   "id": "264555c1-0e26-4eb1-bdf2-cfecf66525d8",
   "metadata": {},
   "outputs": [
    {
     "data": {
      "text/plain": [
       "([1, 2, 3], [99.88, 'ALI'], [])"
      ]
     },
     "execution_count": 39,
     "metadata": {},
     "output_type": "execute_result"
    }
   ],
   "source": [
    "# Afficher les valeurs du tableau en passant par les indexes\n",
    "tableau6[0], tableau6[1], tableau6[2]"
   ]
  },
  {
   "cell_type": "code",
   "execution_count": 40,
   "id": "022557ce-ec5b-4538-8ce5-e3cee95055a2",
   "metadata": {},
   "outputs": [
    {
     "data": {
      "text/plain": [
       "(1, 'ALI', [])"
      ]
     },
     "execution_count": 40,
     "metadata": {},
     "output_type": "execute_result"
    }
   ],
   "source": [
    "# Afficher les valeurs du tableau en passant par les indexes\n",
    "# Manipulation des matrices (tableau dimension 2)\n",
    "tableau6[0][0], tableau6[1][1], tableau6[2]"
   ]
  },
  {
   "cell_type": "code",
   "execution_count": 41,
   "id": "de575615-0c74-4594-ab8b-ca00317ec0da",
   "metadata": {},
   "outputs": [
    {
     "data": {
      "text/plain": [
       "(list, list, list, list)"
      ]
     },
     "execution_count": 41,
     "metadata": {},
     "output_type": "execute_result"
    }
   ],
   "source": [
    "# Affichage du type des tableaux\n",
    "type(tableau1), type(tableau2), type(tableau5), type(tableau6)"
   ]
  },
  {
   "cell_type": "code",
   "execution_count": 46,
   "id": "c051e498-c1a0-4b44-a350-ca9971d2c3fc",
   "metadata": {},
   "outputs": [],
   "source": [
    "# Petite Remarque\n",
    "# On peut modifier les valeurs contenues dans une LISTE\n",
    "# La modification de ces valeurs se font par les index du tableau\n",
    "# Exemple\n",
    "tableau4    = [11, 188.02, 'Eric']\n",
    "tableau4[0] = 100.2\n",
    "tableau4[1] = 'Ali'\n",
    "tableau4[2] = 'Maodo Sene'"
   ]
  },
  {
   "cell_type": "code",
   "execution_count": 48,
   "id": "3f94f2d8-eac6-4463-a21a-18cdd5a10aa1",
   "metadata": {},
   "outputs": [
    {
     "data": {
      "text/plain": [
       "[100.2, 'Ali', 'Maodo Sene']"
      ]
     },
     "execution_count": 48,
     "metadata": {},
     "output_type": "execute_result"
    }
   ],
   "source": [
    "# Affichage des modifications apportées au tableau4\n",
    "tableau4"
   ]
  },
  {
   "cell_type": "code",
   "execution_count": 49,
   "id": "778f3e31-61a6-4f9f-9bf0-c2c15ca86026",
   "metadata": {},
   "outputs": [
    {
     "ename": "IndexError",
     "evalue": "list index out of range",
     "output_type": "error",
     "traceback": [
      "\u001b[0;31m---------------------------------------------------------------------------\u001b[0m",
      "\u001b[0;31mIndexError\u001b[0m                                Traceback (most recent call last)",
      "Input \u001b[0;32mIn [49]\u001b[0m, in \u001b[0;36m<module>\u001b[0;34m\u001b[0m\n\u001b[1;32m      1\u001b[0m \u001b[38;5;66;03m# test de la propriété d'immutabilité des listes\u001b[39;00m\n\u001b[1;32m      2\u001b[0m testListe \u001b[38;5;241m=\u001b[39m \u001b[38;5;28mlist\u001b[39m()  \u001b[38;5;66;03m# testListe = []\u001b[39;00m\n\u001b[0;32m----> 4\u001b[0m \u001b[43mtestListe\u001b[49m\u001b[43m[\u001b[49m\u001b[38;5;241;43m0\u001b[39;49m\u001b[43m]\u001b[49m\n",
      "\u001b[0;31mIndexError\u001b[0m: list index out of range"
     ]
    }
   ],
   "source": [
    "# test de la propriété d'immutabilité des listes (Part 1)\n",
    "testListe = list()  # testListe = []\n",
    "\n",
    "testListe[0]"
   ]
  },
  {
   "cell_type": "code",
   "execution_count": 50,
   "id": "1caddd1b-c59c-4d97-8a4a-e8ab11f4697b",
   "metadata": {},
   "outputs": [
    {
     "ename": "IndexError",
     "evalue": "list assignment index out of range",
     "output_type": "error",
     "traceback": [
      "\u001b[0;31m---------------------------------------------------------------------------\u001b[0m",
      "\u001b[0;31mIndexError\u001b[0m                                Traceback (most recent call last)",
      "Input \u001b[0;32mIn [50]\u001b[0m, in \u001b[0;36m<module>\u001b[0;34m\u001b[0m\n\u001b[1;32m      1\u001b[0m \u001b[38;5;66;03m# test de la propriété d'immutabilité des listes (Part 2)\u001b[39;00m\n\u001b[1;32m      2\u001b[0m testListe \u001b[38;5;241m=\u001b[39m \u001b[38;5;28mlist\u001b[39m()  \u001b[38;5;66;03m# testListe = []\u001b[39;00m\n\u001b[0;32m----> 4\u001b[0m testListe[\u001b[38;5;241m0\u001b[39m] \u001b[38;5;241m=\u001b[39m \u001b[38;5;241m188.19\u001b[39m\n",
      "\u001b[0;31mIndexError\u001b[0m: list assignment index out of range"
     ]
    }
   ],
   "source": [
    "# test de la propriété d'immutabilité des listes (Part 2)\n",
    "testListe = list()  # testListe = []\n",
    "\n",
    "testListe[0] = 188.19"
   ]
  },
  {
   "cell_type": "code",
   "execution_count": 53,
   "id": "0f077ce5-8df4-4046-8f66-2721ba3c1841",
   "metadata": {},
   "outputs": [],
   "source": [
    "# List comprehension (Part 1)\n",
    "# NB: la fonction native range(n) affiche les éléments a partir de 0 jusqu'à n-1\n",
    "# NB exemple: range(3) = [0,1,2] car n-1 = 3-1 = 2\n",
    "\n",
    "var1 = []   # list()\n",
    "var2 = [1, 2, 3, 4, 5]\n",
    "var3 = [x for x in var2]\n",
    "var4 = [x for x in var2]\n",
    "var5 = [x for x in range(6)]\n",
    "var6 = [x for x in range(10)]"
   ]
  },
  {
   "cell_type": "code",
   "execution_count": 51,
   "id": "f3e695a1-e8a1-42cc-baec-82ec21b0c262",
   "metadata": {},
   "outputs": [
    {
     "data": {
      "text/plain": [
       "([1, 2, 3, 4, 5], [1, 2, 3, 4, 5])"
      ]
     },
     "execution_count": 51,
     "metadata": {},
     "output_type": "execute_result"
    }
   ],
   "source": [
    "# Afficher les valeurs des variables var3, var4\n",
    "var3, var4"
   ]
  },
  {
   "cell_type": "code",
   "execution_count": 52,
   "id": "4cad3bea-d750-4df3-be34-0b2e0be568e1",
   "metadata": {},
   "outputs": [
    {
     "data": {
      "text/plain": [
       "([0, 1, 2, 3, 4, 5], [0, 1, 2, 3, 4, 5, 6, 7, 8, 9])"
      ]
     },
     "execution_count": 52,
     "metadata": {},
     "output_type": "execute_result"
    }
   ],
   "source": [
    "# Afficher les valeurs des variables var5, var6\n",
    "var5, var6"
   ]
  },
  {
   "cell_type": "code",
   "execution_count": 54,
   "id": "7a1e0e64-a519-448e-8153-22306472be78",
   "metadata": {},
   "outputs": [
    {
     "data": {
      "text/plain": [
       "(list, list)"
      ]
     },
     "execution_count": 54,
     "metadata": {},
     "output_type": "execute_result"
    }
   ],
   "source": [
    "# Afficher les types des variables var5, var6\n",
    "type(var5), type(var6)"
   ]
  },
  {
   "cell_type": "code",
   "execution_count": 6,
   "id": "25693563-0a4a-4048-8c44-486bdd0adfd3",
   "metadata": {},
   "outputs": [
    {
     "data": {
      "text/plain": [
       "[0, 1, 2, 3, 4, 5, 6, 7, 8, 9]"
      ]
     },
     "execution_count": 6,
     "metadata": {},
     "output_type": "execute_result"
    }
   ],
   "source": [
    "# Manipulation de la fonction range (Exemple 1)\n",
    "# Syntaxe range(number) \n",
    "test_range1 = list(range(10))\n",
    "test_range1"
   ]
  },
  {
   "cell_type": "code",
   "execution_count": 7,
   "id": "99ae6296-0573-4bc3-bc01-e2d8773ead02",
   "metadata": {},
   "outputs": [
    {
     "data": {
      "text/plain": [
       "[5, 6, 7, 8, 9, 10, 11, 12, 13, 14, 15, 16, 17, 18, 19, 20, 21, 22, 23, 24]"
      ]
     },
     "execution_count": 7,
     "metadata": {},
     "output_type": "execute_result"
    }
   ],
   "source": [
    "# Manipulation de la fonction range (Exemple 2)\n",
    "# Syntaxe range(start, end)\n",
    "test_range2 = list(range(5, 25))\n",
    "test_range2"
   ]
  },
  {
   "cell_type": "code",
   "execution_count": 8,
   "id": "0c613efc-6950-44d9-8036-61b1db9a1e79",
   "metadata": {},
   "outputs": [],
   "source": [
    "# List comprehension (Part 3)\n",
    "# Add, remove, pop, extend, insert, remove value\n",
    "var = []\n",
    "\n",
    "# Ajouter des elements avec la fonction append\n",
    "var.append(1)\n",
    "var.append(2)\n",
    "var.append(28.88)\n",
    "var.append('Ali')\n",
    "var.append('Sarr')\n",
    "var.append(['Ali', 18, [-155.88, 68.78]])"
   ]
  },
  {
   "cell_type": "code",
   "execution_count": 9,
   "id": "11afa0cb-b5a1-4a13-bd7b-c978139cc635",
   "metadata": {},
   "outputs": [
    {
     "data": {
      "text/plain": [
       "[1, 2, 28.88, 'Ali', 'Sarr', ['Ali', 18, [-155.88, 68.78]]]"
      ]
     },
     "execution_count": 9,
     "metadata": {},
     "output_type": "execute_result"
    }
   ],
   "source": [
    "var"
   ]
  },
  {
   "cell_type": "code",
   "execution_count": 10,
   "id": "03115189-7d0f-4586-9972-0134d64d0ddd",
   "metadata": {},
   "outputs": [],
   "source": [
    "# Ajouter des elements a la liste a partir d'une autre liste\n",
    "# iterable c'est un structure de donnees capable de rendre de manière successive les valeurs qu'elle contient\n",
    "# On parle d'itération (terme grossuère=boucle)\n",
    "var.extend([201, 202, 203])\n",
    "var.extend([301, 302, 303])\n",
    "var.extend([401, 402, 403])"
   ]
  },
  {
   "cell_type": "code",
   "execution_count": 11,
   "id": "fbb67c36-830b-424f-9dec-8e335da6ad30",
   "metadata": {},
   "outputs": [
    {
     "data": {
      "text/plain": [
       "[1,\n",
       " 2,\n",
       " 28.88,\n",
       " 'Ali',\n",
       " 'Sarr',\n",
       " ['Ali', 18, [-155.88, 68.78]],\n",
       " 201,\n",
       " 202,\n",
       " 203,\n",
       " 301,\n",
       " 302,\n",
       " 303,\n",
       " 401,\n",
       " 402,\n",
       " 403]"
      ]
     },
     "execution_count": 11,
     "metadata": {},
     "output_type": "execute_result"
    }
   ],
   "source": [
    "var"
   ]
  },
  {
   "cell_type": "code",
   "execution_count": 12,
   "id": "bff7c282-6991-4ea4-a7f0-5194529e2efe",
   "metadata": {},
   "outputs": [
    {
     "ename": "TypeError",
     "evalue": "'int' object is not iterable",
     "output_type": "error",
     "traceback": [
      "\u001b[0;31m---------------------------------------------------------------------------\u001b[0m",
      "\u001b[0;31mTypeError\u001b[0m                                 Traceback (most recent call last)",
      "Input \u001b[0;32mIn [12]\u001b[0m, in \u001b[0;36m<module>\u001b[0;34m\u001b[0m\n\u001b[0;32m----> 1\u001b[0m \u001b[43mvar\u001b[49m\u001b[38;5;241;43m.\u001b[39;49m\u001b[43mextend\u001b[49m\u001b[43m(\u001b[49m\u001b[38;5;241;43m1999\u001b[39;49m\u001b[43m)\u001b[49m\n",
      "\u001b[0;31mTypeError\u001b[0m: 'int' object is not iterable"
     ]
    }
   ],
   "source": [
    "var.extend(1999) # append"
   ]
  },
  {
   "cell_type": "code",
   "execution_count": 13,
   "id": "c8f8541f-76a6-418f-9135-ca348c14a87e",
   "metadata": {},
   "outputs": [],
   "source": [
    "var.extend(['Ali', 18, [-155.88, 68.78]])"
   ]
  },
  {
   "cell_type": "code",
   "execution_count": 17,
   "id": "791ef62a-e7c9-4aca-97d2-a9f1250804de",
   "metadata": {},
   "outputs": [
    {
     "data": {
      "text/plain": [
       "[-155.88, 68.78]"
      ]
     },
     "execution_count": 17,
     "metadata": {},
     "output_type": "execute_result"
    }
   ],
   "source": [
    "# suppression des élément d'une liste\n",
    "# Utilisation de la fonction POP\n",
    "# La fonction native POP permet de supprimer un élément en bout de liste et renvoi l'élément supprimé\n",
    "var.pop()"
   ]
  },
  {
   "cell_type": "code",
   "execution_count": 19,
   "id": "3e22d39f-7298-4f52-9009-629133ee0f5c",
   "metadata": {},
   "outputs": [
    {
     "data": {
      "text/plain": [
       "1"
      ]
     },
     "execution_count": 19,
     "metadata": {},
     "output_type": "execute_result"
    }
   ],
   "source": [
    "# Suppression avec précision de l'index de l'élément à supprimer\n",
    "var.pop(0)"
   ]
  },
  {
   "cell_type": "code",
   "execution_count": 21,
   "id": "69aec764-fe79-4a54-b0df-3006fb4bee1b",
   "metadata": {},
   "outputs": [],
   "source": [
    "# Inserer des éléments dans une liste avec la fonction INSERT\n",
    "# Syntaxe de INSERT: <list>.insert(index, value)\n",
    "var.insert(1, 555)\n",
    "var.insert(1, 665)\n",
    "var.insert(3, 888)"
   ]
  },
  {
   "cell_type": "code",
   "execution_count": 23,
   "id": "14c9f6bc-43f7-4bbe-bb15-14d28c857409",
   "metadata": {},
   "outputs": [],
   "source": [
    "# Suppression d'un élément d'une liste avec la fonction remove\n",
    "# Syntaxe de REMOVE: <list>.remove(value)\n",
    "var.remove(665)"
   ]
  },
  {
   "cell_type": "code",
   "execution_count": 25,
   "id": "2f7892eb-3966-4933-aeb1-f6c5685e3818",
   "metadata": {},
   "outputs": [],
   "source": [
    "var.remove(888)"
   ]
  },
  {
   "cell_type": "code",
   "execution_count": 28,
   "id": "42ec6eef-7e51-403a-8b30-f67043d8cf46",
   "metadata": {},
   "outputs": [],
   "source": [
    "# Ajout de deux éléments identiques dans la liste\n",
    "var.insert(1, 200)\n",
    "var.insert(1, 200)"
   ]
  },
  {
   "cell_type": "code",
   "execution_count": 33,
   "id": "ead3b5aa-666f-4bd2-b6c0-2aa5fb113dcb",
   "metadata": {},
   "outputs": [],
   "source": [
    "# NB: en cas d'occurence remove ne supprime qu'un élément par élément\n",
    "var.remove(200)"
   ]
  },
  {
   "cell_type": "code",
   "execution_count": 35,
   "id": "653f1cf4-1710-4b92-8524-af6ce2cee10f",
   "metadata": {},
   "outputs": [],
   "source": [
    "var = list(range(10))"
   ]
  },
  {
   "cell_type": "code",
   "execution_count": 37,
   "id": "9340c9c7-646f-4378-bd2b-7088b4f49bce",
   "metadata": {},
   "outputs": [
    {
     "data": {
      "text/plain": [
       "[0, 1, 2, 3, 4, 5, 6, 7, 8, 9]"
      ]
     },
     "execution_count": 37,
     "metadata": {},
     "output_type": "execute_result"
    }
   ],
   "source": [
    "# Afficher tous les éléments de la liste (Méthode 1)\n",
    "var"
   ]
  },
  {
   "cell_type": "code",
   "execution_count": 38,
   "id": "349b4625-651f-420c-96c8-07203581e448",
   "metadata": {},
   "outputs": [
    {
     "data": {
      "text/plain": [
       "[0, 1, 2, 3, 4, 5, 6, 7, 8, 9]"
      ]
     },
     "execution_count": 38,
     "metadata": {},
     "output_type": "execute_result"
    }
   ],
   "source": [
    "# Afficher tous les éléments de la liste (Méthode 2)\n",
    "var[:]"
   ]
  },
  {
   "cell_type": "code",
   "execution_count": 39,
   "id": "a4af9661-5003-4ece-b0f4-51ae01f5d0ad",
   "metadata": {},
   "outputs": [
    {
     "data": {
      "text/plain": [
       "[9, 8, 7, 6, 5, 4, 3, 2, 1, 0]"
      ]
     },
     "execution_count": 39,
     "metadata": {},
     "output_type": "execute_result"
    }
   ],
   "source": [
    "# Afficher tous les éléments de la liste à partir du dernier élément\n",
    "var[::-1]"
   ]
  },
  {
   "cell_type": "code",
   "execution_count": 40,
   "id": "2f43473e-8cc8-4aa8-9976-c8cdcc4cc406",
   "metadata": {},
   "outputs": [
    {
     "data": {
      "text/plain": [
       "(0, 9)"
      ]
     },
     "execution_count": 40,
     "metadata": {},
     "output_type": "execute_result"
    }
   ],
   "source": [
    "# Afficher le premier et le dernier élément de la liste\n",
    "var[0], var[-1]"
   ]
  },
  {
   "cell_type": "code",
   "execution_count": 42,
   "id": "b64a2f79-a9db-40e3-8753-7525b3a7078e",
   "metadata": {},
   "outputs": [
    {
     "data": {
      "text/plain": [
       "([0, 1, 2, 3, 4], [0, 1, 2, 3, 4, 5], [0, 1, 2, 3, 4, 5, 6])"
      ]
     },
     "execution_count": 42,
     "metadata": {},
     "output_type": "execute_result"
    }
   ],
   "source": [
    "# Afficher les n premiers éléments de la liste\n",
    "# Exemple des cinq premiers élements\n",
    "var[0:5], var[0:6], var[0:7] # ou var[:5]"
   ]
  },
  {
   "cell_type": "code",
   "execution_count": 44,
   "id": "28ac36fa-be17-489f-b161-446755526f22",
   "metadata": {},
   "outputs": [
    {
     "data": {
      "text/plain": [
       "([2, 3, 4], [2, 3, 4, 5, 6, 7], [3, 4])"
      ]
     },
     "execution_count": 44,
     "metadata": {},
     "output_type": "execute_result"
    }
   ],
   "source": [
    "# Afficher n éléments de la liste a partir d'un index de départ\n",
    "var[2:5], var[2:8], var[3:5]"
   ]
  },
  {
   "cell_type": "code",
   "execution_count": 47,
   "id": "a2166f90-c5a7-477c-923d-7de984894deb",
   "metadata": {},
   "outputs": [
    {
     "data": {
      "text/plain": [
       "([5, 6, 7, 8], [4, 5, 6, 7], [3, 4, 5, 6, 7, 8])"
      ]
     },
     "execution_count": 47,
     "metadata": {},
     "output_type": "execute_result"
    }
   ],
   "source": [
    "# Affichage des éléments de la liste a partir des index négatifs\n",
    "# Quand on utilise les indexes négatifs on décompte de la droite vers la gauche\n",
    "var[-5:-1], var[-6:-2], var[-7:-1]"
   ]
  },
  {
   "cell_type": "code",
   "execution_count": 48,
   "id": "21f24620-1268-4afb-9667-b406b5a32806",
   "metadata": {},
   "outputs": [
    {
     "data": {
      "text/plain": [
       "[9, 8, 7, 6, 5, 4, 3, 2, 1, 0]"
      ]
     },
     "execution_count": 48,
     "metadata": {},
     "output_type": "execute_result"
    }
   ],
   "source": [
    "# Affichage des éléments de la liste a partir du dernier par pas de 1\n",
    "var[::-1]"
   ]
  },
  {
   "cell_type": "code",
   "execution_count": 49,
   "id": "b7db6c56-1c20-4ce0-afc9-8f1f1acabef8",
   "metadata": {},
   "outputs": [
    {
     "data": {
      "text/plain": [
       "([9, 7, 5, 3, 1], [9, 6, 3, 0], [9, 5, 1])"
      ]
     },
     "execution_count": 49,
     "metadata": {},
     "output_type": "execute_result"
    }
   ],
   "source": [
    "# Affichage des éléments de la liste a partir du dernier par pas de 2\n",
    "# Le pas peut varier qu'a l'intervalle de la longueur du tableu\n",
    "var[::-2], var[::-3], var[::-4]"
   ]
  },
  {
   "cell_type": "code",
   "execution_count": 51,
   "id": "08f7cd13-eceb-46b1-a8e1-c8bd57509260",
   "metadata": {},
   "outputs": [],
   "source": [
    "# List comprehension (Part 4)\n",
    "# Opérations usuelles sur les listes\n",
    "\n",
    "var1 = list(range(10))\n",
    "var2 = list(range(6))\n",
    "\n",
    "var3 = var1 + var2 # Concaténation\n",
    "var4 = var2 * 3 # répétition des éléments du tableau par 3"
   ]
  },
  {
   "cell_type": "code",
   "execution_count": 52,
   "id": "a2e41a5d-01ec-4609-9a32-6cbf230d2989",
   "metadata": {},
   "outputs": [
    {
     "data": {
      "text/plain": [
       "([0, 1, 2, 3, 4, 5, 6, 7, 8, 9, 0, 1, 2, 3, 4, 5],\n",
       " [0, 1, 2, 3, 4, 5, 0, 1, 2, 3, 4, 5, 0, 1, 2, 3, 4, 5])"
      ]
     },
     "execution_count": 52,
     "metadata": {},
     "output_type": "execute_result"
    }
   ],
   "source": [
    "var3, var4"
   ]
  },
  {
   "cell_type": "markdown",
   "id": "6d61d848-879f-4a4d-831f-0a3d297cfba1",
   "metadata": {},
   "source": [
    "## Les dictionnaires en python"
   ]
  },
  {
   "cell_type": "code",
   "execution_count": 58,
   "id": "1316c168-295c-48aa-b3f1-89fc656d7683",
   "metadata": {},
   "outputs": [
    {
     "data": {
      "text/plain": [
       "(dict, dict)"
      ]
     },
     "execution_count": 58,
     "metadata": {},
     "output_type": "execute_result"
    }
   ],
   "source": [
    "# Dictionnaire (Part 1)\n",
    "# Les dictionnaires se base sur la notion de key/value\n",
    "# Notion de clé et de valeur (A une clé => valeur)\n",
    "\n",
    "var  = {} # or var = dict()\n",
    "var2 = dict()\n",
    "tab  = list()\n",
    "\n",
    "type(var), type(var2)"
   ]
  },
  {
   "cell_type": "code",
   "execution_count": 54,
   "id": "91e8a2b0-2078-46e7-b4d0-31b162af2322",
   "metadata": {},
   "outputs": [],
   "source": [
    "# Ajouter des éléments dans le dictionnaire\n",
    "var['name']    = 'Ali'\n",
    "var['age']     = 18\n",
    "var['poids']   = 75.50\n",
    "var['country'] = 'SN'"
   ]
  },
  {
   "cell_type": "code",
   "execution_count": 55,
   "id": "93c52d15-d880-46cc-b4a9-912678fd9797",
   "metadata": {},
   "outputs": [
    {
     "data": {
      "text/plain": [
       "{'name': 'Ali', 'age': 18, 'poids': 75.5, 'country': 'SN'}"
      ]
     },
     "execution_count": 55,
     "metadata": {},
     "output_type": "execute_result"
    }
   ],
   "source": [
    "var"
   ]
  },
  {
   "cell_type": "code",
   "execution_count": 56,
   "id": "9f41f974-b84a-481d-b6dd-39c486cbc682",
   "metadata": {},
   "outputs": [
    {
     "data": {
      "text/plain": [
       "('Ali', 18, 75.5, 'SN')"
      ]
     },
     "execution_count": 56,
     "metadata": {},
     "output_type": "execute_result"
    }
   ],
   "source": [
    "# Afficher les éléments de ce dictionnaire\n",
    "var['name'], var['age'], var['poids'], var['country']"
   ]
  },
  {
   "cell_type": "code",
   "execution_count": 61,
   "id": "5159faee-2c9c-456f-a5b9-6cfd55cfb3bf",
   "metadata": {},
   "outputs": [
    {
     "ename": "IndexError",
     "evalue": "list assignment index out of range",
     "output_type": "error",
     "traceback": [
      "\u001b[0;31m---------------------------------------------------------------------------\u001b[0m",
      "\u001b[0;31mIndexError\u001b[0m                                Traceback (most recent call last)",
      "Input \u001b[0;32mIn [61]\u001b[0m, in \u001b[0;36m<module>\u001b[0;34m\u001b[0m\n\u001b[0;32m----> 1\u001b[0m tab[\u001b[38;5;241m0\u001b[39m] \u001b[38;5;241m=\u001b[39m \u001b[38;5;124m'\u001b[39m\u001b[38;5;124mAli\u001b[39m\u001b[38;5;124m'\u001b[39m\n",
      "\u001b[0;31mIndexError\u001b[0m: list assignment index out of range"
     ]
    }
   ],
   "source": [
    "tab[0] = 'Ali'"
   ]
  },
  {
   "cell_type": "code",
   "execution_count": 66,
   "id": "ca7da609-e81d-4ba5-ab9e-1c3c0d289a35",
   "metadata": {},
   "outputs": [
    {
     "data": {
      "text/plain": [
       "{0: 4, 1: [1, 2, 3, 5], 2: {'tall': 1.85, 'color': 'black'}}"
      ]
     },
     "execution_count": 66,
     "metadata": {},
     "output_type": "execute_result"
    }
   ],
   "source": [
    "# Ajouter des listes et dictionnaires dans un dictionnaire\n",
    "var2[0] = 4\n",
    "var2[1] = [1, 2, 3, 5]\n",
    "var2[2] = {'tall': 1.85, 'color': 'black'}\n",
    "var2"
   ]
  },
  {
   "cell_type": "code",
   "execution_count": 67,
   "id": "4fc529b7-9fc9-422b-8dc5-650ceb9bc563",
   "metadata": {},
   "outputs": [],
   "source": [
    "# Dictionnaire (Part 2)\n",
    "# Quelques propriétés des dictionnaires\n",
    "\n",
    "var2.update({'language': 'Wolof',\n",
    "            'classe': 'DSI006',\n",
    "            'year': 1995, })"
   ]
  },
  {
   "cell_type": "code",
   "execution_count": 68,
   "id": "a2f2e3be-1224-4e52-860e-e19bc35fda96",
   "metadata": {},
   "outputs": [
    {
     "data": {
      "text/plain": [
       "{0: 4,\n",
       " 1: [1, 2, 3, 5],\n",
       " 2: {'tall': 1.85, 'color': 'black'},\n",
       " 'language': 'Wolof',\n",
       " 'classe': 'DSI006',\n",
       " 'year': 1995}"
      ]
     },
     "execution_count": 68,
     "metadata": {},
     "output_type": "execute_result"
    }
   ],
   "source": [
    "var2"
   ]
  },
  {
   "cell_type": "code",
   "execution_count": 69,
   "id": "5006b326-71d3-4345-aa4b-7eff85321427",
   "metadata": {},
   "outputs": [],
   "source": [
    "var2.update({'language': 'Anglais',\n",
    "            'classe': 'DSI007',\n",
    "            'year': 1994, })"
   ]
  },
  {
   "cell_type": "code",
   "execution_count": 70,
   "id": "ead33c8a-0ed9-4a5d-9aa9-95ef05531fb5",
   "metadata": {},
   "outputs": [
    {
     "data": {
      "text/plain": [
       "{0: 4,\n",
       " 1: [1, 2, 3, 5],\n",
       " 2: {'tall': 1.85, 'color': 'black'},\n",
       " 'language': 'Anglais',\n",
       " 'classe': 'DSI007',\n",
       " 'year': 1994}"
      ]
     },
     "execution_count": 70,
     "metadata": {},
     "output_type": "execute_result"
    }
   ],
   "source": [
    "var2"
   ]
  },
  {
   "cell_type": "code",
   "execution_count": 71,
   "id": "0fc64586-5125-4521-8f03-b10ea373093a",
   "metadata": {},
   "outputs": [
    {
     "data": {
      "text/plain": [
       "{0: 4,\n",
       " 1: [1, 2, 3, 5],\n",
       " 2: {'tall': 1.85, 'color': 'black'},\n",
       " 'language': 'Russe',\n",
       " 'classe': 'DSI008',\n",
       " 'year': 1992}"
      ]
     },
     "execution_count": 71,
     "metadata": {},
     "output_type": "execute_result"
    }
   ],
   "source": [
    "# La fonction update ou | mettent à jour les éléments du dictionnaires\n",
    "# Si ces éléments existent dans la liste il met à jour\n",
    "# Sinon il ajoute les nouveaux éléments avec leur clé\n",
    "var4 = {'language': 'Russe','classe': 'DSI008','year': 1992}\n",
    "var2 = var2 | var4\n",
    "var2"
   ]
  },
  {
   "cell_type": "code",
   "execution_count": 72,
   "id": "ef27e1a8-2693-4fcb-a3b5-38648b596e0d",
   "metadata": {},
   "outputs": [
    {
     "data": {
      "text/plain": [
       "dict_keys([0, 1, 2, 'language', 'classe', 'year'])"
      ]
     },
     "execution_count": 72,
     "metadata": {},
     "output_type": "execute_result"
    }
   ],
   "source": [
    "# Dictionnaire (Part 3)\n",
    "# Quelques fonction sur les dictionnaires\n",
    "\n",
    "# Afficher toutes les clés du dictionnaire\n",
    "var2.keys()"
   ]
  },
  {
   "cell_type": "code",
   "execution_count": 73,
   "id": "49eec6e9-b345-4700-b539-906a7b472d6a",
   "metadata": {},
   "outputs": [
    {
     "data": {
      "text/plain": [
       "dict_values([4, [1, 2, 3, 5], {'tall': 1.85, 'color': 'black'}, 'Russe', 'DSI008', 1992])"
      ]
     },
     "execution_count": 73,
     "metadata": {},
     "output_type": "execute_result"
    }
   ],
   "source": [
    "# Afficher toutes les valeurs du dictionnaire\n",
    "var2.values()"
   ]
  },
  {
   "cell_type": "code",
   "execution_count": 74,
   "id": "5cf28705-f092-438f-8d06-2bfda395d11b",
   "metadata": {},
   "outputs": [
    {
     "data": {
      "text/plain": [
       "[0, 1, 2, 'language', 'classe', 'year']"
      ]
     },
     "execution_count": 74,
     "metadata": {},
     "output_type": "execute_result"
    }
   ],
   "source": [
    "list(var2.keys())"
   ]
  },
  {
   "cell_type": "code",
   "execution_count": 75,
   "id": "b80f352a-1742-49d9-b8f4-718f7c403107",
   "metadata": {},
   "outputs": [
    {
     "data": {
      "text/plain": [
       "[4, [1, 2, 3, 5], {'tall': 1.85, 'color': 'black'}, 'Russe', 'DSI008', 1992]"
      ]
     },
     "execution_count": 75,
     "metadata": {},
     "output_type": "execute_result"
    }
   ],
   "source": [
    "list(var2.values())"
   ]
  },
  {
   "cell_type": "code",
   "execution_count": 76,
   "id": "d32c3de0-2107-4a85-93e1-309837404893",
   "metadata": {},
   "outputs": [
    {
     "data": {
      "text/plain": [
       "dict_items([(0, 4), (1, [1, 2, 3, 5]), (2, {'tall': 1.85, 'color': 'black'}), ('language', 'Russe'), ('classe', 'DSI008'), ('year', 1992)])"
      ]
     },
     "execution_count": 76,
     "metadata": {},
     "output_type": "execute_result"
    }
   ],
   "source": [
    "# Afficher les clés et les valeurs en même temps\n",
    "var2.items()"
   ]
  },
  {
   "cell_type": "code",
   "execution_count": 77,
   "id": "97e4af50-7bba-4521-a052-c23c2af68097",
   "metadata": {},
   "outputs": [
    {
     "data": {
      "text/plain": [
       "[(0, 4),\n",
       " (1, [1, 2, 3, 5]),\n",
       " (2, {'tall': 1.85, 'color': 'black'}),\n",
       " ('language', 'Russe'),\n",
       " ('classe', 'DSI008'),\n",
       " ('year', 1992)]"
      ]
     },
     "execution_count": 77,
     "metadata": {},
     "output_type": "execute_result"
    }
   ],
   "source": [
    "list(var2.items())"
   ]
  },
  {
   "cell_type": "code",
   "execution_count": 78,
   "id": "2f3a0c9d-ca6f-4b3f-91d9-126f37535c6c",
   "metadata": {},
   "outputs": [],
   "source": [
    "# Supprimer un élément du dictionnaire (Méthode 1)\n",
    "# pour supprimer dans ce cas on utilise la clé\n",
    "del var2[0]"
   ]
  },
  {
   "cell_type": "code",
   "execution_count": 79,
   "id": "93a0722e-1dec-416d-b480-326592a88758",
   "metadata": {},
   "outputs": [
    {
     "data": {
      "text/plain": [
       "{1: [1, 2, 3, 5],\n",
       " 2: {'tall': 1.85, 'color': 'black'},\n",
       " 'language': 'Russe',\n",
       " 'classe': 'DSI008',\n",
       " 'year': 1992}"
      ]
     },
     "execution_count": 79,
     "metadata": {},
     "output_type": "execute_result"
    }
   ],
   "source": [
    "var2"
   ]
  },
  {
   "cell_type": "code",
   "execution_count": 81,
   "id": "4f095058-2a51-4ae8-b59c-46e0f666c33c",
   "metadata": {},
   "outputs": [
    {
     "data": {
      "text/plain": [
       "[1, 2, 3, 5]"
      ]
     },
     "execution_count": 81,
     "metadata": {},
     "output_type": "execute_result"
    }
   ],
   "source": [
    "# Supprimer un élément du dictionnaire (Méthode 2)\n",
    "# Utilisation de la méthode pop pour supprimer a partir de l'indexe\n",
    "var2.pop(1)"
   ]
  },
  {
   "cell_type": "code",
   "execution_count": 82,
   "id": "ae896885-9a35-4598-bcab-d4de616e945f",
   "metadata": {},
   "outputs": [],
   "source": [
    "#Exercice\n",
    "# Créér un dictionnaire contenant:\n",
    "# La valeur de vôtre nom assignée à une clé fullname\n",
    "# La valeur de vôtre poids assignée à une clé weight\n",
    "# La valeur de vôtre taille assignée à une clé tall\n",
    "# Puis calcule l'IMC (indice de masse corporelle)\n",
    "# Formule= Poids/(taille*taille) en kg/m2\n",
    "# Exprimer ce résultat en g/m2, en g/mm2\n",
    "# et stocker ces trois résultats dans une liste\n",
    "# et stocker cette liste dans le dictionnaire de départ sous la clé <imc>"
   ]
  },
  {
   "cell_type": "code",
   "execution_count": 85,
   "id": "c7280dcb-290f-4212-b9b0-65c8937244df",
   "metadata": {},
   "outputs": [
    {
     "data": {
      "text/plain": [
       "{'fullname': 'Eric Djiky',\n",
       " 'weight': 70,\n",
       " 'tall': 1.75,\n",
       " 'IMC': [22.857142857142858, 22857.14285714286, 0.022857142857142857]}"
      ]
     },
     "execution_count": 85,
     "metadata": {},
     "output_type": "execute_result"
    }
   ],
   "source": [
    "# Correction faite par Eric Djiky\n",
    "person = {}\n",
    "\n",
    "person['fullname'] = 'Eric Djiky'\n",
    "person['weight']   = 70\n",
    "person['tall']     = 1.75\n",
    "imc                = person['weight'] / (person['tall'] * person['tall'])\n",
    "imc2               = (person['weight'] * 1000) / (person['tall'] * person['tall'])\n",
    "imc3               = (person['weight'] * 1000) / ((person['tall'] * 1000) * (person['tall'] * 1000))\n",
    "\n",
    "person['IMC']      = [imc, imc2, imc3]\n",
    "person"
   ]
  },
  {
   "cell_type": "code",
   "execution_count": 87,
   "id": "ece85331-5bd9-4cef-88d2-4ade291a0ade",
   "metadata": {},
   "outputs": [
    {
     "data": {
      "text/plain": [
       "{'fullnam': 'Maodo',\n",
       " 'weight': 78,\n",
       " 'tall': 1.75,\n",
       " 'imc': [25.46938775510204, 25469.38775510204, 25.46938775510204]}"
      ]
     },
     "execution_count": 87,
     "metadata": {},
     "output_type": "execute_result"
    }
   ],
   "source": [
    "# Correction faite par Maodo Sene\n",
    "\n",
    "# Créér un dictionnaire contenant:\n",
    "mes_infos = {}\n",
    "mes_infos['fullnam']  ='Maodo'\n",
    "mes_infos['weight']   = 78\n",
    "mes_infos['tall']     = 1.75\n",
    "\n",
    "#calcule l'IMC (indice de masse corporelle) en kg/m²\n",
    "IMC1 = mes_infos['weight']/(mes_infos['tall']**2)\n",
    "\n",
    "# Exprimer ce résultat en g/m2\n",
    "IMC2 = (mes_infos['weight']*1000)/(mes_infos['tall']**2)\n",
    "\n",
    "# Exprimer ce résultat en g/mm2\n",
    "IMC3 = (mes_infos['weight']*1000)/((mes_infos['tall']**2)*1000)\n",
    "\n",
    "imc  = {'imc': [IMC1, IMC2, IMC3]}\n",
    "mes_infos.update(imc)\n",
    "mes_infos"
   ]
  },
  {
   "cell_type": "code",
   "execution_count": 86,
   "id": "9c1cb1f6-40d7-457f-8aac-81db502b2549",
   "metadata": {},
   "outputs": [],
   "source": [
    "# Exercice2\n",
    "fruits = ['orange', 'banane', 'kiwi', 'papaye', 'pomme', 'pomme']\n",
    "\n",
    "# Afficher la taille du tableau avec la fonction len:\n",
    "# Exemple Liste1 = [1,2] => longueur = len(Liste1)\n",
    "\n",
    "# Compter le nombre d'occurence de POMME:\n",
    "# Exemple Liste1 = ['tata', 'tata', 'tati'] => occurence = Liste1.count('tata')\n",
    "\n",
    "# Ordonner la liste avec REVERSE\n",
    "# Exemple Liste1 = [1,2,3] => Liste1Reverse = Liste1.reverse()\n",
    "\n",
    "# Trier les éléments du tableau avec la fonction SORTED\n",
    "# Exemple Liste1   = [1,2,3]\n",
    "# Liste1SortedAsc  = sorted(Liste1, reverse=Fasle)\n",
    "# Liste1SortedDesc = sorted(Liste2, reverse=True)\n",
    "\n",
    "# Supprimer l'élément ORANGE de la liste de départ\n",
    "# Ajouter dans la liste le résultat de l'exercice précédent avec l'IMC"
   ]
  },
  {
   "cell_type": "code",
   "execution_count": 88,
   "id": "027cc0bf-6754-4e68-acee-8207f4ab68b4",
   "metadata": {},
   "outputs": [
    {
     "data": {
      "text/plain": [
       "(6,\n",
       " 2,\n",
       " ['banane', 'kiwi', 'orange', 'papaye', 'pomme', 'pomme'],\n",
       " ['pomme', 'pomme', 'papaye', 'orange', 'kiwi', 'banane'])"
      ]
     },
     "execution_count": 88,
     "metadata": {},
     "output_type": "execute_result"
    }
   ],
   "source": [
    "# Correction Exercice2 fait par Wilfried\n",
    "fruits = ['orange', 'banane', 'kiwi', 'papaye', 'pomme', 'pomme']\n",
    "\n",
    "# Afficher la taille du tableau avec la fonction len:\n",
    "# Exemple Liste1 = [1,2] => longueur = len(Liste1)\n",
    "lenghtFruit = len(fruits)\n",
    "\n",
    "# Compter le nombre d'occurence de POMME:\n",
    "# Exemple Liste1 = ['tata', 'tata', 'tati'] => occurence = Liste1.count('tata')\n",
    "occurencePomme = fruits.count('pomme')\n",
    "\n",
    "# Trier les éléments du tableau avec la fonction SORTED\n",
    "# Exemple Liste1   = [1,2,3]\n",
    "# Liste1SortedAsc  = sorted(Liste1, reverse=Fasle)\n",
    "fruitsSortedAsc = sorted(fruits, reverse=False)\n",
    "\n",
    "# Liste1SortedDesc = sorted(Liste2, reverse=True)\n",
    "fruitsSortedDesc = sorted(fruits, reverse=True)\n",
    "\n",
    "lenghtFruit,occurencePomme,fruitsSortedAsc,fruitsSortedDesc"
   ]
  },
  {
   "cell_type": "code",
   "execution_count": 89,
   "id": "8804fd09-8681-4fd8-ac62-d46d41aa2a0c",
   "metadata": {},
   "outputs": [],
   "source": [
    "# Supprimer l'élément ORANGE de la liste de départ\n",
    "del fruits[0]"
   ]
  },
  {
   "cell_type": "code",
   "execution_count": 91,
   "id": "1bfeba8a-b56a-4719-94c3-11c3f91747e1",
   "metadata": {},
   "outputs": [],
   "source": [
    "# Ajouter dans la liste le résultat de l'exercice précédent avec l'IMC\n",
    "fruits.extend(person['IMC'])"
   ]
  },
  {
   "cell_type": "code",
   "execution_count": 92,
   "id": "862e87df-7353-4412-8d11-2c038191ef3c",
   "metadata": {},
   "outputs": [
    {
     "data": {
      "text/plain": [
       "['banane',\n",
       " 'kiwi',\n",
       " 'papaye',\n",
       " 'pomme',\n",
       " 'pomme',\n",
       " 22.857142857142858,\n",
       " 22857.14285714286,\n",
       " 0.022857142857142857]"
      ]
     },
     "execution_count": 92,
     "metadata": {},
     "output_type": "execute_result"
    }
   ],
   "source": [
    "fruits"
   ]
  },
  {
   "cell_type": "code",
   "execution_count": 93,
   "id": "c4bbd09a-db95-49d1-abf5-750c05b3fe39",
   "metadata": {},
   "outputs": [],
   "source": [
    "fruits.reverse()"
   ]
  },
  {
   "cell_type": "code",
   "execution_count": 94,
   "id": "cc091278-c33e-4754-a51c-d5759b2cf49e",
   "metadata": {},
   "outputs": [
    {
     "data": {
      "text/plain": [
       "[0.022857142857142857,\n",
       " 22857.14285714286,\n",
       " 22.857142857142858,\n",
       " 'pomme',\n",
       " 'pomme',\n",
       " 'papaye',\n",
       " 'kiwi',\n",
       " 'banane']"
      ]
     },
     "execution_count": 94,
     "metadata": {},
     "output_type": "execute_result"
    }
   ],
   "source": [
    "fruits"
   ]
  },
  {
   "cell_type": "markdown",
   "id": "f7a71356-3906-47bc-a253-42fcec23bb40",
   "metadata": {},
   "source": [
    "## Les tuples en python"
   ]
  },
  {
   "cell_type": "code",
   "execution_count": 100,
   "id": "842c5e89-4105-4542-90ee-85c1f73d87b2",
   "metadata": {},
   "outputs": [],
   "source": [
    "# Tuple (Part 1)\n",
    "\n",
    "var1 = ()   # ou var1 = tuple()\n",
    "var2 = (1, 2, 3, 4, 5)\n",
    "var3 = (x for x in var2)\n",
    "var4 = (x for x in range(6))\n",
    "\n",
    "var6 = [x for x in var2]\n",
    "var7 = [x for x in range(6)]"
   ]
  },
  {
   "cell_type": "code",
   "execution_count": 101,
   "id": "1511d6f2-10aa-4987-89b1-dab545e3adac",
   "metadata": {},
   "outputs": [
    {
     "data": {
      "text/plain": [
       "((1, 2, 3, 4, 5),\n",
       " <generator object <genexpr> at 0x7ffec88ec430>,\n",
       " <generator object <genexpr> at 0x7ffec88ec580>)"
      ]
     },
     "execution_count": 101,
     "metadata": {},
     "output_type": "execute_result"
    }
   ],
   "source": [
    "# Afficher les valeurs des tuples var2, var3, var4\n",
    "var2, var3, var4"
   ]
  },
  {
   "cell_type": "code",
   "execution_count": 102,
   "id": "66ba93bc-32b4-4266-864c-5c32894fe62c",
   "metadata": {},
   "outputs": [
    {
     "data": {
      "text/plain": [
       "([1, 2, 3, 4, 5], [0, 1, 2, 3, 4, 5])"
      ]
     },
     "execution_count": 102,
     "metadata": {},
     "output_type": "execute_result"
    }
   ],
   "source": [
    "var6, var7"
   ]
  },
  {
   "cell_type": "code",
   "execution_count": 103,
   "id": "42ac6494-46c1-458b-b929-6a735639008a",
   "metadata": {},
   "outputs": [
    {
     "data": {
      "text/plain": [
       "[1, 2, 3, 4, 5]"
      ]
     },
     "execution_count": 103,
     "metadata": {},
     "output_type": "execute_result"
    }
   ],
   "source": [
    "var3 = list(var3) # caster: forcer en un type donné\n",
    "var3"
   ]
  },
  {
   "cell_type": "code",
   "execution_count": 105,
   "id": "7e37e9a5-63f7-40f2-9bb2-5059a08fcd72",
   "metadata": {},
   "outputs": [
    {
     "data": {
      "text/plain": [
       "(1, 2, 3, 4, 5)"
      ]
     },
     "execution_count": 105,
     "metadata": {},
     "output_type": "execute_result"
    }
   ],
   "source": [
    "var3 = tuple(var3) # caster: forcer en un type donné\n",
    "var3"
   ]
  },
  {
   "cell_type": "code",
   "execution_count": 1,
   "id": "19d87519-c0fe-48f1-950c-40c248969484",
   "metadata": {},
   "outputs": [
    {
     "data": {
      "text/plain": [
       "tuple"
      ]
     },
     "execution_count": 1,
     "metadata": {},
     "output_type": "execute_result"
    }
   ],
   "source": [
    "# déclaration des Tuples (Part 2)\n",
    "tampon = 12344, 76171, 'Sénégal', 'CAN 2022'\n",
    "type(tampon)"
   ]
  },
  {
   "cell_type": "code",
   "execution_count": 2,
   "id": "9a34d261-1e54-4ac7-96a9-cac242fed5da",
   "metadata": {},
   "outputs": [
    {
     "data": {
      "text/plain": [
       "(12344, 76171, 'Sénégal')"
      ]
     },
     "execution_count": 2,
     "metadata": {},
     "output_type": "execute_result"
    }
   ],
   "source": [
    "# Afficher les éléments d'un tuple par les indexes\n",
    "tampon[0], tampon[1], tampon[2]"
   ]
  },
  {
   "cell_type": "code",
   "execution_count": 3,
   "id": "cd16f8d5-9938-4d9f-a673-eea9ec2714d3",
   "metadata": {},
   "outputs": [
    {
     "data": {
      "text/plain": [
       "((12344, 76171, 'Sénégal', 'CAN 2022'), [1, 2, 778, 100], 188.0, 'Egypte')"
      ]
     },
     "execution_count": 3,
     "metadata": {},
     "output_type": "execute_result"
    }
   ],
   "source": [
    "# Les tuples peuvent contenir tous types de variables comme les Listes\n",
    "tampon2 = (tampon, [1,2,778,100], 188., 'Egypte')\n",
    "tampon2"
   ]
  },
  {
   "cell_type": "code",
   "execution_count": 4,
   "id": "961aa723-14bf-4f4c-bbc5-8e4b160dd206",
   "metadata": {},
   "outputs": [
    {
     "ename": "TypeError",
     "evalue": "'tuple' object does not support item assignment",
     "output_type": "error",
     "traceback": [
      "\u001b[0;31m---------------------------------------------------------------------------\u001b[0m",
      "\u001b[0;31mTypeError\u001b[0m                                 Traceback (most recent call last)",
      "Input \u001b[0;32mIn [4]\u001b[0m, in \u001b[0;36m<module>\u001b[0;34m\u001b[0m\n\u001b[0;32m----> 1\u001b[0m tampon[\u001b[38;5;241m0\u001b[39m] \u001b[38;5;241m=\u001b[39m \u001b[38;5;241m8890\u001b[39m\n",
      "\u001b[0;31mTypeError\u001b[0m: 'tuple' object does not support item assignment"
     ]
    }
   ],
   "source": [
    "# Erreur : 'tuple' object does not support item assignment\n",
    "# Les tuples ne supportent pas l'assignation \n",
    "# Les tuples sont immuables.\n",
    "tampon[0] = 8890"
   ]
  },
  {
   "cell_type": "code",
   "execution_count": 5,
   "id": "c998f9fd-3fc0-4212-8d90-7e71116eb863",
   "metadata": {},
   "outputs": [
    {
     "data": {
      "text/plain": [
       "((), ('Plat de Mafé',), tuple, tuple)"
      ]
     },
     "execution_count": 5,
     "metadata": {},
     "output_type": "execute_result"
    }
   ],
   "source": [
    "# Déclaration d'un tuple vide\n",
    "# Déclaration par ajout d'une virgule\n",
    "tampon3 = ()\n",
    "singleton = 'Plat de Mafé', # remarquez la virgule à la fin\n",
    "\n",
    "tampon3, singleton, type(tampon3), type(singleton)"
   ]
  },
  {
   "cell_type": "code",
   "execution_count": 9,
   "id": "b7ddc18b-cbc1-4703-8094-43c79a5a0704",
   "metadata": {},
   "outputs": [
    {
     "data": {
      "text/plain": [
       "'Papa'"
      ]
     },
     "execution_count": 9,
     "metadata": {},
     "output_type": "execute_result"
    }
   ],
   "source": [
    "tampon4 = ('Papa')\n",
    "tampon5 = ('Papa',)\n",
    "\n",
    "tampon4"
   ]
  },
  {
   "cell_type": "code",
   "execution_count": 10,
   "id": "b6befedb-9ef5-4f28-ad8d-0febcfcf9b2f",
   "metadata": {},
   "outputs": [
    {
     "data": {
      "text/plain": [
       "('Papa',)"
      ]
     },
     "execution_count": 10,
     "metadata": {},
     "output_type": "execute_result"
    }
   ],
   "source": [
    "tampon5"
   ]
  },
  {
   "cell_type": "code",
   "execution_count": 11,
   "id": "f5f470de-5333-4cb5-bf13-d1341ceb9b5e",
   "metadata": {},
   "outputs": [
    {
     "data": {
      "text/plain": [
       "(12344, 76171, 'Sénégal', 'CAN 2022')"
      ]
     },
     "execution_count": 11,
     "metadata": {},
     "output_type": "execute_result"
    }
   ],
   "source": [
    "# Grouper ou dégrouper des valeurs\n",
    "# Pack or Unpack values or data\n",
    "tampon = 12344, 76171, 'Sénégal', 'CAN 2022' # pack\n",
    "\n",
    "tampon"
   ]
  },
  {
   "cell_type": "code",
   "execution_count": 12,
   "id": "558d3c44-41d1-4b4e-affa-b78f89adf3d2",
   "metadata": {},
   "outputs": [],
   "source": [
    "x, y, w, z = tampon # Unpack"
   ]
  },
  {
   "cell_type": "code",
   "execution_count": 14,
   "id": "c5244020-e335-45c2-9127-86d4cb5ee736",
   "metadata": {},
   "outputs": [
    {
     "data": {
      "text/plain": [
       "12344"
      ]
     },
     "execution_count": 14,
     "metadata": {},
     "output_type": "execute_result"
    }
   ],
   "source": [
    "x"
   ]
  },
  {
   "cell_type": "code",
   "execution_count": 15,
   "id": "3a63946c-08aa-4fa5-aafe-43c35af7ad9f",
   "metadata": {},
   "outputs": [
    {
     "data": {
      "text/plain": [
       "76171"
      ]
     },
     "execution_count": 15,
     "metadata": {},
     "output_type": "execute_result"
    }
   ],
   "source": [
    "y"
   ]
  },
  {
   "cell_type": "code",
   "execution_count": 16,
   "id": "a4bf2b69-b215-4b21-88bb-c7bb7edcd89b",
   "metadata": {},
   "outputs": [
    {
     "data": {
      "text/plain": [
       "'Sénégal'"
      ]
     },
     "execution_count": 16,
     "metadata": {},
     "output_type": "execute_result"
    }
   ],
   "source": [
    "w"
   ]
  },
  {
   "cell_type": "code",
   "execution_count": 17,
   "id": "a648f314-006d-425e-85d4-25780f8780f7",
   "metadata": {},
   "outputs": [
    {
     "data": {
      "text/plain": [
       "'CAN 2022'"
      ]
     },
     "execution_count": 17,
     "metadata": {},
     "output_type": "execute_result"
    }
   ],
   "source": [
    "z"
   ]
  },
  {
   "cell_type": "markdown",
   "id": "e12f199f-41f8-4186-a6e8-499e36bf6710",
   "metadata": {},
   "source": [
    "# Structures conditionnelles "
   ]
  },
  {
   "cell_type": "markdown",
   "id": "9dbd061a-3bc3-41a0-86bd-35044e4ac12e",
   "metadata": {},
   "source": [
    "## Structure conditionnelle _if_"
   ]
  },
  {
   "cell_type": "code",
   "execution_count": 23,
   "id": "792e3bfc-32e4-42ad-baa2-54d6f61d4b86",
   "metadata": {},
   "outputs": [],
   "source": [
    "# Les structures conditionnelles permettent d'évaluer une condition\n",
    "# Syntaxe de if:\n",
    "# if (condition) :\n",
    "#     instruction1\n",
    "#     instruction2\n",
    "#     instruction3\n",
    "#     ............\n",
    "#     instructionN\n",
    "# elif (condition):\n",
    "#     instruction1\n",
    "#     instruction2\n",
    "#     instruction3\n",
    "#     ............\n",
    "#     instructionN\n",
    "# else:\n",
    "#     instruction1\n",
    "#     instruction2\n",
    "#     instruction3\n",
    "#     ............\n",
    "#     instructionN"
   ]
  },
  {
   "cell_type": "code",
   "execution_count": 20,
   "id": "62eadac5-9bf4-4d8a-99bf-64cb995558d6",
   "metadata": {},
   "outputs": [
    {
     "name": "stdout",
     "output_type": "stream",
     "text": [
      "Majeur\n"
     ]
    }
   ],
   "source": [
    "# Condition d'évalution: Si age > 18 ou afficher Majeur dans le cas contraire affiché Mineur\n",
    "# pour afficher en python on utilise la fonction I/O print\n",
    "age = 20\n",
    "\n",
    "if age > 18:\n",
    "    print('Majeur')\n",
    "else:\n",
    "    print('Mineur')"
   ]
  },
  {
   "cell_type": "code",
   "execution_count": 21,
   "id": "8d04c0e5-8bb9-496b-b851-1e3455c778c3",
   "metadata": {},
   "outputs": [
    {
     "name": "stdout",
     "output_type": "stream",
     "text": [
      "Mineur\n"
     ]
    }
   ],
   "source": [
    "age = 16\n",
    "\n",
    "if age > 18:\n",
    "    print('Majeur')\n",
    "else:\n",
    "    print('Mineur')"
   ]
  },
  {
   "cell_type": "code",
   "execution_count": 22,
   "id": "1d4f2453-18ac-4662-9c08-4d408857efad",
   "metadata": {},
   "outputs": [],
   "source": [
    "# Exercice\n",
    "# reprenez les données de l'IMC de l'exercice passé\n",
    "# Puis d'après les informations officielles concernant cet indicateur\n",
    "# Si IMC < 18.5 afficher 'Insuffisance pondérale'\n",
    "# Si IMC compris entre 18.5 et 25 afficher 'Corpulance normale'\n",
    "# Si IMC compris entre 25 à 30 afficher 'Surpoids'\n",
    "# Si IMC compris entre 30 à 40 afficher 'obésité'\n",
    "\n",
    "# Refaite le même exercice pour les individus suivants:\n",
    "individu1 = {'poids': 75, 'taille': 1.68 }\n",
    "individu2 = {'poids': 105, 'taille': 1.68 }\n",
    "individu3 = {'poids': 88, 'taille': 1.88 }\n",
    "individu4 = {'poids': 65, 'taille': 1.78 }"
   ]
  },
  {
   "cell_type": "markdown",
   "id": "57d8d616-a4c4-484f-bd7f-a664e98de00b",
   "metadata": {},
   "source": [
    "## Boucle for"
   ]
  },
  {
   "cell_type": "code",
   "execution_count": 24,
   "id": "63b61194-d2c8-43cc-98b4-8c3af7561a00",
   "metadata": {},
   "outputs": [],
   "source": [
    "# Les boucles permettent de parcourir un itérable et d'itérer selon les valeurs successives contenues dans l'itérables\n",
    "\n",
    "# Syntaxe de for: (Méthode 1)\n",
    "# for index in index in range(len(tableau)):\n",
    "#     print(array[index])\n",
    "\n",
    "# Syntaxe de for: (Méthode 2)\n",
    "# for value in array:\n",
    "#     print(value)"
   ]
  },
  {
   "cell_type": "code",
   "execution_count": 31,
   "id": "73da07ad-deb6-4a28-9dc3-1334140f8bc7",
   "metadata": {},
   "outputs": [
    {
     "name": "stdout",
     "output_type": "stream",
     "text": [
      "1 2 4 55 66 100 "
     ]
    }
   ],
   "source": [
    "# Exemple (Méthode 1):\n",
    "tableau = [1, 2, 4, 55, 66, 100]\n",
    "\n",
    "for index in range(len(tableau)):\n",
    "    print(tableau[index], end=' ')"
   ]
  },
  {
   "cell_type": "code",
   "execution_count": 30,
   "id": "fecc3414-2707-4f99-adfe-e98fd15c887a",
   "metadata": {},
   "outputs": [
    {
     "name": "stdout",
     "output_type": "stream",
     "text": [
      "1 2 4 55 66 100 "
     ]
    }
   ],
   "source": [
    "# Exemple (Méthode 2):\n",
    "tableau = [1, 2, 4, 55, 66, 100]\n",
    "\n",
    "for value in tableau:\n",
    "    print(value, end=' ')"
   ]
  },
  {
   "cell_type": "code",
   "execution_count": 32,
   "id": "4dfd22f7-edf0-4558-b2dd-40d6b04ca436",
   "metadata": {},
   "outputs": [
    {
     "name": "stdout",
     "output_type": "stream",
     "text": [
      "0 1\n",
      "1 2\n",
      "2 4\n",
      "3 55\n",
      "4 66\n",
      "5 100\n"
     ]
    }
   ],
   "source": [
    "# Exemple (Méthode 3):\n",
    "tableau = [1, 2, 4, 55, 66, 100]\n",
    "\n",
    "# Avec la fonction enumerate(iterable) on récupère et les indexes et les valeurs\n",
    "# Pack et de Unpack\n",
    "for index, value in enumerate(tableau):\n",
    "    print(index, value)"
   ]
  },
  {
   "cell_type": "code",
   "execution_count": 33,
   "id": "07ae11af-9825-4f20-9467-597006592505",
   "metadata": {},
   "outputs": [],
   "source": [
    "# Exercice\n",
    "start_list = [x for x in range(201)]\n",
    "\n",
    "# Déterminer les valeurs paires de start_list\n",
    "# Déterminer les valeurs impaires de start_list\n",
    "# Stocker les valeurs paires dans une nouvelle liste PAIRES\n",
    "# Stocker les valeurs impaires dans une nouvelle liste IMPAIRES\n",
    "# Pour évaluer la parité on utilise le MODULO PAR 2 (N%2 ==0)\n",
    "# Puis une fois déterminer appliquer un REVERSE aux deux nouvelles liste pour les afficher en sens inverse"
   ]
  },
  {
   "cell_type": "code",
   "execution_count": 34,
   "id": "763640d7-dcfb-40c9-8deb-4d5f368b333c",
   "metadata": {},
   "outputs": [],
   "source": [
    "# Correction\n",
    "PAIRES = [x for x in start_list if x%2 == 0]\n",
    "PAIRES.reverse()\n",
    "IMPAIRES = [x for x in start_list if x%2 != 0]\n",
    "IMPAIRES.reverse()"
   ]
  },
  {
   "cell_type": "code",
   "execution_count": 35,
   "id": "36cdd5c9-2b6b-4ec9-9e07-66465acfb493",
   "metadata": {},
   "outputs": [],
   "source": [
    "# Exercice\n",
    "start_list = [1, 200, 3, 6, 1888, 32, 56, 2000]\n",
    "\n",
    "# Déterminer le minimum de cette liste en utilisant la boucle for\n",
    "# Déterminer le maximum de cette liste en utilisant la boucle for\n",
    "# Ordonner cette liste\n",
    "# Afficher cette liste"
   ]
  },
  {
   "cell_type": "code",
   "execution_count": 36,
   "id": "ee53007e-77de-420b-ac5e-e8d488efcd84",
   "metadata": {},
   "outputs": [
    {
     "name": "stdout",
     "output_type": "stream",
     "text": [
      "Minimum de la liste : 1\n"
     ]
    }
   ],
   "source": [
    "# Correction\n",
    "# Méthode simple à complexité algorithmique faible\n",
    "minimum = start_list[0]\n",
    "\n",
    "for val in start_list:\n",
    "    if val < minimum:\n",
    "        minimum = val\n",
    "        \n",
    "print('Minimum de la liste :', minimum)"
   ]
  },
  {
   "cell_type": "code",
   "execution_count": 37,
   "id": "8791cf2e-bc49-4bea-a5a2-985eb0e22ee3",
   "metadata": {},
   "outputs": [
    {
     "name": "stdout",
     "output_type": "stream",
     "text": [
      "Maximum de la liste: 2000\n"
     ]
    }
   ],
   "source": [
    "maximum = start_list[0]\n",
    "\n",
    "for val in start_list:\n",
    "    if maximum < val:\n",
    "        maximum = val\n",
    "        \n",
    "print('Maximum de la liste:', maximum)"
   ]
  },
  {
   "cell_type": "code",
   "execution_count": 38,
   "id": "9bfca294-4a07-4cbb-b7ed-7d9e92a07879",
   "metadata": {},
   "outputs": [
    {
     "name": "stdout",
     "output_type": "stream",
     "text": [
      "Liste ordonnée : [1, 3, 6, 32, 56, 200, 1888, 2000]\n"
     ]
    }
   ],
   "source": [
    "start_list.sort()\n",
    "print('Liste ordonnée :', start_list)"
   ]
  },
  {
   "cell_type": "code",
   "execution_count": 40,
   "id": "32cfc68c-a58a-49c7-9f5e-04053d0aae87",
   "metadata": {},
   "outputs": [
    {
     "data": {
      "text/plain": [
       "(1, 2000, [1, 3, 6, 32, 56, 200, 1888, 2000])"
      ]
     },
     "execution_count": 40,
     "metadata": {},
     "output_type": "execute_result"
    }
   ],
   "source": [
    "# Correction avec min et max en python\n",
    "# Utilisation des fonctions de base de python\n",
    "start_list = [1, 200, 3, 6, 1888, 32, 56, 2000]\n",
    "\n",
    "minimum  = min(start_list)\n",
    "maximum  = max(start_list)\n",
    "start_list.sort()\n",
    "\n",
    "minimum, maximum, start_list"
   ]
  },
  {
   "cell_type": "code",
   "execution_count": 43,
   "id": "5c4305de-2d6c-4d78-a975-4d57fe023d94",
   "metadata": {},
   "outputs": [
    {
     "name": "stdout",
     "output_type": "stream",
     "text": [
      "Minimum:  1\n",
      "Maximum:  2000\n",
      "Liste triée:  [1, 3, 6, 32, 56, 200, 1888, 2000]\n"
     ]
    }
   ],
   "source": [
    "# Correction naive et moins efficace\n",
    "# Méthode simple mais à complexité algorithmique élévée\n",
    "start_list = [1, 200, 3, 6, 1888, 32, 56, 2000]\n",
    "\n",
    "start_list.sort()\n",
    "\n",
    "print('Minimum: ', start_list[0])\n",
    "print('Maximum: ', start_list[-1])\n",
    "print('Liste triée: ', start_list)"
   ]
  },
  {
   "cell_type": "markdown",
   "id": "0054bc0d-848d-487f-a831-8bff80a36d93",
   "metadata": {},
   "source": [
    "## La boucle while"
   ]
  },
  {
   "cell_type": "code",
   "execution_count": 44,
   "id": "cf0f46c7-edf0-43a8-afb3-8fe26d28f851",
   "metadata": {},
   "outputs": [
    {
     "name": "stdout",
     "output_type": "stream",
     "text": [
      "0 1 2 3 4 5 6 7 8 9 "
     ]
    }
   ],
   "source": [
    "# La boucle while permet d'itérer comme le fait la boucle for \n",
    "# La particularité c'est quelle s'appuie sur une condition\n",
    "# Syntaxe \n",
    "# while (condition)    Tant que c'est vrai\n",
    "#     instruction1\n",
    "#     instruction2\n",
    "#     instruction3\n",
    "#     invalider la condition pour sortir de la boucle en cas contraire à la condition évaluer\n",
    "\n",
    "# Exemple:\n",
    "var = range(10)\n",
    "checker = 0\n",
    "while checker < 10:\n",
    "    print(var[checker], end=' ')\n",
    "    checker += 1"
   ]
  },
  {
   "cell_type": "markdown",
   "id": "f8b507db-a6f4-4fb8-9320-a6c0b93c8c52",
   "metadata": {},
   "source": [
    "# Manipulation des strings"
   ]
  },
  {
   "cell_type": "code",
   "execution_count": 45,
   "id": "7efd4719-c9f4-4952-a741-5b54bed62579",
   "metadata": {},
   "outputs": [
    {
     "data": {
      "text/plain": [
       "('NOUS SOMMES EN COURS DSI006 AVEC DIT',\n",
       " 'nous sommes en cours dsi006 avec dit',\n",
       " 'Nous sommes en cours dsi006 avec dit',\n",
       " 'Nous Sommes En Cours Dsi006 Avec Dit')"
      ]
     },
     "execution_count": 45,
     "metadata": {},
     "output_type": "execute_result"
    }
   ],
   "source": [
    "# Strings sont des chaines de caractères\n",
    "# on peut les manipuler aussi presque des structures de données \n",
    "# Structures de données comme les listes les tuples etc...\n",
    "\n",
    "string = 'Nous sommes en cours DSI006 avec DIT'\n",
    "\n",
    "# utilisation de quelques fonctions usuelles\n",
    "\n",
    "UPPER      = string.upper()\n",
    "LOWER      = string.lower()\n",
    "CAPITALIZE = string.capitalize()\n",
    "TITLE      = string.title()\n",
    "\n",
    "UPPER, LOWER, CAPITALIZE, TITLE"
   ]
  },
  {
   "cell_type": "code",
   "execution_count": 46,
   "id": "573a79ce-411f-4542-bdc5-f5507db0c6c5",
   "metadata": {},
   "outputs": [
    {
     "data": {
      "text/plain": [
       "['Nous', 'sommes', 'en', 'cours', 'DSI006', 'avec', 'DIT']"
      ]
     },
     "execution_count": 46,
     "metadata": {},
     "output_type": "execute_result"
    }
   ],
   "source": [
    "# Transformer une chaine de caractères en tableau\n",
    "# Utilisation de la fonction split(separateur)\n",
    "# Exemple: <string>.split('\\n')\n",
    "string        = 'Nous sommes en cours DSI006 avec DIT'\n",
    "tableauString = string.split()\n",
    "tableauString"
   ]
  },
  {
   "cell_type": "code",
   "execution_count": 47,
   "id": "9d9e95fd-cb76-41d9-abdd-a02d4e4c8ac9",
   "metadata": {},
   "outputs": [
    {
     "data": {
      "text/plain": [
       "['Nous ', ' en cours DSI006 avec DIT']"
      ]
     },
     "execution_count": 47,
     "metadata": {},
     "output_type": "execute_result"
    }
   ],
   "source": [
    "tableauString = string.split('sommes')\n",
    "tableauString"
   ]
  },
  {
   "cell_type": "code",
   "execution_count": 48,
   "id": "36574493-3658-43fc-b3bc-9d734172d860",
   "metadata": {},
   "outputs": [
    {
     "data": {
      "text/plain": [
       "'Nous soes en cours DSI006 avec DIT'"
      ]
     },
     "execution_count": 48,
     "metadata": {},
     "output_type": "execute_result"
    }
   ],
   "source": [
    "# Utilisation de la fonction replace\n",
    "# Syntaxe <string>.replace(start_char, final_char)\n",
    "# Exemple: <string>.replace('s', 'o')\n",
    "\n",
    "string = 'Nous sommes en cours DSI006 avec DIT'\n",
    "new_string = string.replace('m', '')\n",
    "new_string"
   ]
  },
  {
   "cell_type": "code",
   "execution_count": 49,
   "id": "61421dd8-0fb4-40ab-82fc-cf61984330f3",
   "metadata": {},
   "outputs": [],
   "source": [
    "t = 1, 2, 'Ali'"
   ]
  },
  {
   "cell_type": "code",
   "execution_count": 50,
   "id": "e69d3b03-f540-431c-bdf2-175dfb828fad",
   "metadata": {},
   "outputs": [
    {
     "data": {
      "text/plain": [
       "(1, 2, 'Ali')"
      ]
     },
     "execution_count": 50,
     "metadata": {},
     "output_type": "execute_result"
    }
   ],
   "source": [
    "t"
   ]
  },
  {
   "cell_type": "code",
   "execution_count": 51,
   "id": "abb93201-a679-4fd6-956b-f99d525bd14c",
   "metadata": {},
   "outputs": [],
   "source": [
    "x, y, z = t"
   ]
  },
  {
   "cell_type": "code",
   "execution_count": 52,
   "id": "1a9928e6-cf2a-4ade-b638-efc5953c9408",
   "metadata": {},
   "outputs": [
    {
     "data": {
      "text/plain": [
       "(1, 2)"
      ]
     },
     "execution_count": 52,
     "metadata": {},
     "output_type": "execute_result"
    }
   ],
   "source": [
    "x, y"
   ]
  },
  {
   "cell_type": "markdown",
   "id": "6274ca02-897b-46a1-822f-b4b961dd19da",
   "metadata": {},
   "source": [
    "# Les fonctions d'entrée et sortie (I/O)"
   ]
  },
  {
   "cell_type": "code",
   "execution_count": 7,
   "id": "90a35040-66c9-4cce-8a9e-2ebd839a321e",
   "metadata": {},
   "outputs": [
    {
     "name": "stdout",
     "output_type": "stream",
     "text": [
      "Maodo Sene\n",
      "Lamine Faty\n",
      "Nous sommes à la formation DSI006\n"
     ]
    }
   ],
   "source": [
    "# Une fonction d'entrée permet d'interagir avec un utilisateur final pour recevoir des données\n",
    "# Une fonction de sortie permet d'afficher à la console une donnée ou des données\n",
    "# La fonction usuelle d'entrée en python3 est INPUT() (python2: raw_input)\n",
    "# La syntaxe est: input('Instruction....')\n",
    "# La fonction usuelle de sortie en python3 est PRINT() (python2: print ___ instruction)\n",
    "# La syntaxe est: print('Instruction.......')\n",
    "\n",
    "print('Maodo Sene')\n",
    "print('Lamine Faty')\n",
    "print('Nous sommes à la formation DSI006')"
   ]
  },
  {
   "cell_type": "code",
   "execution_count": 8,
   "id": "23103ad3-e820-4515-9c3b-0d73bfdb02a5",
   "metadata": {},
   "outputs": [
    {
     "name": "stdout",
     "output_type": "stream",
     "text": [
      "Nom: Maodo, Prénom: Sene, Profession: Chef de projet\n"
     ]
    }
   ],
   "source": [
    "# Afficher des variables avec print (Méthode 1)\n",
    "first_name = 'Maodo'\n",
    "last_name = 'Sene'\n",
    "profession = 'Chef de projet'\n",
    "\n",
    "print(f'Nom: {first_name}, Prénom: {last_name}, Profession: {profession}')"
   ]
  },
  {
   "cell_type": "code",
   "execution_count": 9,
   "id": "8448891c-394c-4e29-89cb-8da1af30c0e9",
   "metadata": {},
   "outputs": [
    {
     "name": "stdout",
     "output_type": "stream",
     "text": [
      "Nom: Maodo, Prénom: Sene, Profession: Chef de projet\n"
     ]
    }
   ],
   "source": [
    "# Afficher des variables avec print (Méthode 2)\n",
    "first_name = 'Maodo'\n",
    "last_name = 'Sene'\n",
    "profession = 'Chef de projet'\n",
    "\n",
    "print('Nom: {0}, Prénom: {1}, Profession: {2}'.format(first_name, last_name, profession))"
   ]
  },
  {
   "cell_type": "code",
   "execution_count": 10,
   "id": "f95d5756-3689-40f6-88cc-e5df2b58063a",
   "metadata": {},
   "outputs": [
    {
     "ename": "IndexError",
     "evalue": "Replacement index 1 out of range for positional args tuple",
     "output_type": "error",
     "traceback": [
      "\u001b[0;31m---------------------------------------------------------------------------\u001b[0m",
      "\u001b[0;31mIndexError\u001b[0m                                Traceback (most recent call last)",
      "Input \u001b[0;32mIn [10]\u001b[0m, in \u001b[0;36m<module>\u001b[0;34m\u001b[0m\n\u001b[1;32m      4\u001b[0m last_name \u001b[38;5;241m=\u001b[39m \u001b[38;5;124m'\u001b[39m\u001b[38;5;124mSene\u001b[39m\u001b[38;5;124m'\u001b[39m\n\u001b[1;32m      5\u001b[0m profession \u001b[38;5;241m=\u001b[39m \u001b[38;5;124m'\u001b[39m\u001b[38;5;124mChef de projet\u001b[39m\u001b[38;5;124m'\u001b[39m\n\u001b[0;32m----> 7\u001b[0m \u001b[38;5;28mprint\u001b[39m(\u001b[38;5;124;43m'\u001b[39;49m\u001b[38;5;124;43mNom: \u001b[39;49m\u001b[38;5;132;43;01m{1}\u001b[39;49;00m\u001b[38;5;124;43m'\u001b[39;49m\u001b[38;5;241;43m.\u001b[39;49m\u001b[43mformat\u001b[49m\u001b[43m(\u001b[49m\u001b[43mfirst_name\u001b[49m\u001b[43m)\u001b[49m)\n",
      "\u001b[0;31mIndexError\u001b[0m: Replacement index 1 out of range for positional args tuple"
     ]
    }
   ],
   "source": [
    "# Afficher des variables avec print (Méthode 2)\n",
    "# Remarque: Génération d'exception suite aux indexes mal choisis\n",
    "first_name = 'Maodo'\n",
    "last_name = 'Sene'\n",
    "profession = 'Chef de projet'\n",
    "\n",
    "print('Nom: {1}'.format(first_name)) # index 1 rejeté"
   ]
  },
  {
   "cell_type": "code",
   "execution_count": 11,
   "id": "a668224b-9f42-4c5a-aa1f-491b75fa0e54",
   "metadata": {},
   "outputs": [
    {
     "name": "stdout",
     "output_type": "stream",
     "text": [
      "Nom: Maodo\n"
     ]
    }
   ],
   "source": [
    "# Afficher des variables avec print (Méthode 2)\n",
    "# Remarque: Génération d'exception suite aux indexes mal choisis\n",
    "first_name = 'Maodo'\n",
    "last_name = 'Sene'\n",
    "profession = 'Chef de projet'\n",
    "\n",
    "print('Nom: {0}'.format(first_name)) # index 0 accepté"
   ]
  },
  {
   "cell_type": "code",
   "execution_count": 12,
   "id": "7d5dd7a7-5875-4e76-8db7-836b6c7d7298",
   "metadata": {},
   "outputs": [
    {
     "name": "stdout",
     "output_type": "stream",
     "text": [
      "Nom: Maodo\n"
     ]
    }
   ],
   "source": [
    "# Afficher des variables avec print (Méthode 2)\n",
    "# Remarque: Génération d'exception suite aux indexes mal choisis\n",
    "# En conclusion avec la méthode format les indexes se comportent comme ceux d'une liste ou d'un tuple\n",
    "first_name = 'Maodo'\n",
    "last_name = 'Sene'\n",
    "profession = 'Chef de projet'\n",
    "\n",
    "print('Nom: {}'.format(first_name)) # index 0 accepté. Ici {} <==> {0}"
   ]
  },
  {
   "cell_type": "code",
   "execution_count": 13,
   "id": "72f3d171-b8a2-4450-837f-f7229ea69c04",
   "metadata": {},
   "outputs": [
    {
     "name": "stdout",
     "output_type": "stream",
     "text": [
      "Nom: Maodo\n",
      "Prénom: Sene\n",
      "Profession: Chef de projet\n"
     ]
    }
   ],
   "source": [
    "# Afficher des variables avec print (Méthode 3)\n",
    "# En sommes choississez la méthode la plus aisée pour vous.\n",
    "# Toutes les méthodes se valent\n",
    "first_name = 'Maodo'\n",
    "last_name = 'Sene'\n",
    "profession = 'Chef de projet'\n",
    "\n",
    "print('Nom: %s' % first_name)\n",
    "print('Prénom: %s' % last_name)\n",
    "print('Profession: %s' % profession)"
   ]
  },
  {
   "cell_type": "code",
   "execution_count": 14,
   "id": "838823b3-203c-428b-8cf0-616f98d1bc1b",
   "metadata": {},
   "outputs": [
    {
     "name": "stdin",
     "output_type": "stream",
     "text": [
      "Entrer votre nom svp?  MAODO\n"
     ]
    }
   ],
   "source": [
    "# Utilisation de la fonction input\n",
    "name = input('Entrer votre nom svp? ')"
   ]
  },
  {
   "cell_type": "code",
   "execution_count": 15,
   "id": "a912a99c-0247-401d-ac85-ac7cd7b84ae0",
   "metadata": {},
   "outputs": [
    {
     "data": {
      "text/plain": [
       "'MAODO'"
      ]
     },
     "execution_count": 15,
     "metadata": {},
     "output_type": "execute_result"
    }
   ],
   "source": [
    "name"
   ]
  },
  {
   "cell_type": "code",
   "execution_count": 18,
   "id": "80681be1-9966-405f-b64e-9dfdfe9703ce",
   "metadata": {},
   "outputs": [
    {
     "name": "stdin",
     "output_type": "stream",
     "text": [
      "Entrer votre age svp?  18\n"
     ]
    }
   ],
   "source": [
    "# Utilisation de la fonction input\n",
    "age = int(input('Entrer votre age svp? '))\n",
    "#age = float(input('Entrer votre age svp? '))\n",
    "#age = str(input('Entrer votre age svp? '))"
   ]
  },
  {
   "cell_type": "code",
   "execution_count": 19,
   "id": "673ae558-6e9e-4a04-b49c-6123fa35c82b",
   "metadata": {},
   "outputs": [
    {
     "data": {
      "text/plain": [
       "18"
      ]
     },
     "execution_count": 19,
     "metadata": {},
     "output_type": "execute_result"
    }
   ],
   "source": [
    "age"
   ]
  },
  {
   "cell_type": "code",
   "execution_count": 20,
   "id": "c12cc183-8fd4-4cbe-91ba-b3c10a6aa7f9",
   "metadata": {},
   "outputs": [
    {
     "name": "stdin",
     "output_type": "stream",
     "text": [
      "Entrer nom, prenom, age MAODO, Sene, 42\n"
     ]
    }
   ],
   "source": [
    "informations = input('Entrer nom, prenom, age')"
   ]
  },
  {
   "cell_type": "code",
   "execution_count": 21,
   "id": "a1a9d673-03e1-457e-a44f-5701bf3dcc87",
   "metadata": {},
   "outputs": [
    {
     "data": {
      "text/plain": [
       "'MAODO, Sene, 42'"
      ]
     },
     "execution_count": 21,
     "metadata": {},
     "output_type": "execute_result"
    }
   ],
   "source": [
    "informations"
   ]
  },
  {
   "cell_type": "code",
   "execution_count": 28,
   "id": "84f17eee-3dd7-4ba0-9963-82fba67950bf",
   "metadata": {},
   "outputs": [
    {
     "data": {
      "text/plain": [
       "['MAODO', 'Sene', '42']"
      ]
     },
     "execution_count": 28,
     "metadata": {},
     "output_type": "execute_result"
    }
   ],
   "source": [
    "# recupérer plusieurs donnée avec input et split\n",
    "informations.replace(' ', '').split(',')"
   ]
  },
  {
   "cell_type": "code",
   "execution_count": 36,
   "id": "cc280892-fbc8-4965-be21-e9f094746197",
   "metadata": {},
   "outputs": [
    {
     "data": {
      "text/plain": [
       "['MAODO', 'Sene', '42']"
      ]
     },
     "execution_count": 36,
     "metadata": {},
     "output_type": "execute_result"
    }
   ],
   "source": [
    "# Méthode alternative à <string>.replace(' ', '')\n",
    "informations.strip().split(',')"
   ]
  },
  {
   "cell_type": "code",
   "execution_count": 29,
   "id": "8a7a7c1b-70a3-463b-b2fb-19e016377029",
   "metadata": {},
   "outputs": [],
   "source": [
    "# Exercice\n",
    "# reprenez le calcule de l'IMC\n",
    "# En demandant à la console le poids\n",
    "# En demandant à la console la taille\n",
    "# En calculant alors l'IMC puis en l'affichant"
   ]
  },
  {
   "cell_type": "code",
   "execution_count": 35,
   "id": "db8aae13-7813-4576-89b4-3237ff0f8896",
   "metadata": {},
   "outputs": [
    {
     "name": "stdin",
     "output_type": "stream",
     "text": [
      "Entrz le poids :  188\n",
      "Entrz la taille :  1.88\n"
     ]
    },
    {
     "name": "stdout",
     "output_type": "stream",
     "text": [
      "l'IMC est de  53.19 kg/m²\n"
     ]
    }
   ],
   "source": [
    "# Exercice\n",
    "# reprenez le calcule de l'IMC\n",
    "# En demandant à la console le poids\n",
    "poids = int(input('Entrz le poids : '))\n",
    "# En demandant à la console la taille\n",
    "taille = float(input('Entrz la taille : '))          \n",
    "# En calculant alors l'IMC puis en l'affichant\n",
    "IMC = poids/taille**2\n",
    "print(f\"l'IMC est de {IMC: .2f} kg/m²\")"
   ]
  },
  {
   "cell_type": "code",
   "execution_count": 62,
   "id": "5fa3ad9e-e0d6-4dbb-86a0-9c15c511f532",
   "metadata": {},
   "outputs": [],
   "source": [
    "# Exercice\n",
    "data = \"\"\"\n",
    "Lorem ipsum dolor sit amet consectetur adipisicing elit. Maxime mollitia,\n",
    "molestiae quas vel sint commodi repudiandae consequuntur voluptatum laborum\n",
    "numquam blanditiis harum quisquam eius sed odit fugiat iusto fuga praesentium\n",
    "optio, eaque rerum! Provident similique accusantium nemo autem.\n",
    "\"\"\"\n",
    "\n",
    "# Avec les fonctions appliquées aux strings \n",
    "# Nettoyer cette phrase et obtenez que la liste contenant les mots de cette phrase\n",
    "# Puis dans une liste afficher chacun de ces mots comme suit:\n",
    "# Chaque élément de cette liste doit être de la forme (Mot, Index, Poids)\n",
    "# Ici le Mot = mot\n",
    "# Ici Index = Position du mot dans la liste\n",
    "# Ici le Poids = Représente la taille du mot\n",
    "# Puis Ordonner par ordre décroissant les mots selon leur poids\n",
    "# Puis déterminer le mot ayant le plus grand poids\n",
    "# Puis déterminer le mot ayant le plus petit poids"
   ]
  },
  {
   "cell_type": "code",
   "execution_count": 83,
   "id": "ca6ec760-b993-4dcc-a9cb-707187ff1959",
   "metadata": {},
   "outputs": [
    {
     "data": {
      "text/plain": [
       "(('sed', 23, 3), ('praesentiumoptio', 28, 16))"
      ]
     },
     "execution_count": 83,
     "metadata": {},
     "output_type": "execute_result"
    }
   ],
   "source": [
    "data = \"\"\"\n",
    "Lorem ipsum dolor sit amet consectetur adipisicing elit. Maxime mollitia,\n",
    "molestiae quas vel sint commodi repudiandae consequuntur voluptatum laborum\n",
    "numquam blanditiis harum quisquam eius sed odit fugiat iusto fuga praesentium\n",
    "optio, eaque rerum! Provident similique accusantium nemo autem.\n",
    "\"\"\"\n",
    "\n",
    "data = data.replace('\\n', '').replace('.', '').replace('!', '').replace(',',', ').replace(',', '').replace('  ', ' ').split(' ')\n",
    "data = [(x, y, len(x)) for y,x in enumerate(data)]\n",
    "data = sorted(data, reverse=True, key=lambda list: list[2])\n",
    "maximum = data[0]\n",
    "minimum = data[-1]\n",
    "#data\n",
    "minimum, maximum"
   ]
  },
  {
   "cell_type": "markdown",
   "id": "0b9438df-781c-4e6d-92b4-c8db1f701e80",
   "metadata": {},
   "source": [
    "## Utilisation du mot clé assert"
   ]
  },
  {
   "cell_type": "code",
   "execution_count": 85,
   "id": "07689ecf-5433-475f-965f-8e7a384f8948",
   "metadata": {},
   "outputs": [],
   "source": [
    "# Le mot clé assert permet d'évaluer une condition\n",
    "# Ce mot clé renvoie une exception si la condition évaluée est fausse\n",
    "# Ce mot clé n'émet pas d'exception en cas de condition évaluée à vraie\n",
    "age = 20\n",
    "\n",
    "# Exemple 1\n",
    "assert age == 20"
   ]
  },
  {
   "cell_type": "code",
   "execution_count": 86,
   "id": "57769921-488f-489b-8595-00fb27e23dad",
   "metadata": {},
   "outputs": [
    {
     "ename": "AssertionError",
     "evalue": "",
     "output_type": "error",
     "traceback": [
      "\u001b[0;31m---------------------------------------------------------------------------\u001b[0m",
      "\u001b[0;31mAssertionError\u001b[0m                            Traceback (most recent call last)",
      "Input \u001b[0;32mIn [86]\u001b[0m, in \u001b[0;36m<module>\u001b[0;34m\u001b[0m\n\u001b[1;32m      1\u001b[0m \u001b[38;5;66;03m# Exemple 2\u001b[39;00m\n\u001b[0;32m----> 2\u001b[0m \u001b[38;5;28;01massert\u001b[39;00m age \u001b[38;5;241m==\u001b[39m \u001b[38;5;241m30\u001b[39m\n",
      "\u001b[0;31mAssertionError\u001b[0m: "
     ]
    }
   ],
   "source": [
    "# Exemple 2\n",
    "assert age == 30"
   ]
  },
  {
   "cell_type": "markdown",
   "id": "2f5b4feb-99e6-4060-a90d-c2daa1cc3d3a",
   "metadata": {},
   "source": [
    "# Les fonctions"
   ]
  },
  {
   "cell_type": "code",
   "execution_count": 87,
   "id": "4e42bfa1-f8ca-4674-ae88-4cf85e1452cc",
   "metadata": {},
   "outputs": [],
   "source": [
    "# Une fonction permet de regrouper en un bloc un ensemble d'instructions\n",
    "# Ces instructions doivent être répétitives pour afin de donner lieu à l'utilisation impérative d'une fonction\n",
    "# Ces instructions doivent ne résoudre qu'un seul problème afin d'être optimal et smart\n",
    "\n",
    "# Syntaxe: def <nomFonction>(args1, args2, args3, .....):\n",
    "#              Instruction1\n",
    "#              Instruction2\n",
    "#              ............\n",
    "#              InstructionN\n",
    "#              return resultat1, resultat2, ..., resultatN"
   ]
  },
  {
   "cell_type": "code",
   "execution_count": 91,
   "id": "94884069-a735-4ba1-938c-f101f9dbd2e4",
   "metadata": {},
   "outputs": [
    {
     "data": {
      "text/plain": [
       "'Majeur'"
      ]
     },
     "execution_count": 91,
     "metadata": {},
     "output_type": "execute_result"
    }
   ],
   "source": [
    "# Exemple d'une fonction qui détermine la majorité d'un individu\n",
    "\n",
    "# Approche naive\n",
    "def isMajor(age):\n",
    "    if age > 18:\n",
    "        return 'Majeur'\n",
    "    else:\n",
    "        return 'Mineur'\n",
    "\n",
    "# Approche plus smart\n",
    "# Optimisation du code\n",
    "def isMajor2(age):\n",
    "    if age > 18:\n",
    "        return 'Majeur'\n",
    "    return 'Mineur'\n",
    "\n",
    "# Meilleure approche\n",
    "# Utilisation d'une condition ternaire\n",
    "def isMajor3(age):\n",
    "    return 'Majeur' if age > 18 else 'Mineur'\n",
    "\n",
    "\n",
    "isMajor3(20)"
   ]
  },
  {
   "cell_type": "code",
   "execution_count": 4,
   "id": "7ef19068-1846-4ecc-8c87-06dde9e06147",
   "metadata": {},
   "outputs": [
    {
     "name": "stdout",
     "output_type": "stream",
     "text": [
      "Majeur\n"
     ]
    }
   ],
   "source": [
    "# Les fonctions imbriquées\n",
    "# En python nous pouvons écrire des fonctions qui contiennent d'autres fonctions\n",
    "# On parle en terme courant de WRAPPER. Ces fonctions sont utiliser généralement comme des DECORATEUR\n",
    "# Un décorateur est une fonction qu s'exécute avant une autre\n",
    "# décorateur, Syntaxe: @<nomDeFonction>(args1, ..., argsN) Les arguments sont les arguments de la fonction qu'il décore\n",
    "\n",
    "#Exemple\n",
    "\n",
    "def isMajor(age):\n",
    "    def checkIfIsInteger():\n",
    "        return isinstance(age, int)\n",
    "    \n",
    "    def checkIsAge(age):\n",
    "        return age > 18\n",
    "    \n",
    "    def toFormat(age):\n",
    "        return 'Majeur' if checkIsAge(age) else 'Mineur'\n",
    "    \n",
    "    return toFormat(age)\n",
    "\n",
    "# La fonction isMajor est la fonction WRAPPER\n",
    "# Les fonctions qui sont à l'intérieure exécutent un ensemble de processus\n",
    "# Remarquer que le WRAPPER return des le résultat de l'un des fonctions de traitements\n",
    "print(isMajor(20))"
   ]
  },
  {
   "cell_type": "code",
   "execution_count": 9,
   "id": "ab4d8fbf-7de3-44c3-ba43-fca69bee839f",
   "metadata": {},
   "outputs": [
    {
     "name": "stdout",
     "output_type": "stream",
     "text": [
      "Majeur\n",
      "Mineur\n"
     ]
    }
   ],
   "source": [
    "# Dans la syntaxe des fonctions\n",
    "# Python3 nous permet aujourd'hui de préciser le type des arguments en entrée\n",
    "# Ainsi la signature d'une fonctin s'accompagne des types de arguments en entrée\n",
    "\n",
    "def isMajor1(age: int):\n",
    "    return 'Majeur' if age > 18 else 'Mineur'\n",
    "\n",
    "# Dans la syntaxe des fonctions\n",
    "# Python3 nous permet aussi de donner le type du résultat\n",
    "# Cette syntaxe est valable à partir des versions 3.7+\n",
    "def isMajor2(age: int) -> str:\n",
    "    return 'Majeur' if age > 18 else 'Mineur'\n",
    "\n",
    "print(isMajor1(18.12))\n",
    "print(isMajor2(18))"
   ]
  },
  {
   "cell_type": "code",
   "execution_count": 11,
   "id": "c77a15eb-1945-4730-b3ee-b7a0a6bf65a5",
   "metadata": {},
   "outputs": [
    {
     "data": {
      "text/plain": [
       "(True, True, True)"
      ]
     },
     "execution_count": 11,
     "metadata": {},
     "output_type": "execute_result"
    }
   ],
   "source": [
    "# Dans le controle des types de variables attendues\n",
    "# L'utilisation de la méthode ISINSTANCE permet de faire cette vérification\n",
    "# Cette fonction retourne un booléen\n",
    "\n",
    "var, var2, var3 = [], (), {}\n",
    "\n",
    "varTest = isinstance(var, list)\n",
    "var2Test = isinstance(var2, tuple)\n",
    "var3Test = isinstance(var3, dict)\n",
    "\n",
    "varTest, var2Test, var3Test"
   ]
  },
  {
   "cell_type": "markdown",
   "id": "848171db-920f-4913-be07-7902a816bbaf",
   "metadata": {},
   "source": [
    "## La gestion des exceptions"
   ]
  },
  {
   "cell_type": "code",
   "execution_count": 12,
   "id": "95e5c476-c0e7-4d86-b7d2-3bdc07d537c0",
   "metadata": {},
   "outputs": [],
   "source": [
    "# Une Exception est une erreur levée par l'interpreteur afin de signaler une anomalie\n",
    "# Pour la capture de ces Exceptions python prévoit l'ultilisation du TRY/EXCEPT\n",
    "# Syntaxe:\n",
    "# try:\n",
    "#     Instruction1\n",
    "#     Instruction2\n",
    "#     ............\n",
    "#     InstructionN\n",
    "# except Exception|<nomException> as e:\n",
    "#     Instruction en cas d'exception"
   ]
  },
  {
   "cell_type": "code",
   "execution_count": 18,
   "id": "2b43bfdc-8b49-4e9c-ae77-d5e8ff3a1afb",
   "metadata": {},
   "outputs": [
    {
     "ename": "ZeroDivisionError",
     "evalue": "division by zero",
     "output_type": "error",
     "traceback": [
      "\u001b[0;31m---------------------------------------------------------------------------\u001b[0m",
      "\u001b[0;31mZeroDivisionError\u001b[0m                         Traceback (most recent call last)",
      "Input \u001b[0;32mIn [18]\u001b[0m, in \u001b[0;36m<module>\u001b[0;34m\u001b[0m\n\u001b[1;32m     40\u001b[0m         \u001b[38;5;28;01mreturn\u001b[39;00m \u001b[38;5;241m0\u001b[39m\n\u001b[1;32m     42\u001b[0m \u001b[38;5;66;03m# print(div2Number(1, 2))\u001b[39;00m\n\u001b[0;32m---> 43\u001b[0m \u001b[38;5;28mprint\u001b[39m(\u001b[43mdiv2Number\u001b[49m\u001b[43m(\u001b[49m\u001b[38;5;241;43m1\u001b[39;49m\u001b[43m,\u001b[49m\u001b[43m \u001b[49m\u001b[38;5;241;43m0\u001b[39;49m\u001b[43m)\u001b[49m)\n",
      "Input \u001b[0;32mIn [18]\u001b[0m, in \u001b[0;36mdiv2Number\u001b[0;34m(num1, num2, mode)\u001b[0m\n\u001b[1;32m      5\u001b[0m \u001b[38;5;28;01mdef\u001b[39;00m \u001b[38;5;21mdiv2Number\u001b[39m(num1: \u001b[38;5;28mfloat\u001b[39m,\n\u001b[1;32m      6\u001b[0m                num2: \u001b[38;5;28mfloat\u001b[39m,\n\u001b[1;32m      7\u001b[0m                mode: \u001b[38;5;28mstr\u001b[39m \u001b[38;5;241m=\u001b[39m \u001b[38;5;124m'\u001b[39m\u001b[38;5;124m/\u001b[39m\u001b[38;5;124m'\u001b[39m):\n\u001b[1;32m      8\u001b[0m     \u001b[38;5;28;01mif\u001b[39;00m mode \u001b[38;5;241m==\u001b[39m \u001b[38;5;124m'\u001b[39m\u001b[38;5;124m/\u001b[39m\u001b[38;5;124m'\u001b[39m:\n\u001b[0;32m----> 9\u001b[0m         div \u001b[38;5;241m=\u001b[39m \u001b[43mnum1\u001b[49m\u001b[43m \u001b[49m\u001b[38;5;241;43m/\u001b[39;49m\u001b[43m \u001b[49m\u001b[43mnum2\u001b[49m\n\u001b[1;32m     10\u001b[0m         \u001b[38;5;28;01mreturn\u001b[39;00m div\n\u001b[1;32m     11\u001b[0m     div \u001b[38;5;241m=\u001b[39m num1 \u001b[38;5;241m/\u001b[39m\u001b[38;5;241m/\u001b[39m num2\n",
      "\u001b[0;31mZeroDivisionError\u001b[0m: division by zero"
     ]
    }
   ],
   "source": [
    "def jumpNextLine():\n",
    "    print('\\n')\n",
    "\n",
    "\n",
    "def div2Number(num1: float,\n",
    "               num2: float,\n",
    "               mode: str = '/'):\n",
    "    if mode == '/':\n",
    "        div = num1 / num2\n",
    "        return div\n",
    "    div = num1 // num2\n",
    "    return div\n",
    "\n",
    "\n",
    "def div2NumberExc(num1: float,\n",
    "                  num2: float,\n",
    "                  mode: str = '/'):\n",
    "    try:\n",
    "        if mode == '/':\n",
    "            div = num1 / num2\n",
    "            return div\n",
    "        div = num1 // num2\n",
    "    except ZeroDivisionError as Exc:\n",
    "        return 0\n",
    "    else:\n",
    "        return div\n",
    "\n",
    "\n",
    "def div2NumberExc2(num1: float,\n",
    "                   num2: float,\n",
    "                   mode: str = '/'):\n",
    "    try:\n",
    "        if mode == '/':\n",
    "            div = num1 / num2\n",
    "            return div\n",
    "        div = num1 // num2\n",
    "        return div\n",
    "    except Exception as Exc:\n",
    "        print(type(Exc))\n",
    "        return 0\n",
    "    \n",
    "# print(div2Number(1, 2))\n",
    "print(div2Number(1, 0))"
   ]
  },
  {
   "cell_type": "code",
   "execution_count": 19,
   "id": "42560092-8f17-4e7a-ba48-1ca87f439208",
   "metadata": {},
   "outputs": [
    {
     "name": "stdout",
     "output_type": "stream",
     "text": [
      "0\n"
     ]
    }
   ],
   "source": [
    "print(div2NumberExc(1, 0))"
   ]
  },
  {
   "cell_type": "code",
   "execution_count": 20,
   "id": "cde8c394-0dab-40ca-83d2-7277261e7e76",
   "metadata": {},
   "outputs": [
    {
     "name": "stdout",
     "output_type": "stream",
     "text": [
      "<class 'ZeroDivisionError'>\n",
      "<class 'int'>\n"
     ]
    }
   ],
   "source": [
    "print(type(div2NumberExc2(1, 0)))"
   ]
  },
  {
   "cell_type": "code",
   "execution_count": 21,
   "id": "e5ec5754-5088-4ee2-9dbf-a33a8d370de3",
   "metadata": {},
   "outputs": [
    {
     "data": {
      "text/plain": [
       "0.5"
      ]
     },
     "execution_count": 21,
     "metadata": {},
     "output_type": "execute_result"
    }
   ],
   "source": [
    "div2NumberExc(1,2)"
   ]
  },
  {
   "cell_type": "code",
   "execution_count": 22,
   "id": "db24ee80-3c93-4a15-b15d-54654c0b98ee",
   "metadata": {},
   "outputs": [
    {
     "data": {
      "text/plain": [
       "\"\\nDemander à l'utilisateur de renseigner un nombre entier supérieur à 10 pour le temps. Tant que la condition n'est pas respectée répéter l'instruction jusquà ce qu'il donne la bonne valeur\\nDemander lui de renseigner la distance qui soit positive et supérieur à 28.8. Tant que ces conditions ne sont pas respectées redemander le jusquà obtention de la bonne distance\\nConvertisser le résultat de la vitesse en:\\n    1. m/s\\n    2. m/ms\\n    3. km/s\\n    4. km/ms\\n\""
      ]
     },
     "execution_count": 22,
     "metadata": {},
     "output_type": "execute_result"
    }
   ],
   "source": [
    "\"\"\"\n",
    "Demander à l'utilisateur de renseigner un nombre entier supérieur à 10 pour le temps. Tant que la condition n'est pas respectée répéter l'instruction jusquà ce qu'il donne la bonne valeur\n",
    "Demander lui de renseigner la distance qui soit positive et supérieur à 28.8. Tant que ces conditions ne sont pas respectées redemander le jusquà obtention de la bonne distance\n",
    "Convertisser le résultat de la vitesse en:\n",
    "    1. m/s\n",
    "    2. m/ms\n",
    "    3. km/s\n",
    "    4. km/ms\n",
    "\"\"\"\n",
    "\n",
    "# Ecrire une fonction tackeTime() qui permet de récupérer le temps selon les critères définis dans l'énoncé\n",
    "# Ecrire une fonction takeDistance() qui permet de récupérer la distance selon les critères définis dans l'énoncé\n",
    "# Ecrire une fonction calcVitesse(time: float, distance: float) et retourne la vitesse\n",
    "# Ecrire une fonction formatVitesse(vitesse: float) et qui affiche selon les 4 modalités d'affiches définies\n",
    "# Puis regrouper les quatre fonction dans une fonction globale main()\n",
    "# Puis éxécuter"
   ]
  },
  {
   "cell_type": "code",
   "execution_count": 24,
   "id": "5a3af6e6-f26e-4979-8254-47803d888c5d",
   "metadata": {},
   "outputs": [
    {
     "name": "stdin",
     "output_type": "stream",
     "text": [
      "Renseigner un nombre entier supérieur à 10 pour le temps : 12\n",
      "Entrer un nombre positif et supérieur à 28.8 pour la distance: 30\n"
     ]
    },
    {
     "name": "stdout",
     "output_type": "stream",
     "text": [
      "--------------------------\n",
      "Vitesse en m/s: 2.5\n",
      "--------------------------\n",
      "Vitesse en m/ms: 0.0025\n",
      "--------------------------\n",
      "Vitesse en km/s: 2500.0\n",
      "--------------------------\n",
      "Vitesse en km/ms: 2.5e-06\n",
      "--------------------------\n"
     ]
    }
   ],
   "source": [
    "def takeTime():\n",
    "    while True:\n",
    "        temps = float(input(\"Renseigner un nombre entier supérieur à 10 pour le temps :\"))\n",
    "        if temps>10:\n",
    "            break\n",
    "    return temps\n",
    "\n",
    "def takeDistance():\n",
    "    while True:\n",
    "        distance = float(input(\"Entrer un nombre positif et supérieur à 28.8 pour la distance:\"))\n",
    "        if distance>28.8:\n",
    "            break\n",
    "    return distance\n",
    "\n",
    "def calcVitesse(temps: float, \n",
    "                distance: float):\n",
    "    try:\n",
    "        vitesse = distance/temps\n",
    "    except Exception as e:\n",
    "        return 0.00\n",
    "    else:\n",
    "        return vitesse\n",
    "\n",
    "def formatVitesse(vitesse: float):\n",
    "    if vitesse != 0 :\n",
    "        vitesse1 = vitesse / 1000\n",
    "        vitesse2 = vitesse * 1000\n",
    "        vitesse3 = vitesse / 10**6\n",
    "        \n",
    "        print('--------------------------')\n",
    "        print(f'Vitesse en m/s: {vitesse}')\n",
    "        print('--------------------------')\n",
    "        print(f'Vitesse en m/ms: {vitesse1}')\n",
    "        print('--------------------------')\n",
    "        print(f'Vitesse en km/s: {vitesse2}')\n",
    "        print('--------------------------')\n",
    "        print(f'Vitesse en km/ms: {vitesse3}')\n",
    "        print('--------------------------')\n",
    "    else:\n",
    "        print('--------------------------')\n",
    "        print(f'Cette vitesse est nulle')\n",
    "        print('--------------------------')\n",
    "\n",
    "def main():\n",
    "    formatVitesse(calcVitesse(takeTime(), takeDistance()))\n",
    "    \n",
    "main()"
   ]
  },
  {
   "cell_type": "code",
   "execution_count": 25,
   "id": "6043b8ea-f6bb-48e7-ac5b-7d95800f145b",
   "metadata": {},
   "outputs": [],
   "source": [
    "# Ecrire une fonction qui permet de renvoyer les indexes des lettres majuscules:\n",
    "# demander à l'utilisateur de donner une phrase ou un mot qui soit être une chaine de caractère:\n",
    "# veuillez à ce que la longueur de ce que l'utilisateur entre soit supérieure à 2 dans le cas contraire obnligez le à entrer la bonne phrase ou un mot dont la longueur est supérieur à 2\n",
    "# après retourner les indexes des lettres en majuscules\n",
    "# Puis tester l'application avec différentes phrases que voici:\n",
    "# HeLl0 ==> [0, 2, 4]\n",
    "# HeLlO Les etudiaNtS ==> [0, 2, 4, 6, 16, 18]"
   ]
  },
  {
   "cell_type": "code",
   "execution_count": 26,
   "id": "c91873bb-01a2-44bb-8dd0-67ecfbaedb51",
   "metadata": {},
   "outputs": [
    {
     "name": "stdin",
     "output_type": "stream",
     "text": [
      "Saisir une phrase dont la longueur est supérieure à 2 HeLlO Les etudiaNtS\n"
     ]
    },
    {
     "data": {
      "text/plain": [
       "[0, 2, 4, 6, 16, 18]"
      ]
     },
     "execution_count": 26,
     "metadata": {},
     "output_type": "execute_result"
    }
   ],
   "source": [
    "# Correction faite par Anselme Wilfried\n",
    "def indexRenvoi():\n",
    "    indexes = []\n",
    "    while True:\n",
    "        phrase = input(\"Saisir une phrase dont la longueur est supérieure à 2\")\n",
    "        if len(phrase)>2:\n",
    "            for index,value in enumerate(phrase):\n",
    "                if value.isupper():\n",
    "                    indexes.append(index)\n",
    "            break\n",
    "    return indexes\n",
    "\n",
    "indexRenvoi()"
   ]
  },
  {
   "cell_type": "code",
   "execution_count": 27,
   "id": "09f0cbb1-f6df-4062-981a-fde7dc3c893d",
   "metadata": {},
   "outputs": [
    {
     "name": "stdin",
     "output_type": "stream",
     "text": [
      "Entrainer une phrase ou un mot de plus de 2 caractères:  HeLlO Les etudiaNtS\n"
     ]
    },
    {
     "ename": "TypeError",
     "evalue": "'NoneType' object is not iterable",
     "output_type": "error",
     "traceback": [
      "\u001b[0;31m---------------------------------------------------------------------------\u001b[0m",
      "\u001b[0;31mTypeError\u001b[0m                                 Traceback (most recent call last)",
      "Input \u001b[0;32mIn [27]\u001b[0m, in \u001b[0;36m<module>\u001b[0;34m\u001b[0m\n\u001b[1;32m     13\u001b[0m     index_maj \u001b[38;5;241m=\u001b[39m[chaine\u001b[38;5;241m.\u001b[39mindex(letter) \u001b[38;5;28;01mfor\u001b[39;00m letter \u001b[38;5;129;01min\u001b[39;00m chaine \u001b[38;5;28;01mif\u001b[39;00m letter\u001b[38;5;241m.\u001b[39misupper()]\n\u001b[1;32m     14\u001b[0m     \u001b[38;5;28;01mreturn\u001b[39;00m index_maj\n\u001b[0;32m---> 16\u001b[0m \u001b[43mverifMaj\u001b[49m\u001b[43m(\u001b[49m\u001b[43mEnterChaine\u001b[49m\u001b[43m(\u001b[49m\u001b[43m)\u001b[49m\u001b[43m)\u001b[49m\n",
      "Input \u001b[0;32mIn [27]\u001b[0m, in \u001b[0;36mverifMaj\u001b[0;34m(chaine)\u001b[0m\n\u001b[1;32m     12\u001b[0m \u001b[38;5;28;01mdef\u001b[39;00m \u001b[38;5;21mverifMaj\u001b[39m(chaine):\n\u001b[0;32m---> 13\u001b[0m     index_maj \u001b[38;5;241m=\u001b[39m[chaine\u001b[38;5;241m.\u001b[39mindex(letter) \u001b[38;5;28;01mfor\u001b[39;00m letter \u001b[38;5;129;01min\u001b[39;00m chaine \u001b[38;5;28;01mif\u001b[39;00m letter\u001b[38;5;241m.\u001b[39misupper()]\n\u001b[1;32m     14\u001b[0m     \u001b[38;5;28;01mreturn\u001b[39;00m index_maj\n",
      "\u001b[0;31mTypeError\u001b[0m: 'NoneType' object is not iterable"
     ]
    }
   ],
   "source": [
    "# Correcction faite par Maodo Sene\n",
    "# Ecrire une fonction qui permet de renvoyer les indexes des lettres majuscules:\n",
    "# demander à l'utilisateur de donner une phrase ou un mot qui soit être une chaine de caractère:\n",
    "\n",
    "def EnterChaine():\n",
    "    while True:\n",
    "        chaine = str(input(\"Entrainer une phrase ou un mot de plus de 2 caractères: \"))\n",
    "        if len(chaine)>2 :\n",
    "            break\n",
    "        return chaine\n",
    "\n",
    "def verifMaj(chaine):\n",
    "    index_maj =[chaine.index(letter) for letter in chaine if letter.isupper()]\n",
    "    return index_maj\n",
    "\n",
    "verifMaj(EnterChaine())"
   ]
  },
  {
   "cell_type": "code",
   "execution_count": 1,
   "id": "9363c470-1fcf-4205-8275-6f33840b0097",
   "metadata": {},
   "outputs": [
    {
     "name": "stdout",
     "output_type": "stream",
     "text": [
      " ---> Entrez une phrase de longueur supérieur à 2 !\n"
     ]
    },
    {
     "name": "stdin",
     "output_type": "stream",
     "text": [
      " HelLO\n"
     ]
    },
    {
     "name": "stdout",
     "output_type": "stream",
     "text": [
      "Les indexes des lettres majuscules sont: [0, 3, 4]\n"
     ]
    }
   ],
   "source": [
    "# Correction faites par Eric\n",
    "def lire_phrase():\n",
    "    encore = True\n",
    "    while encore:\n",
    "        print(\" ---> Entrez une phrase de longueur supérieur à 2 !\")\n",
    "        phrase = input()\n",
    "        if 2 < len(phrase):\n",
    "            encore = False\n",
    "    return phrase\n",
    "    \n",
    "def index_majuscule():\n",
    "    phrase = lire_phrase()\n",
    "    # print(phrase)\n",
    "    l_index = []\n",
    "    for i, lettre in enumerate(phrase):\n",
    "        if lettre.isupper():\n",
    "            l_index.append(i)\n",
    "    return l_index\n",
    "\n",
    "print(f'Les indexes des lettres majuscules sont: {index_majuscule()}')"
   ]
  },
  {
   "cell_type": "markdown",
   "id": "77773efc-e660-4c68-945b-b2640a40cba2",
   "metadata": {},
   "source": [
    "# Lecture / Ecriture dans les fichiers"
   ]
  },
  {
   "cell_type": "markdown",
   "id": "caeb3a4c-ec57-49a2-942b-24483c98f02b",
   "metadata": {},
   "source": [
    "## Lecture d'un fichier"
   ]
  },
  {
   "cell_type": "code",
   "execution_count": 1,
   "id": "e3913047-4214-40e3-95d2-e05394a1d027",
   "metadata": {},
   "outputs": [],
   "source": [
    "# with open('filename', 'r') as f: # able to read data from file ( also is the default mode when opening a file in python)\n",
    "# with open('filename', 'x') as f: # Creates new file, if it already exists it will cause it to fail\n",
    "# with open('filename', 't') as f: # opens the file in text mode (also is defualt)\n",
    "# with open('filename', 'b') as f: # Use if your file will contain binary data\n",
    "# with open('filename', 'w') as f: # Open file with ability to write, will also create the file if it does not exist (if it exists will cause it to fail)\n",
    "# with open('filename', '+') as f: # Opens file with reading and writing"
   ]
  },
  {
   "cell_type": "code",
   "execution_count": 11,
   "id": "cf4bc391-fe0f-4fa8-97c9-128c361e81dd",
   "metadata": {},
   "outputs": [],
   "source": [
    "def jumpNextLine():\n",
    "    print('\\n')\n",
    "\n",
    "def openFile(filename: str):\n",
    "    with open(filename, 'r') as f:\n",
    "        print(f.read()) # lis le fichier tel qu'il est\n",
    "        f.close() # ferme le fichier\n",
    "        \n",
    "def openFileWithLenght(filename: str, numberOfChar: int):\n",
    "    with open(filename, 'r') as f:\n",
    "        print(f.read(numberOfChar))\n",
    "        f.close() # ferme le fichier\n",
    "\n",
    "# remarquer les retours à la ligne avec le caractère \\n\n",
    "# cette fonction retourne une liste qui contient toute la donnée\n",
    "def openFileWithaddLine(filename: str):\n",
    "    with open(filename, 'r') as f:\n",
    "        print(f.readlines()) # ajoute un saut de line a chaque fin de ligne\n",
    "        f.close() # ferme le fichier\n",
    "\n",
    "# lecture du fichier avec parcousr de f.readlines()\n",
    "# on parle souvent de CHUNK\n",
    "# CHUNKER c'est morceler le fichier par lot\n",
    "# Ce cas est pratique que pour les fichiers lourds\n",
    "def openFileWithaddLineV2(filename: str):\n",
    "    with open(filename, 'r') as f:\n",
    "        for line in f.readlines():\n",
    "            print(line)\n",
    "        f.close()"
   ]
  },
  {
   "cell_type": "code",
   "execution_count": 7,
   "id": "7a445446-7ddd-4fe3-af19-b712e2bda386",
   "metadata": {},
   "outputs": [
    {
     "name": "stdout",
     "output_type": "stream",
     "text": [
      "Lorem ipsum dolor sit amet consectetur adipisicing elit. Maxime mollitia,\n",
      "molestiae quas vel sint commodi repudiandae consequuntur voluptatum laborum\n",
      "numquam blanditiis harum quisquam eius sed odit fu\n"
     ]
    }
   ],
   "source": [
    "# openFile('files/file1.txt')\n",
    "openFileWithLenght('files/file1.txt', 200)"
   ]
  },
  {
   "cell_type": "code",
   "execution_count": 10,
   "id": "0dcf4e28-349f-45b9-b44d-7924e6c47749",
   "metadata": {},
   "outputs": [
    {
     "name": "stdout",
     "output_type": "stream",
     "text": [
      "['Lorem ipsum dolor sit amet consectetur adipisicing elit. Maxime mollitia,\\n', 'molestiae quas vel sint commodi repudiandae consequuntur voluptatum laborum\\n', 'numquam blanditiis harum quisquam eius sed odit fugiat iusto fuga praesentium\\n', 'optio, eaque rerum! Provident similique accusantium nemo autem. Veritatis\\n', 'obcaecati tenetur iure eius earum ut molestias architecto voluptate aliquam\\n', 'nihil, eveniet aliquid culpa officia aut! Impedit sit sunt quaerat, odit,\\n', 'tenetur error, harum nesciunt ipsum debitis quas aliquid. Reprehenderit,\\n', 'quia. Quo neque error repudiandae fuga? Ipsa laudantium molestias eos\\n', 'sapiente officiis modi at sunt excepturi expedita sint? Sed quibusdam\\n', 'recusandae alias error harum maxime adipisci amet laborum. Perspiciatis\\n', 'minima nesciunt dolorem! Officiis iure rerum voluptates a cumque velit\\n', 'quibusdam sed amet tempora. Sit laborum ab, eius fugit doloribus tenetur\\n', 'fugiat, temporibus enim commodi iusto libero magni deleniti quod quam\\n', 'consequuntur! Commodi minima excepturi repudiandae velit hic maxime\\n', 'doloremque. Quaerat provident commodi consectetur veniam similique ad\\n', 'earum omnis ipsum saepe, voluptas, hic voluptates pariatur est explicabo\\n', 'fugiat, dolorum eligendi quam cupiditate excepturi mollitia maiores labore\\n', 'suscipit quas? Nulla, placeat. Voluptatem quaerat non architecto ab laudantium\\n', 'modi minima sunt esse temporibus sint culpa, recusandae aliquam numquam\\n', 'totam ratione voluptas quod exercitationem fuga. Possimus quis earum veniam\\n', 'quasi aliquam eligendi, placeat qui corporis!']\n"
     ]
    }
   ],
   "source": [
    "openFileWithaddLine('files/file1.txt')"
   ]
  },
  {
   "cell_type": "code",
   "execution_count": 12,
   "id": "5f4e4499-9b83-487a-b5a2-683c6edae014",
   "metadata": {},
   "outputs": [
    {
     "name": "stdout",
     "output_type": "stream",
     "text": [
      "Lorem ipsum dolor sit amet consectetur adipisicing elit. Maxime mollitia,\n",
      "\n",
      "molestiae quas vel sint commodi repudiandae consequuntur voluptatum laborum\n",
      "\n",
      "numquam blanditiis harum quisquam eius sed odit fugiat iusto fuga praesentium\n",
      "\n",
      "optio, eaque rerum! Provident similique accusantium nemo autem. Veritatis\n",
      "\n",
      "obcaecati tenetur iure eius earum ut molestias architecto voluptate aliquam\n",
      "\n",
      "nihil, eveniet aliquid culpa officia aut! Impedit sit sunt quaerat, odit,\n",
      "\n",
      "tenetur error, harum nesciunt ipsum debitis quas aliquid. Reprehenderit,\n",
      "\n",
      "quia. Quo neque error repudiandae fuga? Ipsa laudantium molestias eos\n",
      "\n",
      "sapiente officiis modi at sunt excepturi expedita sint? Sed quibusdam\n",
      "\n",
      "recusandae alias error harum maxime adipisci amet laborum. Perspiciatis\n",
      "\n",
      "minima nesciunt dolorem! Officiis iure rerum voluptates a cumque velit\n",
      "\n",
      "quibusdam sed amet tempora. Sit laborum ab, eius fugit doloribus tenetur\n",
      "\n",
      "fugiat, temporibus enim commodi iusto libero magni deleniti quod quam\n",
      "\n",
      "consequuntur! Commodi minima excepturi repudiandae velit hic maxime\n",
      "\n",
      "doloremque. Quaerat provident commodi consectetur veniam similique ad\n",
      "\n",
      "earum omnis ipsum saepe, voluptas, hic voluptates pariatur est explicabo\n",
      "\n",
      "fugiat, dolorum eligendi quam cupiditate excepturi mollitia maiores labore\n",
      "\n",
      "suscipit quas? Nulla, placeat. Voluptatem quaerat non architecto ab laudantium\n",
      "\n",
      "modi minima sunt esse temporibus sint culpa, recusandae aliquam numquam\n",
      "\n",
      "totam ratione voluptas quod exercitationem fuga. Possimus quis earum veniam\n",
      "\n",
      "quasi aliquam eligendi, placeat qui corporis!\n"
     ]
    }
   ],
   "source": [
    "openFileWithaddLineV2('files/file1.txt')"
   ]
  },
  {
   "cell_type": "markdown",
   "id": "1647598e-5f68-47a7-ae81-64712434192b",
   "metadata": {},
   "source": [
    "## Ecriture dans un fichier"
   ]
  },
  {
   "cell_type": "code",
   "execution_count": 25,
   "id": "db747578-3500-4084-a092-78a760f83183",
   "metadata": {},
   "outputs": [],
   "source": [
    "# Ecriture dans les fichiers (Part 2)\n",
    "\n",
    "def jumpNextLine():\n",
    "    print('\\n')\n",
    "\n",
    "def writeFile(filename: str):\n",
    "    file = open(filename, \"w\")\n",
    "    \n",
    "    file.write(\"Salut tout le monde\")\n",
    "    file.write(\"This is our new text file\")\n",
    "    file.write(\"and this is another line.\")\n",
    "    file.write(\"Why? Because we can.\")\n",
    "    file.close()\n",
    "    \n",
    "def writeFileV2(filename: str):\n",
    "    with open(filename,\"w\") as file:\n",
    "        file.write(\"Salut tout le monde\")\n",
    "        file.write(\"This is our new text file\")\n",
    "        file.write(\"and this is another line.\")\n",
    "        file.write(\"Why? Because we can.\")\n",
    "        file.close()\n",
    "        \n",
    "def writeFileWithAppendMode(filename: str):\n",
    "    with open(filename,\"a\") as file:\n",
    "        file.write(\"Salut tout le monde\")\n",
    "        file.write(\"This is our new text file\")\n",
    "        file.write(\"and this is another line.\")\n",
    "        file.write(\"Why? Because we can.\")\n",
    "        file.close()\n",
    "\n",
    "# NB1: Avec le mode \"w\" c'est que le contenu du fichier est écrasé à chaque fois qu'on le modifie\n",
    "# NB2: Avec le mode \"a\" on ajoute en fin du contenu exitant du fichier dans lequel on écrit"
   ]
  },
  {
   "cell_type": "code",
   "execution_count": 20,
   "id": "8d014d71-e436-42da-a33b-3610b4f3e07f",
   "metadata": {},
   "outputs": [],
   "source": [
    "writeFileV2('files/file2.txt')"
   ]
  },
  {
   "cell_type": "code",
   "execution_count": 21,
   "id": "3314582b-7442-4e7e-9745-82d98c133f59",
   "metadata": {},
   "outputs": [
    {
     "name": "stdout",
     "output_type": "stream",
     "text": [
      "Salut tout le mondeThis is our new text fileand this is another line.Why? Because we can.\n"
     ]
    }
   ],
   "source": [
    "openFile('files/file2.txt')"
   ]
  },
  {
   "cell_type": "code",
   "execution_count": 23,
   "id": "35a43e93-8992-4c18-9b75-4ebc792ef7a7",
   "metadata": {},
   "outputs": [],
   "source": [
    "writeFileWithAppendMode('files/file2.txt')"
   ]
  },
  {
   "cell_type": "code",
   "execution_count": 24,
   "id": "8af7ecf6-97e7-4503-a7db-14182ff3e530",
   "metadata": {},
   "outputs": [
    {
     "name": "stdout",
     "output_type": "stream",
     "text": [
      "Salut tout le mondeThis is our new text fileand this is another line.Why? Because we can.Salut tout le mondeThis is our new text fileand this is another line.Why? Because we can.\n"
     ]
    }
   ],
   "source": [
    "openFile('files/file2.txt')"
   ]
  },
  {
   "cell_type": "code",
   "execution_count": 27,
   "id": "ac1f813d-f9e7-4503-89c5-0636037f29aa",
   "metadata": {},
   "outputs": [],
   "source": [
    "# Exercice\n",
    "# Ecriver une fonction qui permet de demander à la console\n",
    "#     Le nom d'une personne\n",
    "#     Son sexe\n",
    "#     Son Pays\n",
    "#     Sa profession\n",
    "#     Sa taille\n",
    "#     Son poids\n",
    "#     Le secteur de sa profession\n",
    "#     Son année d'expérience dans sa profession\n",
    "\n",
    "# Récupérer ces valeurs puis enrégister comme suit dans un fichier\n",
    "# Donner le nom Infos.txt à ce fichier\n",
    "\n",
    "# Informations Personnelles\n",
    "# -------------------------\n",
    "# Nom: _____\n",
    "# Sexe: _____\n",
    "# Taille: _____\n",
    "# Poids: _____\n",
    "\n",
    "# Informations Professionnelles\n",
    "# -------------------------\n",
    "# Profession: _____\n",
    "# Secteur Profession: _____\n",
    "# Experience: _____"
   ]
  },
  {
   "cell_type": "code",
   "execution_count": 28,
   "id": "dfb34cc4-371e-4ffa-a691-486134e91288",
   "metadata": {},
   "outputs": [
    {
     "name": "stdout",
     "output_type": "stream",
     "text": [
      "Quel est votre nom ?\n"
     ]
    },
    {
     "name": "stdin",
     "output_type": "stream",
     "text": [
      " KUASSI\n"
     ]
    },
    {
     "name": "stdout",
     "output_type": "stream",
     "text": [
      "Quel est votre sexe ?\n"
     ]
    },
    {
     "name": "stdin",
     "output_type": "stream",
     "text": [
      " Masculin\n"
     ]
    },
    {
     "name": "stdout",
     "output_type": "stream",
     "text": [
      "Dans quel pays etes-vous ?\n"
     ]
    },
    {
     "name": "stdin",
     "output_type": "stream",
     "text": [
      " Sénégal\n"
     ]
    },
    {
     "name": "stdout",
     "output_type": "stream",
     "text": [
      "Quelle est votre profession ?\n"
     ]
    },
    {
     "name": "stdin",
     "output_type": "stream",
     "text": [
      " Developpeur/Formateur\n"
     ]
    },
    {
     "name": "stdout",
     "output_type": "stream",
     "text": [
      "Quelle est votre taille ?\n"
     ]
    },
    {
     "name": "stdin",
     "output_type": "stream",
     "text": [
      " 1.80\n"
     ]
    },
    {
     "name": "stdout",
     "output_type": "stream",
     "text": [
      "Quel est votre poids ?\n"
     ]
    },
    {
     "name": "stdin",
     "output_type": "stream",
     "text": [
      " 68\n"
     ]
    },
    {
     "name": "stdout",
     "output_type": "stream",
     "text": [
      "Quelle est votre secteur professionnelle ?\n"
     ]
    },
    {
     "name": "stdin",
     "output_type": "stream",
     "text": [
      " Informatique\n"
     ]
    },
    {
     "name": "stdout",
     "output_type": "stream",
     "text": [
      "Combien d'année d'expérience ?\n"
     ]
    },
    {
     "name": "stdin",
     "output_type": "stream",
     "text": [
      " 4\n"
     ]
    }
   ],
   "source": [
    "# Correction faite par Eric\n",
    "def read_data():\n",
    "    person = {}\n",
    "    \n",
    "    print(\"Quel est votre nom ?\")\n",
    "    person['nom'] = input()\n",
    "    print(\"Quel est votre sexe ?\")\n",
    "    person['sexe'] = input()\n",
    "    print(\"Dans quel pays etes-vous ?\")\n",
    "    person['pays'] = input()\n",
    "    print(\"Quelle est votre profession ?\")\n",
    "    person['profession'] = input()\n",
    "    print(\"Quelle est votre taille ?\")\n",
    "    person['taille'] = input()\n",
    "    print(\"Quel est votre poids ?\")\n",
    "    person['poids'] = input()\n",
    "    print(\"Quelle est votre secteur professionnelle ?\")\n",
    "    person['secteur'] = input()\n",
    "    print(\"Combien d'année d'expérience ?\")\n",
    "    person['exp'] = input()\n",
    "    \n",
    "    return person\n",
    "\n",
    "def writeFile(filename: str, person: dict):\n",
    "    with open(filename, \"a\") as file:\n",
    "        file.write(\"\\n Informations Personnelles \\n\")\n",
    "        file.write(\"-\"*100)\n",
    "        file.write(f\"\\n Nom: {person['nom']} \\n\")\n",
    "        file.write(f\"Sexe: {person['sexe']} \\n\")\n",
    "        file.write(f\"Taille: {person['taille']} \\n\")\n",
    "        file.write(f\"Poids: {person['poids']} \\n\")\n",
    "\n",
    "        file.write(\"\\n Informations Professionnelles \\n\")\n",
    "        file.write(\"-\"*100)\n",
    "        file.write(f\"\\n Profession: {person['profession']} \\n\")\n",
    "        file.write(f\"Secteur Profession: {person['secteur']} \\n\")\n",
    "        file.write(f\"Experience: {person['exp']} \\n\")\n",
    "        \n",
    "    file.close()\n",
    "\n",
    "person = read_data()\n",
    "writeFile('files/Infos.txt', person)"
   ]
  },
  {
   "cell_type": "code",
   "execution_count": 29,
   "id": "cb109b1a-cdd7-40c9-a8b9-4772db16bdce",
   "metadata": {},
   "outputs": [
    {
     "name": "stdout",
     "output_type": "stream",
     "text": [
      "\n",
      " Informations Personnelles \n",
      "----------------------------------------------------------------------------------------------------\n",
      " Nom: KUASSI \n",
      "Sexe: Masculin \n",
      "Taille: 1.80 \n",
      "Poids: 68 \n",
      "\n",
      " Informations Professionnelles \n",
      "----------------------------------------------------------------------------------------------------\n",
      " Profession: Developpeur/Formateur \n",
      "Secteur Profession: Informatique \n",
      "Experience: 4 \n",
      "\n"
     ]
    }
   ],
   "source": [
    "openFile('files/Infos.txt')"
   ]
  },
  {
   "cell_type": "code",
   "execution_count": 31,
   "id": "e0ab7b74-3204-4a1b-9123-db2d40489125",
   "metadata": {},
   "outputs": [],
   "source": [
    "# Exercice\n",
    "# Ecriver une fonction qui permet de demander à la console\n",
    "#     Le nom d'une personne\n",
    "#     Sa taille\n",
    "#     Son poids\n",
    "# Faites cette actions 5 fois avec différentes Personnes\n",
    "# Ainsi varier les poids et les tailles.\n",
    "\n",
    "# Récupérer ces valeurs puis enrégister comme suit dans un fichier\n",
    "# Donner le nom Persons.txt à ce fichier\n",
    "\n",
    "# Informations Personnelles\n",
    "# -------------------------\n",
    "# Nom: _____\n",
    "# Taille: _____\n",
    "# Poids: _____\n",
    "\n",
    "# Liser le fichier Persons.txt\n",
    "# Créer une liste dans laquelle vous enrégistrerez les personnes comme suit:\n",
    "#     [\n",
    "#         (Nom, Taille, Poids),\n",
    "#         (Nom, Taille, Poids),\n",
    "#         (Nom, Taille, Poids),\n",
    "#     ]\n",
    "# Recupérer le nombre de personnes enrégistrées\n",
    "# NB: Le challenge est de récupérer le nombre d'élément a partir d'un fichier et d'un délimiteur\n",
    "# NB: Donc veuillez à ne pas stocker le nombre di'itération comme nombre de personne puis que en cas réèl cette valeur se réinitialisera\n",
    "# NB: Donc récupérer le nombre à partir du fichier\n",
    "# NB: Libre a vous de choisir un délimiteur\n",
    "# A l'aide des informations déterminer l'IMC de ces personnes\n",
    "# Puis Mettez a jour  le fichier en suivant ce format:\n",
    "\n",
    "# Informations Personnelles\n",
    "# -------------------------\n",
    "# Nom: _____\n",
    "# Taille: _____\n",
    "# Poids: _____\n",
    "# Imc: _____\n",
    "# Etat Imc: _____\n",
    "\n",
    "# NB: Prenez en compte le statut de l'IMC comme étant l'etat\n",
    "# NB: Basez vous sur les données des exercices précédents."
   ]
  },
  {
   "cell_type": "code",
   "execution_count": 1,
   "id": "231f4893-0f02-4bc6-897e-5ab88fea83e4",
   "metadata": {},
   "outputs": [
    {
     "name": "stdout",
     "output_type": "stream",
     "text": [
      "Quel est votre nom ?\n"
     ]
    },
    {
     "name": "stdin",
     "output_type": "stream",
     "text": [
      " Eric\n"
     ]
    },
    {
     "name": "stdout",
     "output_type": "stream",
     "text": [
      "Quelle est votre taille ?\n"
     ]
    },
    {
     "name": "stdin",
     "output_type": "stream",
     "text": [
      " 1.82\n"
     ]
    },
    {
     "name": "stdout",
     "output_type": "stream",
     "text": [
      "Quel est votre poids ?\n"
     ]
    },
    {
     "name": "stdin",
     "output_type": "stream",
     "text": [
      " 65\n"
     ]
    },
    {
     "name": "stdout",
     "output_type": "stream",
     "text": [
      "('Eric', '1.82', '65', 19.623233908948194, 'Corpulance normale')\n"
     ]
    }
   ],
   "source": [
    "# Correction faite par Eric\n",
    "def read_data():\n",
    "    person = {}\n",
    "    \n",
    "    print(\"Quel est votre nom ?\")\n",
    "    person['nom'] = input()\n",
    "    print(\"Quelle est votre taille ?\")\n",
    "    person['taille'] = input()\n",
    "    print(\"Quel est votre poids ?\")\n",
    "    person['poids'] = input()\n",
    "    \n",
    "    return person\n",
    "\n",
    "def writeFile(filename: str, person: dict):\n",
    "    with open(filename, \"a\") as file:\n",
    "        file.write(\"\\n\\n Informations Personnelles \\n\")\n",
    "        file.write(\"-\"*100)\n",
    "        file.write(f\"\\n Nom: {person['nom']} \\n\")\n",
    "        file.write(f\"Taille: {person['taille']} \\n\")\n",
    "        file.write(f\"Poids: {person['poids']} \\n\")\n",
    "        \n",
    "    file.close()\n",
    "    \n",
    "def cal_imc(taille, poids):\n",
    "    return poids / (taille**2)\n",
    "\n",
    "def check_etat(imc):\n",
    "    if imc < 0:\n",
    "        return 'Erreur'\n",
    "    elif 0 < imc and imc < 18.5:\n",
    "        return 'Insuffissance pondérale'\n",
    "    elif 18.5 < imc and imc < 25:\n",
    "        return 'Corpulance normale'\n",
    "    elif 25 < imc and imc < 30:\n",
    "        return 'Surpoids'\n",
    "    else:\n",
    "        return 'Obésité'\n",
    "\n",
    "def openFile(filename: str):\n",
    "    l_person = []\n",
    "    \n",
    "    with open(filename, 'r') as f:\n",
    "        lines = f.readlines()\n",
    "        #print(lines)\n",
    "    for line in lines:\n",
    "        if 'Nom' in line:\n",
    "            nom = line.split(':')[1].strip()\n",
    "        elif 'Taille' in line:\n",
    "            taille = line.split(':')[1].strip()\n",
    "        elif 'Poids' in line:\n",
    "            poids = line.split(':')[1].strip()\n",
    "            l_person.append((nom, taille, poids))\n",
    "        \n",
    "    f.close() # ferme le fichier\n",
    "    return l_person, len(l_person)\n",
    "\n",
    "def updateData(l_person: list):\n",
    "    new_info = []\n",
    "    for person in l_person:\n",
    "        imc = cal_imc(float(person[1]), float(person[2]))\n",
    "        etat = check_etat(imc)\n",
    "        new_info.append((person[0],\n",
    "                 person[1],\n",
    "                 person[2],\n",
    "                 imc,\n",
    "                 etat))\n",
    "            \n",
    "    return new_info\n",
    "\n",
    "def updateFile(filename: str, persons: dict):\n",
    "    with open(filename, \"a\") as file:\n",
    "        for person in persons:\n",
    "            print(person)\n",
    "            file.write(\"-\"*100)\n",
    "            file.write(\"\\n Informations Personnelles \\n\")\n",
    "            file.write(\"-\"*100)\n",
    "            file.write(f\"\\n Nom: {person[0]} \\n\")\n",
    "            file.write(f\"Taille: {person[1]} \\n\")\n",
    "            file.write(f\"Poids: {person[2]} \\n\")\n",
    "            file.write(\"Santé \\n\")\n",
    "            file.write(\"-\"*100)\n",
    "            file.write(f\"\\n Imc: {person[3]} \\n\")\n",
    "            file.write(f\"Etat: {person[4]} \\n\")\n",
    "        file.close()\n",
    "        \n",
    "person             = read_data()\n",
    "writeFile('files/Persons.txt', person)\n",
    "l_person, effectif    = openFile('files/Persons.txt')\n",
    "new_persons           = updateData(l_person)\n",
    "updateFile('files/Persons_Update.txt', new_persons)"
   ]
  },
  {
   "cell_type": "markdown",
   "id": "9e3f88da-d9fc-4ec5-a7d2-8e2c848683f6",
   "metadata": {},
   "source": [
    "## Les classes"
   ]
  },
  {
   "cell_type": "code",
   "execution_count": 2,
   "id": "227deb11-5efe-4a38-a72e-35c554e0c808",
   "metadata": {},
   "outputs": [],
   "source": [
    "# La syntaxe de déclaration d'une classe\n",
    "# class nomDeLClasse:\n",
    "#      pass\n",
    "\n",
    "# def nomDeLaFonction():\n",
    "#     pass\n",
    "\n",
    "def jumpNextLine():\n",
    "    print('\\n')\n",
    "\n",
    "\n",
    "class A:\n",
    "    pass\n",
    "\n",
    "\n",
    "class B(A):\n",
    "    pass\n",
    "\n",
    "\n",
    "class C(B):\n",
    "    pass"
   ]
  },
  {
   "cell_type": "code",
   "execution_count": 3,
   "id": "12d1ee39-9f63-47c5-ac4b-492f4b5e9bdd",
   "metadata": {},
   "outputs": [],
   "source": [
    "varA = A()\n",
    "varB = B()\n",
    "varC = C()"
   ]
  },
  {
   "cell_type": "code",
   "execution_count": 4,
   "id": "f869f964-3990-464d-9913-39350aa86766",
   "metadata": {},
   "outputs": [
    {
     "data": {
      "text/plain": [
       "<__main__.A at 0x7fd4234f5b20>"
      ]
     },
     "execution_count": 4,
     "metadata": {},
     "output_type": "execute_result"
    }
   ],
   "source": [
    "varA"
   ]
  },
  {
   "cell_type": "code",
   "execution_count": 5,
   "id": "b0c48b02-2fb3-41c6-9c88-2021dc596e55",
   "metadata": {},
   "outputs": [
    {
     "data": {
      "text/plain": [
       "<__main__.B at 0x7fd4234f5130>"
      ]
     },
     "execution_count": 5,
     "metadata": {},
     "output_type": "execute_result"
    }
   ],
   "source": [
    "varB"
   ]
  },
  {
   "cell_type": "code",
   "execution_count": 6,
   "id": "3ed2dbaa-1c09-45c3-8ab5-bf0a126142c1",
   "metadata": {},
   "outputs": [
    {
     "data": {
      "text/plain": [
       "<__main__.C at 0x7fd4234f5790>"
      ]
     },
     "execution_count": 6,
     "metadata": {},
     "output_type": "execute_result"
    }
   ],
   "source": [
    "varC"
   ]
  },
  {
   "cell_type": "code",
   "execution_count": 7,
   "id": "7bae562c-26dd-431a-b1f5-7f25004599a0",
   "metadata": {},
   "outputs": [
    {
     "data": {
      "text/plain": [
       "['__class__',\n",
       " '__delattr__',\n",
       " '__dict__',\n",
       " '__dir__',\n",
       " '__doc__',\n",
       " '__eq__',\n",
       " '__format__',\n",
       " '__ge__',\n",
       " '__getattribute__',\n",
       " '__gt__',\n",
       " '__hash__',\n",
       " '__init__',\n",
       " '__init_subclass__',\n",
       " '__le__',\n",
       " '__lt__',\n",
       " '__module__',\n",
       " '__ne__',\n",
       " '__new__',\n",
       " '__reduce__',\n",
       " '__reduce_ex__',\n",
       " '__repr__',\n",
       " '__setattr__',\n",
       " '__sizeof__',\n",
       " '__str__',\n",
       " '__subclasshook__',\n",
       " '__weakref__']"
      ]
     },
     "execution_count": 7,
     "metadata": {},
     "output_type": "execute_result"
    }
   ],
   "source": [
    "# Pour vérifier les fonctions natives d'une classe\n",
    "# On peut utiliser la fonction dir()\n",
    "# Exemple: dir(varA)\n",
    "\n",
    "dir(varA)"
   ]
  },
  {
   "cell_type": "code",
   "execution_count": 16,
   "id": "11d15e72-8ac5-4bf1-9a61-7d438e2f32bf",
   "metadata": {},
   "outputs": [
    {
     "data": {
      "text/plain": [
       "('Lamine', 'Masculin', 'DSI006')"
      ]
     },
     "execution_count": 16,
     "metadata": {},
     "output_type": "execute_result"
    }
   ],
   "source": [
    "# Ajout d'attribut dans une classe\n",
    "varA = A()\n",
    "varA.name   = 'Lamine'\n",
    "varA.sex    = 'Masculin'\n",
    "varA.classe = 'DSI006'\n",
    "\n",
    "varA.name, varA.sex, varA.classe"
   ]
  },
  {
   "cell_type": "code",
   "execution_count": 10,
   "id": "61a1674f-8ff6-46a9-bf22-9b0c6618a303",
   "metadata": {},
   "outputs": [
    {
     "data": {
      "text/plain": [
       "('sex', 'name', 'classe')"
      ]
     },
     "execution_count": 10,
     "metadata": {},
     "output_type": "execute_result"
    }
   ],
   "source": [
    "dir(varA)[-1], dir(varA)[-2], dir(varA)[-3]"
   ]
  },
  {
   "cell_type": "code",
   "execution_count": 11,
   "id": "4f24a8f1-28b6-41c1-b177-86f889824654",
   "metadata": {},
   "outputs": [
    {
     "name": "stdout",
     "output_type": "stream",
     "text": [
      "True\n",
      "True\n",
      "True\n"
     ]
    }
   ],
   "source": [
    "# Verification via la méthode hasattr dans varA\n",
    "print(hasattr(varA, 'name'))\n",
    "print(hasattr(varA, 'sex'))\n",
    "print(hasattr(varA, 'classe'))"
   ]
  },
  {
   "cell_type": "code",
   "execution_count": 12,
   "id": "f293c622-b0c7-4728-b703-21aacb127bbf",
   "metadata": {},
   "outputs": [
    {
     "name": "stdout",
     "output_type": "stream",
     "text": [
      "False\n",
      "False\n",
      "False\n"
     ]
    }
   ],
   "source": [
    "# Verification via la méthode hasattr dans A\n",
    "print(hasattr(A, 'name'))\n",
    "print(hasattr(A, 'sex'))\n",
    "print(hasattr(A, 'classe'))"
   ]
  },
  {
   "cell_type": "code",
   "execution_count": 14,
   "id": "456ee7bb-dc76-4d84-864f-30f53af589a0",
   "metadata": {},
   "outputs": [
    {
     "name": "stdout",
     "output_type": "stream",
     "text": [
      "True\n",
      "True\n",
      "True\n"
     ]
    }
   ],
   "source": [
    "class A:\n",
    "    name   = 'Lamine'\n",
    "    sex    = 'Masculin'\n",
    "    classe = 'DSI006'\n",
    "\n",
    "# Verification via la méthode hasattr dans A\n",
    "print(hasattr(A, 'name'))\n",
    "print(hasattr(A, 'sex'))\n",
    "print(hasattr(A, 'classe'))"
   ]
  },
  {
   "cell_type": "code",
   "execution_count": 15,
   "id": "a0622022-3098-461f-bf7f-e645d2cfdb0e",
   "metadata": {},
   "outputs": [
    {
     "name": "stdout",
     "output_type": "stream",
     "text": [
      "True\n",
      "True\n",
      "True\n",
      "True\n",
      "True\n",
      "True\n",
      "True\n",
      "True\n",
      "True\n",
      "True\n",
      "True\n",
      "True\n"
     ]
    }
   ],
   "source": [
    "# Convention d'écriture du nom des classes\n",
    "# Commencer par une lettre majuscule et poursuivre avec la notation camel case\n",
    "# Exemple: class EricPerson, class EricPersonDit\n",
    "class Eric:\n",
    "    name   = 'Eric'\n",
    "    sex    = 'Masculin'\n",
    "    classe = 'DSI006'\n",
    "    \n",
    "class MaodoSene:\n",
    "    name   = 'Maodo'\n",
    "    sex    = 'Masculin'\n",
    "    classe = 'DSI006'\n",
    "    \n",
    "class LamineFaty:\n",
    "    name   = 'Lamine'\n",
    "    sex    = 'Masculin'\n",
    "    classe = 'DSI006'\n",
    "    \n",
    "class Russell:\n",
    "    name   = 'Russell'\n",
    "    sex    = 'Masculin'\n",
    "    classe = 'DSI006'\n",
    "\n",
    "# Verification via la méthode hasattr dans A\n",
    "print(hasattr(Eric, 'name'))\n",
    "print(hasattr(Eric, 'sex'))\n",
    "print(hasattr(Eric, 'classe'))\n",
    "\n",
    "print(hasattr(MaodoSene, 'name'))\n",
    "print(hasattr(MaodoSene, 'sex'))\n",
    "print(hasattr(MaodoSene, 'classe'))\n",
    "\n",
    "print(hasattr(LamineFaty, 'name'))\n",
    "print(hasattr(LamineFaty, 'sex'))\n",
    "print(hasattr(LamineFaty, 'classe'))\n",
    "\n",
    "print(hasattr(Russell, 'name'))\n",
    "print(hasattr(Russell, 'sex'))\n",
    "print(hasattr(Russell, 'classe'))"
   ]
  },
  {
   "cell_type": "code",
   "execution_count": 17,
   "id": "44832eb3-8ffb-4fe6-8f38-66cb3f544f61",
   "metadata": {},
   "outputs": [
    {
     "data": {
      "text/plain": [
       "('Lamine', 'Masculin', 'DSI006')"
      ]
     },
     "execution_count": 17,
     "metadata": {},
     "output_type": "execute_result"
    }
   ],
   "source": [
    "# Récupération des attributs (Méthode 1)\n",
    "LamineFaty.name, LamineFaty.sex, LamineFaty.classe"
   ]
  },
  {
   "cell_type": "code",
   "execution_count": 22,
   "id": "be58c300-3775-4765-93b8-449deb6d71c3",
   "metadata": {},
   "outputs": [
    {
     "data": {
      "text/plain": [
       "('Lamine', 'Masculin', 'DSI006')"
      ]
     },
     "execution_count": 22,
     "metadata": {},
     "output_type": "execute_result"
    }
   ],
   "source": [
    "# Récupération des attributs (Méthode 2)\n",
    "# Généralement les méthodes avec les __ sont des méthodes magiques\n",
    "LamineFaty().__getattribute__('name'), LamineFaty().__getattribute__('sex'), LamineFaty().__getattribute__('classe')"
   ]
  },
  {
   "cell_type": "code",
   "execution_count": 23,
   "id": "564a9500-6b3f-4ecb-9491-9578f76e1ffc",
   "metadata": {},
   "outputs": [],
   "source": [
    "# Héritage\n",
    "class B(LamineFaty):\n",
    "    pass"
   ]
  },
  {
   "cell_type": "code",
   "execution_count": 29,
   "id": "9a9d04af-a0ba-4803-98ea-5f8fe8d775ea",
   "metadata": {},
   "outputs": [
    {
     "name": "stdout",
     "output_type": "stream",
     "text": [
      "Lamine\n",
      "Masculin\n",
      "DSI006\n"
     ]
    }
   ],
   "source": [
    "# Récupération des attributs (Méthode 1)\n",
    "def getAllAtributesFromBV1():\n",
    "    if hasattr(B, 'name'):   #vérification de l'existence de name dans B\n",
    "        print(B().__getattribute__('name'))\n",
    "\n",
    "    if hasattr(B, 'sex'):    #vérification de l'existence de sex dans B\n",
    "        print(B().__getattribute__('sex'))\n",
    "\n",
    "    if hasattr(B, 'classe'): #vérification de l'existence de classe dans B\n",
    "        print(B().__getattribute__('classe'))\n",
    "        \n",
    "# Récupération des attributs (Méthode 1)\n",
    "def getAllAtributesFromBV2():\n",
    "    if hasattr(B, 'name'):   #vérification de l'existence de name dans B\n",
    "        print(B.name)\n",
    "\n",
    "    if hasattr(B, 'sex'):    #vérification de l'existence de sex dans B\n",
    "        print(B.sex)\n",
    "\n",
    "    if hasattr(B, 'classe'): #vérification de l'existence de classe dans B\n",
    "        print(B.classe)\n",
    "        \n",
    "getAllAtributesFromBV1()\n",
    "# getAllAtributesFromBV2()"
   ]
  },
  {
   "cell_type": "code",
   "execution_count": 31,
   "id": "a88b264e-6269-4fa0-8a81-5c446cace3aa",
   "metadata": {},
   "outputs": [],
   "source": [
    "# Tester l'héritage d'attributs\n",
    "# Mise en exemple\n",
    "class ElementCommun:\n",
    "    sex    = 'Masculin'\n",
    "    classe = 'DSI006'\n",
    "    \n",
    "class LamineFaty(ElementCommun):\n",
    "    name = 'Lamine'\n",
    "    \n",
    "class Russell(ElementCommun):\n",
    "    name = 'Russell'"
   ]
  },
  {
   "cell_type": "code",
   "execution_count": 32,
   "id": "cc046575-30e6-4970-88bd-407415c24d4a",
   "metadata": {},
   "outputs": [
    {
     "data": {
      "text/plain": [
       "('Lamine', 'Masculin', 'DSI006')"
      ]
     },
     "execution_count": 32,
     "metadata": {},
     "output_type": "execute_result"
    }
   ],
   "source": [
    "varLF = LamineFaty()\n",
    "varRL = Russell()\n",
    "\n",
    "# Récupération des attributs (Méthode 2)\n",
    "varLF.__getattribute__('name'), varLF.__getattribute__('sex'), varLF.__getattribute__('classe')"
   ]
  },
  {
   "cell_type": "code",
   "execution_count": 34,
   "id": "e2d95f28-8a08-40db-97ce-8ebb2d626182",
   "metadata": {},
   "outputs": [
    {
     "data": {
      "text/plain": [
       "('Russell', 'Masculin', 'DSI006', 1000000.0, 'F CFA(XOF)')"
      ]
     },
     "execution_count": 34,
     "metadata": {},
     "output_type": "execute_result"
    }
   ],
   "source": [
    "# Tester l'héritage d'attributs\n",
    "# Tester l'héritage Multiple\n",
    "# Python support l'héritage multiple\n",
    "\n",
    "class ElementCommunOne:\n",
    "    sex    = 'Masculin'\n",
    "    classe = 'DSI006'\n",
    "    \n",
    "class ElementCommunTwo:\n",
    "    salaire = 1000000.00\n",
    "    devise  = 'F CFA(XOF)'\n",
    "    \n",
    "class LamineFaty(ElementCommun, ElementCommunTwo):\n",
    "    name = 'Lamine'\n",
    "    \n",
    "class Russell(ElementCommun, ElementCommunTwo):\n",
    "    name = 'Russell'\n",
    "\n",
    "varLF = LamineFaty()\n",
    "varRL = Russell()\n",
    "\n",
    "# Récupération des attributs (Méthode 1)\n",
    "varRL.name, varRL.sex, varRL.classe, varRL.salaire, varRL.devise"
   ]
  },
  {
   "cell_type": "code",
   "execution_count": 35,
   "id": "127de37f-786b-4835-bfea-770d1bdc9bfd",
   "metadata": {},
   "outputs": [],
   "source": [
    "# Héritage des méthodes d'une classe\n",
    "class A:\n",
    "    name = 'Ali'\n",
    "    sex = 'Masculin'\n",
    "    age = 28\n",
    "\n",
    "    def getName(self) -> str:\n",
    "        return self.name\n",
    "\n",
    "    def getSex(self) -> str:\n",
    "        return self.sex\n",
    "\n",
    "    def getAge(self) -> int:\n",
    "        return self.age\n",
    "\n",
    "    def setName(self, newName: str) -> str:\n",
    "        self.name = newName\n",
    "\n",
    "    def setSex(self, newSex: str) -> str:\n",
    "        self.sex = newSex\n",
    "\n",
    "    def setAge(self, newAge: int) -> int:\n",
    "        self.age = newAge"
   ]
  },
  {
   "cell_type": "code",
   "execution_count": 36,
   "id": "08e1f23c-00b6-4d6d-a365-464bf96470c4",
   "metadata": {},
   "outputs": [],
   "source": [
    "class B(A):\n",
    "    pass"
   ]
  },
  {
   "cell_type": "code",
   "execution_count": 37,
   "id": "ae08ebbe-73b8-4f86-98ec-7fa19c4feb95",
   "metadata": {},
   "outputs": [
    {
     "data": {
      "text/plain": [
       "('Ali', 'Masculin', 28)"
      ]
     },
     "execution_count": 37,
     "metadata": {},
     "output_type": "execute_result"
    }
   ],
   "source": [
    "varB = B()\n",
    "\n",
    "varB.getName(), varB.getSex(), varB.getAge()"
   ]
  },
  {
   "cell_type": "code",
   "execution_count": 38,
   "id": "a665febb-7e4c-478d-8408-dcdbeace0b90",
   "metadata": {},
   "outputs": [],
   "source": [
    "# Dès qu'on déclare une variable le systeme lui alloue:\n",
    "#    un espace mémoire\n",
    "#    une adresse mémoire\n",
    "#    ainsi deux instances de la même classe auront deux adresses mémoire différentes\n",
    "varA = A()\n",
    "varB = B()\n",
    "\n",
    "varB.setName('Russell')"
   ]
  },
  {
   "cell_type": "code",
   "execution_count": 39,
   "id": "8c1ec8cb-dadd-4be6-a483-1dc78fea2968",
   "metadata": {},
   "outputs": [
    {
     "data": {
      "text/plain": [
       "'Russell'"
      ]
     },
     "execution_count": 39,
     "metadata": {},
     "output_type": "execute_result"
    }
   ],
   "source": [
    "varB.getName()"
   ]
  },
  {
   "cell_type": "code",
   "execution_count": 40,
   "id": "06756142-c78e-430e-8bbe-cd746f832d4c",
   "metadata": {},
   "outputs": [
    {
     "data": {
      "text/plain": [
       "'Ali'"
      ]
     },
     "execution_count": 40,
     "metadata": {},
     "output_type": "execute_result"
    }
   ],
   "source": [
    "varA.getName()"
   ]
  },
  {
   "cell_type": "code",
   "execution_count": 41,
   "id": "ab336286-a752-4c0c-ba0c-8005ee480318",
   "metadata": {},
   "outputs": [],
   "source": [
    "# Exercice 9 (Middle word)\n",
    "# Correction faite par Russell\n",
    "def mid(string):\n",
    "    if (len(string)) % 2 == 0 :\n",
    "        return (' ')\n",
    "    else:\n",
    "        return string[len(string)//2]"
   ]
  },
  {
   "cell_type": "code",
   "execution_count": 42,
   "id": "4d5470ab-6a34-4cb6-8ec7-f22cc01adb6c",
   "metadata": {},
   "outputs": [
    {
     "name": "stdin",
     "output_type": "stream",
     "text": [
      "Entrer une phrase ou un mot:  abc\n"
     ]
    },
    {
     "data": {
      "text/plain": [
       "'b'"
      ]
     },
     "execution_count": 42,
     "metadata": {},
     "output_type": "execute_result"
    }
   ],
   "source": [
    "# Exercice 9: Middle letter\n",
    "# Correction faite par Maodo Sene\n",
    "def EnterChaine():\n",
    "    chaine = input(\"Entrer une phrase ou un mot: \")\n",
    "    return chaine\n",
    "def mid(chaine: str):\n",
    "    length = len(chaine)//2\n",
    "    return chaine[round(length)] if len(chaine)%2!=0 else  \"\"\n",
    "\n",
    "mid(EnterChaine())"
   ]
  },
  {
   "cell_type": "code",
   "execution_count": 43,
   "id": "5e4f4fc4-373a-44d9-8597-bc3e3a1ad717",
   "metadata": {},
   "outputs": [],
   "source": [
    "# Exercice 9: Middle letter\n",
    "# Correction faite par Anselme\n",
    "def mid(word : str):\n",
    "    if len(word)%2 == 0:\n",
    "        return \"\"\n",
    "    else:\n",
    "        index = (len(word)//2)\n",
    "        return word[index]"
   ]
  },
  {
   "cell_type": "code",
   "execution_count": 44,
   "id": "eea2e255-6bea-4d3d-9b94-921d99a66e7f",
   "metadata": {},
   "outputs": [],
   "source": [
    "# Exercice 9 Mid letter\n",
    "# Correction...\n",
    "def mid(word: str):\n",
    "    lenght = len(word)\n",
    "    return \"\" if lenght % 2 == 0 else word[lenght//2]"
   ]
  },
  {
   "cell_type": "code",
   "execution_count": 47,
   "id": "2aa27955-d26d-4a8b-9764-2d80f2b323ac",
   "metadata": {},
   "outputs": [],
   "source": [
    "statuses = { \"Alice\": \"online\",\n",
    "             \"Bob\": \"offline\", \n",
    "             \"Eve\": \"online\", \n",
    "             \"Eva\": \"online\"}\n",
    "\n",
    "# Exercice 9: count status\n",
    "# Correction faite par Anselme\n",
    "def online_count_one(status : dict):\n",
    "    count = 0\n",
    "    for key in status:\n",
    "        if status[key] == 'online':\n",
    "            count = count + 1          \n",
    "    return count\n",
    "\n",
    "def online_count_two(status : dict):\n",
    "    count = 0\n",
    "    for key,value in status.items():\n",
    "        if value == 'online':\n",
    "            count = count + 1          \n",
    "    return count"
   ]
  },
  {
   "cell_type": "code",
   "execution_count": 48,
   "id": "5c63cceb-ad79-4b61-9247-f6d0a6f0ab9e",
   "metadata": {},
   "outputs": [
    {
     "data": {
      "text/plain": [
       "3"
      ]
     },
     "execution_count": 48,
     "metadata": {},
     "output_type": "execute_result"
    }
   ],
   "source": [
    "# Exercice 9: count status\n",
    "# Correction faite par Maodo Sene\n",
    "def online_count(dico: dict):\n",
    "    online_numb = 0\n",
    "    for value in dico.values():\n",
    "        if value ==\"online\":\n",
    "            online_numb +=1\n",
    "    return online_numb\n",
    "\n",
    "online_count(statuses)"
   ]
  },
  {
   "cell_type": "code",
   "execution_count": 50,
   "id": "7abf1971-92a3-456c-a73c-8b140aff4565",
   "metadata": {},
   "outputs": [
    {
     "data": {
      "text/plain": [
       "'The number of people online is: 3'"
      ]
     },
     "execution_count": 50,
     "metadata": {},
     "output_type": "execute_result"
    }
   ],
   "source": [
    "# Exercice 9: count status\n",
    "# Correction faite par Russell\n",
    "def online_count(dico):\n",
    "    count = 0\n",
    "    for status in dico.values():\n",
    "        if status == \"online\" :\n",
    "            count += 1\n",
    "    return (\"The number of people online is: \" + str((count)))\n",
    "    \n",
    "#python3_statuses = { \"Alice\": \"online\", \"Bob\": \"offline\", \"Eve\": \"online\"}\n",
    "#print(online_count(python3_statuses))\n",
    "\n",
    "python4_statuses = { \"Alice\": \"online\", \"Bob\": \"offline\", \"Eve\": \"online\", \"Russell\": \"online\"}\n",
    "online_count(python4_statuses)"
   ]
  },
  {
   "cell_type": "code",
   "execution_count": 52,
   "id": "a040b5e1-84dc-4716-b8ed-5593d5b6204f",
   "metadata": {},
   "outputs": [],
   "source": [
    "# Exercice 9: Randomness\n",
    "# Correction faite par Anselme\n",
    "import random\n",
    "def random_number():\n",
    "    generate_number = random.randint(1, 100)\n",
    "    return generate_number"
   ]
  },
  {
   "cell_type": "code",
   "execution_count": 53,
   "id": "ea7d9663-4571-4a36-881a-663f6224c522",
   "metadata": {},
   "outputs": [
    {
     "data": {
      "text/plain": [
       "57"
      ]
     },
     "execution_count": 53,
     "metadata": {},
     "output_type": "execute_result"
    }
   ],
   "source": [
    "# Exercice 9: Randomness\n",
    "# Correction faite par Maodo\n",
    "def random_number():\n",
    "    return random.randint(1,100)\n",
    "\n",
    "random_number()"
   ]
  },
  {
   "cell_type": "code",
   "execution_count": 54,
   "id": "55e01a05-f662-434b-b5c7-9f4e820d4342",
   "metadata": {},
   "outputs": [
    {
     "name": "stdin",
     "output_type": "stream",
     "text": [
      "Entrer une phrase ou un mot ne contant pas de . : test\n"
     ]
    },
    {
     "name": "stdout",
     "output_type": "stream",
     "text": [
      "t.e.s.t\n",
      "test\n"
     ]
    }
   ],
   "source": [
    "# Exercice 9: Randomness\n",
    "# Correction faite par Maodo\n",
    "def add_dots():\n",
    "    while True:\n",
    "        chaine = input(\"Entrer une phrase ou un mot ne contant pas de . :\")\n",
    "        if \".\" not in chaine:\n",
    "            break\n",
    "    chaine_dot = chaine.replace(\"\", \".\").strip(\".\").replace(\". \", \" \").replace(\" .\",\" \").replace(\".,\",\",\")\n",
    "    print(chaine_dot)\n",
    "    return chaine_dot\n",
    "\n",
    "def remove_dots(chaine: str):\n",
    "    return chaine.replace(\".\",\"\")\n",
    "\n",
    "print(remove_dots(add_dots()))"
   ]
  },
  {
   "cell_type": "code",
   "execution_count": 55,
   "id": "0ef7631a-9f66-494c-94ca-699757e7cde9",
   "metadata": {},
   "outputs": [],
   "source": [
    "# Exercice 9: Randomness\n",
    "# Correction faite par Russell ou Anselme\n",
    "\n",
    "string = \"test\"\n",
    "\n",
    "def add_dots(string):\n",
    "    x = \".\".join(string)\n",
    "    return (x)\n",
    "\n",
    "def remove_dots(string):\n",
    "    x = string.replace(\".\", \"\")\n",
    "    return (x)\n",
    "\n",
    "#add_dots(string)\n",
    "#remove_dots(string)\n",
    "#remove_dots(add_dots(string))"
   ]
  },
  {
   "cell_type": "code",
   "execution_count": 56,
   "id": "b1adb8a1-7c04-4233-bd71-6553cff20dd1",
   "metadata": {},
   "outputs": [
    {
     "name": "stdin",
     "output_type": "stream",
     "text": [
      "entrer une chaine: hip-pop\n"
     ]
    },
    {
     "data": {
      "text/plain": [
       "2"
      ]
     },
     "execution_count": 56,
     "metadata": {},
     "output_type": "execute_result"
    }
   ],
   "source": [
    "# Exercice 9: count syllables\n",
    "# Correction faite par Maodo Sene\n",
    "def syllables_count():\n",
    "    string = input(\"entrer une chaine:\")\n",
    "    nb_syllab = string.count(\"-\") +1\n",
    "    return nb_syllab\n",
    "syllables_count()"
   ]
  },
  {
   "cell_type": "code",
   "execution_count": 57,
   "id": "935dd16d-63dd-4394-b6df-8f94dc567c57",
   "metadata": {},
   "outputs": [],
   "source": [
    "# Exercice 9: count syllables\n",
    "# Correction faite par Anselme\n",
    "def count(words : str):\n",
    "    countSyllabes = words.count('-')\n",
    "    return countSyllabes+1"
   ]
  },
  {
   "cell_type": "code",
   "execution_count": 62,
   "id": "a5481414-0ffd-4f05-861c-44b1f6c3022f",
   "metadata": {},
   "outputs": [],
   "source": [
    "# Exercice 9: count syllables\n",
    "# Correction...\n",
    "def count(word: str):\n",
    "    return word.split('-').__len__()"
   ]
  },
  {
   "cell_type": "code",
   "execution_count": 61,
   "id": "e7a511ee-b790-4ac4-8139-318cf897609d",
   "metadata": {},
   "outputs": [
    {
     "data": {
      "text/plain": [
       "2"
      ]
     },
     "execution_count": 61,
     "metadata": {},
     "output_type": "execute_result"
    }
   ],
   "source": [
    "count('hip-hop')"
   ]
  },
  {
   "cell_type": "code",
   "execution_count": 63,
   "id": "fc8f3ff6-1359-4d63-a969-2b34b8a80159",
   "metadata": {},
   "outputs": [
    {
     "data": {
      "text/plain": [
       "'False'"
      ]
     },
     "execution_count": 63,
     "metadata": {},
     "output_type": "execute_result"
    }
   ],
   "source": [
    "# Exercice 9: anagram\n",
    "# Correction faite par Maodo Sene\n",
    "def is_anagram(chaine1: str, chaine2: str):\n",
    "    if len(chaine1)==len(chaine2):\n",
    "        tab1 = list()\n",
    "        tab2 = list()\n",
    "        chaine1 = chaine1.lower()\n",
    "        chaine2 = chaine2.lower()\n",
    "        for i,j in zip(chaine1, chaine2):\n",
    "            tab1.append((i,chaine1.count(i)))\n",
    "            tab2.append((j,chaine2.count(j)))\n",
    "        tab1 = sorted(tab1, reverse = True, key = lambda list:list[0])\n",
    "        tab2 = sorted(tab2, reverse = True, key = lambda list:list[0])\n",
    "        if tab1==tab2:\n",
    "            return \"True\"\n",
    "    else : return \"False\"\n",
    "#is_anagram(\"Vote\", \"Veto\")\n",
    "is_anagram(\"Alice\", \"Bob\")"
   ]
  },
  {
   "cell_type": "code",
   "execution_count": 64,
   "id": "d0d7545d-fc2a-4182-ab3c-e8e0ae4f3223",
   "metadata": {},
   "outputs": [],
   "source": [
    "# Exercice 9: anagram\n",
    "# Correction...\n",
    "def is_anagram(string1: str, string2: str):\n",
    "    return sorted(string1) == sorted(string2)"
   ]
  },
  {
   "cell_type": "code",
   "execution_count": 66,
   "id": "fa4af0f9-27c3-4256-a986-e5bf9e6e95aa",
   "metadata": {},
   "outputs": [
    {
     "data": {
      "text/plain": [
       "False"
      ]
     },
     "execution_count": 66,
     "metadata": {},
     "output_type": "execute_result"
    }
   ],
   "source": [
    "is_anagram(\"Alice\", \"Bob\")"
   ]
  },
  {
   "cell_type": "code",
   "execution_count": 67,
   "id": "3fd0405d-d254-43f0-aef6-0f6226de31ec",
   "metadata": {},
   "outputs": [
    {
     "data": {
      "text/plain": [
       "True"
      ]
     },
     "execution_count": 67,
     "metadata": {},
     "output_type": "execute_result"
    }
   ],
   "source": [
    "is_anagram(\"Vote\", \"Veto\")"
   ]
  },
  {
   "cell_type": "code",
   "execution_count": 68,
   "id": "4b507d2c-8cb2-47a8-bcfa-cfceb53d5209",
   "metadata": {},
   "outputs": [
    {
     "data": {
      "text/plain": [
       "[1, 2, 3, 4, 5, 6]"
      ]
     },
     "execution_count": 68,
     "metadata": {},
     "output_type": "execute_result"
    }
   ],
   "source": [
    "# Exercice 10\n",
    "# Correction faite par Maodo Sene\n",
    "def flatten(liste1: list):\n",
    "    n = len(liste1)\n",
    "    liste = []\n",
    "    for i in range(n):\n",
    "        liste.extend(liste1[i])\n",
    "    return liste\n",
    "\n",
    "flatten([[1, 2], [3, 4], [5, 6]])"
   ]
  },
  {
   "cell_type": "code",
   "execution_count": 69,
   "id": "8a56e52e-c196-40ad-8041-ec42e3ca2dea",
   "metadata": {},
   "outputs": [
    {
     "data": {
      "text/plain": [
       "[1, 2, 3, 4, 5, 6]"
      ]
     },
     "execution_count": 69,
     "metadata": {},
     "output_type": "execute_result"
    }
   ],
   "source": [
    "# Exercice 10\n",
    "# Prémière méthode (Utiliser la concaténation)\n",
    "# Correction\n",
    "def flatten(tableau: list):\n",
    "    flatten_tableau = []\n",
    "    for item in tableau:\n",
    "        flatten_tableau += item\n",
    "    return flatten_tableau\n",
    "\n",
    "flatten([[1, 2], [3, 4], [5, 6]])"
   ]
  },
  {
   "cell_type": "code",
   "execution_count": 71,
   "id": "71e825f9-9ed8-4c3c-aeef-a542abb3d3ee",
   "metadata": {},
   "outputs": [
    {
     "data": {
      "text/plain": [
       "[1, 2, 3, 4, 5, 6]"
      ]
     },
     "execution_count": 71,
     "metadata": {},
     "output_type": "execute_result"
    }
   ],
   "source": [
    "# Exercice 10\n",
    "# deuxième méthode (Utiliser les listes compréhensions)\n",
    "# Correction\n",
    "def flatten(tableau: list):\n",
    "    return [\n",
    "        item\n",
    "        for tableau_interne in tableau\n",
    "        for item in tableau_interne\n",
    "    ]\n",
    "\n",
    "flatten([[1, 2], [3, 4], [5, 6]])"
   ]
  },
  {
   "cell_type": "code",
   "execution_count": 1,
   "id": "7b25010f-5a95-4847-aa76-ada31966afca",
   "metadata": {},
   "outputs": [],
   "source": [
    "#Exercice: Class and function\n",
    "\n",
    "# Déclarer de manière global un taux de 0.18\n",
    "\n",
    "# Créer une premiere classe du nom Contrat\n",
    "# Cette classe contiendra deux attributs\n",
    "#     un attribut du nom de salaire\n",
    "#     un attribut du nom de salaire_baase\n",
    "#         initialiser le salaire à 500 000\n",
    "#         initialiser le salaire de base a 135 000\n",
    "# Créer des getters et des setters pour cette classe pour chaque attribut\n",
    "# Puis créer une fonction qui calcule le taux d'augmentation annuelle du salire global comme suit\n",
    "#     augmentation annuelle = salaire de base * taux\n",
    "\n",
    "# Créer une deuxième classe Employe\n",
    "# Cette classe contiendra les attributs suivants\n",
    "#     Votre nom\n",
    "#     Votre prenom\n",
    "#     Votre profession\n",
    "# Cette classe doit contenir une fonction qui prend en paramètre\n",
    "#     le nombre d'année (le nombre d'année ici est un entier)\n",
    "#     Considérant que l'augmentation se fait de manière annuelle\n",
    "#     Cette fonction doit donc retourner le salaire total par rapport au nombre d'année renseigné\n",
    "# Ecriver une autre fonction du nom de displaySalary():\n",
    "#     Cette fonction doit prendre le salaire, le nombre d'année et l'année actuelle de décompte de l'augmenation\n",
    "#     Exemple: displaySalary(580000, 5, 2020)\n",
    "#     Cette fonction doit retourner:\n",
    "#     -----------------------------\n",
    "#     Nom: __ votre Nom au complet\n",
    "#     Profession: ______\n",
    "#     Experience en année: ______\n",
    "#     Salaire à ce jour: ______\n",
    "#     Salaire de base: ________\n",
    "#     Sursalaire: ________\n",
    "#\n",
    "#\n",
    "# NB: Le sursalaire est la différence entre le salaire total et le salire de base\n",
    "# NB: Utiliser les notions adéquates pour utiliser les fonctions de la classe Contrat dans la classe Employe\n",
    "# NB: User de vôtre ingéniosité pour écrire un code claire et optimal"
   ]
  },
  {
   "cell_type": "code",
   "execution_count": 12,
   "id": "c912f75a-41da-4bf7-8e03-f630dfdd0eb0",
   "metadata": {},
   "outputs": [
    {
     "name": "stdout",
     "output_type": "stream",
     "text": [
      "<__main__.A object at 0x7fb3e7172b50>\n"
     ]
    }
   ],
   "source": [
    "class A:\n",
    "    pass\n",
    "\n",
    "var = A()\n",
    "\n",
    "print(var)"
   ]
  },
  {
   "cell_type": "code",
   "execution_count": 14,
   "id": "4e13731d-3783-4bfc-a9a4-3b3a9fd19ec3",
   "metadata": {},
   "outputs": [
    {
     "name": "stdout",
     "output_type": "stream",
     "text": [
      "Personne -> \n",
      "        ----------------------------\n",
      "        De Nom: Ali \n",
      "        De sexe: Masculin\n",
      "        Et d'age': 28\n",
      "        ----------------------------\n"
     ]
    }
   ],
   "source": [
    "class A:\n",
    "    name = 'Ali'\n",
    "    sex = 'Masculin'\n",
    "    age = 28\n",
    "    \n",
    "    # __repr__ permet de définir un résultat explicite lorsqu'on appelle ou instancie un objet\n",
    "    # Une classe est un objet (<__main__.A object at 0x7fb3e7172b50>)\n",
    "    def __repr__(self):\n",
    "        return f\"Personne -> \\n\\\n",
    "        ----------------------------\\n\\\n",
    "        De Nom: {self.getName()} \\n\\\n",
    "        De sexe: {self.getSex()}\\n\\\n",
    "        Et d'age': {self.getAge()}\\n\\\n",
    "        ----------------------------\"\n",
    "    \n",
    "    def getName(self) -> str:\n",
    "        return self.name\n",
    "\n",
    "    def getSex(self) -> str:\n",
    "        return self.sex\n",
    "\n",
    "    def getAge(self) -> int:\n",
    "        return self.age\n",
    "    \n",
    "var = A()\n",
    "\n",
    "print(var)"
   ]
  },
  {
   "cell_type": "code",
   "execution_count": 15,
   "id": "8fad6a65-4947-49a2-b38f-d24ae29d21fa",
   "metadata": {},
   "outputs": [
    {
     "data": {
      "text/plain": [
       "True"
      ]
     },
     "execution_count": 15,
     "metadata": {},
     "output_type": "execute_result"
    }
   ],
   "source": [
    "var1 = 18 # Entier sont aussi des Objects\n",
    "var2 = 20 # Entier sont aussi des Objects\n",
    "\n",
    "var2 > var1 # __gt__"
   ]
  },
  {
   "cell_type": "code",
   "execution_count": 20,
   "id": "8839e51a-a6c4-4f79-bd57-38d272335711",
   "metadata": {},
   "outputs": [],
   "source": [
    "class A:\n",
    "    name = 'Ali'\n",
    "    sex = 'Masculin'\n",
    "    age = 28\n",
    "    \n",
    "    # __repr__ permet de définir un résultat explicite lorsqu'on appelle ou instancie un objet\n",
    "    # Une classe est un objet (<__main__.A object at 0x7fb3e7172b50>)\n",
    "    def __repr__(self):\n",
    "        return f\"Personne -> \\n\\\n",
    "        ----------------------------\\n\\\n",
    "        De Nom: {self.getName()} \\n\\\n",
    "        De sexe: {self.getSex()}\\n\\\n",
    "        Et d'age': {self.getAge()}\\n\\\n",
    "        ----------------------------\"\n",
    "    \n",
    "    # naive method\n",
    "    def __eq__(self, other):\n",
    "        if isinstance(other, self.__class__):\n",
    "            if self.getName() == other.getName() \\\n",
    "                    and self.getSex() == other.getSex() \\\n",
    "                    and self.getAge() == other.getAge():\n",
    "                return True\n",
    "        return False\n",
    "    \n",
    "    def getName(self) -> str:\n",
    "        return self.name\n",
    "\n",
    "    def getSex(self) -> str:\n",
    "        return self.sex\n",
    "\n",
    "    def getAge(self) -> int:\n",
    "        return self.age"
   ]
  },
  {
   "cell_type": "code",
   "execution_count": 21,
   "id": "72d67e31-c575-4a44-a540-29fa95cd94b8",
   "metadata": {},
   "outputs": [
    {
     "data": {
      "text/plain": [
       "True"
      ]
     },
     "execution_count": 21,
     "metadata": {},
     "output_type": "execute_result"
    }
   ],
   "source": [
    "var_a1 = A()\n",
    "var_a2 = A()\n",
    "\n",
    "var_a1 == var_a2"
   ]
  },
  {
   "cell_type": "code",
   "execution_count": 22,
   "id": "448a454f-668d-4122-a3cd-2c28278bbf99",
   "metadata": {},
   "outputs": [
    {
     "ename": "TypeError",
     "evalue": "object of type 'A' has no len()",
     "output_type": "error",
     "traceback": [
      "\u001b[0;31m---------------------------------------------------------------------------\u001b[0m",
      "\u001b[0;31mTypeError\u001b[0m                                 Traceback (most recent call last)",
      "Input \u001b[0;32mIn [22]\u001b[0m, in \u001b[0;36m<module>\u001b[0;34m\u001b[0m\n\u001b[1;32m      1\u001b[0m \u001b[38;5;66;03m# La fonction len\u001b[39;00m\n\u001b[1;32m      2\u001b[0m \u001b[38;5;66;03m# Qui permet de retourner la longueur d'un object\u001b[39;00m\n\u001b[1;32m      3\u001b[0m \u001b[38;5;66;03m# Parce une Liste ou tuple ou dictionnaire est un object\u001b[39;00m\n\u001b[1;32m      4\u001b[0m \u001b[38;5;66;03m# Donc la class A peut implémenter ce comportement (len)\u001b[39;00m\n\u001b[0;32m----> 6\u001b[0m \u001b[38;5;28;43mlen\u001b[39;49m\u001b[43m(\u001b[49m\u001b[43mvar_a1\u001b[49m\u001b[43m)\u001b[49m\n",
      "\u001b[0;31mTypeError\u001b[0m: object of type 'A' has no len()"
     ]
    }
   ],
   "source": [
    "# La fonction len\n",
    "# Qui permet de retourner la longueur d'un object\n",
    "# Parce une Liste ou tuple ou dictionnaire est un object\n",
    "# Donc la class A peut implémenter ce comportement (len)\n",
    "\n",
    "len(var_a1)"
   ]
  },
  {
   "cell_type": "code",
   "execution_count": 26,
   "id": "c60594ea-1263-478d-9467-a250b87e9ebd",
   "metadata": {},
   "outputs": [],
   "source": [
    "class A:\n",
    "    name = 'Ali'\n",
    "    sex = 'Masculin'\n",
    "    age = 28\n",
    "    \n",
    "    # __repr__ permet de définir un résultat explicite lorsqu'on appelle ou instancie un objet\n",
    "    # Une classe est un objet (<__main__.A object at 0x7fb3e7172b50>)\n",
    "    def __repr__(self):\n",
    "        return f\"Personne -> \\n\\\n",
    "        ----------------------------\\n\\\n",
    "        De Nom: {self.getName()} \\n\\\n",
    "        De sexe: {self.getSex()}\\n\\\n",
    "        Et d'age': {self.getAge()}\\n\\\n",
    "        ----------------------------\"\n",
    "    \n",
    "    def __len__(self):\n",
    "        return 1\n",
    "    \n",
    "    def __eq__(self, other):\n",
    "        if isinstance(other, self.__class__):\n",
    "            if self.__dict__ == other.__dict__:\n",
    "                return True\n",
    "            return False\n",
    "    \n",
    "    def getName(self) -> str:\n",
    "        return self.name\n",
    "\n",
    "    def getSex(self) -> str:\n",
    "        return self.sex\n",
    "\n",
    "    def getAge(self) -> int:\n",
    "        return self.age"
   ]
  },
  {
   "cell_type": "code",
   "execution_count": 27,
   "id": "f326df89-ebbd-44f8-a40f-9191dd488f77",
   "metadata": {},
   "outputs": [
    {
     "data": {
      "text/plain": [
       "1"
      ]
     },
     "execution_count": 27,
     "metadata": {},
     "output_type": "execute_result"
    }
   ],
   "source": [
    "var_a1 = A()\n",
    "var_a2 = A()\n",
    "\n",
    "len(var_a1)"
   ]
  },
  {
   "cell_type": "code",
   "execution_count": 28,
   "id": "3a59ec78-e6f4-45c4-b9ad-aada06a5968a",
   "metadata": {},
   "outputs": [],
   "source": [
    "class A:\n",
    "    name = 'Ali'\n",
    "    sex  = 'Masculin'\n",
    "    age  = 28\n",
    "    \n",
    "    # __repr__ permet de définir un résultat explicite lorsqu'on appelle ou instancie un objet\n",
    "    # Une classe est un objet (<__main__.A object at 0x7fb3e7172b50>)\n",
    "    def __repr__(self):\n",
    "        return f\"Personne -> \\n\\\n",
    "        ----------------------------\\n\\\n",
    "        De Nom: {self.getName()} \\n\\\n",
    "        De sexe: {self.getSex()}\\n\\\n",
    "        Et d'age': {self.getAge()}\\n\\\n",
    "        ----------------------------\"\n",
    "    \n",
    "    def __len__(self):\n",
    "        return 1\n",
    "    \n",
    "    def __eq__(self, other):\n",
    "        if isinstance(other, self.__class__):\n",
    "            if self.__dict__ == other.__dict__:\n",
    "                return True\n",
    "            return False\n",
    "        \n",
    "    def __gt__(self, other):\n",
    "        if isinstance(other, self.__class__):\n",
    "            if self.getAge() > other.getAge():\n",
    "                return True\n",
    "        return False\n",
    "    \n",
    "    def getName(self) -> str:\n",
    "        return self.name\n",
    "\n",
    "    def getSex(self) -> str:\n",
    "        return self.sex\n",
    "\n",
    "    def getAge(self) -> int:\n",
    "        return self.age"
   ]
  },
  {
   "cell_type": "code",
   "execution_count": 29,
   "id": "0c782981-3fef-4b7e-bbb7-a1f6f99c259f",
   "metadata": {},
   "outputs": [
    {
     "data": {
      "text/plain": [
       "True"
      ]
     },
     "execution_count": 29,
     "metadata": {},
     "output_type": "execute_result"
    }
   ],
   "source": [
    "var_a1 = A()\n",
    "var_a2 = A()\n",
    "\n",
    "var_a1.age = 30\n",
    "\n",
    "var_a1 > var_a2"
   ]
  },
  {
   "cell_type": "markdown",
   "id": "d93602c4-df84-4bd8-8148-01b7ad6283c1",
   "metadata": {},
   "source": [
    "## Panomara sur la notion de classe"
   ]
  },
  {
   "cell_type": "code",
   "execution_count": 2,
   "id": "35634398-e60e-44ad-9e4e-9f748c873e0e",
   "metadata": {},
   "outputs": [
    {
     "name": "stdout",
     "output_type": "stream",
     "text": [
      "Majeur\n"
     ]
    }
   ],
   "source": [
    "# Une classe est une structure de données\n",
    "# Une classe permet de regrouper un ensemble de fonctions (méthodes), d'attrbuts\n",
    "# Dans l'application des normes une classe gère une responsabilité.\n",
    "# Ces fonctions et attributs permettent de donner un comportement spécifique à cette classe\n",
    "# Ainsi on peut faire l'analogie entre une CLASS et une usine\n",
    "# Ainsi si une classe est une usine alors les fonctions qu'elle renferme sont soient des employés ou des materiels dédiés au fonction ciblé de cette usine\n",
    "# Une CLASS étant une structure de données est aussi donc un type\n",
    "# Exemple:\n",
    "\n",
    "# Déterminer si un individu quelconque est mineur ou pas\n",
    "# La signature de cette fonction est major(age: int)\n",
    "def major(age: int):\n",
    "    return 'Majeur' if age > 18 else 'Mineur'\n",
    "\n",
    "\n",
    "# Déterminer si un individu ayant 20 ans est majeur ou pas\n",
    "class Major:\n",
    "    age = 20 # attribut\n",
    "    \n",
    "    def major(self):\n",
    "        return 'Majeur' if self.age > 18 else 'Mineur'\n",
    "    \n",
    "var = Major()\n",
    "\n",
    "print(var.major())"
   ]
  },
  {
   "cell_type": "code",
   "execution_count": 3,
   "id": "e9f8596d-7bec-418c-a712-98079b430726",
   "metadata": {},
   "outputs": [
    {
     "data": {
      "text/plain": [
       "('SENE Maodo', 'Chef Projet', 'Sénégal')"
      ]
     },
     "execution_count": 3,
     "metadata": {},
     "output_type": "execute_result"
    }
   ],
   "source": [
    "class A:\n",
    "    name = \"SENE Maodo\"\n",
    "    profession = \"Chef Projet\"\n",
    "    pays = \"Sénégal\"\n",
    "    \n",
    "varA = A()\n",
    "\n",
    "varA.name, varA.profession, varA.pays"
   ]
  },
  {
   "cell_type": "code",
   "execution_count": 5,
   "id": "b8fddabe-7cb0-40bc-b2c8-3b03be73401d",
   "metadata": {},
   "outputs": [
    {
     "data": {
      "text/plain": [
       "('SENE Maodo', 'Chef Projet', 'Sénégal')"
      ]
     },
     "execution_count": 5,
     "metadata": {},
     "output_type": "execute_result"
    }
   ],
   "source": [
    "varA = A()\n",
    "\n",
    "#dir(varA) # Toutes les fonctions __ et finissant par __ sont appelées des fonctions magiques\n",
    "varA.__getattribute__('name'), varA.__getattribute__('profession'), varA.__getattribute__('pays')"
   ]
  },
  {
   "cell_type": "code",
   "execution_count": 6,
   "id": "1b9e9111-0040-4d09-91a7-9a2735daa1ee",
   "metadata": {},
   "outputs": [
    {
     "data": {
      "text/plain": [
       "True"
      ]
     },
     "execution_count": 6,
     "metadata": {},
     "output_type": "execute_result"
    }
   ],
   "source": [
    "varA = A()\n",
    "\n",
    "hasattr(varA, 'name')"
   ]
  },
  {
   "cell_type": "code",
   "execution_count": 9,
   "id": "c572a263-be15-4f0a-b081-1c4fb04c2f97",
   "metadata": {},
   "outputs": [
    {
     "name": "stdout",
     "output_type": "stream",
     "text": [
      "SENE Maodo\n",
      "Chef Projet\n",
      "Sénégal\n"
     ]
    }
   ],
   "source": [
    "varA = A()\n",
    "\n",
    "def displayAllAttributes():\n",
    "    if hasattr(varA, 'name'):\n",
    "        print(varA.__getattribute__('name'))\n",
    "        \n",
    "    if hasattr(varA, 'profession'):\n",
    "        print(varA.__getattribute__('profession'))\n",
    "              \n",
    "    if hasattr(varA, 'pays'):\n",
    "        print(varA.__getattribute__('pays'))\n",
    "\n",
    "displayAllAttributes()"
   ]
  },
  {
   "cell_type": "code",
   "execution_count": 11,
   "id": "7a9bd17d-253c-4545-81d4-ba3db6de5d56",
   "metadata": {},
   "outputs": [
    {
     "data": {
      "text/plain": [
       "mappingproxy({'__module__': '__main__',\n",
       "              'name': 'SENE Maodo',\n",
       "              'profession': 'Chef Projet',\n",
       "              'pays': 'Sénégal',\n",
       "              '__dict__': <attribute '__dict__' of 'A' objects>,\n",
       "              '__weakref__': <attribute '__weakref__' of 'A' objects>,\n",
       "              '__doc__': None})"
      ]
     },
     "execution_count": 11,
     "metadata": {},
     "output_type": "execute_result"
    }
   ],
   "source": [
    "vars(A) # mapping dictionnaire / liste par abus de langage"
   ]
  },
  {
   "cell_type": "code",
   "execution_count": 12,
   "id": "abeefe75-2d04-4643-a700-dec122fc5ffa",
   "metadata": {},
   "outputs": [
    {
     "data": {
      "text/plain": [
       "314.2857142857143"
      ]
     },
     "execution_count": 12,
     "metadata": {},
     "output_type": "execute_result"
    }
   ],
   "source": [
    "# Calcule de la surface d'un cercle\n",
    "# La formule est PI * r2\n",
    "# self c'est pour faire référence a la classe actuelle\n",
    "# C'est comme this dans les autres langages.\n",
    "# Les constructeurs.\n",
    "\n",
    "class SurfaceCercle:\n",
    "    PI = 22/7\n",
    "    \n",
    "    def calcSurface(self, rayon: float):\n",
    "        return self.PI * rayon**2\n",
    "    \n",
    "varS = SurfaceCercle()\n",
    "\n",
    "varS.calcSurface(10)"
   ]
  },
  {
   "cell_type": "code",
   "execution_count": 15,
   "id": "6e528db6-61d3-4e8c-b614-3e39c4269320",
   "metadata": {},
   "outputs": [
    {
     "ename": "TypeError",
     "evalue": "__init__() missing 1 required positional argument: 'rayon'",
     "output_type": "error",
     "traceback": [
      "\u001b[0;31m---------------------------------------------------------------------------\u001b[0m",
      "\u001b[0;31mTypeError\u001b[0m                                 Traceback (most recent call last)",
      "Input \u001b[0;32mIn [15]\u001b[0m, in \u001b[0;36m<module>\u001b[0;34m\u001b[0m\n\u001b[1;32m     10\u001b[0m     \u001b[38;5;28;01mdef\u001b[39;00m \u001b[38;5;21mcalcSurface\u001b[39m(\u001b[38;5;28mself\u001b[39m):\n\u001b[1;32m     11\u001b[0m         \u001b[38;5;28;01mreturn\u001b[39;00m \u001b[38;5;28mself\u001b[39m\u001b[38;5;241m.\u001b[39mPI \u001b[38;5;241m*\u001b[39m \u001b[38;5;28mself\u001b[39m\u001b[38;5;241m.\u001b[39mrayon\u001b[38;5;241m*\u001b[39m\u001b[38;5;241m*\u001b[39m\u001b[38;5;241m2\u001b[39m\n\u001b[0;32m---> 13\u001b[0m varS \u001b[38;5;241m=\u001b[39m \u001b[43mSurfaceCercle\u001b[49m\u001b[43m(\u001b[49m\u001b[43m)\u001b[49m\n\u001b[1;32m     15\u001b[0m varS\u001b[38;5;241m.\u001b[39mcalcSurface(\u001b[38;5;241m10\u001b[39m)\n",
      "\u001b[0;31mTypeError\u001b[0m: __init__() missing 1 required positional argument: 'rayon'"
     ]
    }
   ],
   "source": [
    "# Le constructeur permet de donner une signature à la classe\n",
    "# Syntaxe: def __init__(self, args1, ..., argsN)\n",
    "\n",
    "class SurfaceCercle:\n",
    "    PI = 22/7\n",
    "    \n",
    "    def __init__(self, rayon: float):\n",
    "        self.rayon = rayon\n",
    "    \n",
    "    def calcSurface(self):\n",
    "        return self.PI * self.rayon**2\n",
    "    \n",
    "varS = SurfaceCercle()\n",
    "\n",
    "varS.calcSurface(10)"
   ]
  },
  {
   "cell_type": "code",
   "execution_count": 16,
   "id": "d14cc6eb-0d05-4afd-8377-0ec086f837aa",
   "metadata": {},
   "outputs": [
    {
     "data": {
      "text/plain": [
       "314.2857142857143"
      ]
     },
     "execution_count": 16,
     "metadata": {},
     "output_type": "execute_result"
    }
   ],
   "source": [
    "class SurfaceCercle:\n",
    "    PI = 22/7\n",
    "    \n",
    "    def __init__(self, rayon: float):\n",
    "        self.rayon = rayon\n",
    "    \n",
    "    def calcSurface(self):\n",
    "        return self.PI * self.rayon**2\n",
    "    \n",
    "varS = SurfaceCercle(10)\n",
    "\n",
    "varS.calcSurface()"
   ]
  },
  {
   "cell_type": "code",
   "execution_count": 18,
   "id": "317bf4d1-0c54-455e-8481-f5e119dabaa9",
   "metadata": {},
   "outputs": [
    {
     "data": {
      "text/plain": [
       "314.2857142857143"
      ]
     },
     "execution_count": 18,
     "metadata": {},
     "output_type": "execute_result"
    }
   ],
   "source": [
    "class SurfaceCercle:\n",
    "    PI = 22/7\n",
    "    \n",
    "    @classmethod\n",
    "    def getPI(cls):\n",
    "        return cls.PI\n",
    "    \n",
    "    def calcSurface(cls, rayon: float):\n",
    "        return cls.getPI() * rayon**2\n",
    "    \n",
    "varS = SurfaceCercle()\n",
    "\n",
    "varS.calcSurface(10)"
   ]
  },
  {
   "cell_type": "code",
   "execution_count": 24,
   "id": "1e254bd9-0425-41a7-8a1b-028e32172b55",
   "metadata": {},
   "outputs": [
    {
     "data": {
      "text/plain": [
       "(14, 15, 16, 20, 188181, 'Maodo', 18.001991)"
      ]
     },
     "execution_count": 24,
     "metadata": {},
     "output_type": "execute_result"
    }
   ],
   "source": [
    "# Fonction qui permet de récupérer un ensemble d'argument\n",
    "# Utilisation des arguments de position\n",
    "def function(args1):\n",
    "    return args1\n",
    "\n",
    "def function2(args1, args2):\n",
    "    return args1, args2\n",
    "\n",
    "def function3(args1, args2, args3):\n",
    "    return args1, args2, args3\n",
    "\n",
    "# retourne un tuple\n",
    "def function4(*args):\n",
    "    return args\n",
    "    \n",
    "function4(14, 15, 16, 20, 188181, 'Maodo', 18.001991)"
   ]
  },
  {
   "cell_type": "code",
   "execution_count": 29,
   "id": "3b7b103b-44ec-4249-8d7e-5ecf9bba7a7a",
   "metadata": {},
   "outputs": [
    {
     "ename": "SyntaxError",
     "evalue": "non-default argument follows default argument (936101402.py, line 9)",
     "output_type": "error",
     "traceback": [
      "\u001b[0;36m  Input \u001b[0;32mIn [29]\u001b[0;36m\u001b[0m\n\u001b[0;31m    def function3(args1=14, args2):\u001b[0m\n\u001b[0m                                 ^\u001b[0m\n\u001b[0;31mSyntaxError\u001b[0m\u001b[0;31m:\u001b[0m non-default argument follows default argument\n"
     ]
    }
   ],
   "source": [
    "# Fonction qui permet de récupérer un map de données\n",
    "# Utilisation des arguments de position\n",
    "def function(args1=14):\n",
    "    return args1\n",
    "\n",
    "def function2(args1=14, args2=15):\n",
    "    return args1, args2\n",
    "\n",
    "def function3(args1=14, args2):\n",
    "    return args1, args2\n",
    "    \n",
    "#function2()\n",
    "#function2(16)\n",
    "#function2(args2=20)\n",
    "function3()"
   ]
  },
  {
   "cell_type": "code",
   "execution_count": 36,
   "id": "40f5aadd-8b23-4524-87ae-9c810403a433",
   "metadata": {},
   "outputs": [
    {
     "data": {
      "text/plain": [
       "{'name': 'Eric', 'age': 28, 'pays': 'Niger'}"
      ]
     },
     "execution_count": 36,
     "metadata": {},
     "output_type": "execute_result"
    }
   ],
   "source": [
    "# Fonction qui permet de récupérer un map de données\n",
    "# Utilisation des arguments de position\n",
    "def function(args1=14):\n",
    "    return args1\n",
    "\n",
    "def function2(args1=14, args2=15):\n",
    "    return args1, args2\n",
    "\n",
    "def function3(args1=14, args2=22, args3=30):\n",
    "    return args1, args2, args3\n",
    "\n",
    "# retourne un dictionnaire\n",
    "def function4(**kwargs):\n",
    "    return kwargs\n",
    "    \n",
    "#function2()\n",
    "#function2(16)\n",
    "#function2(args2=20)\n",
    "function4(name='Eric', age=28, pays='Niger')"
   ]
  },
  {
   "cell_type": "code",
   "execution_count": 37,
   "id": "87d8164e-351c-4888-8e0d-e22f796126d9",
   "metadata": {},
   "outputs": [
    {
     "data": {
      "text/plain": [
       "((14, 15, 16), {'name': 'Eric', 'age': 28, 'pays': 'Niger'})"
      ]
     },
     "execution_count": 37,
     "metadata": {},
     "output_type": "execute_result"
    }
   ],
   "source": [
    "# Fonction qui permet de récupérer un map de données\n",
    "# Utilisation des arguments de position\n",
    "# Utilisation de *args et **kwargs\n",
    "def function(*args, **kwargs):\n",
    "    return args, kwargs\n",
    "    \n",
    "# Retourne un tuple contenant un tuple et un dictionnaire\n",
    "function(14, 15, 16, name='Eric', age=28, pays='Niger')"
   ]
  },
  {
   "cell_type": "code",
   "execution_count": 38,
   "id": "222ea197-aa25-4632-bfa1-01e1f1dface4",
   "metadata": {},
   "outputs": [
    {
     "data": {
      "text/plain": [
       "'Majeur'"
      ]
     },
     "execution_count": 38,
     "metadata": {},
     "output_type": "execute_result"
    }
   ],
   "source": [
    "def major(*args, **kwargs):\n",
    "    if 'age' in kwargs:\n",
    "        return 'Majeur' if kwargs['age'] > 18 else 'Mineur'\n",
    "    return 'Undefined'\n",
    "\n",
    "major(age=20)"
   ]
  },
  {
   "cell_type": "code",
   "execution_count": 39,
   "id": "86c9dd51-13ef-49ea-901a-00e7995cc00e",
   "metadata": {},
   "outputs": [
    {
     "data": {
      "text/plain": [
       "'Undefined'"
      ]
     },
     "execution_count": 39,
     "metadata": {},
     "output_type": "execute_result"
    }
   ],
   "source": [
    "def major(*args, **kwargs):\n",
    "    if 'age' in kwargs:\n",
    "        return 'Majeur' if kwargs['age'] > 18 else 'Mineur'\n",
    "    return 'Undefined'\n",
    "\n",
    "major()"
   ]
  },
  {
   "cell_type": "code",
   "execution_count": 40,
   "id": "20af8f72-27ff-465d-bea4-733dc3e80fa8",
   "metadata": {},
   "outputs": [
    {
     "data": {
      "text/plain": [
       "'Undefined'"
      ]
     },
     "execution_count": 40,
     "metadata": {},
     "output_type": "execute_result"
    }
   ],
   "source": [
    "def major(*args, **kwargs):\n",
    "    if kwargs.get('age'):\n",
    "        return 'Majeur' if kwargs.get('age') > 18 else 'Mineur'\n",
    "    return 'Undefined'\n",
    "    \n",
    "major()"
   ]
  },
  {
   "cell_type": "code",
   "execution_count": 41,
   "id": "54b4dcbd-3452-4ade-9ad2-5324bf094d1e",
   "metadata": {},
   "outputs": [],
   "source": [
    "# En python on a une class qui est l'equivalent de Null ou null ou NULL\n",
    "# Une classe qui est l'équivalent de undefined\n",
    "\n",
    "varA = None\n",
    "\n",
    "# Equivalent de Null, ou NULL ou null\n",
    "varA"
   ]
  },
  {
   "cell_type": "code",
   "execution_count": 45,
   "id": "d6fd1faa-f45a-44d7-abf6-15be55398ebd",
   "metadata": {},
   "outputs": [
    {
     "name": "stdout",
     "output_type": "stream",
     "text": [
      "Salarié\n",
      "        ----------------------------------------------------\n",
      "                Nom : Maodo SENE\n",
      "                Profession : Ingénieur\n",
      "                Experience en année: 2\n",
      "                Salaire à ce jour: 90000\n",
      "                Salaire de base: 56000\n",
      "                Sursalaire: 54160.0\n",
      "Salarié\n",
      "        ----------------------------------------------------\n",
      "                Nom : Omar SY\n",
      "                Profession : Comptable\n",
      "                Experience en année: 4\n",
      "                Salaire à ce jour: 110000\n",
      "                Salaire de base: 80000\n",
      "                Sursalaire: 87600.0\n"
     ]
    }
   ],
   "source": [
    "# Exercice: Class and function\n",
    "# Correction faite par Maodo Sene\n",
    "class Contrat():\n",
    "    taux = 0.18\n",
    "    def __init__(self, salaire: float = 500000, salaire_base: float = 135000)->float:\n",
    "        self._salaire = salaire\n",
    "        self._salaire_base = salaire_base\n",
    "\n",
    "    def _set_salaire(self, salaire)->float:    #un setteur ou mutateur: pour modifier la valeur d'un attribut\n",
    "        self._salaire = salaire\n",
    "        \n",
    "     \n",
    "    def _get_salaire(self)->float:             #un getteur : pour acceder à la valeur d'un attribut\n",
    "        return self._salaire\n",
    "   \n",
    "   \n",
    "    def _get_salaire_base(self)->float:\n",
    "        return self._salaire_base\n",
    "    \n",
    "     \n",
    "    def _set_salaire_base(self, salaire_base)->float:\n",
    "        self._salaire_base = salaire_base\n",
    "    \n",
    "    def _augmente_annuel(self)->float:\n",
    "        self.augment = self.taux*self._get_salaire_base()\n",
    "        return self.augment\n",
    "    \n",
    "    salaire      = property(_get_salaire, _set_salaire)\n",
    "    salaire_base = property(_get_salaire_base, _set_salaire_base)\n",
    "\n",
    "class Employe(Contrat):\n",
    "    def __init__(self, prenom : str , nom: str, profession: str,salaire_base :float, salaire: float, nbre_anne: int)->str:\n",
    "        self._nom          = nom\n",
    "        self._prenom       = prenom\n",
    "        self._profession   = profession\n",
    "        self._nbre_anne    = nbre_anne\n",
    "        self._salaire      = salaire\n",
    "        self._salaire_base = salaire_base\n",
    "    \n",
    "# Cette classe doit contenir une fonction qui prend en paramètre\n",
    "#     le nombre d'année (le nombre d'année ici est un entier)\n",
    "#     Considérant que l'augmentation se fait de manière annuelle\n",
    "#     Cette fonction doit donc retourner le salaire total par rapport au nombre d'année renseigné\n",
    "    \n",
    "    def _salaire_tot(self)->float:\n",
    "        return (self._get_salaire() + self._augmente_annuel()*self._nbre_anne)   \n",
    "   \n",
    "    def _display(self):    \n",
    "        return f\"Salarié\\n\\\n",
    "        ----------------------------------------------------\\n\\\n",
    "                Nom : {self._prenom} {self._nom}\\n\\\n",
    "                Profession : {self._profession}\\n\\\n",
    "                Experience en année: {self._nbre_anne}\\n\\\n",
    "                Salaire à ce jour: {self._get_salaire()}\\n\\\n",
    "                Salaire de base: {self._get_salaire_base()}\\n\\\n",
    "                Sursalaire: {self._salaire_tot()-self._get_salaire_base()}\"\n",
    "\n",
    "\n",
    "EmployeN1=Employe(\"Maodo\",\"SENE\",\"Ingénieur\", 56000, 90000, 2)\n",
    "#EmployeN1._salaire = 80000\n",
    "EmployeN1._salaire_base = 56000\n",
    "print(EmployeN1._display())\n",
    "\n",
    "EmployeN2=Employe(\"Omar\",\"SY\",\"Comptable\", 60000, 90000, 4)\n",
    "EmployeN2._salaire = 110000\n",
    "EmployeN2._salaire_base = 80000\n",
    "print(EmployeN2._display())"
   ]
  },
  {
   "cell_type": "code",
   "execution_count": 46,
   "id": "5fa6139d-3977-4504-954c-57fbaec4b855",
   "metadata": {},
   "outputs": [
    {
     "name": "stdout",
     "output_type": "stream",
     "text": [
      "----------------------------------Informations personnelles-----------------------------\n",
      "Nouveau montant:  580000\n",
      "Nom: Lamine FATY\n",
      "Profession: Data Scientist\n",
      "Expèrience en année: 5\n",
      "----------------------------------Informations sur salaire-----------------------------\n",
      "Salaire à ce jour: 2621500\n",
      "Salaire de base: 135000\n",
      "Sursalaire: 913600\n"
     ]
    }
   ],
   "source": [
    "# Exercice: Class et Function\n",
    "# Correction faite par Lamine\n",
    "# Correction d'exercice\n",
    "import math\n",
    "taux = 0.18\n",
    "    \n",
    "class Contrat:\n",
    "    salaire = 500000\n",
    "    salaire_base = 135000\n",
    "    \n",
    "    def getSalaire(self) -> float:\n",
    "        return self.salaire\n",
    "    \n",
    "    def getSalaire_base(self) -> float:\n",
    "        return self.salaire_base\n",
    "\n",
    "    def setSalaire(self, newSalaire: float) -> float:\n",
    "        self.salaire = newSalaire\n",
    "        \n",
    "    def setSalaire_base(self, newSalaire_base: float) -> float:\n",
    "        self.salaire_base = newSalaire_base\n",
    "\n",
    "    def calcAugmentation(self) -> float:\n",
    "        return self.getSalaire_base() * taux\n",
    "    \n",
    "class Employe(Contrat):\n",
    "    nom = 'Faty'.upper()\n",
    "    prenom = 'Lamine'.capitalize()\n",
    "    profession = 'Data Scientist'.title()\n",
    "    \n",
    "    def augmentation(self, nombreAnnee: int) -> float:\n",
    "        return math.ceil((self.getSalaire() + self.calcAugmentation()) * nombreAnnee)\n",
    "\n",
    "def displaySalary(sal: float, nb_an: int, an_decompte:int):\n",
    "    c = Contrat()\n",
    "    c.salaire = sal\n",
    "    print(\"----------------------------------Informations personnelles-----------------------------\")\n",
    "    print(\"Nouveau montant: \", c.salaire)\n",
    "    print(\"Nom: {} {}\".format(Employe().__getattribute__('prenom'), Employe().__getattribute__('nom')))\n",
    "    print(\"Profession: {}\".format(Employe().__getattribute__('profession')))\n",
    "    print(\"Expèrience en année: {}\".format(nb_an))\n",
    "    \n",
    "    print(\"----------------------------------Informations sur salaire-----------------------------\")\n",
    "    print(\"Salaire à ce jour: {}\".format(Employe().augmentation(nb_an)))\n",
    "    print(\"Salaire de base: {}\".format(Employe().getSalaire_base()))\n",
    "    print(\"Sursalaire: {}\".format(Employe().augmentation(2) - Employe().getSalaire_base()))\n",
    "               \n",
    "displaySalary(580000, 5, 2020)"
   ]
  },
  {
   "cell_type": "code",
   "execution_count": 47,
   "id": "781f0780-1ee5-4574-814e-e354f6c9bf65",
   "metadata": {},
   "outputs": [],
   "source": [
    "# Exercice: Class and function\n",
    "# Correction faite par Anselme\n",
    "# Correction d'exercice\n",
    "taux = 0.18\n",
    "\n",
    "class Contrat:\n",
    "    salaire = 500000\n",
    "    salaire_base = 135000\n",
    "    \n",
    "    def getSalaire(self)->int:\n",
    "        return self.salaire\n",
    "    \n",
    "    def getSalaire_base(self)->int:\n",
    "        return self.salaire_base\n",
    "    \n",
    "    def setSalaire(self, newSalaire : int):\n",
    "        self.salaire = newSalaire\n",
    "    \n",
    "    def setSalaire_base(self, newSalaire_base : int):\n",
    "        self.salaire_base = newSalaire_base\n",
    "        \n",
    "    def tauxAugmentationSalaireAnuelle(self,taux : float)->float:\n",
    "        return self.salaire_base * taux\n",
    "\n",
    "class Employe(Contrat):\n",
    "    nom = 'OUEDRAOGO' \n",
    "    prenom = 'Wilfried'\n",
    "    profession = 'Data Scientist'\n",
    "    \n",
    "    def salaireTotal(self,an : int ):\n",
    "        return super().getSalaire() * an\n",
    "    \n",
    "    def displaySalary(self,salaire : int , nbAn : int, annee : int):\n",
    "        super().setSalaire(salaire)\n",
    "        return f\"\"\"\n",
    "                Nom : {self.nom} {self.prenom}\n",
    "                Profession : {self.profession}\n",
    "                Experience en année : {nbAn} ans\n",
    "                Salaire à ce jour : {super().getSalaire()}\n",
    "                Salaire de base : {super().getSalaire_base()}\n",
    "                Sursalaire : {self.salaireTotal(nbAn) - super().getSalaire_base()  }\n",
    "            \"\"\""
   ]
  },
  {
   "cell_type": "code",
   "execution_count": 49,
   "id": "3e976d98-0060-4f8d-a846-eb00a45b961f",
   "metadata": {},
   "outputs": [
    {
     "name": "stdout",
     "output_type": "stream",
     "text": [
      "---------------------------\n",
      "Nom: FATY Lamine\n",
      "Profession: Data Scientist\n",
      "Experience en année: 6\n",
      "Salaire à ce jour: 645800\n",
      "Sur salaire: 510800.0\n",
      "---------------------------\n"
     ]
    }
   ],
   "source": [
    "# Exercice: Class and function\n",
    "# Correction...\n",
    "import math\n",
    "\n",
    "TAUX = 0.18\n",
    "\n",
    "\n",
    "class Contrat:\n",
    "    salary = 500000.00\n",
    "    base_salary = 135000.00\n",
    "\n",
    "    @classmethod\n",
    "    def getSalary(cls) -> float:\n",
    "        return cls.salary\n",
    "\n",
    "    @classmethod\n",
    "    def getbaseSalary(cls) -> float:\n",
    "        return cls.base_salary\n",
    "\n",
    "    @classmethod\n",
    "    def setSalary(cls, newSalary: float):\n",
    "        cls.salary = newSalary\n",
    "\n",
    "    @classmethod\n",
    "    def setBaseSalary(cls, newBaseSalary: float):\n",
    "        cls.base_salary = newBaseSalary\n",
    "\n",
    "    @classmethod\n",
    "    def calcAugmentation(cls) -> float:\n",
    "        return cls.base_salary * TAUX\n",
    "\n",
    "\n",
    "class Employe(Contrat):\n",
    "    first_name = 'Lamine'\n",
    "    last_name  = 'Faty'.upper()\n",
    "    profession = 'Data Scientist'.title()\n",
    "\n",
    "    def getFullName(self) -> str:\n",
    "        return f\"{self.last_name} {self.first_name}\"\n",
    "\n",
    "    def getProfession(self) -> str:\n",
    "        return self.profession\n",
    "\n",
    "    def finalSalary(self, yearNumber: int) -> float:\n",
    "        return math.ceil(\n",
    "            self.getSalary() + (self.calcAugmentation() * yearNumber)\n",
    "        )\n",
    "\n",
    "    def displaySalary(self, start_year=2016):\n",
    "        yearNumber = 2022 - 2016\n",
    "\n",
    "        print('---------------------------')\n",
    "        print(f'Nom: {self.getFullName()}')\n",
    "        print(f'Profession: {self.getProfession()}')\n",
    "        print(f'Experience en année: {yearNumber}')\n",
    "        print(f'Salaire à ce jour: {self.finalSalary(yearNumber)}')\n",
    "        print(f'Sur salaire: {self.finalSalary(yearNumber) - self.getbaseSalary()}')\n",
    "        print('---------------------------')\n",
    "\n",
    "\n",
    "var = Employe()\n",
    "var.displaySalary()"
   ]
  },
  {
   "cell_type": "code",
   "execution_count": null,
   "id": "c4caec94-e4ab-444c-8c92-71b0ad92ad1a",
   "metadata": {},
   "outputs": [],
   "source": [
    "# Exercice: Simuler Une Caisse de Auchan\n",
    "# Correction faites par Lamine Faty\n",
    "# Correction de l'excercice du fichier n°42\n",
    "Stack = {}\n",
    "Cart = []\n",
    "\n",
    "def jumpNextLine():\n",
    "    print('\\n')\n",
    "    \n",
    "def fillStack(filename: str):\n",
    "    with open(filename, 'r') as f:\n",
    "        texte = f.read()\n",
    "        texte = texte.replace('\\'', '').replace(':', '').replace(',', '').replace('[', '').replace(']', '')\n",
    "        for phrase in texte.splitlines():\n",
    "            elements = phrase.split(\" \")\n",
    "            Stack[elements[0].lower()] = [str(elements[1]), float(elements[2]), int(elements[3])]\n",
    "        f.close()\n",
    "        return print(Stack)\n",
    "\n",
    "def findProduct(dico, prod):\n",
    "    for value in dico.values():\n",
    "        if (prod.title() in value[0]):\n",
    "            print(True)\n",
    "        else:\n",
    "            print(False)\n",
    "    \n",
    "#print(\"----------------------------------------------------\")\n",
    "#fillStack('files/produit.txt')\n",
    "#print(\"----------------------------------------------------\")\n",
    "#findProduct(Stack, 'couscous')\n",
    "#print(\"----------------------------------------------------\")"
   ]
  },
  {
   "cell_type": "markdown",
   "id": "2ee83fe2-1d88-4ca3-8bbe-f77c13b18483",
   "metadata": {},
   "source": [
    "# Python Intermédiare"
   ]
  },
  {
   "cell_type": "code",
   "execution_count": 53,
   "id": "208e0708-020a-4e7f-8874-86c16f94bdc3",
   "metadata": {},
   "outputs": [
    {
     "data": {
      "text/plain": [
       "[0, 1, 2, 3, 4, 5, 6, 7, 8]"
      ]
     },
     "execution_count": 53,
     "metadata": {},
     "output_type": "execute_result"
    }
   ],
   "source": [
    "# Les Listes (Advanced concept) (Part 1)\n",
    "\n",
    "Liste0 = [1, 2, 3, 4, 5, 6, 7, 8]\n",
    "\n",
    "Liste1 = [\n",
    "    [1, 2, 3, 4, 5, 6, 7, 8],\n",
    "    [1, 2, 3, 4, 5, 6, 7, 8],\n",
    "    [1, 2, 3, 4, 5, 6, 7, 8],\n",
    "    [1, 2, 3, 4, 5, 6, 7, 8],\n",
    "    [1, 2, 3, 4, 5, 6, 7, 8],\n",
    "]\n",
    "\n",
    "Liste2 = [\n",
    "    [\n",
    "        [1, 2, 3, 4, 5, 6, 7, 8],\n",
    "        [1, 2, 3, 4, 5, 6, 7, 8],\n",
    "        [1, 2, 3, 4, 5, 6, 7, 8],\n",
    "        [1, 2, 3, 4, 5, 6, 7, 8],\n",
    "        [1, 2, 3, 4, 5, 6, 7, 8],\n",
    "    ],\n",
    "    [\n",
    "        [1, 2, 3, 4, 5, 6, 7, 8],\n",
    "        [1, 2, 3, 4, 5, 6, 7, 8],\n",
    "        [1, 2, 3, 4, 5, 6, 7, 8],\n",
    "        [1, 2, 3, 4, 5, 6, 7, 8],\n",
    "        [1, 2, 3, 4, 5, 6, 7, 8],\n",
    "    ],\n",
    "    [\n",
    "        [1, 2, 3, 4, 5, 6, 7, 8],\n",
    "        [1, 2, 3, 4, 5, 6, 7, 8],\n",
    "        [1, 2, 3, 4, 5, 6, 7, 8],\n",
    "        [1, 2, 3, 4, 5, 6, 7, 8],\n",
    "        [1, 2, 3, 4, 5, 6, 7, 8],\n",
    "    ]\n",
    "]\n",
    "\n",
    "# Generate Liste0\n",
    "Liste00 = [x for x in range(9)]\n",
    "Liste01 = [_ for _ in range(9)]\n",
    "\n",
    "Liste00"
   ]
  },
  {
   "cell_type": "code",
   "execution_count": 54,
   "id": "7cce92c3-bd69-46f4-bf9d-c659da32f2b6",
   "metadata": {},
   "outputs": [
    {
     "data": {
      "text/plain": [
       "[0, 1, 2, 3, 4, 5, 6, 7, 8]"
      ]
     },
     "execution_count": 54,
     "metadata": {},
     "output_type": "execute_result"
    }
   ],
   "source": [
    "Liste01"
   ]
  },
  {
   "cell_type": "code",
   "execution_count": 55,
   "id": "29807adb-5f76-4334-bf59-0ea9e7108c2c",
   "metadata": {},
   "outputs": [
    {
     "data": {
      "text/plain": [
       "[[0, 1, 2, 3, 4, 5, 6, 7, 8],\n",
       " [0, 1, 2, 3, 4, 5, 6, 7, 8],\n",
       " [0, 1, 2, 3, 4, 5, 6, 7, 8],\n",
       " [0, 1, 2, 3, 4, 5, 6, 7, 8],\n",
       " [0, 1, 2, 3, 4, 5, 6, 7, 8]]"
      ]
     },
     "execution_count": 55,
     "metadata": {},
     "output_type": "execute_result"
    }
   ],
   "source": [
    "# Generate Liste1\n",
    "Liste10 = [\n",
    "    [x for x in range(9)] for y in range(5)\n",
    "]\n",
    "Liste11 = [\n",
    "    [x for x in range(9)] for _ in range(5)\n",
    "]\n",
    "\n",
    "Liste10"
   ]
  },
  {
   "cell_type": "code",
   "execution_count": 56,
   "id": "eeed9926-4c25-4805-a20c-3994c59d9ce5",
   "metadata": {},
   "outputs": [
    {
     "data": {
      "text/plain": [
       "[[0, 1, 2, 3, 4, 5, 6, 7, 8],\n",
       " [0, 1, 2, 3, 4, 5, 6, 7, 8],\n",
       " [0, 1, 2, 3, 4, 5, 6, 7, 8],\n",
       " [0, 1, 2, 3, 4, 5, 6, 7, 8],\n",
       " [0, 1, 2, 3, 4, 5, 6, 7, 8]]"
      ]
     },
     "execution_count": 56,
     "metadata": {},
     "output_type": "execute_result"
    }
   ],
   "source": [
    "Liste11"
   ]
  },
  {
   "cell_type": "code",
   "execution_count": 57,
   "id": "7c654dc6-d874-425c-a546-0cc30964ebc9",
   "metadata": {},
   "outputs": [],
   "source": [
    "# Generate Liste2\n",
    "Liste20 = [\n",
    "    [\n",
    "        [x for x in range(9)] for y in range(5)\n",
    "    ] for z in range(3)\n",
    "]\n",
    "Liste21 = [\n",
    "    [\n",
    "        [x for x in range(9)] for y in range(5)\n",
    "    ] for _ in range(3)\n",
    "]"
   ]
  },
  {
   "cell_type": "code",
   "execution_count": 58,
   "id": "7b7a2d30-7718-4b0d-a48d-48a383d6476b",
   "metadata": {},
   "outputs": [
    {
     "data": {
      "text/plain": [
       "[[[0, 1, 2, 3, 4, 5, 6, 7, 8],\n",
       "  [0, 1, 2, 3, 4, 5, 6, 7, 8],\n",
       "  [0, 1, 2, 3, 4, 5, 6, 7, 8],\n",
       "  [0, 1, 2, 3, 4, 5, 6, 7, 8],\n",
       "  [0, 1, 2, 3, 4, 5, 6, 7, 8]],\n",
       " [[0, 1, 2, 3, 4, 5, 6, 7, 8],\n",
       "  [0, 1, 2, 3, 4, 5, 6, 7, 8],\n",
       "  [0, 1, 2, 3, 4, 5, 6, 7, 8],\n",
       "  [0, 1, 2, 3, 4, 5, 6, 7, 8],\n",
       "  [0, 1, 2, 3, 4, 5, 6, 7, 8]],\n",
       " [[0, 1, 2, 3, 4, 5, 6, 7, 8],\n",
       "  [0, 1, 2, 3, 4, 5, 6, 7, 8],\n",
       "  [0, 1, 2, 3, 4, 5, 6, 7, 8],\n",
       "  [0, 1, 2, 3, 4, 5, 6, 7, 8],\n",
       "  [0, 1, 2, 3, 4, 5, 6, 7, 8]]]"
      ]
     },
     "execution_count": 58,
     "metadata": {},
     "output_type": "execute_result"
    }
   ],
   "source": [
    "Liste20"
   ]
  },
  {
   "cell_type": "code",
   "execution_count": 59,
   "id": "5fc6d656-9811-48d0-97af-b384a191118e",
   "metadata": {},
   "outputs": [
    {
     "data": {
      "text/plain": [
       "[[[0, 1, 2, 3, 4, 5, 6, 7, 8],\n",
       "  [0, 1, 2, 3, 4, 5, 6, 7, 8],\n",
       "  [0, 1, 2, 3, 4, 5, 6, 7, 8],\n",
       "  [0, 1, 2, 3, 4, 5, 6, 7, 8],\n",
       "  [0, 1, 2, 3, 4, 5, 6, 7, 8]],\n",
       " [[0, 1, 2, 3, 4, 5, 6, 7, 8],\n",
       "  [0, 1, 2, 3, 4, 5, 6, 7, 8],\n",
       "  [0, 1, 2, 3, 4, 5, 6, 7, 8],\n",
       "  [0, 1, 2, 3, 4, 5, 6, 7, 8],\n",
       "  [0, 1, 2, 3, 4, 5, 6, 7, 8]],\n",
       " [[0, 1, 2, 3, 4, 5, 6, 7, 8],\n",
       "  [0, 1, 2, 3, 4, 5, 6, 7, 8],\n",
       "  [0, 1, 2, 3, 4, 5, 6, 7, 8],\n",
       "  [0, 1, 2, 3, 4, 5, 6, 7, 8],\n",
       "  [0, 1, 2, 3, 4, 5, 6, 7, 8]]]"
      ]
     },
     "execution_count": 59,
     "metadata": {},
     "output_type": "execute_result"
    }
   ],
   "source": [
    "Liste21"
   ]
  },
  {
   "cell_type": "code",
   "execution_count": 1,
   "id": "e4589034-f4e7-42e1-9194-08f862f26aa0",
   "metadata": {},
   "outputs": [],
   "source": [
    "# Exercice pratique sur les classes\n",
    "# Les bases en orienté object avec python.\n",
    "# Suite.\n",
    "\n",
    "import math\n",
    "\n",
    "# Ecrivez une classe du nom de Point\n",
    "# Cette classe doit initialiser par son constructeur:\n",
    "#   un abscisse qui sera un float\n",
    "#       nom de cette variable: (x)\n",
    "#   un ordonné qui sera un float\n",
    "#       nom de cette variable: (y)\n",
    "#   Il faudra aussi écrire le setters et getters\n",
    "#   Noubliez pas d'écrire la fonction __repr__ de cette classe\n",
    "\n",
    "# Ecrire une classe du nom de cercle\n",
    "# Cette classe doit initialiser dans son constructeur\n",
    "#   Un rayon qui sera un float\n",
    "# Il faudra aussi écrire le setters et getters\n",
    "# Noubliez pas d'écrire la fonction __repr__ de cette classe\n",
    "# Rajoutez une fonction du nom de surface\n",
    "#   Cette fonction doit calculer la surface du cercle.\n",
    "#       Elle doit utiliser la fonction pow(a,b) de la bibliothèeque math\n",
    "#       Elle doit pour l'utilisation de PI utiliser math.PI\n",
    "# math.PI (math.pi) dans le module math ou bibliothèque math"
   ]
  },
  {
   "cell_type": "code",
   "execution_count": 9,
   "id": "94ca239f-18b5-41dd-a6d6-e6ff62044dbe",
   "metadata": {},
   "outputs": [],
   "source": [
    "# Exercice pratique sur les classes\n",
    "# Les bases en orienté object avec python.\n",
    "# Suite.\n",
    "# Correction...\n",
    "\n",
    "class Point():\n",
    "    # Les arguments ou soit paramètres d'entrée\n",
    "    def __init__(self, abscisse: float, ordonne: float):\n",
    "        self.x = abscisse\n",
    "        self.y = ordonne\n",
    "        \n",
    "    # Cette fonction magique ne retourne que un string ou chaine de caractère\n",
    "    # Cette fonction est semblable à la fonction toString en JAVA\n",
    "    # Donc elle ne peut que retourner qu'une chaine de caractère.\n",
    "    def __repr__(self):\n",
    "        return f\"Point({self.getX()},{self.getY()})\"\n",
    "    \n",
    "    def getX(self):\n",
    "        return self.x\n",
    "    \n",
    "    def getY(self):\n",
    "        return self.y\n",
    "    \n",
    "    def setX(self, newX: float):\n",
    "        self.x = newX\n",
    "        \n",
    "    def setY(self, newY: float):\n",
    "        self.y = newY\n",
    "        \n",
    "varA = Point(14.02, 15.06)\n",
    "\n",
    "# Test des getters\n",
    "# varA.getX(), varA.getY()\n",
    "# Test des setters\n",
    "# varA.setX(18.03), varA.getX()"
   ]
  },
  {
   "cell_type": "code",
   "execution_count": 10,
   "id": "ae372351-78ef-4136-b45f-40a132a226c0",
   "metadata": {},
   "outputs": [
    {
     "data": {
      "text/plain": [
       "21.237166338267002"
      ]
     },
     "execution_count": 10,
     "metadata": {},
     "output_type": "execute_result"
    }
   ],
   "source": [
    "# Correction faite par Maodo\n",
    "class Cercle:\n",
    "    def __init__(self, r: float):\n",
    "        self._r = r\n",
    "        \n",
    "    def set_r(self, r):\n",
    "        self._r = r\n",
    "    def get_r(self):\n",
    "        return self._r\n",
    "\n",
    "    def __repr__(self):\n",
    "        return f\"Cercle({self._r})\"\n",
    "    \n",
    "    def surface(self):\n",
    "        return math.pi*math.pow(self._r, 2)\n",
    "    \n",
    "C = Cercle(2.6)\n",
    "C.surface()"
   ]
  },
  {
   "cell_type": "code",
   "execution_count": 11,
   "id": "5c7080fb-13b9-4dba-810f-af09b1153d61",
   "metadata": {},
   "outputs": [
    {
     "data": {
      "text/plain": [
       "Le Nom est: Russell\n",
       " L'age est: 28\n",
       " La Longitude: 144.8888\n",
       " La Lattitude: 144.8888"
      ]
     },
     "execution_count": 11,
     "metadata": {},
     "output_type": "execute_result"
    }
   ],
   "source": [
    "# Exemple de class avec son constructeur\n",
    "class Person:\n",
    "    def __init__(self, name: str, age: int, localisation: tuple):\n",
    "        self.name = name\n",
    "        self.age = age\n",
    "        self.localisation = localisation\n",
    "        \n",
    "    def __repr__(self):\n",
    "        return f\"Le Nom est: {self.name}\\n L'age est: {self.age}\\n La Longitude: {self.localisation[0]}\\n La Lattitude: {self.localisation[0]}\"\n",
    "    \n",
    "varP = Person('Russell', 28, (144.8888, 98.00155))\n",
    "\n",
    "varP"
   ]
  },
  {
   "cell_type": "code",
   "execution_count": 15,
   "id": "1ba02377-a7ca-421d-9aac-058a82fb8bd3",
   "metadata": {},
   "outputs": [],
   "source": [
    "# Les Listes (Advanced concept) (Part 2)"
   ]
  },
  {
   "cell_type": "code",
   "execution_count": 16,
   "id": "8da02cf5-4218-4552-a8ed-2a41913ff57c",
   "metadata": {},
   "outputs": [],
   "source": [
    "# Generate Liste\n",
    "Liste = [x for x in range(10)]"
   ]
  },
  {
   "cell_type": "code",
   "execution_count": 17,
   "id": "9fe30e8c-cdd3-4a79-9c89-cc999585beca",
   "metadata": {},
   "outputs": [
    {
     "data": {
      "text/plain": [
       "[0, 1, 2, 3, 4, 5, 6, 7, 8, 9]"
      ]
     },
     "execution_count": 17,
     "metadata": {},
     "output_type": "execute_result"
    }
   ],
   "source": [
    "Liste"
   ]
  },
  {
   "cell_type": "code",
   "execution_count": 18,
   "id": "8a6828c1-43b1-47c4-9707-07d4fb0363a0",
   "metadata": {},
   "outputs": [],
   "source": [
    "# Simuler les lambda Expression\n",
    "def a(x): return x**2\n",
    "def b(x): return x+2\n",
    "def c(x): return x-2\n",
    "def d(x): return x//2\n",
    "\n",
    "\n",
    "def f(x): return x % 2 == 0\n",
    "def g(x): return x % 2 != 0\n",
    "def h(x): return x > 2\n",
    "def i(x): return x < 2"
   ]
  },
  {
   "cell_type": "code",
   "execution_count": 25,
   "id": "4f6331de-440a-432b-aac5-af67e5f3fd8b",
   "metadata": {},
   "outputs": [
    {
     "data": {
      "text/plain": [
       "[0, 1, 4, 9, 16, 25, 36, 49, 64, 81]"
      ]
     },
     "execution_count": 25,
     "metadata": {},
     "output_type": "execute_result"
    }
   ],
   "source": [
    "# access to the value\n",
    "Listea = list(map(a, Liste)) # retourne un nouvel itérable\n",
    "Listeb = list(map(b, Liste))\n",
    "Listec = list(map(c, Liste))\n",
    "Listed = list(map(d, Liste))\n",
    "\n",
    "Listea"
   ]
  },
  {
   "cell_type": "code",
   "execution_count": 20,
   "id": "2c2fa661-07b0-4ea8-a554-5ccaea6d90c8",
   "metadata": {},
   "outputs": [
    {
     "data": {
      "text/plain": [
       "[2, 3, 4, 5, 6, 7, 8, 9, 10, 11]"
      ]
     },
     "execution_count": 20,
     "metadata": {},
     "output_type": "execute_result"
    }
   ],
   "source": [
    "Listeb"
   ]
  },
  {
   "cell_type": "code",
   "execution_count": 22,
   "id": "94524c49-aa1f-435c-b92d-e2e92585d408",
   "metadata": {},
   "outputs": [
    {
     "data": {
      "text/plain": [
       "[-2, -1, 0, 1, 2, 3, 4, 5, 6, 7]"
      ]
     },
     "execution_count": 22,
     "metadata": {},
     "output_type": "execute_result"
    }
   ],
   "source": [
    "Listec"
   ]
  },
  {
   "cell_type": "code",
   "execution_count": 23,
   "id": "53cc4e53-c604-46ec-bb46-f06266ba46cd",
   "metadata": {},
   "outputs": [
    {
     "data": {
      "text/plain": [
       "[0, 0, 1, 1, 2, 2, 3, 3, 4, 4]"
      ]
     },
     "execution_count": 23,
     "metadata": {},
     "output_type": "execute_result"
    }
   ],
   "source": [
    "Listed"
   ]
  },
  {
   "cell_type": "code",
   "execution_count": 26,
   "id": "9637c441-f186-43fc-bf81-55d3acd1fefa",
   "metadata": {},
   "outputs": [],
   "source": [
    "Listef = list(filter(f, Liste))\n",
    "Listeg = list(filter(g, Liste))\n",
    "Listeh = list(filter(h, Liste))\n",
    "Listei = list(filter(i, Liste))"
   ]
  },
  {
   "cell_type": "code",
   "execution_count": 27,
   "id": "7b01bc6e-2a8c-4a9e-a5f7-7efdaee1a6cd",
   "metadata": {},
   "outputs": [
    {
     "data": {
      "text/plain": [
       "[0, 2, 4, 6, 8]"
      ]
     },
     "execution_count": 27,
     "metadata": {},
     "output_type": "execute_result"
    }
   ],
   "source": [
    "Listef"
   ]
  },
  {
   "cell_type": "code",
   "execution_count": 29,
   "id": "5bb8fbe0-c999-4835-b7a3-be41ff30c23f",
   "metadata": {},
   "outputs": [
    {
     "data": {
      "text/plain": [
       "[1, 3, 5, 7, 9]"
      ]
     },
     "execution_count": 29,
     "metadata": {},
     "output_type": "execute_result"
    }
   ],
   "source": [
    "Listeg"
   ]
  },
  {
   "cell_type": "code",
   "execution_count": 30,
   "id": "26630609-286c-4b06-a058-40be86d6f1d1",
   "metadata": {},
   "outputs": [
    {
     "data": {
      "text/plain": [
       "[3, 4, 5, 6, 7, 8, 9]"
      ]
     },
     "execution_count": 30,
     "metadata": {},
     "output_type": "execute_result"
    }
   ],
   "source": [
    "Listeh"
   ]
  },
  {
   "cell_type": "code",
   "execution_count": 31,
   "id": "4dd8d3c7-8972-4f79-9ab3-0a9bc9b881e8",
   "metadata": {},
   "outputs": [
    {
     "data": {
      "text/plain": [
       "[0, 1]"
      ]
     },
     "execution_count": 31,
     "metadata": {},
     "output_type": "execute_result"
    }
   ],
   "source": [
    "Listei"
   ]
  },
  {
   "cell_type": "code",
   "execution_count": 32,
   "id": "83a19772-7e36-4392-acf8-68500ba8cf1d",
   "metadata": {},
   "outputs": [],
   "source": [
    "Listef = list(map(f, Liste))"
   ]
  },
  {
   "cell_type": "code",
   "execution_count": 33,
   "id": "968758f1-de27-4d38-ac48-ebb3759cf063",
   "metadata": {},
   "outputs": [
    {
     "data": {
      "text/plain": [
       "[True, False, True, False, True, False, True, False, True, False]"
      ]
     },
     "execution_count": 33,
     "metadata": {},
     "output_type": "execute_result"
    }
   ],
   "source": [
    "Listef"
   ]
  },
  {
   "cell_type": "code",
   "execution_count": 34,
   "id": "fcc8ce95-0475-4a27-9158-35bdca4610d7",
   "metadata": {},
   "outputs": [],
   "source": [
    "a = lambda x: x**2\n",
    "b = lambda x: x+2\n",
    "c = lambda x: x-2\n",
    "d = lambda x: x//2\n",
    "\n",
    "f = lambda x: x % 2 == 0\n",
    "g = lambda x: x % 2 != 0\n",
    "h = lambda x: x > 2\n",
    "i = lambda x: x < 2"
   ]
  },
  {
   "cell_type": "code",
   "execution_count": 35,
   "id": "84e82bab-43dc-438b-bb92-897954d28169",
   "metadata": {},
   "outputs": [],
   "source": [
    "# access to the value\n",
    "Listea = list(map(a, Liste)) # retourne un nouvel itérable\n",
    "Listeb = list(map(b, Liste))\n",
    "Listec = list(map(c, Liste))\n",
    "Listed = list(map(d, Liste))\n",
    "\n",
    "Listef = list(filter(f, Liste))\n",
    "Listeg = list(filter(g, Liste))\n",
    "Listeh = list(filter(h, Liste))\n",
    "Listei = list(filter(i, Liste))"
   ]
  },
  {
   "cell_type": "code",
   "execution_count": 36,
   "id": "87f1456f-0355-4878-a25b-cf3f88e654a5",
   "metadata": {},
   "outputs": [
    {
     "data": {
      "text/plain": [
       "[0, 1, 4, 9, 16, 25, 36, 49, 64, 81]"
      ]
     },
     "execution_count": 36,
     "metadata": {},
     "output_type": "execute_result"
    }
   ],
   "source": [
    "Listea"
   ]
  },
  {
   "cell_type": "code",
   "execution_count": 37,
   "id": "6ad2765e-dfd7-4e93-9bd9-183577a618a8",
   "metadata": {},
   "outputs": [
    {
     "data": {
      "text/plain": [
       "[2, 3, 4, 5, 6, 7, 8, 9, 10, 11]"
      ]
     },
     "execution_count": 37,
     "metadata": {},
     "output_type": "execute_result"
    }
   ],
   "source": [
    "Listeb"
   ]
  },
  {
   "cell_type": "code",
   "execution_count": 38,
   "id": "76ed01b4-80a5-470e-98d9-c160de71aea3",
   "metadata": {},
   "outputs": [
    {
     "data": {
      "text/plain": [
       "[0, 2, 4, 6, 8]"
      ]
     },
     "execution_count": 38,
     "metadata": {},
     "output_type": "execute_result"
    }
   ],
   "source": [
    "Listef"
   ]
  },
  {
   "cell_type": "code",
   "execution_count": 39,
   "id": "8aa55061-4738-44a3-a632-56a9fcd5ac5a",
   "metadata": {},
   "outputs": [
    {
     "data": {
      "text/plain": [
       "[1, 3, 5, 7, 9]"
      ]
     },
     "execution_count": 39,
     "metadata": {},
     "output_type": "execute_result"
    }
   ],
   "source": [
    "Listeg"
   ]
  },
  {
   "cell_type": "code",
   "execution_count": 40,
   "id": "b6002cc2-7d2f-48d8-93c6-b324ebf5ae54",
   "metadata": {},
   "outputs": [],
   "source": [
    "Listea = list(map(lambda x: x**2, Liste))"
   ]
  },
  {
   "cell_type": "code",
   "execution_count": 41,
   "id": "a4c2ad93-12e9-4b84-a79d-29af64d44bb0",
   "metadata": {},
   "outputs": [
    {
     "data": {
      "text/plain": [
       "[0, 1, 4, 9, 16, 25, 36, 49, 64, 81]"
      ]
     },
     "execution_count": 41,
     "metadata": {},
     "output_type": "execute_result"
    }
   ],
   "source": [
    "Listea"
   ]
  },
  {
   "cell_type": "code",
   "execution_count": 42,
   "id": "44598cc3-1fcb-4f8b-9e30-a6c8ffa423e2",
   "metadata": {},
   "outputs": [],
   "source": [
    "def a(x): return x**2\n",
    "def b(x): return x+2\n",
    "def c(x): return x-2\n",
    "def d(x): return x//2\n",
    "\n",
    "\n",
    "def f(x): return x % 2 == 0\n",
    "def g(x): return x % 2 != 0\n",
    "def h(x): return x > 2\n",
    "def i(x): return x < 2"
   ]
  },
  {
   "cell_type": "code",
   "execution_count": 43,
   "id": "a1d7214c-de01-4b8f-907d-b113e74b7569",
   "metadata": {},
   "outputs": [],
   "source": [
    "# Generate Liste\n",
    "Liste = [\n",
    "    [\n",
    "        [1, 2, 3, 4, 5, 6, 7, 8],\n",
    "        [1, 2, 3, 4, 5, 6, 7, 8],\n",
    "        [1, 2, 3, 4, 5, 6, 7, 8],\n",
    "        [1, 2, 3, 4, 5, 6, 7, 8],\n",
    "        [1, 2, 3, 4, 5, 6, 7, 8],\n",
    "    ],\n",
    "    [\n",
    "        [1, 2, 3, 4, 5, 6, 7, 8],\n",
    "        [1, 2, 3, 4, 5, 6, 7, 8],\n",
    "        [1, 2, 3, 4, 5, 6, 7, 8],\n",
    "        [1, 2, 3, 4, 5, 6, 7, 8],\n",
    "        [1, 2, 3, 4, 5, 6, 7, 8],\n",
    "    ],\n",
    "    [\n",
    "        [1, 2, 3, 4, 5, 6, 7, 8],\n",
    "        [1, 2, 3, 4, 5, 6, 7, 8],\n",
    "        [1, 2, 3, 4, 5, 6, 7, 8],\n",
    "        [1, 2, 3, 4, 5, 6, 7, 8],\n",
    "        [1, 2, 3, 4, 5, 6, 7, 8],\n",
    "    ]\n",
    "]"
   ]
  },
  {
   "cell_type": "code",
   "execution_count": 44,
   "id": "f8c49c92-f3f1-420d-8a96-35c0b9aab75f",
   "metadata": {},
   "outputs": [],
   "source": [
    "# access to the value\n",
    "Listea = [[list(map(a, x)) for x in y] for y in Liste]\n",
    "Listeb = [[list(map(b, x)) for x in y] for y in Liste]\n",
    "Listec = [[list(map(c, x)) for x in y] for y in Liste]\n",
    "Listed = [[list(map(d, x)) for x in y] for y in Liste]"
   ]
  },
  {
   "cell_type": "code",
   "execution_count": 45,
   "id": "3a1b27f1-2dd9-4fb8-8cb0-d7e8e79afbb6",
   "metadata": {},
   "outputs": [
    {
     "data": {
      "text/plain": [
       "[[[1, 4, 9, 16, 25, 36, 49, 64],\n",
       "  [1, 4, 9, 16, 25, 36, 49, 64],\n",
       "  [1, 4, 9, 16, 25, 36, 49, 64],\n",
       "  [1, 4, 9, 16, 25, 36, 49, 64],\n",
       "  [1, 4, 9, 16, 25, 36, 49, 64]],\n",
       " [[1, 4, 9, 16, 25, 36, 49, 64],\n",
       "  [1, 4, 9, 16, 25, 36, 49, 64],\n",
       "  [1, 4, 9, 16, 25, 36, 49, 64],\n",
       "  [1, 4, 9, 16, 25, 36, 49, 64],\n",
       "  [1, 4, 9, 16, 25, 36, 49, 64]],\n",
       " [[1, 4, 9, 16, 25, 36, 49, 64],\n",
       "  [1, 4, 9, 16, 25, 36, 49, 64],\n",
       "  [1, 4, 9, 16, 25, 36, 49, 64],\n",
       "  [1, 4, 9, 16, 25, 36, 49, 64],\n",
       "  [1, 4, 9, 16, 25, 36, 49, 64]]]"
      ]
     },
     "execution_count": 45,
     "metadata": {},
     "output_type": "execute_result"
    }
   ],
   "source": [
    "Listea"
   ]
  },
  {
   "cell_type": "code",
   "execution_count": 46,
   "id": "de024c74-e941-4f12-801c-a61b22bec133",
   "metadata": {},
   "outputs": [
    {
     "data": {
      "text/plain": [
       "[[[3, 4, 5, 6, 7, 8, 9, 10],\n",
       "  [3, 4, 5, 6, 7, 8, 9, 10],\n",
       "  [3, 4, 5, 6, 7, 8, 9, 10],\n",
       "  [3, 4, 5, 6, 7, 8, 9, 10],\n",
       "  [3, 4, 5, 6, 7, 8, 9, 10]],\n",
       " [[3, 4, 5, 6, 7, 8, 9, 10],\n",
       "  [3, 4, 5, 6, 7, 8, 9, 10],\n",
       "  [3, 4, 5, 6, 7, 8, 9, 10],\n",
       "  [3, 4, 5, 6, 7, 8, 9, 10],\n",
       "  [3, 4, 5, 6, 7, 8, 9, 10]],\n",
       " [[3, 4, 5, 6, 7, 8, 9, 10],\n",
       "  [3, 4, 5, 6, 7, 8, 9, 10],\n",
       "  [3, 4, 5, 6, 7, 8, 9, 10],\n",
       "  [3, 4, 5, 6, 7, 8, 9, 10],\n",
       "  [3, 4, 5, 6, 7, 8, 9, 10]]]"
      ]
     },
     "execution_count": 46,
     "metadata": {},
     "output_type": "execute_result"
    }
   ],
   "source": [
    "Listeb"
   ]
  },
  {
   "cell_type": "code",
   "execution_count": 47,
   "id": "fec12dd7-3ec2-41ce-9a9f-9ee2c81a43f3",
   "metadata": {},
   "outputs": [],
   "source": [
    "Listef = [[list(filter(f, x)) for x in y] for y in Liste]\n",
    "Listeg = [[list(filter(g, x)) for x in y] for y in Liste]\n",
    "Listeh = [[list(filter(h, x)) for x in y] for y in Liste]\n",
    "Listei = [[list(filter(i, x)) for x in y] for y in Liste]"
   ]
  },
  {
   "cell_type": "code",
   "execution_count": 48,
   "id": "a848dc9b-a046-4166-bdb7-38d67b16deee",
   "metadata": {},
   "outputs": [
    {
     "data": {
      "text/plain": [
       "[[[2, 4, 6, 8], [2, 4, 6, 8], [2, 4, 6, 8], [2, 4, 6, 8], [2, 4, 6, 8]],\n",
       " [[2, 4, 6, 8], [2, 4, 6, 8], [2, 4, 6, 8], [2, 4, 6, 8], [2, 4, 6, 8]],\n",
       " [[2, 4, 6, 8], [2, 4, 6, 8], [2, 4, 6, 8], [2, 4, 6, 8], [2, 4, 6, 8]]]"
      ]
     },
     "execution_count": 48,
     "metadata": {},
     "output_type": "execute_result"
    }
   ],
   "source": [
    "Listef"
   ]
  },
  {
   "cell_type": "code",
   "execution_count": 49,
   "id": "627caa5f-5481-43c9-b8e7-df6540d910b7",
   "metadata": {},
   "outputs": [
    {
     "data": {
      "text/plain": [
       "[[[1, 3, 5, 7], [1, 3, 5, 7], [1, 3, 5, 7], [1, 3, 5, 7], [1, 3, 5, 7]],\n",
       " [[1, 3, 5, 7], [1, 3, 5, 7], [1, 3, 5, 7], [1, 3, 5, 7], [1, 3, 5, 7]],\n",
       " [[1, 3, 5, 7], [1, 3, 5, 7], [1, 3, 5, 7], [1, 3, 5, 7], [1, 3, 5, 7]]]"
      ]
     },
     "execution_count": 49,
     "metadata": {},
     "output_type": "execute_result"
    }
   ],
   "source": [
    "Listeg"
   ]
  },
  {
   "cell_type": "code",
   "execution_count": 50,
   "id": "99037c9d-2124-4986-b78b-f25c2f80b50a",
   "metadata": {},
   "outputs": [],
   "source": [
    "# Ecrivez une classe du nom de Vecteur\n",
    "# On sait a priori qu'un vecteur est un ensemble de points\n",
    "# Et qu'un point est le couple (x,y)\n",
    "# Implémenter donc une classe Vecteur\n",
    "#   qui va prendre en paramètre un ensemble de Point\n",
    "#       utiliser la classe Point implémentée ci dessus\n",
    "#       NB: Petite astuce utiliser l'écriture de mappage *args\n",
    "#       afin de récupérer N éléments.\n",
    "#           Mais pour les tests utiliser que trois objects Point\n",
    "# Ainsi cette classe devra implémenter les méthodes suivantes\n",
    "#   Une méthode pour retourner la liste des Points\n",
    "#   Une autre méthode pour traduire l'object Point en liste de deux éléments à savoir\n",
    "#       [x,y]\n",
    "#       NB: Veuillez ici à mettre cette fonction dans la bonne classe\n",
    "# Ecriver une autre méthode qui permet de calculer la longeur de ce vecteur\n",
    "#   Parter du principe que nous sommes dans un repère orthommé\n",
    "#       Ainsi écrivez d'abord une fonction qui calcule la distance entre deux Points\n",
    "#       Et n'oublier pas la distance est une valeur positive.\n",
    "#       Utiliser les fonctions de la bibliothèque math pour vous faciliter la tâche\n",
    "#       Prenez les point deux a deux et calculer les distances\n",
    "#. Dans cette partie de l'exercice libre à vous de choisir comment sauvegaerder les différentes valeurs de distance calculées\n",
    "# Opter pour la meilleure structuration de vos données. Afin qu'elle permettent plus l'adhésion aux valeurs et aux parents des valeurs."
   ]
  },
  {
   "cell_type": "code",
   "execution_count": 53,
   "id": "aeeb0e3c-33b2-413b-a1f4-827c2aee809e",
   "metadata": {},
   "outputs": [
    {
     "name": "stdout",
     "output_type": "stream",
     "text": [
      "Liste des points du vecteur : \n",
      " [Point(1.0,2.3), Point(10.1,0.5), Point(5.0,2.0)]\n",
      "\n",
      " ---------------------------------------------------------------------------------------------------- \n",
      " Traduction de la liste des points : \n",
      "\n",
      "[[1.0, 2.3], [10.1, 0.5], [5.0, 2.0]]\n"
     ]
    }
   ],
   "source": [
    "# Correction faite par Eric\n",
    "class Point():\n",
    "    # Les arguments ou soit paramètres d'entrée\n",
    "    def __init__(self, abscisse: float, ordonne: float):\n",
    "        self.x = abscisse\n",
    "        self.y = ordonne\n",
    "        \n",
    "    # Cette fonction magique ne retourne que un string ou chaine de caractère\n",
    "    # Cette fonction est semblable à la fonction toString en JAVA\n",
    "    # Donc elle ne peut que retourner qu'une chaine de caractère.\n",
    "    def __repr__(self):\n",
    "        return f\"Point({self.getX()},{self.getY()})\"\n",
    "    \n",
    "    def getX(self):\n",
    "        return self.x\n",
    "    \n",
    "    def getY(self):\n",
    "        return self.y\n",
    "    \n",
    "    def setX(self, newX: float):\n",
    "        self.x = newX\n",
    "        \n",
    "    def setY(self, newY: float):\n",
    "        self.y = newY\n",
    "        \n",
    "class Vecteur():\n",
    "    def __init__(self, *args):\n",
    "        self.points = [point for point in args]\n",
    "    \n",
    "    def __repr__(self):\n",
    "        return f\"Vecteur({self.points})\"\n",
    "    \n",
    "    def liste_point(self):\n",
    "        print(f'Liste des points du vecteur : \\n {self.points}')\n",
    "    \n",
    "    def traduire_point(self):\n",
    "        print(f'\\n {\"-\" * 100} \\n Traduction de la liste des points : \\n')\n",
    "        # translate = lambda x: print(f\"[{x.getX()}, {x.getY()}]\")\n",
    "        translate = lambda x: [x.getX(), x.getY()]\n",
    "        return list(map(translate, self.points))\n",
    "    \n",
    "    def longueur(self):\n",
    "        pass\n",
    "    \n",
    "a = Point(1., 2.3)\n",
    "b = Point(10.1, 0.5)\n",
    "c = Point(5., 2.)\n",
    "\n",
    "v = Vecteur(a, b, c)\n",
    "v.liste_point()\n",
    "print(v.traduire_point())"
   ]
  },
  {
   "cell_type": "code",
   "execution_count": 3,
   "id": "abea00fd-940a-428d-a1b5-fbb3111c4428",
   "metadata": {},
   "outputs": [
    {
     "name": "stdout",
     "output_type": "stream",
     "text": [
      "Liste des points du vecteur : \n",
      " [Point(1.0,2.3), Point(10.1,0.5), Point(5.0,2.0), Point(11.0,5), Point(12.0,6.0)]\n"
     ]
    },
    {
     "data": {
      "text/plain": [
       "[9.28, 4.01, 10.36, 11.61, 5.32, 4.59, 5.82, 6.71, 8.06, 1.41]"
      ]
     },
     "execution_count": 3,
     "metadata": {},
     "output_type": "execute_result"
    }
   ],
   "source": [
    "# Correction faite par Maodo\n",
    "# Ecrivez une classe du nom de Vecteur\n",
    "import math\n",
    "\n",
    "class Point():\n",
    "    # Les arguments ou soit paramètres d'entrée\n",
    "    def __init__(self, abscisse: float, ordonne: float):\n",
    "        self.x = abscisse\n",
    "        self.y = ordonne\n",
    "        \n",
    "    # Cette fonction magique ne retourne que un string ou chaine de caractère\n",
    "    # Cette fonction est semblable à la fonction toString en JAVA\n",
    "    # Donc elle ne peut que retourner qu'une chaine de caractère.\n",
    "    def __repr__(self):\n",
    "        return f\"Point({self.getX()},{self.getY()})\"\n",
    "    \n",
    "    def getX(self):\n",
    "        return self.x\n",
    "    \n",
    "    def getY(self):\n",
    "        return self.y\n",
    "    \n",
    "    def setX(self, newX: float):\n",
    "        self.x = newX\n",
    "        \n",
    "    def setY(self, newY: float):\n",
    "        self.y = newY\n",
    "        \n",
    "class Vecteur(Point):\n",
    "    pass\n",
    "\n",
    "    def __init__(self, *args):\n",
    "        self.points = [_ for _ in args]\n",
    "        \n",
    "    def __repr__(self):\n",
    "        return f\"Vecteur({self.points})\"    \n",
    "    \n",
    "    def ListPoint(self):\n",
    "        print(f'Liste des points du vecteur : \\n {self.points}')\n",
    "\n",
    "    def traductpoint(self):\n",
    "        self.ListeC = list(map(lambda x :[x.getX(), x.getY()], self.points)) \n",
    "        return self.ListeC\n",
    "    \n",
    "    def distance(self):\n",
    "        sqrt_carr = lambda x : round(math.sqrt(math.pow(x[0],2) + math.pow(x[1],2)), 2)\n",
    "        dist = [[round(self.ListeC[(i)][0]-self.ListeC[j][0], 2), round(self.ListeC[(i)][1]-self.ListeC[j][1], 2)] for i in range(len(self.ListeC)) for j in range(i+1,(len(self.ListeC)))]\n",
    "        #print(list(dist))\n",
    "        self.long = list(map(sqrt_carr, dist))\n",
    "        return self.long\n",
    "\n",
    "          \n",
    "                                                                                                              \n",
    "a = Point(1., 2.3)\n",
    "b = Point(10.1, 0.5)\n",
    "c = Point(5., 2.)\n",
    "d = Point(11., 5)\n",
    "e = Point(12., 6.)\n",
    "v = Vecteur(a, b, c, d, e)\n",
    "v.ListPoint()\n",
    "v.traductpoint()\n",
    "v.distance()"
   ]
  },
  {
   "cell_type": "code",
   "execution_count": 5,
   "id": "c066689b-f3bc-43db-8e15-4d3ea721ff51",
   "metadata": {},
   "outputs": [
    {
     "name": "stdin",
     "output_type": "stream",
     "text": [
      "Username:  Maodo\n",
      "Password:  pass\n"
     ]
    },
    {
     "data": {
      "text/plain": [
       "True"
      ]
     },
     "execution_count": 5,
     "metadata": {},
     "output_type": "execute_result"
    }
   ],
   "source": [
    "# Simuler une page de connexion\n",
    "# Correction faite par Maodo (part1)\n",
    "class Register:\n",
    "    def __init__(self, username: str, password: str):\n",
    "        self.username  = username\n",
    "        self.password = password\n",
    "        \n",
    "    def saveUser(self):\n",
    "            try:\n",
    "                with open('files/users.txt', \"a\") as f:\n",
    "                    f.write(f\"{self.username}:{self.password.encode('utf-8').decode('utf-8')}\\n\")  \n",
    "                f.close()\n",
    "            except FileNotFoundError:\n",
    "                print(\"Le fichier spécifié écrire n'existe pas\")\n",
    "            except AttributeError :\n",
    "                print(\"L'attribut n'existe pas dans la classe\")\n",
    "            else : \n",
    "                return True\n",
    "            \n",
    "class Login():\n",
    "    def __init__(self,\n",
    "                 username: str,\n",
    "                 password: str):\n",
    "        self.username = username.lower()\n",
    "        self.password = password\n",
    "\n",
    "    def __chargeUsers(self):\n",
    "        try:\n",
    "            with open('files/users.txt', 'r') as f:\n",
    "                for lines in f.readlines():\n",
    "                    line = lines.split(':')\n",
    "                    username = line[0].lower()\n",
    "                    password = line[1].strip(\"\\n\")\n",
    "                    User[username] = password\n",
    "            f.close()\n",
    "            return User\n",
    "        except FileNotFoundError:\n",
    "            return False\n",
    "        \n",
    "    def logUser(self):\n",
    "        # Completer la fonction\n",
    "        user = self.__chargeUsers()\n",
    "        if self.username in user and verify(self.password.encode('utf-8'), sign(user[self.username].encode('utf-8'))):\n",
    "            return \"Successful connection\" \n",
    "        return \"Connection Failed\"\n",
    "              \n",
    "        # Suivez l'énoncé\n",
    "        # Et appliquer les spécificités\n",
    "        # Appliquer la documentation telle quelle\n",
    "\n",
    "username = str(input('Username: '))\n",
    "password = str(input('Password: '))\n",
    "register = Register(username, password)\n",
    "register.saveUser()"
   ]
  },
  {
   "cell_type": "code",
   "execution_count": 7,
   "id": "a1c84d8f-f4b2-4007-948b-064c3312510f",
   "metadata": {},
   "outputs": [
    {
     "data": {
      "text/plain": [
       "'Successful connection'"
      ]
     },
     "execution_count": 7,
     "metadata": {},
     "output_type": "execute_result"
    }
   ],
   "source": [
    "# Correction faite par Maodo (part 2)\n",
    "login = Login(\"Maodo\", \"pass\")\n",
    "login.logUser()"
   ]
  },
  {
   "cell_type": "code",
   "execution_count": 1,
   "id": "0fe41ef7-08b7-4e0d-a804-481434ed9d01",
   "metadata": {},
   "outputs": [],
   "source": [
    "# Exercice Pratique (Pour demain)\n",
    "# Simulate Login/Register\n",
    "# https://docs.python.org/3/library/hashlib.html\n",
    "# https://randomkeygen.com/\n",
    "\n",
    "import math\n",
    "from hashlib import blake2b\n",
    "from hmac import compare_digest\n",
    "\n",
    "User = {}\n",
    "\n",
    "SECRET_KEY = b'xiizS9QBmft37Pv9g4FCJBXHS35RkpMg'\n",
    "AUTH_SIZE = 16\n",
    "MAX_TRY = 3\n",
    "\n",
    "\n",
    "def sign(password):\n",
    "    h = blake2b(digest_size=AUTH_SIZE, key=SECRET_KEY)\n",
    "    h.update(password)\n",
    "    return h.hexdigest().encode('utf-8')\n",
    "\n",
    "\n",
    "def verify(password, sig):\n",
    "    good_sig = sign(password)\n",
    "    return compare_digest(good_sig, sig)\n",
    "\n",
    "# Utiliser les liens mis en haut du fichier\n",
    "#   Le but est d'utiliser les documents officiels des modules\n",
    "#   Afin d'avoir une aisance et le reflexe d'utiliser les documentations officielles\n",
    "# Puis explorer la documentation de ces modules\n",
    "# Puis en fonction de cela appliquer les deux premières fonctions\n",
    "#   sign(password)\n",
    "#   verify(password, sig)\n",
    "# La fonction pour encoder un string est la suivante\n",
    "#   <string>.encode('utf-8') --> pour de l'UTF-8\n",
    "\n",
    "# Créer une classe du nom de Register\n",
    "#   Cette classe doit initialiser par son constructeur\n",
    "#       Un username de type string\n",
    "#       Un password de type string\n",
    "# Ecrivez ensuite une fonction saveUser()\n",
    "#   Cette fonction doit écrire dans un fichier txt\n",
    "#       Le nom de ce fichier txt est users.txt\n",
    "#       Le format à ecrire dans le fichier est le suivant:\n",
    "#           f.write(f\"{self.username}:{self.password.decode('utf-8')}\\n\")\n",
    "#        N'oubliez pas de wrapper (envelopper) les instructions des clauses d'execptions\n",
    "#           Ici vous aurez besoin de:\n",
    "#               - FileNotFoundError\n",
    "#               - AttributeError\n",
    "\n",
    "# Completer la classe Login\n",
    "# Avec une fonction du nom de logUser\n",
    "# Cette fonction doit:\n",
    "#   En premier lieu appeler la fonction __chargeUsers()\n",
    "#   Après cette fonction doit vérifier:\n",
    "#       Le username dans User\n",
    "#       Le password dans User\n",
    "#           Mais ici concernant le password utiliser la fonction:\n",
    "#               verify() pour vérifier le mot de passe\n",
    "#               verify(<bytes>, <bytes>)\n",
    "#               verify(password1, password2)\n",
    "#               Veuillez à encoder en utf-8 et a suivre la documentation afin de mieux utiliser la fonction\n",
    "#               Suivant la documentation pour une meilleur utilisation\n",
    "\n",
    "class Login():\n",
    "    def __init__(self,\n",
    "                 username: str,\n",
    "                 password: str):\n",
    "        self.username = username.lower()\n",
    "        self.password = password\n",
    "\n",
    "    def __chargeUsers(self):\n",
    "        try:\n",
    "            with open('files/users.txt', 'r') as f:\n",
    "                for lines in f.readlines():\n",
    "                    line = lines.split(':')\n",
    "                    username = line[0]\n",
    "                    password = line[1]\n",
    "                    User[username] = password\n",
    "            f.close()\n",
    "        except FileNotFoundError:\n",
    "            return False\n",
    "        else:\n",
    "            return True\n",
    "\n",
    "    def logUser(self):\n",
    "        # Completer la fonction\n",
    "        # Suivez l'énoncé\n",
    "        # Et appliquer les spécificités\n",
    "        # Appliquer la documentation telle quelle\n",
    "        pass\n",
    "\n",
    "\n",
    "# username = str(input('Username: '))\n",
    "# password = str(input('Password: '))\n",
    "# register = Register(username, password)\n",
    "# register.saveUser()\n",
    "\n",
    "# login = Login(username, password)\n",
    "# login.logUser()"
   ]
  },
  {
   "cell_type": "code",
   "execution_count": 2,
   "id": "97683e30-f76d-4f25-9cb6-35441f411c11",
   "metadata": {},
   "outputs": [
    {
     "name": "stdin",
     "output_type": "stream",
     "text": [
      "Username:  KUASSI\n",
      "Password:  pass\n"
     ]
    },
    {
     "name": "stdout",
     "output_type": "stream",
     "text": [
      "Loading...\n",
      "Finish...\n",
      "this user d'ont exits\n"
     ]
    }
   ],
   "source": [
    "# Simulate Login/Register\n",
    "# https://docs.python.org/3/library/hashlib.html\n",
    "# https://randomkeygen.com/\n",
    "# Correction...\n",
    "\n",
    "import math\n",
    "from hashlib import blake2b\n",
    "from hmac import compare_digest\n",
    "\n",
    "User = {}\n",
    "\n",
    "SECRET_KEY = b'xiizS9QBmft37Pv9g4FCJBXHS35RkpMg'\n",
    "AUTH_SIZE = 16\n",
    "MAX_TRY = 3\n",
    "\n",
    "\n",
    "def sign(password):\n",
    "    h = blake2b(digest_size=AUTH_SIZE, key=SECRET_KEY)\n",
    "    h.update(password)\n",
    "    return h.hexdigest().encode('utf-8')\n",
    "\n",
    "\n",
    "def verify(password, sig):\n",
    "    good_sig = sign(password)\n",
    "    return compare_digest(good_sig, sig)\n",
    "\n",
    "\n",
    "class Register():\n",
    "    def __init__(self,\n",
    "                 username: str,\n",
    "                 password: str):\n",
    "        self.username = username.lower()\n",
    "        self.password = sign(bytes(password.encode('utf-8')))\n",
    "\n",
    "    def saveUser(self, commit=True):\n",
    "        try:\n",
    "            with open('files/users.txt', 'a') as f:\n",
    "                f.write(f\"{self.username}:{self.password.decode('utf-8')}\\n\")\n",
    "            f.close()\n",
    "        except FileNotFoundError:\n",
    "            return False\n",
    "        else:\n",
    "            return True\n",
    "\n",
    "\n",
    "class Login():\n",
    "    def __init__(self,\n",
    "                 username: str,\n",
    "                 password: str):\n",
    "        self.username = username.lower()\n",
    "        self.password = password\n",
    "\n",
    "    def __chargeUsers(self):\n",
    "        try:\n",
    "            with open('files/users.txt', 'r') as f:\n",
    "                for lines in f.readlines():\n",
    "                    line = lines.split(':')\n",
    "                    username = line[0]\n",
    "                    password = line[1]\n",
    "                    User[username] = password\n",
    "            f.close()\n",
    "        except FileNotFoundError:\n",
    "            return False\n",
    "        else:\n",
    "            return True\n",
    "\n",
    "    def logUser(self):\n",
    "        iterator = 0\n",
    "        print('Loading...')\n",
    "        self.__chargeUsers()\n",
    "        print('Finish...')\n",
    "        try:\n",
    "            password = User.get(self.username, None)\n",
    "            password = bytes(password.replace('\\n', '').encode('utf-8'))\n",
    "            password = verify(\n",
    "                bytes(self.password.encode('utf-8')),\n",
    "                password\n",
    "            )\n",
    "        except AttributeError:\n",
    "            print('this user d\\'ont exits')\n",
    "        else:\n",
    "            if password:\n",
    "                print('We are happy to see you again')\n",
    "            else:\n",
    "                print('this user d\\'ont exits')\n",
    "\n",
    "\n",
    "username = str(input('Username: '))\n",
    "password = str(input('Password: '))\n",
    "# register = Register(username, password)\n",
    "# register.saveUser()\n",
    "\n",
    "login = Login(username, password)\n",
    "login.logUser()"
   ]
  },
  {
   "cell_type": "code",
   "execution_count": 8,
   "id": "6d269d16-7fc4-41f5-8567-c2a3bdd6df81",
   "metadata": {},
   "outputs": [
    {
     "name": "stdout",
     "output_type": "stream",
     "text": [
      "--------------------\n",
      "True\n",
      "--------------------\n",
      "True\n",
      "--------------------\n",
      "True\n",
      "--------------------\n",
      "True\n"
     ]
    }
   ],
   "source": [
    "# Les Listes (Advanced concept) (Part 4)\n",
    "# Use any and all on list compréhension\n",
    "\n",
    "def dividerLine():\n",
    "    var = '-' * 20\n",
    "    print(var)\n",
    "\n",
    "# Generate Liste\n",
    "Liste1 = [True, True, True, True]\n",
    "Liste2 = [True, False, False, True]\n",
    "Liste3 = [1, 1, 1, 1]\n",
    "Liste4 = [True, 0, 0, True]\n",
    "\n",
    "# access to the value\n",
    "\n",
    "# display results\n",
    "# Any when we have one assertion to be True\n",
    "# it return True for this iterable\n",
    "dividerLine()\n",
    "print(any(Liste1))\n",
    "dividerLine()\n",
    "print(any(Liste2))\n",
    "dividerLine()\n",
    "print(any(Liste3))\n",
    "dividerLine()\n",
    "print(any(Liste4))"
   ]
  },
  {
   "cell_type": "code",
   "execution_count": 9,
   "id": "80589fbd-f5bc-46eb-80d1-14fda989dbba",
   "metadata": {},
   "outputs": [
    {
     "name": "stdout",
     "output_type": "stream",
     "text": [
      "--------------------\n",
      "True\n",
      "--------------------\n",
      "False\n",
      "--------------------\n",
      "True\n",
      "--------------------\n",
      "False\n"
     ]
    }
   ],
   "source": [
    "# display results\n",
    "# All when we have all assertions are True\n",
    "# it return True else it return False\n",
    "dividerLine()\n",
    "print(all(Liste1))\n",
    "dividerLine()\n",
    "print(all(Liste2))\n",
    "dividerLine()\n",
    "print(all(Liste3))\n",
    "dividerLine()\n",
    "print(all(Liste4))"
   ]
  },
  {
   "cell_type": "code",
   "execution_count": 10,
   "id": "e098bf6c-751a-4d36-bbef-42385360c410",
   "metadata": {},
   "outputs": [],
   "source": [
    "def dividerLine():\n",
    "    var = '-' * 20\n",
    "    print(var)\n",
    "\n",
    "\n",
    "def f(x): return x.lower().capitalize()\n",
    "# f = lambda x: x.lower().capitalize()\n",
    "\n",
    "\n",
    "def isMajor(age: int) -> bool:\n",
    "    return age > 18\n",
    "\n",
    "\n",
    "def isHolly(imc: float) -> bool:\n",
    "    return imc > 25.08\n",
    "\n",
    "\n",
    "def isFemale(gender: str) -> bool:\n",
    "    return f(gender) == 'Female' or f(gender) == 'F'\n",
    "\n",
    "# Generate Liste\n",
    "Liste1 = [isMajor(18), isHolly(22.33), isFemale('F')]\n",
    "Liste2 = [isMajor(18), isHolly(22.33), isFemale('F')]\n",
    "Liste3 = [isMajor(19), isHolly(28.33), isFemale('F')]\n",
    "Liste4 = [isMajor(25), isHolly(42.33), isFemale('Female')]"
   ]
  },
  {
   "cell_type": "code",
   "execution_count": 11,
   "id": "4804957f-3135-4388-997d-68c21f4fbe6a",
   "metadata": {},
   "outputs": [
    {
     "name": "stdout",
     "output_type": "stream",
     "text": [
      "--------------------\n",
      "True\n",
      "--------------------\n",
      "True\n",
      "--------------------\n",
      "True\n",
      "--------------------\n",
      "True\n"
     ]
    }
   ],
   "source": [
    "# access to the value\n",
    "\n",
    "# display results\n",
    "# Any when we have one assertion to be True\n",
    "# it return True for this iterable\n",
    "dividerLine()\n",
    "print(any(Liste1))\n",
    "dividerLine()\n",
    "print(any(Liste2))\n",
    "dividerLine()\n",
    "print(any(Liste3))\n",
    "dividerLine()\n",
    "print(any(Liste4))"
   ]
  },
  {
   "cell_type": "code",
   "execution_count": 12,
   "id": "34d71056-67c4-4054-98de-d9da6f75714e",
   "metadata": {},
   "outputs": [
    {
     "name": "stdout",
     "output_type": "stream",
     "text": [
      "--------------------\n",
      "False\n",
      "--------------------\n",
      "False\n",
      "--------------------\n",
      "True\n",
      "--------------------\n",
      "True\n"
     ]
    }
   ],
   "source": [
    "# display results\n",
    "# All when we have all assertions are True\n",
    "# it return True else it return False\n",
    "dividerLine()\n",
    "print(all(Liste1))\n",
    "dividerLine()\n",
    "print(all(Liste2))\n",
    "dividerLine()\n",
    "print(all(Liste3))\n",
    "dividerLine()\n",
    "print(all(Liste4))"
   ]
  },
  {
   "cell_type": "code",
   "execution_count": 14,
   "id": "e2f04d29-292c-410d-b3ea-ca15151a1990",
   "metadata": {},
   "outputs": [],
   "source": [
    "def dividerLine():\n",
    "    var = '-' * 20\n",
    "    print(var)\n",
    "\n",
    "\n",
    "def a(x): return x**2\n",
    "def b(x): return x+2\n",
    "def c(x): return x-2\n",
    "def d(x): return x//2\n",
    "\n",
    "\n",
    "def f(x): return x % 2 == 0\n",
    "def g(x): return x % 2 != 0\n",
    "def h(x): return x > 2\n",
    "def i(x): return x < 2\n",
    "\n",
    "# Generate Liste\n",
    "Tuple = tuple(x for x in range(10))\n",
    "\n",
    "# access to the value\n",
    "Tuplea = tuple(map(a, Tuple))\n",
    "Tupleb = tuple(map(b, Tuple))\n",
    "Tuplec = tuple(map(c, Tuple))\n",
    "Tupled = tuple(map(d, Tuple))\n",
    "\n",
    "Tuplef = tuple(filter(f, Tuple))\n",
    "Tupleg = tuple(filter(g, Tuple))\n",
    "Tupleh = tuple(filter(h, Tuple))\n",
    "Tuplei = tuple(filter(i, Tuple))"
   ]
  },
  {
   "cell_type": "code",
   "execution_count": 15,
   "id": "02156580-5952-4548-bc9c-3a8119d9fe33",
   "metadata": {},
   "outputs": [
    {
     "name": "stdout",
     "output_type": "stream",
     "text": [
      "--------------------\n",
      "(0, 1, 4, 9, 16, 25, 36, 49, 64, 81)\n",
      "--------------------\n",
      "(2, 3, 4, 5, 6, 7, 8, 9, 10, 11)\n",
      "--------------------\n",
      "(-2, -1, 0, 1, 2, 3, 4, 5, 6, 7)\n",
      "--------------------\n",
      "(0, 0, 1, 1, 2, 2, 3, 3, 4, 4)\n"
     ]
    }
   ],
   "source": [
    "# display results\n",
    "dividerLine()\n",
    "print(Tuplea)\n",
    "dividerLine()\n",
    "print(Tupleb)\n",
    "dividerLine()\n",
    "print(Tuplec)\n",
    "dividerLine()\n",
    "print(Tupled)"
   ]
  },
  {
   "cell_type": "code",
   "execution_count": 16,
   "id": "c3819619-f258-4a58-b635-30c8bd8a760c",
   "metadata": {},
   "outputs": [
    {
     "name": "stdout",
     "output_type": "stream",
     "text": [
      "--------------------\n",
      "(0, 2, 4, 6, 8)\n",
      "--------------------\n",
      "(1, 3, 5, 7, 9)\n",
      "--------------------\n",
      "(3, 4, 5, 6, 7, 8, 9)\n",
      "--------------------\n"
     ]
    }
   ],
   "source": [
    "# display results\n",
    "dividerLine()\n",
    "print(Tuplef)\n",
    "dividerLine()\n",
    "print(Tupleg)\n",
    "dividerLine()\n",
    "print(Tupleh)\n",
    "dividerLine()\n",
    "#print(Tuplei)"
   ]
  },
  {
   "cell_type": "code",
   "execution_count": 17,
   "id": "a3c5e8a3-df5c-4fd2-b511-02293a94135c",
   "metadata": {},
   "outputs": [],
   "source": [
    "# Simulate Car seller\n",
    "import math\n",
    "import random\n",
    "import time\n",
    "\n",
    "\n",
    "# Part 1\n",
    "# ------\n",
    "# Créer une classe du nom de Color\n",
    "# Cette classe doit avoir un attribut du nom de color\n",
    "#   Cet attribut color doit être une liste de couleur\n",
    "#   La liste des couleurs à utiliser est:\n",
    "#       black\n",
    "#       orange\n",
    "#       red\n",
    "#       yellow\n",
    "#       chocolate\n",
    "#       green\n",
    "#       pink\n",
    "#       white\n",
    "#       purple\n",
    "# Créer dans cette classe une méthode de classe\n",
    "#   Qui va retourner de manière random une des couleurs\n",
    "#   Le nom de cette fonction est attributeColor\n",
    "\n",
    "# Part 2\n",
    "# ------\n",
    "# Créer une classe du nom de Brand\n",
    "# Cette classe doit avoir un attribut du nom de brand\n",
    "#   Cet attribut brand doit être une liste de marque de voiture\n",
    "#   La liste des marques de voiture à utiliser est:\n",
    "#       Volvo\n",
    "#       Lexus\n",
    "#       red\n",
    "#       Nissan\n",
    "#       Toyota\n",
    "#       Bugatti\n",
    "#       Lamborghini\n",
    "#       Porche\n",
    "#       purple\n",
    "#       Renault\n",
    "#       Range Rover\n",
    "#       Mercedes\n",
    "#       Hunday\n",
    "# Créer dans cette classe une méthode de classe\n",
    "#   Qui va retourner de manière random une des marques de voiture\n",
    "#   Le nom de cette classe c'est attributeBrand\n",
    "\n",
    "# Part 3\n",
    "# ------\n",
    "# Créer une classe du nom de Money\n",
    "# Cette classe doit prendre en paramètre un string\n",
    "#   Mais ce string a un format particulier\n",
    "#   Exemple: \"1M.5\", \"2M.33\", \"4M.45\"\n",
    "# Ainsi dans cette classe crée un methode du nom de moneyObject\n",
    "#   Cette méthode moneyObject doit:\n",
    "#       Retourner le montant exact issu du string particuler\n",
    "#       Exemple:\n",
    "#           Pour \"1M.5\"\n",
    "#           --> sum([\n",
    "#               self.price[0] * math.pow(10, 6),\n",
    "#               self.price[1] * math.pow(10, 5),\n",
    "#           ])\n",
    "#           Ici price[0] = float(1)\n",
    "#           Ici price[1] = float(5)\n",
    "#           Ainsi donc n'oubliez pas de caster les valeurs\n",
    "#           Remarque:\n",
    "#               Vous aviez surement remarquer la présence d'un tableau price\n",
    "#               Ce tableau est issu du SPLIT sur le string particulier:\n",
    "#                   Le séparateur utilisé ici est le << M. >>\n",
    "\n",
    "# Part 4\n",
    "# ------\n",
    "# Créer une classe du nom de VitesseBox\n",
    "# Cette classe possède un attribut du nom de vitesseBox\n",
    "# Cet attribut est une liste qui contient les informations suivantes\n",
    "#   (190.88, 4, Money(\"2M.5\"))\n",
    "#   (230.88, 8, Money(\"2M.88\"))\n",
    "#   (280.00, 8, Money(\"1M.5\"))\n",
    "#   (150.88, 6, Money(\"1M.88\"))\n",
    "#   (145.66, 6, Money(\"0M.805\"))\n",
    "#   (200.00, 5, Money(\"3M.78\"))\n",
    "#   (185.85, 8, Money(\"1M.3\"))\n",
    "# Créer dans cette classe une méthode de classe\n",
    "#   Qui va retourner de manière random une des vitesseBox\n",
    "#   Le nom de cette classe c'est attributeVBox\n",
    "\n",
    "# Part 5\n",
    "# ------\n",
    "# Créer une classe du nom de CarFactory\n",
    "# Cette classe hérite des classes:\n",
    "#   Color\n",
    "#   Brand\n",
    "#   VitesseBox\n",
    "# Cette classe prend en paramètre un string\n",
    "#   Ce string est le nom d'un pays\n",
    "# Cette classe contiendra une méthode du nom de makeCar\n",
    "#   Cette méthode retourne une liste\n",
    "#       Cette liste contient quatre éléments:\n",
    "#           [\n",
    "#               < La couleur >,\n",
    "#               < La marque >,\n",
    "#               < La vitesse >,\n",
    "#               < Le nom du pays passé en paramètre >\n",
    "#           ]\n",
    "\n",
    "# Créér un méthode du nom de main\n",
    "# Cette méthode doit contenir les lignes\n",
    "#   carGenerator1 = CarFactory(\"Malawi\")\n",
    "#   carGenerator2 = CarFactory(\"Island\")\n",
    "#   carGenerator3 = CarFactory(\"Portugal\")\n",
    "#   carGenerator4 = CarFactory(\"France\")\n",
    "#   Exemple:\n",
    "#   def main():\n",
    "#        carGenerator1 = CarFactory(\"Malawi\")\n",
    "#        carGenerator2 = CarFactory(\"Island\")\n",
    "#        carGenerator3 = CarFactory(\"Portugal\")\n",
    "#        carGenerator4 = CarFactory(\"France\")\n",
    "#        ....................................\n",
    "#        ....................................\n",
    "#        ....................................\n",
    "#        ....................................\n",
    "# Ajouter Quatre autres générateur de voiture avec quatre autres pays\n",
    "\n",
    "# Ainsi faites vos remarques:\n",
    "#   Donner l'utilité de la fonction random.choice\n",
    "#   Donner vos remarque par rapport au méthode de classe et au méthode d'instance de classe\n",
    "#   Enumérer les difficultés que vous aviez rencontré\n",
    "#   Faites un bilan des nouvelles choses apprises\n",
    "#   Et donner la porté de @classmethod\n",
    "\n",
    "# Créer un fichier python du nom de carmodule.py\n",
    "#   Dans ce fichier copier tout le code précédent dedans sauf la méthode main()\n",
    "#   Puis après sauvegarder le fichier\n",
    "# Créer un autre fichier du nom de cargenerator.py\n",
    "#   Dans ce fichier importer tous les modules se trouvant dans carmodule.py comme ceci:\n",
    "#       faites l'importation en début de fichier\n",
    "#       from carmodule import CarFactory\n",
    "# Ainsi écrivez le reste du code que dans le fichier cargenerator.py\n",
    "# Qu'est ce que vous aviez remarqué\n",
    "# Qu'est ce que selon vous un module\n",
    "# Qu'est ce que selon vous un package\n",
    "# Citer quatre modules python que vous connaissez\n",
    "# Puis présenter un module averc ses fonctions\n",
    "#   Exemple: Module math\n",
    "#       fonction ceil --> syntaxe\n",
    "#       fonction pow --> syntaxe\n",
    "#       fonction acos --> syntaxe\n",
    "#       fonction asin --> syntaxe\n",
    "\n",
    "#carGenerator1 = CarFactory(\"Malawi\")\n",
    "#carGenerator2 = CarFactory(\"Island\")\n",
    "#carGenerator3 = CarFactory(\"Portugal\")\n",
    "#carGenerator4 = CarFactory(\"France\")\n",
    "\n",
    "#print(carGenerator4.makeCar())"
   ]
  },
  {
   "cell_type": "code",
   "execution_count": 19,
   "id": "bb814124-0cd9-4612-965a-04a2ea5e2a3d",
   "metadata": {},
   "outputs": [
    {
     "name": "stdout",
     "output_type": "stream",
     "text": [
      "['green', 'Bugatti', (280.0, 8, 1500000.0), 'France']\n"
     ]
    }
   ],
   "source": [
    "# Correction\n",
    "class Color():\n",
    "    color = [\n",
    "        \"black\",\n",
    "        \"orange\",\n",
    "        \"red\",\n",
    "        \"yellow\",\n",
    "        \"chocolate\",\n",
    "        \"green\",\n",
    "        \"pink\",\n",
    "        \"white\",\n",
    "        \"purple\",\n",
    "    ]\n",
    "\n",
    "    @classmethod\n",
    "    def attributeColor(cls):\n",
    "        return random.choice(cls.color)\n",
    "    \n",
    "class Brand():\n",
    "    brand = [\n",
    "        \"Volvo\",\n",
    "        \"Lexus\",\n",
    "        \"Nissan\",\n",
    "        \"Toyota\",\n",
    "        \"Bugatti\",\n",
    "        \"Lamborghini\",\n",
    "        \"Porche\",\n",
    "        \"Renault\",\n",
    "        \"Range Rover\",\n",
    "        \"Mercedes\",\n",
    "        \"Hunday\",\n",
    "    ]\n",
    "\n",
    "    @classmethod\n",
    "    def attributeBrand(cls):\n",
    "        return random.choice(cls.brand)\n",
    "\n",
    "\n",
    "class Money():\n",
    "    def __init__(self, price: str):\n",
    "        self.price = price.split('M.')\n",
    "\n",
    "    def __repr__(self):\n",
    "        return str(self.moneyObject())\n",
    "\n",
    "    def moneyObject(self):\n",
    "        return sum([\n",
    "            float(self.price[0]) * math.pow(10, 6),\n",
    "            float(self.price[1]) * math.pow(10, 5),\n",
    "        ])\n",
    "\n",
    "\n",
    "class VitesseBox():\n",
    "    vitesseBox = [\n",
    "        (190.88, 4, Money(\"2M.5\")),\n",
    "        (230.88, 8, Money(\"2M.88\")),\n",
    "        (280.00, 8, Money(\"1M.5\")),\n",
    "        (150.88, 6, Money(\"1M.88\")),\n",
    "        (145.66, 6, Money(\"0M.805\")),\n",
    "        (200.00, 5, Money(\"3M.78\")),\n",
    "        (185.85, 8, Money(\"1M.3\")),\n",
    "    ]\n",
    "\n",
    "    @classmethod\n",
    "    def attributeVBox(cls):\n",
    "        return random.choice(cls.vitesseBox)\n",
    "\n",
    "\n",
    "class CarFactory(Color,\n",
    "                 Brand,\n",
    "                 VitesseBox):\n",
    "    def __init__(self, fatory: str):\n",
    "        self.fatory = fatory\n",
    "\n",
    "    def makeCar(self):\n",
    "        return [\n",
    "            self.attributeColor(),\n",
    "            self.attributeBrand(),\n",
    "            self.attributeVBox(),\n",
    "            self.fatory\n",
    "        ]\n",
    "\n",
    "\n",
    "carGenerator1 = CarFactory(\"Malawi\")\n",
    "carGenerator2 = CarFactory(\"Island\")\n",
    "carGenerator3 = CarFactory(\"Portugal\")\n",
    "carGenerator4 = CarFactory(\"France\")\n",
    "\n",
    "print(carGenerator4.makeCar())"
   ]
  },
  {
   "cell_type": "markdown",
   "id": "7c26d5c7-5332-4483-9e60-1579ac9ac4a7",
   "metadata": {},
   "source": [
    "## Les collections"
   ]
  },
  {
   "cell_type": "code",
   "execution_count": 1,
   "id": "204161fe-1b30-46ad-99ac-346fc673e57e",
   "metadata": {},
   "outputs": [],
   "source": [
    "# Les collections sont aussi des structures de données\n",
    "# Ils permettent une meilleure utilisation de mémoire\n",
    "# Ce qui favorise une moindre complexité algorithmique\n",
    "# Ainsi l'utilisation des COLLECTIONS est un meilleur moyen d'optimisation de mémoire et d'augmentation de l'éfficacité des traitements\n",
    "# Des listes, des tuples, des dictionnaires...\n",
    "# L'utilisation des collections sont plus efficientes\n",
    "# Mais l'utilisation des premières structures de données abordées restent courante.\n",
    "# Ne remplacer pas forcément votre routine de codage ou d'utilisation des autres structures de données"
   ]
  },
  {
   "cell_type": "markdown",
   "id": "dd60e078-6f4c-4703-a768-c0a937fe949f",
   "metadata": {},
   "source": [
    "### ChainMap"
   ]
  },
  {
   "cell_type": "code",
   "execution_count": 5,
   "id": "bf0b7705-5bcd-45b3-b402-cace46345a47",
   "metadata": {},
   "outputs": [
    {
     "name": "stdout",
     "output_type": "stream",
     "text": [
      "--------------------\n",
      "ChainMap({})\n",
      "----------------------------------------\n",
      "ChainMap({'name': 'Eric', 'age': 28})\n",
      "----------------------------------------\n",
      "ChainMap({'name': 'Eric', 'age': 28}, {'name': 'Russell', 'age': 38}, {'name': 'Lamine Faty', 'age': 23})\n",
      "------------------------------------------\n"
     ]
    }
   ],
   "source": [
    "from collections import ChainMap\n",
    "\n",
    "\n",
    "def dividerLine(n=20):\n",
    "    var = '-' * int(n)\n",
    "    print(var)\n",
    "\n",
    "\n",
    "var1 = ChainMap()\n",
    "var2 = {'name': 'Eric', 'age': 28}\n",
    "var3 = {'name': 'Russell', 'age': 38}\n",
    "var4 = {'name': 'Lamine Faty', 'age': 23}\n",
    "\n",
    "# Ajout d'un dictionnaire a ChainMap\n",
    "var5 = ChainMap(var2)\n",
    "var6 = ChainMap(var2, var3, var4)\n",
    "\n",
    "dividerLine()\n",
    "print(var1)\n",
    "dividerLine(40)\n",
    "print(var5)\n",
    "dividerLine(40)\n",
    "print(var6)\n",
    "dividerLine(42)"
   ]
  },
  {
   "cell_type": "code",
   "execution_count": 7,
   "id": "518c598e-05d5-41fb-a74e-65c8f1d63291",
   "metadata": {},
   "outputs": [
    {
     "name": "stdout",
     "output_type": "stream",
     "text": [
      "--------------------\n",
      "<class 'list'>\n",
      "--------------------\n",
      "[{}]\n",
      "--------------------\n",
      "[{'name': 'Eric', 'age': 28}, {'name': 'Russell', 'age': 38}, {'name': 'Lamine Faty', 'age': 23}]\n",
      "--------------------\n"
     ]
    }
   ],
   "source": [
    "# Use maps (It is a list of ChainMap items)\n",
    "dividerLine()\n",
    "# Une liste de mappages pouvant être mise à jour par l'utilisateur.\n",
    "# La liste est classée du premier recherché au dernier recherché.\n",
    "# C'est le seul état stocké et il peut être modifié pour changer les mappages recherchés\n",
    "# La liste doit toujours contenir au moins un mappage.\n",
    "print(type(var1.maps))\n",
    "dividerLine()\n",
    "print(var1.maps)\n",
    "dividerLine()\n",
    "print(var6.maps)\n",
    "dividerLine()"
   ]
  },
  {
   "cell_type": "code",
   "execution_count": 8,
   "id": "759d77bc-8873-4081-9ce1-3d9ffdff3fc2",
   "metadata": {},
   "outputs": [
    {
     "name": "stdout",
     "output_type": "stream",
     "text": [
      "--------------------\n",
      "ChainMap({}, {'name': 'Eric', 'age': 28}, {'name': 'Russell', 'age': 38}, {'name': 'Lamine Faty', 'age': 23})\n",
      "--------------------\n",
      "ChainMap('node', {'name': 'Eric', 'age': 28}, {'name': 'Russell', 'age': 38}, {'name': 'Lamine Faty', 'age': 23})\n",
      "--------------------\n"
     ]
    }
   ],
   "source": [
    "var7 = var6.new_child()\n",
    "var8 = var6.new_child('node')\n",
    "\n",
    "dividerLine()\n",
    "print(var7)\n",
    "dividerLine()\n",
    "print(var8)\n",
    "dividerLine()"
   ]
  },
  {
   "cell_type": "code",
   "execution_count": 9,
   "id": "507f6903-c7c9-4f9e-9bea-4c856f90c70f",
   "metadata": {},
   "outputs": [],
   "source": [
    "var1 = ChainMap()\n",
    "var2 = {'name': 'Eric', 'age': 28}\n",
    "var3 = {'name': 'Russell', 'age': 38}\n",
    "var4 = {'name': 'Lamine Faty', 'age': 23}\n",
    "\n",
    "var5 = {'tall': 1.88, 'weight': 65}\n",
    "var6 = {'tall': 1.78, 'weight': 68}\n",
    "var7 = {'tall': 1.65, 'weight': 72}\n",
    "\n",
    "# Ajout de plusieurs dictionnaires\n",
    "var8 = ChainMap(var2, var3, var4, var5, var6, var7)"
   ]
  },
  {
   "cell_type": "code",
   "execution_count": 10,
   "id": "2a721e50-6409-46f2-a909-fcef6a8e35ec",
   "metadata": {},
   "outputs": [
    {
     "name": "stdout",
     "output_type": "stream",
     "text": [
      "--------------------\n",
      "Eric\n",
      "--------------------\n"
     ]
    }
   ],
   "source": [
    "# Apply get() method\n",
    "dividerLine()\n",
    "print(var8.get('name'))\n",
    "dividerLine()"
   ]
  },
  {
   "cell_type": "code",
   "execution_count": 11,
   "id": "80add8cb-d233-42ae-9aca-d9afe666d649",
   "metadata": {},
   "outputs": [
    {
     "name": "stdout",
     "output_type": "stream",
     "text": [
      "--------------------\n",
      "['tall', 'weight', 'name', 'age']\n",
      "--------------------\n"
     ]
    }
   ],
   "source": [
    "# Apply keys() method\n",
    "dividerLine()\n",
    "print(list(var8.keys()))\n",
    "dividerLine()"
   ]
  },
  {
   "cell_type": "markdown",
   "id": "35494505-b5a2-4931-bf26-c56584e8a0a7",
   "metadata": {},
   "source": [
    "# Apply values() method\n",
    "dividerLine()\n",
    "print(list(var8.values()))\n",
    "dividerLine()"
   ]
  },
  {
   "cell_type": "code",
   "execution_count": 13,
   "id": "b3c327d8-a78e-4db8-8bed-d425802663c7",
   "metadata": {},
   "outputs": [
    {
     "name": "stdout",
     "output_type": "stream",
     "text": [
      "--------------------\n",
      "[('tall', 1.88), ('weight', 65), ('name', 'Eric'), ('age', 28)]\n",
      "--------------------\n"
     ]
    }
   ],
   "source": [
    "# Apply items() method\n",
    "dividerLine()\n",
    "print(list(var8.items()))\n",
    "dividerLine()"
   ]
  },
  {
   "cell_type": "markdown",
   "id": "acfd93bf-7b28-4086-957d-527ecd85ea10",
   "metadata": {},
   "source": [
    "### Counter"
   ]
  },
  {
   "cell_type": "code",
   "execution_count": 14,
   "id": "ca0af8d8-6232-404c-ae52-075e59b2bdeb",
   "metadata": {},
   "outputs": [],
   "source": [
    "from collections import Counter\n",
    "\n",
    "def dividerLine(n=20):\n",
    "    var = '-' * int(n)\n",
    "    print(var)\n",
    "\n",
    "\n",
    "var1 = Counter()\n",
    "var2 = [1, 1, 1, 2, 3, 2, 4, 5, 6]\n",
    "var3 = Counter(var2)"
   ]
  },
  {
   "cell_type": "code",
   "execution_count": 16,
   "id": "2cf95a83-4a60-4e24-abcc-d8187bb0bd67",
   "metadata": {},
   "outputs": [
    {
     "name": "stdout",
     "output_type": "stream",
     "text": [
      "--------------------\n",
      "Counter()\n",
      "--------------------\n",
      "Counter({1: 3, 2: 2, 3: 1, 4: 1, 5: 1, 6: 1})\n"
     ]
    }
   ],
   "source": [
    "dividerLine()\n",
    "print(var1)\n",
    "dividerLine()\n",
    "print(var3)"
   ]
  },
  {
   "cell_type": "code",
   "execution_count": 18,
   "id": "2acc50c9-714c-411e-a47b-814359b72a2c",
   "metadata": {},
   "outputs": [
    {
     "name": "stdout",
     "output_type": "stream",
     "text": [
      "--------------------\n",
      "0\n",
      "--------------------\n",
      "0\n",
      "--------------------\n",
      "0\n"
     ]
    }
   ],
   "source": [
    "# Find an inexistant element\n",
    "dividerLine()\n",
    "# We have 0 for result\n",
    "# Because 7 is not a var2 list\n",
    "# So Counter objet dont map it\n",
    "print(var3[7])\n",
    "dividerLine()\n",
    "print(var3[8])\n",
    "dividerLine()\n",
    "print(var3[9])"
   ]
  },
  {
   "cell_type": "code",
   "execution_count": 19,
   "id": "9c9a699b-afbf-43dc-96d6-3437617e2776",
   "metadata": {},
   "outputs": [
    {
     "name": "stdout",
     "output_type": "stream",
     "text": [
      "--------------------\n",
      "3\n",
      "--------------------\n",
      "1\n"
     ]
    }
   ],
   "source": [
    "dividerLine()\n",
    "print(var3[1])\n",
    "dividerLine()\n",
    "print(var3[4])"
   ]
  },
  {
   "cell_type": "code",
   "execution_count": 20,
   "id": "30f49962-1b4d-48ed-a73c-3a1e4a205329",
   "metadata": {},
   "outputs": [
    {
     "name": "stdout",
     "output_type": "stream",
     "text": [
      "--------------------\n",
      "Counter({8: 6, 1: 3, 2: 2, 3: 1, 4: 1, 5: 1, 6: 1})\n"
     ]
    }
   ],
   "source": [
    "dividerLine()\n",
    "# Add new element on counter\n",
    "var3[8] = 6\n",
    "print(var3)"
   ]
  },
  {
   "cell_type": "code",
   "execution_count": 21,
   "id": "5f381f42-9c0d-420d-9364-93f3157235c7",
   "metadata": {},
   "outputs": [],
   "source": [
    "var1 = Counter()\n",
    "var2 = [1, 1, 1, 2, 3, 2, 4, 5, 6]\n",
    "var3 = Counter(var2)"
   ]
  },
  {
   "cell_type": "code",
   "execution_count": 23,
   "id": "8c4c421b-78e1-40eb-b399-64e9e064ff9d",
   "metadata": {},
   "outputs": [
    {
     "name": "stdout",
     "output_type": "stream",
     "text": [
      "--------------------\n",
      "[1, 1, 1, 2, 2, 3, 4, 5, 6]\n"
     ]
    }
   ],
   "source": [
    "dividerLine()\n",
    "print(list(var3.elements()))"
   ]
  },
  {
   "cell_type": "code",
   "execution_count": 24,
   "id": "bf653af0-1d3d-4202-88e9-8270d17bf867",
   "metadata": {},
   "outputs": [],
   "source": [
    "var3[8] = 6"
   ]
  },
  {
   "cell_type": "code",
   "execution_count": 25,
   "id": "eb6650f1-bcdb-4b94-92b6-11816fb78a15",
   "metadata": {},
   "outputs": [
    {
     "name": "stdout",
     "output_type": "stream",
     "text": [
      "--------------------\n",
      "[1, 1, 1, 2, 2, 3, 4, 5, 6, 8, 8, 8, 8, 8, 8]\n"
     ]
    }
   ],
   "source": [
    "dividerLine()\n",
    "print(list(var3.elements()))"
   ]
  },
  {
   "cell_type": "code",
   "execution_count": 28,
   "id": "8670e3b9-6fe5-431e-9425-2ee7fe6e66b7",
   "metadata": {},
   "outputs": [
    {
     "name": "stdout",
     "output_type": "stream",
     "text": [
      "[(8, 6), (1, 3)]\n",
      "--------------------\n",
      "[(8, 6), (1, 3), (2, 2)]\n",
      "--------------------\n",
      "[(8, 6), (1, 3), (2, 2), (3, 1)]\n",
      "--------------------\n"
     ]
    }
   ],
   "source": [
    "# Return a list of tuple occurence\n",
    "print(var3.most_common(2))\n",
    "dividerLine()\n",
    "print(var3.most_common(3))\n",
    "dividerLine()\n",
    "print(var3.most_common(4))\n",
    "dividerLine()"
   ]
  },
  {
   "cell_type": "code",
   "execution_count": 32,
   "id": "acdd73c3-9dac-4495-b713-c3dc955b7aa3",
   "metadata": {},
   "outputs": [
    {
     "name": "stdout",
     "output_type": "stream",
     "text": [
      "Counter({'a': 3, 'b': 0, 'c': -3, 'd': -6})\n",
      "--------------------\n"
     ]
    }
   ],
   "source": [
    "# Substract counter object\n",
    "var4 = Counter(a=4, b=2, c=0, d=-2)\n",
    "var5 = Counter(a=1, b=2, c=3, d=4)\n",
    "var4.subtract(var5)\n",
    "print(var4)\n",
    "dividerLine()"
   ]
  },
  {
   "cell_type": "code",
   "execution_count": 34,
   "id": "d9af60bb-663d-4fe0-921b-667292203075",
   "metadata": {},
   "outputs": [
    {
     "name": "stdout",
     "output_type": "stream",
     "text": [
      "Counter({'a': 3, 'b': 0, 3: -2, 4: -2, 5: -2, 6: -2, 'c': -3, 2: -4, 'd': -6, 1: -6, 8: -12})\n"
     ]
    }
   ],
   "source": [
    "var4.subtract(var3)\n",
    "print(var4)"
   ]
  },
  {
   "cell_type": "code",
   "execution_count": 31,
   "id": "becb1f31-afb6-4e51-8c0d-09992d5c903b",
   "metadata": {},
   "outputs": [
    {
     "name": "stdout",
     "output_type": "stream",
     "text": [
      "Counter({8: 6, 1: 3, 2: 2, 3: 1, 4: 1, 5: 1, 6: 1})\n",
      "--------------------\n",
      "--------------------\n",
      "Counter({'a': 4, 'b': 2, 'c': 0, 3: -1, 4: -1, 5: -1, 6: -1, 'd': -2, 2: -2, 1: -3, 8: -6})\n"
     ]
    }
   ],
   "source": [
    "print(var3)\n",
    "dividerLine()\n",
    "dividerLine()\n",
    "print(var4)"
   ]
  },
  {
   "cell_type": "markdown",
   "id": "ae80048d-4af5-4de5-8b05-208c7d04da22",
   "metadata": {},
   "source": [
    "### Deque"
   ]
  },
  {
   "cell_type": "code",
   "execution_count": 35,
   "id": "36160a9b-4d2e-40e1-9844-9bf876c2ce7e",
   "metadata": {},
   "outputs": [],
   "source": [
    "from collections import deque\n",
    "\n",
    "# Retourne un nouvel objet deque initialisé de gauche à droite (en utilisant append()) avec les données de iterable.\n",
    "# Si iterable n'est pas spécifié, le nouveau deque est vide.\n",
    "# Les deques sont une généralisation des piles et des files d'attente (le nom se prononce \"deck\" et est l'abréviation de \"file d'attente à double extrémité\").\n",
    "# Deques prend en charge les ajouts et les pops à mémoire thread-safe et efficaces de chaque côté du deque avec approximativement les mêmes performances O(1) dans les deux sens.\n",
    "# Si maxlen n'est pas spécifié ou vaut None, deques peut atteindre une longueur arbitraire.\n",
    "# Sinon, le deque est limité à la longueur maximale spécifiée.\n",
    "# Une fois qu'une deque de longueur limitée est pleine, lorsque de nouveaux éléments sont ajoutés, un nombre correspondant d'éléments sont supprimés de l'extrémité opposée.\n",
    "# Les deques de longueur limitée fournissent des fonctionnalités similaires au tailfiltre sous Unix. Ils sont également utiles pour le suivi des transactions et d'autres pools de données où seule l'activité la plus récente est intéressante."
   ]
  },
  {
   "cell_type": "code",
   "execution_count": 36,
   "id": "00fc04f1-b830-4996-a789-031147a3b825",
   "metadata": {},
   "outputs": [],
   "source": [
    "var = deque()"
   ]
  },
  {
   "cell_type": "code",
   "execution_count": 37,
   "id": "7059edf9-6984-4086-8aca-dba250e4eaa1",
   "metadata": {},
   "outputs": [
    {
     "name": "stdout",
     "output_type": "stream",
     "text": [
      "--------------------\n",
      "deque([100, 200, 200, 200])\n"
     ]
    }
   ],
   "source": [
    "dividerLine()\n",
    "# ajouter un élément du coté droit de cette Liste\n",
    "var.append(100)\n",
    "var.append(200)\n",
    "var.append(200)\n",
    "var.append(200)\n",
    "print(var)"
   ]
  },
  {
   "cell_type": "code",
   "execution_count": 38,
   "id": "7141b1a8-3f72-4ffd-9e3d-0c23d0fa7483",
   "metadata": {},
   "outputs": [
    {
     "name": "stdout",
     "output_type": "stream",
     "text": [
      "----------------------------------------\n",
      "deque([(44, 'Wolof'), 300.81991, 100, 200, 200, 200])\n"
     ]
    }
   ],
   "source": [
    "dividerLine(40)\n",
    "# ajouter un élément du coté gauche de cette Liste\n",
    "var.appendleft(300.81991)\n",
    "var.appendleft((44, 'Wolof'))\n",
    "print(var)"
   ]
  },
  {
   "cell_type": "code",
   "execution_count": 39,
   "id": "c3327539-88fc-44a5-ab41-fef2c9e7bd8f",
   "metadata": {},
   "outputs": [
    {
     "name": "stdout",
     "output_type": "stream",
     "text": [
      "--------------------\n",
      "deque([(44, 'Wolof'), 300.81991, 100, 200, 200, 200])\n"
     ]
    }
   ],
   "source": [
    "dividerLine()\n",
    "# copier le contenue de la deque\n",
    "var2 = var.copy()\n",
    "print(var2)"
   ]
  },
  {
   "cell_type": "code",
   "execution_count": 40,
   "id": "adef859c-bbe5-4a06-9f12-5c70e3a7bd1f",
   "metadata": {},
   "outputs": [
    {
     "name": "stdout",
     "output_type": "stream",
     "text": [
      "deque([])\n"
     ]
    }
   ],
   "source": [
    "# vider la liste de tous ces éléments\n",
    "var2.clear()\n",
    "print(var2)"
   ]
  },
  {
   "cell_type": "code",
   "execution_count": 41,
   "id": "ae73703d-6b60-409d-9744-8db786b930e1",
   "metadata": {},
   "outputs": [
    {
     "name": "stdout",
     "output_type": "stream",
     "text": [
      "--------------------\n",
      "3\n"
     ]
    }
   ],
   "source": [
    "dividerLine()\n",
    "# compter le nombre d'élément x dans la deque\n",
    "print(var.count(200))"
   ]
  },
  {
   "cell_type": "code",
   "execution_count": 42,
   "id": "f5531681-ecf7-4ad0-add1-7f09ba6ee56b",
   "metadata": {},
   "outputs": [
    {
     "name": "stdout",
     "output_type": "stream",
     "text": [
      "--------------------\n",
      "deque([{'name': 'DSI006'}, (44, 'Wolof'), 300.81991, 100, 200, 200, {'age': 28}, 3000, 200])\n"
     ]
    }
   ],
   "source": [
    "dividerLine()\n",
    "# insérer un élément à une position x donné\n",
    "var.insert(0, {'name': 'DSI006'})\n",
    "var.insert(-1, {'age': 28})\n",
    "var.insert(-1, 3000)\n",
    "print(var)"
   ]
  },
  {
   "cell_type": "code",
   "execution_count": 44,
   "id": "93c2b5fb-17b8-4559-b928-6d7af8589e76",
   "metadata": {},
   "outputs": [
    {
     "name": "stdout",
     "output_type": "stream",
     "text": [
      "--------------------\n",
      "3000\n",
      "--------------------\n",
      "deque([{'name': 'DSI006'}, (44, 'Wolof'), 300.81991, 100, 200, 200, {'age': 28}])\n"
     ]
    }
   ],
   "source": [
    "dividerLine()\n",
    "# supprimer un élément par la droite de la deque\n",
    "# Si aucun élément n'est présent, lève un IndexError.\n",
    "print(var.pop())\n",
    "dividerLine()\n",
    "print(var)"
   ]
  },
  {
   "cell_type": "code",
   "execution_count": 45,
   "id": "ca88492a-d170-4dc6-8e70-8b6c41cfd457",
   "metadata": {},
   "outputs": [
    {
     "name": "stdout",
     "output_type": "stream",
     "text": [
      "--------------------\n",
      "{'name': 'DSI006'}\n",
      "deque([(44, 'Wolof'), 300.81991, 100, 200, 200, {'age': 28}])\n"
     ]
    }
   ],
   "source": [
    "dividerLine()\n",
    "# supprimer un élément par la gauche de la deque\n",
    "# Si aucun élément n'est présent, lève un IndexError.\n",
    "print(var.popleft())\n",
    "print(var)"
   ]
  },
  {
   "cell_type": "code",
   "execution_count": 46,
   "id": "5fd745d8-524a-44cb-9e22-d033d6da7c4b",
   "metadata": {},
   "outputs": [
    {
     "name": "stdout",
     "output_type": "stream",
     "text": [
      "--------------------\n",
      "deque([{'age': 28}, 200, 200, 100, 300.81991, (44, 'Wolof')])\n"
     ]
    }
   ],
   "source": [
    "dividerLine()\n",
    "# Inverser les éléments de la deque\n",
    "var.reverse()\n",
    "print(var)"
   ]
  },
  {
   "cell_type": "code",
   "execution_count": 47,
   "id": "432de563-096d-4f5b-9f70-b8ce373953ed",
   "metadata": {},
   "outputs": [
    {
     "name": "stdout",
     "output_type": "stream",
     "text": [
      "--------------------\n",
      "deque([{'age': 28}, 200, 100, 300.81991, (44, 'Wolof')])\n"
     ]
    }
   ],
   "source": [
    "dividerLine()\n",
    "# Supprimer une valeur existante de la deque\n",
    "var.remove(200)\n",
    "print(var)"
   ]
  },
  {
   "cell_type": "code",
   "execution_count": 48,
   "id": "fbc3c6af-0858-44a2-af54-37dfeee8f30a",
   "metadata": {},
   "outputs": [
    {
     "name": "stdout",
     "output_type": "stream",
     "text": [
      "--------------------\n",
      "deque([{'age': 28}, 100, 300.81991, (44, 'Wolof')])\n"
     ]
    }
   ],
   "source": [
    "dividerLine()\n",
    "# Supprimer une valeur existante de la deque\n",
    "var.remove(200)\n",
    "print(var)"
   ]
  },
  {
   "cell_type": "code",
   "execution_count": 49,
   "id": "6e2a4b48-7fe6-41dd-a4b6-99bd3a38a01b",
   "metadata": {},
   "outputs": [
    {
     "name": "stdout",
     "output_type": "stream",
     "text": [
      "--------------------\n",
      "None\n"
     ]
    }
   ],
   "source": [
    "dividerLine()\n",
    "# Afficher la taille de la deque\n",
    "# Taille maximale d'un deque ou Nones s'il est illimité\n",
    "print(var.maxlen)"
   ]
  },
  {
   "cell_type": "code",
   "execution_count": 50,
   "id": "1b5de3e7-08a4-4425-bc40-86c19d90e92b",
   "metadata": {},
   "outputs": [],
   "source": [
    "var8 = deque(maxlen=100)"
   ]
  },
  {
   "cell_type": "code",
   "execution_count": 51,
   "id": "5a385417-bbc9-45a0-896b-d75c4c019d4d",
   "metadata": {},
   "outputs": [
    {
     "name": "stdout",
     "output_type": "stream",
     "text": [
      "--------------------\n",
      "100\n"
     ]
    }
   ],
   "source": [
    "dividerLine()\n",
    "# Afficher la taille de la deque\n",
    "# Taille maximale d'un deque ou Nones s'il est illimité\n",
    "print(var8.maxlen)"
   ]
  },
  {
   "cell_type": "code",
   "execution_count": 52,
   "id": "200e2a49-4d15-40ed-ad11-e9bcd79ebcf9",
   "metadata": {},
   "outputs": [],
   "source": [
    "# Exercice sur les classes, méthodes et attributs\n",
    "# Part 6\n",
    "# Créer un deux fichiers textes\n",
    "#   Un fichier color.txt\n",
    "#       Remplisser ce fichier avec la liste de toutes les couleurs\n",
    "#       Vous pouvez vous utiliser Internet afin d'elargir plus les recherches et avoir plus de noms\n",
    "#       Mettez les couleurs ligne après ligne dans le fichier\n",
    "#   Un fichier brand.txt\n",
    "#       Remplissez ce fichier avec la liste de toutes les marques de voiture\n",
    "#       Vous pouvez vous utiliser Internet afin d'elargir plus les recherches et avoir plus de noms\n",
    "#       Mettez les marques de voiture lignes après ligne dans le fichier"
   ]
  },
  {
   "cell_type": "code",
   "execution_count": 53,
   "id": "88d0f9ef-8833-480f-a262-5eab76e47221",
   "metadata": {},
   "outputs": [],
   "source": [
    "# Part 7\n",
    "# Créer un fichier factory.py\n",
    "#   Dans ce fichier écriver une fonction du nom de treatFile qui lit dans un fichier\n",
    "#   Cette fonction doit être utilisable pour lire les fichiers color.txt et brand.txt\n",
    "#       Ainsi grâce a cette fonction on peut récuper les informations\n",
    "#       Cette fonction doit prendre en paramètre que le path du fichier à lire\n",
    "#       Et dois retourner la liste des couleurs ou des marques de voiture\n",
    "#       Ainsi dans les classes Color et Brand remplacer la liste contenant les couleurs ou marque par la liste retourner par la fonction treatFile\n",
    "# Une fois toutes ces étpaes faites tester la fonction puis importer le module factory dans le fichier python ou se trouve les classes:\n",
    "#   Color\n",
    "#   Brand\n",
    "#   ...\n",
    "# Pour importer il faudra juste faire:\n",
    "#   Syntaxe: import factory / from factory import treatFile"
   ]
  },
  {
   "cell_type": "code",
   "execution_count": 54,
   "id": "3563bf02-5df6-494b-9f8a-b264c99b6b01",
   "metadata": {},
   "outputs": [],
   "source": [
    "# Part 8\n",
    "# Améliorer la fonction moneyObject() de la classe Money:\n",
    "#   Afin qu'elle retourne le bon résultat\n",
    "#       C'est à dire les chiffres après le M. doivent être considérés dans le bon ordre\n",
    "#       Voyez ceci comme cet exemple:\n",
    "#           \"1M.33\" ==> 1000000 + 300000 + 30000\n",
    "#       Une fois la méthode corrigée exécuter et vérifier si tout marche"
   ]
  },
  {
   "cell_type": "code",
   "execution_count": 56,
   "id": "3189f549-c741-4606-9cf7-c661b4c86bb3",
   "metadata": {},
   "outputs": [],
   "source": [
    "# Correction faite par Maodo\n",
    "# Dans ce fichier écriver une fonction du nom de treatFile qui lit dans un fichier\n",
    "# A mettre dans le factory.py\n",
    "def treatFile(chemin):\n",
    "    with open(chemin, \"r\") as f:\n",
    "        contenu = f.read().splitlines()\n",
    "    f.close()\n",
    "    return contenu\n",
    "\n",
    "# fonction moneyObject améliorée.\n",
    "def moneyObject(self):\n",
    "    table1 = [float(self.price[0][i])*math.pow(10, 6+i) for i in range(len(self.price[0]))]\n",
    "    table2 = [float(self.price[1][i])*math.pow(10, 5-i) for i in range(len(self.price[1]))]\n",
    "    return sum((table1+table2))"
   ]
  },
  {
   "cell_type": "code",
   "execution_count": 2,
   "id": "3509a434-7a7d-492a-b4ea-31a9b9e13f7c",
   "metadata": {},
   "outputs": [],
   "source": [
    "# The collection (Part 8)\n",
    "# OrderedDict()\n",
    "from collections import OrderedDict\n",
    "\n",
    "# Les dictionnaires ordonnés sont comme les dictionnaires ordinaires, mais ont des fonctionnalités supplémentaires liées aux opérations de commande.\n",
    "# Ils sont devenus moins importants maintenant que la dictclasse intégrée a acquis la capacité de se souvenir de l'ordre d'insertion (ce nouveau comportement est devenu garanti dans Python 3.7)."
   ]
  },
  {
   "cell_type": "code",
   "execution_count": 4,
   "id": "c6ad559c-1d60-4728-b38f-52d29ddfb972",
   "metadata": {},
   "outputs": [],
   "source": [
    "def dividerLine(n=20):\n",
    "    var = '-' * int(n)\n",
    "    print(var)\n",
    "\n",
    "\n",
    "var  = OrderedDict()\n",
    "var2 = OrderedDict(a=4, b=2)\n",
    "var3 = OrderedDict([('a', 4), ('b', 2)])\n",
    "var4 = OrderedDict({'a': 4, 'b': 4})"
   ]
  },
  {
   "cell_type": "code",
   "execution_count": 6,
   "id": "afbed3e0-165f-4c09-906f-337b45f6644c",
   "metadata": {},
   "outputs": [
    {
     "name": "stdout",
     "output_type": "stream",
     "text": [
      "--------------------\n",
      "OrderedDict()\n",
      "OrderedDict([('a', 4), ('b', 2)])\n",
      "OrderedDict([('a', 4), ('b', 2)])\n",
      "OrderedDict([('a', 4), ('b', 4)])\n"
     ]
    }
   ],
   "source": [
    "dividerLine()\n",
    "# Create a OrderDict instanve\n",
    "print(var)\n",
    "print(var2)\n",
    "print(var3)\n",
    "print(var4)"
   ]
  },
  {
   "cell_type": "code",
   "execution_count": 7,
   "id": "e60ad1e1-fa8c-47e1-9608-12ae3424a00a",
   "metadata": {},
   "outputs": [
    {
     "name": "stdout",
     "output_type": "stream",
     "text": [
      "--------------------\n",
      "4\n",
      "2\n",
      "--------------------\n",
      "4\n",
      "2\n",
      "--------------------\n",
      "4\n",
      "4\n"
     ]
    }
   ],
   "source": [
    "# get element out of OrderDict\n",
    "dividerLine()\n",
    "print(var2.get('a'))\n",
    "print(var2.get('b'))\n",
    "dividerLine()\n",
    "print(var3.get('a'))\n",
    "print(var3.get('b'))\n",
    "dividerLine()\n",
    "print(var4.get('a'))\n",
    "print(var4.get('b'))"
   ]
  },
  {
   "cell_type": "code",
   "execution_count": 8,
   "id": "eec270f1-6e09-4569-9c5e-101dbcf21a18",
   "metadata": {},
   "outputs": [
    {
     "name": "stdout",
     "output_type": "stream",
     "text": [
      "--------------------\n",
      "odict_keys(['a', 'b'])\n",
      "['a', 'b']\n",
      "--------------------\n",
      "odict_keys(['a', 'b'])\n",
      "['a', 'b']\n",
      "--------------------\n",
      "odict_keys(['a', 'b'])\n",
      "['a', 'b']\n"
     ]
    }
   ],
   "source": [
    "# get all keys out of OrderDict\n",
    "dividerLine()\n",
    "print(var2.keys())\n",
    "print(list(var2.keys()))\n",
    "dividerLine()\n",
    "print(var3.keys())\n",
    "print(list(var3.keys()))\n",
    "dividerLine()\n",
    "print(var4.keys())\n",
    "print(list(var4.keys()))"
   ]
  },
  {
   "cell_type": "code",
   "execution_count": 9,
   "id": "bd6bf89b-f449-4874-9a2b-eb52f65b3ffb",
   "metadata": {},
   "outputs": [
    {
     "name": "stdout",
     "output_type": "stream",
     "text": [
      "--------------------\n",
      "odict_values([4, 2])\n",
      "[4, 2]\n",
      "--------------------\n",
      "odict_values([4, 2])\n",
      "[4, 2]\n",
      "--------------------\n",
      "odict_values([4, 4])\n",
      "[4, 4]\n"
     ]
    }
   ],
   "source": [
    "# get all values out of OrderDict\n",
    "dividerLine()\n",
    "print(var2.values())\n",
    "print(list(var2.values()))\n",
    "dividerLine()\n",
    "print(var3.values())\n",
    "print(list(var3.values()))\n",
    "dividerLine()\n",
    "print(var4.values())\n",
    "print(list(var4.values()))"
   ]
  },
  {
   "cell_type": "code",
   "execution_count": 10,
   "id": "5b696f55-3c67-4b83-a488-d134a51a4b9b",
   "metadata": {},
   "outputs": [
    {
     "name": "stdout",
     "output_type": "stream",
     "text": [
      "--------------------\n",
      "odict_items([('a', 4), ('b', 2)])\n",
      "[('a', 4), ('b', 2)]\n",
      "--------------------\n",
      "odict_items([('a', 4), ('b', 2)])\n",
      "[('a', 4), ('b', 2)]\n",
      "--------------------\n",
      "odict_items([('a', 4), ('b', 4)])\n",
      "[('a', 4), ('b', 4)]\n"
     ]
    }
   ],
   "source": [
    "# get all items out of OrderDict\n",
    "dividerLine()\n",
    "print(var2.items())\n",
    "print(list(var2.items()))\n",
    "dividerLine()\n",
    "print(var3.items())\n",
    "print(list(var3.items()))\n",
    "dividerLine()\n",
    "print(var4.items())\n",
    "print(list(var4.items()))"
   ]
  },
  {
   "cell_type": "code",
   "execution_count": 11,
   "id": "65c77ebc-92b2-447b-bb41-263eb343938c",
   "metadata": {},
   "outputs": [
    {
     "name": "stdout",
     "output_type": "stream",
     "text": [
      "--------------------\n",
      "Before: OrderedDict([('a', 4), ('b', 2)])\n",
      "After: OrderedDict([('b', 2), ('a', 4)])\n"
     ]
    }
   ],
   "source": [
    "# Move to end\n",
    "# left to right\n",
    "dividerLine()\n",
    "print(f'Before: {var2}')\n",
    "var2.move_to_end('a', last=True)\n",
    "print(f'After: {var2}')"
   ]
  },
  {
   "cell_type": "code",
   "execution_count": 12,
   "id": "403a91e2-b0ae-4e72-bfdb-a7d79cde0c3c",
   "metadata": {},
   "outputs": [
    {
     "name": "stdout",
     "output_type": "stream",
     "text": [
      "--------------------\n",
      "Before: OrderedDict([('b', 2), ('a', 4)])\n",
      "After: OrderedDict([('b', 2), ('a', 4)])\n"
     ]
    }
   ],
   "source": [
    "# right to end\n",
    "dividerLine()\n",
    "print(f'Before: {var2}')\n",
    "var2.move_to_end('b', last=False)\n",
    "print(f'After: {var2}')"
   ]
  },
  {
   "cell_type": "code",
   "execution_count": 13,
   "id": "5a1f8d90-5d3a-4acf-92ca-eb197585f2f2",
   "metadata": {},
   "outputs": [
    {
     "name": "stdout",
     "output_type": "stream",
     "text": [
      "-------LIFO-------\n",
      "Before: OrderedDict([('b', 2), ('a', 4)])\n",
      "Remove: ('a', 4)\n",
      "After: OrderedDict([('b', 2)])\n"
     ]
    }
   ],
   "source": [
    "# Delete with LIFO\n",
    "# right to end\n",
    "print('-------LIFO-------')\n",
    "print(f'Before: {var2}')\n",
    "print(f'Remove: {var2.popitem(last=True)}')\n",
    "print(f'After: {var2}')"
   ]
  },
  {
   "cell_type": "code",
   "execution_count": 14,
   "id": "ac694cf7-bc45-4eb1-9ca3-254e5a5a2a49",
   "metadata": {},
   "outputs": [
    {
     "name": "stdout",
     "output_type": "stream",
     "text": [
      "-------FIFO-------\n",
      "Before: OrderedDict([('b', 2), ('c', 85), ('d', 100)])\n",
      "Remove: ('b', 2)\n",
      "After: OrderedDict([('c', 85), ('d', 100)])\n"
     ]
    }
   ],
   "source": [
    "# Delete with FIFO\n",
    "# right to end\n",
    "var2['c'] = 85\n",
    "var2['d'] = 100\n",
    "print('-------FIFO-------')\n",
    "print(f'Before: {var2}')\n",
    "print(f'Remove: {var2.popitem(last=False)}')\n",
    "print(f'After: {var2}')"
   ]
  },
  {
   "cell_type": "code",
   "execution_count": 15,
   "id": "146acc03-0c91-4d01-9bc4-7ea04e29632c",
   "metadata": {},
   "outputs": [
    {
     "name": "stdout",
     "output_type": "stream",
     "text": [
      "--------------------\n",
      "OrderedDict([('c', 85), ('d', 100), ('e', 5), (100, ('Ali', 'Eric')), ('age', [18, 20])])\n"
     ]
    }
   ],
   "source": [
    "dividerLine()\n",
    "var2.__setitem__('e', 5)\n",
    "var2.__setitem__(100, ('Ali', 'Eric'))\n",
    "var2.__setitem__('age', [18, 20])\n",
    "print(var2)"
   ]
  },
  {
   "cell_type": "code",
   "execution_count": 16,
   "id": "9fa619b2-af60-4cf4-98b3-5896ef0b39c8",
   "metadata": {},
   "outputs": [],
   "source": [
    "# The Functions\n",
    "# Advanced Part (Decorator)\n",
    "# Un décorateur prend en paramatre une fonction (CALLABLE)\n",
    "# Puis évalue les conditions appliquées à la fonction avant de l'exécuter\n",
    "# Donc le décorateur s'exécute avant la dite fonction"
   ]
  },
  {
   "cell_type": "code",
   "execution_count": 17,
   "id": "5d017e66-4e45-4495-a01d-016d587305fd",
   "metadata": {},
   "outputs": [],
   "source": [
    "LIMIT = 18\n",
    "\n",
    "\n",
    "def dividerLine(n=20):\n",
    "    var = '-' * int(n)\n",
    "    print(var)\n",
    "\n",
    "\n",
    "def decorator(func):\n",
    "    def innerFunction(age):\n",
    "        if isinstance(age, int):\n",
    "            func(age)\n",
    "        else:\n",
    "            print('Error is occured')\n",
    "    return innerFunction\n",
    "\n",
    "@decorator\n",
    "def giveAcces(age: int):\n",
    "    print(age > LIMIT)"
   ]
  },
  {
   "cell_type": "code",
   "execution_count": 18,
   "id": "24de754e-891b-4c97-9282-73a94ee035ec",
   "metadata": {},
   "outputs": [
    {
     "name": "stdout",
     "output_type": "stream",
     "text": [
      "--------------------\n",
      "True\n"
     ]
    }
   ],
   "source": [
    "dividerLine()\n",
    "giveAcces(20)"
   ]
  },
  {
   "cell_type": "code",
   "execution_count": 19,
   "id": "2d58377c-e70d-4a5b-b88d-ff47ae7f1a7a",
   "metadata": {},
   "outputs": [
    {
     "name": "stdout",
     "output_type": "stream",
     "text": [
      "--------------------\n",
      "True\n"
     ]
    }
   ],
   "source": [
    "dividerLine()\n",
    "giveAcces(100)"
   ]
  },
  {
   "cell_type": "code",
   "execution_count": 20,
   "id": "cea9486f-3217-4c19-ab82-6054ec0da7a8",
   "metadata": {},
   "outputs": [
    {
     "name": "stdout",
     "output_type": "stream",
     "text": [
      "--------------------\n",
      "Error is occured\n"
     ]
    }
   ],
   "source": [
    "dividerLine()\n",
    "giveAcces(10.88)"
   ]
  },
  {
   "cell_type": "code",
   "execution_count": 21,
   "id": "fc45726a-65c1-4320-97a5-20208eb977f2",
   "metadata": {},
   "outputs": [],
   "source": [
    "# The Class\n",
    "# Advanced Part1\n",
    "\n",
    "def dividerLine(n=20):\n",
    "    var = '-' * int(n)\n",
    "    print(var)\n",
    "\n",
    "\n",
    "class A:\n",
    "    def __init__(self):\n",
    "        self._x = None\n",
    "        \n",
    "    def getVar(self):\n",
    "        return self.var\n",
    "\n",
    "    def getx(self):\n",
    "        return self._x\n",
    "\n",
    "    def setx(self, value):\n",
    "        self._x = value\n",
    "\n",
    "    def delx(self):\n",
    "        del self._x\n",
    "\n",
    "    x = property(getx, setx, delx, \"I'm the 'x' property.\")"
   ]
  },
  {
   "cell_type": "code",
   "execution_count": 22,
   "id": "845cc077-cd5a-40c9-a82c-9b8ed3544494",
   "metadata": {},
   "outputs": [],
   "source": [
    "class B:\n",
    "    def __init__(self):\n",
    "        self._x = None\n",
    "\n",
    "    @property\n",
    "    def x(self):\n",
    "        \"\"\"I'm the 'x' property.\"\"\"\n",
    "        return self._x\n",
    "\n",
    "    @x.setter\n",
    "    def x(self, value):\n",
    "        self._x = value\n",
    "\n",
    "    @x.deleter\n",
    "    def x(self):\n",
    "        del self._x"
   ]
  },
  {
   "cell_type": "code",
   "execution_count": 23,
   "id": "9854a409-6960-4414-bfc1-be26dfbd98cc",
   "metadata": {},
   "outputs": [],
   "source": [
    "var = A()\n",
    "var2 = B()"
   ]
  },
  {
   "cell_type": "code",
   "execution_count": 24,
   "id": "c0c4c898-43a5-4b2c-aa82-ea9649f432d9",
   "metadata": {},
   "outputs": [
    {
     "name": "stdout",
     "output_type": "stream",
     "text": [
      "--------------------\n",
      "None\n"
     ]
    }
   ],
   "source": [
    "# Get x\n",
    "# Use property\n",
    "# Use getter\n",
    "dividerLine()\n",
    "print(var.x)"
   ]
  },
  {
   "cell_type": "code",
   "execution_count": 25,
   "id": "3c25afff-d3dd-4ce7-bc3f-37e6b976c04d",
   "metadata": {},
   "outputs": [
    {
     "name": "stdout",
     "output_type": "stream",
     "text": [
      "--------------------\n",
      "14\n"
     ]
    }
   ],
   "source": [
    "# Set x\n",
    "# Use property\n",
    "# Use Setter\n",
    "dividerLine()\n",
    "var.x = 14\n",
    "print(var.x)"
   ]
  },
  {
   "cell_type": "code",
   "execution_count": 26,
   "id": "829fea7d-1cfa-4e94-9234-17583f069f68",
   "metadata": {},
   "outputs": [
    {
     "name": "stdout",
     "output_type": "stream",
     "text": [
      "--------------------\n"
     ]
    }
   ],
   "source": [
    "# Delete x\n",
    "# Use property\n",
    "# Use Setter\n",
    "dividerLine()\n",
    "del(var.x)"
   ]
  },
  {
   "cell_type": "code",
   "execution_count": 27,
   "id": "dcec63cf-aff8-4577-b9f3-d522f834effd",
   "metadata": {},
   "outputs": [
    {
     "ename": "AttributeError",
     "evalue": "'A' object has no attribute '_x'",
     "output_type": "error",
     "traceback": [
      "\u001b[0;31m---------------------------------------------------------------------------\u001b[0m",
      "\u001b[0;31mAttributeError\u001b[0m                            Traceback (most recent call last)",
      "Input \u001b[0;32mIn [27]\u001b[0m, in \u001b[0;36m<module>\u001b[0;34m\u001b[0m\n\u001b[0;32m----> 1\u001b[0m \u001b[38;5;28mprint\u001b[39m(\u001b[43mvar\u001b[49m\u001b[38;5;241;43m.\u001b[39;49m\u001b[43mx\u001b[49m)\n",
      "Input \u001b[0;32mIn [21]\u001b[0m, in \u001b[0;36mA.getx\u001b[0;34m(self)\u001b[0m\n\u001b[1;32m     13\u001b[0m \u001b[38;5;28;01mdef\u001b[39;00m \u001b[38;5;21mgetx\u001b[39m(\u001b[38;5;28mself\u001b[39m):\n\u001b[0;32m---> 14\u001b[0m     \u001b[38;5;28;01mreturn\u001b[39;00m \u001b[38;5;28;43mself\u001b[39;49m\u001b[38;5;241;43m.\u001b[39;49m\u001b[43m_x\u001b[49m\n",
      "\u001b[0;31mAttributeError\u001b[0m: 'A' object has no attribute '_x'"
     ]
    }
   ],
   "source": [
    "print(var.x)"
   ]
  },
  {
   "cell_type": "code",
   "execution_count": 28,
   "id": "d57474bb-c31b-48c3-a965-6e44ec8e34e1",
   "metadata": {},
   "outputs": [
    {
     "name": "stdout",
     "output_type": "stream",
     "text": [
      "Instance of B class\n"
     ]
    }
   ],
   "source": [
    "print('Instance of B class')"
   ]
  },
  {
   "cell_type": "code",
   "execution_count": 29,
   "id": "be6519ea-8f48-4166-8956-c5a1e082c12c",
   "metadata": {},
   "outputs": [
    {
     "name": "stdout",
     "output_type": "stream",
     "text": [
      "--------------------\n",
      "None\n"
     ]
    }
   ],
   "source": [
    "# Get x\n",
    "# Use property\n",
    "# Use getter\n",
    "dividerLine()\n",
    "print(var2.x)"
   ]
  },
  {
   "cell_type": "code",
   "execution_count": 30,
   "id": "fd7aeca4-cfef-4973-8db6-26a5bdd638c7",
   "metadata": {},
   "outputs": [
    {
     "name": "stdout",
     "output_type": "stream",
     "text": [
      "--------------------\n",
      "16\n"
     ]
    }
   ],
   "source": [
    "# Set x\n",
    "# Use property\n",
    "# Use Setter\n",
    "dividerLine()\n",
    "var2.x = 16\n",
    "print(var2.x)"
   ]
  },
  {
   "cell_type": "code",
   "execution_count": 31,
   "id": "63112f93-3a56-4da4-b3ce-91659d088159",
   "metadata": {},
   "outputs": [
    {
     "name": "stdout",
     "output_type": "stream",
     "text": [
      "--------------------\n"
     ]
    }
   ],
   "source": [
    "# Delete x\n",
    "# Use property\n",
    "# Use Setter\n",
    "dividerLine()\n",
    "del(var2.x)"
   ]
  },
  {
   "cell_type": "code",
   "execution_count": 32,
   "id": "f390f61b-dd3b-4c17-abdc-dbd6785e8405",
   "metadata": {},
   "outputs": [
    {
     "ename": "AttributeError",
     "evalue": "'B' object has no attribute '_x'",
     "output_type": "error",
     "traceback": [
      "\u001b[0;31m---------------------------------------------------------------------------\u001b[0m",
      "\u001b[0;31mAttributeError\u001b[0m                            Traceback (most recent call last)",
      "Input \u001b[0;32mIn [32]\u001b[0m, in \u001b[0;36m<module>\u001b[0;34m\u001b[0m\n\u001b[0;32m----> 1\u001b[0m \u001b[38;5;28mprint\u001b[39m(\u001b[43mvar2\u001b[49m\u001b[38;5;241;43m.\u001b[39;49m\u001b[43mx\u001b[49m)\n",
      "Input \u001b[0;32mIn [22]\u001b[0m, in \u001b[0;36mB.x\u001b[0;34m(self)\u001b[0m\n\u001b[1;32m      5\u001b[0m \u001b[38;5;129m@property\u001b[39m\n\u001b[1;32m      6\u001b[0m \u001b[38;5;28;01mdef\u001b[39;00m \u001b[38;5;21mx\u001b[39m(\u001b[38;5;28mself\u001b[39m):\n\u001b[1;32m      7\u001b[0m     \u001b[38;5;124;03m\"\"\"I'm the 'x' property.\"\"\"\u001b[39;00m\n\u001b[0;32m----> 8\u001b[0m     \u001b[38;5;28;01mreturn\u001b[39;00m \u001b[38;5;28;43mself\u001b[39;49m\u001b[38;5;241;43m.\u001b[39;49m\u001b[43m_x\u001b[49m\n",
      "\u001b[0;31mAttributeError\u001b[0m: 'B' object has no attribute '_x'"
     ]
    }
   ],
   "source": [
    "print(var2.x)"
   ]
  },
  {
   "cell_type": "code",
   "execution_count": 33,
   "id": "741bb688-9006-4e39-b881-09a4c5d1476d",
   "metadata": {},
   "outputs": [],
   "source": [
    "# The Class\n",
    "# Advanced Part2\n",
    "# Portée des fonctions\n",
    "# Portée des variables\n",
    "\n",
    "def dividerLine(n=20):\n",
    "    var = '-' * int(n)\n",
    "    print(var)\n",
    "\n",
    "\n",
    "class A:\n",
    "    age = 188\n",
    "    sex = 'Masculin'\n",
    "\n",
    "    def __init__(self, a: int, b: int):\n",
    "        # Public access\n",
    "        self.a = a\n",
    "        self.b = b\n",
    "        # Private access\n",
    "        self.__c = 10\n",
    "        self.__d = 18\n",
    "\n",
    "    def getA(self):\n",
    "        return self.a\n",
    "\n",
    "    def getC(self):\n",
    "        return self.__c\n",
    "\n",
    "    @staticmethod\n",
    "    def display():\n",
    "        return 'Je suis une méthode statique'"
   ]
  },
  {
   "cell_type": "code",
   "execution_count": 34,
   "id": "77b8940a-f2a7-4ac5-a5b2-4c9609ffb026",
   "metadata": {},
   "outputs": [
    {
     "name": "stdout",
     "output_type": "stream",
     "text": [
      "--------------------\n",
      "12 12\n",
      "10\n"
     ]
    }
   ],
   "source": [
    "varA = A(12, 13)\n",
    "\n",
    "# Private attribute\n",
    "dividerLine()\n",
    "print(varA.a, varA.getA())\n",
    "print(varA.getC())"
   ]
  },
  {
   "cell_type": "code",
   "execution_count": 35,
   "id": "1c2fbd8a-a619-49ed-8e1c-4b080ef9f384",
   "metadata": {},
   "outputs": [
    {
     "ename": "AttributeError",
     "evalue": "'A' object has no attribute '__c'",
     "output_type": "error",
     "traceback": [
      "\u001b[0;31m---------------------------------------------------------------------------\u001b[0m",
      "\u001b[0;31mAttributeError\u001b[0m                            Traceback (most recent call last)",
      "Input \u001b[0;32mIn [35]\u001b[0m, in \u001b[0;36m<module>\u001b[0;34m\u001b[0m\n\u001b[0;32m----> 1\u001b[0m \u001b[38;5;28mprint\u001b[39m(\u001b[43mvarA\u001b[49m\u001b[38;5;241;43m.\u001b[39;49m\u001b[43m__c\u001b[49m)\n",
      "\u001b[0;31mAttributeError\u001b[0m: 'A' object has no attribute '__c'"
     ]
    }
   ],
   "source": [
    "print(varA.__c)"
   ]
  },
  {
   "cell_type": "code",
   "execution_count": 36,
   "id": "9017acf3-ac4a-4d29-9927-618d75ca1f39",
   "metadata": {},
   "outputs": [
    {
     "name": "stdout",
     "output_type": "stream",
     "text": [
      "188\n",
      "Masculin\n"
     ]
    }
   ],
   "source": [
    "# Les attributs de la classe A\n",
    "# Les attributs statics de la classe A\n",
    "print(A.age)\n",
    "print(A.sex)"
   ]
  },
  {
   "cell_type": "code",
   "execution_count": 37,
   "id": "1716da28-70d1-4a16-b12c-b5f492f13948",
   "metadata": {},
   "outputs": [
    {
     "name": "stdout",
     "output_type": "stream",
     "text": [
      "Je suis une méthode statique\n"
     ]
    }
   ],
   "source": [
    "print(A.display())"
   ]
  },
  {
   "cell_type": "code",
   "execution_count": 38,
   "id": "18011115-77fd-4e0a-a1b3-b13e29fb3d7c",
   "metadata": {},
   "outputs": [],
   "source": [
    "# The Json format\n",
    "# Encoding/Decoding\n",
    "import json\n",
    "from io import StringIO"
   ]
  },
  {
   "cell_type": "code",
   "execution_count": 39,
   "id": "c1cddeb4-1ba1-45c1-836d-a0064341865e",
   "metadata": {},
   "outputs": [],
   "source": [
    "def dividerLine(n=20):\n",
    "    var = '-' * int(n)\n",
    "    print(var)\n",
    "\n",
    "class ListEncoder(json.JSONEncoder):\n",
    "    def default(self, obj):\n",
    "        if isinstance(obj, list):\n",
    "            return list(obj)\n",
    "        # Let the base class default method raise the TypeError\n",
    "        return json.JSONEncoder.default(self, obj)\n",
    "\n",
    "class DictEncoder(json.JSONEncoder):\n",
    "    def default(self, obj):\n",
    "        if isinstance(obj, dict):\n",
    "            return dict(obj)\n",
    "        # Let the base class default method raise the TypeError\n",
    "        return json.JSONEncoder.default(self, obj)\n",
    "\n",
    "class ComplexEncoder(json.JSONEncoder):\n",
    "    def default(self, obj):\n",
    "        if isinstance(obj, complex):\n",
    "            return [obj.real, obj.imag]\n",
    "        # Let the base class default method raise the TypeError\n",
    "        return json.JSONEncoder.default(self, obj)\n",
    "    \n",
    "io = StringIO()\n",
    "var = ['Eric', {'Bar': ('bar', None, 1.0, 2)}]"
   ]
  },
  {
   "cell_type": "code",
   "execution_count": 41,
   "id": "aa4c29e2-4255-45a7-a4d6-15a0b16398a0",
   "metadata": {},
   "outputs": [
    {
     "name": "stdout",
     "output_type": "stream",
     "text": [
      "--------------------\n",
      "['Eric', {'Bar': ('bar', None, 1.0, 2)}] <class 'list'>\n",
      "['Eric', {'Bar': ('bar', None, 1.0, 2)}] <class 'str'>\n"
     ]
    }
   ],
   "source": [
    "dividerLine()\n",
    "# Encoding\n",
    "# Change initial type into str type\n",
    "# json.dumps() method take any type to cast them to str type\n",
    "var2 = json.dumps(var)\n",
    "print(var, type(var))\n",
    "print(var, type(var2))"
   ]
  },
  {
   "cell_type": "code",
   "execution_count": 42,
   "id": "b1bd9924-3a38-4488-ac8c-ec839dc1fcc4",
   "metadata": {},
   "outputs": [
    {
     "name": "stdout",
     "output_type": "stream",
     "text": [
      "{'c': 0, 'b': 0, 'a': 0} <class 'dict'>\n",
      "{\"a\": 0, \"b\": 0, \"c\": 0} <class 'str'>\n"
     ]
    }
   ],
   "source": [
    "# Encoding\n",
    "# Change initial type into str type\n",
    "# And with sort_keys apply a ascending way\n",
    "var3 = {\"c\": 0, \"b\": 0, \"a\": 0}\n",
    "var4 = json.dumps(var3, sort_keys=True)\n",
    "print(var3, type(var3))\n",
    "print(var4, type(var4))"
   ]
  },
  {
   "cell_type": "code",
   "execution_count": 43,
   "id": "6985571d-8b28-4d96-9f5e-4f4fe36c05c9",
   "metadata": {},
   "outputs": [
    {
     "name": "stdout",
     "output_type": "stream",
     "text": [
      "--------------------\n",
      "[\"streaming API\"] <class 'str'>\n"
     ]
    }
   ],
   "source": [
    "dividerLine()\n",
    "# Encoding\n",
    "# Change initial type into str type\n",
    "# Use the String I/O module to apply a stream\n",
    "json.dump(['streaming API'], io)\n",
    "print(io.getvalue(), type(io.getvalue()))"
   ]
  },
  {
   "cell_type": "code",
   "execution_count": 46,
   "id": "00e8463f-ab0d-40ac-9c5d-160382f409d9",
   "metadata": {},
   "outputs": [
    {
     "name": "stdout",
     "output_type": "stream",
     "text": [
      "--------------------\n",
      "{\n",
      "     \"3\": 7,\n",
      "     \"4\": 5,\n",
      "     \"8\": 9,\n",
      "     \"PAPA\": 1\n",
      "}\n"
     ]
    }
   ],
   "source": [
    "dividerLine()\n",
    "# Encoding\n",
    "# Change initial type into str type\n",
    "# Use Pretty key of json module to format displaying\n",
    "# For pretty display use indent key in json.dumps() method\n",
    "var5 = {'4': 5, '3': 7, '8': 9, 'PAPA': 1}\n",
    "var5 = json.dumps(var5, sort_keys=True, indent=5)\n",
    "print(var5)\n",
    "# print(type(var5))"
   ]
  },
  {
   "cell_type": "code",
   "execution_count": 47,
   "id": "ad6d2af0-67aa-4ea5-b580-0104eea31080",
   "metadata": {},
   "outputs": [
    {
     "name": "stdout",
     "output_type": "stream",
     "text": [
      "--------------------\n",
      "var6=['Eric', {'Bar': ['bar', None, 1.0, 2]}], typeVar6=<class 'list'>\n"
     ]
    }
   ],
   "source": [
    "dividerLine()\n",
    "# Decoding\n",
    "# Get initial type from encoding data\n",
    "# Use json.loads() to decoding\n",
    "# Get the initial List type for var2\n",
    "var6 = json.loads(var2)\n",
    "print(f'var6={var6}, typeVar6={type(var6)}')"
   ]
  },
  {
   "cell_type": "code",
   "execution_count": 48,
   "id": "4c056393-a742-4362-b611-5f9336d7e167",
   "metadata": {},
   "outputs": [
    {
     "name": "stdout",
     "output_type": "stream",
     "text": [
      "--------------------\n",
      "var6=['Eric', {'Bar': ['bar', None, 1.0, 2]}], typeVar6=<class 'list'>\n"
     ]
    }
   ],
   "source": [
    "dividerLine()\n",
    "# Decoding\n",
    "# Get initial type from encoding data\n",
    "# Use json.loads() to decoding\n",
    "# Get the initial List type for var2\n",
    "# Use StringIO module to do that\n",
    "var6 = StringIO(var2)\n",
    "var6 = json.load(var6)\n",
    "print(f'var6={var6}, typeVar6={type(var6)}')"
   ]
  },
  {
   "cell_type": "code",
   "execution_count": 49,
   "id": "02b20022-8af1-4484-82c3-3b9a5026150b",
   "metadata": {},
   "outputs": [
    {
     "name": "stdout",
     "output_type": "stream",
     "text": [
      "[1, 2, 3, {'a': 4}, (1998.88, 1082.98)] <class 'list'>\n",
      "[\n",
      "    1,\n",
      "    2,\n",
      "    3,\n",
      "    {\n",
      "        \"a\": 4\n",
      "    },\n",
      "    [\n",
      "        1998.88,\n",
      "        1082.98\n",
      "    ]\n",
      "] <class 'str'>\n"
     ]
    }
   ],
   "source": [
    "# Encoding\n",
    "# Exemple 1\n",
    "# Extending JSONEncoder\n",
    "var7 = [1, 2, 3, {'a': 4}, (1998.88, 1082.98)]\n",
    "var8 = json.dumps(var7, indent=4, cls=ListEncoder)\n",
    "print(var7, type(var7))\n",
    "print(var8, type(var8))"
   ]
  },
  {
   "cell_type": "code",
   "execution_count": 50,
   "id": "e37e4f64-6880-419e-8ade-a55d7984335d",
   "metadata": {},
   "outputs": [
    {
     "name": "stdout",
     "output_type": "stream",
     "text": [
      "[1, 2, 3, {'a': 4}, (1998.88, 1082.98)] <class 'list'>\n",
      "[\n",
      "    1,\n",
      "    2,\n",
      "    3,\n",
      "    {\n",
      "        \"a\": 4\n",
      "    },\n",
      "    [\n",
      "        1998.88,\n",
      "        1082.98\n",
      "    ]\n",
      "] <class 'str'>\n"
     ]
    }
   ],
   "source": [
    "# Encoding\n",
    "# Exemple 1\n",
    "# Extending JSONEncoder\n",
    "var7 = [1, 2, 3, {'a': 4}, (1998.88, 1082.98)]\n",
    "var8 = json.dumps(var7, indent=4)\n",
    "print(var7, type(var7))\n",
    "print(var8, type(var8))"
   ]
  },
  {
   "cell_type": "code",
   "execution_count": 51,
   "id": "0e247f6f-430c-4a73-a61b-96ca59992f0c",
   "metadata": {},
   "outputs": [
    {
     "name": "stdout",
     "output_type": "stream",
     "text": [
      "--------------------\n",
      "(2+1j) <class 'complex'>\n",
      "[2.0, 1.0] <class 'str'>\n",
      "[2.0, 1.0] <class 'str'>\n"
     ]
    }
   ],
   "source": [
    "dividerLine()\n",
    "# Encoding\n",
    "# Exemple 3\n",
    "# Extending JSONEncoder\n",
    "var11 = 2 + 1j\n",
    "var12 = json.dumps(var11, cls=ComplexEncoder)\n",
    "var13 = ComplexEncoder().encode(var11)\n",
    "print(var11, type(var11))\n",
    "print(var12, type(var12))\n",
    "print(var13, type(var13))"
   ]
  },
  {
   "cell_type": "code",
   "execution_count": 52,
   "id": "8156d031-a58f-45ea-b13c-0506e911212d",
   "metadata": {},
   "outputs": [],
   "source": [
    "# The Json format\n",
    "# Use case with API\n",
    "# Use Session way to perform good API requests\n",
    "# https://restcountries.com\n",
    "import json\n",
    "import time\n",
    "import requests as r"
   ]
  },
  {
   "cell_type": "code",
   "execution_count": 53,
   "id": "b9c67035-3f1b-4097-8ea8-1686287a9905",
   "metadata": {},
   "outputs": [],
   "source": [
    "def dividerLine(n=20):\n",
    "    var = '-' * int(n)\n",
    "    print(var)\n",
    "\n",
    "\n",
    "class DictEncoder(json.JSONEncoder):\n",
    "    def default(self, obj):\n",
    "        if isinstance(obj, dict):\n",
    "            return dict(obj)\n",
    "        # Let the base class default method raise the TypeError\n",
    "        return json.JSONEncoder.default(self, obj)\n",
    "\n",
    "\n",
    "def getApiData(url=None):\n",
    "    return r.get(url,\n",
    "                 headers={},\n",
    "                 params={},\n",
    "                 json={})\n",
    "\n",
    "\n",
    "def getApiDataV2(url=None):\n",
    "    return r.get(url,\n",
    "                 headers={\n",
    "                     'Accept': 'application/json',\n",
    "                     'Content-Type': 'application/json'\n",
    "                 },\n",
    "                 params={},\n",
    "                 json={})\n",
    "\n",
    "\n",
    "def getApiDataV3(url=None):\n",
    "    with r.Session() as session:\n",
    "        return session.get(url,\n",
    "                           headers={\n",
    "                               'Accept': 'application/json',\n",
    "                               'Content-Type': 'application/json'\n",
    "                           },\n",
    "                           params={},\n",
    "                           json={})"
   ]
  },
  {
   "cell_type": "code",
   "execution_count": 56,
   "id": "7b6ee892-ad02-4261-aa39-06e61bc196cd",
   "metadata": {},
   "outputs": [
    {
     "name": "stdout",
     "output_type": "stream",
     "text": [
      "--------------------\n",
      "Start at: 19:46:00 02/15/22 GMT\n",
      "[{\"name\":{\"common\":\" <class 'str'>\n",
      "Finish at: 19:46:02 02/15/22 GMT\n"
     ]
    }
   ],
   "source": [
    "dividerLine()\n",
    "# Data is Encoding\n",
    "print(f\"Start at: {time.strftime('%X %x %Z')}\")\n",
    "main = getApiData('https://restcountries.com/v3.1/all')\n",
    "data = main.text\n",
    "print(data[0:20], type(data))\n",
    "print(f\"Finish at: {time.strftime('%X %x %Z')}\")"
   ]
  },
  {
   "cell_type": "code",
   "execution_count": 57,
   "id": "0ef0a3df-4514-4ebd-925d-9e5080930038",
   "metadata": {},
   "outputs": [
    {
     "name": "stdout",
     "output_type": "stream",
     "text": [
      "--------------------\n",
      "<class 'list'>\n"
     ]
    }
   ],
   "source": [
    "dividerLine()\n",
    "# Decode data with json module\n",
    "data2 = json.loads(data)\n",
    "print(type(data2))"
   ]
  },
  {
   "cell_type": "code",
   "execution_count": 58,
   "id": "b84fa2ab-c5bc-4ea9-a3fe-7d75d1eeee76",
   "metadata": {},
   "outputs": [
    {
     "name": "stdout",
     "output_type": "stream",
     "text": [
      "--------------------\n",
      "<class 'list'>\n"
     ]
    }
   ],
   "source": [
    "dividerLine()\n",
    "# Decode data with requests.json() function\n",
    "data3 = main.json()\n",
    "print(type(data3))"
   ]
  },
  {
   "cell_type": "code",
   "execution_count": 59,
   "id": "c4e34685-6306-498d-b4d8-25fc9b4aecd4",
   "metadata": {},
   "outputs": [
    {
     "name": "stdout",
     "output_type": "stream",
     "text": [
      "--------------------\n",
      "{\n",
      "    \"Date\": \"Tue, 15 Feb 2022 19:46:01 GMT\",\n",
      "    \"Server\": \"Apache/2.4.38 (Debian)\",\n",
      "    \"Content-Type\": \"application/json\",\n",
      "    \"content-encoding\": \"gzip\",\n",
      "    \"content-length\": \"146926\",\n",
      "    \"Keep-Alive\": \"timeout=5, max=100\",\n",
      "    \"Connection\": \"Keep-Alive\"\n",
      "}\n"
     ]
    }
   ],
   "source": [
    "dividerLine()\n",
    "# Display Headers\n",
    "# Display with format json key indent\n",
    "# Here we must use a CustomEncoder\n",
    "# Or whe just cast main.headers into dict before serialise them\n",
    "print(json.dumps(dict(main.headers), indent=4, cls=DictEncoder))"
   ]
  },
  {
   "cell_type": "code",
   "execution_count": 61,
   "id": "f7b6840f-53a4-4659-99f9-d7d855225d55",
   "metadata": {},
   "outputs": [
    {
     "name": "stdout",
     "output_type": "stream",
     "text": [
      "--------------------\n",
      "{\n",
      "    \"Date\": \"Tue, 15 Feb 2022 19:46:01 GMT\",\n",
      "    \"Server\": \"Apache/2.4.38 (Debian)\",\n",
      "    \"Content-Type\": \"application/json\",\n",
      "    \"content-encoding\": \"gzip\",\n",
      "    \"content-length\": \"146926\",\n",
      "    \"Keep-Alive\": \"timeout=5, max=100\",\n",
      "    \"Connection\": \"Keep-Alive\"\n",
      "}\n"
     ]
    }
   ],
   "source": [
    "dividerLine()\n",
    "# Display Headers\n",
    "# Display with format json key indent\n",
    "# Here we must use a CustomEncoder\n",
    "# Or whe just cast main.headers into dict before serialise them\n",
    "print(json.dumps(dict(main.headers), indent=4))"
   ]
  },
  {
   "cell_type": "code",
   "execution_count": 62,
   "id": "f5501439-c860-4fca-ac32-8e637102dadb",
   "metadata": {},
   "outputs": [],
   "source": [
    "# Exercice 1\n",
    "# With the map function\n",
    "# Return just:\n",
    "#   common name of country\n",
    "#   his currency name of currency sympbole\n",
    "#   his cca2 name\n",
    "#   his cca3 name\n",
    "#   his maps key object\n",
    "# And after that use the filter function\n",
    "#   To return country have common name begin by:\n",
    "#       - b\n",
    "#       - z\n",
    "#       - e"
   ]
  },
  {
   "cell_type": "code",
   "execution_count": 63,
   "id": "f161ecca-80ac-4ce5-a61c-523dc9c0b075",
   "metadata": {},
   "outputs": [],
   "source": [
    "# Exercice 2\n",
    "import math\n",
    "import time\n",
    "\n",
    "\n",
    "# Ecrire une fonction unStackThread()\n",
    "#   Cette fonction aura pour but de simuler une PILE\n",
    "#   Afin de remplir les conditions pour cette fonction\n",
    "#       Ecrivez en premier une fonction du nom de askTask()\n",
    "#           Cette fonction demandera à l'utilisateur d'entrer:\n",
    "#               - Le nom d'une tâche\n",
    "#               - Un nombre entier mais de manière unique\n",
    "#               - Prenez le soin de vérifier qu'il entre un numéro unique\n",
    "#   Sentez-vous libre d'utiliser l'approche la plus simple\n",
    "#   Ecrivez une autre fonction du nom de askTasks()\n",
    "#       Cette fonction répète askTask() cinq fois\n",
    "#           Dans cette fonction boucler 5 fois sur la méthode askTask()\n",
    "#           Puis enrégistré à chaque itération la liste retournée par askTask dans une liste tasks déclarée au tout début de la fonction\n",
    "# Ensuite mettre les fonctions\n",
    "#   Invoquer unStackThread()\n",
    "#       Cette fonction prendra en paramètre la liste retournée par askTasks()\n",
    "# NB: Pour la verification du nombre unique attribué à la tache:\n",
    "#     - Utiliser une liste pour stocker de manière temporaire les chiffres déjà attribué\n",
    "#     - Puis utiliser la récursivité pour verifier ce nombre\n",
    "\n",
    "\n",
    "def unStackThread(tasks: list):\n",
    "    tasks = sorted(\n",
    "        tasks,\n",
    "        reverse=True,\n",
    "        key=lambda x: x[1]\n",
    "    )\n",
    "    while True:\n",
    "        if len(tasks) > 0:\n",
    "            print(f'------ {time.time()}')\n",
    "            time.sleep(2)\n",
    "            print(f'Task of name {tasks.pop()[0]} is treat')\n",
    "        else:\n",
    "            break"
   ]
  },
  {
   "cell_type": "code",
   "execution_count": 64,
   "id": "c750df27-f28c-4233-980f-493a58259b75",
   "metadata": {},
   "outputs": [],
   "source": [
    "# Exercice 3\n",
    "# Reprenez l'exercice 2 en utilisant les DEQUE.\n",
    "# Veillez à utiliser la collection DEQUE de manière optimale"
   ]
  },
  {
   "cell_type": "code",
   "execution_count": 4,
   "id": "4e01e6f4-de65-4611-b339-fd82a478c45f",
   "metadata": {},
   "outputs": [
    {
     "name": "stdin",
     "output_type": "stream",
     "text": [
      "Entrer un nombre:  1\n",
      "Entrer un nombre:  1\n",
      "Entrer un nombre:  1\n",
      "Entrer un nombre:  1\n",
      "Entrer un nombre:  1\n",
      "Entrer un nombre:  2\n"
     ]
    }
   ],
   "source": [
    "numberProxy = []\n",
    "\n",
    "def askNumber():\n",
    "    number = int(input('Entrer un nombre: '))\n",
    "    if number in numberProxy:\n",
    "        return askNumber()\n",
    "    numberProxy.append(number)\n",
    "    \n",
    "askNumber()\n",
    "askNumber()"
   ]
  },
  {
   "cell_type": "code",
   "execution_count": 6,
   "id": "ad16cf74-f341-41e0-8c5d-513877053ff3",
   "metadata": {},
   "outputs": [
    {
     "name": "stdin",
     "output_type": "stream",
     "text": [
      "Entrer un nom de tâche:  TASK01\n",
      "Entrer un nombre:  1\n",
      "Entrer un nom de tâche:  TASK02\n",
      "Entrer un nombre:  2\n",
      "Entrer un nom de tâche:  TASK03\n",
      "Entrer un nombre:  3\n",
      "Entrer un nom de tâche:  TASK04\n",
      "Entrer un nombre:  4\n",
      "Entrer un nom de tâche:  TASKO5\n",
      "Entrer un nombre:  5\n"
     ]
    },
    {
     "name": "stdout",
     "output_type": "stream",
     "text": [
      "------ 1645044047.332462\n",
      "Task of name TASK01 is treat\n",
      "------ 1645044049.3377438\n",
      "Task of name TASK02 is treat\n",
      "------ 1645044051.343199\n",
      "Task of name TASK03 is treat\n",
      "------ 1645044053.3481119\n",
      "Task of name TASK04 is treat\n",
      "------ 1645044055.350282\n",
      "Task of name TASKO5 is treat\n"
     ]
    }
   ],
   "source": [
    "# Correction faite par Anselme\n",
    "# Exercice 2\n",
    "import time\n",
    "\n",
    "listNombre = []\n",
    "\n",
    "def askNumber():\n",
    "    number = int(input('Entrer un nombre: '))\n",
    "    if number in listNombre:\n",
    "        return askNumber()\n",
    "    listNombre.append(number)\n",
    "    return number\n",
    "    \n",
    "def askTask():\n",
    "    taskName = input(\"Entrer un nom de tâche: \")\n",
    "    nombre = askNumber()    \n",
    "    return [taskName, nombre]\n",
    "\n",
    "def askTasks():\n",
    "    tasks = []\n",
    "    for x in range(5):\n",
    "        tasks.append(askTask())\n",
    "    return tasks\n",
    "\n",
    "def unStackThread(tasks: list):\n",
    "    tasks = sorted(\n",
    "        tasks,\n",
    "        reverse=True,\n",
    "        key=lambda x: x[1]\n",
    "    )\n",
    "    while True:\n",
    "        if len(tasks) > 0:\n",
    "            print(f'------ {time.time()}')\n",
    "            time.sleep(2)\n",
    "            print(f'Task of name {tasks.pop()[0]} is treat')\n",
    "        else:\n",
    "            break\n",
    "            \n",
    "unStackThread(askTasks())"
   ]
  },
  {
   "cell_type": "markdown",
   "id": "0733944e-6569-4064-92c7-73ec0435a69d",
   "metadata": {},
   "source": [
    "## Les interfaces graphiques"
   ]
  },
  {
   "cell_type": "code",
   "execution_count": 1,
   "id": "528d5149-84ed-4335-821e-a1666230e948",
   "metadata": {},
   "outputs": [],
   "source": [
    "# Code basique de la création d'une interface graphqiue\n",
    "# Module Tinker\n",
    "from tkinter import *\n",
    "from tkinter import ttk\n",
    "\n",
    "# Create minimal page with tkinter\n",
    "# Manipulate the GRID ROW with Label\n",
    "# In MAC OS: brew install python-tk@3.9\n",
    "# In MAC OS: pip3 install tk\n",
    "\n",
    "# Code a appliquer\n",
    "# root = Tk()\n",
    "# frm = ttk.Frame(root, padding=100)\n",
    "# frm.grid()\n",
    "# ttk.Label(frm, text=\"Hello World!\").grid(column=0, row=0)\n",
    "# root.mainloop()"
   ]
  },
  {
   "cell_type": "code",
   "execution_count": 2,
   "id": "3ddf9d38-5d7f-4db6-b97f-8a9847bf9119",
   "metadata": {},
   "outputs": [],
   "source": [
    "# Dans la résolution des exercices ci-dessous:\n",
    "#   Veuillez à créer un fichier du nom de module.py\n",
    "#       Ce fichier doît contenir toutes les fonctions\n",
    "#       Ainsi après dans un fichier du nom de main.py:\n",
    "#           Faites les appels à vos fonxtions\n",
    "#           Et y maipuler les composants tkinter\n",
    "# Cette approche permet de vous situer de manière modulaire\n",
    "#   Car une interface graphique acceuillera toujours des données d'autres fonctions\n",
    "#   Et une ineterface graphique aura toujours les mêmes composants\n",
    "\n",
    "# Ecriver un programme qui permet de vérifier l'âge d'une personne\n",
    "#   Et d'afficher dans un Label si elle est Majeure ou pas\n",
    "\n",
    "# Ecriver un programme qui prend en paramètre\n",
    "#   Le poids d'un individu\n",
    "#   La taille de l'individu\n",
    "#   Et lui retourne son IMC\n",
    "#   Inspirez vous des codes précédents\n",
    "#       Et afficher l'état de santé de la personne\n",
    "#       Les réponses doivent être affichées dans un Label\n",
    "#           Le Label doit s'ajouter juste ne bas du bouton\n",
    "\n",
    "# Ecriver un programme qui prend en paramètre:\n",
    "#   La vitesse\n",
    "#   La distance\n",
    "#   Et une liste de RadioButton\n",
    "#       Et la liste des options des RadioButton\n",
    "#           - km/s\n",
    "#           - m/s\n",
    "#           - mm/s\n",
    "#           - m/ms\n",
    "#           - km/ms\n",
    "#       En fonction de la selection:\n",
    "#           Afficher dans un label juste en bas les résultats\n",
    "#           Faudrait veiller à n'afficher qu'un seul label:\n",
    "#               Un seul label pour toutes les réponse:\n",
    "#                   Utiliser la fonction set() pour setter et overrider les anciennes valeurs\n",
    "\n",
    "# Ecriver un programme qui prend en paramètre:\n",
    "#   La vitesse\n",
    "#   La distance\n",
    "#   Et une liste de RadioButton\n",
    "#       Et la liste des options des RadioButton\n",
    "#           - km/s\n",
    "#           - m/s\n",
    "#           - mm/s\n",
    "#           - m/ms\n",
    "#           - km/ms\n",
    "#       En fonction de la selection:\n",
    "#           Afficher dans un label juste en bas les résultats\n",
    "#           Faudrait veiller à n'afficher qu'un seul label:\n",
    "#               Un seul label pour toutes les réponse:\n",
    "#                   Utiliser la fonction set() pour setter et overrider les anciennes valeurs\n",
    "\n",
    "# En appliquant les recommandation de l'exercice concernant les CarFactory\n",
    "#   Utiliser les acquis avec les composants graphiques\n",
    "#   Puis réutiliser les mêmes codes\n",
    "#   Mais placer les composants qu'il faut pour que:\n",
    "#       L'utilisateur puisse choisir sa couleur\n",
    "#       Puisse choisir sa marque\n",
    "#       Puisse renseigner le pays du constructeur automobile\n",
    "#   Et a la fin ait un button qui déclenche un event appellant une fonction:\n",
    "#       Cette fonction devra enrégister dans un fichier et ce dans un format simple à décoder:\n",
    "#           Les informations de la voiture créer losr de l'appui du bouton MAKE CAR\n",
    "#           Donc PACKER un bouton sur le composant FRAME/WINDOW\n",
    "#           Ainsi a chaque clique une nouvelle voiture créée\n",
    "#           Le nom du fichier text sera cars.txt\n",
    "# NB: Limitez vous a 10 couleurs et 10 marques de voitures a exposer à l'utilisateur"
   ]
  },
  {
   "cell_type": "code",
   "execution_count": 3,
   "id": "7b641031-ba1b-4cb6-aa65-84961e7f11ef",
   "metadata": {},
   "outputs": [
    {
     "ename": "NameError",
     "evalue": "name 'chekAge' is not defined",
     "output_type": "error",
     "traceback": [
      "\u001b[0;31m---------------------------------------------------------------------------\u001b[0m",
      "\u001b[0;31mNameError\u001b[0m                                 Traceback (most recent call last)",
      "Input \u001b[0;32mIn [3]\u001b[0m, in \u001b[0;36m<module>\u001b[0;34m\u001b[0m\n\u001b[1;32m     13\u001b[0m     ttk\u001b[38;5;241m.\u001b[39mLabel(frm, text\u001b[38;5;241m=\u001b[39mchekAge())\u001b[38;5;241m.\u001b[39mgrid(column\u001b[38;5;241m=\u001b[39m\u001b[38;5;241m0\u001b[39m, row\u001b[38;5;241m=\u001b[39m\u001b[38;5;241m0\u001b[39m)\n\u001b[1;32m     14\u001b[0m     root\u001b[38;5;241m.\u001b[39mmainloop()\n\u001b[0;32m---> 16\u001b[0m \u001b[43mmainLabel\u001b[49m\u001b[43m(\u001b[49m\u001b[43m)\u001b[49m\n",
      "Input \u001b[0;32mIn [3]\u001b[0m, in \u001b[0;36mmainLabel\u001b[0;34m()\u001b[0m\n\u001b[1;32m     11\u001b[0m frm \u001b[38;5;241m=\u001b[39m ttk\u001b[38;5;241m.\u001b[39mFrame(root, padding\u001b[38;5;241m=\u001b[39m\u001b[38;5;241m100\u001b[39m)\n\u001b[1;32m     12\u001b[0m frm\u001b[38;5;241m.\u001b[39mgrid()\n\u001b[0;32m---> 13\u001b[0m ttk\u001b[38;5;241m.\u001b[39mLabel(frm, text\u001b[38;5;241m=\u001b[39m\u001b[43mchekAge\u001b[49m())\u001b[38;5;241m.\u001b[39mgrid(column\u001b[38;5;241m=\u001b[39m\u001b[38;5;241m0\u001b[39m, row\u001b[38;5;241m=\u001b[39m\u001b[38;5;241m0\u001b[39m)\n\u001b[1;32m     14\u001b[0m root\u001b[38;5;241m.\u001b[39mmainloop()\n",
      "\u001b[0;31mNameError\u001b[0m: name 'chekAge' is not defined"
     ]
    }
   ],
   "source": [
    "# Correction\n",
    "# Exercice 1 Faite par Maodo\n",
    "\n",
    "def checkAge(age):\n",
    "    age = int(input(\"Entrez une age :\"))\n",
    "    return \"Majeur\" if age>18 else \"Mineur\"\n",
    "\n",
    "def mainLabel():\n",
    "    # Add Label component\n",
    "    root = Tk()\n",
    "    frm = ttk.Frame(root, padding=100)\n",
    "    frm.grid()\n",
    "    ttk.Label(frm, text=chekAge()).grid(column=0, row=0)\n",
    "    root.mainloop()\n",
    "    \n",
    "mainLabel()"
   ]
  },
  {
   "cell_type": "code",
   "execution_count": null,
   "id": "f16d5862-d082-4bca-b1da-38dd246dc149",
   "metadata": {},
   "outputs": [],
   "source": []
  }
 ],
 "metadata": {
  "kernelspec": {
   "display_name": "Python 3 (ipykernel)",
   "language": "python",
   "name": "python3"
  },
  "language_info": {
   "codemirror_mode": {
    "name": "ipython",
    "version": 3
   },
   "file_extension": ".py",
   "mimetype": "text/x-python",
   "name": "python",
   "nbconvert_exporter": "python",
   "pygments_lexer": "ipython3",
   "version": "3.9.6"
  }
 },
 "nbformat": 4,
 "nbformat_minor": 5
}
