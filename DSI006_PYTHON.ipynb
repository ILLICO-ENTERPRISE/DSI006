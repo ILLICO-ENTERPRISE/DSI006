{
 "cells": [
  {
   "cell_type": "markdown",
   "id": "a68db0dc-15bf-4484-84df-487e1376bf2b",
   "metadata": {},
   "source": [
    "# Variables"
   ]
  },
  {
   "cell_type": "code",
   "execution_count": 1,
   "id": "a3bf6d2a-0a6b-4d1d-ac3b-48bde103ace6",
   "metadata": {},
   "outputs": [],
   "source": [
    "# Variables\n",
    "\n",
    "# Python est un langage non typé\n",
    "# Les variables permettent de stocker des valeurs\n",
    "# Les variables permettent de stocker quelques soit le type\n",
    "# A chaque assignation de valeur à une variable on parle d'assignation ou d'affectation\n",
    "\n",
    "# Première METHODE\n",
    "var1 = 'Ali'\n",
    "var2 = 100.100\n",
    "var3 = 22\n",
    "var4 = 188.\n",
    "\n",
    "# Deuxième METHODE\n",
    "# Cette mlethode permet de regrouper (PACK)...\n",
    "var5, var6, var7, var8 = 'Ali', 100.100, 22, 188."
   ]
  },
  {
   "cell_type": "code",
   "execution_count": 9,
   "id": "373e9be0-e824-49a2-94db-691b796b12dd",
   "metadata": {},
   "outputs": [
    {
     "data": {
      "text/plain": [
       "('Ali', 100.1, 22, 188.0)"
      ]
     },
     "execution_count": 9,
     "metadata": {},
     "output_type": "execute_result"
    }
   ],
   "source": [
    "# Afficher les variables dans le prompt de Jupyter Lab\n",
    "var1, var2, var3, var4"
   ]
  },
  {
   "cell_type": "code",
   "execution_count": 10,
   "id": "08b79b9e-6768-478a-a479-3967f572516b",
   "metadata": {},
   "outputs": [
    {
     "data": {
      "text/plain": [
       "('Ali', 100.1, 22, 188.0)"
      ]
     },
     "execution_count": 10,
     "metadata": {},
     "output_type": "execute_result"
    }
   ],
   "source": [
    "# Afficher les variables dans le prompt de Jupyter Lab\n",
    "var5, var6, var7, var8"
   ]
  },
  {
   "cell_type": "code",
   "execution_count": 11,
   "id": "bd1114b8-145d-4fe2-ae46-9720795d447f",
   "metadata": {},
   "outputs": [],
   "source": [
    "# Les entiers\n",
    "# Les réels\n",
    "# les chaines de caractères\n",
    "# Les booléens\n",
    "# Les tableau ( Entier, Reels, Chaine de caractères)"
   ]
  },
  {
   "cell_type": "markdown",
   "id": "57be0686-6630-43a2-b269-247dfc81ce00",
   "metadata": {},
   "source": [
    "# Les types de Variables"
   ]
  },
  {
   "cell_type": "code",
   "execution_count": 14,
   "id": "9dc8fdb3-c305-40de-aeb4-40ef665bfc73",
   "metadata": {},
   "outputs": [
    {
     "data": {
      "text/plain": [
       "(str, float, int, float)"
      ]
     },
     "execution_count": 14,
     "metadata": {},
     "output_type": "execute_result"
    }
   ],
   "source": [
    "# La fonction pour afficher le type est la fonction type\n",
    "\n",
    "# var1 = 'Ali'    type = str (chaine de caractère)\n",
    "# var2 = 100.100  type = float (reel)\n",
    "# var3 = 22       type = int (entier)\n",
    "# var4 = 188.     type = float (reel)\n",
    "\n",
    "type(var1), type(var2), type(var3), type(var4)"
   ]
  },
  {
   "cell_type": "code",
   "execution_count": 16,
   "id": "d196ada5-5eda-4bb6-bb0c-a241c7448611",
   "metadata": {},
   "outputs": [
    {
     "data": {
      "text/plain": [
       "(188.0, 188.0)"
      ]
     },
     "execution_count": 16,
     "metadata": {},
     "output_type": "execute_result"
    }
   ],
   "source": [
    "# Les deux manières d'écrire un float\n",
    "\n",
    "188.000, 188. # 188.0000000000"
   ]
  },
  {
   "cell_type": "code",
   "execution_count": 17,
   "id": "84359a73-0f4d-477d-b282-635a6a78f4f0",
   "metadata": {},
   "outputs": [
    {
     "data": {
      "text/plain": [
       "(str, float, int, float)"
      ]
     },
     "execution_count": 17,
     "metadata": {},
     "output_type": "execute_result"
    }
   ],
   "source": [
    "type(var5), type(var6), type(var7), type(var8)"
   ]
  },
  {
   "cell_type": "markdown",
   "id": "8b873f15-c5f9-4341-b77f-4326989b2833",
   "metadata": {},
   "source": [
    "# Les opérations usuelles en python"
   ]
  },
  {
   "cell_type": "code",
   "execution_count": 19,
   "id": "b9b3e011-ceb7-414c-b540-8c2e510e1f89",
   "metadata": {},
   "outputs": [],
   "source": [
    "add    = var2 + var3    # Addition\n",
    "sous   = var2 - var3    # Soustraction\n",
    "divi   = var2 / var3    # Divion simple\n",
    "mult   = var2 * var3    # Multiplication\n",
    "pow2   = var2 ** 2      # Exposant au carré (puissance)\n",
    "pow3   = var2 ** 3      # Exposant au cube (puissance)\n",
    "divE   = var2 // var3   # Division Entière\n",
    "divE2  = 4 // 3         # Division Entière\n",
    "modulo = 4 % 3          # Modulo (retourne le reste)"
   ]
  },
  {
   "cell_type": "code",
   "execution_count": 20,
   "id": "8fd3a7c4-8b66-48b0-87c9-a8afe1ead211",
   "metadata": {},
   "outputs": [
    {
     "data": {
      "text/plain": [
       "(122.1, 78.1, 4.55, 2202.2, 10020.009999999998, 1003003.0009999998)"
      ]
     },
     "execution_count": 20,
     "metadata": {},
     "output_type": "execute_result"
    }
   ],
   "source": [
    "add, sous, divi, mult, pow2, pow3"
   ]
  },
  {
   "cell_type": "code",
   "execution_count": 23,
   "id": "2f5f1e64-d183-447d-ae0f-77f2c59bfef6",
   "metadata": {},
   "outputs": [
    {
     "data": {
      "text/plain": [
       "(1.3333333333333333, 1)"
      ]
     },
     "execution_count": 23,
     "metadata": {},
     "output_type": "execute_result"
    }
   ],
   "source": [
    "4/3, 4//3    # La division entière filtre et retient la partie entiere du résultat"
   ]
  },
  {
   "cell_type": "code",
   "execution_count": 24,
   "id": "e9bd92f8-ab3f-476b-b2f4-3ff69ff99834",
   "metadata": {},
   "outputs": [],
   "source": [
    "# Déclarer des variables\n",
    "# Une variable <name>, contenant votre NOM\n",
    "# Une variable <age>, contenant votre AGE\n",
    "# Une variable <sex>, contenant votre sexe\n",
    "# Une variable <country>, contenant votre pays."
   ]
  },
  {
   "cell_type": "code",
   "execution_count": 27,
   "id": "90640e10-bc2d-4d7e-ab67-9c423494a237",
   "metadata": {},
   "outputs": [],
   "source": [
    "# Correction Déclarer des variables\n",
    "name    = 'Eric'\n",
    "age     = 28\n",
    "sex     = 'Masculin'\n",
    "country = 'Cameroune'"
   ]
  },
  {
   "cell_type": "code",
   "execution_count": 25,
   "id": "c2afd5e1-36e1-4b4d-9f7b-77f8c7b8d4ab",
   "metadata": {},
   "outputs": [],
   "source": [
    "# Afficher le type de vos variables\n",
    "# Afficher le type de la variable <name>\n",
    "# Afficher le type de la variable <age>\n",
    "# Afficher le type de la variable <sex>\n",
    "# Afficher le type de la variable <country>"
   ]
  },
  {
   "cell_type": "code",
   "execution_count": 29,
   "id": "c5a08c98-9455-4181-a84c-13c084f2c4e6",
   "metadata": {},
   "outputs": [
    {
     "data": {
      "text/plain": [
       "(str, int, str, str)"
      ]
     },
     "execution_count": 29,
     "metadata": {},
     "output_type": "execute_result"
    }
   ],
   "source": [
    "# Correction Afficher le type des variables\n",
    "type(name), type(age), type(sex), type(country)"
   ]
  },
  {
   "cell_type": "code",
   "execution_count": 26,
   "id": "f9b160f0-ad54-4cff-b3a3-af8cd651a163",
   "metadata": {},
   "outputs": [],
   "source": [
    "# Manipulation des varaibles\n",
    "# Declarer une variable du nom <surface>\n",
    "# Le rayon du cercle est de 18 et PI = 22/7\n",
    "# Calculer la surfaceCercle d'un cercle = PI * r**2\n",
    "# Considérer un triangle avec les dimensions suivantes:\n",
    "# Base = 22\n",
    "# Hauteur = 17\n",
    "# calculer la surface de ce triangle dans une variable surfaceTriangle\n",
    "# NB: Perimètre d'un triangle = (B * H) / 2 "
   ]
  },
  {
   "cell_type": "code",
   "execution_count": 30,
   "id": "4bd3609a-b8c6-4852-bc00-39159d1bdac2",
   "metadata": {},
   "outputs": [
    {
     "data": {
      "text/plain": [
       "(1018.2857142857142, 187.0)"
      ]
     },
     "execution_count": 30,
     "metadata": {},
     "output_type": "execute_result"
    }
   ],
   "source": [
    "# Correction Manipulation des varaibles\n",
    "PI, r, Base, Hauteur = 22/7, 18, 22, 17\n",
    "surfaceCercle        = PI * (r**2)\n",
    "surfaceTriangle      = (Base * Hauteur) / 2\n",
    "\n",
    "surfaceCercle, surfaceTriangle"
   ]
  },
  {
   "cell_type": "markdown",
   "id": "e7182a60-c6f4-4801-b577-a7aa842e6f35",
   "metadata": {},
   "source": [
    "# List, tuple, dict"
   ]
  },
  {
   "cell_type": "markdown",
   "id": "f827af7b-df7b-436f-91f2-7b9ee9ab8211",
   "metadata": {},
   "source": [
    "## Les Listes en python ou tableau"
   ]
  },
  {
   "cell_type": "code",
   "execution_count": 31,
   "id": "1149537d-3a66-494c-9082-699e34f0f126",
   "metadata": {},
   "outputs": [],
   "source": [
    "# Déclaration d'une liste ou d'un tableau\n",
    "\n",
    "tableau = []\n",
    "# tableau = list()"
   ]
  },
  {
   "cell_type": "code",
   "execution_count": 33,
   "id": "6a079d0c-5b52-4696-8687-80e86190e6c0",
   "metadata": {},
   "outputs": [],
   "source": [
    "# Ajouter des élements dans le tableau\n",
    "# La particularité des tableaux en Java ou langage C est de ne déclarer que des tableaux ne contenant que des valeurs du même type\n",
    "# En python les LISTES sont des META DONNEES ( communément appelées des STRUCTURES DE DONNEES)\n",
    "# La particularité des STRUCTURES DE DONNEES est de contenir tous types de variables\n",
    "\n",
    "# Cas en Java ou en C (Appliqué au python)\n",
    "tableau1 = [0, 1, 2, 3, 4, 5, 1991, 20778] # que des entiers\n",
    "tableau2 = [0.00, 1.00, 2.00, 3.00, 4.00, 1991.012] # que des réels\n",
    "tableau3 = ['Eric', 'Marius', 'Maodo', 'Russell'] # que des chaines de caractères\n",
    "\n",
    "# Cas en python\n",
    "tableau4 = [11, 188.02, 'Eric']\n",
    "tableau5 = [11.88, 12, 'Russell', []]\n",
    "tableau6 = [[1,2,3], [99.88, 'ALI'], []]"
   ]
  },
  {
   "cell_type": "code",
   "execution_count": 35,
   "id": "08975023-3065-4f31-9334-ee6abf64a15c",
   "metadata": {},
   "outputs": [
    {
     "data": {
      "text/plain": [
       "(0, 1, 1991)"
      ]
     },
     "execution_count": 35,
     "metadata": {},
     "output_type": "execute_result"
    }
   ],
   "source": [
    "# Afficher les valeurs du tableau en passant par les indexes\n",
    "tableau1[0], tableau1[1], tableau1[6]"
   ]
  },
  {
   "cell_type": "code",
   "execution_count": 37,
   "id": "f5c0870e-61c1-4913-8d10-d4812ec3e9ef",
   "metadata": {},
   "outputs": [
    {
     "data": {
      "text/plain": [
       "('Eric', 1.0, 1991.012)"
      ]
     },
     "execution_count": 37,
     "metadata": {},
     "output_type": "execute_result"
    }
   ],
   "source": [
    "# Afficher les valeurs du tableau en passant par les indexes\n",
    "tableau3[0], tableau2[1], tableau2[5]"
   ]
  },
  {
   "cell_type": "code",
   "execution_count": 38,
   "id": "f1291955-e17c-4cf1-b8af-7e5387897b98",
   "metadata": {},
   "outputs": [
    {
     "data": {
      "text/plain": [
       "(11.88, 'Russell', 3.0)"
      ]
     },
     "execution_count": 38,
     "metadata": {},
     "output_type": "execute_result"
    }
   ],
   "source": [
    "# Afficher les valeurs du tableau en passant par les indexes\n",
    "tableau5[0], tableau5[2], tableau2[3]"
   ]
  },
  {
   "cell_type": "code",
   "execution_count": 39,
   "id": "264555c1-0e26-4eb1-bdf2-cfecf66525d8",
   "metadata": {},
   "outputs": [
    {
     "data": {
      "text/plain": [
       "([1, 2, 3], [99.88, 'ALI'], [])"
      ]
     },
     "execution_count": 39,
     "metadata": {},
     "output_type": "execute_result"
    }
   ],
   "source": [
    "# Afficher les valeurs du tableau en passant par les indexes\n",
    "tableau6[0], tableau6[1], tableau6[2]"
   ]
  },
  {
   "cell_type": "code",
   "execution_count": 40,
   "id": "022557ce-ec5b-4538-8ce5-e3cee95055a2",
   "metadata": {},
   "outputs": [
    {
     "data": {
      "text/plain": [
       "(1, 'ALI', [])"
      ]
     },
     "execution_count": 40,
     "metadata": {},
     "output_type": "execute_result"
    }
   ],
   "source": [
    "# Afficher les valeurs du tableau en passant par les indexes\n",
    "# Manipulation des matrices (tableau dimension 2)\n",
    "tableau6[0][0], tableau6[1][1], tableau6[2]"
   ]
  },
  {
   "cell_type": "code",
   "execution_count": 41,
   "id": "de575615-0c74-4594-ab8b-ca00317ec0da",
   "metadata": {},
   "outputs": [
    {
     "data": {
      "text/plain": [
       "(list, list, list, list)"
      ]
     },
     "execution_count": 41,
     "metadata": {},
     "output_type": "execute_result"
    }
   ],
   "source": [
    "# Affichage du type des tableaux\n",
    "type(tableau1), type(tableau2), type(tableau5), type(tableau6)"
   ]
  },
  {
   "cell_type": "code",
   "execution_count": 46,
   "id": "c051e498-c1a0-4b44-a350-ca9971d2c3fc",
   "metadata": {},
   "outputs": [],
   "source": [
    "# Petite Remarque\n",
    "# On peut modifier les valeurs contenues dans une LISTE\n",
    "# La modification de ces valeurs se font par les index du tableau\n",
    "# Exemple\n",
    "tableau4    = [11, 188.02, 'Eric']\n",
    "tableau4[0] = 100.2\n",
    "tableau4[1] = 'Ali'\n",
    "tableau4[2] = 'Maodo Sene'"
   ]
  },
  {
   "cell_type": "code",
   "execution_count": 48,
   "id": "3f94f2d8-eac6-4463-a21a-18cdd5a10aa1",
   "metadata": {},
   "outputs": [
    {
     "data": {
      "text/plain": [
       "[100.2, 'Ali', 'Maodo Sene']"
      ]
     },
     "execution_count": 48,
     "metadata": {},
     "output_type": "execute_result"
    }
   ],
   "source": [
    "# Affichage des modifications apportées au tableau4\n",
    "tableau4"
   ]
  },
  {
   "cell_type": "code",
   "execution_count": 49,
   "id": "778f3e31-61a6-4f9f-9bf0-c2c15ca86026",
   "metadata": {},
   "outputs": [
    {
     "ename": "IndexError",
     "evalue": "list index out of range",
     "output_type": "error",
     "traceback": [
      "\u001b[0;31m---------------------------------------------------------------------------\u001b[0m",
      "\u001b[0;31mIndexError\u001b[0m                                Traceback (most recent call last)",
      "Input \u001b[0;32mIn [49]\u001b[0m, in \u001b[0;36m<module>\u001b[0;34m\u001b[0m\n\u001b[1;32m      1\u001b[0m \u001b[38;5;66;03m# test de la propriété d'immutabilité des listes\u001b[39;00m\n\u001b[1;32m      2\u001b[0m testListe \u001b[38;5;241m=\u001b[39m \u001b[38;5;28mlist\u001b[39m()  \u001b[38;5;66;03m# testListe = []\u001b[39;00m\n\u001b[0;32m----> 4\u001b[0m \u001b[43mtestListe\u001b[49m\u001b[43m[\u001b[49m\u001b[38;5;241;43m0\u001b[39;49m\u001b[43m]\u001b[49m\n",
      "\u001b[0;31mIndexError\u001b[0m: list index out of range"
     ]
    }
   ],
   "source": [
    "# test de la propriété d'immutabilité des listes (Part 1)\n",
    "testListe = list()  # testListe = []\n",
    "\n",
    "testListe[0]"
   ]
  },
  {
   "cell_type": "code",
   "execution_count": 50,
   "id": "1caddd1b-c59c-4d97-8a4a-e8ab11f4697b",
   "metadata": {},
   "outputs": [
    {
     "ename": "IndexError",
     "evalue": "list assignment index out of range",
     "output_type": "error",
     "traceback": [
      "\u001b[0;31m---------------------------------------------------------------------------\u001b[0m",
      "\u001b[0;31mIndexError\u001b[0m                                Traceback (most recent call last)",
      "Input \u001b[0;32mIn [50]\u001b[0m, in \u001b[0;36m<module>\u001b[0;34m\u001b[0m\n\u001b[1;32m      1\u001b[0m \u001b[38;5;66;03m# test de la propriété d'immutabilité des listes (Part 2)\u001b[39;00m\n\u001b[1;32m      2\u001b[0m testListe \u001b[38;5;241m=\u001b[39m \u001b[38;5;28mlist\u001b[39m()  \u001b[38;5;66;03m# testListe = []\u001b[39;00m\n\u001b[0;32m----> 4\u001b[0m testListe[\u001b[38;5;241m0\u001b[39m] \u001b[38;5;241m=\u001b[39m \u001b[38;5;241m188.19\u001b[39m\n",
      "\u001b[0;31mIndexError\u001b[0m: list assignment index out of range"
     ]
    }
   ],
   "source": [
    "# test de la propriété d'immutabilité des listes (Part 2)\n",
    "testListe = list()  # testListe = []\n",
    "\n",
    "testListe[0] = 188.19"
   ]
  },
  {
   "cell_type": "code",
   "execution_count": 53,
   "id": "0f077ce5-8df4-4046-8f66-2721ba3c1841",
   "metadata": {},
   "outputs": [],
   "source": [
    "# List comprehension (Part 1)\n",
    "# NB: la fonction native range(n) affiche les éléments a partir de 0 jusqu'à n-1\n",
    "# NB exemple: range(3) = [0,1,2] car n-1 = 3-1 = 2\n",
    "\n",
    "var1 = []   # list()\n",
    "var2 = [1, 2, 3, 4, 5]\n",
    "var3 = [x for x in var2]\n",
    "var4 = [x for x in var2]\n",
    "var5 = [x for x in range(6)]\n",
    "var6 = [x for x in range(10)]"
   ]
  },
  {
   "cell_type": "code",
   "execution_count": 51,
   "id": "f3e695a1-e8a1-42cc-baec-82ec21b0c262",
   "metadata": {},
   "outputs": [
    {
     "data": {
      "text/plain": [
       "([1, 2, 3, 4, 5], [1, 2, 3, 4, 5])"
      ]
     },
     "execution_count": 51,
     "metadata": {},
     "output_type": "execute_result"
    }
   ],
   "source": [
    "# Afficher les valeurs des variables var3, var4\n",
    "var3, var4"
   ]
  },
  {
   "cell_type": "code",
   "execution_count": 52,
   "id": "4cad3bea-d750-4df3-be34-0b2e0be568e1",
   "metadata": {},
   "outputs": [
    {
     "data": {
      "text/plain": [
       "([0, 1, 2, 3, 4, 5], [0, 1, 2, 3, 4, 5, 6, 7, 8, 9])"
      ]
     },
     "execution_count": 52,
     "metadata": {},
     "output_type": "execute_result"
    }
   ],
   "source": [
    "# Afficher les valeurs des variables var5, var6\n",
    "var5, var6"
   ]
  },
  {
   "cell_type": "code",
   "execution_count": 54,
   "id": "7a1e0e64-a519-448e-8153-22306472be78",
   "metadata": {},
   "outputs": [
    {
     "data": {
      "text/plain": [
       "(list, list)"
      ]
     },
     "execution_count": 54,
     "metadata": {},
     "output_type": "execute_result"
    }
   ],
   "source": [
    "# Afficher les types des variables var5, var6\n",
    "type(var5), type(var6)"
   ]
  },
  {
   "cell_type": "code",
   "execution_count": 6,
   "id": "25693563-0a4a-4048-8c44-486bdd0adfd3",
   "metadata": {},
   "outputs": [
    {
     "data": {
      "text/plain": [
       "[0, 1, 2, 3, 4, 5, 6, 7, 8, 9]"
      ]
     },
     "execution_count": 6,
     "metadata": {},
     "output_type": "execute_result"
    }
   ],
   "source": [
    "# Manipulation de la fonction range (Exemple 1)\n",
    "# Syntaxe range(number) \n",
    "test_range1 = list(range(10))\n",
    "test_range1"
   ]
  },
  {
   "cell_type": "code",
   "execution_count": 7,
   "id": "99ae6296-0573-4bc3-bc01-e2d8773ead02",
   "metadata": {},
   "outputs": [
    {
     "data": {
      "text/plain": [
       "[5, 6, 7, 8, 9, 10, 11, 12, 13, 14, 15, 16, 17, 18, 19, 20, 21, 22, 23, 24]"
      ]
     },
     "execution_count": 7,
     "metadata": {},
     "output_type": "execute_result"
    }
   ],
   "source": [
    "# Manipulation de la fonction range (Exemple 2)\n",
    "# Syntaxe range(start, end)\n",
    "test_range2 = list(range(5, 25))\n",
    "test_range2"
   ]
  },
  {
   "cell_type": "code",
   "execution_count": 8,
   "id": "0c613efc-6950-44d9-8036-61b1db9a1e79",
   "metadata": {},
   "outputs": [],
   "source": [
    "# List comprehension (Part 3)\n",
    "# Add, remove, pop, extend, insert, remove value\n",
    "var = []\n",
    "\n",
    "# Ajouter des elements avec la fonction append\n",
    "var.append(1)\n",
    "var.append(2)\n",
    "var.append(28.88)\n",
    "var.append('Ali')\n",
    "var.append('Sarr')\n",
    "var.append(['Ali', 18, [-155.88, 68.78]])"
   ]
  },
  {
   "cell_type": "code",
   "execution_count": 9,
   "id": "11afa0cb-b5a1-4a13-bd7b-c978139cc635",
   "metadata": {},
   "outputs": [
    {
     "data": {
      "text/plain": [
       "[1, 2, 28.88, 'Ali', 'Sarr', ['Ali', 18, [-155.88, 68.78]]]"
      ]
     },
     "execution_count": 9,
     "metadata": {},
     "output_type": "execute_result"
    }
   ],
   "source": [
    "var"
   ]
  },
  {
   "cell_type": "code",
   "execution_count": 10,
   "id": "03115189-7d0f-4586-9972-0134d64d0ddd",
   "metadata": {},
   "outputs": [],
   "source": [
    "# Ajouter des elements a la liste a partir d'une autre liste\n",
    "# iterable c'est un structure de donnees capable de rendre de manière successive les valeurs qu'elle contient\n",
    "# On parle d'itération (terme grossuère=boucle)\n",
    "var.extend([201, 202, 203])\n",
    "var.extend([301, 302, 303])\n",
    "var.extend([401, 402, 403])"
   ]
  },
  {
   "cell_type": "code",
   "execution_count": 11,
   "id": "fbb67c36-830b-424f-9dec-8e335da6ad30",
   "metadata": {},
   "outputs": [
    {
     "data": {
      "text/plain": [
       "[1,\n",
       " 2,\n",
       " 28.88,\n",
       " 'Ali',\n",
       " 'Sarr',\n",
       " ['Ali', 18, [-155.88, 68.78]],\n",
       " 201,\n",
       " 202,\n",
       " 203,\n",
       " 301,\n",
       " 302,\n",
       " 303,\n",
       " 401,\n",
       " 402,\n",
       " 403]"
      ]
     },
     "execution_count": 11,
     "metadata": {},
     "output_type": "execute_result"
    }
   ],
   "source": [
    "var"
   ]
  },
  {
   "cell_type": "code",
   "execution_count": 12,
   "id": "bff7c282-6991-4ea4-a7f0-5194529e2efe",
   "metadata": {},
   "outputs": [
    {
     "ename": "TypeError",
     "evalue": "'int' object is not iterable",
     "output_type": "error",
     "traceback": [
      "\u001b[0;31m---------------------------------------------------------------------------\u001b[0m",
      "\u001b[0;31mTypeError\u001b[0m                                 Traceback (most recent call last)",
      "Input \u001b[0;32mIn [12]\u001b[0m, in \u001b[0;36m<module>\u001b[0;34m\u001b[0m\n\u001b[0;32m----> 1\u001b[0m \u001b[43mvar\u001b[49m\u001b[38;5;241;43m.\u001b[39;49m\u001b[43mextend\u001b[49m\u001b[43m(\u001b[49m\u001b[38;5;241;43m1999\u001b[39;49m\u001b[43m)\u001b[49m\n",
      "\u001b[0;31mTypeError\u001b[0m: 'int' object is not iterable"
     ]
    }
   ],
   "source": [
    "var.extend(1999) # append"
   ]
  },
  {
   "cell_type": "code",
   "execution_count": 13,
   "id": "c8f8541f-76a6-418f-9135-ca348c14a87e",
   "metadata": {},
   "outputs": [],
   "source": [
    "var.extend(['Ali', 18, [-155.88, 68.78]])"
   ]
  },
  {
   "cell_type": "code",
   "execution_count": 17,
   "id": "791ef62a-e7c9-4aca-97d2-a9f1250804de",
   "metadata": {},
   "outputs": [
    {
     "data": {
      "text/plain": [
       "[-155.88, 68.78]"
      ]
     },
     "execution_count": 17,
     "metadata": {},
     "output_type": "execute_result"
    }
   ],
   "source": [
    "# suppression des élément d'une liste\n",
    "# Utilisation de la fonction POP\n",
    "# La fonction native POP permet de supprimer un élément en bout de liste et renvoi l'élément supprimé\n",
    "var.pop()"
   ]
  },
  {
   "cell_type": "code",
   "execution_count": 19,
   "id": "3e22d39f-7298-4f52-9009-629133ee0f5c",
   "metadata": {},
   "outputs": [
    {
     "data": {
      "text/plain": [
       "1"
      ]
     },
     "execution_count": 19,
     "metadata": {},
     "output_type": "execute_result"
    }
   ],
   "source": [
    "# Suppression avec précision de l'index de l'élément à supprimer\n",
    "var.pop(0)"
   ]
  },
  {
   "cell_type": "code",
   "execution_count": 21,
   "id": "69aec764-fe79-4a54-b0df-3006fb4bee1b",
   "metadata": {},
   "outputs": [],
   "source": [
    "# Inserer des éléments dans une liste avec la fonction INSERT\n",
    "# Syntaxe de INSERT: <list>.insert(index, value)\n",
    "var.insert(1, 555)\n",
    "var.insert(1, 665)\n",
    "var.insert(3, 888)"
   ]
  },
  {
   "cell_type": "code",
   "execution_count": 23,
   "id": "14c9f6bc-43f7-4bbe-bb15-14d28c857409",
   "metadata": {},
   "outputs": [],
   "source": [
    "# Suppression d'un élément d'une liste avec la fonction remove\n",
    "# Syntaxe de REMOVE: <list>.remove(value)\n",
    "var.remove(665)"
   ]
  },
  {
   "cell_type": "code",
   "execution_count": 25,
   "id": "2f7892eb-3966-4933-aeb1-f6c5685e3818",
   "metadata": {},
   "outputs": [],
   "source": [
    "var.remove(888)"
   ]
  },
  {
   "cell_type": "code",
   "execution_count": 28,
   "id": "42ec6eef-7e51-403a-8b30-f67043d8cf46",
   "metadata": {},
   "outputs": [],
   "source": [
    "# Ajout de deux éléments identiques dans la liste\n",
    "var.insert(1, 200)\n",
    "var.insert(1, 200)"
   ]
  },
  {
   "cell_type": "code",
   "execution_count": 33,
   "id": "ead3b5aa-666f-4bd2-b6c0-2aa5fb113dcb",
   "metadata": {},
   "outputs": [],
   "source": [
    "# NB: en cas d'occurence remove ne supprime qu'un élément par élément\n",
    "var.remove(200)"
   ]
  },
  {
   "cell_type": "code",
   "execution_count": 35,
   "id": "653f1cf4-1710-4b92-8524-af6ce2cee10f",
   "metadata": {},
   "outputs": [],
   "source": [
    "var = list(range(10))"
   ]
  },
  {
   "cell_type": "code",
   "execution_count": 37,
   "id": "9340c9c7-646f-4378-bd2b-7088b4f49bce",
   "metadata": {},
   "outputs": [
    {
     "data": {
      "text/plain": [
       "[0, 1, 2, 3, 4, 5, 6, 7, 8, 9]"
      ]
     },
     "execution_count": 37,
     "metadata": {},
     "output_type": "execute_result"
    }
   ],
   "source": [
    "# Afficher tous les éléments de la liste (Méthode 1)\n",
    "var"
   ]
  },
  {
   "cell_type": "code",
   "execution_count": 38,
   "id": "349b4625-651f-420c-96c8-07203581e448",
   "metadata": {},
   "outputs": [
    {
     "data": {
      "text/plain": [
       "[0, 1, 2, 3, 4, 5, 6, 7, 8, 9]"
      ]
     },
     "execution_count": 38,
     "metadata": {},
     "output_type": "execute_result"
    }
   ],
   "source": [
    "# Afficher tous les éléments de la liste (Méthode 2)\n",
    "var[:]"
   ]
  },
  {
   "cell_type": "code",
   "execution_count": 39,
   "id": "a4af9661-5003-4ece-b0f4-51ae01f5d0ad",
   "metadata": {},
   "outputs": [
    {
     "data": {
      "text/plain": [
       "[9, 8, 7, 6, 5, 4, 3, 2, 1, 0]"
      ]
     },
     "execution_count": 39,
     "metadata": {},
     "output_type": "execute_result"
    }
   ],
   "source": [
    "# Afficher tous les éléments de la liste à partir du dernier élément\n",
    "var[::-1]"
   ]
  },
  {
   "cell_type": "code",
   "execution_count": 40,
   "id": "2f43473e-8cc8-4aa8-9976-c8cdcc4cc406",
   "metadata": {},
   "outputs": [
    {
     "data": {
      "text/plain": [
       "(0, 9)"
      ]
     },
     "execution_count": 40,
     "metadata": {},
     "output_type": "execute_result"
    }
   ],
   "source": [
    "# Afficher le premier et le dernier élément de la liste\n",
    "var[0], var[-1]"
   ]
  },
  {
   "cell_type": "code",
   "execution_count": 42,
   "id": "b64a2f79-a9db-40e3-8753-7525b3a7078e",
   "metadata": {},
   "outputs": [
    {
     "data": {
      "text/plain": [
       "([0, 1, 2, 3, 4], [0, 1, 2, 3, 4, 5], [0, 1, 2, 3, 4, 5, 6])"
      ]
     },
     "execution_count": 42,
     "metadata": {},
     "output_type": "execute_result"
    }
   ],
   "source": [
    "# Afficher les n premiers éléments de la liste\n",
    "# Exemple des cinq premiers élements\n",
    "var[0:5], var[0:6], var[0:7] # ou var[:5]"
   ]
  },
  {
   "cell_type": "code",
   "execution_count": 44,
   "id": "28ac36fa-be17-489f-b161-446755526f22",
   "metadata": {},
   "outputs": [
    {
     "data": {
      "text/plain": [
       "([2, 3, 4], [2, 3, 4, 5, 6, 7], [3, 4])"
      ]
     },
     "execution_count": 44,
     "metadata": {},
     "output_type": "execute_result"
    }
   ],
   "source": [
    "# Afficher n éléments de la liste a partir d'un index de départ\n",
    "var[2:5], var[2:8], var[3:5]"
   ]
  },
  {
   "cell_type": "code",
   "execution_count": 47,
   "id": "a2166f90-c5a7-477c-923d-7de984894deb",
   "metadata": {},
   "outputs": [
    {
     "data": {
      "text/plain": [
       "([5, 6, 7, 8], [4, 5, 6, 7], [3, 4, 5, 6, 7, 8])"
      ]
     },
     "execution_count": 47,
     "metadata": {},
     "output_type": "execute_result"
    }
   ],
   "source": [
    "# Affichage des éléments de la liste a partir des index négatifs\n",
    "# Quand on utilise les indexes négatifs on décompte de la droite vers la gauche\n",
    "var[-5:-1], var[-6:-2], var[-7:-1]"
   ]
  },
  {
   "cell_type": "code",
   "execution_count": 48,
   "id": "21f24620-1268-4afb-9667-b406b5a32806",
   "metadata": {},
   "outputs": [
    {
     "data": {
      "text/plain": [
       "[9, 8, 7, 6, 5, 4, 3, 2, 1, 0]"
      ]
     },
     "execution_count": 48,
     "metadata": {},
     "output_type": "execute_result"
    }
   ],
   "source": [
    "# Affichage des éléments de la liste a partir du dernier par pas de 1\n",
    "var[::-1]"
   ]
  },
  {
   "cell_type": "code",
   "execution_count": 49,
   "id": "b7db6c56-1c20-4ce0-afc9-8f1f1acabef8",
   "metadata": {},
   "outputs": [
    {
     "data": {
      "text/plain": [
       "([9, 7, 5, 3, 1], [9, 6, 3, 0], [9, 5, 1])"
      ]
     },
     "execution_count": 49,
     "metadata": {},
     "output_type": "execute_result"
    }
   ],
   "source": [
    "# Affichage des éléments de la liste a partir du dernier par pas de 2\n",
    "# Le pas peut varier qu'a l'intervalle de la longueur du tableu\n",
    "var[::-2], var[::-3], var[::-4]"
   ]
  },
  {
   "cell_type": "code",
   "execution_count": 51,
   "id": "08f7cd13-eceb-46b1-a8e1-c8bd57509260",
   "metadata": {},
   "outputs": [],
   "source": [
    "# List comprehension (Part 4)\n",
    "# Opérations usuelles sur les listes\n",
    "\n",
    "var1 = list(range(10))\n",
    "var2 = list(range(6))\n",
    "\n",
    "var3 = var1 + var2 # Concaténation\n",
    "var4 = var2 * 3 # répétition des éléments du tableau par 3"
   ]
  },
  {
   "cell_type": "code",
   "execution_count": 52,
   "id": "a2e41a5d-01ec-4609-9a32-6cbf230d2989",
   "metadata": {},
   "outputs": [
    {
     "data": {
      "text/plain": [
       "([0, 1, 2, 3, 4, 5, 6, 7, 8, 9, 0, 1, 2, 3, 4, 5],\n",
       " [0, 1, 2, 3, 4, 5, 0, 1, 2, 3, 4, 5, 0, 1, 2, 3, 4, 5])"
      ]
     },
     "execution_count": 52,
     "metadata": {},
     "output_type": "execute_result"
    }
   ],
   "source": [
    "var3, var4"
   ]
  },
  {
   "cell_type": "markdown",
   "id": "6d61d848-879f-4a4d-831f-0a3d297cfba1",
   "metadata": {},
   "source": [
    "## Les dictionnaires en python"
   ]
  },
  {
   "cell_type": "code",
   "execution_count": 58,
   "id": "1316c168-295c-48aa-b3f1-89fc656d7683",
   "metadata": {},
   "outputs": [
    {
     "data": {
      "text/plain": [
       "(dict, dict)"
      ]
     },
     "execution_count": 58,
     "metadata": {},
     "output_type": "execute_result"
    }
   ],
   "source": [
    "# Dictionnaire (Part 1)\n",
    "# Les dictionnaires se base sur la notion de key/value\n",
    "# Notion de clé et de valeur (A une clé => valeur)\n",
    "\n",
    "var  = {} # or var = dict()\n",
    "var2 = dict()\n",
    "tab  = list()\n",
    "\n",
    "type(var), type(var2)"
   ]
  },
  {
   "cell_type": "code",
   "execution_count": 54,
   "id": "91e8a2b0-2078-46e7-b4d0-31b162af2322",
   "metadata": {},
   "outputs": [],
   "source": [
    "# Ajouter des éléments dans le dictionnaire\n",
    "var['name']    = 'Ali'\n",
    "var['age']     = 18\n",
    "var['poids']   = 75.50\n",
    "var['country'] = 'SN'"
   ]
  },
  {
   "cell_type": "code",
   "execution_count": 55,
   "id": "93c52d15-d880-46cc-b4a9-912678fd9797",
   "metadata": {},
   "outputs": [
    {
     "data": {
      "text/plain": [
       "{'name': 'Ali', 'age': 18, 'poids': 75.5, 'country': 'SN'}"
      ]
     },
     "execution_count": 55,
     "metadata": {},
     "output_type": "execute_result"
    }
   ],
   "source": [
    "var"
   ]
  },
  {
   "cell_type": "code",
   "execution_count": 56,
   "id": "9f41f974-b84a-481d-b6dd-39c486cbc682",
   "metadata": {},
   "outputs": [
    {
     "data": {
      "text/plain": [
       "('Ali', 18, 75.5, 'SN')"
      ]
     },
     "execution_count": 56,
     "metadata": {},
     "output_type": "execute_result"
    }
   ],
   "source": [
    "# Afficher les éléments de ce dictionnaire\n",
    "var['name'], var['age'], var['poids'], var['country']"
   ]
  },
  {
   "cell_type": "code",
   "execution_count": 61,
   "id": "5159faee-2c9c-456f-a5b9-6cfd55cfb3bf",
   "metadata": {},
   "outputs": [
    {
     "ename": "IndexError",
     "evalue": "list assignment index out of range",
     "output_type": "error",
     "traceback": [
      "\u001b[0;31m---------------------------------------------------------------------------\u001b[0m",
      "\u001b[0;31mIndexError\u001b[0m                                Traceback (most recent call last)",
      "Input \u001b[0;32mIn [61]\u001b[0m, in \u001b[0;36m<module>\u001b[0;34m\u001b[0m\n\u001b[0;32m----> 1\u001b[0m tab[\u001b[38;5;241m0\u001b[39m] \u001b[38;5;241m=\u001b[39m \u001b[38;5;124m'\u001b[39m\u001b[38;5;124mAli\u001b[39m\u001b[38;5;124m'\u001b[39m\n",
      "\u001b[0;31mIndexError\u001b[0m: list assignment index out of range"
     ]
    }
   ],
   "source": [
    "tab[0] = 'Ali'"
   ]
  },
  {
   "cell_type": "code",
   "execution_count": 66,
   "id": "ca7da609-e81d-4ba5-ab9e-1c3c0d289a35",
   "metadata": {},
   "outputs": [
    {
     "data": {
      "text/plain": [
       "{0: 4, 1: [1, 2, 3, 5], 2: {'tall': 1.85, 'color': 'black'}}"
      ]
     },
     "execution_count": 66,
     "metadata": {},
     "output_type": "execute_result"
    }
   ],
   "source": [
    "# Ajouter des listes et dictionnaires dans un dictionnaire\n",
    "var2[0] = 4\n",
    "var2[1] = [1, 2, 3, 5]\n",
    "var2[2] = {'tall': 1.85, 'color': 'black'}\n",
    "var2"
   ]
  },
  {
   "cell_type": "code",
   "execution_count": 67,
   "id": "4fc529b7-9fc9-422b-8dc5-650ceb9bc563",
   "metadata": {},
   "outputs": [],
   "source": [
    "# Dictionnaire (Part 2)\n",
    "# Quelques propriétés des dictionnaires\n",
    "\n",
    "var2.update({'language': 'Wolof',\n",
    "            'classe': 'DSI006',\n",
    "            'year': 1995, })"
   ]
  },
  {
   "cell_type": "code",
   "execution_count": 68,
   "id": "a2f2e3be-1224-4e52-860e-e19bc35fda96",
   "metadata": {},
   "outputs": [
    {
     "data": {
      "text/plain": [
       "{0: 4,\n",
       " 1: [1, 2, 3, 5],\n",
       " 2: {'tall': 1.85, 'color': 'black'},\n",
       " 'language': 'Wolof',\n",
       " 'classe': 'DSI006',\n",
       " 'year': 1995}"
      ]
     },
     "execution_count": 68,
     "metadata": {},
     "output_type": "execute_result"
    }
   ],
   "source": [
    "var2"
   ]
  },
  {
   "cell_type": "code",
   "execution_count": 69,
   "id": "5006b326-71d3-4345-aa4b-7eff85321427",
   "metadata": {},
   "outputs": [],
   "source": [
    "var2.update({'language': 'Anglais',\n",
    "            'classe': 'DSI007',\n",
    "            'year': 1994, })"
   ]
  },
  {
   "cell_type": "code",
   "execution_count": 70,
   "id": "ead33c8a-0ed9-4a5d-9aa9-95ef05531fb5",
   "metadata": {},
   "outputs": [
    {
     "data": {
      "text/plain": [
       "{0: 4,\n",
       " 1: [1, 2, 3, 5],\n",
       " 2: {'tall': 1.85, 'color': 'black'},\n",
       " 'language': 'Anglais',\n",
       " 'classe': 'DSI007',\n",
       " 'year': 1994}"
      ]
     },
     "execution_count": 70,
     "metadata": {},
     "output_type": "execute_result"
    }
   ],
   "source": [
    "var2"
   ]
  },
  {
   "cell_type": "code",
   "execution_count": 71,
   "id": "0fc64586-5125-4521-8f03-b10ea373093a",
   "metadata": {},
   "outputs": [
    {
     "data": {
      "text/plain": [
       "{0: 4,\n",
       " 1: [1, 2, 3, 5],\n",
       " 2: {'tall': 1.85, 'color': 'black'},\n",
       " 'language': 'Russe',\n",
       " 'classe': 'DSI008',\n",
       " 'year': 1992}"
      ]
     },
     "execution_count": 71,
     "metadata": {},
     "output_type": "execute_result"
    }
   ],
   "source": [
    "# La fonction update ou | mettent à jour les éléments du dictionnaires\n",
    "# Si ces éléments existent dans la liste il met à jour\n",
    "# Sinon il ajoute les nouveaux éléments avec leur clé\n",
    "var4 = {'language': 'Russe','classe': 'DSI008','year': 1992}\n",
    "var2 = var2 | var4\n",
    "var2"
   ]
  },
  {
   "cell_type": "code",
   "execution_count": 72,
   "id": "ef27e1a8-2693-4fcb-a3b5-38648b596e0d",
   "metadata": {},
   "outputs": [
    {
     "data": {
      "text/plain": [
       "dict_keys([0, 1, 2, 'language', 'classe', 'year'])"
      ]
     },
     "execution_count": 72,
     "metadata": {},
     "output_type": "execute_result"
    }
   ],
   "source": [
    "# Dictionnaire (Part 3)\n",
    "# Quelques fonction sur les dictionnaires\n",
    "\n",
    "# Afficher toutes les clés du dictionnaire\n",
    "var2.keys()"
   ]
  },
  {
   "cell_type": "code",
   "execution_count": 73,
   "id": "49eec6e9-b345-4700-b539-906a7b472d6a",
   "metadata": {},
   "outputs": [
    {
     "data": {
      "text/plain": [
       "dict_values([4, [1, 2, 3, 5], {'tall': 1.85, 'color': 'black'}, 'Russe', 'DSI008', 1992])"
      ]
     },
     "execution_count": 73,
     "metadata": {},
     "output_type": "execute_result"
    }
   ],
   "source": [
    "# Afficher toutes les valeurs du dictionnaire\n",
    "var2.values()"
   ]
  },
  {
   "cell_type": "code",
   "execution_count": 74,
   "id": "5cf28705-f092-438f-8d06-2bfda395d11b",
   "metadata": {},
   "outputs": [
    {
     "data": {
      "text/plain": [
       "[0, 1, 2, 'language', 'classe', 'year']"
      ]
     },
     "execution_count": 74,
     "metadata": {},
     "output_type": "execute_result"
    }
   ],
   "source": [
    "list(var2.keys())"
   ]
  },
  {
   "cell_type": "code",
   "execution_count": 75,
   "id": "b80f352a-1742-49d9-b8f4-718f7c403107",
   "metadata": {},
   "outputs": [
    {
     "data": {
      "text/plain": [
       "[4, [1, 2, 3, 5], {'tall': 1.85, 'color': 'black'}, 'Russe', 'DSI008', 1992]"
      ]
     },
     "execution_count": 75,
     "metadata": {},
     "output_type": "execute_result"
    }
   ],
   "source": [
    "list(var2.values())"
   ]
  },
  {
   "cell_type": "code",
   "execution_count": 76,
   "id": "d32c3de0-2107-4a85-93e1-309837404893",
   "metadata": {},
   "outputs": [
    {
     "data": {
      "text/plain": [
       "dict_items([(0, 4), (1, [1, 2, 3, 5]), (2, {'tall': 1.85, 'color': 'black'}), ('language', 'Russe'), ('classe', 'DSI008'), ('year', 1992)])"
      ]
     },
     "execution_count": 76,
     "metadata": {},
     "output_type": "execute_result"
    }
   ],
   "source": [
    "# Afficher les clés et les valeurs en même temps\n",
    "var2.items()"
   ]
  },
  {
   "cell_type": "code",
   "execution_count": 77,
   "id": "97e4af50-7bba-4521-a052-c23c2af68097",
   "metadata": {},
   "outputs": [
    {
     "data": {
      "text/plain": [
       "[(0, 4),\n",
       " (1, [1, 2, 3, 5]),\n",
       " (2, {'tall': 1.85, 'color': 'black'}),\n",
       " ('language', 'Russe'),\n",
       " ('classe', 'DSI008'),\n",
       " ('year', 1992)]"
      ]
     },
     "execution_count": 77,
     "metadata": {},
     "output_type": "execute_result"
    }
   ],
   "source": [
    "list(var2.items())"
   ]
  },
  {
   "cell_type": "code",
   "execution_count": 78,
   "id": "2f3a0c9d-ca6f-4b3f-91d9-126f37535c6c",
   "metadata": {},
   "outputs": [],
   "source": [
    "# Supprimer un élément du dictionnaire (Méthode 1)\n",
    "# pour supprimer dans ce cas on utilise la clé\n",
    "del var2[0]"
   ]
  },
  {
   "cell_type": "code",
   "execution_count": 79,
   "id": "93a0722e-1dec-416d-b480-326592a88758",
   "metadata": {},
   "outputs": [
    {
     "data": {
      "text/plain": [
       "{1: [1, 2, 3, 5],\n",
       " 2: {'tall': 1.85, 'color': 'black'},\n",
       " 'language': 'Russe',\n",
       " 'classe': 'DSI008',\n",
       " 'year': 1992}"
      ]
     },
     "execution_count": 79,
     "metadata": {},
     "output_type": "execute_result"
    }
   ],
   "source": [
    "var2"
   ]
  },
  {
   "cell_type": "code",
   "execution_count": 81,
   "id": "4f095058-2a51-4ae8-b59c-46e0f666c33c",
   "metadata": {},
   "outputs": [
    {
     "data": {
      "text/plain": [
       "[1, 2, 3, 5]"
      ]
     },
     "execution_count": 81,
     "metadata": {},
     "output_type": "execute_result"
    }
   ],
   "source": [
    "# Supprimer un élément du dictionnaire (Méthode 2)\n",
    "# Utilisation de la méthode pop pour supprimer a partir de l'indexe\n",
    "var2.pop(1)"
   ]
  },
  {
   "cell_type": "code",
   "execution_count": 82,
   "id": "ae896885-9a35-4598-bcab-d4de616e945f",
   "metadata": {},
   "outputs": [],
   "source": [
    "#Exercice\n",
    "# Créér un dictionnaire contenant:\n",
    "# La valeur de vôtre nom assignée à une clé fullname\n",
    "# La valeur de vôtre poids assignée à une clé weight\n",
    "# La valeur de vôtre taille assignée à une clé tall\n",
    "# Puis calcule l'IMC (indice de masse corporelle)\n",
    "# Formule= Poids/(taille*taille) en kg/m2\n",
    "# Exprimer ce résultat en g/m2, en g/mm2\n",
    "# et stocker ces trois résultats dans une liste\n",
    "# et stocker cette liste dans le dictionnaire de départ sous la clé <imc>"
   ]
  },
  {
   "cell_type": "code",
   "execution_count": 85,
   "id": "c7280dcb-290f-4212-b9b0-65c8937244df",
   "metadata": {},
   "outputs": [
    {
     "data": {
      "text/plain": [
       "{'fullname': 'Eric Djiky',\n",
       " 'weight': 70,\n",
       " 'tall': 1.75,\n",
       " 'IMC': [22.857142857142858, 22857.14285714286, 0.022857142857142857]}"
      ]
     },
     "execution_count": 85,
     "metadata": {},
     "output_type": "execute_result"
    }
   ],
   "source": [
    "# Correction faite par Eric Djiky\n",
    "person = {}\n",
    "\n",
    "person['fullname'] = 'Eric Djiky'\n",
    "person['weight']   = 70\n",
    "person['tall']     = 1.75\n",
    "imc                = person['weight'] / (person['tall'] * person['tall'])\n",
    "imc2               = (person['weight'] * 1000) / (person['tall'] * person['tall'])\n",
    "imc3               = (person['weight'] * 1000) / ((person['tall'] * 1000) * (person['tall'] * 1000))\n",
    "\n",
    "person['IMC']      = [imc, imc2, imc3]\n",
    "person"
   ]
  },
  {
   "cell_type": "code",
   "execution_count": 87,
   "id": "ece85331-5bd9-4cef-88d2-4ade291a0ade",
   "metadata": {},
   "outputs": [
    {
     "data": {
      "text/plain": [
       "{'fullnam': 'Maodo',\n",
       " 'weight': 78,\n",
       " 'tall': 1.75,\n",
       " 'imc': [25.46938775510204, 25469.38775510204, 25.46938775510204]}"
      ]
     },
     "execution_count": 87,
     "metadata": {},
     "output_type": "execute_result"
    }
   ],
   "source": [
    "# Correction faite par Maodo Sene\n",
    "\n",
    "# Créér un dictionnaire contenant:\n",
    "mes_infos = {}\n",
    "mes_infos['fullnam']  ='Maodo'\n",
    "mes_infos['weight']   = 78\n",
    "mes_infos['tall']     = 1.75\n",
    "\n",
    "#calcule l'IMC (indice de masse corporelle) en kg/m²\n",
    "IMC1 = mes_infos['weight']/(mes_infos['tall']**2)\n",
    "\n",
    "# Exprimer ce résultat en g/m2\n",
    "IMC2 = (mes_infos['weight']*1000)/(mes_infos['tall']**2)\n",
    "\n",
    "# Exprimer ce résultat en g/mm2\n",
    "IMC3 = (mes_infos['weight']*1000)/((mes_infos['tall']**2)*1000)\n",
    "\n",
    "imc  = {'imc': [IMC1, IMC2, IMC3]}\n",
    "mes_infos.update(imc)\n",
    "mes_infos"
   ]
  },
  {
   "cell_type": "code",
   "execution_count": 86,
   "id": "9c1cb1f6-40d7-457f-8aac-81db502b2549",
   "metadata": {},
   "outputs": [],
   "source": [
    "# Exercice2\n",
    "fruits = ['orange', 'banane', 'kiwi', 'papaye', 'pomme', 'pomme']\n",
    "\n",
    "# Afficher la taille du tableau avec la fonction len:\n",
    "# Exemple Liste1 = [1,2] => longueur = len(Liste1)\n",
    "\n",
    "# Compter le nombre d'occurence de POMME:\n",
    "# Exemple Liste1 = ['tata', 'tata', 'tati'] => occurence = Liste1.count('tata')\n",
    "\n",
    "# Ordonner la liste avec REVERSE\n",
    "# Exemple Liste1 = [1,2,3] => Liste1Reverse = Liste1.reverse()\n",
    "\n",
    "# Trier les éléments du tableau avec la fonction SORTED\n",
    "# Exemple Liste1   = [1,2,3]\n",
    "# Liste1SortedAsc  = sorted(Liste1, reverse=Fasle)\n",
    "# Liste1SortedDesc = sorted(Liste2, reverse=True)\n",
    "\n",
    "# Supprimer l'élément ORANGE de la liste de départ\n",
    "# Ajouter dans la liste le résultat de l'exercice précédent avec l'IMC"
   ]
  },
  {
   "cell_type": "code",
   "execution_count": 88,
   "id": "027cc0bf-6754-4e68-acee-8207f4ab68b4",
   "metadata": {},
   "outputs": [
    {
     "data": {
      "text/plain": [
       "(6,\n",
       " 2,\n",
       " ['banane', 'kiwi', 'orange', 'papaye', 'pomme', 'pomme'],\n",
       " ['pomme', 'pomme', 'papaye', 'orange', 'kiwi', 'banane'])"
      ]
     },
     "execution_count": 88,
     "metadata": {},
     "output_type": "execute_result"
    }
   ],
   "source": [
    "# Correction Exercice2 fait par Wilfried\n",
    "fruits = ['orange', 'banane', 'kiwi', 'papaye', 'pomme', 'pomme']\n",
    "\n",
    "# Afficher la taille du tableau avec la fonction len:\n",
    "# Exemple Liste1 = [1,2] => longueur = len(Liste1)\n",
    "lenghtFruit = len(fruits)\n",
    "\n",
    "# Compter le nombre d'occurence de POMME:\n",
    "# Exemple Liste1 = ['tata', 'tata', 'tati'] => occurence = Liste1.count('tata')\n",
    "occurencePomme = fruits.count('pomme')\n",
    "\n",
    "# Trier les éléments du tableau avec la fonction SORTED\n",
    "# Exemple Liste1   = [1,2,3]\n",
    "# Liste1SortedAsc  = sorted(Liste1, reverse=Fasle)\n",
    "fruitsSortedAsc = sorted(fruits, reverse=False)\n",
    "\n",
    "# Liste1SortedDesc = sorted(Liste2, reverse=True)\n",
    "fruitsSortedDesc = sorted(fruits, reverse=True)\n",
    "\n",
    "lenghtFruit,occurencePomme,fruitsSortedAsc,fruitsSortedDesc"
   ]
  },
  {
   "cell_type": "code",
   "execution_count": 89,
   "id": "8804fd09-8681-4fd8-ac62-d46d41aa2a0c",
   "metadata": {},
   "outputs": [],
   "source": [
    "# Supprimer l'élément ORANGE de la liste de départ\n",
    "del fruits[0]"
   ]
  },
  {
   "cell_type": "code",
   "execution_count": 91,
   "id": "1bfeba8a-b56a-4719-94c3-11c3f91747e1",
   "metadata": {},
   "outputs": [],
   "source": [
    "# Ajouter dans la liste le résultat de l'exercice précédent avec l'IMC\n",
    "fruits.extend(person['IMC'])"
   ]
  },
  {
   "cell_type": "code",
   "execution_count": 92,
   "id": "862e87df-7353-4412-8d11-2c038191ef3c",
   "metadata": {},
   "outputs": [
    {
     "data": {
      "text/plain": [
       "['banane',\n",
       " 'kiwi',\n",
       " 'papaye',\n",
       " 'pomme',\n",
       " 'pomme',\n",
       " 22.857142857142858,\n",
       " 22857.14285714286,\n",
       " 0.022857142857142857]"
      ]
     },
     "execution_count": 92,
     "metadata": {},
     "output_type": "execute_result"
    }
   ],
   "source": [
    "fruits"
   ]
  },
  {
   "cell_type": "code",
   "execution_count": 93,
   "id": "c4bbd09a-db95-49d1-abf5-750c05b3fe39",
   "metadata": {},
   "outputs": [],
   "source": [
    "fruits.reverse()"
   ]
  },
  {
   "cell_type": "code",
   "execution_count": 94,
   "id": "cc091278-c33e-4754-a51c-d5759b2cf49e",
   "metadata": {},
   "outputs": [
    {
     "data": {
      "text/plain": [
       "[0.022857142857142857,\n",
       " 22857.14285714286,\n",
       " 22.857142857142858,\n",
       " 'pomme',\n",
       " 'pomme',\n",
       " 'papaye',\n",
       " 'kiwi',\n",
       " 'banane']"
      ]
     },
     "execution_count": 94,
     "metadata": {},
     "output_type": "execute_result"
    }
   ],
   "source": [
    "fruits"
   ]
  },
  {
   "cell_type": "markdown",
   "id": "f7a71356-3906-47bc-a253-42fcec23bb40",
   "metadata": {},
   "source": [
    "## Les tuples en python"
   ]
  },
  {
   "cell_type": "code",
   "execution_count": 100,
   "id": "842c5e89-4105-4542-90ee-85c1f73d87b2",
   "metadata": {},
   "outputs": [],
   "source": [
    "# Tuple (Part 1)\n",
    "\n",
    "var1 = ()   # ou var1 = tuple()\n",
    "var2 = (1, 2, 3, 4, 5)\n",
    "var3 = (x for x in var2)\n",
    "var4 = (x for x in range(6))\n",
    "\n",
    "var6 = [x for x in var2]\n",
    "var7 = [x for x in range(6)]"
   ]
  },
  {
   "cell_type": "code",
   "execution_count": 101,
   "id": "1511d6f2-10aa-4987-89b1-dab545e3adac",
   "metadata": {},
   "outputs": [
    {
     "data": {
      "text/plain": [
       "((1, 2, 3, 4, 5),\n",
       " <generator object <genexpr> at 0x7ffec88ec430>,\n",
       " <generator object <genexpr> at 0x7ffec88ec580>)"
      ]
     },
     "execution_count": 101,
     "metadata": {},
     "output_type": "execute_result"
    }
   ],
   "source": [
    "# Afficher les valeurs des tuples var2, var3, var4\n",
    "var2, var3, var4"
   ]
  },
  {
   "cell_type": "code",
   "execution_count": 102,
   "id": "66ba93bc-32b4-4266-864c-5c32894fe62c",
   "metadata": {},
   "outputs": [
    {
     "data": {
      "text/plain": [
       "([1, 2, 3, 4, 5], [0, 1, 2, 3, 4, 5])"
      ]
     },
     "execution_count": 102,
     "metadata": {},
     "output_type": "execute_result"
    }
   ],
   "source": [
    "var6, var7"
   ]
  },
  {
   "cell_type": "code",
   "execution_count": 103,
   "id": "42ac6494-46c1-458b-b929-6a735639008a",
   "metadata": {},
   "outputs": [
    {
     "data": {
      "text/plain": [
       "[1, 2, 3, 4, 5]"
      ]
     },
     "execution_count": 103,
     "metadata": {},
     "output_type": "execute_result"
    }
   ],
   "source": [
    "var3 = list(var3) # caster: forcer en un type donné\n",
    "var3"
   ]
  },
  {
   "cell_type": "code",
   "execution_count": 105,
   "id": "7e37e9a5-63f7-40f2-9bb2-5059a08fcd72",
   "metadata": {},
   "outputs": [
    {
     "data": {
      "text/plain": [
       "(1, 2, 3, 4, 5)"
      ]
     },
     "execution_count": 105,
     "metadata": {},
     "output_type": "execute_result"
    }
   ],
   "source": [
    "var3 = tuple(var3) # caster: forcer en un type donné\n",
    "var3"
   ]
  },
  {
   "cell_type": "code",
   "execution_count": 1,
   "id": "19d87519-c0fe-48f1-950c-40c248969484",
   "metadata": {},
   "outputs": [
    {
     "data": {
      "text/plain": [
       "tuple"
      ]
     },
     "execution_count": 1,
     "metadata": {},
     "output_type": "execute_result"
    }
   ],
   "source": [
    "# déclaration des Tuples (Part 2)\n",
    "tampon = 12344, 76171, 'Sénégal', 'CAN 2022'\n",
    "type(tampon)"
   ]
  },
  {
   "cell_type": "code",
   "execution_count": 2,
   "id": "9a34d261-1e54-4ac7-96a9-cac242fed5da",
   "metadata": {},
   "outputs": [
    {
     "data": {
      "text/plain": [
       "(12344, 76171, 'Sénégal')"
      ]
     },
     "execution_count": 2,
     "metadata": {},
     "output_type": "execute_result"
    }
   ],
   "source": [
    "# Afficher les éléments d'un tuple par les indexes\n",
    "tampon[0], tampon[1], tampon[2]"
   ]
  },
  {
   "cell_type": "code",
   "execution_count": 3,
   "id": "cd16f8d5-9938-4d9f-a673-eea9ec2714d3",
   "metadata": {},
   "outputs": [
    {
     "data": {
      "text/plain": [
       "((12344, 76171, 'Sénégal', 'CAN 2022'), [1, 2, 778, 100], 188.0, 'Egypte')"
      ]
     },
     "execution_count": 3,
     "metadata": {},
     "output_type": "execute_result"
    }
   ],
   "source": [
    "# Les tuples peuvent contenir tous types de variables comme les Listes\n",
    "tampon2 = (tampon, [1,2,778,100], 188., 'Egypte')\n",
    "tampon2"
   ]
  },
  {
   "cell_type": "code",
   "execution_count": 4,
   "id": "961aa723-14bf-4f4c-bbc5-8e4b160dd206",
   "metadata": {},
   "outputs": [
    {
     "ename": "TypeError",
     "evalue": "'tuple' object does not support item assignment",
     "output_type": "error",
     "traceback": [
      "\u001b[0;31m---------------------------------------------------------------------------\u001b[0m",
      "\u001b[0;31mTypeError\u001b[0m                                 Traceback (most recent call last)",
      "Input \u001b[0;32mIn [4]\u001b[0m, in \u001b[0;36m<module>\u001b[0;34m\u001b[0m\n\u001b[0;32m----> 1\u001b[0m tampon[\u001b[38;5;241m0\u001b[39m] \u001b[38;5;241m=\u001b[39m \u001b[38;5;241m8890\u001b[39m\n",
      "\u001b[0;31mTypeError\u001b[0m: 'tuple' object does not support item assignment"
     ]
    }
   ],
   "source": [
    "# Erreur : 'tuple' object does not support item assignment\n",
    "# Les tuples ne supportent pas l'assignation \n",
    "# Les tuples sont immuables.\n",
    "tampon[0] = 8890"
   ]
  },
  {
   "cell_type": "code",
   "execution_count": 5,
   "id": "c998f9fd-3fc0-4212-8d90-7e71116eb863",
   "metadata": {},
   "outputs": [
    {
     "data": {
      "text/plain": [
       "((), ('Plat de Mafé',), tuple, tuple)"
      ]
     },
     "execution_count": 5,
     "metadata": {},
     "output_type": "execute_result"
    }
   ],
   "source": [
    "# Déclaration d'un tuple vide\n",
    "# Déclaration par ajout d'une virgule\n",
    "tampon3 = ()\n",
    "singleton = 'Plat de Mafé', # remarquez la virgule à la fin\n",
    "\n",
    "tampon3, singleton, type(tampon3), type(singleton)"
   ]
  },
  {
   "cell_type": "code",
   "execution_count": 9,
   "id": "b7ddc18b-cbc1-4703-8094-43c79a5a0704",
   "metadata": {},
   "outputs": [
    {
     "data": {
      "text/plain": [
       "'Papa'"
      ]
     },
     "execution_count": 9,
     "metadata": {},
     "output_type": "execute_result"
    }
   ],
   "source": [
    "tampon4 = ('Papa')\n",
    "tampon5 = ('Papa',)\n",
    "\n",
    "tampon4"
   ]
  },
  {
   "cell_type": "code",
   "execution_count": 10,
   "id": "b6befedb-9ef5-4f28-ad8d-0febcfcf9b2f",
   "metadata": {},
   "outputs": [
    {
     "data": {
      "text/plain": [
       "('Papa',)"
      ]
     },
     "execution_count": 10,
     "metadata": {},
     "output_type": "execute_result"
    }
   ],
   "source": [
    "tampon5"
   ]
  },
  {
   "cell_type": "code",
   "execution_count": 11,
   "id": "f5f470de-5333-4cb5-bf13-d1341ceb9b5e",
   "metadata": {},
   "outputs": [
    {
     "data": {
      "text/plain": [
       "(12344, 76171, 'Sénégal', 'CAN 2022')"
      ]
     },
     "execution_count": 11,
     "metadata": {},
     "output_type": "execute_result"
    }
   ],
   "source": [
    "# Grouper ou dégrouper des valeurs\n",
    "# Pack or Unpack values or data\n",
    "tampon = 12344, 76171, 'Sénégal', 'CAN 2022' # pack\n",
    "\n",
    "tampon"
   ]
  },
  {
   "cell_type": "code",
   "execution_count": 12,
   "id": "558d3c44-41d1-4b4e-affa-b78f89adf3d2",
   "metadata": {},
   "outputs": [],
   "source": [
    "x, y, w, z = tampon # Unpack"
   ]
  },
  {
   "cell_type": "code",
   "execution_count": 14,
   "id": "c5244020-e335-45c2-9127-86d4cb5ee736",
   "metadata": {},
   "outputs": [
    {
     "data": {
      "text/plain": [
       "12344"
      ]
     },
     "execution_count": 14,
     "metadata": {},
     "output_type": "execute_result"
    }
   ],
   "source": [
    "x"
   ]
  },
  {
   "cell_type": "code",
   "execution_count": 15,
   "id": "3a63946c-08aa-4fa5-aafe-43c35af7ad9f",
   "metadata": {},
   "outputs": [
    {
     "data": {
      "text/plain": [
       "76171"
      ]
     },
     "execution_count": 15,
     "metadata": {},
     "output_type": "execute_result"
    }
   ],
   "source": [
    "y"
   ]
  },
  {
   "cell_type": "code",
   "execution_count": 16,
   "id": "a4bf2b69-b215-4b21-88bb-c7bb7edcd89b",
   "metadata": {},
   "outputs": [
    {
     "data": {
      "text/plain": [
       "'Sénégal'"
      ]
     },
     "execution_count": 16,
     "metadata": {},
     "output_type": "execute_result"
    }
   ],
   "source": [
    "w"
   ]
  },
  {
   "cell_type": "code",
   "execution_count": 17,
   "id": "a648f314-006d-425e-85d4-25780f8780f7",
   "metadata": {},
   "outputs": [
    {
     "data": {
      "text/plain": [
       "'CAN 2022'"
      ]
     },
     "execution_count": 17,
     "metadata": {},
     "output_type": "execute_result"
    }
   ],
   "source": [
    "z"
   ]
  },
  {
   "cell_type": "markdown",
   "id": "e12f199f-41f8-4186-a6e8-499e36bf6710",
   "metadata": {},
   "source": [
    "# Structures conditionnelles "
   ]
  },
  {
   "cell_type": "markdown",
   "id": "9dbd061a-3bc3-41a0-86bd-35044e4ac12e",
   "metadata": {},
   "source": [
    "## Structure conditionnelle _if_"
   ]
  },
  {
   "cell_type": "code",
   "execution_count": 23,
   "id": "792e3bfc-32e4-42ad-baa2-54d6f61d4b86",
   "metadata": {},
   "outputs": [],
   "source": [
    "# Les structures conditionnelles permettent d'évaluer une condition\n",
    "# Syntaxe de if:\n",
    "# if (condition) :\n",
    "#     instruction1\n",
    "#     instruction2\n",
    "#     instruction3\n",
    "#     ............\n",
    "#     instructionN\n",
    "# elif (condition):\n",
    "#     instruction1\n",
    "#     instruction2\n",
    "#     instruction3\n",
    "#     ............\n",
    "#     instructionN\n",
    "# else:\n",
    "#     instruction1\n",
    "#     instruction2\n",
    "#     instruction3\n",
    "#     ............\n",
    "#     instructionN"
   ]
  },
  {
   "cell_type": "code",
   "execution_count": 20,
   "id": "62eadac5-9bf4-4d8a-99bf-64cb995558d6",
   "metadata": {},
   "outputs": [
    {
     "name": "stdout",
     "output_type": "stream",
     "text": [
      "Majeur\n"
     ]
    }
   ],
   "source": [
    "# Condition d'évalution: Si age > 18 ou afficher Majeur dans le cas contraire affiché Mineur\n",
    "# pour afficher en python on utilise la fonction I/O print\n",
    "age = 20\n",
    "\n",
    "if age > 18:\n",
    "    print('Majeur')\n",
    "else:\n",
    "    print('Mineur')"
   ]
  },
  {
   "cell_type": "code",
   "execution_count": 21,
   "id": "8d04c0e5-8bb9-496b-b851-1e3455c778c3",
   "metadata": {},
   "outputs": [
    {
     "name": "stdout",
     "output_type": "stream",
     "text": [
      "Mineur\n"
     ]
    }
   ],
   "source": [
    "age = 16\n",
    "\n",
    "if age > 18:\n",
    "    print('Majeur')\n",
    "else:\n",
    "    print('Mineur')"
   ]
  },
  {
   "cell_type": "code",
   "execution_count": 22,
   "id": "1d4f2453-18ac-4662-9c08-4d408857efad",
   "metadata": {},
   "outputs": [],
   "source": [
    "# Exercice\n",
    "# reprenez les données de l'IMC de l'exercice passé\n",
    "# Puis d'après les informations officielles concernant cet indicateur\n",
    "# Si IMC < 18.5 afficher 'Insuffisance pondérale'\n",
    "# Si IMC compris entre 18.5 et 25 afficher 'Corpulance normale'\n",
    "# Si IMC compris entre 25 à 30 afficher 'Surpoids'\n",
    "# Si IMC compris entre 30 à 40 afficher 'obésité'\n",
    "\n",
    "# Refaite le même exercice pour les individus suivants:\n",
    "individu1 = {'poids': 75, 'taille': 1.68 }\n",
    "individu2 = {'poids': 105, 'taille': 1.68 }\n",
    "individu3 = {'poids': 88, 'taille': 1.88 }\n",
    "individu4 = {'poids': 65, 'taille': 1.78 }"
   ]
  },
  {
   "cell_type": "markdown",
   "id": "57d8d616-a4c4-484f-bd7f-a664e98de00b",
   "metadata": {},
   "source": [
    "## Boucle for"
   ]
  },
  {
   "cell_type": "code",
   "execution_count": 24,
   "id": "63b61194-d2c8-43cc-98b4-8c3af7561a00",
   "metadata": {},
   "outputs": [],
   "source": [
    "# Les boucles permettent de parcourir un itérable et d'itérer selon les valeurs successives contenues dans l'itérables\n",
    "\n",
    "# Syntaxe de for: (Méthode 1)\n",
    "# for index in index in range(len(tableau)):\n",
    "#     print(array[index])\n",
    "\n",
    "# Syntaxe de for: (Méthode 2)\n",
    "# for value in array:\n",
    "#     print(value)"
   ]
  },
  {
   "cell_type": "code",
   "execution_count": 31,
   "id": "73da07ad-deb6-4a28-9dc3-1334140f8bc7",
   "metadata": {},
   "outputs": [
    {
     "name": "stdout",
     "output_type": "stream",
     "text": [
      "1 2 4 55 66 100 "
     ]
    }
   ],
   "source": [
    "# Exemple (Méthode 1):\n",
    "tableau = [1, 2, 4, 55, 66, 100]\n",
    "\n",
    "for index in range(len(tableau)):\n",
    "    print(tableau[index], end=' ')"
   ]
  },
  {
   "cell_type": "code",
   "execution_count": 30,
   "id": "fecc3414-2707-4f99-adfe-e98fd15c887a",
   "metadata": {},
   "outputs": [
    {
     "name": "stdout",
     "output_type": "stream",
     "text": [
      "1 2 4 55 66 100 "
     ]
    }
   ],
   "source": [
    "# Exemple (Méthode 2):\n",
    "tableau = [1, 2, 4, 55, 66, 100]\n",
    "\n",
    "for value in tableau:\n",
    "    print(value, end=' ')"
   ]
  },
  {
   "cell_type": "code",
   "execution_count": 32,
   "id": "4dfd22f7-edf0-4558-b2dd-40d6b04ca436",
   "metadata": {},
   "outputs": [
    {
     "name": "stdout",
     "output_type": "stream",
     "text": [
      "0 1\n",
      "1 2\n",
      "2 4\n",
      "3 55\n",
      "4 66\n",
      "5 100\n"
     ]
    }
   ],
   "source": [
    "# Exemple (Méthode 3):\n",
    "tableau = [1, 2, 4, 55, 66, 100]\n",
    "\n",
    "# Avec la fonction enumerate(iterable) on récupère et les indexes et les valeurs\n",
    "# Pack et de Unpack\n",
    "for index, value in enumerate(tableau):\n",
    "    print(index, value)"
   ]
  },
  {
   "cell_type": "code",
   "execution_count": 33,
   "id": "07ae11af-9825-4f20-9467-597006592505",
   "metadata": {},
   "outputs": [],
   "source": [
    "# Exercice\n",
    "start_list = [x for x in range(201)]\n",
    "\n",
    "# Déterminer les valeurs paires de start_list\n",
    "# Déterminer les valeurs impaires de start_list\n",
    "# Stocker les valeurs paires dans une nouvelle liste PAIRES\n",
    "# Stocker les valeurs impaires dans une nouvelle liste IMPAIRES\n",
    "# Pour évaluer la parité on utilise le MODULO PAR 2 (N%2 ==0)\n",
    "# Puis une fois déterminer appliquer un REVERSE aux deux nouvelles liste pour les afficher en sens inverse"
   ]
  },
  {
   "cell_type": "code",
   "execution_count": 34,
   "id": "763640d7-dcfb-40c9-8deb-4d5f368b333c",
   "metadata": {},
   "outputs": [],
   "source": [
    "# Correction\n",
    "PAIRES = [x for x in start_list if x%2 == 0]\n",
    "PAIRES.reverse()\n",
    "IMPAIRES = [x for x in start_list if x%2 != 0]\n",
    "IMPAIRES.reverse()"
   ]
  },
  {
   "cell_type": "code",
   "execution_count": 35,
   "id": "36cdd5c9-2b6b-4ec9-9e07-66465acfb493",
   "metadata": {},
   "outputs": [],
   "source": [
    "# Exercice\n",
    "start_list = [1, 200, 3, 6, 1888, 32, 56, 2000]\n",
    "\n",
    "# Déterminer le minimum de cette liste en utilisant la boucle for\n",
    "# Déterminer le maximum de cette liste en utilisant la boucle for\n",
    "# Ordonner cette liste\n",
    "# Afficher cette liste"
   ]
  },
  {
   "cell_type": "code",
   "execution_count": 36,
   "id": "ee53007e-77de-420b-ac5e-e8d488efcd84",
   "metadata": {},
   "outputs": [
    {
     "name": "stdout",
     "output_type": "stream",
     "text": [
      "Minimum de la liste : 1\n"
     ]
    }
   ],
   "source": [
    "# Correction\n",
    "# Méthode simple à complexité algorithmique faible\n",
    "minimum = start_list[0]\n",
    "\n",
    "for val in start_list:\n",
    "    if val < minimum:\n",
    "        minimum = val\n",
    "        \n",
    "print('Minimum de la liste :', minimum)"
   ]
  },
  {
   "cell_type": "code",
   "execution_count": 37,
   "id": "8791cf2e-bc49-4bea-a5a2-985eb0e22ee3",
   "metadata": {},
   "outputs": [
    {
     "name": "stdout",
     "output_type": "stream",
     "text": [
      "Maximum de la liste: 2000\n"
     ]
    }
   ],
   "source": [
    "maximum = start_list[0]\n",
    "\n",
    "for val in start_list:\n",
    "    if maximum < val:\n",
    "        maximum = val\n",
    "        \n",
    "print('Maximum de la liste:', maximum)"
   ]
  },
  {
   "cell_type": "code",
   "execution_count": 38,
   "id": "9bfca294-4a07-4cbb-b7ed-7d9e92a07879",
   "metadata": {},
   "outputs": [
    {
     "name": "stdout",
     "output_type": "stream",
     "text": [
      "Liste ordonnée : [1, 3, 6, 32, 56, 200, 1888, 2000]\n"
     ]
    }
   ],
   "source": [
    "start_list.sort()\n",
    "print('Liste ordonnée :', start_list)"
   ]
  },
  {
   "cell_type": "code",
   "execution_count": 40,
   "id": "32cfc68c-a58a-49c7-9f5e-04053d0aae87",
   "metadata": {},
   "outputs": [
    {
     "data": {
      "text/plain": [
       "(1, 2000, [1, 3, 6, 32, 56, 200, 1888, 2000])"
      ]
     },
     "execution_count": 40,
     "metadata": {},
     "output_type": "execute_result"
    }
   ],
   "source": [
    "# Correction avec min et max en python\n",
    "# Utilisation des fonctions de base de python\n",
    "start_list = [1, 200, 3, 6, 1888, 32, 56, 2000]\n",
    "\n",
    "minimum  = min(start_list)\n",
    "maximum  = max(start_list)\n",
    "start_list.sort()\n",
    "\n",
    "minimum, maximum, start_list"
   ]
  },
  {
   "cell_type": "code",
   "execution_count": 43,
   "id": "5c4305de-2d6c-4d78-a975-4d57fe023d94",
   "metadata": {},
   "outputs": [
    {
     "name": "stdout",
     "output_type": "stream",
     "text": [
      "Minimum:  1\n",
      "Maximum:  2000\n",
      "Liste triée:  [1, 3, 6, 32, 56, 200, 1888, 2000]\n"
     ]
    }
   ],
   "source": [
    "# Correction naive et moins efficace\n",
    "# Méthode simple mais à complexité algorithmique élévée\n",
    "start_list = [1, 200, 3, 6, 1888, 32, 56, 2000]\n",
    "\n",
    "start_list.sort()\n",
    "\n",
    "print('Minimum: ', start_list[0])\n",
    "print('Maximum: ', start_list[-1])\n",
    "print('Liste triée: ', start_list)"
   ]
  },
  {
   "cell_type": "markdown",
   "id": "0054bc0d-848d-487f-a831-8bff80a36d93",
   "metadata": {},
   "source": [
    "## La boucle while"
   ]
  },
  {
   "cell_type": "code",
   "execution_count": 44,
   "id": "cf0f46c7-edf0-43a8-afb3-8fe26d28f851",
   "metadata": {},
   "outputs": [
    {
     "name": "stdout",
     "output_type": "stream",
     "text": [
      "0 1 2 3 4 5 6 7 8 9 "
     ]
    }
   ],
   "source": [
    "# La boucle while permet d'itérer comme le fait la boucle for \n",
    "# La particularité c'est quelle s'appuie sur une condition\n",
    "# Syntaxe \n",
    "# while (condition)    Tant que c'est vrai\n",
    "#     instruction1\n",
    "#     instruction2\n",
    "#     instruction3\n",
    "#     invalider la condition pour sortir de la boucle en cas contraire à la condition évaluer\n",
    "\n",
    "# Exemple:\n",
    "var = range(10)\n",
    "checker = 0\n",
    "while checker < 10:\n",
    "    print(var[checker], end=' ')\n",
    "    checker += 1"
   ]
  },
  {
   "cell_type": "markdown",
   "id": "f8b507db-a6f4-4fb8-9320-a6c0b93c8c52",
   "metadata": {},
   "source": [
    "# Manipulation des strings"
   ]
  },
  {
   "cell_type": "code",
   "execution_count": 45,
   "id": "7efd4719-c9f4-4952-a741-5b54bed62579",
   "metadata": {},
   "outputs": [
    {
     "data": {
      "text/plain": [
       "('NOUS SOMMES EN COURS DSI006 AVEC DIT',\n",
       " 'nous sommes en cours dsi006 avec dit',\n",
       " 'Nous sommes en cours dsi006 avec dit',\n",
       " 'Nous Sommes En Cours Dsi006 Avec Dit')"
      ]
     },
     "execution_count": 45,
     "metadata": {},
     "output_type": "execute_result"
    }
   ],
   "source": [
    "# Strings sont des chaines de caractères\n",
    "# on peut les manipuler aussi presque des structures de données \n",
    "# Structures de données comme les listes les tuples etc...\n",
    "\n",
    "string = 'Nous sommes en cours DSI006 avec DIT'\n",
    "\n",
    "# utilisation de quelques fonctions usuelles\n",
    "\n",
    "UPPER      = string.upper()\n",
    "LOWER      = string.lower()\n",
    "CAPITALIZE = string.capitalize()\n",
    "TITLE      = string.title()\n",
    "\n",
    "UPPER, LOWER, CAPITALIZE, TITLE"
   ]
  },
  {
   "cell_type": "code",
   "execution_count": 46,
   "id": "573a79ce-411f-4542-bdc5-f5507db0c6c5",
   "metadata": {},
   "outputs": [
    {
     "data": {
      "text/plain": [
       "['Nous', 'sommes', 'en', 'cours', 'DSI006', 'avec', 'DIT']"
      ]
     },
     "execution_count": 46,
     "metadata": {},
     "output_type": "execute_result"
    }
   ],
   "source": [
    "# Transformer une chaine de caractères en tableau\n",
    "# Utilisation de la fonction split(separateur)\n",
    "# Exemple: <string>.split('\\n')\n",
    "string        = 'Nous sommes en cours DSI006 avec DIT'\n",
    "tableauString = string.split()\n",
    "tableauString"
   ]
  },
  {
   "cell_type": "code",
   "execution_count": 47,
   "id": "9d9e95fd-cb76-41d9-abdd-a02d4e4c8ac9",
   "metadata": {},
   "outputs": [
    {
     "data": {
      "text/plain": [
       "['Nous ', ' en cours DSI006 avec DIT']"
      ]
     },
     "execution_count": 47,
     "metadata": {},
     "output_type": "execute_result"
    }
   ],
   "source": [
    "tableauString = string.split('sommes')\n",
    "tableauString"
   ]
  },
  {
   "cell_type": "code",
   "execution_count": 48,
   "id": "36574493-3658-43fc-b3bc-9d734172d860",
   "metadata": {},
   "outputs": [
    {
     "data": {
      "text/plain": [
       "'Nous soes en cours DSI006 avec DIT'"
      ]
     },
     "execution_count": 48,
     "metadata": {},
     "output_type": "execute_result"
    }
   ],
   "source": [
    "# Utilisation de la fonction replace\n",
    "# Syntaxe <string>.replace(start_char, final_char)\n",
    "# Exemple: <string>.replace('s', 'o')\n",
    "\n",
    "string = 'Nous sommes en cours DSI006 avec DIT'\n",
    "new_string = string.replace('m', '')\n",
    "new_string"
   ]
  },
  {
   "cell_type": "code",
   "execution_count": 49,
   "id": "61421dd8-0fb4-40ab-82fc-cf61984330f3",
   "metadata": {},
   "outputs": [],
   "source": [
    "t = 1, 2, 'Ali'"
   ]
  },
  {
   "cell_type": "code",
   "execution_count": 50,
   "id": "e69d3b03-f540-431c-bdf2-175dfb828fad",
   "metadata": {},
   "outputs": [
    {
     "data": {
      "text/plain": [
       "(1, 2, 'Ali')"
      ]
     },
     "execution_count": 50,
     "metadata": {},
     "output_type": "execute_result"
    }
   ],
   "source": [
    "t"
   ]
  },
  {
   "cell_type": "code",
   "execution_count": 51,
   "id": "abb93201-a679-4fd6-956b-f99d525bd14c",
   "metadata": {},
   "outputs": [],
   "source": [
    "x, y, z = t"
   ]
  },
  {
   "cell_type": "code",
   "execution_count": 52,
   "id": "1a9928e6-cf2a-4ade-b638-efc5953c9408",
   "metadata": {},
   "outputs": [
    {
     "data": {
      "text/plain": [
       "(1, 2)"
      ]
     },
     "execution_count": 52,
     "metadata": {},
     "output_type": "execute_result"
    }
   ],
   "source": [
    "x, y"
   ]
  },
  {
   "cell_type": "markdown",
   "id": "6274ca02-897b-46a1-822f-b4b961dd19da",
   "metadata": {},
   "source": [
    "# Les fonctions d'entrée et sortie (I/O)"
   ]
  },
  {
   "cell_type": "code",
   "execution_count": 7,
   "id": "90a35040-66c9-4cce-8a9e-2ebd839a321e",
   "metadata": {},
   "outputs": [
    {
     "name": "stdout",
     "output_type": "stream",
     "text": [
      "Maodo Sene\n",
      "Lamine Faty\n",
      "Nous sommes à la formation DSI006\n"
     ]
    }
   ],
   "source": [
    "# Une fonction d'entrée permet d'interagir avec un utilisateur final pour recevoir des données\n",
    "# Une fonction de sortie permet d'afficher à la console une donnée ou des données\n",
    "# La fonction usuelle d'entrée en python3 est INPUT() (python2: raw_input)\n",
    "# La syntaxe est: input('Instruction....')\n",
    "# La fonction usuelle de sortie en python3 est PRINT() (python2: print ___ instruction)\n",
    "# La syntaxe est: print('Instruction.......')\n",
    "\n",
    "print('Maodo Sene')\n",
    "print('Lamine Faty')\n",
    "print('Nous sommes à la formation DSI006')"
   ]
  },
  {
   "cell_type": "code",
   "execution_count": 8,
   "id": "23103ad3-e820-4515-9c3b-0d73bfdb02a5",
   "metadata": {},
   "outputs": [
    {
     "name": "stdout",
     "output_type": "stream",
     "text": [
      "Nom: Maodo, Prénom: Sene, Profession: Chef de projet\n"
     ]
    }
   ],
   "source": [
    "# Afficher des variables avec print (Méthode 1)\n",
    "first_name = 'Maodo'\n",
    "last_name = 'Sene'\n",
    "profession = 'Chef de projet'\n",
    "\n",
    "print(f'Nom: {first_name}, Prénom: {last_name}, Profession: {profession}')"
   ]
  },
  {
   "cell_type": "code",
   "execution_count": 9,
   "id": "8448891c-394c-4e29-89cb-8da1af30c0e9",
   "metadata": {},
   "outputs": [
    {
     "name": "stdout",
     "output_type": "stream",
     "text": [
      "Nom: Maodo, Prénom: Sene, Profession: Chef de projet\n"
     ]
    }
   ],
   "source": [
    "# Afficher des variables avec print (Méthode 2)\n",
    "first_name = 'Maodo'\n",
    "last_name = 'Sene'\n",
    "profession = 'Chef de projet'\n",
    "\n",
    "print('Nom: {0}, Prénom: {1}, Profession: {2}'.format(first_name, last_name, profession))"
   ]
  },
  {
   "cell_type": "code",
   "execution_count": 10,
   "id": "f95d5756-3689-40f6-88cc-e5df2b58063a",
   "metadata": {},
   "outputs": [
    {
     "ename": "IndexError",
     "evalue": "Replacement index 1 out of range for positional args tuple",
     "output_type": "error",
     "traceback": [
      "\u001b[0;31m---------------------------------------------------------------------------\u001b[0m",
      "\u001b[0;31mIndexError\u001b[0m                                Traceback (most recent call last)",
      "Input \u001b[0;32mIn [10]\u001b[0m, in \u001b[0;36m<module>\u001b[0;34m\u001b[0m\n\u001b[1;32m      4\u001b[0m last_name \u001b[38;5;241m=\u001b[39m \u001b[38;5;124m'\u001b[39m\u001b[38;5;124mSene\u001b[39m\u001b[38;5;124m'\u001b[39m\n\u001b[1;32m      5\u001b[0m profession \u001b[38;5;241m=\u001b[39m \u001b[38;5;124m'\u001b[39m\u001b[38;5;124mChef de projet\u001b[39m\u001b[38;5;124m'\u001b[39m\n\u001b[0;32m----> 7\u001b[0m \u001b[38;5;28mprint\u001b[39m(\u001b[38;5;124;43m'\u001b[39;49m\u001b[38;5;124;43mNom: \u001b[39;49m\u001b[38;5;132;43;01m{1}\u001b[39;49;00m\u001b[38;5;124;43m'\u001b[39;49m\u001b[38;5;241;43m.\u001b[39;49m\u001b[43mformat\u001b[49m\u001b[43m(\u001b[49m\u001b[43mfirst_name\u001b[49m\u001b[43m)\u001b[49m)\n",
      "\u001b[0;31mIndexError\u001b[0m: Replacement index 1 out of range for positional args tuple"
     ]
    }
   ],
   "source": [
    "# Afficher des variables avec print (Méthode 2)\n",
    "# Remarque: Génération d'exception suite aux indexes mal choisis\n",
    "first_name = 'Maodo'\n",
    "last_name = 'Sene'\n",
    "profession = 'Chef de projet'\n",
    "\n",
    "print('Nom: {1}'.format(first_name)) # index 1 rejeté"
   ]
  },
  {
   "cell_type": "code",
   "execution_count": 11,
   "id": "a668224b-9f42-4c5a-aa1f-491b75fa0e54",
   "metadata": {},
   "outputs": [
    {
     "name": "stdout",
     "output_type": "stream",
     "text": [
      "Nom: Maodo\n"
     ]
    }
   ],
   "source": [
    "# Afficher des variables avec print (Méthode 2)\n",
    "# Remarque: Génération d'exception suite aux indexes mal choisis\n",
    "first_name = 'Maodo'\n",
    "last_name = 'Sene'\n",
    "profession = 'Chef de projet'\n",
    "\n",
    "print('Nom: {0}'.format(first_name)) # index 0 accepté"
   ]
  },
  {
   "cell_type": "code",
   "execution_count": 12,
   "id": "7d5dd7a7-5875-4e76-8db7-836b6c7d7298",
   "metadata": {},
   "outputs": [
    {
     "name": "stdout",
     "output_type": "stream",
     "text": [
      "Nom: Maodo\n"
     ]
    }
   ],
   "source": [
    "# Afficher des variables avec print (Méthode 2)\n",
    "# Remarque: Génération d'exception suite aux indexes mal choisis\n",
    "# En conclusion avec la méthode format les indexes se comportent comme ceux d'une liste ou d'un tuple\n",
    "first_name = 'Maodo'\n",
    "last_name = 'Sene'\n",
    "profession = 'Chef de projet'\n",
    "\n",
    "print('Nom: {}'.format(first_name)) # index 0 accepté. Ici {} <==> {0}"
   ]
  },
  {
   "cell_type": "code",
   "execution_count": 13,
   "id": "72f3d171-b8a2-4450-837f-f7229ea69c04",
   "metadata": {},
   "outputs": [
    {
     "name": "stdout",
     "output_type": "stream",
     "text": [
      "Nom: Maodo\n",
      "Prénom: Sene\n",
      "Profession: Chef de projet\n"
     ]
    }
   ],
   "source": [
    "# Afficher des variables avec print (Méthode 3)\n",
    "# En sommes choississez la méthode la plus aisée pour vous.\n",
    "# Toutes les méthodes se valent\n",
    "first_name = 'Maodo'\n",
    "last_name = 'Sene'\n",
    "profession = 'Chef de projet'\n",
    "\n",
    "print('Nom: %s' % first_name)\n",
    "print('Prénom: %s' % last_name)\n",
    "print('Profession: %s' % profession)"
   ]
  },
  {
   "cell_type": "code",
   "execution_count": 14,
   "id": "838823b3-203c-428b-8cf0-616f98d1bc1b",
   "metadata": {},
   "outputs": [
    {
     "name": "stdin",
     "output_type": "stream",
     "text": [
      "Entrer votre nom svp?  MAODO\n"
     ]
    }
   ],
   "source": [
    "# Utilisation de la fonction input\n",
    "name = input('Entrer votre nom svp? ')"
   ]
  },
  {
   "cell_type": "code",
   "execution_count": 15,
   "id": "a912a99c-0247-401d-ac85-ac7cd7b84ae0",
   "metadata": {},
   "outputs": [
    {
     "data": {
      "text/plain": [
       "'MAODO'"
      ]
     },
     "execution_count": 15,
     "metadata": {},
     "output_type": "execute_result"
    }
   ],
   "source": [
    "name"
   ]
  },
  {
   "cell_type": "code",
   "execution_count": 18,
   "id": "80681be1-9966-405f-b64e-9dfdfe9703ce",
   "metadata": {},
   "outputs": [
    {
     "name": "stdin",
     "output_type": "stream",
     "text": [
      "Entrer votre age svp?  18\n"
     ]
    }
   ],
   "source": [
    "# Utilisation de la fonction input\n",
    "age = int(input('Entrer votre age svp? '))\n",
    "#age = float(input('Entrer votre age svp? '))\n",
    "#age = str(input('Entrer votre age svp? '))"
   ]
  },
  {
   "cell_type": "code",
   "execution_count": 19,
   "id": "673ae558-6e9e-4a04-b49c-6123fa35c82b",
   "metadata": {},
   "outputs": [
    {
     "data": {
      "text/plain": [
       "18"
      ]
     },
     "execution_count": 19,
     "metadata": {},
     "output_type": "execute_result"
    }
   ],
   "source": [
    "age"
   ]
  },
  {
   "cell_type": "code",
   "execution_count": 20,
   "id": "c12cc183-8fd4-4cbe-91ba-b3c10a6aa7f9",
   "metadata": {},
   "outputs": [
    {
     "name": "stdin",
     "output_type": "stream",
     "text": [
      "Entrer nom, prenom, age MAODO, Sene, 42\n"
     ]
    }
   ],
   "source": [
    "informations = input('Entrer nom, prenom, age')"
   ]
  },
  {
   "cell_type": "code",
   "execution_count": 21,
   "id": "a1a9d673-03e1-457e-a44f-5701bf3dcc87",
   "metadata": {},
   "outputs": [
    {
     "data": {
      "text/plain": [
       "'MAODO, Sene, 42'"
      ]
     },
     "execution_count": 21,
     "metadata": {},
     "output_type": "execute_result"
    }
   ],
   "source": [
    "informations"
   ]
  },
  {
   "cell_type": "code",
   "execution_count": 28,
   "id": "84f17eee-3dd7-4ba0-9963-82fba67950bf",
   "metadata": {},
   "outputs": [
    {
     "data": {
      "text/plain": [
       "['MAODO', 'Sene', '42']"
      ]
     },
     "execution_count": 28,
     "metadata": {},
     "output_type": "execute_result"
    }
   ],
   "source": [
    "# recupérer plusieurs donnée avec input et split\n",
    "informations.replace(' ', '').split(',')"
   ]
  },
  {
   "cell_type": "code",
   "execution_count": 36,
   "id": "cc280892-fbc8-4965-be21-e9f094746197",
   "metadata": {},
   "outputs": [
    {
     "data": {
      "text/plain": [
       "['MAODO', 'Sene', '42']"
      ]
     },
     "execution_count": 36,
     "metadata": {},
     "output_type": "execute_result"
    }
   ],
   "source": [
    "# Méthode alternative à <string>.replace(' ', '')\n",
    "informations.strip().split(',')"
   ]
  },
  {
   "cell_type": "code",
   "execution_count": 29,
   "id": "8a7a7c1b-70a3-463b-b2fb-19e016377029",
   "metadata": {},
   "outputs": [],
   "source": [
    "# Exercice\n",
    "# reprenez le calcule de l'IMC\n",
    "# En demandant à la console le poids\n",
    "# En demandant à la console la taille\n",
    "# En calculant alors l'IMC puis en l'affichant"
   ]
  },
  {
   "cell_type": "code",
   "execution_count": 35,
   "id": "db8aae13-7813-4576-89b4-3237ff0f8896",
   "metadata": {},
   "outputs": [
    {
     "name": "stdin",
     "output_type": "stream",
     "text": [
      "Entrz le poids :  188\n",
      "Entrz la taille :  1.88\n"
     ]
    },
    {
     "name": "stdout",
     "output_type": "stream",
     "text": [
      "l'IMC est de  53.19 kg/m²\n"
     ]
    }
   ],
   "source": [
    "# Exercice\n",
    "# reprenez le calcule de l'IMC\n",
    "# En demandant à la console le poids\n",
    "poids = int(input('Entrz le poids : '))\n",
    "# En demandant à la console la taille\n",
    "taille = float(input('Entrz la taille : '))          \n",
    "# En calculant alors l'IMC puis en l'affichant\n",
    "IMC = poids/taille**2\n",
    "print(f\"l'IMC est de {IMC: .2f} kg/m²\")"
   ]
  },
  {
   "cell_type": "code",
   "execution_count": 62,
   "id": "5fa3ad9e-e0d6-4dbb-86a0-9c15c511f532",
   "metadata": {},
   "outputs": [],
   "source": [
    "# Exercice\n",
    "data = \"\"\"\n",
    "Lorem ipsum dolor sit amet consectetur adipisicing elit. Maxime mollitia,\n",
    "molestiae quas vel sint commodi repudiandae consequuntur voluptatum laborum\n",
    "numquam blanditiis harum quisquam eius sed odit fugiat iusto fuga praesentium\n",
    "optio, eaque rerum! Provident similique accusantium nemo autem.\n",
    "\"\"\"\n",
    "\n",
    "# Avec les fonctions appliquées aux strings \n",
    "# Nettoyer cette phrase et obtenez que la liste contenant les mots de cette phrase\n",
    "# Puis dans une liste afficher chacun de ces mots comme suit:\n",
    "# Chaque élément de cette liste doit être de la forme (Mot, Index, Poids)\n",
    "# Ici le Mot = mot\n",
    "# Ici Index = Position du mot dans la liste\n",
    "# Ici le Poids = Représente la taille du mot\n",
    "# Puis Ordonner par ordre décroissant les mots selon leur poids\n",
    "# Puis déterminer le mot ayant le plus grand poids\n",
    "# Puis déterminer le mot ayant le plus petit poids"
   ]
  },
  {
   "cell_type": "code",
   "execution_count": 83,
   "id": "ca6ec760-b993-4dcc-a9cb-707187ff1959",
   "metadata": {},
   "outputs": [
    {
     "data": {
      "text/plain": [
       "(('sed', 23, 3), ('praesentiumoptio', 28, 16))"
      ]
     },
     "execution_count": 83,
     "metadata": {},
     "output_type": "execute_result"
    }
   ],
   "source": [
    "data = \"\"\"\n",
    "Lorem ipsum dolor sit amet consectetur adipisicing elit. Maxime mollitia,\n",
    "molestiae quas vel sint commodi repudiandae consequuntur voluptatum laborum\n",
    "numquam blanditiis harum quisquam eius sed odit fugiat iusto fuga praesentium\n",
    "optio, eaque rerum! Provident similique accusantium nemo autem.\n",
    "\"\"\"\n",
    "\n",
    "data = data.replace('\\n', '').replace('.', '').replace('!', '').replace(',',', ').replace(',', '').replace('  ', ' ').split(' ')\n",
    "data = [(x, y, len(x)) for y,x in enumerate(data)]\n",
    "data = sorted(data, reverse=True, key=lambda list: list[2])\n",
    "maximum = data[0]\n",
    "minimum = data[-1]\n",
    "#data\n",
    "minimum, maximum"
   ]
  },
  {
   "cell_type": "markdown",
   "id": "0b9438df-781c-4e6d-92b4-c8db1f701e80",
   "metadata": {},
   "source": [
    "## Utilisation du mot clé assert"
   ]
  },
  {
   "cell_type": "code",
   "execution_count": 85,
   "id": "07689ecf-5433-475f-965f-8e7a384f8948",
   "metadata": {},
   "outputs": [],
   "source": [
    "# Le mot clé assert permet d'évaluer une condition\n",
    "# Ce mot clé renvoie une exception si la condition évaluée est fausse\n",
    "# Ce mot clé n'émet pas d'exception en cas de condition évaluée à vraie\n",
    "age = 20\n",
    "\n",
    "# Exemple 1\n",
    "assert age == 20"
   ]
  },
  {
   "cell_type": "code",
   "execution_count": 86,
   "id": "57769921-488f-489b-8595-00fb27e23dad",
   "metadata": {},
   "outputs": [
    {
     "ename": "AssertionError",
     "evalue": "",
     "output_type": "error",
     "traceback": [
      "\u001b[0;31m---------------------------------------------------------------------------\u001b[0m",
      "\u001b[0;31mAssertionError\u001b[0m                            Traceback (most recent call last)",
      "Input \u001b[0;32mIn [86]\u001b[0m, in \u001b[0;36m<module>\u001b[0;34m\u001b[0m\n\u001b[1;32m      1\u001b[0m \u001b[38;5;66;03m# Exemple 2\u001b[39;00m\n\u001b[0;32m----> 2\u001b[0m \u001b[38;5;28;01massert\u001b[39;00m age \u001b[38;5;241m==\u001b[39m \u001b[38;5;241m30\u001b[39m\n",
      "\u001b[0;31mAssertionError\u001b[0m: "
     ]
    }
   ],
   "source": [
    "# Exemple 2\n",
    "assert age == 30"
   ]
  },
  {
   "cell_type": "markdown",
   "id": "2f5b4feb-99e6-4060-a90d-c2daa1cc3d3a",
   "metadata": {},
   "source": [
    "# Les fonctions"
   ]
  },
  {
   "cell_type": "code",
   "execution_count": 87,
   "id": "4e42bfa1-f8ca-4674-ae88-4cf85e1452cc",
   "metadata": {},
   "outputs": [],
   "source": [
    "# Une fonction permet de regrouper en un bloc un ensemble d'instructions\n",
    "# Ces instructions doivent être répétitives pour afin de donner lieu à l'utilisation impérative d'une fonction\n",
    "# Ces instructions doivent ne résoudre qu'un seul problème afin d'être optimal et smart\n",
    "\n",
    "# Syntaxe: def <nomFonction>(args1, args2, args3, .....):\n",
    "#              Instruction1\n",
    "#              Instruction2\n",
    "#              ............\n",
    "#              InstructionN\n",
    "#              return resultat1, resultat2, ..., resultatN"
   ]
  },
  {
   "cell_type": "code",
   "execution_count": 91,
   "id": "94884069-a735-4ba1-938c-f101f9dbd2e4",
   "metadata": {},
   "outputs": [
    {
     "data": {
      "text/plain": [
       "'Majeur'"
      ]
     },
     "execution_count": 91,
     "metadata": {},
     "output_type": "execute_result"
    }
   ],
   "source": [
    "# Exemple d'une fonction qui détermine la majorité d'un individu\n",
    "\n",
    "# Approche naive\n",
    "def isMajor(age):\n",
    "    if age > 18:\n",
    "        return 'Majeur'\n",
    "    else:\n",
    "        return 'Mineur'\n",
    "\n",
    "# Approche plus smart\n",
    "# Optimisation du code\n",
    "def isMajor2(age):\n",
    "    if age > 18:\n",
    "        return 'Majeur'\n",
    "    return 'Mineur'\n",
    "\n",
    "# Meilleure approche\n",
    "# Utilisation d'une condition ternaire\n",
    "def isMajor3(age):\n",
    "    return 'Majeur' if age > 18 else 'Mineur'\n",
    "\n",
    "\n",
    "isMajor3(20)"
   ]
  },
  {
   "cell_type": "code",
   "execution_count": 4,
   "id": "7ef19068-1846-4ecc-8c87-06dde9e06147",
   "metadata": {},
   "outputs": [
    {
     "name": "stdout",
     "output_type": "stream",
     "text": [
      "Majeur\n"
     ]
    }
   ],
   "source": [
    "# Les fonctions imbriquées\n",
    "# En python nous pouvons écrire des fonctions qui contiennent d'autres fonctions\n",
    "# On parle en terme courant de WRAPPER. Ces fonctions sont utiliser généralement comme des DECORATEUR\n",
    "# Un décorateur est une fonction qu s'exécute avant une autre\n",
    "# décorateur, Syntaxe: @<nomDeFonction>(args1, ..., argsN) Les arguments sont les arguments de la fonction qu'il décore\n",
    "\n",
    "#Exemple\n",
    "\n",
    "def isMajor(age):\n",
    "    def checkIfIsInteger():\n",
    "        return isinstance(age, int)\n",
    "    \n",
    "    def checkIsAge(age):\n",
    "        return age > 18\n",
    "    \n",
    "    def toFormat(age):\n",
    "        return 'Majeur' if checkIsAge(age) else 'Mineur'\n",
    "    \n",
    "    return toFormat(age)\n",
    "\n",
    "# La fonction isMajor est la fonction WRAPPER\n",
    "# Les fonctions qui sont à l'intérieure exécutent un ensemble de processus\n",
    "# Remarquer que le WRAPPER return des le résultat de l'un des fonctions de traitements\n",
    "print(isMajor(20))"
   ]
  },
  {
   "cell_type": "code",
   "execution_count": 9,
   "id": "ab4d8fbf-7de3-44c3-ba43-fca69bee839f",
   "metadata": {},
   "outputs": [
    {
     "name": "stdout",
     "output_type": "stream",
     "text": [
      "Majeur\n",
      "Mineur\n"
     ]
    }
   ],
   "source": [
    "# Dans la syntaxe des fonctions\n",
    "# Python3 nous permet aujourd'hui de préciser le type des arguments en entrée\n",
    "# Ainsi la signature d'une fonctin s'accompagne des types de arguments en entrée\n",
    "\n",
    "def isMajor1(age: int):\n",
    "    return 'Majeur' if age > 18 else 'Mineur'\n",
    "\n",
    "# Dans la syntaxe des fonctions\n",
    "# Python3 nous permet aussi de donner le type du résultat\n",
    "# Cette syntaxe est valable à partir des versions 3.7+\n",
    "def isMajor2(age: int) -> str:\n",
    "    return 'Majeur' if age > 18 else 'Mineur'\n",
    "\n",
    "print(isMajor1(18.12))\n",
    "print(isMajor2(18))"
   ]
  },
  {
   "cell_type": "code",
   "execution_count": 11,
   "id": "c77a15eb-1945-4730-b3ee-b7a0a6bf65a5",
   "metadata": {},
   "outputs": [
    {
     "data": {
      "text/plain": [
       "(True, True, True)"
      ]
     },
     "execution_count": 11,
     "metadata": {},
     "output_type": "execute_result"
    }
   ],
   "source": [
    "# Dans le controle des types de variables attendues\n",
    "# L'utilisation de la méthode ISINSTANCE permet de faire cette vérification\n",
    "# Cette fonction retourne un booléen\n",
    "\n",
    "var, var2, var3 = [], (), {}\n",
    "\n",
    "varTest = isinstance(var, list)\n",
    "var2Test = isinstance(var2, tuple)\n",
    "var3Test = isinstance(var3, dict)\n",
    "\n",
    "varTest, var2Test, var3Test"
   ]
  },
  {
   "cell_type": "markdown",
   "id": "848171db-920f-4913-be07-7902a816bbaf",
   "metadata": {},
   "source": [
    "## La gestion des exceptions"
   ]
  },
  {
   "cell_type": "code",
   "execution_count": 12,
   "id": "95e5c476-c0e7-4d86-b7d2-3bdc07d537c0",
   "metadata": {},
   "outputs": [],
   "source": [
    "# Une Exception est une erreur levée par l'interpreteur afin de signaler une anomalie\n",
    "# Pour la capture de ces Exceptions python prévoit l'ultilisation du TRY/EXCEPT\n",
    "# Syntaxe:\n",
    "# try:\n",
    "#     Instruction1\n",
    "#     Instruction2\n",
    "#     ............\n",
    "#     InstructionN\n",
    "# except Exception|<nomException> as e:\n",
    "#     Instruction en cas d'exception"
   ]
  },
  {
   "cell_type": "code",
   "execution_count": 18,
   "id": "2b43bfdc-8b49-4e9c-ae77-d5e8ff3a1afb",
   "metadata": {},
   "outputs": [
    {
     "ename": "ZeroDivisionError",
     "evalue": "division by zero",
     "output_type": "error",
     "traceback": [
      "\u001b[0;31m---------------------------------------------------------------------------\u001b[0m",
      "\u001b[0;31mZeroDivisionError\u001b[0m                         Traceback (most recent call last)",
      "Input \u001b[0;32mIn [18]\u001b[0m, in \u001b[0;36m<module>\u001b[0;34m\u001b[0m\n\u001b[1;32m     40\u001b[0m         \u001b[38;5;28;01mreturn\u001b[39;00m \u001b[38;5;241m0\u001b[39m\n\u001b[1;32m     42\u001b[0m \u001b[38;5;66;03m# print(div2Number(1, 2))\u001b[39;00m\n\u001b[0;32m---> 43\u001b[0m \u001b[38;5;28mprint\u001b[39m(\u001b[43mdiv2Number\u001b[49m\u001b[43m(\u001b[49m\u001b[38;5;241;43m1\u001b[39;49m\u001b[43m,\u001b[49m\u001b[43m \u001b[49m\u001b[38;5;241;43m0\u001b[39;49m\u001b[43m)\u001b[49m)\n",
      "Input \u001b[0;32mIn [18]\u001b[0m, in \u001b[0;36mdiv2Number\u001b[0;34m(num1, num2, mode)\u001b[0m\n\u001b[1;32m      5\u001b[0m \u001b[38;5;28;01mdef\u001b[39;00m \u001b[38;5;21mdiv2Number\u001b[39m(num1: \u001b[38;5;28mfloat\u001b[39m,\n\u001b[1;32m      6\u001b[0m                num2: \u001b[38;5;28mfloat\u001b[39m,\n\u001b[1;32m      7\u001b[0m                mode: \u001b[38;5;28mstr\u001b[39m \u001b[38;5;241m=\u001b[39m \u001b[38;5;124m'\u001b[39m\u001b[38;5;124m/\u001b[39m\u001b[38;5;124m'\u001b[39m):\n\u001b[1;32m      8\u001b[0m     \u001b[38;5;28;01mif\u001b[39;00m mode \u001b[38;5;241m==\u001b[39m \u001b[38;5;124m'\u001b[39m\u001b[38;5;124m/\u001b[39m\u001b[38;5;124m'\u001b[39m:\n\u001b[0;32m----> 9\u001b[0m         div \u001b[38;5;241m=\u001b[39m \u001b[43mnum1\u001b[49m\u001b[43m \u001b[49m\u001b[38;5;241;43m/\u001b[39;49m\u001b[43m \u001b[49m\u001b[43mnum2\u001b[49m\n\u001b[1;32m     10\u001b[0m         \u001b[38;5;28;01mreturn\u001b[39;00m div\n\u001b[1;32m     11\u001b[0m     div \u001b[38;5;241m=\u001b[39m num1 \u001b[38;5;241m/\u001b[39m\u001b[38;5;241m/\u001b[39m num2\n",
      "\u001b[0;31mZeroDivisionError\u001b[0m: division by zero"
     ]
    }
   ],
   "source": [
    "def jumpNextLine():\n",
    "    print('\\n')\n",
    "\n",
    "\n",
    "def div2Number(num1: float,\n",
    "               num2: float,\n",
    "               mode: str = '/'):\n",
    "    if mode == '/':\n",
    "        div = num1 / num2\n",
    "        return div\n",
    "    div = num1 // num2\n",
    "    return div\n",
    "\n",
    "\n",
    "def div2NumberExc(num1: float,\n",
    "                  num2: float,\n",
    "                  mode: str = '/'):\n",
    "    try:\n",
    "        if mode == '/':\n",
    "            div = num1 / num2\n",
    "            return div\n",
    "        div = num1 // num2\n",
    "    except ZeroDivisionError as Exc:\n",
    "        return 0\n",
    "    else:\n",
    "        return div\n",
    "\n",
    "\n",
    "def div2NumberExc2(num1: float,\n",
    "                   num2: float,\n",
    "                   mode: str = '/'):\n",
    "    try:\n",
    "        if mode == '/':\n",
    "            div = num1 / num2\n",
    "            return div\n",
    "        div = num1 // num2\n",
    "        return div\n",
    "    except Exception as Exc:\n",
    "        print(type(Exc))\n",
    "        return 0\n",
    "    \n",
    "# print(div2Number(1, 2))\n",
    "print(div2Number(1, 0))"
   ]
  },
  {
   "cell_type": "code",
   "execution_count": 19,
   "id": "42560092-8f17-4e7a-ba48-1ca87f439208",
   "metadata": {},
   "outputs": [
    {
     "name": "stdout",
     "output_type": "stream",
     "text": [
      "0\n"
     ]
    }
   ],
   "source": [
    "print(div2NumberExc(1, 0))"
   ]
  },
  {
   "cell_type": "code",
   "execution_count": 20,
   "id": "cde8c394-0dab-40ca-83d2-7277261e7e76",
   "metadata": {},
   "outputs": [
    {
     "name": "stdout",
     "output_type": "stream",
     "text": [
      "<class 'ZeroDivisionError'>\n",
      "<class 'int'>\n"
     ]
    }
   ],
   "source": [
    "print(type(div2NumberExc2(1, 0)))"
   ]
  },
  {
   "cell_type": "code",
   "execution_count": 21,
   "id": "e5ec5754-5088-4ee2-9dbf-a33a8d370de3",
   "metadata": {},
   "outputs": [
    {
     "data": {
      "text/plain": [
       "0.5"
      ]
     },
     "execution_count": 21,
     "metadata": {},
     "output_type": "execute_result"
    }
   ],
   "source": [
    "div2NumberExc(1,2)"
   ]
  },
  {
   "cell_type": "code",
   "execution_count": 22,
   "id": "db24ee80-3c93-4a15-b15d-54654c0b98ee",
   "metadata": {},
   "outputs": [
    {
     "data": {
      "text/plain": [
       "\"\\nDemander à l'utilisateur de renseigner un nombre entier supérieur à 10 pour le temps. Tant que la condition n'est pas respectée répéter l'instruction jusquà ce qu'il donne la bonne valeur\\nDemander lui de renseigner la distance qui soit positive et supérieur à 28.8. Tant que ces conditions ne sont pas respectées redemander le jusquà obtention de la bonne distance\\nConvertisser le résultat de la vitesse en:\\n    1. m/s\\n    2. m/ms\\n    3. km/s\\n    4. km/ms\\n\""
      ]
     },
     "execution_count": 22,
     "metadata": {},
     "output_type": "execute_result"
    }
   ],
   "source": [
    "\"\"\"\n",
    "Demander à l'utilisateur de renseigner un nombre entier supérieur à 10 pour le temps. Tant que la condition n'est pas respectée répéter l'instruction jusquà ce qu'il donne la bonne valeur\n",
    "Demander lui de renseigner la distance qui soit positive et supérieur à 28.8. Tant que ces conditions ne sont pas respectées redemander le jusquà obtention de la bonne distance\n",
    "Convertisser le résultat de la vitesse en:\n",
    "    1. m/s\n",
    "    2. m/ms\n",
    "    3. km/s\n",
    "    4. km/ms\n",
    "\"\"\"\n",
    "\n",
    "# Ecrire une fonction tackeTime() qui permet de récupérer le temps selon les critères définis dans l'énoncé\n",
    "# Ecrire une fonction takeDistance() qui permet de récupérer la distance selon les critères définis dans l'énoncé\n",
    "# Ecrire une fonction calcVitesse(time: float, distance: float) et retourne la vitesse\n",
    "# Ecrire une fonction formatVitesse(vitesse: float) et qui affiche selon les 4 modalités d'affiches définies\n",
    "# Puis regrouper les quatre fonction dans une fonction globale main()\n",
    "# Puis éxécuter"
   ]
  },
  {
   "cell_type": "code",
   "execution_count": 24,
   "id": "5a3af6e6-f26e-4979-8254-47803d888c5d",
   "metadata": {},
   "outputs": [
    {
     "name": "stdin",
     "output_type": "stream",
     "text": [
      "Renseigner un nombre entier supérieur à 10 pour le temps : 12\n",
      "Entrer un nombre positif et supérieur à 28.8 pour la distance: 30\n"
     ]
    },
    {
     "name": "stdout",
     "output_type": "stream",
     "text": [
      "--------------------------\n",
      "Vitesse en m/s: 2.5\n",
      "--------------------------\n",
      "Vitesse en m/ms: 0.0025\n",
      "--------------------------\n",
      "Vitesse en km/s: 2500.0\n",
      "--------------------------\n",
      "Vitesse en km/ms: 2.5e-06\n",
      "--------------------------\n"
     ]
    }
   ],
   "source": [
    "def takeTime():\n",
    "    while True:\n",
    "        temps = float(input(\"Renseigner un nombre entier supérieur à 10 pour le temps :\"))\n",
    "        if temps>10:\n",
    "            break\n",
    "    return temps\n",
    "\n",
    "def takeDistance():\n",
    "    while True:\n",
    "        distance = float(input(\"Entrer un nombre positif et supérieur à 28.8 pour la distance:\"))\n",
    "        if distance>28.8:\n",
    "            break\n",
    "    return distance\n",
    "\n",
    "def calcVitesse(temps: float, \n",
    "                distance: float):\n",
    "    try:\n",
    "        vitesse = distance/temps\n",
    "    except Exception as e:\n",
    "        return 0.00\n",
    "    else:\n",
    "        return vitesse\n",
    "\n",
    "def formatVitesse(vitesse: float):\n",
    "    if vitesse != 0 :\n",
    "        vitesse1 = vitesse / 1000\n",
    "        vitesse2 = vitesse * 1000\n",
    "        vitesse3 = vitesse / 10**6\n",
    "        \n",
    "        print('--------------------------')\n",
    "        print(f'Vitesse en m/s: {vitesse}')\n",
    "        print('--------------------------')\n",
    "        print(f'Vitesse en m/ms: {vitesse1}')\n",
    "        print('--------------------------')\n",
    "        print(f'Vitesse en km/s: {vitesse2}')\n",
    "        print('--------------------------')\n",
    "        print(f'Vitesse en km/ms: {vitesse3}')\n",
    "        print('--------------------------')\n",
    "    else:\n",
    "        print('--------------------------')\n",
    "        print(f'Cette vitesse est nulle')\n",
    "        print('--------------------------')\n",
    "\n",
    "def main():\n",
    "    formatVitesse(calcVitesse(takeTime(), takeDistance()))\n",
    "    \n",
    "main()"
   ]
  },
  {
   "cell_type": "code",
   "execution_count": 25,
   "id": "6043b8ea-f6bb-48e7-ac5b-7d95800f145b",
   "metadata": {},
   "outputs": [],
   "source": [
    "# Ecrire une fonction qui permet de renvoyer les indexes des lettres majuscules:\n",
    "# demander à l'utilisateur de donner une phrase ou un mot qui soit être une chaine de caractère:\n",
    "# veuillez à ce que la longueur de ce que l'utilisateur entre soit supérieure à 2 dans le cas contraire obnligez le à entrer la bonne phrase ou un mot dont la longueur est supérieur à 2\n",
    "# après retourner les indexes des lettres en majuscules\n",
    "# Puis tester l'application avec différentes phrases que voici:\n",
    "# HeLl0 ==> [0, 2, 4]\n",
    "# HeLlO Les etudiaNtS ==> [0, 2, 4, 6, 16, 18]"
   ]
  },
  {
   "cell_type": "code",
   "execution_count": 26,
   "id": "c91873bb-01a2-44bb-8dd0-67ecfbaedb51",
   "metadata": {},
   "outputs": [
    {
     "name": "stdin",
     "output_type": "stream",
     "text": [
      "Saisir une phrase dont la longueur est supérieure à 2 HeLlO Les etudiaNtS\n"
     ]
    },
    {
     "data": {
      "text/plain": [
       "[0, 2, 4, 6, 16, 18]"
      ]
     },
     "execution_count": 26,
     "metadata": {},
     "output_type": "execute_result"
    }
   ],
   "source": [
    "# Correction faite par Anselme Wilfried\n",
    "def indexRenvoi():\n",
    "    indexes = []\n",
    "    while True:\n",
    "        phrase = input(\"Saisir une phrase dont la longueur est supérieure à 2\")\n",
    "        if len(phrase)>2:\n",
    "            for index,value in enumerate(phrase):\n",
    "                if value.isupper():\n",
    "                    indexes.append(index)\n",
    "            break\n",
    "    return indexes\n",
    "\n",
    "indexRenvoi()"
   ]
  },
  {
   "cell_type": "code",
   "execution_count": 27,
   "id": "09f0cbb1-f6df-4062-981a-fde7dc3c893d",
   "metadata": {},
   "outputs": [
    {
     "name": "stdin",
     "output_type": "stream",
     "text": [
      "Entrainer une phrase ou un mot de plus de 2 caractères:  HeLlO Les etudiaNtS\n"
     ]
    },
    {
     "ename": "TypeError",
     "evalue": "'NoneType' object is not iterable",
     "output_type": "error",
     "traceback": [
      "\u001b[0;31m---------------------------------------------------------------------------\u001b[0m",
      "\u001b[0;31mTypeError\u001b[0m                                 Traceback (most recent call last)",
      "Input \u001b[0;32mIn [27]\u001b[0m, in \u001b[0;36m<module>\u001b[0;34m\u001b[0m\n\u001b[1;32m     13\u001b[0m     index_maj \u001b[38;5;241m=\u001b[39m[chaine\u001b[38;5;241m.\u001b[39mindex(letter) \u001b[38;5;28;01mfor\u001b[39;00m letter \u001b[38;5;129;01min\u001b[39;00m chaine \u001b[38;5;28;01mif\u001b[39;00m letter\u001b[38;5;241m.\u001b[39misupper()]\n\u001b[1;32m     14\u001b[0m     \u001b[38;5;28;01mreturn\u001b[39;00m index_maj\n\u001b[0;32m---> 16\u001b[0m \u001b[43mverifMaj\u001b[49m\u001b[43m(\u001b[49m\u001b[43mEnterChaine\u001b[49m\u001b[43m(\u001b[49m\u001b[43m)\u001b[49m\u001b[43m)\u001b[49m\n",
      "Input \u001b[0;32mIn [27]\u001b[0m, in \u001b[0;36mverifMaj\u001b[0;34m(chaine)\u001b[0m\n\u001b[1;32m     12\u001b[0m \u001b[38;5;28;01mdef\u001b[39;00m \u001b[38;5;21mverifMaj\u001b[39m(chaine):\n\u001b[0;32m---> 13\u001b[0m     index_maj \u001b[38;5;241m=\u001b[39m[chaine\u001b[38;5;241m.\u001b[39mindex(letter) \u001b[38;5;28;01mfor\u001b[39;00m letter \u001b[38;5;129;01min\u001b[39;00m chaine \u001b[38;5;28;01mif\u001b[39;00m letter\u001b[38;5;241m.\u001b[39misupper()]\n\u001b[1;32m     14\u001b[0m     \u001b[38;5;28;01mreturn\u001b[39;00m index_maj\n",
      "\u001b[0;31mTypeError\u001b[0m: 'NoneType' object is not iterable"
     ]
    }
   ],
   "source": [
    "# Correcction faite par Maodo Sene\n",
    "# Ecrire une fonction qui permet de renvoyer les indexes des lettres majuscules:\n",
    "# demander à l'utilisateur de donner une phrase ou un mot qui soit être une chaine de caractère:\n",
    "\n",
    "def EnterChaine():\n",
    "    while True:\n",
    "        chaine = str(input(\"Entrainer une phrase ou un mot de plus de 2 caractères: \"))\n",
    "        if len(chaine)>2 :\n",
    "            break\n",
    "        return chaine\n",
    "\n",
    "def verifMaj(chaine):\n",
    "    index_maj =[chaine.index(letter) for letter in chaine if letter.isupper()]\n",
    "    return index_maj\n",
    "\n",
    "verifMaj(EnterChaine())"
   ]
  },
  {
   "cell_type": "code",
   "execution_count": 1,
   "id": "9363c470-1fcf-4205-8275-6f33840b0097",
   "metadata": {},
   "outputs": [
    {
     "name": "stdout",
     "output_type": "stream",
     "text": [
      " ---> Entrez une phrase de longueur supérieur à 2 !\n"
     ]
    },
    {
     "name": "stdin",
     "output_type": "stream",
     "text": [
      " HelLO\n"
     ]
    },
    {
     "name": "stdout",
     "output_type": "stream",
     "text": [
      "Les indexes des lettres majuscules sont: [0, 3, 4]\n"
     ]
    }
   ],
   "source": [
    "# Correction faites par Eric\n",
    "def lire_phrase():\n",
    "    encore = True\n",
    "    while encore:\n",
    "        print(\" ---> Entrez une phrase de longueur supérieur à 2 !\")\n",
    "        phrase = input()\n",
    "        if 2 < len(phrase):\n",
    "            encore = False\n",
    "    return phrase\n",
    "    \n",
    "def index_majuscule():\n",
    "    phrase = lire_phrase()\n",
    "    # print(phrase)\n",
    "    l_index = []\n",
    "    for i, lettre in enumerate(phrase):\n",
    "        if lettre.isupper():\n",
    "            l_index.append(i)\n",
    "    return l_index\n",
    "\n",
    "print(f'Les indexes des lettres majuscules sont: {index_majuscule()}')"
   ]
  },
  {
   "cell_type": "markdown",
   "id": "77773efc-e660-4c68-945b-b2640a40cba2",
   "metadata": {},
   "source": [
    "# Lecture / Ecriture dans les fichiers"
   ]
  },
  {
   "cell_type": "markdown",
   "id": "caeb3a4c-ec57-49a2-942b-24483c98f02b",
   "metadata": {},
   "source": [
    "## Lecture d'un fichier"
   ]
  },
  {
   "cell_type": "code",
   "execution_count": 1,
   "id": "e3913047-4214-40e3-95d2-e05394a1d027",
   "metadata": {},
   "outputs": [],
   "source": [
    "# with open('filename', 'r') as f: # able to read data from file ( also is the default mode when opening a file in python)\n",
    "# with open('filename', 'x') as f: # Creates new file, if it already exists it will cause it to fail\n",
    "# with open('filename', 't') as f: # opens the file in text mode (also is defualt)\n",
    "# with open('filename', 'b') as f: # Use if your file will contain binary data\n",
    "# with open('filename', 'w') as f: # Open file with ability to write, will also create the file if it does not exist (if it exists will cause it to fail)\n",
    "# with open('filename', '+') as f: # Opens file with reading and writing"
   ]
  },
  {
   "cell_type": "code",
   "execution_count": 11,
   "id": "cf4bc391-fe0f-4fa8-97c9-128c361e81dd",
   "metadata": {},
   "outputs": [],
   "source": [
    "def jumpNextLine():\n",
    "    print('\\n')\n",
    "\n",
    "def openFile(filename: str):\n",
    "    with open(filename, 'r') as f:\n",
    "        print(f.read()) # lis le fichier tel qu'il est\n",
    "        f.close() # ferme le fichier\n",
    "        \n",
    "def openFileWithLenght(filename: str, numberOfChar: int):\n",
    "    with open(filename, 'r') as f:\n",
    "        print(f.read(numberOfChar))\n",
    "        f.close() # ferme le fichier\n",
    "\n",
    "# remarquer les retours à la ligne avec le caractère \\n\n",
    "# cette fonction retourne une liste qui contient toute la donnée\n",
    "def openFileWithaddLine(filename: str):\n",
    "    with open(filename, 'r') as f:\n",
    "        print(f.readlines()) # ajoute un saut de line a chaque fin de ligne\n",
    "        f.close() # ferme le fichier\n",
    "\n",
    "# lecture du fichier avec parcousr de f.readlines()\n",
    "# on parle souvent de CHUNK\n",
    "# CHUNKER c'est morceler le fichier par lot\n",
    "# Ce cas est pratique que pour les fichiers lourds\n",
    "def openFileWithaddLineV2(filename: str):\n",
    "    with open(filename, 'r') as f:\n",
    "        for line in f.readlines():\n",
    "            print(line)\n",
    "        f.close()"
   ]
  },
  {
   "cell_type": "code",
   "execution_count": 7,
   "id": "7a445446-7ddd-4fe3-af19-b712e2bda386",
   "metadata": {},
   "outputs": [
    {
     "name": "stdout",
     "output_type": "stream",
     "text": [
      "Lorem ipsum dolor sit amet consectetur adipisicing elit. Maxime mollitia,\n",
      "molestiae quas vel sint commodi repudiandae consequuntur voluptatum laborum\n",
      "numquam blanditiis harum quisquam eius sed odit fu\n"
     ]
    }
   ],
   "source": [
    "# openFile('files/file1.txt')\n",
    "openFileWithLenght('files/file1.txt', 200)"
   ]
  },
  {
   "cell_type": "code",
   "execution_count": 10,
   "id": "0dcf4e28-349f-45b9-b44d-7924e6c47749",
   "metadata": {},
   "outputs": [
    {
     "name": "stdout",
     "output_type": "stream",
     "text": [
      "['Lorem ipsum dolor sit amet consectetur adipisicing elit. Maxime mollitia,\\n', 'molestiae quas vel sint commodi repudiandae consequuntur voluptatum laborum\\n', 'numquam blanditiis harum quisquam eius sed odit fugiat iusto fuga praesentium\\n', 'optio, eaque rerum! Provident similique accusantium nemo autem. Veritatis\\n', 'obcaecati tenetur iure eius earum ut molestias architecto voluptate aliquam\\n', 'nihil, eveniet aliquid culpa officia aut! Impedit sit sunt quaerat, odit,\\n', 'tenetur error, harum nesciunt ipsum debitis quas aliquid. Reprehenderit,\\n', 'quia. Quo neque error repudiandae fuga? Ipsa laudantium molestias eos\\n', 'sapiente officiis modi at sunt excepturi expedita sint? Sed quibusdam\\n', 'recusandae alias error harum maxime adipisci amet laborum. Perspiciatis\\n', 'minima nesciunt dolorem! Officiis iure rerum voluptates a cumque velit\\n', 'quibusdam sed amet tempora. Sit laborum ab, eius fugit doloribus tenetur\\n', 'fugiat, temporibus enim commodi iusto libero magni deleniti quod quam\\n', 'consequuntur! Commodi minima excepturi repudiandae velit hic maxime\\n', 'doloremque. Quaerat provident commodi consectetur veniam similique ad\\n', 'earum omnis ipsum saepe, voluptas, hic voluptates pariatur est explicabo\\n', 'fugiat, dolorum eligendi quam cupiditate excepturi mollitia maiores labore\\n', 'suscipit quas? Nulla, placeat. Voluptatem quaerat non architecto ab laudantium\\n', 'modi minima sunt esse temporibus sint culpa, recusandae aliquam numquam\\n', 'totam ratione voluptas quod exercitationem fuga. Possimus quis earum veniam\\n', 'quasi aliquam eligendi, placeat qui corporis!']\n"
     ]
    }
   ],
   "source": [
    "openFileWithaddLine('files/file1.txt')"
   ]
  },
  {
   "cell_type": "code",
   "execution_count": 12,
   "id": "5f4e4499-9b83-487a-b5a2-683c6edae014",
   "metadata": {},
   "outputs": [
    {
     "name": "stdout",
     "output_type": "stream",
     "text": [
      "Lorem ipsum dolor sit amet consectetur adipisicing elit. Maxime mollitia,\n",
      "\n",
      "molestiae quas vel sint commodi repudiandae consequuntur voluptatum laborum\n",
      "\n",
      "numquam blanditiis harum quisquam eius sed odit fugiat iusto fuga praesentium\n",
      "\n",
      "optio, eaque rerum! Provident similique accusantium nemo autem. Veritatis\n",
      "\n",
      "obcaecati tenetur iure eius earum ut molestias architecto voluptate aliquam\n",
      "\n",
      "nihil, eveniet aliquid culpa officia aut! Impedit sit sunt quaerat, odit,\n",
      "\n",
      "tenetur error, harum nesciunt ipsum debitis quas aliquid. Reprehenderit,\n",
      "\n",
      "quia. Quo neque error repudiandae fuga? Ipsa laudantium molestias eos\n",
      "\n",
      "sapiente officiis modi at sunt excepturi expedita sint? Sed quibusdam\n",
      "\n",
      "recusandae alias error harum maxime adipisci amet laborum. Perspiciatis\n",
      "\n",
      "minima nesciunt dolorem! Officiis iure rerum voluptates a cumque velit\n",
      "\n",
      "quibusdam sed amet tempora. Sit laborum ab, eius fugit doloribus tenetur\n",
      "\n",
      "fugiat, temporibus enim commodi iusto libero magni deleniti quod quam\n",
      "\n",
      "consequuntur! Commodi minima excepturi repudiandae velit hic maxime\n",
      "\n",
      "doloremque. Quaerat provident commodi consectetur veniam similique ad\n",
      "\n",
      "earum omnis ipsum saepe, voluptas, hic voluptates pariatur est explicabo\n",
      "\n",
      "fugiat, dolorum eligendi quam cupiditate excepturi mollitia maiores labore\n",
      "\n",
      "suscipit quas? Nulla, placeat. Voluptatem quaerat non architecto ab laudantium\n",
      "\n",
      "modi minima sunt esse temporibus sint culpa, recusandae aliquam numquam\n",
      "\n",
      "totam ratione voluptas quod exercitationem fuga. Possimus quis earum veniam\n",
      "\n",
      "quasi aliquam eligendi, placeat qui corporis!\n"
     ]
    }
   ],
   "source": [
    "openFileWithaddLineV2('files/file1.txt')"
   ]
  },
  {
   "cell_type": "markdown",
   "id": "1647598e-5f68-47a7-ae81-64712434192b",
   "metadata": {},
   "source": [
    "## Ecriture dans un fichier"
   ]
  },
  {
   "cell_type": "code",
   "execution_count": 25,
   "id": "db747578-3500-4084-a092-78a760f83183",
   "metadata": {},
   "outputs": [],
   "source": [
    "# Ecriture dans les fichiers (Part 2)\n",
    "\n",
    "def jumpNextLine():\n",
    "    print('\\n')\n",
    "\n",
    "def writeFile(filename: str):\n",
    "    file = open(filename, \"w\")\n",
    "    \n",
    "    file.write(\"Salut tout le monde\")\n",
    "    file.write(\"This is our new text file\")\n",
    "    file.write(\"and this is another line.\")\n",
    "    file.write(\"Why? Because we can.\")\n",
    "    file.close()\n",
    "    \n",
    "def writeFileV2(filename: str):\n",
    "    with open(filename,\"w\") as file:\n",
    "        file.write(\"Salut tout le monde\")\n",
    "        file.write(\"This is our new text file\")\n",
    "        file.write(\"and this is another line.\")\n",
    "        file.write(\"Why? Because we can.\")\n",
    "        file.close()\n",
    "        \n",
    "def writeFileWithAppendMode(filename: str):\n",
    "    with open(filename,\"a\") as file:\n",
    "        file.write(\"Salut tout le monde\")\n",
    "        file.write(\"This is our new text file\")\n",
    "        file.write(\"and this is another line.\")\n",
    "        file.write(\"Why? Because we can.\")\n",
    "        file.close()\n",
    "\n",
    "# NB1: Avec le mode \"w\" c'est que le contenu du fichier est écrasé à chaque fois qu'on le modifie\n",
    "# NB2: Avec le mode \"a\" on ajoute en fin du contenu exitant du fichier dans lequel on écrit"
   ]
  },
  {
   "cell_type": "code",
   "execution_count": 20,
   "id": "8d014d71-e436-42da-a33b-3610b4f3e07f",
   "metadata": {},
   "outputs": [],
   "source": [
    "writeFileV2('files/file2.txt')"
   ]
  },
  {
   "cell_type": "code",
   "execution_count": 21,
   "id": "3314582b-7442-4e7e-9745-82d98c133f59",
   "metadata": {},
   "outputs": [
    {
     "name": "stdout",
     "output_type": "stream",
     "text": [
      "Salut tout le mondeThis is our new text fileand this is another line.Why? Because we can.\n"
     ]
    }
   ],
   "source": [
    "openFile('files/file2.txt')"
   ]
  },
  {
   "cell_type": "code",
   "execution_count": 23,
   "id": "35a43e93-8992-4c18-9b75-4ebc792ef7a7",
   "metadata": {},
   "outputs": [],
   "source": [
    "writeFileWithAppendMode('files/file2.txt')"
   ]
  },
  {
   "cell_type": "code",
   "execution_count": 24,
   "id": "8af7ecf6-97e7-4503-a7db-14182ff3e530",
   "metadata": {},
   "outputs": [
    {
     "name": "stdout",
     "output_type": "stream",
     "text": [
      "Salut tout le mondeThis is our new text fileand this is another line.Why? Because we can.Salut tout le mondeThis is our new text fileand this is another line.Why? Because we can.\n"
     ]
    }
   ],
   "source": [
    "openFile('files/file2.txt')"
   ]
  },
  {
   "cell_type": "code",
   "execution_count": 27,
   "id": "ac1f813d-f9e7-4503-89c5-0636037f29aa",
   "metadata": {},
   "outputs": [],
   "source": [
    "# Exercice\n",
    "# Ecriver une fonction qui permet de demander à la console\n",
    "#     Le nom d'une personne\n",
    "#     Son sexe\n",
    "#     Son Pays\n",
    "#     Sa profession\n",
    "#     Sa taille\n",
    "#     Son poids\n",
    "#     Le secteur de sa profession\n",
    "#     Son année d'expérience dans sa profession\n",
    "\n",
    "# Récupérer ces valeurs puis enrégister comme suit dans un fichier\n",
    "# Donner le nom Infos.txt à ce fichier\n",
    "\n",
    "# Informations Personnelles\n",
    "# -------------------------\n",
    "# Nom: _____\n",
    "# Sexe: _____\n",
    "# Taille: _____\n",
    "# Poids: _____\n",
    "\n",
    "# Informations Professionnelles\n",
    "# -------------------------\n",
    "# Profession: _____\n",
    "# Secteur Profession: _____\n",
    "# Experience: _____"
   ]
  },
  {
   "cell_type": "code",
   "execution_count": 28,
   "id": "dfb34cc4-371e-4ffa-a691-486134e91288",
   "metadata": {},
   "outputs": [
    {
     "name": "stdout",
     "output_type": "stream",
     "text": [
      "Quel est votre nom ?\n"
     ]
    },
    {
     "name": "stdin",
     "output_type": "stream",
     "text": [
      " KUASSI\n"
     ]
    },
    {
     "name": "stdout",
     "output_type": "stream",
     "text": [
      "Quel est votre sexe ?\n"
     ]
    },
    {
     "name": "stdin",
     "output_type": "stream",
     "text": [
      " Masculin\n"
     ]
    },
    {
     "name": "stdout",
     "output_type": "stream",
     "text": [
      "Dans quel pays etes-vous ?\n"
     ]
    },
    {
     "name": "stdin",
     "output_type": "stream",
     "text": [
      " Sénégal\n"
     ]
    },
    {
     "name": "stdout",
     "output_type": "stream",
     "text": [
      "Quelle est votre profession ?\n"
     ]
    },
    {
     "name": "stdin",
     "output_type": "stream",
     "text": [
      " Developpeur/Formateur\n"
     ]
    },
    {
     "name": "stdout",
     "output_type": "stream",
     "text": [
      "Quelle est votre taille ?\n"
     ]
    },
    {
     "name": "stdin",
     "output_type": "stream",
     "text": [
      " 1.80\n"
     ]
    },
    {
     "name": "stdout",
     "output_type": "stream",
     "text": [
      "Quel est votre poids ?\n"
     ]
    },
    {
     "name": "stdin",
     "output_type": "stream",
     "text": [
      " 68\n"
     ]
    },
    {
     "name": "stdout",
     "output_type": "stream",
     "text": [
      "Quelle est votre secteur professionnelle ?\n"
     ]
    },
    {
     "name": "stdin",
     "output_type": "stream",
     "text": [
      " Informatique\n"
     ]
    },
    {
     "name": "stdout",
     "output_type": "stream",
     "text": [
      "Combien d'année d'expérience ?\n"
     ]
    },
    {
     "name": "stdin",
     "output_type": "stream",
     "text": [
      " 4\n"
     ]
    }
   ],
   "source": [
    "# Correction faite par Eric\n",
    "def read_data():\n",
    "    person = {}\n",
    "    \n",
    "    print(\"Quel est votre nom ?\")\n",
    "    person['nom'] = input()\n",
    "    print(\"Quel est votre sexe ?\")\n",
    "    person['sexe'] = input()\n",
    "    print(\"Dans quel pays etes-vous ?\")\n",
    "    person['pays'] = input()\n",
    "    print(\"Quelle est votre profession ?\")\n",
    "    person['profession'] = input()\n",
    "    print(\"Quelle est votre taille ?\")\n",
    "    person['taille'] = input()\n",
    "    print(\"Quel est votre poids ?\")\n",
    "    person['poids'] = input()\n",
    "    print(\"Quelle est votre secteur professionnelle ?\")\n",
    "    person['secteur'] = input()\n",
    "    print(\"Combien d'année d'expérience ?\")\n",
    "    person['exp'] = input()\n",
    "    \n",
    "    return person\n",
    "\n",
    "def writeFile(filename: str, person: dict):\n",
    "    with open(filename, \"a\") as file:\n",
    "        file.write(\"\\n Informations Personnelles \\n\")\n",
    "        file.write(\"-\"*100)\n",
    "        file.write(f\"\\n Nom: {person['nom']} \\n\")\n",
    "        file.write(f\"Sexe: {person['sexe']} \\n\")\n",
    "        file.write(f\"Taille: {person['taille']} \\n\")\n",
    "        file.write(f\"Poids: {person['poids']} \\n\")\n",
    "\n",
    "        file.write(\"\\n Informations Professionnelles \\n\")\n",
    "        file.write(\"-\"*100)\n",
    "        file.write(f\"\\n Profession: {person['profession']} \\n\")\n",
    "        file.write(f\"Secteur Profession: {person['secteur']} \\n\")\n",
    "        file.write(f\"Experience: {person['exp']} \\n\")\n",
    "        \n",
    "    file.close()\n",
    "\n",
    "person = read_data()\n",
    "writeFile('files/Infos.txt', person)"
   ]
  },
  {
   "cell_type": "code",
   "execution_count": 29,
   "id": "cb109b1a-cdd7-40c9-a8b9-4772db16bdce",
   "metadata": {},
   "outputs": [
    {
     "name": "stdout",
     "output_type": "stream",
     "text": [
      "\n",
      " Informations Personnelles \n",
      "----------------------------------------------------------------------------------------------------\n",
      " Nom: KUASSI \n",
      "Sexe: Masculin \n",
      "Taille: 1.80 \n",
      "Poids: 68 \n",
      "\n",
      " Informations Professionnelles \n",
      "----------------------------------------------------------------------------------------------------\n",
      " Profession: Developpeur/Formateur \n",
      "Secteur Profession: Informatique \n",
      "Experience: 4 \n",
      "\n"
     ]
    }
   ],
   "source": [
    "openFile('files/Infos.txt')"
   ]
  },
  {
   "cell_type": "code",
   "execution_count": 31,
   "id": "e0ab7b74-3204-4a1b-9123-db2d40489125",
   "metadata": {},
   "outputs": [],
   "source": [
    "# Exercice\n",
    "# Ecriver une fonction qui permet de demander à la console\n",
    "#     Le nom d'une personne\n",
    "#     Sa taille\n",
    "#     Son poids\n",
    "# Faites cette actions 5 fois avec différentes Personnes\n",
    "# Ainsi varier les poids et les tailles.\n",
    "\n",
    "# Récupérer ces valeurs puis enrégister comme suit dans un fichier\n",
    "# Donner le nom Persons.txt à ce fichier\n",
    "\n",
    "# Informations Personnelles\n",
    "# -------------------------\n",
    "# Nom: _____\n",
    "# Taille: _____\n",
    "# Poids: _____\n",
    "\n",
    "# Liser le fichier Persons.txt\n",
    "# Créer une liste dans laquelle vous enrégistrerez les personnes comme suit:\n",
    "#     [\n",
    "#         (Nom, Taille, Poids),\n",
    "#         (Nom, Taille, Poids),\n",
    "#         (Nom, Taille, Poids),\n",
    "#     ]\n",
    "# Recupérer le nombre de personnes enrégistrées\n",
    "# NB: Le challenge est de récupérer le nombre d'élément a partir d'un fichier et d'un délimiteur\n",
    "# NB: Donc veuillez à ne pas stocker le nombre di'itération comme nombre de personne puis que en cas réèl cette valeur se réinitialisera\n",
    "# NB: Donc récupérer le nombre à partir du fichier\n",
    "# NB: Libre a vous de choisir un délimiteur\n",
    "# A l'aide des informations déterminer l'IMC de ces personnes\n",
    "# Puis Mettez a jour  le fichier en suivant ce format:\n",
    "\n",
    "# Informations Personnelles\n",
    "# -------------------------\n",
    "# Nom: _____\n",
    "# Taille: _____\n",
    "# Poids: _____\n",
    "# Imc: _____\n",
    "# Etat Imc: _____\n",
    "\n",
    "# NB: Prenez en compte le statut de l'IMC comme étant l'etat\n",
    "# NB: Basez vous sur les données des exercices précédents."
   ]
  },
  {
   "cell_type": "code",
   "execution_count": 1,
   "id": "231f4893-0f02-4bc6-897e-5ab88fea83e4",
   "metadata": {},
   "outputs": [
    {
     "name": "stdout",
     "output_type": "stream",
     "text": [
      "Quel est votre nom ?\n"
     ]
    },
    {
     "name": "stdin",
     "output_type": "stream",
     "text": [
      " Eric\n"
     ]
    },
    {
     "name": "stdout",
     "output_type": "stream",
     "text": [
      "Quelle est votre taille ?\n"
     ]
    },
    {
     "name": "stdin",
     "output_type": "stream",
     "text": [
      " 1.82\n"
     ]
    },
    {
     "name": "stdout",
     "output_type": "stream",
     "text": [
      "Quel est votre poids ?\n"
     ]
    },
    {
     "name": "stdin",
     "output_type": "stream",
     "text": [
      " 65\n"
     ]
    },
    {
     "name": "stdout",
     "output_type": "stream",
     "text": [
      "('Eric', '1.82', '65', 19.623233908948194, 'Corpulance normale')\n"
     ]
    }
   ],
   "source": [
    "# Correction faite par Eric\n",
    "def read_data():\n",
    "    person = {}\n",
    "    \n",
    "    print(\"Quel est votre nom ?\")\n",
    "    person['nom'] = input()\n",
    "    print(\"Quelle est votre taille ?\")\n",
    "    person['taille'] = input()\n",
    "    print(\"Quel est votre poids ?\")\n",
    "    person['poids'] = input()\n",
    "    \n",
    "    return person\n",
    "\n",
    "def writeFile(filename: str, person: dict):\n",
    "    with open(filename, \"a\") as file:\n",
    "        file.write(\"\\n\\n Informations Personnelles \\n\")\n",
    "        file.write(\"-\"*100)\n",
    "        file.write(f\"\\n Nom: {person['nom']} \\n\")\n",
    "        file.write(f\"Taille: {person['taille']} \\n\")\n",
    "        file.write(f\"Poids: {person['poids']} \\n\")\n",
    "        \n",
    "    file.close()\n",
    "    \n",
    "def cal_imc(taille, poids):\n",
    "    return poids / (taille**2)\n",
    "\n",
    "def check_etat(imc):\n",
    "    if imc < 0:\n",
    "        return 'Erreur'\n",
    "    elif 0 < imc and imc < 18.5:\n",
    "        return 'Insuffissance pondérale'\n",
    "    elif 18.5 < imc and imc < 25:\n",
    "        return 'Corpulance normale'\n",
    "    elif 25 < imc and imc < 30:\n",
    "        return 'Surpoids'\n",
    "    else:\n",
    "        return 'Obésité'\n",
    "\n",
    "def openFile(filename: str):\n",
    "    l_person = []\n",
    "    \n",
    "    with open(filename, 'r') as f:\n",
    "        lines = f.readlines()\n",
    "        #print(lines)\n",
    "    for line in lines:\n",
    "        if 'Nom' in line:\n",
    "            nom = line.split(':')[1].strip()\n",
    "        elif 'Taille' in line:\n",
    "            taille = line.split(':')[1].strip()\n",
    "        elif 'Poids' in line:\n",
    "            poids = line.split(':')[1].strip()\n",
    "            l_person.append((nom, taille, poids))\n",
    "        \n",
    "    f.close() # ferme le fichier\n",
    "    return l_person, len(l_person)\n",
    "\n",
    "def updateData(l_person: list):\n",
    "    new_info = []\n",
    "    for person in l_person:\n",
    "        imc = cal_imc(float(person[1]), float(person[2]))\n",
    "        etat = check_etat(imc)\n",
    "        new_info.append((person[0],\n",
    "                 person[1],\n",
    "                 person[2],\n",
    "                 imc,\n",
    "                 etat))\n",
    "            \n",
    "    return new_info\n",
    "\n",
    "def updateFile(filename: str, persons: dict):\n",
    "    with open(filename, \"a\") as file:\n",
    "        for person in persons:\n",
    "            print(person)\n",
    "            file.write(\"-\"*100)\n",
    "            file.write(\"\\n Informations Personnelles \\n\")\n",
    "            file.write(\"-\"*100)\n",
    "            file.write(f\"\\n Nom: {person[0]} \\n\")\n",
    "            file.write(f\"Taille: {person[1]} \\n\")\n",
    "            file.write(f\"Poids: {person[2]} \\n\")\n",
    "            file.write(\"Santé \\n\")\n",
    "            file.write(\"-\"*100)\n",
    "            file.write(f\"\\n Imc: {person[3]} \\n\")\n",
    "            file.write(f\"Etat: {person[4]} \\n\")\n",
    "        file.close()\n",
    "        \n",
    "person             = read_data()\n",
    "writeFile('files/Persons.txt', person)\n",
    "l_person, effectif    = openFile('files/Persons.txt')\n",
    "new_persons           = updateData(l_person)\n",
    "updateFile('files/Persons_Update.txt', new_persons)"
   ]
  },
  {
   "cell_type": "markdown",
   "id": "9e3f88da-d9fc-4ec5-a7d2-8e2c848683f6",
   "metadata": {},
   "source": [
    "## Les classes"
   ]
  },
  {
   "cell_type": "code",
   "execution_count": 2,
   "id": "227deb11-5efe-4a38-a72e-35c554e0c808",
   "metadata": {},
   "outputs": [],
   "source": [
    "# La syntaxe de déclaration d'une classe\n",
    "# class nomDeLClasse:\n",
    "#      pass\n",
    "\n",
    "# def nomDeLaFonction():\n",
    "#     pass\n",
    "\n",
    "def jumpNextLine():\n",
    "    print('\\n')\n",
    "\n",
    "\n",
    "class A:\n",
    "    pass\n",
    "\n",
    "\n",
    "class B(A):\n",
    "    pass\n",
    "\n",
    "\n",
    "class C(B):\n",
    "    pass"
   ]
  },
  {
   "cell_type": "code",
   "execution_count": 3,
   "id": "12d1ee39-9f63-47c5-ac4b-492f4b5e9bdd",
   "metadata": {},
   "outputs": [],
   "source": [
    "varA = A()\n",
    "varB = B()\n",
    "varC = C()"
   ]
  },
  {
   "cell_type": "code",
   "execution_count": 4,
   "id": "f869f964-3990-464d-9913-39350aa86766",
   "metadata": {},
   "outputs": [
    {
     "data": {
      "text/plain": [
       "<__main__.A at 0x7fd4234f5b20>"
      ]
     },
     "execution_count": 4,
     "metadata": {},
     "output_type": "execute_result"
    }
   ],
   "source": [
    "varA"
   ]
  },
  {
   "cell_type": "code",
   "execution_count": 5,
   "id": "b0c48b02-2fb3-41c6-9c88-2021dc596e55",
   "metadata": {},
   "outputs": [
    {
     "data": {
      "text/plain": [
       "<__main__.B at 0x7fd4234f5130>"
      ]
     },
     "execution_count": 5,
     "metadata": {},
     "output_type": "execute_result"
    }
   ],
   "source": [
    "varB"
   ]
  },
  {
   "cell_type": "code",
   "execution_count": 6,
   "id": "3ed2dbaa-1c09-45c3-8ab5-bf0a126142c1",
   "metadata": {},
   "outputs": [
    {
     "data": {
      "text/plain": [
       "<__main__.C at 0x7fd4234f5790>"
      ]
     },
     "execution_count": 6,
     "metadata": {},
     "output_type": "execute_result"
    }
   ],
   "source": [
    "varC"
   ]
  },
  {
   "cell_type": "code",
   "execution_count": 7,
   "id": "7bae562c-26dd-431a-b1f5-7f25004599a0",
   "metadata": {},
   "outputs": [
    {
     "data": {
      "text/plain": [
       "['__class__',\n",
       " '__delattr__',\n",
       " '__dict__',\n",
       " '__dir__',\n",
       " '__doc__',\n",
       " '__eq__',\n",
       " '__format__',\n",
       " '__ge__',\n",
       " '__getattribute__',\n",
       " '__gt__',\n",
       " '__hash__',\n",
       " '__init__',\n",
       " '__init_subclass__',\n",
       " '__le__',\n",
       " '__lt__',\n",
       " '__module__',\n",
       " '__ne__',\n",
       " '__new__',\n",
       " '__reduce__',\n",
       " '__reduce_ex__',\n",
       " '__repr__',\n",
       " '__setattr__',\n",
       " '__sizeof__',\n",
       " '__str__',\n",
       " '__subclasshook__',\n",
       " '__weakref__']"
      ]
     },
     "execution_count": 7,
     "metadata": {},
     "output_type": "execute_result"
    }
   ],
   "source": [
    "# Pour vérifier les fonctions natives d'une classe\n",
    "# On peut utiliser la fonction dir()\n",
    "# Exemple: dir(varA)\n",
    "\n",
    "dir(varA)"
   ]
  },
  {
   "cell_type": "code",
   "execution_count": 16,
   "id": "11d15e72-8ac5-4bf1-9a61-7d438e2f32bf",
   "metadata": {},
   "outputs": [
    {
     "data": {
      "text/plain": [
       "('Lamine', 'Masculin', 'DSI006')"
      ]
     },
     "execution_count": 16,
     "metadata": {},
     "output_type": "execute_result"
    }
   ],
   "source": [
    "# Ajout d'attribut dans une classe\n",
    "varA = A()\n",
    "varA.name   = 'Lamine'\n",
    "varA.sex    = 'Masculin'\n",
    "varA.classe = 'DSI006'\n",
    "\n",
    "varA.name, varA.sex, varA.classe"
   ]
  },
  {
   "cell_type": "code",
   "execution_count": 10,
   "id": "61a1674f-8ff6-46a9-bf22-9b0c6618a303",
   "metadata": {},
   "outputs": [
    {
     "data": {
      "text/plain": [
       "('sex', 'name', 'classe')"
      ]
     },
     "execution_count": 10,
     "metadata": {},
     "output_type": "execute_result"
    }
   ],
   "source": [
    "dir(varA)[-1], dir(varA)[-2], dir(varA)[-3]"
   ]
  },
  {
   "cell_type": "code",
   "execution_count": 11,
   "id": "4f24a8f1-28b6-41c1-b177-86f889824654",
   "metadata": {},
   "outputs": [
    {
     "name": "stdout",
     "output_type": "stream",
     "text": [
      "True\n",
      "True\n",
      "True\n"
     ]
    }
   ],
   "source": [
    "# Verification via la méthode hasattr dans varA\n",
    "print(hasattr(varA, 'name'))\n",
    "print(hasattr(varA, 'sex'))\n",
    "print(hasattr(varA, 'classe'))"
   ]
  },
  {
   "cell_type": "code",
   "execution_count": 12,
   "id": "f293c622-b0c7-4728-b703-21aacb127bbf",
   "metadata": {},
   "outputs": [
    {
     "name": "stdout",
     "output_type": "stream",
     "text": [
      "False\n",
      "False\n",
      "False\n"
     ]
    }
   ],
   "source": [
    "# Verification via la méthode hasattr dans A\n",
    "print(hasattr(A, 'name'))\n",
    "print(hasattr(A, 'sex'))\n",
    "print(hasattr(A, 'classe'))"
   ]
  },
  {
   "cell_type": "code",
   "execution_count": 14,
   "id": "456ee7bb-dc76-4d84-864f-30f53af589a0",
   "metadata": {},
   "outputs": [
    {
     "name": "stdout",
     "output_type": "stream",
     "text": [
      "True\n",
      "True\n",
      "True\n"
     ]
    }
   ],
   "source": [
    "class A:\n",
    "    name   = 'Lamine'\n",
    "    sex    = 'Masculin'\n",
    "    classe = 'DSI006'\n",
    "\n",
    "# Verification via la méthode hasattr dans A\n",
    "print(hasattr(A, 'name'))\n",
    "print(hasattr(A, 'sex'))\n",
    "print(hasattr(A, 'classe'))"
   ]
  },
  {
   "cell_type": "code",
   "execution_count": 15,
   "id": "a0622022-3098-461f-bf7f-e645d2cfdb0e",
   "metadata": {},
   "outputs": [
    {
     "name": "stdout",
     "output_type": "stream",
     "text": [
      "True\n",
      "True\n",
      "True\n",
      "True\n",
      "True\n",
      "True\n",
      "True\n",
      "True\n",
      "True\n",
      "True\n",
      "True\n",
      "True\n"
     ]
    }
   ],
   "source": [
    "# Convention d'écriture du nom des classes\n",
    "# Commencer par une lettre majuscule et poursuivre avec la notation camel case\n",
    "# Exemple: class EricPerson, class EricPersonDit\n",
    "class Eric:\n",
    "    name   = 'Eric'\n",
    "    sex    = 'Masculin'\n",
    "    classe = 'DSI006'\n",
    "    \n",
    "class MaodoSene:\n",
    "    name   = 'Maodo'\n",
    "    sex    = 'Masculin'\n",
    "    classe = 'DSI006'\n",
    "    \n",
    "class LamineFaty:\n",
    "    name   = 'Lamine'\n",
    "    sex    = 'Masculin'\n",
    "    classe = 'DSI006'\n",
    "    \n",
    "class Russell:\n",
    "    name   = 'Russell'\n",
    "    sex    = 'Masculin'\n",
    "    classe = 'DSI006'\n",
    "\n",
    "# Verification via la méthode hasattr dans A\n",
    "print(hasattr(Eric, 'name'))\n",
    "print(hasattr(Eric, 'sex'))\n",
    "print(hasattr(Eric, 'classe'))\n",
    "\n",
    "print(hasattr(MaodoSene, 'name'))\n",
    "print(hasattr(MaodoSene, 'sex'))\n",
    "print(hasattr(MaodoSene, 'classe'))\n",
    "\n",
    "print(hasattr(LamineFaty, 'name'))\n",
    "print(hasattr(LamineFaty, 'sex'))\n",
    "print(hasattr(LamineFaty, 'classe'))\n",
    "\n",
    "print(hasattr(Russell, 'name'))\n",
    "print(hasattr(Russell, 'sex'))\n",
    "print(hasattr(Russell, 'classe'))"
   ]
  },
  {
   "cell_type": "code",
   "execution_count": 17,
   "id": "44832eb3-8ffb-4fe6-8f38-66cb3f544f61",
   "metadata": {},
   "outputs": [
    {
     "data": {
      "text/plain": [
       "('Lamine', 'Masculin', 'DSI006')"
      ]
     },
     "execution_count": 17,
     "metadata": {},
     "output_type": "execute_result"
    }
   ],
   "source": [
    "# Récupération des attributs (Méthode 1)\n",
    "LamineFaty.name, LamineFaty.sex, LamineFaty.classe"
   ]
  },
  {
   "cell_type": "code",
   "execution_count": 22,
   "id": "be58c300-3775-4765-93b8-449deb6d71c3",
   "metadata": {},
   "outputs": [
    {
     "data": {
      "text/plain": [
       "('Lamine', 'Masculin', 'DSI006')"
      ]
     },
     "execution_count": 22,
     "metadata": {},
     "output_type": "execute_result"
    }
   ],
   "source": [
    "# Récupération des attributs (Méthode 2)\n",
    "# Généralement les méthodes avec les __ sont des méthodes magiques\n",
    "LamineFaty().__getattribute__('name'), LamineFaty().__getattribute__('sex'), LamineFaty().__getattribute__('classe')"
   ]
  },
  {
   "cell_type": "code",
   "execution_count": 23,
   "id": "564a9500-6b3f-4ecb-9491-9578f76e1ffc",
   "metadata": {},
   "outputs": [],
   "source": [
    "# Héritage\n",
    "class B(LamineFaty):\n",
    "    pass"
   ]
  },
  {
   "cell_type": "code",
   "execution_count": 29,
   "id": "9a9d04af-a0ba-4803-98ea-5f8fe8d775ea",
   "metadata": {},
   "outputs": [
    {
     "name": "stdout",
     "output_type": "stream",
     "text": [
      "Lamine\n",
      "Masculin\n",
      "DSI006\n"
     ]
    }
   ],
   "source": [
    "# Récupération des attributs (Méthode 1)\n",
    "def getAllAtributesFromBV1():\n",
    "    if hasattr(B, 'name'):   #vérification de l'existence de name dans B\n",
    "        print(B().__getattribute__('name'))\n",
    "\n",
    "    if hasattr(B, 'sex'):    #vérification de l'existence de sex dans B\n",
    "        print(B().__getattribute__('sex'))\n",
    "\n",
    "    if hasattr(B, 'classe'): #vérification de l'existence de classe dans B\n",
    "        print(B().__getattribute__('classe'))\n",
    "        \n",
    "# Récupération des attributs (Méthode 1)\n",
    "def getAllAtributesFromBV2():\n",
    "    if hasattr(B, 'name'):   #vérification de l'existence de name dans B\n",
    "        print(B.name)\n",
    "\n",
    "    if hasattr(B, 'sex'):    #vérification de l'existence de sex dans B\n",
    "        print(B.sex)\n",
    "\n",
    "    if hasattr(B, 'classe'): #vérification de l'existence de classe dans B\n",
    "        print(B.classe)\n",
    "        \n",
    "getAllAtributesFromBV1()\n",
    "# getAllAtributesFromBV2()"
   ]
  },
  {
   "cell_type": "code",
   "execution_count": 31,
   "id": "a88b264e-6269-4fa0-8a81-5c446cace3aa",
   "metadata": {},
   "outputs": [],
   "source": [
    "# Tester l'héritage d'attributs\n",
    "# Mise en exemple\n",
    "class ElementCommun:\n",
    "    sex    = 'Masculin'\n",
    "    classe = 'DSI006'\n",
    "    \n",
    "class LamineFaty(ElementCommun):\n",
    "    name = 'Lamine'\n",
    "    \n",
    "class Russell(ElementCommun):\n",
    "    name = 'Russell'"
   ]
  },
  {
   "cell_type": "code",
   "execution_count": 32,
   "id": "cc046575-30e6-4970-88bd-407415c24d4a",
   "metadata": {},
   "outputs": [
    {
     "data": {
      "text/plain": [
       "('Lamine', 'Masculin', 'DSI006')"
      ]
     },
     "execution_count": 32,
     "metadata": {},
     "output_type": "execute_result"
    }
   ],
   "source": [
    "varLF = LamineFaty()\n",
    "varRL = Russell()\n",
    "\n",
    "# Récupération des attributs (Méthode 2)\n",
    "varLF.__getattribute__('name'), varLF.__getattribute__('sex'), varLF.__getattribute__('classe')"
   ]
  },
  {
   "cell_type": "code",
   "execution_count": 34,
   "id": "e2d95f28-8a08-40db-97ce-8ebb2d626182",
   "metadata": {},
   "outputs": [
    {
     "data": {
      "text/plain": [
       "('Russell', 'Masculin', 'DSI006', 1000000.0, 'F CFA(XOF)')"
      ]
     },
     "execution_count": 34,
     "metadata": {},
     "output_type": "execute_result"
    }
   ],
   "source": [
    "# Tester l'héritage d'attributs\n",
    "# Tester l'héritage Multiple\n",
    "# Python support l'héritage multiple\n",
    "\n",
    "class ElementCommunOne:\n",
    "    sex    = 'Masculin'\n",
    "    classe = 'DSI006'\n",
    "    \n",
    "class ElementCommunTwo:\n",
    "    salaire = 1000000.00\n",
    "    devise  = 'F CFA(XOF)'\n",
    "    \n",
    "class LamineFaty(ElementCommun, ElementCommunTwo):\n",
    "    name = 'Lamine'\n",
    "    \n",
    "class Russell(ElementCommun, ElementCommunTwo):\n",
    "    name = 'Russell'\n",
    "\n",
    "varLF = LamineFaty()\n",
    "varRL = Russell()\n",
    "\n",
    "# Récupération des attributs (Méthode 1)\n",
    "varRL.name, varRL.sex, varRL.classe, varRL.salaire, varRL.devise"
   ]
  },
  {
   "cell_type": "code",
   "execution_count": 35,
   "id": "127de37f-786b-4835-bfea-770d1bdc9bfd",
   "metadata": {},
   "outputs": [],
   "source": [
    "# Héritage des méthodes d'une classe\n",
    "class A:\n",
    "    name = 'Ali'\n",
    "    sex = 'Masculin'\n",
    "    age = 28\n",
    "\n",
    "    def getName(self) -> str:\n",
    "        return self.name\n",
    "\n",
    "    def getSex(self) -> str:\n",
    "        return self.sex\n",
    "\n",
    "    def getAge(self) -> int:\n",
    "        return self.age\n",
    "\n",
    "    def setName(self, newName: str) -> str:\n",
    "        self.name = newName\n",
    "\n",
    "    def setSex(self, newSex: str) -> str:\n",
    "        self.sex = newSex\n",
    "\n",
    "    def setAge(self, newAge: int) -> int:\n",
    "        self.age = newAge"
   ]
  },
  {
   "cell_type": "code",
   "execution_count": 36,
   "id": "08e1f23c-00b6-4d6d-a365-464bf96470c4",
   "metadata": {},
   "outputs": [],
   "source": [
    "class B(A):\n",
    "    pass"
   ]
  },
  {
   "cell_type": "code",
   "execution_count": 37,
   "id": "ae08ebbe-73b8-4f86-98ec-7fa19c4feb95",
   "metadata": {},
   "outputs": [
    {
     "data": {
      "text/plain": [
       "('Ali', 'Masculin', 28)"
      ]
     },
     "execution_count": 37,
     "metadata": {},
     "output_type": "execute_result"
    }
   ],
   "source": [
    "varB = B()\n",
    "\n",
    "varB.getName(), varB.getSex(), varB.getAge()"
   ]
  },
  {
   "cell_type": "code",
   "execution_count": 38,
   "id": "a665febb-7e4c-478d-8408-dcdbeace0b90",
   "metadata": {},
   "outputs": [],
   "source": [
    "# Dès qu'on déclare une variable le systeme lui alloue:\n",
    "#    un espace mémoire\n",
    "#    une adresse mémoire\n",
    "#    ainsi deux instances de la même classe auront deux adresses mémoire différentes\n",
    "varA = A()\n",
    "varB = B()\n",
    "\n",
    "varB.setName('Russell')"
   ]
  },
  {
   "cell_type": "code",
   "execution_count": 39,
   "id": "8c1ec8cb-dadd-4be6-a483-1dc78fea2968",
   "metadata": {},
   "outputs": [
    {
     "data": {
      "text/plain": [
       "'Russell'"
      ]
     },
     "execution_count": 39,
     "metadata": {},
     "output_type": "execute_result"
    }
   ],
   "source": [
    "varB.getName()"
   ]
  },
  {
   "cell_type": "code",
   "execution_count": 40,
   "id": "06756142-c78e-430e-8bbe-cd746f832d4c",
   "metadata": {},
   "outputs": [
    {
     "data": {
      "text/plain": [
       "'Ali'"
      ]
     },
     "execution_count": 40,
     "metadata": {},
     "output_type": "execute_result"
    }
   ],
   "source": [
    "varA.getName()"
   ]
  },
  {
   "cell_type": "code",
   "execution_count": 41,
   "id": "ab336286-a752-4c0c-ba0c-8005ee480318",
   "metadata": {},
   "outputs": [],
   "source": [
    "# Exercice 9 (Middle word)\n",
    "# Correction faite par Russell\n",
    "def mid(string):\n",
    "    if (len(string)) % 2 == 0 :\n",
    "        return (' ')\n",
    "    else:\n",
    "        return string[len(string)//2]"
   ]
  },
  {
   "cell_type": "code",
   "execution_count": 42,
   "id": "4d5470ab-6a34-4cb6-8ec7-f22cc01adb6c",
   "metadata": {},
   "outputs": [
    {
     "name": "stdin",
     "output_type": "stream",
     "text": [
      "Entrer une phrase ou un mot:  abc\n"
     ]
    },
    {
     "data": {
      "text/plain": [
       "'b'"
      ]
     },
     "execution_count": 42,
     "metadata": {},
     "output_type": "execute_result"
    }
   ],
   "source": [
    "# Exercice 9: Middle letter\n",
    "# Correction faite par Maodo Sene\n",
    "def EnterChaine():\n",
    "    chaine = input(\"Entrer une phrase ou un mot: \")\n",
    "    return chaine\n",
    "def mid(chaine: str):\n",
    "    length = len(chaine)//2\n",
    "    return chaine[round(length)] if len(chaine)%2!=0 else  \"\"\n",
    "\n",
    "mid(EnterChaine())"
   ]
  },
  {
   "cell_type": "code",
   "execution_count": 43,
   "id": "5e4f4fc4-373a-44d9-8597-bc3e3a1ad717",
   "metadata": {},
   "outputs": [],
   "source": [
    "# Exercice 9: Middle letter\n",
    "# Correction faite par Anselme\n",
    "def mid(word : str):\n",
    "    if len(word)%2 == 0:\n",
    "        return \"\"\n",
    "    else:\n",
    "        index = (len(word)//2)\n",
    "        return word[index]"
   ]
  },
  {
   "cell_type": "code",
   "execution_count": 44,
   "id": "eea2e255-6bea-4d3d-9b94-921d99a66e7f",
   "metadata": {},
   "outputs": [],
   "source": [
    "# Exercice 9 Mid letter\n",
    "# Correction...\n",
    "def mid(word: str):\n",
    "    lenght = len(word)\n",
    "    return \"\" if lenght % 2 == 0 else word[lenght//2]"
   ]
  },
  {
   "cell_type": "code",
   "execution_count": 47,
   "id": "2aa27955-d26d-4a8b-9764-2d80f2b323ac",
   "metadata": {},
   "outputs": [],
   "source": [
    "statuses = { \"Alice\": \"online\",\n",
    "             \"Bob\": \"offline\", \n",
    "             \"Eve\": \"online\", \n",
    "             \"Eva\": \"online\"}\n",
    "\n",
    "# Exercice 9: count status\n",
    "# Correction faite par Anselme\n",
    "def online_count_one(status : dict):\n",
    "    count = 0\n",
    "    for key in status:\n",
    "        if status[key] == 'online':\n",
    "            count = count + 1          \n",
    "    return count\n",
    "\n",
    "def online_count_two(status : dict):\n",
    "    count = 0\n",
    "    for key,value in status.items():\n",
    "        if value == 'online':\n",
    "            count = count + 1          \n",
    "    return count"
   ]
  },
  {
   "cell_type": "code",
   "execution_count": 48,
   "id": "5c63cceb-ad79-4b61-9247-f6d0a6f0ab9e",
   "metadata": {},
   "outputs": [
    {
     "data": {
      "text/plain": [
       "3"
      ]
     },
     "execution_count": 48,
     "metadata": {},
     "output_type": "execute_result"
    }
   ],
   "source": [
    "# Exercice 9: count status\n",
    "# Correction faite par Maodo Sene\n",
    "def online_count(dico: dict):\n",
    "    online_numb = 0\n",
    "    for value in dico.values():\n",
    "        if value ==\"online\":\n",
    "            online_numb +=1\n",
    "    return online_numb\n",
    "\n",
    "online_count(statuses)"
   ]
  },
  {
   "cell_type": "code",
   "execution_count": 50,
   "id": "7abf1971-92a3-456c-a73c-8b140aff4565",
   "metadata": {},
   "outputs": [
    {
     "data": {
      "text/plain": [
       "'The number of people online is: 3'"
      ]
     },
     "execution_count": 50,
     "metadata": {},
     "output_type": "execute_result"
    }
   ],
   "source": [
    "# Exercice 9: count status\n",
    "# Correction faite par Russell\n",
    "def online_count(dico):\n",
    "    count = 0\n",
    "    for status in dico.values():\n",
    "        if status == \"online\" :\n",
    "            count += 1\n",
    "    return (\"The number of people online is: \" + str((count)))\n",
    "    \n",
    "#python3_statuses = { \"Alice\": \"online\", \"Bob\": \"offline\", \"Eve\": \"online\"}\n",
    "#print(online_count(python3_statuses))\n",
    "\n",
    "python4_statuses = { \"Alice\": \"online\", \"Bob\": \"offline\", \"Eve\": \"online\", \"Russell\": \"online\"}\n",
    "online_count(python4_statuses)"
   ]
  },
  {
   "cell_type": "code",
   "execution_count": 52,
   "id": "a040b5e1-84dc-4716-b8ed-5593d5b6204f",
   "metadata": {},
   "outputs": [],
   "source": [
    "# Exercice 9: Randomness\n",
    "# Correction faite par Anselme\n",
    "import random\n",
    "def random_number():\n",
    "    generate_number = random.randint(1, 100)\n",
    "    return generate_number"
   ]
  },
  {
   "cell_type": "code",
   "execution_count": 53,
   "id": "ea7d9663-4571-4a36-881a-663f6224c522",
   "metadata": {},
   "outputs": [
    {
     "data": {
      "text/plain": [
       "57"
      ]
     },
     "execution_count": 53,
     "metadata": {},
     "output_type": "execute_result"
    }
   ],
   "source": [
    "# Exercice 9: Randomness\n",
    "# Correction faite par Maodo\n",
    "def random_number():\n",
    "    return random.randint(1,100)\n",
    "\n",
    "random_number()"
   ]
  },
  {
   "cell_type": "code",
   "execution_count": 54,
   "id": "55e01a05-f662-434b-b5c7-9f4e820d4342",
   "metadata": {},
   "outputs": [
    {
     "name": "stdin",
     "output_type": "stream",
     "text": [
      "Entrer une phrase ou un mot ne contant pas de . : test\n"
     ]
    },
    {
     "name": "stdout",
     "output_type": "stream",
     "text": [
      "t.e.s.t\n",
      "test\n"
     ]
    }
   ],
   "source": [
    "# Exercice 9: Randomness\n",
    "# Correction faite par Maodo\n",
    "def add_dots():\n",
    "    while True:\n",
    "        chaine = input(\"Entrer une phrase ou un mot ne contant pas de . :\")\n",
    "        if \".\" not in chaine:\n",
    "            break\n",
    "    chaine_dot = chaine.replace(\"\", \".\").strip(\".\").replace(\". \", \" \").replace(\" .\",\" \").replace(\".,\",\",\")\n",
    "    print(chaine_dot)\n",
    "    return chaine_dot\n",
    "\n",
    "def remove_dots(chaine: str):\n",
    "    return chaine.replace(\".\",\"\")\n",
    "\n",
    "print(remove_dots(add_dots()))"
   ]
  },
  {
   "cell_type": "code",
   "execution_count": 55,
   "id": "0ef7631a-9f66-494c-94ca-699757e7cde9",
   "metadata": {},
   "outputs": [],
   "source": [
    "# Exercice 9: Randomness\n",
    "# Correction faite par Russell ou Anselme\n",
    "\n",
    "string = \"test\"\n",
    "\n",
    "def add_dots(string):\n",
    "    x = \".\".join(string)\n",
    "    return (x)\n",
    "\n",
    "def remove_dots(string):\n",
    "    x = string.replace(\".\", \"\")\n",
    "    return (x)\n",
    "\n",
    "#add_dots(string)\n",
    "#remove_dots(string)\n",
    "#remove_dots(add_dots(string))"
   ]
  },
  {
   "cell_type": "code",
   "execution_count": 56,
   "id": "b1adb8a1-7c04-4233-bd71-6553cff20dd1",
   "metadata": {},
   "outputs": [
    {
     "name": "stdin",
     "output_type": "stream",
     "text": [
      "entrer une chaine: hip-pop\n"
     ]
    },
    {
     "data": {
      "text/plain": [
       "2"
      ]
     },
     "execution_count": 56,
     "metadata": {},
     "output_type": "execute_result"
    }
   ],
   "source": [
    "# Exercice 9: count syllables\n",
    "# Correction faite par Maodo Sene\n",
    "def syllables_count():\n",
    "    string = input(\"entrer une chaine:\")\n",
    "    nb_syllab = string.count(\"-\") +1\n",
    "    return nb_syllab\n",
    "syllables_count()"
   ]
  },
  {
   "cell_type": "code",
   "execution_count": 57,
   "id": "935dd16d-63dd-4394-b6df-8f94dc567c57",
   "metadata": {},
   "outputs": [],
   "source": [
    "# Exercice 9: count syllables\n",
    "# Correction faite par Anselme\n",
    "def count(words : str):\n",
    "    countSyllabes = words.count('-')\n",
    "    return countSyllabes+1"
   ]
  },
  {
   "cell_type": "code",
   "execution_count": 62,
   "id": "a5481414-0ffd-4f05-861c-44b1f6c3022f",
   "metadata": {},
   "outputs": [],
   "source": [
    "# Exercice 9: count syllables\n",
    "# Correction...\n",
    "def count(word: str):\n",
    "    return word.split('-').__len__()"
   ]
  },
  {
   "cell_type": "code",
   "execution_count": 61,
   "id": "e7a511ee-b790-4ac4-8139-318cf897609d",
   "metadata": {},
   "outputs": [
    {
     "data": {
      "text/plain": [
       "2"
      ]
     },
     "execution_count": 61,
     "metadata": {},
     "output_type": "execute_result"
    }
   ],
   "source": [
    "count('hip-hop')"
   ]
  },
  {
   "cell_type": "code",
   "execution_count": 63,
   "id": "fc8f3ff6-1359-4d63-a969-2b34b8a80159",
   "metadata": {},
   "outputs": [
    {
     "data": {
      "text/plain": [
       "'False'"
      ]
     },
     "execution_count": 63,
     "metadata": {},
     "output_type": "execute_result"
    }
   ],
   "source": [
    "# Exercice 9: anagram\n",
    "# Correction faite par Maodo Sene\n",
    "def is_anagram(chaine1: str, chaine2: str):\n",
    "    if len(chaine1)==len(chaine2):\n",
    "        tab1 = list()\n",
    "        tab2 = list()\n",
    "        chaine1 = chaine1.lower()\n",
    "        chaine2 = chaine2.lower()\n",
    "        for i,j in zip(chaine1, chaine2):\n",
    "            tab1.append((i,chaine1.count(i)))\n",
    "            tab2.append((j,chaine2.count(j)))\n",
    "        tab1 = sorted(tab1, reverse = True, key = lambda list:list[0])\n",
    "        tab2 = sorted(tab2, reverse = True, key = lambda list:list[0])\n",
    "        if tab1==tab2:\n",
    "            return \"True\"\n",
    "    else : return \"False\"\n",
    "#is_anagram(\"Vote\", \"Veto\")\n",
    "is_anagram(\"Alice\", \"Bob\")"
   ]
  },
  {
   "cell_type": "code",
   "execution_count": 64,
   "id": "d0d7545d-fc2a-4182-ab3c-e8e0ae4f3223",
   "metadata": {},
   "outputs": [],
   "source": [
    "# Exercice 9: anagram\n",
    "# Correction...\n",
    "def is_anagram(string1: str, string2: str):\n",
    "    return sorted(string1) == sorted(string2)"
   ]
  },
  {
   "cell_type": "code",
   "execution_count": 66,
   "id": "fa4af0f9-27c3-4256-a986-e5bf9e6e95aa",
   "metadata": {},
   "outputs": [
    {
     "data": {
      "text/plain": [
       "False"
      ]
     },
     "execution_count": 66,
     "metadata": {},
     "output_type": "execute_result"
    }
   ],
   "source": [
    "is_anagram(\"Alice\", \"Bob\")"
   ]
  },
  {
   "cell_type": "code",
   "execution_count": 67,
   "id": "3fd0405d-d254-43f0-aef6-0f6226de31ec",
   "metadata": {},
   "outputs": [
    {
     "data": {
      "text/plain": [
       "True"
      ]
     },
     "execution_count": 67,
     "metadata": {},
     "output_type": "execute_result"
    }
   ],
   "source": [
    "is_anagram(\"Vote\", \"Veto\")"
   ]
  },
  {
   "cell_type": "code",
   "execution_count": 68,
   "id": "4b507d2c-8cb2-47a8-bcfa-cfceb53d5209",
   "metadata": {},
   "outputs": [
    {
     "data": {
      "text/plain": [
       "[1, 2, 3, 4, 5, 6]"
      ]
     },
     "execution_count": 68,
     "metadata": {},
     "output_type": "execute_result"
    }
   ],
   "source": [
    "# Exercice 10\n",
    "# Correction faite par Maodo Sene\n",
    "def flatten(liste1: list):\n",
    "    n = len(liste1)\n",
    "    liste = []\n",
    "    for i in range(n):\n",
    "        liste.extend(liste1[i])\n",
    "    return liste\n",
    "\n",
    "flatten([[1, 2], [3, 4], [5, 6]])"
   ]
  },
  {
   "cell_type": "code",
   "execution_count": 69,
   "id": "8a56e52e-c196-40ad-8041-ec42e3ca2dea",
   "metadata": {},
   "outputs": [
    {
     "data": {
      "text/plain": [
       "[1, 2, 3, 4, 5, 6]"
      ]
     },
     "execution_count": 69,
     "metadata": {},
     "output_type": "execute_result"
    }
   ],
   "source": [
    "# Exercice 10\n",
    "# Prémière méthode (Utiliser la concaténation)\n",
    "# Correction\n",
    "def flatten(tableau: list):\n",
    "    flatten_tableau = []\n",
    "    for item in tableau:\n",
    "        flatten_tableau += item\n",
    "    return flatten_tableau\n",
    "\n",
    "flatten([[1, 2], [3, 4], [5, 6]])"
   ]
  },
  {
   "cell_type": "code",
   "execution_count": 71,
   "id": "71e825f9-9ed8-4c3c-aeef-a542abb3d3ee",
   "metadata": {},
   "outputs": [
    {
     "data": {
      "text/plain": [
       "[1, 2, 3, 4, 5, 6]"
      ]
     },
     "execution_count": 71,
     "metadata": {},
     "output_type": "execute_result"
    }
   ],
   "source": [
    "# Exercice 10\n",
    "# deuxième méthode (Utiliser les listes compréhensions)\n",
    "# Correction\n",
    "def flatten(tableau: list):\n",
    "    return [\n",
    "        item\n",
    "        for tableau_interne in tableau\n",
    "        for item in tableau_interne\n",
    "    ]\n",
    "\n",
    "flatten([[1, 2], [3, 4], [5, 6]])"
   ]
  },
  {
   "cell_type": "code",
   "execution_count": 1,
   "id": "7b25010f-5a95-4847-aa76-ada31966afca",
   "metadata": {},
   "outputs": [],
   "source": [
    "#Exercice: Class and function\n",
    "\n",
    "# Déclarer de manière global un taux de 0.18\n",
    "\n",
    "# Créer une premiere classe du nom Contrat\n",
    "# Cette classe contiendra deux attributs\n",
    "#     un attribut du nom de salaire\n",
    "#     un attribut du nom de salaire_baase\n",
    "#         initialiser le salaire à 500 000\n",
    "#         initialiser le salaire de base a 135 000\n",
    "# Créer des getters et des setters pour cette classe pour chaque attribut\n",
    "# Puis créer une fonction qui calcule le taux d'augmentation annuelle du salire global comme suit\n",
    "#     augmentation annuelle = salaire de base * taux\n",
    "\n",
    "# Créer une deuxième classe Employe\n",
    "# Cette classe contiendra les attributs suivants\n",
    "#     Votre nom\n",
    "#     Votre prenom\n",
    "#     Votre profession\n",
    "# Cette classe doit contenir une fonction qui prend en paramètre\n",
    "#     le nombre d'année (le nombre d'année ici est un entier)\n",
    "#     Considérant que l'augmentation se fait de manière annuelle\n",
    "#     Cette fonction doit donc retourner le salaire total par rapport au nombre d'année renseigné\n",
    "# Ecriver une autre fonction du nom de displaySalary():\n",
    "#     Cette fonction doit prendre le salaire, le nombre d'année et l'année actuelle de décompte de l'augmenation\n",
    "#     Exemple: displaySalary(580000, 5, 2020)\n",
    "#     Cette fonction doit retourner:\n",
    "#     -----------------------------\n",
    "#     Nom: __ votre Nom au complet\n",
    "#     Profession: ______\n",
    "#     Experience en année: ______\n",
    "#     Salaire à ce jour: ______\n",
    "#     Salaire de base: ________\n",
    "#     Sursalaire: ________\n",
    "#\n",
    "#\n",
    "# NB: Le sursalaire est la différence entre le salaire total et le salire de base\n",
    "# NB: Utiliser les notions adéquates pour utiliser les fonctions de la classe Contrat dans la classe Employe\n",
    "# NB: User de vôtre ingéniosité pour écrire un code claire et optimal"
   ]
  },
  {
   "cell_type": "code",
   "execution_count": 12,
   "id": "c912f75a-41da-4bf7-8e03-f630dfdd0eb0",
   "metadata": {},
   "outputs": [
    {
     "name": "stdout",
     "output_type": "stream",
     "text": [
      "<__main__.A object at 0x7fb3e7172b50>\n"
     ]
    }
   ],
   "source": [
    "class A:\n",
    "    pass\n",
    "\n",
    "var = A()\n",
    "\n",
    "print(var)"
   ]
  },
  {
   "cell_type": "code",
   "execution_count": 14,
   "id": "4e13731d-3783-4bfc-a9a4-3b3a9fd19ec3",
   "metadata": {},
   "outputs": [
    {
     "name": "stdout",
     "output_type": "stream",
     "text": [
      "Personne -> \n",
      "        ----------------------------\n",
      "        De Nom: Ali \n",
      "        De sexe: Masculin\n",
      "        Et d'age': 28\n",
      "        ----------------------------\n"
     ]
    }
   ],
   "source": [
    "class A:\n",
    "    name = 'Ali'\n",
    "    sex = 'Masculin'\n",
    "    age = 28\n",
    "    \n",
    "    # __repr__ permet de définir un résultat explicite lorsqu'on appelle ou instancie un objet\n",
    "    # Une classe est un objet (<__main__.A object at 0x7fb3e7172b50>)\n",
    "    def __repr__(self):\n",
    "        return f\"Personne -> \\n\\\n",
    "        ----------------------------\\n\\\n",
    "        De Nom: {self.getName()} \\n\\\n",
    "        De sexe: {self.getSex()}\\n\\\n",
    "        Et d'age': {self.getAge()}\\n\\\n",
    "        ----------------------------\"\n",
    "    \n",
    "    def getName(self) -> str:\n",
    "        return self.name\n",
    "\n",
    "    def getSex(self) -> str:\n",
    "        return self.sex\n",
    "\n",
    "    def getAge(self) -> int:\n",
    "        return self.age\n",
    "    \n",
    "var = A()\n",
    "\n",
    "print(var)"
   ]
  },
  {
   "cell_type": "code",
   "execution_count": 15,
   "id": "8fad6a65-4947-49a2-b38f-d24ae29d21fa",
   "metadata": {},
   "outputs": [
    {
     "data": {
      "text/plain": [
       "True"
      ]
     },
     "execution_count": 15,
     "metadata": {},
     "output_type": "execute_result"
    }
   ],
   "source": [
    "var1 = 18 # Entier sont aussi des Objects\n",
    "var2 = 20 # Entier sont aussi des Objects\n",
    "\n",
    "var2 > var1 # __gt__"
   ]
  },
  {
   "cell_type": "code",
   "execution_count": 20,
   "id": "8839e51a-a6c4-4f79-bd57-38d272335711",
   "metadata": {},
   "outputs": [],
   "source": [
    "class A:\n",
    "    name = 'Ali'\n",
    "    sex = 'Masculin'\n",
    "    age = 28\n",
    "    \n",
    "    # __repr__ permet de définir un résultat explicite lorsqu'on appelle ou instancie un objet\n",
    "    # Une classe est un objet (<__main__.A object at 0x7fb3e7172b50>)\n",
    "    def __repr__(self):\n",
    "        return f\"Personne -> \\n\\\n",
    "        ----------------------------\\n\\\n",
    "        De Nom: {self.getName()} \\n\\\n",
    "        De sexe: {self.getSex()}\\n\\\n",
    "        Et d'age': {self.getAge()}\\n\\\n",
    "        ----------------------------\"\n",
    "    \n",
    "    # naive method\n",
    "    def __eq__(self, other):\n",
    "        if isinstance(other, self.__class__):\n",
    "            if self.getName() == other.getName() \\\n",
    "                    and self.getSex() == other.getSex() \\\n",
    "                    and self.getAge() == other.getAge():\n",
    "                return True\n",
    "        return False\n",
    "    \n",
    "    def getName(self) -> str:\n",
    "        return self.name\n",
    "\n",
    "    def getSex(self) -> str:\n",
    "        return self.sex\n",
    "\n",
    "    def getAge(self) -> int:\n",
    "        return self.age"
   ]
  },
  {
   "cell_type": "code",
   "execution_count": 21,
   "id": "72d67e31-c575-4a44-a540-29fa95cd94b8",
   "metadata": {},
   "outputs": [
    {
     "data": {
      "text/plain": [
       "True"
      ]
     },
     "execution_count": 21,
     "metadata": {},
     "output_type": "execute_result"
    }
   ],
   "source": [
    "var_a1 = A()\n",
    "var_a2 = A()\n",
    "\n",
    "var_a1 == var_a2"
   ]
  },
  {
   "cell_type": "code",
   "execution_count": 22,
   "id": "448a454f-668d-4122-a3cd-2c28278bbf99",
   "metadata": {},
   "outputs": [
    {
     "ename": "TypeError",
     "evalue": "object of type 'A' has no len()",
     "output_type": "error",
     "traceback": [
      "\u001b[0;31m---------------------------------------------------------------------------\u001b[0m",
      "\u001b[0;31mTypeError\u001b[0m                                 Traceback (most recent call last)",
      "Input \u001b[0;32mIn [22]\u001b[0m, in \u001b[0;36m<module>\u001b[0;34m\u001b[0m\n\u001b[1;32m      1\u001b[0m \u001b[38;5;66;03m# La fonction len\u001b[39;00m\n\u001b[1;32m      2\u001b[0m \u001b[38;5;66;03m# Qui permet de retourner la longueur d'un object\u001b[39;00m\n\u001b[1;32m      3\u001b[0m \u001b[38;5;66;03m# Parce une Liste ou tuple ou dictionnaire est un object\u001b[39;00m\n\u001b[1;32m      4\u001b[0m \u001b[38;5;66;03m# Donc la class A peut implémenter ce comportement (len)\u001b[39;00m\n\u001b[0;32m----> 6\u001b[0m \u001b[38;5;28;43mlen\u001b[39;49m\u001b[43m(\u001b[49m\u001b[43mvar_a1\u001b[49m\u001b[43m)\u001b[49m\n",
      "\u001b[0;31mTypeError\u001b[0m: object of type 'A' has no len()"
     ]
    }
   ],
   "source": [
    "# La fonction len\n",
    "# Qui permet de retourner la longueur d'un object\n",
    "# Parce une Liste ou tuple ou dictionnaire est un object\n",
    "# Donc la class A peut implémenter ce comportement (len)\n",
    "\n",
    "len(var_a1)"
   ]
  },
  {
   "cell_type": "code",
   "execution_count": 26,
   "id": "c60594ea-1263-478d-9467-a250b87e9ebd",
   "metadata": {},
   "outputs": [],
   "source": [
    "class A:\n",
    "    name = 'Ali'\n",
    "    sex = 'Masculin'\n",
    "    age = 28\n",
    "    \n",
    "    # __repr__ permet de définir un résultat explicite lorsqu'on appelle ou instancie un objet\n",
    "    # Une classe est un objet (<__main__.A object at 0x7fb3e7172b50>)\n",
    "    def __repr__(self):\n",
    "        return f\"Personne -> \\n\\\n",
    "        ----------------------------\\n\\\n",
    "        De Nom: {self.getName()} \\n\\\n",
    "        De sexe: {self.getSex()}\\n\\\n",
    "        Et d'age': {self.getAge()}\\n\\\n",
    "        ----------------------------\"\n",
    "    \n",
    "    def __len__(self):\n",
    "        return 1\n",
    "    \n",
    "    def __eq__(self, other):\n",
    "        if isinstance(other, self.__class__):\n",
    "            if self.__dict__ == other.__dict__:\n",
    "                return True\n",
    "            return False\n",
    "    \n",
    "    def getName(self) -> str:\n",
    "        return self.name\n",
    "\n",
    "    def getSex(self) -> str:\n",
    "        return self.sex\n",
    "\n",
    "    def getAge(self) -> int:\n",
    "        return self.age"
   ]
  },
  {
   "cell_type": "code",
   "execution_count": 27,
   "id": "f326df89-ebbd-44f8-a40f-9191dd488f77",
   "metadata": {},
   "outputs": [
    {
     "data": {
      "text/plain": [
       "1"
      ]
     },
     "execution_count": 27,
     "metadata": {},
     "output_type": "execute_result"
    }
   ],
   "source": [
    "var_a1 = A()\n",
    "var_a2 = A()\n",
    "\n",
    "len(var_a1)"
   ]
  },
  {
   "cell_type": "code",
   "execution_count": 28,
   "id": "3a59ec78-e6f4-45c4-b9ad-aada06a5968a",
   "metadata": {},
   "outputs": [],
   "source": [
    "class A:\n",
    "    name = 'Ali'\n",
    "    sex  = 'Masculin'\n",
    "    age  = 28\n",
    "    \n",
    "    # __repr__ permet de définir un résultat explicite lorsqu'on appelle ou instancie un objet\n",
    "    # Une classe est un objet (<__main__.A object at 0x7fb3e7172b50>)\n",
    "    def __repr__(self):\n",
    "        return f\"Personne -> \\n\\\n",
    "        ----------------------------\\n\\\n",
    "        De Nom: {self.getName()} \\n\\\n",
    "        De sexe: {self.getSex()}\\n\\\n",
    "        Et d'age': {self.getAge()}\\n\\\n",
    "        ----------------------------\"\n",
    "    \n",
    "    def __len__(self):\n",
    "        return 1\n",
    "    \n",
    "    def __eq__(self, other):\n",
    "        if isinstance(other, self.__class__):\n",
    "            if self.__dict__ == other.__dict__:\n",
    "                return True\n",
    "            return False\n",
    "        \n",
    "    def __gt__(self, other):\n",
    "        if isinstance(other, self.__class__):\n",
    "            if self.getAge() > other.getAge():\n",
    "                return True\n",
    "        return False\n",
    "    \n",
    "    def getName(self) -> str:\n",
    "        return self.name\n",
    "\n",
    "    def getSex(self) -> str:\n",
    "        return self.sex\n",
    "\n",
    "    def getAge(self) -> int:\n",
    "        return self.age"
   ]
  },
  {
   "cell_type": "code",
   "execution_count": 29,
   "id": "0c782981-3fef-4b7e-bbb7-a1f6f99c259f",
   "metadata": {},
   "outputs": [
    {
     "data": {
      "text/plain": [
       "True"
      ]
     },
     "execution_count": 29,
     "metadata": {},
     "output_type": "execute_result"
    }
   ],
   "source": [
    "var_a1 = A()\n",
    "var_a2 = A()\n",
    "\n",
    "var_a1.age = 30\n",
    "\n",
    "var_a1 > var_a2"
   ]
  },
  {
   "cell_type": "markdown",
   "id": "d93602c4-df84-4bd8-8148-01b7ad6283c1",
   "metadata": {},
   "source": [
    "## Panomara sur la notion de classe"
   ]
  },
  {
   "cell_type": "code",
   "execution_count": 2,
   "id": "35634398-e60e-44ad-9e4e-9f748c873e0e",
   "metadata": {},
   "outputs": [
    {
     "name": "stdout",
     "output_type": "stream",
     "text": [
      "Majeur\n"
     ]
    }
   ],
   "source": [
    "# Une classe est une structure de données\n",
    "# Une classe permet de regrouper un ensemble de fonctions (méthodes), d'attrbuts\n",
    "# Dans l'application des normes une classe gère une responsabilité.\n",
    "# Ces fonctions et attributs permettent de donner un comportement spécifique à cette classe\n",
    "# Ainsi on peut faire l'analogie entre une CLASS et une usine\n",
    "# Ainsi si une classe est une usine alors les fonctions qu'elle renferme sont soient des employés ou des materiels dédiés au fonction ciblé de cette usine\n",
    "# Une CLASS étant une structure de données est aussi donc un type\n",
    "# Exemple:\n",
    "\n",
    "# Déterminer si un individu quelconque est mineur ou pas\n",
    "# La signature de cette fonction est major(age: int)\n",
    "def major(age: int):\n",
    "    return 'Majeur' if age > 18 else 'Mineur'\n",
    "\n",
    "\n",
    "# Déterminer si un individu ayant 20 ans est majeur ou pas\n",
    "class Major:\n",
    "    age = 20 # attribut\n",
    "    \n",
    "    def major(self):\n",
    "        return 'Majeur' if self.age > 18 else 'Mineur'\n",
    "    \n",
    "var = Major()\n",
    "\n",
    "print(var.major())"
   ]
  },
  {
   "cell_type": "code",
   "execution_count": 3,
   "id": "e9f8596d-7bec-418c-a712-98079b430726",
   "metadata": {},
   "outputs": [
    {
     "data": {
      "text/plain": [
       "('SENE Maodo', 'Chef Projet', 'Sénégal')"
      ]
     },
     "execution_count": 3,
     "metadata": {},
     "output_type": "execute_result"
    }
   ],
   "source": [
    "class A:\n",
    "    name = \"SENE Maodo\"\n",
    "    profession = \"Chef Projet\"\n",
    "    pays = \"Sénégal\"\n",
    "    \n",
    "varA = A()\n",
    "\n",
    "varA.name, varA.profession, varA.pays"
   ]
  },
  {
   "cell_type": "code",
   "execution_count": 5,
   "id": "b8fddabe-7cb0-40bc-b2c8-3b03be73401d",
   "metadata": {},
   "outputs": [
    {
     "data": {
      "text/plain": [
       "('SENE Maodo', 'Chef Projet', 'Sénégal')"
      ]
     },
     "execution_count": 5,
     "metadata": {},
     "output_type": "execute_result"
    }
   ],
   "source": [
    "varA = A()\n",
    "\n",
    "#dir(varA) # Toutes les fonctions __ et finissant par __ sont appelées des fonctions magiques\n",
    "varA.__getattribute__('name'), varA.__getattribute__('profession'), varA.__getattribute__('pays')"
   ]
  },
  {
   "cell_type": "code",
   "execution_count": 6,
   "id": "1b9e9111-0040-4d09-91a7-9a2735daa1ee",
   "metadata": {},
   "outputs": [
    {
     "data": {
      "text/plain": [
       "True"
      ]
     },
     "execution_count": 6,
     "metadata": {},
     "output_type": "execute_result"
    }
   ],
   "source": [
    "varA = A()\n",
    "\n",
    "hasattr(varA, 'name')"
   ]
  },
  {
   "cell_type": "code",
   "execution_count": 9,
   "id": "c572a263-be15-4f0a-b081-1c4fb04c2f97",
   "metadata": {},
   "outputs": [
    {
     "name": "stdout",
     "output_type": "stream",
     "text": [
      "SENE Maodo\n",
      "Chef Projet\n",
      "Sénégal\n"
     ]
    }
   ],
   "source": [
    "varA = A()\n",
    "\n",
    "def displayAllAttributes():\n",
    "    if hasattr(varA, 'name'):\n",
    "        print(varA.__getattribute__('name'))\n",
    "        \n",
    "    if hasattr(varA, 'profession'):\n",
    "        print(varA.__getattribute__('profession'))\n",
    "              \n",
    "    if hasattr(varA, 'pays'):\n",
    "        print(varA.__getattribute__('pays'))\n",
    "\n",
    "displayAllAttributes()"
   ]
  },
  {
   "cell_type": "code",
   "execution_count": 11,
   "id": "7a9bd17d-253c-4545-81d4-ba3db6de5d56",
   "metadata": {},
   "outputs": [
    {
     "data": {
      "text/plain": [
       "mappingproxy({'__module__': '__main__',\n",
       "              'name': 'SENE Maodo',\n",
       "              'profession': 'Chef Projet',\n",
       "              'pays': 'Sénégal',\n",
       "              '__dict__': <attribute '__dict__' of 'A' objects>,\n",
       "              '__weakref__': <attribute '__weakref__' of 'A' objects>,\n",
       "              '__doc__': None})"
      ]
     },
     "execution_count": 11,
     "metadata": {},
     "output_type": "execute_result"
    }
   ],
   "source": [
    "vars(A) # mapping dictionnaire / liste par abus de langage"
   ]
  },
  {
   "cell_type": "code",
   "execution_count": 12,
   "id": "abeefe75-2d04-4643-a700-dec122fc5ffa",
   "metadata": {},
   "outputs": [
    {
     "data": {
      "text/plain": [
       "314.2857142857143"
      ]
     },
     "execution_count": 12,
     "metadata": {},
     "output_type": "execute_result"
    }
   ],
   "source": [
    "# Calcule de la surface d'un cercle\n",
    "# La formule est PI * r2\n",
    "# self c'est pour faire référence a la classe actuelle\n",
    "# C'est comme this dans les autres langages.\n",
    "# Les constructeurs.\n",
    "\n",
    "class SurfaceCercle:\n",
    "    PI = 22/7\n",
    "    \n",
    "    def calcSurface(self, rayon: float):\n",
    "        return self.PI * rayon**2\n",
    "    \n",
    "varS = SurfaceCercle()\n",
    "\n",
    "varS.calcSurface(10)"
   ]
  },
  {
   "cell_type": "code",
   "execution_count": 15,
   "id": "6e528db6-61d3-4e8c-b614-3e39c4269320",
   "metadata": {},
   "outputs": [
    {
     "ename": "TypeError",
     "evalue": "__init__() missing 1 required positional argument: 'rayon'",
     "output_type": "error",
     "traceback": [
      "\u001b[0;31m---------------------------------------------------------------------------\u001b[0m",
      "\u001b[0;31mTypeError\u001b[0m                                 Traceback (most recent call last)",
      "Input \u001b[0;32mIn [15]\u001b[0m, in \u001b[0;36m<module>\u001b[0;34m\u001b[0m\n\u001b[1;32m     10\u001b[0m     \u001b[38;5;28;01mdef\u001b[39;00m \u001b[38;5;21mcalcSurface\u001b[39m(\u001b[38;5;28mself\u001b[39m):\n\u001b[1;32m     11\u001b[0m         \u001b[38;5;28;01mreturn\u001b[39;00m \u001b[38;5;28mself\u001b[39m\u001b[38;5;241m.\u001b[39mPI \u001b[38;5;241m*\u001b[39m \u001b[38;5;28mself\u001b[39m\u001b[38;5;241m.\u001b[39mrayon\u001b[38;5;241m*\u001b[39m\u001b[38;5;241m*\u001b[39m\u001b[38;5;241m2\u001b[39m\n\u001b[0;32m---> 13\u001b[0m varS \u001b[38;5;241m=\u001b[39m \u001b[43mSurfaceCercle\u001b[49m\u001b[43m(\u001b[49m\u001b[43m)\u001b[49m\n\u001b[1;32m     15\u001b[0m varS\u001b[38;5;241m.\u001b[39mcalcSurface(\u001b[38;5;241m10\u001b[39m)\n",
      "\u001b[0;31mTypeError\u001b[0m: __init__() missing 1 required positional argument: 'rayon'"
     ]
    }
   ],
   "source": [
    "# Le constructeur permet de donner une signature à la classe\n",
    "# Syntaxe: def __init__(self, args1, ..., argsN)\n",
    "\n",
    "class SurfaceCercle:\n",
    "    PI = 22/7\n",
    "    \n",
    "    def __init__(self, rayon: float):\n",
    "        self.rayon = rayon\n",
    "    \n",
    "    def calcSurface(self):\n",
    "        return self.PI * self.rayon**2\n",
    "    \n",
    "varS = SurfaceCercle()\n",
    "\n",
    "varS.calcSurface(10)"
   ]
  },
  {
   "cell_type": "code",
   "execution_count": 16,
   "id": "d14cc6eb-0d05-4afd-8377-0ec086f837aa",
   "metadata": {},
   "outputs": [
    {
     "data": {
      "text/plain": [
       "314.2857142857143"
      ]
     },
     "execution_count": 16,
     "metadata": {},
     "output_type": "execute_result"
    }
   ],
   "source": [
    "class SurfaceCercle:\n",
    "    PI = 22/7\n",
    "    \n",
    "    def __init__(self, rayon: float):\n",
    "        self.rayon = rayon\n",
    "    \n",
    "    def calcSurface(self):\n",
    "        return self.PI * self.rayon**2\n",
    "    \n",
    "varS = SurfaceCercle(10)\n",
    "\n",
    "varS.calcSurface()"
   ]
  },
  {
   "cell_type": "code",
   "execution_count": 18,
   "id": "317bf4d1-0c54-455e-8481-f5e119dabaa9",
   "metadata": {},
   "outputs": [
    {
     "data": {
      "text/plain": [
       "314.2857142857143"
      ]
     },
     "execution_count": 18,
     "metadata": {},
     "output_type": "execute_result"
    }
   ],
   "source": [
    "class SurfaceCercle:\n",
    "    PI = 22/7\n",
    "    \n",
    "    @classmethod\n",
    "    def getPI(cls):\n",
    "        return cls.PI\n",
    "    \n",
    "    def calcSurface(cls, rayon: float):\n",
    "        return cls.getPI() * rayon**2\n",
    "    \n",
    "varS = SurfaceCercle()\n",
    "\n",
    "varS.calcSurface(10)"
   ]
  },
  {
   "cell_type": "code",
   "execution_count": 24,
   "id": "1e254bd9-0425-41a7-8a1b-028e32172b55",
   "metadata": {},
   "outputs": [
    {
     "data": {
      "text/plain": [
       "(14, 15, 16, 20, 188181, 'Maodo', 18.001991)"
      ]
     },
     "execution_count": 24,
     "metadata": {},
     "output_type": "execute_result"
    }
   ],
   "source": [
    "# Fonction qui permet de récupérer un ensemble d'argument\n",
    "# Utilisation des arguments de position\n",
    "def function(args1):\n",
    "    return args1\n",
    "\n",
    "def function2(args1, args2):\n",
    "    return args1, args2\n",
    "\n",
    "def function3(args1, args2, args3):\n",
    "    return args1, args2, args3\n",
    "\n",
    "# retourne un tuple\n",
    "def function4(*args):\n",
    "    return args\n",
    "    \n",
    "function4(14, 15, 16, 20, 188181, 'Maodo', 18.001991)"
   ]
  },
  {
   "cell_type": "code",
   "execution_count": 29,
   "id": "3b7b103b-44ec-4249-8d7e-5ecf9bba7a7a",
   "metadata": {},
   "outputs": [
    {
     "ename": "SyntaxError",
     "evalue": "non-default argument follows default argument (936101402.py, line 9)",
     "output_type": "error",
     "traceback": [
      "\u001b[0;36m  Input \u001b[0;32mIn [29]\u001b[0;36m\u001b[0m\n\u001b[0;31m    def function3(args1=14, args2):\u001b[0m\n\u001b[0m                                 ^\u001b[0m\n\u001b[0;31mSyntaxError\u001b[0m\u001b[0;31m:\u001b[0m non-default argument follows default argument\n"
     ]
    }
   ],
   "source": [
    "# Fonction qui permet de récupérer un map de données\n",
    "# Utilisation des arguments de position\n",
    "def function(args1=14):\n",
    "    return args1\n",
    "\n",
    "def function2(args1=14, args2=15):\n",
    "    return args1, args2\n",
    "\n",
    "def function3(args1=14, args2):\n",
    "    return args1, args2\n",
    "    \n",
    "#function2()\n",
    "#function2(16)\n",
    "#function2(args2=20)\n",
    "function3()"
   ]
  },
  {
   "cell_type": "code",
   "execution_count": 36,
   "id": "40f5aadd-8b23-4524-87ae-9c810403a433",
   "metadata": {},
   "outputs": [
    {
     "data": {
      "text/plain": [
       "{'name': 'Eric', 'age': 28, 'pays': 'Niger'}"
      ]
     },
     "execution_count": 36,
     "metadata": {},
     "output_type": "execute_result"
    }
   ],
   "source": [
    "# Fonction qui permet de récupérer un map de données\n",
    "# Utilisation des arguments de position\n",
    "def function(args1=14):\n",
    "    return args1\n",
    "\n",
    "def function2(args1=14, args2=15):\n",
    "    return args1, args2\n",
    "\n",
    "def function3(args1=14, args2=22, args3=30):\n",
    "    return args1, args2, args3\n",
    "\n",
    "# retourne un dictionnaire\n",
    "def function4(**kwargs):\n",
    "    return kwargs\n",
    "    \n",
    "#function2()\n",
    "#function2(16)\n",
    "#function2(args2=20)\n",
    "function4(name='Eric', age=28, pays='Niger')"
   ]
  },
  {
   "cell_type": "code",
   "execution_count": 37,
   "id": "87d8164e-351c-4888-8e0d-e22f796126d9",
   "metadata": {},
   "outputs": [
    {
     "data": {
      "text/plain": [
       "((14, 15, 16), {'name': 'Eric', 'age': 28, 'pays': 'Niger'})"
      ]
     },
     "execution_count": 37,
     "metadata": {},
     "output_type": "execute_result"
    }
   ],
   "source": [
    "# Fonction qui permet de récupérer un map de données\n",
    "# Utilisation des arguments de position\n",
    "# Utilisation de *args et **kwargs\n",
    "def function(*args, **kwargs):\n",
    "    return args, kwargs\n",
    "    \n",
    "# Retourne un tuple contenant un tuple et un dictionnaire\n",
    "function(14, 15, 16, name='Eric', age=28, pays='Niger')"
   ]
  },
  {
   "cell_type": "code",
   "execution_count": 38,
   "id": "222ea197-aa25-4632-bfa1-01e1f1dface4",
   "metadata": {},
   "outputs": [
    {
     "data": {
      "text/plain": [
       "'Majeur'"
      ]
     },
     "execution_count": 38,
     "metadata": {},
     "output_type": "execute_result"
    }
   ],
   "source": [
    "def major(*args, **kwargs):\n",
    "    if 'age' in kwargs:\n",
    "        return 'Majeur' if kwargs['age'] > 18 else 'Mineur'\n",
    "    return 'Undefined'\n",
    "\n",
    "major(age=20)"
   ]
  },
  {
   "cell_type": "code",
   "execution_count": 39,
   "id": "86c9dd51-13ef-49ea-901a-00e7995cc00e",
   "metadata": {},
   "outputs": [
    {
     "data": {
      "text/plain": [
       "'Undefined'"
      ]
     },
     "execution_count": 39,
     "metadata": {},
     "output_type": "execute_result"
    }
   ],
   "source": [
    "def major(*args, **kwargs):\n",
    "    if 'age' in kwargs:\n",
    "        return 'Majeur' if kwargs['age'] > 18 else 'Mineur'\n",
    "    return 'Undefined'\n",
    "\n",
    "major()"
   ]
  },
  {
   "cell_type": "code",
   "execution_count": 40,
   "id": "20af8f72-27ff-465d-bea4-733dc3e80fa8",
   "metadata": {},
   "outputs": [
    {
     "data": {
      "text/plain": [
       "'Undefined'"
      ]
     },
     "execution_count": 40,
     "metadata": {},
     "output_type": "execute_result"
    }
   ],
   "source": [
    "def major(*args, **kwargs):\n",
    "    if kwargs.get('age'):\n",
    "        return 'Majeur' if kwargs.get('age') > 18 else 'Mineur'\n",
    "    return 'Undefined'\n",
    "    \n",
    "major()"
   ]
  },
  {
   "cell_type": "code",
   "execution_count": 41,
   "id": "54b4dcbd-3452-4ade-9ad2-5324bf094d1e",
   "metadata": {},
   "outputs": [],
   "source": [
    "# En python on a une class qui est l'equivalent de Null ou null ou NULL\n",
    "# Une classe qui est l'équivalent de undefined\n",
    "\n",
    "varA = None\n",
    "\n",
    "# Equivalent de Null, ou NULL ou null\n",
    "varA"
   ]
  },
  {
   "cell_type": "code",
   "execution_count": 45,
   "id": "d6fd1faa-f45a-44d7-abf6-15be55398ebd",
   "metadata": {},
   "outputs": [
    {
     "name": "stdout",
     "output_type": "stream",
     "text": [
      "Salarié\n",
      "        ----------------------------------------------------\n",
      "                Nom : Maodo SENE\n",
      "                Profession : Ingénieur\n",
      "                Experience en année: 2\n",
      "                Salaire à ce jour: 90000\n",
      "                Salaire de base: 56000\n",
      "                Sursalaire: 54160.0\n",
      "Salarié\n",
      "        ----------------------------------------------------\n",
      "                Nom : Omar SY\n",
      "                Profession : Comptable\n",
      "                Experience en année: 4\n",
      "                Salaire à ce jour: 110000\n",
      "                Salaire de base: 80000\n",
      "                Sursalaire: 87600.0\n"
     ]
    }
   ],
   "source": [
    "# Exercice: Class and function\n",
    "# Correction faite par Maodo Sene\n",
    "class Contrat():\n",
    "    taux = 0.18\n",
    "    def __init__(self, salaire: float = 500000, salaire_base: float = 135000)->float:\n",
    "        self._salaire = salaire\n",
    "        self._salaire_base = salaire_base\n",
    "\n",
    "    def _set_salaire(self, salaire)->float:    #un setteur ou mutateur: pour modifier la valeur d'un attribut\n",
    "        self._salaire = salaire\n",
    "        \n",
    "     \n",
    "    def _get_salaire(self)->float:             #un getteur : pour acceder à la valeur d'un attribut\n",
    "        return self._salaire\n",
    "   \n",
    "   \n",
    "    def _get_salaire_base(self)->float:\n",
    "        return self._salaire_base\n",
    "    \n",
    "     \n",
    "    def _set_salaire_base(self, salaire_base)->float:\n",
    "        self._salaire_base = salaire_base\n",
    "    \n",
    "    def _augmente_annuel(self)->float:\n",
    "        self.augment = self.taux*self._get_salaire_base()\n",
    "        return self.augment\n",
    "    \n",
    "    salaire      = property(_get_salaire, _set_salaire)\n",
    "    salaire_base = property(_get_salaire_base, _set_salaire_base)\n",
    "\n",
    "class Employe(Contrat):\n",
    "    def __init__(self, prenom : str , nom: str, profession: str,salaire_base :float, salaire: float, nbre_anne: int)->str:\n",
    "        self._nom          = nom\n",
    "        self._prenom       = prenom\n",
    "        self._profession   = profession\n",
    "        self._nbre_anne    = nbre_anne\n",
    "        self._salaire      = salaire\n",
    "        self._salaire_base = salaire_base\n",
    "    \n",
    "# Cette classe doit contenir une fonction qui prend en paramètre\n",
    "#     le nombre d'année (le nombre d'année ici est un entier)\n",
    "#     Considérant que l'augmentation se fait de manière annuelle\n",
    "#     Cette fonction doit donc retourner le salaire total par rapport au nombre d'année renseigné\n",
    "    \n",
    "    def _salaire_tot(self)->float:\n",
    "        return (self._get_salaire() + self._augmente_annuel()*self._nbre_anne)   \n",
    "   \n",
    "    def _display(self):    \n",
    "        return f\"Salarié\\n\\\n",
    "        ----------------------------------------------------\\n\\\n",
    "                Nom : {self._prenom} {self._nom}\\n\\\n",
    "                Profession : {self._profession}\\n\\\n",
    "                Experience en année: {self._nbre_anne}\\n\\\n",
    "                Salaire à ce jour: {self._get_salaire()}\\n\\\n",
    "                Salaire de base: {self._get_salaire_base()}\\n\\\n",
    "                Sursalaire: {self._salaire_tot()-self._get_salaire_base()}\"\n",
    "\n",
    "\n",
    "EmployeN1=Employe(\"Maodo\",\"SENE\",\"Ingénieur\", 56000, 90000, 2)\n",
    "#EmployeN1._salaire = 80000\n",
    "EmployeN1._salaire_base = 56000\n",
    "print(EmployeN1._display())\n",
    "\n",
    "EmployeN2=Employe(\"Omar\",\"SY\",\"Comptable\", 60000, 90000, 4)\n",
    "EmployeN2._salaire = 110000\n",
    "EmployeN2._salaire_base = 80000\n",
    "print(EmployeN2._display())"
   ]
  },
  {
   "cell_type": "code",
   "execution_count": 46,
   "id": "5fa6139d-3977-4504-954c-57fbaec4b855",
   "metadata": {},
   "outputs": [
    {
     "name": "stdout",
     "output_type": "stream",
     "text": [
      "----------------------------------Informations personnelles-----------------------------\n",
      "Nouveau montant:  580000\n",
      "Nom: Lamine FATY\n",
      "Profession: Data Scientist\n",
      "Expèrience en année: 5\n",
      "----------------------------------Informations sur salaire-----------------------------\n",
      "Salaire à ce jour: 2621500\n",
      "Salaire de base: 135000\n",
      "Sursalaire: 913600\n"
     ]
    }
   ],
   "source": [
    "# Exercice: Class et Function\n",
    "# Correction faite par Lamine\n",
    "# Correction d'exercice\n",
    "import math\n",
    "taux = 0.18\n",
    "    \n",
    "class Contrat:\n",
    "    salaire = 500000\n",
    "    salaire_base = 135000\n",
    "    \n",
    "    def getSalaire(self) -> float:\n",
    "        return self.salaire\n",
    "    \n",
    "    def getSalaire_base(self) -> float:\n",
    "        return self.salaire_base\n",
    "\n",
    "    def setSalaire(self, newSalaire: float) -> float:\n",
    "        self.salaire = newSalaire\n",
    "        \n",
    "    def setSalaire_base(self, newSalaire_base: float) -> float:\n",
    "        self.salaire_base = newSalaire_base\n",
    "\n",
    "    def calcAugmentation(self) -> float:\n",
    "        return self.getSalaire_base() * taux\n",
    "    \n",
    "class Employe(Contrat):\n",
    "    nom = 'Faty'.upper()\n",
    "    prenom = 'Lamine'.capitalize()\n",
    "    profession = 'Data Scientist'.title()\n",
    "    \n",
    "    def augmentation(self, nombreAnnee: int) -> float:\n",
    "        return math.ceil((self.getSalaire() + self.calcAugmentation()) * nombreAnnee)\n",
    "\n",
    "def displaySalary(sal: float, nb_an: int, an_decompte:int):\n",
    "    c = Contrat()\n",
    "    c.salaire = sal\n",
    "    print(\"----------------------------------Informations personnelles-----------------------------\")\n",
    "    print(\"Nouveau montant: \", c.salaire)\n",
    "    print(\"Nom: {} {}\".format(Employe().__getattribute__('prenom'), Employe().__getattribute__('nom')))\n",
    "    print(\"Profession: {}\".format(Employe().__getattribute__('profession')))\n",
    "    print(\"Expèrience en année: {}\".format(nb_an))\n",
    "    \n",
    "    print(\"----------------------------------Informations sur salaire-----------------------------\")\n",
    "    print(\"Salaire à ce jour: {}\".format(Employe().augmentation(nb_an)))\n",
    "    print(\"Salaire de base: {}\".format(Employe().getSalaire_base()))\n",
    "    print(\"Sursalaire: {}\".format(Employe().augmentation(2) - Employe().getSalaire_base()))\n",
    "               \n",
    "displaySalary(580000, 5, 2020)"
   ]
  },
  {
   "cell_type": "code",
   "execution_count": 47,
   "id": "781f0780-1ee5-4574-814e-e354f6c9bf65",
   "metadata": {},
   "outputs": [],
   "source": [
    "# Exercice: Class and function\n",
    "# Correction faite par Anselme\n",
    "# Correction d'exercice\n",
    "taux = 0.18\n",
    "\n",
    "class Contrat:\n",
    "    salaire = 500000\n",
    "    salaire_base = 135000\n",
    "    \n",
    "    def getSalaire(self)->int:\n",
    "        return self.salaire\n",
    "    \n",
    "    def getSalaire_base(self)->int:\n",
    "        return self.salaire_base\n",
    "    \n",
    "    def setSalaire(self, newSalaire : int):\n",
    "        self.salaire = newSalaire\n",
    "    \n",
    "    def setSalaire_base(self, newSalaire_base : int):\n",
    "        self.salaire_base = newSalaire_base\n",
    "        \n",
    "    def tauxAugmentationSalaireAnuelle(self,taux : float)->float:\n",
    "        return self.salaire_base * taux\n",
    "\n",
    "class Employe(Contrat):\n",
    "    nom = 'OUEDRAOGO' \n",
    "    prenom = 'Wilfried'\n",
    "    profession = 'Data Scientist'\n",
    "    \n",
    "    def salaireTotal(self,an : int ):\n",
    "        return super().getSalaire() * an\n",
    "    \n",
    "    def displaySalary(self,salaire : int , nbAn : int, annee : int):\n",
    "        super().setSalaire(salaire)\n",
    "        return f\"\"\"\n",
    "                Nom : {self.nom} {self.prenom}\n",
    "                Profession : {self.profession}\n",
    "                Experience en année : {nbAn} ans\n",
    "                Salaire à ce jour : {super().getSalaire()}\n",
    "                Salaire de base : {super().getSalaire_base()}\n",
    "                Sursalaire : {self.salaireTotal(nbAn) - super().getSalaire_base()  }\n",
    "            \"\"\""
   ]
  },
  {
   "cell_type": "code",
   "execution_count": 49,
   "id": "3e976d98-0060-4f8d-a846-eb00a45b961f",
   "metadata": {},
   "outputs": [
    {
     "name": "stdout",
     "output_type": "stream",
     "text": [
      "---------------------------\n",
      "Nom: FATY Lamine\n",
      "Profession: Data Scientist\n",
      "Experience en année: 6\n",
      "Salaire à ce jour: 645800\n",
      "Sur salaire: 510800.0\n",
      "---------------------------\n"
     ]
    }
   ],
   "source": [
    "# Exercice: Class and function\n",
    "# Correction...\n",
    "import math\n",
    "\n",
    "TAUX = 0.18\n",
    "\n",
    "\n",
    "class Contrat:\n",
    "    salary = 500000.00\n",
    "    base_salary = 135000.00\n",
    "\n",
    "    @classmethod\n",
    "    def getSalary(cls) -> float:\n",
    "        return cls.salary\n",
    "\n",
    "    @classmethod\n",
    "    def getbaseSalary(cls) -> float:\n",
    "        return cls.base_salary\n",
    "\n",
    "    @classmethod\n",
    "    def setSalary(cls, newSalary: float):\n",
    "        cls.salary = newSalary\n",
    "\n",
    "    @classmethod\n",
    "    def setBaseSalary(cls, newBaseSalary: float):\n",
    "        cls.base_salary = newBaseSalary\n",
    "\n",
    "    @classmethod\n",
    "    def calcAugmentation(cls) -> float:\n",
    "        return cls.base_salary * TAUX\n",
    "\n",
    "\n",
    "class Employe(Contrat):\n",
    "    first_name = 'Lamine'\n",
    "    last_name  = 'Faty'.upper()\n",
    "    profession = 'Data Scientist'.title()\n",
    "\n",
    "    def getFullName(self) -> str:\n",
    "        return f\"{self.last_name} {self.first_name}\"\n",
    "\n",
    "    def getProfession(self) -> str:\n",
    "        return self.profession\n",
    "\n",
    "    def finalSalary(self, yearNumber: int) -> float:\n",
    "        return math.ceil(\n",
    "            self.getSalary() + (self.calcAugmentation() * yearNumber)\n",
    "        )\n",
    "\n",
    "    def displaySalary(self, start_year=2016):\n",
    "        yearNumber = 2022 - 2016\n",
    "\n",
    "        print('---------------------------')\n",
    "        print(f'Nom: {self.getFullName()}')\n",
    "        print(f'Profession: {self.getProfession()}')\n",
    "        print(f'Experience en année: {yearNumber}')\n",
    "        print(f'Salaire à ce jour: {self.finalSalary(yearNumber)}')\n",
    "        print(f'Sur salaire: {self.finalSalary(yearNumber) - self.getbaseSalary()}')\n",
    "        print('---------------------------')\n",
    "\n",
    "\n",
    "var = Employe()\n",
    "var.displaySalary()"
   ]
  },
  {
   "cell_type": "code",
   "execution_count": null,
   "id": "c4caec94-e4ab-444c-8c92-71b0ad92ad1a",
   "metadata": {},
   "outputs": [],
   "source": [
    "# Exercice: Simuler Une Caisse de Auchan\n",
    "# Correction faites par Lamine Faty\n",
    "# Correction de l'excercice du fichier n°42\n",
    "Stack = {}\n",
    "Cart = []\n",
    "\n",
    "def jumpNextLine():\n",
    "    print('\\n')\n",
    "    \n",
    "def fillStack(filename: str):\n",
    "    with open(filename, 'r') as f:\n",
    "        texte = f.read()\n",
    "        texte = texte.replace('\\'', '').replace(':', '').replace(',', '').replace('[', '').replace(']', '')\n",
    "        for phrase in texte.splitlines():\n",
    "            elements = phrase.split(\" \")\n",
    "            Stack[elements[0].lower()] = [str(elements[1]), float(elements[2]), int(elements[3])]\n",
    "        f.close()\n",
    "        return print(Stack)\n",
    "\n",
    "def findProduct(dico, prod):\n",
    "    for value in dico.values():\n",
    "        if (prod.title() in value[0]):\n",
    "            print(True)\n",
    "        else:\n",
    "            print(False)\n",
    "    \n",
    "#print(\"----------------------------------------------------\")\n",
    "#fillStack('files/produit.txt')\n",
    "#print(\"----------------------------------------------------\")\n",
    "#findProduct(Stack, 'couscous')\n",
    "#print(\"----------------------------------------------------\")"
   ]
  },
  {
   "cell_type": "markdown",
   "id": "2ee83fe2-1d88-4ca3-8bbe-f77c13b18483",
   "metadata": {},
   "source": [
    "# Python Intermédiare"
   ]
  },
  {
   "cell_type": "code",
   "execution_count": 53,
   "id": "208e0708-020a-4e7f-8874-86c16f94bdc3",
   "metadata": {},
   "outputs": [
    {
     "data": {
      "text/plain": [
       "[0, 1, 2, 3, 4, 5, 6, 7, 8]"
      ]
     },
     "execution_count": 53,
     "metadata": {},
     "output_type": "execute_result"
    }
   ],
   "source": [
    "# Les Listes (Advanced concept) (Part 1)\n",
    "\n",
    "Liste0 = [1, 2, 3, 4, 5, 6, 7, 8]\n",
    "\n",
    "Liste1 = [\n",
    "    [1, 2, 3, 4, 5, 6, 7, 8],\n",
    "    [1, 2, 3, 4, 5, 6, 7, 8],\n",
    "    [1, 2, 3, 4, 5, 6, 7, 8],\n",
    "    [1, 2, 3, 4, 5, 6, 7, 8],\n",
    "    [1, 2, 3, 4, 5, 6, 7, 8],\n",
    "]\n",
    "\n",
    "Liste2 = [\n",
    "    [\n",
    "        [1, 2, 3, 4, 5, 6, 7, 8],\n",
    "        [1, 2, 3, 4, 5, 6, 7, 8],\n",
    "        [1, 2, 3, 4, 5, 6, 7, 8],\n",
    "        [1, 2, 3, 4, 5, 6, 7, 8],\n",
    "        [1, 2, 3, 4, 5, 6, 7, 8],\n",
    "    ],\n",
    "    [\n",
    "        [1, 2, 3, 4, 5, 6, 7, 8],\n",
    "        [1, 2, 3, 4, 5, 6, 7, 8],\n",
    "        [1, 2, 3, 4, 5, 6, 7, 8],\n",
    "        [1, 2, 3, 4, 5, 6, 7, 8],\n",
    "        [1, 2, 3, 4, 5, 6, 7, 8],\n",
    "    ],\n",
    "    [\n",
    "        [1, 2, 3, 4, 5, 6, 7, 8],\n",
    "        [1, 2, 3, 4, 5, 6, 7, 8],\n",
    "        [1, 2, 3, 4, 5, 6, 7, 8],\n",
    "        [1, 2, 3, 4, 5, 6, 7, 8],\n",
    "        [1, 2, 3, 4, 5, 6, 7, 8],\n",
    "    ]\n",
    "]\n",
    "\n",
    "# Generate Liste0\n",
    "Liste00 = [x for x in range(9)]\n",
    "Liste01 = [_ for _ in range(9)]\n",
    "\n",
    "Liste00"
   ]
  },
  {
   "cell_type": "code",
   "execution_count": 54,
   "id": "7cce92c3-bd69-46f4-bf9d-c659da32f2b6",
   "metadata": {},
   "outputs": [
    {
     "data": {
      "text/plain": [
       "[0, 1, 2, 3, 4, 5, 6, 7, 8]"
      ]
     },
     "execution_count": 54,
     "metadata": {},
     "output_type": "execute_result"
    }
   ],
   "source": [
    "Liste01"
   ]
  },
  {
   "cell_type": "code",
   "execution_count": 55,
   "id": "29807adb-5f76-4334-bf59-0ea9e7108c2c",
   "metadata": {},
   "outputs": [
    {
     "data": {
      "text/plain": [
       "[[0, 1, 2, 3, 4, 5, 6, 7, 8],\n",
       " [0, 1, 2, 3, 4, 5, 6, 7, 8],\n",
       " [0, 1, 2, 3, 4, 5, 6, 7, 8],\n",
       " [0, 1, 2, 3, 4, 5, 6, 7, 8],\n",
       " [0, 1, 2, 3, 4, 5, 6, 7, 8]]"
      ]
     },
     "execution_count": 55,
     "metadata": {},
     "output_type": "execute_result"
    }
   ],
   "source": [
    "# Generate Liste1\n",
    "Liste10 = [\n",
    "    [x for x in range(9)] for y in range(5)\n",
    "]\n",
    "Liste11 = [\n",
    "    [x for x in range(9)] for _ in range(5)\n",
    "]\n",
    "\n",
    "Liste10"
   ]
  },
  {
   "cell_type": "code",
   "execution_count": 56,
   "id": "eeed9926-4c25-4805-a20c-3994c59d9ce5",
   "metadata": {},
   "outputs": [
    {
     "data": {
      "text/plain": [
       "[[0, 1, 2, 3, 4, 5, 6, 7, 8],\n",
       " [0, 1, 2, 3, 4, 5, 6, 7, 8],\n",
       " [0, 1, 2, 3, 4, 5, 6, 7, 8],\n",
       " [0, 1, 2, 3, 4, 5, 6, 7, 8],\n",
       " [0, 1, 2, 3, 4, 5, 6, 7, 8]]"
      ]
     },
     "execution_count": 56,
     "metadata": {},
     "output_type": "execute_result"
    }
   ],
   "source": [
    "Liste11"
   ]
  },
  {
   "cell_type": "code",
   "execution_count": 57,
   "id": "7c654dc6-d874-425c-a546-0cc30964ebc9",
   "metadata": {},
   "outputs": [],
   "source": [
    "# Generate Liste2\n",
    "Liste20 = [\n",
    "    [\n",
    "        [x for x in range(9)] for y in range(5)\n",
    "    ] for z in range(3)\n",
    "]\n",
    "Liste21 = [\n",
    "    [\n",
    "        [x for x in range(9)] for y in range(5)\n",
    "    ] for _ in range(3)\n",
    "]"
   ]
  },
  {
   "cell_type": "code",
   "execution_count": 58,
   "id": "7b7a2d30-7718-4b0d-a48d-48a383d6476b",
   "metadata": {},
   "outputs": [
    {
     "data": {
      "text/plain": [
       "[[[0, 1, 2, 3, 4, 5, 6, 7, 8],\n",
       "  [0, 1, 2, 3, 4, 5, 6, 7, 8],\n",
       "  [0, 1, 2, 3, 4, 5, 6, 7, 8],\n",
       "  [0, 1, 2, 3, 4, 5, 6, 7, 8],\n",
       "  [0, 1, 2, 3, 4, 5, 6, 7, 8]],\n",
       " [[0, 1, 2, 3, 4, 5, 6, 7, 8],\n",
       "  [0, 1, 2, 3, 4, 5, 6, 7, 8],\n",
       "  [0, 1, 2, 3, 4, 5, 6, 7, 8],\n",
       "  [0, 1, 2, 3, 4, 5, 6, 7, 8],\n",
       "  [0, 1, 2, 3, 4, 5, 6, 7, 8]],\n",
       " [[0, 1, 2, 3, 4, 5, 6, 7, 8],\n",
       "  [0, 1, 2, 3, 4, 5, 6, 7, 8],\n",
       "  [0, 1, 2, 3, 4, 5, 6, 7, 8],\n",
       "  [0, 1, 2, 3, 4, 5, 6, 7, 8],\n",
       "  [0, 1, 2, 3, 4, 5, 6, 7, 8]]]"
      ]
     },
     "execution_count": 58,
     "metadata": {},
     "output_type": "execute_result"
    }
   ],
   "source": [
    "Liste20"
   ]
  },
  {
   "cell_type": "code",
   "execution_count": 59,
   "id": "5fc6d656-9811-48d0-97af-b384a191118e",
   "metadata": {},
   "outputs": [
    {
     "data": {
      "text/plain": [
       "[[[0, 1, 2, 3, 4, 5, 6, 7, 8],\n",
       "  [0, 1, 2, 3, 4, 5, 6, 7, 8],\n",
       "  [0, 1, 2, 3, 4, 5, 6, 7, 8],\n",
       "  [0, 1, 2, 3, 4, 5, 6, 7, 8],\n",
       "  [0, 1, 2, 3, 4, 5, 6, 7, 8]],\n",
       " [[0, 1, 2, 3, 4, 5, 6, 7, 8],\n",
       "  [0, 1, 2, 3, 4, 5, 6, 7, 8],\n",
       "  [0, 1, 2, 3, 4, 5, 6, 7, 8],\n",
       "  [0, 1, 2, 3, 4, 5, 6, 7, 8],\n",
       "  [0, 1, 2, 3, 4, 5, 6, 7, 8]],\n",
       " [[0, 1, 2, 3, 4, 5, 6, 7, 8],\n",
       "  [0, 1, 2, 3, 4, 5, 6, 7, 8],\n",
       "  [0, 1, 2, 3, 4, 5, 6, 7, 8],\n",
       "  [0, 1, 2, 3, 4, 5, 6, 7, 8],\n",
       "  [0, 1, 2, 3, 4, 5, 6, 7, 8]]]"
      ]
     },
     "execution_count": 59,
     "metadata": {},
     "output_type": "execute_result"
    }
   ],
   "source": [
    "Liste21"
   ]
  },
  {
   "cell_type": "code",
   "execution_count": 1,
   "id": "e4589034-f4e7-42e1-9194-08f862f26aa0",
   "metadata": {},
   "outputs": [],
   "source": [
    "# Exercice pratique sur les classes\n",
    "# Les bases en orienté object avec python.\n",
    "# Suite.\n",
    "\n",
    "import math\n",
    "\n",
    "# Ecrivez une classe du nom de Point\n",
    "# Cette classe doit initialiser par son constructeur:\n",
    "#   un abscisse qui sera un float\n",
    "#       nom de cette variable: (x)\n",
    "#   un ordonné qui sera un float\n",
    "#       nom de cette variable: (y)\n",
    "#   Il faudra aussi écrire le setters et getters\n",
    "#   Noubliez pas d'écrire la fonction __repr__ de cette classe\n",
    "\n",
    "# Ecrire une classe du nom de cercle\n",
    "# Cette classe doit initialiser dans son constructeur\n",
    "#   Un rayon qui sera un float\n",
    "# Il faudra aussi écrire le setters et getters\n",
    "# Noubliez pas d'écrire la fonction __repr__ de cette classe\n",
    "# Rajoutez une fonction du nom de surface\n",
    "#   Cette fonction doit calculer la surface du cercle.\n",
    "#       Elle doit utiliser la fonction pow(a,b) de la bibliothèeque math\n",
    "#       Elle doit pour l'utilisation de PI utiliser math.PI\n",
    "# math.PI (math.pi) dans le module math ou bibliothèque math"
   ]
  },
  {
   "cell_type": "code",
   "execution_count": 9,
   "id": "94ca239f-18b5-41dd-a6d6-e6ff62044dbe",
   "metadata": {},
   "outputs": [],
   "source": [
    "# Exercice pratique sur les classes\n",
    "# Les bases en orienté object avec python.\n",
    "# Suite.\n",
    "# Correction...\n",
    "\n",
    "class Point():\n",
    "    # Les arguments ou soit paramètres d'entrée\n",
    "    def __init__(self, abscisse: float, ordonne: float):\n",
    "        self.x = abscisse\n",
    "        self.y = ordonne\n",
    "        \n",
    "    # Cette fonction magique ne retourne que un string ou chaine de caractère\n",
    "    # Cette fonction est semblable à la fonction toString en JAVA\n",
    "    # Donc elle ne peut que retourner qu'une chaine de caractère.\n",
    "    def __repr__(self):\n",
    "        return f\"Point({self.getX()},{self.getY()})\"\n",
    "    \n",
    "    def getX(self):\n",
    "        return self.x\n",
    "    \n",
    "    def getY(self):\n",
    "        return self.y\n",
    "    \n",
    "    def setX(self, newX: float):\n",
    "        self.x = newX\n",
    "        \n",
    "    def setY(self, newY: float):\n",
    "        self.y = newY\n",
    "        \n",
    "varA = Point(14.02, 15.06)\n",
    "\n",
    "# Test des getters\n",
    "# varA.getX(), varA.getY()\n",
    "# Test des setters\n",
    "# varA.setX(18.03), varA.getX()"
   ]
  },
  {
   "cell_type": "code",
   "execution_count": 10,
   "id": "ae372351-78ef-4136-b45f-40a132a226c0",
   "metadata": {},
   "outputs": [
    {
     "data": {
      "text/plain": [
       "21.237166338267002"
      ]
     },
     "execution_count": 10,
     "metadata": {},
     "output_type": "execute_result"
    }
   ],
   "source": [
    "# Correction faite par Maodo\n",
    "class Cercle:\n",
    "    def __init__(self, r: float):\n",
    "        self._r = r\n",
    "        \n",
    "    def set_r(self, r):\n",
    "        self._r = r\n",
    "    def get_r(self):\n",
    "        return self._r\n",
    "\n",
    "    def __repr__(self):\n",
    "        return f\"Cercle({self._r})\"\n",
    "    \n",
    "    def surface(self):\n",
    "        return math.pi*math.pow(self._r, 2)\n",
    "    \n",
    "C = Cercle(2.6)\n",
    "C.surface()"
   ]
  },
  {
   "cell_type": "code",
   "execution_count": 11,
   "id": "5c7080fb-13b9-4dba-810f-af09b1153d61",
   "metadata": {},
   "outputs": [
    {
     "data": {
      "text/plain": [
       "Le Nom est: Russell\n",
       " L'age est: 28\n",
       " La Longitude: 144.8888\n",
       " La Lattitude: 144.8888"
      ]
     },
     "execution_count": 11,
     "metadata": {},
     "output_type": "execute_result"
    }
   ],
   "source": [
    "# Exemple de class avec son constructeur\n",
    "class Person:\n",
    "    def __init__(self, name: str, age: int, localisation: tuple):\n",
    "        self.name = name\n",
    "        self.age = age\n",
    "        self.localisation = localisation\n",
    "        \n",
    "    def __repr__(self):\n",
    "        return f\"Le Nom est: {self.name}\\n L'age est: {self.age}\\n La Longitude: {self.localisation[0]}\\n La Lattitude: {self.localisation[0]}\"\n",
    "    \n",
    "varP = Person('Russell', 28, (144.8888, 98.00155))\n",
    "\n",
    "varP"
   ]
  },
  {
   "cell_type": "code",
   "execution_count": 15,
   "id": "1ba02377-a7ca-421d-9aac-058a82fb8bd3",
   "metadata": {},
   "outputs": [],
   "source": [
    "# Les Listes (Advanced concept) (Part 2)"
   ]
  },
  {
   "cell_type": "code",
   "execution_count": 16,
   "id": "8da02cf5-4218-4552-a8ed-2a41913ff57c",
   "metadata": {},
   "outputs": [],
   "source": [
    "# Generate Liste\n",
    "Liste = [x for x in range(10)]"
   ]
  },
  {
   "cell_type": "code",
   "execution_count": 17,
   "id": "9fe30e8c-cdd3-4a79-9c89-cc999585beca",
   "metadata": {},
   "outputs": [
    {
     "data": {
      "text/plain": [
       "[0, 1, 2, 3, 4, 5, 6, 7, 8, 9]"
      ]
     },
     "execution_count": 17,
     "metadata": {},
     "output_type": "execute_result"
    }
   ],
   "source": [
    "Liste"
   ]
  },
  {
   "cell_type": "code",
   "execution_count": 18,
   "id": "8a6828c1-43b1-47c4-9707-07d4fb0363a0",
   "metadata": {},
   "outputs": [],
   "source": [
    "# Simuler les lambda Expression\n",
    "def a(x): return x**2\n",
    "def b(x): return x+2\n",
    "def c(x): return x-2\n",
    "def d(x): return x//2\n",
    "\n",
    "\n",
    "def f(x): return x % 2 == 0\n",
    "def g(x): return x % 2 != 0\n",
    "def h(x): return x > 2\n",
    "def i(x): return x < 2"
   ]
  },
  {
   "cell_type": "code",
   "execution_count": 25,
   "id": "4f6331de-440a-432b-aac5-af67e5f3fd8b",
   "metadata": {},
   "outputs": [
    {
     "data": {
      "text/plain": [
       "[0, 1, 4, 9, 16, 25, 36, 49, 64, 81]"
      ]
     },
     "execution_count": 25,
     "metadata": {},
     "output_type": "execute_result"
    }
   ],
   "source": [
    "# access to the value\n",
    "Listea = list(map(a, Liste)) # retourne un nouvel itérable\n",
    "Listeb = list(map(b, Liste))\n",
    "Listec = list(map(c, Liste))\n",
    "Listed = list(map(d, Liste))\n",
    "\n",
    "Listea"
   ]
  },
  {
   "cell_type": "code",
   "execution_count": 20,
   "id": "2c2fa661-07b0-4ea8-a554-5ccaea6d90c8",
   "metadata": {},
   "outputs": [
    {
     "data": {
      "text/plain": [
       "[2, 3, 4, 5, 6, 7, 8, 9, 10, 11]"
      ]
     },
     "execution_count": 20,
     "metadata": {},
     "output_type": "execute_result"
    }
   ],
   "source": [
    "Listeb"
   ]
  },
  {
   "cell_type": "code",
   "execution_count": 22,
   "id": "94524c49-aa1f-435c-b92d-e2e92585d408",
   "metadata": {},
   "outputs": [
    {
     "data": {
      "text/plain": [
       "[-2, -1, 0, 1, 2, 3, 4, 5, 6, 7]"
      ]
     },
     "execution_count": 22,
     "metadata": {},
     "output_type": "execute_result"
    }
   ],
   "source": [
    "Listec"
   ]
  },
  {
   "cell_type": "code",
   "execution_count": 23,
   "id": "53cc4e53-c604-46ec-bb46-f06266ba46cd",
   "metadata": {},
   "outputs": [
    {
     "data": {
      "text/plain": [
       "[0, 0, 1, 1, 2, 2, 3, 3, 4, 4]"
      ]
     },
     "execution_count": 23,
     "metadata": {},
     "output_type": "execute_result"
    }
   ],
   "source": [
    "Listed"
   ]
  },
  {
   "cell_type": "code",
   "execution_count": 26,
   "id": "9637c441-f186-43fc-bf81-55d3acd1fefa",
   "metadata": {},
   "outputs": [],
   "source": [
    "Listef = list(filter(f, Liste))\n",
    "Listeg = list(filter(g, Liste))\n",
    "Listeh = list(filter(h, Liste))\n",
    "Listei = list(filter(i, Liste))"
   ]
  },
  {
   "cell_type": "code",
   "execution_count": 27,
   "id": "7b01bc6e-2a8c-4a9e-a5f7-7efdaee1a6cd",
   "metadata": {},
   "outputs": [
    {
     "data": {
      "text/plain": [
       "[0, 2, 4, 6, 8]"
      ]
     },
     "execution_count": 27,
     "metadata": {},
     "output_type": "execute_result"
    }
   ],
   "source": [
    "Listef"
   ]
  },
  {
   "cell_type": "code",
   "execution_count": 29,
   "id": "5bb8fbe0-c999-4835-b7a3-be41ff30c23f",
   "metadata": {},
   "outputs": [
    {
     "data": {
      "text/plain": [
       "[1, 3, 5, 7, 9]"
      ]
     },
     "execution_count": 29,
     "metadata": {},
     "output_type": "execute_result"
    }
   ],
   "source": [
    "Listeg"
   ]
  },
  {
   "cell_type": "code",
   "execution_count": 30,
   "id": "26630609-286c-4b06-a058-40be86d6f1d1",
   "metadata": {},
   "outputs": [
    {
     "data": {
      "text/plain": [
       "[3, 4, 5, 6, 7, 8, 9]"
      ]
     },
     "execution_count": 30,
     "metadata": {},
     "output_type": "execute_result"
    }
   ],
   "source": [
    "Listeh"
   ]
  },
  {
   "cell_type": "code",
   "execution_count": 31,
   "id": "4dd8d3c7-8972-4f79-9ab3-0a9bc9b881e8",
   "metadata": {},
   "outputs": [
    {
     "data": {
      "text/plain": [
       "[0, 1]"
      ]
     },
     "execution_count": 31,
     "metadata": {},
     "output_type": "execute_result"
    }
   ],
   "source": [
    "Listei"
   ]
  },
  {
   "cell_type": "code",
   "execution_count": 32,
   "id": "83a19772-7e36-4392-acf8-68500ba8cf1d",
   "metadata": {},
   "outputs": [],
   "source": [
    "Listef = list(map(f, Liste))"
   ]
  },
  {
   "cell_type": "code",
   "execution_count": 33,
   "id": "968758f1-de27-4d38-ac48-ebb3759cf063",
   "metadata": {},
   "outputs": [
    {
     "data": {
      "text/plain": [
       "[True, False, True, False, True, False, True, False, True, False]"
      ]
     },
     "execution_count": 33,
     "metadata": {},
     "output_type": "execute_result"
    }
   ],
   "source": [
    "Listef"
   ]
  },
  {
   "cell_type": "code",
   "execution_count": 34,
   "id": "fcc8ce95-0475-4a27-9158-35bdca4610d7",
   "metadata": {},
   "outputs": [],
   "source": [
    "a = lambda x: x**2\n",
    "b = lambda x: x+2\n",
    "c = lambda x: x-2\n",
    "d = lambda x: x//2\n",
    "\n",
    "f = lambda x: x % 2 == 0\n",
    "g = lambda x: x % 2 != 0\n",
    "h = lambda x: x > 2\n",
    "i = lambda x: x < 2"
   ]
  },
  {
   "cell_type": "code",
   "execution_count": 35,
   "id": "84e82bab-43dc-438b-bb92-897954d28169",
   "metadata": {},
   "outputs": [],
   "source": [
    "# access to the value\n",
    "Listea = list(map(a, Liste)) # retourne un nouvel itérable\n",
    "Listeb = list(map(b, Liste))\n",
    "Listec = list(map(c, Liste))\n",
    "Listed = list(map(d, Liste))\n",
    "\n",
    "Listef = list(filter(f, Liste))\n",
    "Listeg = list(filter(g, Liste))\n",
    "Listeh = list(filter(h, Liste))\n",
    "Listei = list(filter(i, Liste))"
   ]
  },
  {
   "cell_type": "code",
   "execution_count": 36,
   "id": "87f1456f-0355-4878-a25b-cf3f88e654a5",
   "metadata": {},
   "outputs": [
    {
     "data": {
      "text/plain": [
       "[0, 1, 4, 9, 16, 25, 36, 49, 64, 81]"
      ]
     },
     "execution_count": 36,
     "metadata": {},
     "output_type": "execute_result"
    }
   ],
   "source": [
    "Listea"
   ]
  },
  {
   "cell_type": "code",
   "execution_count": 37,
   "id": "6ad2765e-dfd7-4e93-9bd9-183577a618a8",
   "metadata": {},
   "outputs": [
    {
     "data": {
      "text/plain": [
       "[2, 3, 4, 5, 6, 7, 8, 9, 10, 11]"
      ]
     },
     "execution_count": 37,
     "metadata": {},
     "output_type": "execute_result"
    }
   ],
   "source": [
    "Listeb"
   ]
  },
  {
   "cell_type": "code",
   "execution_count": 38,
   "id": "76ed01b4-80a5-470e-98d9-c160de71aea3",
   "metadata": {},
   "outputs": [
    {
     "data": {
      "text/plain": [
       "[0, 2, 4, 6, 8]"
      ]
     },
     "execution_count": 38,
     "metadata": {},
     "output_type": "execute_result"
    }
   ],
   "source": [
    "Listef"
   ]
  },
  {
   "cell_type": "code",
   "execution_count": 39,
   "id": "8aa55061-4738-44a3-a632-56a9fcd5ac5a",
   "metadata": {},
   "outputs": [
    {
     "data": {
      "text/plain": [
       "[1, 3, 5, 7, 9]"
      ]
     },
     "execution_count": 39,
     "metadata": {},
     "output_type": "execute_result"
    }
   ],
   "source": [
    "Listeg"
   ]
  },
  {
   "cell_type": "code",
   "execution_count": 40,
   "id": "b6002cc2-7d2f-48d8-93c6-b324ebf5ae54",
   "metadata": {},
   "outputs": [],
   "source": [
    "Listea = list(map(lambda x: x**2, Liste))"
   ]
  },
  {
   "cell_type": "code",
   "execution_count": 41,
   "id": "a4c2ad93-12e9-4b84-a79d-29af64d44bb0",
   "metadata": {},
   "outputs": [
    {
     "data": {
      "text/plain": [
       "[0, 1, 4, 9, 16, 25, 36, 49, 64, 81]"
      ]
     },
     "execution_count": 41,
     "metadata": {},
     "output_type": "execute_result"
    }
   ],
   "source": [
    "Listea"
   ]
  },
  {
   "cell_type": "code",
   "execution_count": 42,
   "id": "44598cc3-1fcb-4f8b-9e30-a6c8ffa423e2",
   "metadata": {},
   "outputs": [],
   "source": [
    "def a(x): return x**2\n",
    "def b(x): return x+2\n",
    "def c(x): return x-2\n",
    "def d(x): return x//2\n",
    "\n",
    "\n",
    "def f(x): return x % 2 == 0\n",
    "def g(x): return x % 2 != 0\n",
    "def h(x): return x > 2\n",
    "def i(x): return x < 2"
   ]
  },
  {
   "cell_type": "code",
   "execution_count": 43,
   "id": "a1d7214c-de01-4b8f-907d-b113e74b7569",
   "metadata": {},
   "outputs": [],
   "source": [
    "# Generate Liste\n",
    "Liste = [\n",
    "    [\n",
    "        [1, 2, 3, 4, 5, 6, 7, 8],\n",
    "        [1, 2, 3, 4, 5, 6, 7, 8],\n",
    "        [1, 2, 3, 4, 5, 6, 7, 8],\n",
    "        [1, 2, 3, 4, 5, 6, 7, 8],\n",
    "        [1, 2, 3, 4, 5, 6, 7, 8],\n",
    "    ],\n",
    "    [\n",
    "        [1, 2, 3, 4, 5, 6, 7, 8],\n",
    "        [1, 2, 3, 4, 5, 6, 7, 8],\n",
    "        [1, 2, 3, 4, 5, 6, 7, 8],\n",
    "        [1, 2, 3, 4, 5, 6, 7, 8],\n",
    "        [1, 2, 3, 4, 5, 6, 7, 8],\n",
    "    ],\n",
    "    [\n",
    "        [1, 2, 3, 4, 5, 6, 7, 8],\n",
    "        [1, 2, 3, 4, 5, 6, 7, 8],\n",
    "        [1, 2, 3, 4, 5, 6, 7, 8],\n",
    "        [1, 2, 3, 4, 5, 6, 7, 8],\n",
    "        [1, 2, 3, 4, 5, 6, 7, 8],\n",
    "    ]\n",
    "]"
   ]
  },
  {
   "cell_type": "code",
   "execution_count": 44,
   "id": "f8c49c92-f3f1-420d-8a96-35c0b9aab75f",
   "metadata": {},
   "outputs": [],
   "source": [
    "# access to the value\n",
    "Listea = [[list(map(a, x)) for x in y] for y in Liste]\n",
    "Listeb = [[list(map(b, x)) for x in y] for y in Liste]\n",
    "Listec = [[list(map(c, x)) for x in y] for y in Liste]\n",
    "Listed = [[list(map(d, x)) for x in y] for y in Liste]"
   ]
  },
  {
   "cell_type": "code",
   "execution_count": 45,
   "id": "3a1b27f1-2dd9-4fb8-8cb0-d7e8e79afbb6",
   "metadata": {},
   "outputs": [
    {
     "data": {
      "text/plain": [
       "[[[1, 4, 9, 16, 25, 36, 49, 64],\n",
       "  [1, 4, 9, 16, 25, 36, 49, 64],\n",
       "  [1, 4, 9, 16, 25, 36, 49, 64],\n",
       "  [1, 4, 9, 16, 25, 36, 49, 64],\n",
       "  [1, 4, 9, 16, 25, 36, 49, 64]],\n",
       " [[1, 4, 9, 16, 25, 36, 49, 64],\n",
       "  [1, 4, 9, 16, 25, 36, 49, 64],\n",
       "  [1, 4, 9, 16, 25, 36, 49, 64],\n",
       "  [1, 4, 9, 16, 25, 36, 49, 64],\n",
       "  [1, 4, 9, 16, 25, 36, 49, 64]],\n",
       " [[1, 4, 9, 16, 25, 36, 49, 64],\n",
       "  [1, 4, 9, 16, 25, 36, 49, 64],\n",
       "  [1, 4, 9, 16, 25, 36, 49, 64],\n",
       "  [1, 4, 9, 16, 25, 36, 49, 64],\n",
       "  [1, 4, 9, 16, 25, 36, 49, 64]]]"
      ]
     },
     "execution_count": 45,
     "metadata": {},
     "output_type": "execute_result"
    }
   ],
   "source": [
    "Listea"
   ]
  },
  {
   "cell_type": "code",
   "execution_count": 46,
   "id": "de024c74-e941-4f12-801c-a61b22bec133",
   "metadata": {},
   "outputs": [
    {
     "data": {
      "text/plain": [
       "[[[3, 4, 5, 6, 7, 8, 9, 10],\n",
       "  [3, 4, 5, 6, 7, 8, 9, 10],\n",
       "  [3, 4, 5, 6, 7, 8, 9, 10],\n",
       "  [3, 4, 5, 6, 7, 8, 9, 10],\n",
       "  [3, 4, 5, 6, 7, 8, 9, 10]],\n",
       " [[3, 4, 5, 6, 7, 8, 9, 10],\n",
       "  [3, 4, 5, 6, 7, 8, 9, 10],\n",
       "  [3, 4, 5, 6, 7, 8, 9, 10],\n",
       "  [3, 4, 5, 6, 7, 8, 9, 10],\n",
       "  [3, 4, 5, 6, 7, 8, 9, 10]],\n",
       " [[3, 4, 5, 6, 7, 8, 9, 10],\n",
       "  [3, 4, 5, 6, 7, 8, 9, 10],\n",
       "  [3, 4, 5, 6, 7, 8, 9, 10],\n",
       "  [3, 4, 5, 6, 7, 8, 9, 10],\n",
       "  [3, 4, 5, 6, 7, 8, 9, 10]]]"
      ]
     },
     "execution_count": 46,
     "metadata": {},
     "output_type": "execute_result"
    }
   ],
   "source": [
    "Listeb"
   ]
  },
  {
   "cell_type": "code",
   "execution_count": 47,
   "id": "fec12dd7-3ec2-41ce-9a9f-9ee2c81a43f3",
   "metadata": {},
   "outputs": [],
   "source": [
    "Listef = [[list(filter(f, x)) for x in y] for y in Liste]\n",
    "Listeg = [[list(filter(g, x)) for x in y] for y in Liste]\n",
    "Listeh = [[list(filter(h, x)) for x in y] for y in Liste]\n",
    "Listei = [[list(filter(i, x)) for x in y] for y in Liste]"
   ]
  },
  {
   "cell_type": "code",
   "execution_count": 48,
   "id": "a848dc9b-a046-4166-bdb7-38d67b16deee",
   "metadata": {},
   "outputs": [
    {
     "data": {
      "text/plain": [
       "[[[2, 4, 6, 8], [2, 4, 6, 8], [2, 4, 6, 8], [2, 4, 6, 8], [2, 4, 6, 8]],\n",
       " [[2, 4, 6, 8], [2, 4, 6, 8], [2, 4, 6, 8], [2, 4, 6, 8], [2, 4, 6, 8]],\n",
       " [[2, 4, 6, 8], [2, 4, 6, 8], [2, 4, 6, 8], [2, 4, 6, 8], [2, 4, 6, 8]]]"
      ]
     },
     "execution_count": 48,
     "metadata": {},
     "output_type": "execute_result"
    }
   ],
   "source": [
    "Listef"
   ]
  },
  {
   "cell_type": "code",
   "execution_count": 49,
   "id": "627caa5f-5481-43c9-b8e7-df6540d910b7",
   "metadata": {},
   "outputs": [
    {
     "data": {
      "text/plain": [
       "[[[1, 3, 5, 7], [1, 3, 5, 7], [1, 3, 5, 7], [1, 3, 5, 7], [1, 3, 5, 7]],\n",
       " [[1, 3, 5, 7], [1, 3, 5, 7], [1, 3, 5, 7], [1, 3, 5, 7], [1, 3, 5, 7]],\n",
       " [[1, 3, 5, 7], [1, 3, 5, 7], [1, 3, 5, 7], [1, 3, 5, 7], [1, 3, 5, 7]]]"
      ]
     },
     "execution_count": 49,
     "metadata": {},
     "output_type": "execute_result"
    }
   ],
   "source": [
    "Listeg"
   ]
  },
  {
   "cell_type": "code",
   "execution_count": 50,
   "id": "99037c9d-2124-4986-b78b-f25c2f80b50a",
   "metadata": {},
   "outputs": [],
   "source": [
    "# Ecrivez une classe du nom de Vecteur\n",
    "# On sait a priori qu'un vecteur est un ensemble de points\n",
    "# Et qu'un point est le couple (x,y)\n",
    "# Implémenter donc une classe Vecteur\n",
    "#   qui va prendre en paramètre un ensemble de Point\n",
    "#       utiliser la classe Point implémentée ci dessus\n",
    "#       NB: Petite astuce utiliser l'écriture de mappage *args\n",
    "#       afin de récupérer N éléments.\n",
    "#           Mais pour les tests utiliser que trois objects Point\n",
    "# Ainsi cette classe devra implémenter les méthodes suivantes\n",
    "#   Une méthode pour retourner la liste des Points\n",
    "#   Une autre méthode pour traduire l'object Point en liste de deux éléments à savoir\n",
    "#       [x,y]\n",
    "#       NB: Veuillez ici à mettre cette fonction dans la bonne classe\n",
    "# Ecriver une autre méthode qui permet de calculer la longeur de ce vecteur\n",
    "#   Parter du principe que nous sommes dans un repère orthommé\n",
    "#       Ainsi écrivez d'abord une fonction qui calcule la distance entre deux Points\n",
    "#       Et n'oublier pas la distance est une valeur positive.\n",
    "#       Utiliser les fonctions de la bibliothèque math pour vous faciliter la tâche\n",
    "#       Prenez les point deux a deux et calculer les distances\n",
    "#. Dans cette partie de l'exercice libre à vous de choisir comment sauvegaerder les différentes valeurs de distance calculées\n",
    "# Opter pour la meilleure structuration de vos données. Afin qu'elle permettent plus l'adhésion aux valeurs et aux parents des valeurs."
   ]
  },
  {
   "cell_type": "code",
   "execution_count": 53,
   "id": "aeeb0e3c-33b2-413b-a1f4-827c2aee809e",
   "metadata": {},
   "outputs": [
    {
     "name": "stdout",
     "output_type": "stream",
     "text": [
      "Liste des points du vecteur : \n",
      " [Point(1.0,2.3), Point(10.1,0.5), Point(5.0,2.0)]\n",
      "\n",
      " ---------------------------------------------------------------------------------------------------- \n",
      " Traduction de la liste des points : \n",
      "\n",
      "[[1.0, 2.3], [10.1, 0.5], [5.0, 2.0]]\n"
     ]
    }
   ],
   "source": [
    "# Correction faite par Eric\n",
    "class Point():\n",
    "    # Les arguments ou soit paramètres d'entrée\n",
    "    def __init__(self, abscisse: float, ordonne: float):\n",
    "        self.x = abscisse\n",
    "        self.y = ordonne\n",
    "        \n",
    "    # Cette fonction magique ne retourne que un string ou chaine de caractère\n",
    "    # Cette fonction est semblable à la fonction toString en JAVA\n",
    "    # Donc elle ne peut que retourner qu'une chaine de caractère.\n",
    "    def __repr__(self):\n",
    "        return f\"Point({self.getX()},{self.getY()})\"\n",
    "    \n",
    "    def getX(self):\n",
    "        return self.x\n",
    "    \n",
    "    def getY(self):\n",
    "        return self.y\n",
    "    \n",
    "    def setX(self, newX: float):\n",
    "        self.x = newX\n",
    "        \n",
    "    def setY(self, newY: float):\n",
    "        self.y = newY\n",
    "        \n",
    "class Vecteur():\n",
    "    def __init__(self, *args):\n",
    "        self.points = [point for point in args]\n",
    "    \n",
    "    def __repr__(self):\n",
    "        return f\"Vecteur({self.points})\"\n",
    "    \n",
    "    def liste_point(self):\n",
    "        print(f'Liste des points du vecteur : \\n {self.points}')\n",
    "    \n",
    "    def traduire_point(self):\n",
    "        print(f'\\n {\"-\" * 100} \\n Traduction de la liste des points : \\n')\n",
    "        # translate = lambda x: print(f\"[{x.getX()}, {x.getY()}]\")\n",
    "        translate = lambda x: [x.getX(), x.getY()]\n",
    "        return list(map(translate, self.points))\n",
    "    \n",
    "    def longueur(self):\n",
    "        pass\n",
    "    \n",
    "a = Point(1., 2.3)\n",
    "b = Point(10.1, 0.5)\n",
    "c = Point(5., 2.)\n",
    "\n",
    "v = Vecteur(a, b, c)\n",
    "v.liste_point()\n",
    "print(v.traduire_point())"
   ]
  },
  {
   "cell_type": "code",
   "execution_count": 3,
   "id": "abea00fd-940a-428d-a1b5-fbb3111c4428",
   "metadata": {},
   "outputs": [
    {
     "name": "stdout",
     "output_type": "stream",
     "text": [
      "Liste des points du vecteur : \n",
      " [Point(1.0,2.3), Point(10.1,0.5), Point(5.0,2.0), Point(11.0,5), Point(12.0,6.0)]\n"
     ]
    },
    {
     "data": {
      "text/plain": [
       "[9.28, 4.01, 10.36, 11.61, 5.32, 4.59, 5.82, 6.71, 8.06, 1.41]"
      ]
     },
     "execution_count": 3,
     "metadata": {},
     "output_type": "execute_result"
    }
   ],
   "source": [
    "# Correction faite par Maodo\n",
    "# Ecrivez une classe du nom de Vecteur\n",
    "import math\n",
    "\n",
    "class Point():\n",
    "    # Les arguments ou soit paramètres d'entrée\n",
    "    def __init__(self, abscisse: float, ordonne: float):\n",
    "        self.x = abscisse\n",
    "        self.y = ordonne\n",
    "        \n",
    "    # Cette fonction magique ne retourne que un string ou chaine de caractère\n",
    "    # Cette fonction est semblable à la fonction toString en JAVA\n",
    "    # Donc elle ne peut que retourner qu'une chaine de caractère.\n",
    "    def __repr__(self):\n",
    "        return f\"Point({self.getX()},{self.getY()})\"\n",
    "    \n",
    "    def getX(self):\n",
    "        return self.x\n",
    "    \n",
    "    def getY(self):\n",
    "        return self.y\n",
    "    \n",
    "    def setX(self, newX: float):\n",
    "        self.x = newX\n",
    "        \n",
    "    def setY(self, newY: float):\n",
    "        self.y = newY\n",
    "        \n",
    "class Vecteur(Point):\n",
    "    pass\n",
    "\n",
    "    def __init__(self, *args):\n",
    "        self.points = [_ for _ in args]\n",
    "        \n",
    "    def __repr__(self):\n",
    "        return f\"Vecteur({self.points})\"    \n",
    "    \n",
    "    def ListPoint(self):\n",
    "        print(f'Liste des points du vecteur : \\n {self.points}')\n",
    "\n",
    "    def traductpoint(self):\n",
    "        self.ListeC = list(map(lambda x :[x.getX(), x.getY()], self.points)) \n",
    "        return self.ListeC\n",
    "    \n",
    "    def distance(self):\n",
    "        sqrt_carr = lambda x : round(math.sqrt(math.pow(x[0],2) + math.pow(x[1],2)), 2)\n",
    "        dist = [[round(self.ListeC[(i)][0]-self.ListeC[j][0], 2), round(self.ListeC[(i)][1]-self.ListeC[j][1], 2)] for i in range(len(self.ListeC)) for j in range(i+1,(len(self.ListeC)))]\n",
    "        #print(list(dist))\n",
    "        self.long = list(map(sqrt_carr, dist))\n",
    "        return self.long\n",
    "\n",
    "          \n",
    "                                                                                                              \n",
    "a = Point(1., 2.3)\n",
    "b = Point(10.1, 0.5)\n",
    "c = Point(5., 2.)\n",
    "d = Point(11., 5)\n",
    "e = Point(12., 6.)\n",
    "v = Vecteur(a, b, c, d, e)\n",
    "v.ListPoint()\n",
    "v.traductpoint()\n",
    "v.distance()"
   ]
  },
  {
   "cell_type": "code",
   "execution_count": 5,
   "id": "c066689b-f3bc-43db-8e15-4d3ea721ff51",
   "metadata": {},
   "outputs": [
    {
     "name": "stdin",
     "output_type": "stream",
     "text": [
      "Username:  Maodo\n",
      "Password:  pass\n"
     ]
    },
    {
     "data": {
      "text/plain": [
       "True"
      ]
     },
     "execution_count": 5,
     "metadata": {},
     "output_type": "execute_result"
    }
   ],
   "source": [
    "# Simuler une page de connexion\n",
    "# Correction faite par Maodo (part1)\n",
    "class Register:\n",
    "    def __init__(self, username: str, password: str):\n",
    "        self.username  = username\n",
    "        self.password = password\n",
    "        \n",
    "    def saveUser(self):\n",
    "            try:\n",
    "                with open('files/users.txt', \"a\") as f:\n",
    "                    f.write(f\"{self.username}:{self.password.encode('utf-8').decode('utf-8')}\\n\")  \n",
    "                f.close()\n",
    "            except FileNotFoundError:\n",
    "                print(\"Le fichier spécifié écrire n'existe pas\")\n",
    "            except AttributeError :\n",
    "                print(\"L'attribut n'existe pas dans la classe\")\n",
    "            else : \n",
    "                return True\n",
    "            \n",
    "class Login():\n",
    "    def __init__(self,\n",
    "                 username: str,\n",
    "                 password: str):\n",
    "        self.username = username.lower()\n",
    "        self.password = password\n",
    "\n",
    "    def __chargeUsers(self):\n",
    "        try:\n",
    "            with open('files/users.txt', 'r') as f:\n",
    "                for lines in f.readlines():\n",
    "                    line = lines.split(':')\n",
    "                    username = line[0].lower()\n",
    "                    password = line[1].strip(\"\\n\")\n",
    "                    User[username] = password\n",
    "            f.close()\n",
    "            return User\n",
    "        except FileNotFoundError:\n",
    "            return False\n",
    "        \n",
    "    def logUser(self):\n",
    "        # Completer la fonction\n",
    "        user = self.__chargeUsers()\n",
    "        if self.username in user and verify(self.password.encode('utf-8'), sign(user[self.username].encode('utf-8'))):\n",
    "            return \"Successful connection\" \n",
    "        return \"Connection Failed\"\n",
    "              \n",
    "        # Suivez l'énoncé\n",
    "        # Et appliquer les spécificités\n",
    "        # Appliquer la documentation telle quelle\n",
    "\n",
    "username = str(input('Username: '))\n",
    "password = str(input('Password: '))\n",
    "register = Register(username, password)\n",
    "register.saveUser()"
   ]
  },
  {
   "cell_type": "code",
   "execution_count": 7,
   "id": "a1c84d8f-f4b2-4007-948b-064c3312510f",
   "metadata": {},
   "outputs": [
    {
     "data": {
      "text/plain": [
       "'Successful connection'"
      ]
     },
     "execution_count": 7,
     "metadata": {},
     "output_type": "execute_result"
    }
   ],
   "source": [
    "# Correction faite par Maodo (part 2)\n",
    "login = Login(\"Maodo\", \"pass\")\n",
    "login.logUser()"
   ]
  },
  {
   "cell_type": "code",
   "execution_count": 1,
   "id": "0fe41ef7-08b7-4e0d-a804-481434ed9d01",
   "metadata": {},
   "outputs": [],
   "source": [
    "# Exercice Pratique (Pour demain)\n",
    "# Simulate Login/Register\n",
    "# https://docs.python.org/3/library/hashlib.html\n",
    "# https://randomkeygen.com/\n",
    "\n",
    "import math\n",
    "from hashlib import blake2b\n",
    "from hmac import compare_digest\n",
    "\n",
    "User = {}\n",
    "\n",
    "SECRET_KEY = b'xiizS9QBmft37Pv9g4FCJBXHS35RkpMg'\n",
    "AUTH_SIZE = 16\n",
    "MAX_TRY = 3\n",
    "\n",
    "\n",
    "def sign(password):\n",
    "    h = blake2b(digest_size=AUTH_SIZE, key=SECRET_KEY)\n",
    "    h.update(password)\n",
    "    return h.hexdigest().encode('utf-8')\n",
    "\n",
    "\n",
    "def verify(password, sig):\n",
    "    good_sig = sign(password)\n",
    "    return compare_digest(good_sig, sig)\n",
    "\n",
    "# Utiliser les liens mis en haut du fichier\n",
    "#   Le but est d'utiliser les documents officiels des modules\n",
    "#   Afin d'avoir une aisance et le reflexe d'utiliser les documentations officielles\n",
    "# Puis explorer la documentation de ces modules\n",
    "# Puis en fonction de cela appliquer les deux premières fonctions\n",
    "#   sign(password)\n",
    "#   verify(password, sig)\n",
    "# La fonction pour encoder un string est la suivante\n",
    "#   <string>.encode('utf-8') --> pour de l'UTF-8\n",
    "\n",
    "# Créer une classe du nom de Register\n",
    "#   Cette classe doit initialiser par son constructeur\n",
    "#       Un username de type string\n",
    "#       Un password de type string\n",
    "# Ecrivez ensuite une fonction saveUser()\n",
    "#   Cette fonction doit écrire dans un fichier txt\n",
    "#       Le nom de ce fichier txt est users.txt\n",
    "#       Le format à ecrire dans le fichier est le suivant:\n",
    "#           f.write(f\"{self.username}:{self.password.decode('utf-8')}\\n\")\n",
    "#        N'oubliez pas de wrapper (envelopper) les instructions des clauses d'execptions\n",
    "#           Ici vous aurez besoin de:\n",
    "#               - FileNotFoundError\n",
    "#               - AttributeError\n",
    "\n",
    "# Completer la classe Login\n",
    "# Avec une fonction du nom de logUser\n",
    "# Cette fonction doit:\n",
    "#   En premier lieu appeler la fonction __chargeUsers()\n",
    "#   Après cette fonction doit vérifier:\n",
    "#       Le username dans User\n",
    "#       Le password dans User\n",
    "#           Mais ici concernant le password utiliser la fonction:\n",
    "#               verify() pour vérifier le mot de passe\n",
    "#               verify(<bytes>, <bytes>)\n",
    "#               verify(password1, password2)\n",
    "#               Veuillez à encoder en utf-8 et a suivre la documentation afin de mieux utiliser la fonction\n",
    "#               Suivant la documentation pour une meilleur utilisation\n",
    "\n",
    "class Login():\n",
    "    def __init__(self,\n",
    "                 username: str,\n",
    "                 password: str):\n",
    "        self.username = username.lower()\n",
    "        self.password = password\n",
    "\n",
    "    def __chargeUsers(self):\n",
    "        try:\n",
    "            with open('files/users.txt', 'r') as f:\n",
    "                for lines in f.readlines():\n",
    "                    line = lines.split(':')\n",
    "                    username = line[0]\n",
    "                    password = line[1]\n",
    "                    User[username] = password\n",
    "            f.close()\n",
    "        except FileNotFoundError:\n",
    "            return False\n",
    "        else:\n",
    "            return True\n",
    "\n",
    "    def logUser(self):\n",
    "        # Completer la fonction\n",
    "        # Suivez l'énoncé\n",
    "        # Et appliquer les spécificités\n",
    "        # Appliquer la documentation telle quelle\n",
    "        pass\n",
    "\n",
    "\n",
    "# username = str(input('Username: '))\n",
    "# password = str(input('Password: '))\n",
    "# register = Register(username, password)\n",
    "# register.saveUser()\n",
    "\n",
    "# login = Login(username, password)\n",
    "# login.logUser()"
   ]
  },
  {
   "cell_type": "code",
   "execution_count": 2,
   "id": "97683e30-f76d-4f25-9cb6-35441f411c11",
   "metadata": {},
   "outputs": [
    {
     "name": "stdin",
     "output_type": "stream",
     "text": [
      "Username:  KUASSI\n",
      "Password:  pass\n"
     ]
    },
    {
     "name": "stdout",
     "output_type": "stream",
     "text": [
      "Loading...\n",
      "Finish...\n",
      "this user d'ont exits\n"
     ]
    }
   ],
   "source": [
    "# Simulate Login/Register\n",
    "# https://docs.python.org/3/library/hashlib.html\n",
    "# https://randomkeygen.com/\n",
    "# Correction...\n",
    "\n",
    "import math\n",
    "from hashlib import blake2b\n",
    "from hmac import compare_digest\n",
    "\n",
    "User = {}\n",
    "\n",
    "SECRET_KEY = b'xiizS9QBmft37Pv9g4FCJBXHS35RkpMg'\n",
    "AUTH_SIZE = 16\n",
    "MAX_TRY = 3\n",
    "\n",
    "\n",
    "def sign(password):\n",
    "    h = blake2b(digest_size=AUTH_SIZE, key=SECRET_KEY)\n",
    "    h.update(password)\n",
    "    return h.hexdigest().encode('utf-8')\n",
    "\n",
    "\n",
    "def verify(password, sig):\n",
    "    good_sig = sign(password)\n",
    "    return compare_digest(good_sig, sig)\n",
    "\n",
    "\n",
    "class Register():\n",
    "    def __init__(self,\n",
    "                 username: str,\n",
    "                 password: str):\n",
    "        self.username = username.lower()\n",
    "        self.password = sign(bytes(password.encode('utf-8')))\n",
    "\n",
    "    def saveUser(self, commit=True):\n",
    "        try:\n",
    "            with open('files/users.txt', 'a') as f:\n",
    "                f.write(f\"{self.username}:{self.password.decode('utf-8')}\\n\")\n",
    "            f.close()\n",
    "        except FileNotFoundError:\n",
    "            return False\n",
    "        else:\n",
    "            return True\n",
    "\n",
    "\n",
    "class Login():\n",
    "    def __init__(self,\n",
    "                 username: str,\n",
    "                 password: str):\n",
    "        self.username = username.lower()\n",
    "        self.password = password\n",
    "\n",
    "    def __chargeUsers(self):\n",
    "        try:\n",
    "            with open('files/users.txt', 'r') as f:\n",
    "                for lines in f.readlines():\n",
    "                    line = lines.split(':')\n",
    "                    username = line[0]\n",
    "                    password = line[1]\n",
    "                    User[username] = password\n",
    "            f.close()\n",
    "        except FileNotFoundError:\n",
    "            return False\n",
    "        else:\n",
    "            return True\n",
    "\n",
    "    def logUser(self):\n",
    "        iterator = 0\n",
    "        print('Loading...')\n",
    "        self.__chargeUsers()\n",
    "        print('Finish...')\n",
    "        try:\n",
    "            password = User.get(self.username, None)\n",
    "            password = bytes(password.replace('\\n', '').encode('utf-8'))\n",
    "            password = verify(\n",
    "                bytes(self.password.encode('utf-8')),\n",
    "                password\n",
    "            )\n",
    "        except AttributeError:\n",
    "            print('this user d\\'ont exits')\n",
    "        else:\n",
    "            if password:\n",
    "                print('We are happy to see you again')\n",
    "            else:\n",
    "                print('this user d\\'ont exits')\n",
    "\n",
    "\n",
    "username = str(input('Username: '))\n",
    "password = str(input('Password: '))\n",
    "# register = Register(username, password)\n",
    "# register.saveUser()\n",
    "\n",
    "login = Login(username, password)\n",
    "login.logUser()"
   ]
  },
  {
   "cell_type": "code",
   "execution_count": 8,
   "id": "6d269d16-7fc4-41f5-8567-c2a3bdd6df81",
   "metadata": {},
   "outputs": [
    {
     "name": "stdout",
     "output_type": "stream",
     "text": [
      "--------------------\n",
      "True\n",
      "--------------------\n",
      "True\n",
      "--------------------\n",
      "True\n",
      "--------------------\n",
      "True\n"
     ]
    }
   ],
   "source": [
    "# Les Listes (Advanced concept) (Part 4)\n",
    "# Use any and all on list compréhension\n",
    "\n",
    "def dividerLine():\n",
    "    var = '-' * 20\n",
    "    print(var)\n",
    "\n",
    "# Generate Liste\n",
    "Liste1 = [True, True, True, True]\n",
    "Liste2 = [True, False, False, True]\n",
    "Liste3 = [1, 1, 1, 1]\n",
    "Liste4 = [True, 0, 0, True]\n",
    "\n",
    "# access to the value\n",
    "\n",
    "# display results\n",
    "# Any when we have one assertion to be True\n",
    "# it return True for this iterable\n",
    "dividerLine()\n",
    "print(any(Liste1))\n",
    "dividerLine()\n",
    "print(any(Liste2))\n",
    "dividerLine()\n",
    "print(any(Liste3))\n",
    "dividerLine()\n",
    "print(any(Liste4))"
   ]
  },
  {
   "cell_type": "code",
   "execution_count": 9,
   "id": "80589fbd-f5bc-46eb-80d1-14fda989dbba",
   "metadata": {},
   "outputs": [
    {
     "name": "stdout",
     "output_type": "stream",
     "text": [
      "--------------------\n",
      "True\n",
      "--------------------\n",
      "False\n",
      "--------------------\n",
      "True\n",
      "--------------------\n",
      "False\n"
     ]
    }
   ],
   "source": [
    "# display results\n",
    "# All when we have all assertions are True\n",
    "# it return True else it return False\n",
    "dividerLine()\n",
    "print(all(Liste1))\n",
    "dividerLine()\n",
    "print(all(Liste2))\n",
    "dividerLine()\n",
    "print(all(Liste3))\n",
    "dividerLine()\n",
    "print(all(Liste4))"
   ]
  },
  {
   "cell_type": "code",
   "execution_count": 10,
   "id": "e098bf6c-751a-4d36-bbef-42385360c410",
   "metadata": {},
   "outputs": [],
   "source": [
    "def dividerLine():\n",
    "    var = '-' * 20\n",
    "    print(var)\n",
    "\n",
    "\n",
    "def f(x): return x.lower().capitalize()\n",
    "# f = lambda x: x.lower().capitalize()\n",
    "\n",
    "\n",
    "def isMajor(age: int) -> bool:\n",
    "    return age > 18\n",
    "\n",
    "\n",
    "def isHolly(imc: float) -> bool:\n",
    "    return imc > 25.08\n",
    "\n",
    "\n",
    "def isFemale(gender: str) -> bool:\n",
    "    return f(gender) == 'Female' or f(gender) == 'F'\n",
    "\n",
    "# Generate Liste\n",
    "Liste1 = [isMajor(18), isHolly(22.33), isFemale('F')]\n",
    "Liste2 = [isMajor(18), isHolly(22.33), isFemale('F')]\n",
    "Liste3 = [isMajor(19), isHolly(28.33), isFemale('F')]\n",
    "Liste4 = [isMajor(25), isHolly(42.33), isFemale('Female')]"
   ]
  },
  {
   "cell_type": "code",
   "execution_count": 11,
   "id": "4804957f-3135-4388-997d-68c21f4fbe6a",
   "metadata": {},
   "outputs": [
    {
     "name": "stdout",
     "output_type": "stream",
     "text": [
      "--------------------\n",
      "True\n",
      "--------------------\n",
      "True\n",
      "--------------------\n",
      "True\n",
      "--------------------\n",
      "True\n"
     ]
    }
   ],
   "source": [
    "# access to the value\n",
    "\n",
    "# display results\n",
    "# Any when we have one assertion to be True\n",
    "# it return True for this iterable\n",
    "dividerLine()\n",
    "print(any(Liste1))\n",
    "dividerLine()\n",
    "print(any(Liste2))\n",
    "dividerLine()\n",
    "print(any(Liste3))\n",
    "dividerLine()\n",
    "print(any(Liste4))"
   ]
  },
  {
   "cell_type": "code",
   "execution_count": 12,
   "id": "34d71056-67c4-4054-98de-d9da6f75714e",
   "metadata": {},
   "outputs": [
    {
     "name": "stdout",
     "output_type": "stream",
     "text": [
      "--------------------\n",
      "False\n",
      "--------------------\n",
      "False\n",
      "--------------------\n",
      "True\n",
      "--------------------\n",
      "True\n"
     ]
    }
   ],
   "source": [
    "# display results\n",
    "# All when we have all assertions are True\n",
    "# it return True else it return False\n",
    "dividerLine()\n",
    "print(all(Liste1))\n",
    "dividerLine()\n",
    "print(all(Liste2))\n",
    "dividerLine()\n",
    "print(all(Liste3))\n",
    "dividerLine()\n",
    "print(all(Liste4))"
   ]
  },
  {
   "cell_type": "code",
   "execution_count": 14,
   "id": "e2f04d29-292c-410d-b3ea-ca15151a1990",
   "metadata": {},
   "outputs": [],
   "source": [
    "def dividerLine():\n",
    "    var = '-' * 20\n",
    "    print(var)\n",
    "\n",
    "\n",
    "def a(x): return x**2\n",
    "def b(x): return x+2\n",
    "def c(x): return x-2\n",
    "def d(x): return x//2\n",
    "\n",
    "\n",
    "def f(x): return x % 2 == 0\n",
    "def g(x): return x % 2 != 0\n",
    "def h(x): return x > 2\n",
    "def i(x): return x < 2\n",
    "\n",
    "# Generate Liste\n",
    "Tuple = tuple(x for x in range(10))\n",
    "\n",
    "# access to the value\n",
    "Tuplea = tuple(map(a, Tuple))\n",
    "Tupleb = tuple(map(b, Tuple))\n",
    "Tuplec = tuple(map(c, Tuple))\n",
    "Tupled = tuple(map(d, Tuple))\n",
    "\n",
    "Tuplef = tuple(filter(f, Tuple))\n",
    "Tupleg = tuple(filter(g, Tuple))\n",
    "Tupleh = tuple(filter(h, Tuple))\n",
    "Tuplei = tuple(filter(i, Tuple))"
   ]
  },
  {
   "cell_type": "code",
   "execution_count": 15,
   "id": "02156580-5952-4548-bc9c-3a8119d9fe33",
   "metadata": {},
   "outputs": [
    {
     "name": "stdout",
     "output_type": "stream",
     "text": [
      "--------------------\n",
      "(0, 1, 4, 9, 16, 25, 36, 49, 64, 81)\n",
      "--------------------\n",
      "(2, 3, 4, 5, 6, 7, 8, 9, 10, 11)\n",
      "--------------------\n",
      "(-2, -1, 0, 1, 2, 3, 4, 5, 6, 7)\n",
      "--------------------\n",
      "(0, 0, 1, 1, 2, 2, 3, 3, 4, 4)\n"
     ]
    }
   ],
   "source": [
    "# display results\n",
    "dividerLine()\n",
    "print(Tuplea)\n",
    "dividerLine()\n",
    "print(Tupleb)\n",
    "dividerLine()\n",
    "print(Tuplec)\n",
    "dividerLine()\n",
    "print(Tupled)"
   ]
  },
  {
   "cell_type": "code",
   "execution_count": 16,
   "id": "c3819619-f258-4a58-b635-30c8bd8a760c",
   "metadata": {},
   "outputs": [
    {
     "name": "stdout",
     "output_type": "stream",
     "text": [
      "--------------------\n",
      "(0, 2, 4, 6, 8)\n",
      "--------------------\n",
      "(1, 3, 5, 7, 9)\n",
      "--------------------\n",
      "(3, 4, 5, 6, 7, 8, 9)\n",
      "--------------------\n"
     ]
    }
   ],
   "source": [
    "# display results\n",
    "dividerLine()\n",
    "print(Tuplef)\n",
    "dividerLine()\n",
    "print(Tupleg)\n",
    "dividerLine()\n",
    "print(Tupleh)\n",
    "dividerLine()\n",
    "#print(Tuplei)"
   ]
  },
  {
   "cell_type": "code",
   "execution_count": 17,
   "id": "a3c5e8a3-df5c-4fd2-b511-02293a94135c",
   "metadata": {},
   "outputs": [],
   "source": [
    "# Simulate Car seller\n",
    "import math\n",
    "import random\n",
    "import time\n",
    "\n",
    "\n",
    "# Part 1\n",
    "# ------\n",
    "# Créer une classe du nom de Color\n",
    "# Cette classe doit avoir un attribut du nom de color\n",
    "#   Cet attribut color doit être une liste de couleur\n",
    "#   La liste des couleurs à utiliser est:\n",
    "#       black\n",
    "#       orange\n",
    "#       red\n",
    "#       yellow\n",
    "#       chocolate\n",
    "#       green\n",
    "#       pink\n",
    "#       white\n",
    "#       purple\n",
    "# Créer dans cette classe une méthode de classe\n",
    "#   Qui va retourner de manière random une des couleurs\n",
    "#   Le nom de cette fonction est attributeColor\n",
    "\n",
    "# Part 2\n",
    "# ------\n",
    "# Créer une classe du nom de Brand\n",
    "# Cette classe doit avoir un attribut du nom de brand\n",
    "#   Cet attribut brand doit être une liste de marque de voiture\n",
    "#   La liste des marques de voiture à utiliser est:\n",
    "#       Volvo\n",
    "#       Lexus\n",
    "#       red\n",
    "#       Nissan\n",
    "#       Toyota\n",
    "#       Bugatti\n",
    "#       Lamborghini\n",
    "#       Porche\n",
    "#       purple\n",
    "#       Renault\n",
    "#       Range Rover\n",
    "#       Mercedes\n",
    "#       Hunday\n",
    "# Créer dans cette classe une méthode de classe\n",
    "#   Qui va retourner de manière random une des marques de voiture\n",
    "#   Le nom de cette classe c'est attributeBrand\n",
    "\n",
    "# Part 3\n",
    "# ------\n",
    "# Créer une classe du nom de Money\n",
    "# Cette classe doit prendre en paramètre un string\n",
    "#   Mais ce string a un format particulier\n",
    "#   Exemple: \"1M.5\", \"2M.33\", \"4M.45\"\n",
    "# Ainsi dans cette classe crée un methode du nom de moneyObject\n",
    "#   Cette méthode moneyObject doit:\n",
    "#       Retourner le montant exact issu du string particuler\n",
    "#       Exemple:\n",
    "#           Pour \"1M.5\"\n",
    "#           --> sum([\n",
    "#               self.price[0] * math.pow(10, 6),\n",
    "#               self.price[1] * math.pow(10, 5),\n",
    "#           ])\n",
    "#           Ici price[0] = float(1)\n",
    "#           Ici price[1] = float(5)\n",
    "#           Ainsi donc n'oubliez pas de caster les valeurs\n",
    "#           Remarque:\n",
    "#               Vous aviez surement remarquer la présence d'un tableau price\n",
    "#               Ce tableau est issu du SPLIT sur le string particulier:\n",
    "#                   Le séparateur utilisé ici est le << M. >>\n",
    "\n",
    "# Part 4\n",
    "# ------\n",
    "# Créer une classe du nom de VitesseBox\n",
    "# Cette classe possède un attribut du nom de vitesseBox\n",
    "# Cet attribut est une liste qui contient les informations suivantes\n",
    "#   (190.88, 4, Money(\"2M.5\"))\n",
    "#   (230.88, 8, Money(\"2M.88\"))\n",
    "#   (280.00, 8, Money(\"1M.5\"))\n",
    "#   (150.88, 6, Money(\"1M.88\"))\n",
    "#   (145.66, 6, Money(\"0M.805\"))\n",
    "#   (200.00, 5, Money(\"3M.78\"))\n",
    "#   (185.85, 8, Money(\"1M.3\"))\n",
    "# Créer dans cette classe une méthode de classe\n",
    "#   Qui va retourner de manière random une des vitesseBox\n",
    "#   Le nom de cette classe c'est attributeVBox\n",
    "\n",
    "# Part 5\n",
    "# ------\n",
    "# Créer une classe du nom de CarFactory\n",
    "# Cette classe hérite des classes:\n",
    "#   Color\n",
    "#   Brand\n",
    "#   VitesseBox\n",
    "# Cette classe prend en paramètre un string\n",
    "#   Ce string est le nom d'un pays\n",
    "# Cette classe contiendra une méthode du nom de makeCar\n",
    "#   Cette méthode retourne une liste\n",
    "#       Cette liste contient quatre éléments:\n",
    "#           [\n",
    "#               < La couleur >,\n",
    "#               < La marque >,\n",
    "#               < La vitesse >,\n",
    "#               < Le nom du pays passé en paramètre >\n",
    "#           ]\n",
    "\n",
    "# Créér un méthode du nom de main\n",
    "# Cette méthode doit contenir les lignes\n",
    "#   carGenerator1 = CarFactory(\"Malawi\")\n",
    "#   carGenerator2 = CarFactory(\"Island\")\n",
    "#   carGenerator3 = CarFactory(\"Portugal\")\n",
    "#   carGenerator4 = CarFactory(\"France\")\n",
    "#   Exemple:\n",
    "#   def main():\n",
    "#        carGenerator1 = CarFactory(\"Malawi\")\n",
    "#        carGenerator2 = CarFactory(\"Island\")\n",
    "#        carGenerator3 = CarFactory(\"Portugal\")\n",
    "#        carGenerator4 = CarFactory(\"France\")\n",
    "#        ....................................\n",
    "#        ....................................\n",
    "#        ....................................\n",
    "#        ....................................\n",
    "# Ajouter Quatre autres générateur de voiture avec quatre autres pays\n",
    "\n",
    "# Ainsi faites vos remarques:\n",
    "#   Donner l'utilité de la fonction random.choice\n",
    "#   Donner vos remarque par rapport au méthode de classe et au méthode d'instance de classe\n",
    "#   Enumérer les difficultés que vous aviez rencontré\n",
    "#   Faites un bilan des nouvelles choses apprises\n",
    "#   Et donner la porté de @classmethod\n",
    "\n",
    "# Créer un fichier python du nom de carmodule.py\n",
    "#   Dans ce fichier copier tout le code précédent dedans sauf la méthode main()\n",
    "#   Puis après sauvegarder le fichier\n",
    "# Créer un autre fichier du nom de cargenerator.py\n",
    "#   Dans ce fichier importer tous les modules se trouvant dans carmodule.py comme ceci:\n",
    "#       faites l'importation en début de fichier\n",
    "#       from carmodule import CarFactory\n",
    "# Ainsi écrivez le reste du code que dans le fichier cargenerator.py\n",
    "# Qu'est ce que vous aviez remarqué\n",
    "# Qu'est ce que selon vous un module\n",
    "# Qu'est ce que selon vous un package\n",
    "# Citer quatre modules python que vous connaissez\n",
    "# Puis présenter un module averc ses fonctions\n",
    "#   Exemple: Module math\n",
    "#       fonction ceil --> syntaxe\n",
    "#       fonction pow --> syntaxe\n",
    "#       fonction acos --> syntaxe\n",
    "#       fonction asin --> syntaxe\n",
    "\n",
    "#carGenerator1 = CarFactory(\"Malawi\")\n",
    "#carGenerator2 = CarFactory(\"Island\")\n",
    "#carGenerator3 = CarFactory(\"Portugal\")\n",
    "#carGenerator4 = CarFactory(\"France\")\n",
    "\n",
    "#print(carGenerator4.makeCar())"
   ]
  },
  {
   "cell_type": "code",
   "execution_count": 19,
   "id": "bb814124-0cd9-4612-965a-04a2ea5e2a3d",
   "metadata": {},
   "outputs": [
    {
     "name": "stdout",
     "output_type": "stream",
     "text": [
      "['green', 'Bugatti', (280.0, 8, 1500000.0), 'France']\n"
     ]
    }
   ],
   "source": [
    "# Correction\n",
    "class Color():\n",
    "    color = [\n",
    "        \"black\",\n",
    "        \"orange\",\n",
    "        \"red\",\n",
    "        \"yellow\",\n",
    "        \"chocolate\",\n",
    "        \"green\",\n",
    "        \"pink\",\n",
    "        \"white\",\n",
    "        \"purple\",\n",
    "    ]\n",
    "\n",
    "    @classmethod\n",
    "    def attributeColor(cls):\n",
    "        return random.choice(cls.color)\n",
    "    \n",
    "class Brand():\n",
    "    brand = [\n",
    "        \"Volvo\",\n",
    "        \"Lexus\",\n",
    "        \"Nissan\",\n",
    "        \"Toyota\",\n",
    "        \"Bugatti\",\n",
    "        \"Lamborghini\",\n",
    "        \"Porche\",\n",
    "        \"Renault\",\n",
    "        \"Range Rover\",\n",
    "        \"Mercedes\",\n",
    "        \"Hunday\",\n",
    "    ]\n",
    "\n",
    "    @classmethod\n",
    "    def attributeBrand(cls):\n",
    "        return random.choice(cls.brand)\n",
    "\n",
    "\n",
    "class Money():\n",
    "    def __init__(self, price: str):\n",
    "        self.price = price.split('M.')\n",
    "\n",
    "    def __repr__(self):\n",
    "        return str(self.moneyObject())\n",
    "\n",
    "    def moneyObject(self):\n",
    "        return sum([\n",
    "            float(self.price[0]) * math.pow(10, 6),\n",
    "            float(self.price[1]) * math.pow(10, 5),\n",
    "        ])\n",
    "\n",
    "\n",
    "class VitesseBox():\n",
    "    vitesseBox = [\n",
    "        (190.88, 4, Money(\"2M.5\")),\n",
    "        (230.88, 8, Money(\"2M.88\")),\n",
    "        (280.00, 8, Money(\"1M.5\")),\n",
    "        (150.88, 6, Money(\"1M.88\")),\n",
    "        (145.66, 6, Money(\"0M.805\")),\n",
    "        (200.00, 5, Money(\"3M.78\")),\n",
    "        (185.85, 8, Money(\"1M.3\")),\n",
    "    ]\n",
    "\n",
    "    @classmethod\n",
    "    def attributeVBox(cls):\n",
    "        return random.choice(cls.vitesseBox)\n",
    "\n",
    "\n",
    "class CarFactory(Color,\n",
    "                 Brand,\n",
    "                 VitesseBox):\n",
    "    def __init__(self, fatory: str):\n",
    "        self.fatory = fatory\n",
    "\n",
    "    def makeCar(self):\n",
    "        return [\n",
    "            self.attributeColor(),\n",
    "            self.attributeBrand(),\n",
    "            self.attributeVBox(),\n",
    "            self.fatory\n",
    "        ]\n",
    "\n",
    "\n",
    "carGenerator1 = CarFactory(\"Malawi\")\n",
    "carGenerator2 = CarFactory(\"Island\")\n",
    "carGenerator3 = CarFactory(\"Portugal\")\n",
    "carGenerator4 = CarFactory(\"France\")\n",
    "\n",
    "print(carGenerator4.makeCar())"
   ]
  },
  {
   "cell_type": "markdown",
   "id": "7c26d5c7-5332-4483-9e60-1579ac9ac4a7",
   "metadata": {},
   "source": [
    "## Les collections"
   ]
  },
  {
   "cell_type": "code",
   "execution_count": 1,
   "id": "204161fe-1b30-46ad-99ac-346fc673e57e",
   "metadata": {},
   "outputs": [],
   "source": [
    "# Les collections sont aussi des structures de données\n",
    "# Ils permettent une meilleure utilisation de mémoire\n",
    "# Ce qui favorise une moindre complexité algorithmique\n",
    "# Ainsi l'utilisation des COLLECTIONS est un meilleur moyen d'optimisation de mémoire et d'augmentation de l'éfficacité des traitements\n",
    "# Des listes, des tuples, des dictionnaires...\n",
    "# L'utilisation des collections sont plus efficientes\n",
    "# Mais l'utilisation des premières structures de données abordées restent courante.\n",
    "# Ne remplacer pas forcément votre routine de codage ou d'utilisation des autres structures de données"
   ]
  },
  {
   "cell_type": "markdown",
   "id": "dd60e078-6f4c-4703-a768-c0a937fe949f",
   "metadata": {},
   "source": [
    "### ChainMap"
   ]
  },
  {
   "cell_type": "code",
   "execution_count": 5,
   "id": "bf0b7705-5bcd-45b3-b402-cace46345a47",
   "metadata": {},
   "outputs": [
    {
     "name": "stdout",
     "output_type": "stream",
     "text": [
      "--------------------\n",
      "ChainMap({})\n",
      "----------------------------------------\n",
      "ChainMap({'name': 'Eric', 'age': 28})\n",
      "----------------------------------------\n",
      "ChainMap({'name': 'Eric', 'age': 28}, {'name': 'Russell', 'age': 38}, {'name': 'Lamine Faty', 'age': 23})\n",
      "------------------------------------------\n"
     ]
    }
   ],
   "source": [
    "from collections import ChainMap\n",
    "\n",
    "\n",
    "def dividerLine(n=20):\n",
    "    var = '-' * int(n)\n",
    "    print(var)\n",
    "\n",
    "\n",
    "var1 = ChainMap()\n",
    "var2 = {'name': 'Eric', 'age': 28}\n",
    "var3 = {'name': 'Russell', 'age': 38}\n",
    "var4 = {'name': 'Lamine Faty', 'age': 23}\n",
    "\n",
    "# Ajout d'un dictionnaire a ChainMap\n",
    "var5 = ChainMap(var2)\n",
    "var6 = ChainMap(var2, var3, var4)\n",
    "\n",
    "dividerLine()\n",
    "print(var1)\n",
    "dividerLine(40)\n",
    "print(var5)\n",
    "dividerLine(40)\n",
    "print(var6)\n",
    "dividerLine(42)"
   ]
  },
  {
   "cell_type": "code",
   "execution_count": 7,
   "id": "518c598e-05d5-41fb-a74e-65c8f1d63291",
   "metadata": {},
   "outputs": [
    {
     "name": "stdout",
     "output_type": "stream",
     "text": [
      "--------------------\n",
      "<class 'list'>\n",
      "--------------------\n",
      "[{}]\n",
      "--------------------\n",
      "[{'name': 'Eric', 'age': 28}, {'name': 'Russell', 'age': 38}, {'name': 'Lamine Faty', 'age': 23}]\n",
      "--------------------\n"
     ]
    }
   ],
   "source": [
    "# Use maps (It is a list of ChainMap items)\n",
    "dividerLine()\n",
    "# Une liste de mappages pouvant être mise à jour par l'utilisateur.\n",
    "# La liste est classée du premier recherché au dernier recherché.\n",
    "# C'est le seul état stocké et il peut être modifié pour changer les mappages recherchés\n",
    "# La liste doit toujours contenir au moins un mappage.\n",
    "print(type(var1.maps))\n",
    "dividerLine()\n",
    "print(var1.maps)\n",
    "dividerLine()\n",
    "print(var6.maps)\n",
    "dividerLine()"
   ]
  },
  {
   "cell_type": "code",
   "execution_count": 8,
   "id": "759d77bc-8873-4081-9ce1-3d9ffdff3fc2",
   "metadata": {},
   "outputs": [
    {
     "name": "stdout",
     "output_type": "stream",
     "text": [
      "--------------------\n",
      "ChainMap({}, {'name': 'Eric', 'age': 28}, {'name': 'Russell', 'age': 38}, {'name': 'Lamine Faty', 'age': 23})\n",
      "--------------------\n",
      "ChainMap('node', {'name': 'Eric', 'age': 28}, {'name': 'Russell', 'age': 38}, {'name': 'Lamine Faty', 'age': 23})\n",
      "--------------------\n"
     ]
    }
   ],
   "source": [
    "var7 = var6.new_child()\n",
    "var8 = var6.new_child('node')\n",
    "\n",
    "dividerLine()\n",
    "print(var7)\n",
    "dividerLine()\n",
    "print(var8)\n",
    "dividerLine()"
   ]
  },
  {
   "cell_type": "code",
   "execution_count": 9,
   "id": "507f6903-c7c9-4f9e-9bea-4c856f90c70f",
   "metadata": {},
   "outputs": [],
   "source": [
    "var1 = ChainMap()\n",
    "var2 = {'name': 'Eric', 'age': 28}\n",
    "var3 = {'name': 'Russell', 'age': 38}\n",
    "var4 = {'name': 'Lamine Faty', 'age': 23}\n",
    "\n",
    "var5 = {'tall': 1.88, 'weight': 65}\n",
    "var6 = {'tall': 1.78, 'weight': 68}\n",
    "var7 = {'tall': 1.65, 'weight': 72}\n",
    "\n",
    "# Ajout de plusieurs dictionnaires\n",
    "var8 = ChainMap(var2, var3, var4, var5, var6, var7)"
   ]
  },
  {
   "cell_type": "code",
   "execution_count": 10,
   "id": "2a721e50-6409-46f2-a909-fcef6a8e35ec",
   "metadata": {},
   "outputs": [
    {
     "name": "stdout",
     "output_type": "stream",
     "text": [
      "--------------------\n",
      "Eric\n",
      "--------------------\n"
     ]
    }
   ],
   "source": [
    "# Apply get() method\n",
    "dividerLine()\n",
    "print(var8.get('name'))\n",
    "dividerLine()"
   ]
  },
  {
   "cell_type": "code",
   "execution_count": 11,
   "id": "80add8cb-d233-42ae-9aca-d9afe666d649",
   "metadata": {},
   "outputs": [
    {
     "name": "stdout",
     "output_type": "stream",
     "text": [
      "--------------------\n",
      "['tall', 'weight', 'name', 'age']\n",
      "--------------------\n"
     ]
    }
   ],
   "source": [
    "# Apply keys() method\n",
    "dividerLine()\n",
    "print(list(var8.keys()))\n",
    "dividerLine()"
   ]
  },
  {
   "cell_type": "markdown",
   "id": "35494505-b5a2-4931-bf26-c56584e8a0a7",
   "metadata": {},
   "source": [
    "# Apply values() method\n",
    "dividerLine()\n",
    "print(list(var8.values()))\n",
    "dividerLine()"
   ]
  },
  {
   "cell_type": "code",
   "execution_count": 13,
   "id": "b3c327d8-a78e-4db8-8bed-d425802663c7",
   "metadata": {},
   "outputs": [
    {
     "name": "stdout",
     "output_type": "stream",
     "text": [
      "--------------------\n",
      "[('tall', 1.88), ('weight', 65), ('name', 'Eric'), ('age', 28)]\n",
      "--------------------\n"
     ]
    }
   ],
   "source": [
    "# Apply items() method\n",
    "dividerLine()\n",
    "print(list(var8.items()))\n",
    "dividerLine()"
   ]
  },
  {
   "cell_type": "markdown",
   "id": "acfd93bf-7b28-4086-957d-527ecd85ea10",
   "metadata": {},
   "source": [
    "### Counter"
   ]
  },
  {
   "cell_type": "code",
   "execution_count": 14,
   "id": "ca0af8d8-6232-404c-ae52-075e59b2bdeb",
   "metadata": {},
   "outputs": [],
   "source": [
    "from collections import Counter\n",
    "\n",
    "def dividerLine(n=20):\n",
    "    var = '-' * int(n)\n",
    "    print(var)\n",
    "\n",
    "\n",
    "var1 = Counter()\n",
    "var2 = [1, 1, 1, 2, 3, 2, 4, 5, 6]\n",
    "var3 = Counter(var2)"
   ]
  },
  {
   "cell_type": "code",
   "execution_count": 16,
   "id": "2cf95a83-4a60-4e24-abcc-d8187bb0bd67",
   "metadata": {},
   "outputs": [
    {
     "name": "stdout",
     "output_type": "stream",
     "text": [
      "--------------------\n",
      "Counter()\n",
      "--------------------\n",
      "Counter({1: 3, 2: 2, 3: 1, 4: 1, 5: 1, 6: 1})\n"
     ]
    }
   ],
   "source": [
    "dividerLine()\n",
    "print(var1)\n",
    "dividerLine()\n",
    "print(var3)"
   ]
  },
  {
   "cell_type": "code",
   "execution_count": 18,
   "id": "2acc50c9-714c-411e-a47b-814359b72a2c",
   "metadata": {},
   "outputs": [
    {
     "name": "stdout",
     "output_type": "stream",
     "text": [
      "--------------------\n",
      "0\n",
      "--------------------\n",
      "0\n",
      "--------------------\n",
      "0\n"
     ]
    }
   ],
   "source": [
    "# Find an inexistant element\n",
    "dividerLine()\n",
    "# We have 0 for result\n",
    "# Because 7 is not a var2 list\n",
    "# So Counter objet dont map it\n",
    "print(var3[7])\n",
    "dividerLine()\n",
    "print(var3[8])\n",
    "dividerLine()\n",
    "print(var3[9])"
   ]
  },
  {
   "cell_type": "code",
   "execution_count": 19,
   "id": "9c9a699b-afbf-43dc-96d6-3437617e2776",
   "metadata": {},
   "outputs": [
    {
     "name": "stdout",
     "output_type": "stream",
     "text": [
      "--------------------\n",
      "3\n",
      "--------------------\n",
      "1\n"
     ]
    }
   ],
   "source": [
    "dividerLine()\n",
    "print(var3[1])\n",
    "dividerLine()\n",
    "print(var3[4])"
   ]
  },
  {
   "cell_type": "code",
   "execution_count": 20,
   "id": "30f49962-1b4d-48ed-a73c-3a1e4a205329",
   "metadata": {},
   "outputs": [
    {
     "name": "stdout",
     "output_type": "stream",
     "text": [
      "--------------------\n",
      "Counter({8: 6, 1: 3, 2: 2, 3: 1, 4: 1, 5: 1, 6: 1})\n"
     ]
    }
   ],
   "source": [
    "dividerLine()\n",
    "# Add new element on counter\n",
    "var3[8] = 6\n",
    "print(var3)"
   ]
  },
  {
   "cell_type": "code",
   "execution_count": 21,
   "id": "5f381f42-9c0d-420d-9364-93f3157235c7",
   "metadata": {},
   "outputs": [],
   "source": [
    "var1 = Counter()\n",
    "var2 = [1, 1, 1, 2, 3, 2, 4, 5, 6]\n",
    "var3 = Counter(var2)"
   ]
  },
  {
   "cell_type": "code",
   "execution_count": 23,
   "id": "8c4c421b-78e1-40eb-b399-64e9e064ff9d",
   "metadata": {},
   "outputs": [
    {
     "name": "stdout",
     "output_type": "stream",
     "text": [
      "--------------------\n",
      "[1, 1, 1, 2, 2, 3, 4, 5, 6]\n"
     ]
    }
   ],
   "source": [
    "dividerLine()\n",
    "print(list(var3.elements()))"
   ]
  },
  {
   "cell_type": "code",
   "execution_count": 24,
   "id": "bf653af0-1d3d-4202-88e9-8270d17bf867",
   "metadata": {},
   "outputs": [],
   "source": [
    "var3[8] = 6"
   ]
  },
  {
   "cell_type": "code",
   "execution_count": 25,
   "id": "eb6650f1-bcdb-4b94-92b6-11816fb78a15",
   "metadata": {},
   "outputs": [
    {
     "name": "stdout",
     "output_type": "stream",
     "text": [
      "--------------------\n",
      "[1, 1, 1, 2, 2, 3, 4, 5, 6, 8, 8, 8, 8, 8, 8]\n"
     ]
    }
   ],
   "source": [
    "dividerLine()\n",
    "print(list(var3.elements()))"
   ]
  },
  {
   "cell_type": "code",
   "execution_count": 28,
   "id": "8670e3b9-6fe5-431e-9425-2ee7fe6e66b7",
   "metadata": {},
   "outputs": [
    {
     "name": "stdout",
     "output_type": "stream",
     "text": [
      "[(8, 6), (1, 3)]\n",
      "--------------------\n",
      "[(8, 6), (1, 3), (2, 2)]\n",
      "--------------------\n",
      "[(8, 6), (1, 3), (2, 2), (3, 1)]\n",
      "--------------------\n"
     ]
    }
   ],
   "source": [
    "# Return a list of tuple occurence\n",
    "print(var3.most_common(2))\n",
    "dividerLine()\n",
    "print(var3.most_common(3))\n",
    "dividerLine()\n",
    "print(var3.most_common(4))\n",
    "dividerLine()"
   ]
  },
  {
   "cell_type": "code",
   "execution_count": 32,
   "id": "acdd73c3-9dac-4495-b713-c3dc955b7aa3",
   "metadata": {},
   "outputs": [
    {
     "name": "stdout",
     "output_type": "stream",
     "text": [
      "Counter({'a': 3, 'b': 0, 'c': -3, 'd': -6})\n",
      "--------------------\n"
     ]
    }
   ],
   "source": [
    "# Substract counter object\n",
    "var4 = Counter(a=4, b=2, c=0, d=-2)\n",
    "var5 = Counter(a=1, b=2, c=3, d=4)\n",
    "var4.subtract(var5)\n",
    "print(var4)\n",
    "dividerLine()"
   ]
  },
  {
   "cell_type": "code",
   "execution_count": 34,
   "id": "d9af60bb-663d-4fe0-921b-667292203075",
   "metadata": {},
   "outputs": [
    {
     "name": "stdout",
     "output_type": "stream",
     "text": [
      "Counter({'a': 3, 'b': 0, 3: -2, 4: -2, 5: -2, 6: -2, 'c': -3, 2: -4, 'd': -6, 1: -6, 8: -12})\n"
     ]
    }
   ],
   "source": [
    "var4.subtract(var3)\n",
    "print(var4)"
   ]
  },
  {
   "cell_type": "code",
   "execution_count": 31,
   "id": "becb1f31-afb6-4e51-8c0d-09992d5c903b",
   "metadata": {},
   "outputs": [
    {
     "name": "stdout",
     "output_type": "stream",
     "text": [
      "Counter({8: 6, 1: 3, 2: 2, 3: 1, 4: 1, 5: 1, 6: 1})\n",
      "--------------------\n",
      "--------------------\n",
      "Counter({'a': 4, 'b': 2, 'c': 0, 3: -1, 4: -1, 5: -1, 6: -1, 'd': -2, 2: -2, 1: -3, 8: -6})\n"
     ]
    }
   ],
   "source": [
    "print(var3)\n",
    "dividerLine()\n",
    "dividerLine()\n",
    "print(var4)"
   ]
  },
  {
   "cell_type": "markdown",
   "id": "ae80048d-4af5-4de5-8b05-208c7d04da22",
   "metadata": {},
   "source": [
    "### Deque"
   ]
  },
  {
   "cell_type": "code",
   "execution_count": 35,
   "id": "36160a9b-4d2e-40e1-9844-9bf876c2ce7e",
   "metadata": {},
   "outputs": [],
   "source": [
    "from collections import deque\n",
    "\n",
    "# Retourne un nouvel objet deque initialisé de gauche à droite (en utilisant append()) avec les données de iterable.\n",
    "# Si iterable n'est pas spécifié, le nouveau deque est vide.\n",
    "# Les deques sont une généralisation des piles et des files d'attente (le nom se prononce \"deck\" et est l'abréviation de \"file d'attente à double extrémité\").\n",
    "# Deques prend en charge les ajouts et les pops à mémoire thread-safe et efficaces de chaque côté du deque avec approximativement les mêmes performances O(1) dans les deux sens.\n",
    "# Si maxlen n'est pas spécifié ou vaut None, deques peut atteindre une longueur arbitraire.\n",
    "# Sinon, le deque est limité à la longueur maximale spécifiée.\n",
    "# Une fois qu'une deque de longueur limitée est pleine, lorsque de nouveaux éléments sont ajoutés, un nombre correspondant d'éléments sont supprimés de l'extrémité opposée.\n",
    "# Les deques de longueur limitée fournissent des fonctionnalités similaires au tailfiltre sous Unix. Ils sont également utiles pour le suivi des transactions et d'autres pools de données où seule l'activité la plus récente est intéressante."
   ]
  },
  {
   "cell_type": "code",
   "execution_count": 36,
   "id": "00fc04f1-b830-4996-a789-031147a3b825",
   "metadata": {},
   "outputs": [],
   "source": [
    "var = deque()"
   ]
  },
  {
   "cell_type": "code",
   "execution_count": 37,
   "id": "7059edf9-6984-4086-8aca-dba250e4eaa1",
   "metadata": {},
   "outputs": [
    {
     "name": "stdout",
     "output_type": "stream",
     "text": [
      "--------------------\n",
      "deque([100, 200, 200, 200])\n"
     ]
    }
   ],
   "source": [
    "dividerLine()\n",
    "# ajouter un élément du coté droit de cette Liste\n",
    "var.append(100)\n",
    "var.append(200)\n",
    "var.append(200)\n",
    "var.append(200)\n",
    "print(var)"
   ]
  },
  {
   "cell_type": "code",
   "execution_count": 38,
   "id": "7141b1a8-3f72-4ffd-9e3d-0c23d0fa7483",
   "metadata": {},
   "outputs": [
    {
     "name": "stdout",
     "output_type": "stream",
     "text": [
      "----------------------------------------\n",
      "deque([(44, 'Wolof'), 300.81991, 100, 200, 200, 200])\n"
     ]
    }
   ],
   "source": [
    "dividerLine(40)\n",
    "# ajouter un élément du coté gauche de cette Liste\n",
    "var.appendleft(300.81991)\n",
    "var.appendleft((44, 'Wolof'))\n",
    "print(var)"
   ]
  },
  {
   "cell_type": "code",
   "execution_count": 39,
   "id": "c3327539-88fc-44a5-ab41-fef2c9e7bd8f",
   "metadata": {},
   "outputs": [
    {
     "name": "stdout",
     "output_type": "stream",
     "text": [
      "--------------------\n",
      "deque([(44, 'Wolof'), 300.81991, 100, 200, 200, 200])\n"
     ]
    }
   ],
   "source": [
    "dividerLine()\n",
    "# copier le contenue de la deque\n",
    "var2 = var.copy()\n",
    "print(var2)"
   ]
  },
  {
   "cell_type": "code",
   "execution_count": 40,
   "id": "adef859c-bbe5-4a06-9f12-5c70e3a7bd1f",
   "metadata": {},
   "outputs": [
    {
     "name": "stdout",
     "output_type": "stream",
     "text": [
      "deque([])\n"
     ]
    }
   ],
   "source": [
    "# vider la liste de tous ces éléments\n",
    "var2.clear()\n",
    "print(var2)"
   ]
  },
  {
   "cell_type": "code",
   "execution_count": 41,
   "id": "ae73703d-6b60-409d-9744-8db786b930e1",
   "metadata": {},
   "outputs": [
    {
     "name": "stdout",
     "output_type": "stream",
     "text": [
      "--------------------\n",
      "3\n"
     ]
    }
   ],
   "source": [
    "dividerLine()\n",
    "# compter le nombre d'élément x dans la deque\n",
    "print(var.count(200))"
   ]
  },
  {
   "cell_type": "code",
   "execution_count": 42,
   "id": "f5531681-ecf7-4ad0-add1-7f09ba6ee56b",
   "metadata": {},
   "outputs": [
    {
     "name": "stdout",
     "output_type": "stream",
     "text": [
      "--------------------\n",
      "deque([{'name': 'DSI006'}, (44, 'Wolof'), 300.81991, 100, 200, 200, {'age': 28}, 3000, 200])\n"
     ]
    }
   ],
   "source": [
    "dividerLine()\n",
    "# insérer un élément à une position x donné\n",
    "var.insert(0, {'name': 'DSI006'})\n",
    "var.insert(-1, {'age': 28})\n",
    "var.insert(-1, 3000)\n",
    "print(var)"
   ]
  },
  {
   "cell_type": "code",
   "execution_count": 44,
   "id": "93c2b5fb-17b8-4559-b928-6d7af8589e76",
   "metadata": {},
   "outputs": [
    {
     "name": "stdout",
     "output_type": "stream",
     "text": [
      "--------------------\n",
      "3000\n",
      "--------------------\n",
      "deque([{'name': 'DSI006'}, (44, 'Wolof'), 300.81991, 100, 200, 200, {'age': 28}])\n"
     ]
    }
   ],
   "source": [
    "dividerLine()\n",
    "# supprimer un élément par la droite de la deque\n",
    "# Si aucun élément n'est présent, lève un IndexError.\n",
    "print(var.pop())\n",
    "dividerLine()\n",
    "print(var)"
   ]
  },
  {
   "cell_type": "code",
   "execution_count": 45,
   "id": "ca88492a-d170-4dc6-8e70-8b6c41cfd457",
   "metadata": {},
   "outputs": [
    {
     "name": "stdout",
     "output_type": "stream",
     "text": [
      "--------------------\n",
      "{'name': 'DSI006'}\n",
      "deque([(44, 'Wolof'), 300.81991, 100, 200, 200, {'age': 28}])\n"
     ]
    }
   ],
   "source": [
    "dividerLine()\n",
    "# supprimer un élément par la gauche de la deque\n",
    "# Si aucun élément n'est présent, lève un IndexError.\n",
    "print(var.popleft())\n",
    "print(var)"
   ]
  },
  {
   "cell_type": "code",
   "execution_count": 46,
   "id": "5fd745d8-524a-44cb-9e22-d033d6da7c4b",
   "metadata": {},
   "outputs": [
    {
     "name": "stdout",
     "output_type": "stream",
     "text": [
      "--------------------\n",
      "deque([{'age': 28}, 200, 200, 100, 300.81991, (44, 'Wolof')])\n"
     ]
    }
   ],
   "source": [
    "dividerLine()\n",
    "# Inverser les éléments de la deque\n",
    "var.reverse()\n",
    "print(var)"
   ]
  },
  {
   "cell_type": "code",
   "execution_count": 47,
   "id": "432de563-096d-4f5b-9f70-b8ce373953ed",
   "metadata": {},
   "outputs": [
    {
     "name": "stdout",
     "output_type": "stream",
     "text": [
      "--------------------\n",
      "deque([{'age': 28}, 200, 100, 300.81991, (44, 'Wolof')])\n"
     ]
    }
   ],
   "source": [
    "dividerLine()\n",
    "# Supprimer une valeur existante de la deque\n",
    "var.remove(200)\n",
    "print(var)"
   ]
  },
  {
   "cell_type": "code",
   "execution_count": 48,
   "id": "fbc3c6af-0858-44a2-af54-37dfeee8f30a",
   "metadata": {},
   "outputs": [
    {
     "name": "stdout",
     "output_type": "stream",
     "text": [
      "--------------------\n",
      "deque([{'age': 28}, 100, 300.81991, (44, 'Wolof')])\n"
     ]
    }
   ],
   "source": [
    "dividerLine()\n",
    "# Supprimer une valeur existante de la deque\n",
    "var.remove(200)\n",
    "print(var)"
   ]
  },
  {
   "cell_type": "code",
   "execution_count": 49,
   "id": "6e2a4b48-7fe6-41dd-a4b6-99bd3a38a01b",
   "metadata": {},
   "outputs": [
    {
     "name": "stdout",
     "output_type": "stream",
     "text": [
      "--------------------\n",
      "None\n"
     ]
    }
   ],
   "source": [
    "dividerLine()\n",
    "# Afficher la taille de la deque\n",
    "# Taille maximale d'un deque ou Nones s'il est illimité\n",
    "print(var.maxlen)"
   ]
  },
  {
   "cell_type": "code",
   "execution_count": 50,
   "id": "1b5de3e7-08a4-4425-bc40-86c19d90e92b",
   "metadata": {},
   "outputs": [],
   "source": [
    "var8 = deque(maxlen=100)"
   ]
  },
  {
   "cell_type": "code",
   "execution_count": 51,
   "id": "5a385417-bbc9-45a0-896b-d75c4c019d4d",
   "metadata": {},
   "outputs": [
    {
     "name": "stdout",
     "output_type": "stream",
     "text": [
      "--------------------\n",
      "100\n"
     ]
    }
   ],
   "source": [
    "dividerLine()\n",
    "# Afficher la taille de la deque\n",
    "# Taille maximale d'un deque ou Nones s'il est illimité\n",
    "print(var8.maxlen)"
   ]
  },
  {
   "cell_type": "code",
   "execution_count": 52,
   "id": "200e2a49-4d15-40ed-ad11-e9bcd79ebcf9",
   "metadata": {},
   "outputs": [],
   "source": [
    "# Exercice sur les classes, méthodes et attributs\n",
    "# Part 6\n",
    "# Créer un deux fichiers textes\n",
    "#   Un fichier color.txt\n",
    "#       Remplisser ce fichier avec la liste de toutes les couleurs\n",
    "#       Vous pouvez vous utiliser Internet afin d'elargir plus les recherches et avoir plus de noms\n",
    "#       Mettez les couleurs ligne après ligne dans le fichier\n",
    "#   Un fichier brand.txt\n",
    "#       Remplissez ce fichier avec la liste de toutes les marques de voiture\n",
    "#       Vous pouvez vous utiliser Internet afin d'elargir plus les recherches et avoir plus de noms\n",
    "#       Mettez les marques de voiture lignes après ligne dans le fichier"
   ]
  },
  {
   "cell_type": "code",
   "execution_count": 53,
   "id": "88d0f9ef-8833-480f-a262-5eab76e47221",
   "metadata": {},
   "outputs": [],
   "source": [
    "# Part 7\n",
    "# Créer un fichier factory.py\n",
    "#   Dans ce fichier écriver une fonction du nom de treatFile qui lit dans un fichier\n",
    "#   Cette fonction doit être utilisable pour lire les fichiers color.txt et brand.txt\n",
    "#       Ainsi grâce a cette fonction on peut récuper les informations\n",
    "#       Cette fonction doit prendre en paramètre que le path du fichier à lire\n",
    "#       Et dois retourner la liste des couleurs ou des marques de voiture\n",
    "#       Ainsi dans les classes Color et Brand remplacer la liste contenant les couleurs ou marque par la liste retourner par la fonction treatFile\n",
    "# Une fois toutes ces étpaes faites tester la fonction puis importer le module factory dans le fichier python ou se trouve les classes:\n",
    "#   Color\n",
    "#   Brand\n",
    "#   ...\n",
    "# Pour importer il faudra juste faire:\n",
    "#   Syntaxe: import factory / from factory import treatFile"
   ]
  },
  {
   "cell_type": "code",
   "execution_count": 54,
   "id": "3563bf02-5df6-494b-9f8a-b264c99b6b01",
   "metadata": {},
   "outputs": [],
   "source": [
    "# Part 8\n",
    "# Améliorer la fonction moneyObject() de la classe Money:\n",
    "#   Afin qu'elle retourne le bon résultat\n",
    "#       C'est à dire les chiffres après le M. doivent être considérés dans le bon ordre\n",
    "#       Voyez ceci comme cet exemple:\n",
    "#           \"1M.33\" ==> 1000000 + 300000 + 30000\n",
    "#       Une fois la méthode corrigée exécuter et vérifier si tout marche"
   ]
  },
  {
   "cell_type": "code",
   "execution_count": 56,
   "id": "3189f549-c741-4606-9cf7-c661b4c86bb3",
   "metadata": {},
   "outputs": [],
   "source": [
    "# Correction faite par Maodo\n",
    "# Dans ce fichier écriver une fonction du nom de treatFile qui lit dans un fichier\n",
    "# A mettre dans le factory.py\n",
    "def treatFile(chemin):\n",
    "    with open(chemin, \"r\") as f:\n",
    "        contenu = f.read().splitlines()\n",
    "    f.close()\n",
    "    return contenu\n",
    "\n",
    "# fonction moneyObject améliorée.\n",
    "def moneyObject(self):\n",
    "    table1 = [float(self.price[0][i])*math.pow(10, 6+i) for i in range(len(self.price[0]))]\n",
    "    table2 = [float(self.price[1][i])*math.pow(10, 5-i) for i in range(len(self.price[1]))]\n",
    "    return sum((table1+table2))"
   ]
  },
  {
   "cell_type": "code",
   "execution_count": 2,
   "id": "3509a434-7a7d-492a-b4ea-31a9b9e13f7c",
   "metadata": {},
   "outputs": [],
   "source": [
    "# The collection (Part 8)\n",
    "# OrderedDict()\n",
    "from collections import OrderedDict\n",
    "\n",
    "# Les dictionnaires ordonnés sont comme les dictionnaires ordinaires, mais ont des fonctionnalités supplémentaires liées aux opérations de commande.\n",
    "# Ils sont devenus moins importants maintenant que la dictclasse intégrée a acquis la capacité de se souvenir de l'ordre d'insertion (ce nouveau comportement est devenu garanti dans Python 3.7)."
   ]
  },
  {
   "cell_type": "code",
   "execution_count": 4,
   "id": "c6ad559c-1d60-4728-b38f-52d29ddfb972",
   "metadata": {},
   "outputs": [],
   "source": [
    "def dividerLine(n=20):\n",
    "    var = '-' * int(n)\n",
    "    print(var)\n",
    "\n",
    "\n",
    "var  = OrderedDict()\n",
    "var2 = OrderedDict(a=4, b=2)\n",
    "var3 = OrderedDict([('a', 4), ('b', 2)])\n",
    "var4 = OrderedDict({'a': 4, 'b': 4})"
   ]
  },
  {
   "cell_type": "code",
   "execution_count": 6,
   "id": "afbed3e0-165f-4c09-906f-337b45f6644c",
   "metadata": {},
   "outputs": [
    {
     "name": "stdout",
     "output_type": "stream",
     "text": [
      "--------------------\n",
      "OrderedDict()\n",
      "OrderedDict([('a', 4), ('b', 2)])\n",
      "OrderedDict([('a', 4), ('b', 2)])\n",
      "OrderedDict([('a', 4), ('b', 4)])\n"
     ]
    }
   ],
   "source": [
    "dividerLine()\n",
    "# Create a OrderDict instanve\n",
    "print(var)\n",
    "print(var2)\n",
    "print(var3)\n",
    "print(var4)"
   ]
  },
  {
   "cell_type": "code",
   "execution_count": 7,
   "id": "e60ad1e1-fa8c-47e1-9608-12ae3424a00a",
   "metadata": {},
   "outputs": [
    {
     "name": "stdout",
     "output_type": "stream",
     "text": [
      "--------------------\n",
      "4\n",
      "2\n",
      "--------------------\n",
      "4\n",
      "2\n",
      "--------------------\n",
      "4\n",
      "4\n"
     ]
    }
   ],
   "source": [
    "# get element out of OrderDict\n",
    "dividerLine()\n",
    "print(var2.get('a'))\n",
    "print(var2.get('b'))\n",
    "dividerLine()\n",
    "print(var3.get('a'))\n",
    "print(var3.get('b'))\n",
    "dividerLine()\n",
    "print(var4.get('a'))\n",
    "print(var4.get('b'))"
   ]
  },
  {
   "cell_type": "code",
   "execution_count": 8,
   "id": "eec270f1-6e09-4569-9c5e-101dbcf21a18",
   "metadata": {},
   "outputs": [
    {
     "name": "stdout",
     "output_type": "stream",
     "text": [
      "--------------------\n",
      "odict_keys(['a', 'b'])\n",
      "['a', 'b']\n",
      "--------------------\n",
      "odict_keys(['a', 'b'])\n",
      "['a', 'b']\n",
      "--------------------\n",
      "odict_keys(['a', 'b'])\n",
      "['a', 'b']\n"
     ]
    }
   ],
   "source": [
    "# get all keys out of OrderDict\n",
    "dividerLine()\n",
    "print(var2.keys())\n",
    "print(list(var2.keys()))\n",
    "dividerLine()\n",
    "print(var3.keys())\n",
    "print(list(var3.keys()))\n",
    "dividerLine()\n",
    "print(var4.keys())\n",
    "print(list(var4.keys()))"
   ]
  },
  {
   "cell_type": "code",
   "execution_count": 9,
   "id": "bd6bf89b-f449-4874-9a2b-eb52f65b3ffb",
   "metadata": {},
   "outputs": [
    {
     "name": "stdout",
     "output_type": "stream",
     "text": [
      "--------------------\n",
      "odict_values([4, 2])\n",
      "[4, 2]\n",
      "--------------------\n",
      "odict_values([4, 2])\n",
      "[4, 2]\n",
      "--------------------\n",
      "odict_values([4, 4])\n",
      "[4, 4]\n"
     ]
    }
   ],
   "source": [
    "# get all values out of OrderDict\n",
    "dividerLine()\n",
    "print(var2.values())\n",
    "print(list(var2.values()))\n",
    "dividerLine()\n",
    "print(var3.values())\n",
    "print(list(var3.values()))\n",
    "dividerLine()\n",
    "print(var4.values())\n",
    "print(list(var4.values()))"
   ]
  },
  {
   "cell_type": "code",
   "execution_count": 10,
   "id": "5b696f55-3c67-4b83-a488-d134a51a4b9b",
   "metadata": {},
   "outputs": [
    {
     "name": "stdout",
     "output_type": "stream",
     "text": [
      "--------------------\n",
      "odict_items([('a', 4), ('b', 2)])\n",
      "[('a', 4), ('b', 2)]\n",
      "--------------------\n",
      "odict_items([('a', 4), ('b', 2)])\n",
      "[('a', 4), ('b', 2)]\n",
      "--------------------\n",
      "odict_items([('a', 4), ('b', 4)])\n",
      "[('a', 4), ('b', 4)]\n"
     ]
    }
   ],
   "source": [
    "# get all items out of OrderDict\n",
    "dividerLine()\n",
    "print(var2.items())\n",
    "print(list(var2.items()))\n",
    "dividerLine()\n",
    "print(var3.items())\n",
    "print(list(var3.items()))\n",
    "dividerLine()\n",
    "print(var4.items())\n",
    "print(list(var4.items()))"
   ]
  },
  {
   "cell_type": "code",
   "execution_count": 11,
   "id": "65c77ebc-92b2-447b-bb41-263eb343938c",
   "metadata": {},
   "outputs": [
    {
     "name": "stdout",
     "output_type": "stream",
     "text": [
      "--------------------\n",
      "Before: OrderedDict([('a', 4), ('b', 2)])\n",
      "After: OrderedDict([('b', 2), ('a', 4)])\n"
     ]
    }
   ],
   "source": [
    "# Move to end\n",
    "# left to right\n",
    "dividerLine()\n",
    "print(f'Before: {var2}')\n",
    "var2.move_to_end('a', last=True)\n",
    "print(f'After: {var2}')"
   ]
  },
  {
   "cell_type": "code",
   "execution_count": 12,
   "id": "403a91e2-b0ae-4e72-bfdb-a7d79cde0c3c",
   "metadata": {},
   "outputs": [
    {
     "name": "stdout",
     "output_type": "stream",
     "text": [
      "--------------------\n",
      "Before: OrderedDict([('b', 2), ('a', 4)])\n",
      "After: OrderedDict([('b', 2), ('a', 4)])\n"
     ]
    }
   ],
   "source": [
    "# right to end\n",
    "dividerLine()\n",
    "print(f'Before: {var2}')\n",
    "var2.move_to_end('b', last=False)\n",
    "print(f'After: {var2}')"
   ]
  },
  {
   "cell_type": "code",
   "execution_count": 13,
   "id": "5a1f8d90-5d3a-4acf-92ca-eb197585f2f2",
   "metadata": {},
   "outputs": [
    {
     "name": "stdout",
     "output_type": "stream",
     "text": [
      "-------LIFO-------\n",
      "Before: OrderedDict([('b', 2), ('a', 4)])\n",
      "Remove: ('a', 4)\n",
      "After: OrderedDict([('b', 2)])\n"
     ]
    }
   ],
   "source": [
    "# Delete with LIFO\n",
    "# right to end\n",
    "print('-------LIFO-------')\n",
    "print(f'Before: {var2}')\n",
    "print(f'Remove: {var2.popitem(last=True)}')\n",
    "print(f'After: {var2}')"
   ]
  },
  {
   "cell_type": "code",
   "execution_count": 14,
   "id": "ac694cf7-bc45-4eb1-9ca3-254e5a5a2a49",
   "metadata": {},
   "outputs": [
    {
     "name": "stdout",
     "output_type": "stream",
     "text": [
      "-------FIFO-------\n",
      "Before: OrderedDict([('b', 2), ('c', 85), ('d', 100)])\n",
      "Remove: ('b', 2)\n",
      "After: OrderedDict([('c', 85), ('d', 100)])\n"
     ]
    }
   ],
   "source": [
    "# Delete with FIFO\n",
    "# right to end\n",
    "var2['c'] = 85\n",
    "var2['d'] = 100\n",
    "print('-------FIFO-------')\n",
    "print(f'Before: {var2}')\n",
    "print(f'Remove: {var2.popitem(last=False)}')\n",
    "print(f'After: {var2}')"
   ]
  },
  {
   "cell_type": "code",
   "execution_count": 15,
   "id": "146acc03-0c91-4d01-9bc4-7ea04e29632c",
   "metadata": {},
   "outputs": [
    {
     "name": "stdout",
     "output_type": "stream",
     "text": [
      "--------------------\n",
      "OrderedDict([('c', 85), ('d', 100), ('e', 5), (100, ('Ali', 'Eric')), ('age', [18, 20])])\n"
     ]
    }
   ],
   "source": [
    "dividerLine()\n",
    "var2.__setitem__('e', 5)\n",
    "var2.__setitem__(100, ('Ali', 'Eric'))\n",
    "var2.__setitem__('age', [18, 20])\n",
    "print(var2)"
   ]
  },
  {
   "cell_type": "code",
   "execution_count": 16,
   "id": "9fa619b2-af60-4cf4-98b3-5896ef0b39c8",
   "metadata": {},
   "outputs": [],
   "source": [
    "# The Functions\n",
    "# Advanced Part (Decorator)\n",
    "# Un décorateur prend en paramatre une fonction (CALLABLE)\n",
    "# Puis évalue les conditions appliquées à la fonction avant de l'exécuter\n",
    "# Donc le décorateur s'exécute avant la dite fonction"
   ]
  },
  {
   "cell_type": "code",
   "execution_count": 17,
   "id": "5d017e66-4e45-4495-a01d-016d587305fd",
   "metadata": {},
   "outputs": [],
   "source": [
    "LIMIT = 18\n",
    "\n",
    "\n",
    "def dividerLine(n=20):\n",
    "    var = '-' * int(n)\n",
    "    print(var)\n",
    "\n",
    "\n",
    "def decorator(func):\n",
    "    def innerFunction(age):\n",
    "        if isinstance(age, int):\n",
    "            func(age)\n",
    "        else:\n",
    "            print('Error is occured')\n",
    "    return innerFunction\n",
    "\n",
    "@decorator\n",
    "def giveAcces(age: int):\n",
    "    print(age > LIMIT)"
   ]
  },
  {
   "cell_type": "code",
   "execution_count": 18,
   "id": "24de754e-891b-4c97-9282-73a94ee035ec",
   "metadata": {},
   "outputs": [
    {
     "name": "stdout",
     "output_type": "stream",
     "text": [
      "--------------------\n",
      "True\n"
     ]
    }
   ],
   "source": [
    "dividerLine()\n",
    "giveAcces(20)"
   ]
  },
  {
   "cell_type": "code",
   "execution_count": 19,
   "id": "2d58377c-e70d-4a5b-b88d-ff47ae7f1a7a",
   "metadata": {},
   "outputs": [
    {
     "name": "stdout",
     "output_type": "stream",
     "text": [
      "--------------------\n",
      "True\n"
     ]
    }
   ],
   "source": [
    "dividerLine()\n",
    "giveAcces(100)"
   ]
  },
  {
   "cell_type": "code",
   "execution_count": 20,
   "id": "cea9486f-3217-4c19-ab82-6054ec0da7a8",
   "metadata": {},
   "outputs": [
    {
     "name": "stdout",
     "output_type": "stream",
     "text": [
      "--------------------\n",
      "Error is occured\n"
     ]
    }
   ],
   "source": [
    "dividerLine()\n",
    "giveAcces(10.88)"
   ]
  },
  {
   "cell_type": "code",
   "execution_count": 21,
   "id": "fc45726a-65c1-4320-97a5-20208eb977f2",
   "metadata": {},
   "outputs": [],
   "source": [
    "# The Class\n",
    "# Advanced Part1\n",
    "\n",
    "def dividerLine(n=20):\n",
    "    var = '-' * int(n)\n",
    "    print(var)\n",
    "\n",
    "\n",
    "class A:\n",
    "    def __init__(self):\n",
    "        self._x = None\n",
    "        \n",
    "    def getVar(self):\n",
    "        return self.var\n",
    "\n",
    "    def getx(self):\n",
    "        return self._x\n",
    "\n",
    "    def setx(self, value):\n",
    "        self._x = value\n",
    "\n",
    "    def delx(self):\n",
    "        del self._x\n",
    "\n",
    "    x = property(getx, setx, delx, \"I'm the 'x' property.\")"
   ]
  },
  {
   "cell_type": "code",
   "execution_count": 22,
   "id": "845cc077-cd5a-40c9-a82c-9b8ed3544494",
   "metadata": {},
   "outputs": [],
   "source": [
    "class B:\n",
    "    def __init__(self):\n",
    "        self._x = None\n",
    "\n",
    "    @property\n",
    "    def x(self):\n",
    "        \"\"\"I'm the 'x' property.\"\"\"\n",
    "        return self._x\n",
    "\n",
    "    @x.setter\n",
    "    def x(self, value):\n",
    "        self._x = value\n",
    "\n",
    "    @x.deleter\n",
    "    def x(self):\n",
    "        del self._x"
   ]
  },
  {
   "cell_type": "code",
   "execution_count": 23,
   "id": "9854a409-6960-4414-bfc1-be26dfbd98cc",
   "metadata": {},
   "outputs": [],
   "source": [
    "var = A()\n",
    "var2 = B()"
   ]
  },
  {
   "cell_type": "code",
   "execution_count": 24,
   "id": "c0c4c898-43a5-4b2c-aa82-ea9649f432d9",
   "metadata": {},
   "outputs": [
    {
     "name": "stdout",
     "output_type": "stream",
     "text": [
      "--------------------\n",
      "None\n"
     ]
    }
   ],
   "source": [
    "# Get x\n",
    "# Use property\n",
    "# Use getter\n",
    "dividerLine()\n",
    "print(var.x)"
   ]
  },
  {
   "cell_type": "code",
   "execution_count": 25,
   "id": "3c25afff-d3dd-4ce7-bc3f-37e6b976c04d",
   "metadata": {},
   "outputs": [
    {
     "name": "stdout",
     "output_type": "stream",
     "text": [
      "--------------------\n",
      "14\n"
     ]
    }
   ],
   "source": [
    "# Set x\n",
    "# Use property\n",
    "# Use Setter\n",
    "dividerLine()\n",
    "var.x = 14\n",
    "print(var.x)"
   ]
  },
  {
   "cell_type": "code",
   "execution_count": 26,
   "id": "829fea7d-1cfa-4e94-9234-17583f069f68",
   "metadata": {},
   "outputs": [
    {
     "name": "stdout",
     "output_type": "stream",
     "text": [
      "--------------------\n"
     ]
    }
   ],
   "source": [
    "# Delete x\n",
    "# Use property\n",
    "# Use Setter\n",
    "dividerLine()\n",
    "del(var.x)"
   ]
  },
  {
   "cell_type": "code",
   "execution_count": 27,
   "id": "dcec63cf-aff8-4577-b9f3-d522f834effd",
   "metadata": {},
   "outputs": [
    {
     "ename": "AttributeError",
     "evalue": "'A' object has no attribute '_x'",
     "output_type": "error",
     "traceback": [
      "\u001b[0;31m---------------------------------------------------------------------------\u001b[0m",
      "\u001b[0;31mAttributeError\u001b[0m                            Traceback (most recent call last)",
      "Input \u001b[0;32mIn [27]\u001b[0m, in \u001b[0;36m<module>\u001b[0;34m\u001b[0m\n\u001b[0;32m----> 1\u001b[0m \u001b[38;5;28mprint\u001b[39m(\u001b[43mvar\u001b[49m\u001b[38;5;241;43m.\u001b[39;49m\u001b[43mx\u001b[49m)\n",
      "Input \u001b[0;32mIn [21]\u001b[0m, in \u001b[0;36mA.getx\u001b[0;34m(self)\u001b[0m\n\u001b[1;32m     13\u001b[0m \u001b[38;5;28;01mdef\u001b[39;00m \u001b[38;5;21mgetx\u001b[39m(\u001b[38;5;28mself\u001b[39m):\n\u001b[0;32m---> 14\u001b[0m     \u001b[38;5;28;01mreturn\u001b[39;00m \u001b[38;5;28;43mself\u001b[39;49m\u001b[38;5;241;43m.\u001b[39;49m\u001b[43m_x\u001b[49m\n",
      "\u001b[0;31mAttributeError\u001b[0m: 'A' object has no attribute '_x'"
     ]
    }
   ],
   "source": [
    "print(var.x)"
   ]
  },
  {
   "cell_type": "code",
   "execution_count": 28,
   "id": "d57474bb-c31b-48c3-a965-6e44ec8e34e1",
   "metadata": {},
   "outputs": [
    {
     "name": "stdout",
     "output_type": "stream",
     "text": [
      "Instance of B class\n"
     ]
    }
   ],
   "source": [
    "print('Instance of B class')"
   ]
  },
  {
   "cell_type": "code",
   "execution_count": 29,
   "id": "be6519ea-8f48-4166-8956-c5a1e082c12c",
   "metadata": {},
   "outputs": [
    {
     "name": "stdout",
     "output_type": "stream",
     "text": [
      "--------------------\n",
      "None\n"
     ]
    }
   ],
   "source": [
    "# Get x\n",
    "# Use property\n",
    "# Use getter\n",
    "dividerLine()\n",
    "print(var2.x)"
   ]
  },
  {
   "cell_type": "code",
   "execution_count": 30,
   "id": "fd7aeca4-cfef-4973-8db6-26a5bdd638c7",
   "metadata": {},
   "outputs": [
    {
     "name": "stdout",
     "output_type": "stream",
     "text": [
      "--------------------\n",
      "16\n"
     ]
    }
   ],
   "source": [
    "# Set x\n",
    "# Use property\n",
    "# Use Setter\n",
    "dividerLine()\n",
    "var2.x = 16\n",
    "print(var2.x)"
   ]
  },
  {
   "cell_type": "code",
   "execution_count": 31,
   "id": "63112f93-3a56-4da4-b3ce-91659d088159",
   "metadata": {},
   "outputs": [
    {
     "name": "stdout",
     "output_type": "stream",
     "text": [
      "--------------------\n"
     ]
    }
   ],
   "source": [
    "# Delete x\n",
    "# Use property\n",
    "# Use Setter\n",
    "dividerLine()\n",
    "del(var2.x)"
   ]
  },
  {
   "cell_type": "code",
   "execution_count": 32,
   "id": "f390f61b-dd3b-4c17-abdc-dbd6785e8405",
   "metadata": {},
   "outputs": [
    {
     "ename": "AttributeError",
     "evalue": "'B' object has no attribute '_x'",
     "output_type": "error",
     "traceback": [
      "\u001b[0;31m---------------------------------------------------------------------------\u001b[0m",
      "\u001b[0;31mAttributeError\u001b[0m                            Traceback (most recent call last)",
      "Input \u001b[0;32mIn [32]\u001b[0m, in \u001b[0;36m<module>\u001b[0;34m\u001b[0m\n\u001b[0;32m----> 1\u001b[0m \u001b[38;5;28mprint\u001b[39m(\u001b[43mvar2\u001b[49m\u001b[38;5;241;43m.\u001b[39;49m\u001b[43mx\u001b[49m)\n",
      "Input \u001b[0;32mIn [22]\u001b[0m, in \u001b[0;36mB.x\u001b[0;34m(self)\u001b[0m\n\u001b[1;32m      5\u001b[0m \u001b[38;5;129m@property\u001b[39m\n\u001b[1;32m      6\u001b[0m \u001b[38;5;28;01mdef\u001b[39;00m \u001b[38;5;21mx\u001b[39m(\u001b[38;5;28mself\u001b[39m):\n\u001b[1;32m      7\u001b[0m     \u001b[38;5;124;03m\"\"\"I'm the 'x' property.\"\"\"\u001b[39;00m\n\u001b[0;32m----> 8\u001b[0m     \u001b[38;5;28;01mreturn\u001b[39;00m \u001b[38;5;28;43mself\u001b[39;49m\u001b[38;5;241;43m.\u001b[39;49m\u001b[43m_x\u001b[49m\n",
      "\u001b[0;31mAttributeError\u001b[0m: 'B' object has no attribute '_x'"
     ]
    }
   ],
   "source": [
    "print(var2.x)"
   ]
  },
  {
   "cell_type": "code",
   "execution_count": 33,
   "id": "741bb688-9006-4e39-b881-09a4c5d1476d",
   "metadata": {},
   "outputs": [],
   "source": [
    "# The Class\n",
    "# Advanced Part2\n",
    "# Portée des fonctions\n",
    "# Portée des variables\n",
    "\n",
    "def dividerLine(n=20):\n",
    "    var = '-' * int(n)\n",
    "    print(var)\n",
    "\n",
    "\n",
    "class A:\n",
    "    age = 188\n",
    "    sex = 'Masculin'\n",
    "\n",
    "    def __init__(self, a: int, b: int):\n",
    "        # Public access\n",
    "        self.a = a\n",
    "        self.b = b\n",
    "        # Private access\n",
    "        self.__c = 10\n",
    "        self.__d = 18\n",
    "\n",
    "    def getA(self):\n",
    "        return self.a\n",
    "\n",
    "    def getC(self):\n",
    "        return self.__c\n",
    "\n",
    "    @staticmethod\n",
    "    def display():\n",
    "        return 'Je suis une méthode statique'"
   ]
  },
  {
   "cell_type": "code",
   "execution_count": 34,
   "id": "77b8940a-f2a7-4ac5-a5b2-4c9609ffb026",
   "metadata": {},
   "outputs": [
    {
     "name": "stdout",
     "output_type": "stream",
     "text": [
      "--------------------\n",
      "12 12\n",
      "10\n"
     ]
    }
   ],
   "source": [
    "varA = A(12, 13)\n",
    "\n",
    "# Private attribute\n",
    "dividerLine()\n",
    "print(varA.a, varA.getA())\n",
    "print(varA.getC())"
   ]
  },
  {
   "cell_type": "code",
   "execution_count": 35,
   "id": "1c2fbd8a-a619-49ed-8e1c-4b080ef9f384",
   "metadata": {},
   "outputs": [
    {
     "ename": "AttributeError",
     "evalue": "'A' object has no attribute '__c'",
     "output_type": "error",
     "traceback": [
      "\u001b[0;31m---------------------------------------------------------------------------\u001b[0m",
      "\u001b[0;31mAttributeError\u001b[0m                            Traceback (most recent call last)",
      "Input \u001b[0;32mIn [35]\u001b[0m, in \u001b[0;36m<module>\u001b[0;34m\u001b[0m\n\u001b[0;32m----> 1\u001b[0m \u001b[38;5;28mprint\u001b[39m(\u001b[43mvarA\u001b[49m\u001b[38;5;241;43m.\u001b[39;49m\u001b[43m__c\u001b[49m)\n",
      "\u001b[0;31mAttributeError\u001b[0m: 'A' object has no attribute '__c'"
     ]
    }
   ],
   "source": [
    "print(varA.__c)"
   ]
  },
  {
   "cell_type": "code",
   "execution_count": 36,
   "id": "9017acf3-ac4a-4d29-9927-618d75ca1f39",
   "metadata": {},
   "outputs": [
    {
     "name": "stdout",
     "output_type": "stream",
     "text": [
      "188\n",
      "Masculin\n"
     ]
    }
   ],
   "source": [
    "# Les attributs de la classe A\n",
    "# Les attributs statics de la classe A\n",
    "print(A.age)\n",
    "print(A.sex)"
   ]
  },
  {
   "cell_type": "code",
   "execution_count": 37,
   "id": "1716da28-70d1-4a16-b12c-b5f492f13948",
   "metadata": {},
   "outputs": [
    {
     "name": "stdout",
     "output_type": "stream",
     "text": [
      "Je suis une méthode statique\n"
     ]
    }
   ],
   "source": [
    "print(A.display())"
   ]
  },
  {
   "cell_type": "code",
   "execution_count": 38,
   "id": "18011115-77fd-4e0a-a1b3-b13e29fb3d7c",
   "metadata": {},
   "outputs": [],
   "source": [
    "# The Json format\n",
    "# Encoding/Decoding\n",
    "import json\n",
    "from io import StringIO"
   ]
  },
  {
   "cell_type": "code",
   "execution_count": 39,
   "id": "c1cddeb4-1ba1-45c1-836d-a0064341865e",
   "metadata": {},
   "outputs": [],
   "source": [
    "def dividerLine(n=20):\n",
    "    var = '-' * int(n)\n",
    "    print(var)\n",
    "\n",
    "class ListEncoder(json.JSONEncoder):\n",
    "    def default(self, obj):\n",
    "        if isinstance(obj, list):\n",
    "            return list(obj)\n",
    "        # Let the base class default method raise the TypeError\n",
    "        return json.JSONEncoder.default(self, obj)\n",
    "\n",
    "class DictEncoder(json.JSONEncoder):\n",
    "    def default(self, obj):\n",
    "        if isinstance(obj, dict):\n",
    "            return dict(obj)\n",
    "        # Let the base class default method raise the TypeError\n",
    "        return json.JSONEncoder.default(self, obj)\n",
    "\n",
    "class ComplexEncoder(json.JSONEncoder):\n",
    "    def default(self, obj):\n",
    "        if isinstance(obj, complex):\n",
    "            return [obj.real, obj.imag]\n",
    "        # Let the base class default method raise the TypeError\n",
    "        return json.JSONEncoder.default(self, obj)\n",
    "    \n",
    "io = StringIO()\n",
    "var = ['Eric', {'Bar': ('bar', None, 1.0, 2)}]"
   ]
  },
  {
   "cell_type": "code",
   "execution_count": 41,
   "id": "aa4c29e2-4255-45a7-a4d6-15a0b16398a0",
   "metadata": {},
   "outputs": [
    {
     "name": "stdout",
     "output_type": "stream",
     "text": [
      "--------------------\n",
      "['Eric', {'Bar': ('bar', None, 1.0, 2)}] <class 'list'>\n",
      "['Eric', {'Bar': ('bar', None, 1.0, 2)}] <class 'str'>\n"
     ]
    }
   ],
   "source": [
    "dividerLine()\n",
    "# Encoding\n",
    "# Change initial type into str type\n",
    "# json.dumps() method take any type to cast them to str type\n",
    "var2 = json.dumps(var)\n",
    "print(var, type(var))\n",
    "print(var, type(var2))"
   ]
  },
  {
   "cell_type": "code",
   "execution_count": 42,
   "id": "b1bd9924-3a38-4488-ac8c-ec839dc1fcc4",
   "metadata": {},
   "outputs": [
    {
     "name": "stdout",
     "output_type": "stream",
     "text": [
      "{'c': 0, 'b': 0, 'a': 0} <class 'dict'>\n",
      "{\"a\": 0, \"b\": 0, \"c\": 0} <class 'str'>\n"
     ]
    }
   ],
   "source": [
    "# Encoding\n",
    "# Change initial type into str type\n",
    "# And with sort_keys apply a ascending way\n",
    "var3 = {\"c\": 0, \"b\": 0, \"a\": 0}\n",
    "var4 = json.dumps(var3, sort_keys=True)\n",
    "print(var3, type(var3))\n",
    "print(var4, type(var4))"
   ]
  },
  {
   "cell_type": "code",
   "execution_count": 43,
   "id": "6985571d-8b28-4d96-9f5e-4f4fe36c05c9",
   "metadata": {},
   "outputs": [
    {
     "name": "stdout",
     "output_type": "stream",
     "text": [
      "--------------------\n",
      "[\"streaming API\"] <class 'str'>\n"
     ]
    }
   ],
   "source": [
    "dividerLine()\n",
    "# Encoding\n",
    "# Change initial type into str type\n",
    "# Use the String I/O module to apply a stream\n",
    "json.dump(['streaming API'], io)\n",
    "print(io.getvalue(), type(io.getvalue()))"
   ]
  },
  {
   "cell_type": "code",
   "execution_count": 46,
   "id": "00e8463f-ab0d-40ac-9c5d-160382f409d9",
   "metadata": {},
   "outputs": [
    {
     "name": "stdout",
     "output_type": "stream",
     "text": [
      "--------------------\n",
      "{\n",
      "     \"3\": 7,\n",
      "     \"4\": 5,\n",
      "     \"8\": 9,\n",
      "     \"PAPA\": 1\n",
      "}\n"
     ]
    }
   ],
   "source": [
    "dividerLine()\n",
    "# Encoding\n",
    "# Change initial type into str type\n",
    "# Use Pretty key of json module to format displaying\n",
    "# For pretty display use indent key in json.dumps() method\n",
    "var5 = {'4': 5, '3': 7, '8': 9, 'PAPA': 1}\n",
    "var5 = json.dumps(var5, sort_keys=True, indent=5)\n",
    "print(var5)\n",
    "# print(type(var5))"
   ]
  },
  {
   "cell_type": "code",
   "execution_count": 47,
   "id": "ad6d2af0-67aa-4ea5-b580-0104eea31080",
   "metadata": {},
   "outputs": [
    {
     "name": "stdout",
     "output_type": "stream",
     "text": [
      "--------------------\n",
      "var6=['Eric', {'Bar': ['bar', None, 1.0, 2]}], typeVar6=<class 'list'>\n"
     ]
    }
   ],
   "source": [
    "dividerLine()\n",
    "# Decoding\n",
    "# Get initial type from encoding data\n",
    "# Use json.loads() to decoding\n",
    "# Get the initial List type for var2\n",
    "var6 = json.loads(var2)\n",
    "print(f'var6={var6}, typeVar6={type(var6)}')"
   ]
  },
  {
   "cell_type": "code",
   "execution_count": 48,
   "id": "4c056393-a742-4362-b611-5f9336d7e167",
   "metadata": {},
   "outputs": [
    {
     "name": "stdout",
     "output_type": "stream",
     "text": [
      "--------------------\n",
      "var6=['Eric', {'Bar': ['bar', None, 1.0, 2]}], typeVar6=<class 'list'>\n"
     ]
    }
   ],
   "source": [
    "dividerLine()\n",
    "# Decoding\n",
    "# Get initial type from encoding data\n",
    "# Use json.loads() to decoding\n",
    "# Get the initial List type for var2\n",
    "# Use StringIO module to do that\n",
    "var6 = StringIO(var2)\n",
    "var6 = json.load(var6)\n",
    "print(f'var6={var6}, typeVar6={type(var6)}')"
   ]
  },
  {
   "cell_type": "code",
   "execution_count": 49,
   "id": "02b20022-8af1-4484-82c3-3b9a5026150b",
   "metadata": {},
   "outputs": [
    {
     "name": "stdout",
     "output_type": "stream",
     "text": [
      "[1, 2, 3, {'a': 4}, (1998.88, 1082.98)] <class 'list'>\n",
      "[\n",
      "    1,\n",
      "    2,\n",
      "    3,\n",
      "    {\n",
      "        \"a\": 4\n",
      "    },\n",
      "    [\n",
      "        1998.88,\n",
      "        1082.98\n",
      "    ]\n",
      "] <class 'str'>\n"
     ]
    }
   ],
   "source": [
    "# Encoding\n",
    "# Exemple 1\n",
    "# Extending JSONEncoder\n",
    "var7 = [1, 2, 3, {'a': 4}, (1998.88, 1082.98)]\n",
    "var8 = json.dumps(var7, indent=4, cls=ListEncoder)\n",
    "print(var7, type(var7))\n",
    "print(var8, type(var8))"
   ]
  },
  {
   "cell_type": "code",
   "execution_count": 50,
   "id": "e37e4f64-6880-419e-8ade-a55d7984335d",
   "metadata": {},
   "outputs": [
    {
     "name": "stdout",
     "output_type": "stream",
     "text": [
      "[1, 2, 3, {'a': 4}, (1998.88, 1082.98)] <class 'list'>\n",
      "[\n",
      "    1,\n",
      "    2,\n",
      "    3,\n",
      "    {\n",
      "        \"a\": 4\n",
      "    },\n",
      "    [\n",
      "        1998.88,\n",
      "        1082.98\n",
      "    ]\n",
      "] <class 'str'>\n"
     ]
    }
   ],
   "source": [
    "# Encoding\n",
    "# Exemple 1\n",
    "# Extending JSONEncoder\n",
    "var7 = [1, 2, 3, {'a': 4}, (1998.88, 1082.98)]\n",
    "var8 = json.dumps(var7, indent=4)\n",
    "print(var7, type(var7))\n",
    "print(var8, type(var8))"
   ]
  },
  {
   "cell_type": "code",
   "execution_count": 51,
   "id": "0e247f6f-430c-4a73-a61b-96ca59992f0c",
   "metadata": {},
   "outputs": [
    {
     "name": "stdout",
     "output_type": "stream",
     "text": [
      "--------------------\n",
      "(2+1j) <class 'complex'>\n",
      "[2.0, 1.0] <class 'str'>\n",
      "[2.0, 1.0] <class 'str'>\n"
     ]
    }
   ],
   "source": [
    "dividerLine()\n",
    "# Encoding\n",
    "# Exemple 3\n",
    "# Extending JSONEncoder\n",
    "var11 = 2 + 1j\n",
    "var12 = json.dumps(var11, cls=ComplexEncoder)\n",
    "var13 = ComplexEncoder().encode(var11)\n",
    "print(var11, type(var11))\n",
    "print(var12, type(var12))\n",
    "print(var13, type(var13))"
   ]
  },
  {
   "cell_type": "code",
   "execution_count": 52,
   "id": "8156d031-a58f-45ea-b13c-0506e911212d",
   "metadata": {},
   "outputs": [],
   "source": [
    "# The Json format\n",
    "# Use case with API\n",
    "# Use Session way to perform good API requests\n",
    "# https://restcountries.com\n",
    "import json\n",
    "import time\n",
    "import requests as r"
   ]
  },
  {
   "cell_type": "code",
   "execution_count": 53,
   "id": "b9c67035-3f1b-4097-8ea8-1686287a9905",
   "metadata": {},
   "outputs": [],
   "source": [
    "def dividerLine(n=20):\n",
    "    var = '-' * int(n)\n",
    "    print(var)\n",
    "\n",
    "\n",
    "class DictEncoder(json.JSONEncoder):\n",
    "    def default(self, obj):\n",
    "        if isinstance(obj, dict):\n",
    "            return dict(obj)\n",
    "        # Let the base class default method raise the TypeError\n",
    "        return json.JSONEncoder.default(self, obj)\n",
    "\n",
    "\n",
    "def getApiData(url=None):\n",
    "    return r.get(url,\n",
    "                 headers={},\n",
    "                 params={},\n",
    "                 json={})\n",
    "\n",
    "\n",
    "def getApiDataV2(url=None):\n",
    "    return r.get(url,\n",
    "                 headers={\n",
    "                     'Accept': 'application/json',\n",
    "                     'Content-Type': 'application/json'\n",
    "                 },\n",
    "                 params={},\n",
    "                 json={})\n",
    "\n",
    "\n",
    "def getApiDataV3(url=None):\n",
    "    with r.Session() as session:\n",
    "        return session.get(url,\n",
    "                           headers={\n",
    "                               'Accept': 'application/json',\n",
    "                               'Content-Type': 'application/json'\n",
    "                           },\n",
    "                           params={},\n",
    "                           json={})"
   ]
  },
  {
   "cell_type": "code",
   "execution_count": 56,
   "id": "7b6ee892-ad02-4261-aa39-06e61bc196cd",
   "metadata": {},
   "outputs": [
    {
     "name": "stdout",
     "output_type": "stream",
     "text": [
      "--------------------\n",
      "Start at: 19:46:00 02/15/22 GMT\n",
      "[{\"name\":{\"common\":\" <class 'str'>\n",
      "Finish at: 19:46:02 02/15/22 GMT\n"
     ]
    }
   ],
   "source": [
    "dividerLine()\n",
    "# Data is Encoding\n",
    "print(f\"Start at: {time.strftime('%X %x %Z')}\")\n",
    "main = getApiData('https://restcountries.com/v3.1/all')\n",
    "data = main.text\n",
    "print(data[0:20], type(data))\n",
    "print(f\"Finish at: {time.strftime('%X %x %Z')}\")"
   ]
  },
  {
   "cell_type": "code",
   "execution_count": 57,
   "id": "0ef0a3df-4514-4ebd-925d-9e5080930038",
   "metadata": {},
   "outputs": [
    {
     "name": "stdout",
     "output_type": "stream",
     "text": [
      "--------------------\n",
      "<class 'list'>\n"
     ]
    }
   ],
   "source": [
    "dividerLine()\n",
    "# Decode data with json module\n",
    "data2 = json.loads(data)\n",
    "print(type(data2))"
   ]
  },
  {
   "cell_type": "code",
   "execution_count": 58,
   "id": "b84fa2ab-c5bc-4ea9-a3fe-7d75d1eeee76",
   "metadata": {},
   "outputs": [
    {
     "name": "stdout",
     "output_type": "stream",
     "text": [
      "--------------------\n",
      "<class 'list'>\n"
     ]
    }
   ],
   "source": [
    "dividerLine()\n",
    "# Decode data with requests.json() function\n",
    "data3 = main.json()\n",
    "print(type(data3))"
   ]
  },
  {
   "cell_type": "code",
   "execution_count": 59,
   "id": "c4e34685-6306-498d-b4d8-25fc9b4aecd4",
   "metadata": {},
   "outputs": [
    {
     "name": "stdout",
     "output_type": "stream",
     "text": [
      "--------------------\n",
      "{\n",
      "    \"Date\": \"Tue, 15 Feb 2022 19:46:01 GMT\",\n",
      "    \"Server\": \"Apache/2.4.38 (Debian)\",\n",
      "    \"Content-Type\": \"application/json\",\n",
      "    \"content-encoding\": \"gzip\",\n",
      "    \"content-length\": \"146926\",\n",
      "    \"Keep-Alive\": \"timeout=5, max=100\",\n",
      "    \"Connection\": \"Keep-Alive\"\n",
      "}\n"
     ]
    }
   ],
   "source": [
    "dividerLine()\n",
    "# Display Headers\n",
    "# Display with format json key indent\n",
    "# Here we must use a CustomEncoder\n",
    "# Or whe just cast main.headers into dict before serialise them\n",
    "print(json.dumps(dict(main.headers), indent=4, cls=DictEncoder))"
   ]
  },
  {
   "cell_type": "code",
   "execution_count": 61,
   "id": "f7b6840f-53a4-4659-99f9-d7d855225d55",
   "metadata": {},
   "outputs": [
    {
     "name": "stdout",
     "output_type": "stream",
     "text": [
      "--------------------\n",
      "{\n",
      "    \"Date\": \"Tue, 15 Feb 2022 19:46:01 GMT\",\n",
      "    \"Server\": \"Apache/2.4.38 (Debian)\",\n",
      "    \"Content-Type\": \"application/json\",\n",
      "    \"content-encoding\": \"gzip\",\n",
      "    \"content-length\": \"146926\",\n",
      "    \"Keep-Alive\": \"timeout=5, max=100\",\n",
      "    \"Connection\": \"Keep-Alive\"\n",
      "}\n"
     ]
    }
   ],
   "source": [
    "dividerLine()\n",
    "# Display Headers\n",
    "# Display with format json key indent\n",
    "# Here we must use a CustomEncoder\n",
    "# Or whe just cast main.headers into dict before serialise them\n",
    "print(json.dumps(dict(main.headers), indent=4))"
   ]
  },
  {
   "cell_type": "code",
   "execution_count": 62,
   "id": "f5501439-c860-4fca-ac32-8e637102dadb",
   "metadata": {},
   "outputs": [],
   "source": [
    "# Exercice 1\n",
    "# With the map function\n",
    "# Return just:\n",
    "#   common name of country\n",
    "#   his currency name of currency sympbole\n",
    "#   his cca2 name\n",
    "#   his cca3 name\n",
    "#   his maps key object\n",
    "# And after that use the filter function\n",
    "#   To return country have common name begin by:\n",
    "#       - b\n",
    "#       - z\n",
    "#       - e"
   ]
  },
  {
   "cell_type": "code",
   "execution_count": 63,
   "id": "f161ecca-80ac-4ce5-a61c-523dc9c0b075",
   "metadata": {},
   "outputs": [],
   "source": [
    "# Exercice 2\n",
    "import math\n",
    "import time\n",
    "\n",
    "\n",
    "# Ecrire une fonction unStackThread()\n",
    "#   Cette fonction aura pour but de simuler une PILE\n",
    "#   Afin de remplir les conditions pour cette fonction\n",
    "#       Ecrivez en premier une fonction du nom de askTask()\n",
    "#           Cette fonction demandera à l'utilisateur d'entrer:\n",
    "#               - Le nom d'une tâche\n",
    "#               - Un nombre entier mais de manière unique\n",
    "#               - Prenez le soin de vérifier qu'il entre un numéro unique\n",
    "#   Sentez-vous libre d'utiliser l'approche la plus simple\n",
    "#   Ecrivez une autre fonction du nom de askTasks()\n",
    "#       Cette fonction répète askTask() cinq fois\n",
    "#           Dans cette fonction boucler 5 fois sur la méthode askTask()\n",
    "#           Puis enrégistré à chaque itération la liste retournée par askTask dans une liste tasks déclarée au tout début de la fonction\n",
    "# Ensuite mettre les fonctions\n",
    "#   Invoquer unStackThread()\n",
    "#       Cette fonction prendra en paramètre la liste retournée par askTasks()\n",
    "# NB: Pour la verification du nombre unique attribué à la tache:\n",
    "#     - Utiliser une liste pour stocker de manière temporaire les chiffres déjà attribué\n",
    "#     - Puis utiliser la récursivité pour verifier ce nombre\n",
    "\n",
    "\n",
    "def unStackThread(tasks: list):\n",
    "    tasks = sorted(\n",
    "        tasks,\n",
    "        reverse=True,\n",
    "        key=lambda x: x[1]\n",
    "    )\n",
    "    while True:\n",
    "        if len(tasks) > 0:\n",
    "            print(f'------ {time.time()}')\n",
    "            time.sleep(2)\n",
    "            print(f'Task of name {tasks.pop()[0]} is treat')\n",
    "        else:\n",
    "            break"
   ]
  },
  {
   "cell_type": "code",
   "execution_count": 64,
   "id": "c750df27-f28c-4233-980f-493a58259b75",
   "metadata": {},
   "outputs": [],
   "source": [
    "# Exercice 3\n",
    "# Reprenez l'exercice 2 en utilisant les DEQUE.\n",
    "# Veillez à utiliser la collection DEQUE de manière optimale"
   ]
  },
  {
   "cell_type": "code",
   "execution_count": 4,
   "id": "4e01e6f4-de65-4611-b339-fd82a478c45f",
   "metadata": {},
   "outputs": [
    {
     "name": "stdin",
     "output_type": "stream",
     "text": [
      "Entrer un nombre:  1\n",
      "Entrer un nombre:  1\n",
      "Entrer un nombre:  1\n",
      "Entrer un nombre:  1\n",
      "Entrer un nombre:  1\n",
      "Entrer un nombre:  2\n"
     ]
    }
   ],
   "source": [
    "numberProxy = []\n",
    "\n",
    "def askNumber():\n",
    "    number = int(input('Entrer un nombre: '))\n",
    "    if number in numberProxy:\n",
    "        return askNumber()\n",
    "    numberProxy.append(number)\n",
    "    \n",
    "askNumber()\n",
    "askNumber()"
   ]
  },
  {
   "cell_type": "code",
   "execution_count": 6,
   "id": "ad16cf74-f341-41e0-8c5d-513877053ff3",
   "metadata": {},
   "outputs": [
    {
     "name": "stdin",
     "output_type": "stream",
     "text": [
      "Entrer un nom de tâche:  TASK01\n",
      "Entrer un nombre:  1\n",
      "Entrer un nom de tâche:  TASK02\n",
      "Entrer un nombre:  2\n",
      "Entrer un nom de tâche:  TASK03\n",
      "Entrer un nombre:  3\n",
      "Entrer un nom de tâche:  TASK04\n",
      "Entrer un nombre:  4\n",
      "Entrer un nom de tâche:  TASKO5\n",
      "Entrer un nombre:  5\n"
     ]
    },
    {
     "name": "stdout",
     "output_type": "stream",
     "text": [
      "------ 1645044047.332462\n",
      "Task of name TASK01 is treat\n",
      "------ 1645044049.3377438\n",
      "Task of name TASK02 is treat\n",
      "------ 1645044051.343199\n",
      "Task of name TASK03 is treat\n",
      "------ 1645044053.3481119\n",
      "Task of name TASK04 is treat\n",
      "------ 1645044055.350282\n",
      "Task of name TASKO5 is treat\n"
     ]
    }
   ],
   "source": [
    "# Correction faite par Anselme\n",
    "# Exercice 2\n",
    "import time\n",
    "\n",
    "listNombre = []\n",
    "\n",
    "def askNumber():\n",
    "    number = int(input('Entrer un nombre: '))\n",
    "    if number in listNombre:\n",
    "        return askNumber()\n",
    "    listNombre.append(number)\n",
    "    return number\n",
    "    \n",
    "def askTask():\n",
    "    taskName = input(\"Entrer un nom de tâche: \")\n",
    "    nombre = askNumber()    \n",
    "    return [taskName, nombre]\n",
    "\n",
    "def askTasks():\n",
    "    tasks = []\n",
    "    for x in range(5):\n",
    "        tasks.append(askTask())\n",
    "    return tasks\n",
    "\n",
    "def unStackThread(tasks: list):\n",
    "    tasks = sorted(\n",
    "        tasks,\n",
    "        reverse=True,\n",
    "        key=lambda x: x[1]\n",
    "    )\n",
    "    while True:\n",
    "        if len(tasks) > 0:\n",
    "            print(f'------ {time.time()}')\n",
    "            time.sleep(2)\n",
    "            print(f'Task of name {tasks.pop()[0]} is treat')\n",
    "        else:\n",
    "            break\n",
    "            \n",
    "unStackThread(askTasks())"
   ]
  },
  {
   "cell_type": "markdown",
   "id": "0733944e-6569-4064-92c7-73ec0435a69d",
   "metadata": {},
   "source": [
    "## Les interfaces graphiques"
   ]
  },
  {
   "cell_type": "code",
   "execution_count": 1,
   "id": "528d5149-84ed-4335-821e-a1666230e948",
   "metadata": {},
   "outputs": [],
   "source": [
    "# Code basique de la création d'une interface graphqiue\n",
    "# Module Tinker\n",
    "from tkinter import *\n",
    "from tkinter import ttk\n",
    "\n",
    "# Create minimal page with tkinter\n",
    "# Manipulate the GRID ROW with Label\n",
    "# In MAC OS: brew install python-tk@3.9\n",
    "# In MAC OS: pip3 install tk\n",
    "\n",
    "# Code a appliquer\n",
    "# root = Tk()\n",
    "# frm = ttk.Frame(root, padding=100)\n",
    "# frm.grid()\n",
    "# ttk.Label(frm, text=\"Hello World!\").grid(column=0, row=0)\n",
    "# root.mainloop()"
   ]
  },
  {
   "cell_type": "code",
   "execution_count": 2,
   "id": "3ddf9d38-5d7f-4db6-b97f-8a9847bf9119",
   "metadata": {},
   "outputs": [],
   "source": [
    "# Dans la résolution des exercices ci-dessous:\n",
    "#   Veuillez à créer un fichier du nom de module.py\n",
    "#       Ce fichier doît contenir toutes les fonctions\n",
    "#       Ainsi après dans un fichier du nom de main.py:\n",
    "#           Faites les appels à vos fonxtions\n",
    "#           Et y maipuler les composants tkinter\n",
    "# Cette approche permet de vous situer de manière modulaire\n",
    "#   Car une interface graphique acceuillera toujours des données d'autres fonctions\n",
    "#   Et une ineterface graphique aura toujours les mêmes composants\n",
    "\n",
    "# Ecriver un programme qui permet de vérifier l'âge d'une personne\n",
    "#   Et d'afficher dans un Label si elle est Majeure ou pas\n",
    "\n",
    "# Ecriver un programme qui prend en paramètre\n",
    "#   Le poids d'un individu\n",
    "#   La taille de l'individu\n",
    "#   Et lui retourne son IMC\n",
    "#   Inspirez vous des codes précédents\n",
    "#       Et afficher l'état de santé de la personne\n",
    "#       Les réponses doivent être affichées dans un Label\n",
    "#           Le Label doit s'ajouter juste ne bas du bouton\n",
    "\n",
    "# Ecriver un programme qui prend en paramètre:\n",
    "#   La vitesse\n",
    "#   La distance\n",
    "#   Et une liste de RadioButton\n",
    "#       Et la liste des options des RadioButton\n",
    "#           - km/s\n",
    "#           - m/s\n",
    "#           - mm/s\n",
    "#           - m/ms\n",
    "#           - km/ms\n",
    "#       En fonction de la selection:\n",
    "#           Afficher dans un label juste en bas les résultats\n",
    "#           Faudrait veiller à n'afficher qu'un seul label:\n",
    "#               Un seul label pour toutes les réponse:\n",
    "#                   Utiliser la fonction set() pour setter et overrider les anciennes valeurs\n",
    "\n",
    "# Ecriver un programme qui prend en paramètre:\n",
    "#   La vitesse\n",
    "#   La distance\n",
    "#   Et une liste de RadioButton\n",
    "#       Et la liste des options des RadioButton\n",
    "#           - km/s\n",
    "#           - m/s\n",
    "#           - mm/s\n",
    "#           - m/ms\n",
    "#           - km/ms\n",
    "#       En fonction de la selection:\n",
    "#           Afficher dans un label juste en bas les résultats\n",
    "#           Faudrait veiller à n'afficher qu'un seul label:\n",
    "#               Un seul label pour toutes les réponse:\n",
    "#                   Utiliser la fonction set() pour setter et overrider les anciennes valeurs\n",
    "\n",
    "# En appliquant les recommandation de l'exercice concernant les CarFactory\n",
    "#   Utiliser les acquis avec les composants graphiques\n",
    "#   Puis réutiliser les mêmes codes\n",
    "#   Mais placer les composants qu'il faut pour que:\n",
    "#       L'utilisateur puisse choisir sa couleur\n",
    "#       Puisse choisir sa marque\n",
    "#       Puisse renseigner le pays du constructeur automobile\n",
    "#   Et a la fin ait un button qui déclenche un event appellant une fonction:\n",
    "#       Cette fonction devra enrégister dans un fichier et ce dans un format simple à décoder:\n",
    "#           Les informations de la voiture créer losr de l'appui du bouton MAKE CAR\n",
    "#           Donc PACKER un bouton sur le composant FRAME/WINDOW\n",
    "#           Ainsi a chaque clique une nouvelle voiture créée\n",
    "#           Le nom du fichier text sera cars.txt\n",
    "# NB: Limitez vous a 10 couleurs et 10 marques de voitures a exposer à l'utilisateur"
   ]
  },
  {
   "cell_type": "code",
   "execution_count": 3,
   "id": "7b641031-ba1b-4cb6-aa65-84961e7f11ef",
   "metadata": {},
   "outputs": [
    {
     "ename": "NameError",
     "evalue": "name 'chekAge' is not defined",
     "output_type": "error",
     "traceback": [
      "\u001b[0;31m---------------------------------------------------------------------------\u001b[0m",
      "\u001b[0;31mNameError\u001b[0m                                 Traceback (most recent call last)",
      "Input \u001b[0;32mIn [3]\u001b[0m, in \u001b[0;36m<module>\u001b[0;34m\u001b[0m\n\u001b[1;32m     13\u001b[0m     ttk\u001b[38;5;241m.\u001b[39mLabel(frm, text\u001b[38;5;241m=\u001b[39mchekAge())\u001b[38;5;241m.\u001b[39mgrid(column\u001b[38;5;241m=\u001b[39m\u001b[38;5;241m0\u001b[39m, row\u001b[38;5;241m=\u001b[39m\u001b[38;5;241m0\u001b[39m)\n\u001b[1;32m     14\u001b[0m     root\u001b[38;5;241m.\u001b[39mmainloop()\n\u001b[0;32m---> 16\u001b[0m \u001b[43mmainLabel\u001b[49m\u001b[43m(\u001b[49m\u001b[43m)\u001b[49m\n",
      "Input \u001b[0;32mIn [3]\u001b[0m, in \u001b[0;36mmainLabel\u001b[0;34m()\u001b[0m\n\u001b[1;32m     11\u001b[0m frm \u001b[38;5;241m=\u001b[39m ttk\u001b[38;5;241m.\u001b[39mFrame(root, padding\u001b[38;5;241m=\u001b[39m\u001b[38;5;241m100\u001b[39m)\n\u001b[1;32m     12\u001b[0m frm\u001b[38;5;241m.\u001b[39mgrid()\n\u001b[0;32m---> 13\u001b[0m ttk\u001b[38;5;241m.\u001b[39mLabel(frm, text\u001b[38;5;241m=\u001b[39m\u001b[43mchekAge\u001b[49m())\u001b[38;5;241m.\u001b[39mgrid(column\u001b[38;5;241m=\u001b[39m\u001b[38;5;241m0\u001b[39m, row\u001b[38;5;241m=\u001b[39m\u001b[38;5;241m0\u001b[39m)\n\u001b[1;32m     14\u001b[0m root\u001b[38;5;241m.\u001b[39mmainloop()\n",
      "\u001b[0;31mNameError\u001b[0m: name 'chekAge' is not defined"
     ]
    }
   ],
   "source": [
    "# Correction\n",
    "# Exercice 1 Faite par Maodo\n",
    "\n",
    "def checkAge(age):\n",
    "    age = int(input(\"Entrez une age :\"))\n",
    "    return \"Majeur\" if age>18 else \"Mineur\"\n",
    "\n",
    "def mainLabel():\n",
    "    # Add Label component\n",
    "    root = Tk()\n",
    "    frm = ttk.Frame(root, padding=100)\n",
    "    frm.grid()\n",
    "    ttk.Label(frm, text=chekAge()).grid(column=0, row=0)\n",
    "    root.mainloop()\n",
    "    \n",
    "mainLabel()"
   ]
  },
  {
   "cell_type": "code",
   "execution_count": 1,
   "id": "f16d5862-d082-4bca-b1da-38dd246dc149",
   "metadata": {},
   "outputs": [
    {
     "ename": "ModuleNotFoundError",
     "evalue": "No module named 'module'",
     "output_type": "error",
     "traceback": [
      "\u001b[0;31m---------------------------------------------------------------------------\u001b[0m",
      "\u001b[0;31mModuleNotFoundError\u001b[0m                       Traceback (most recent call last)",
      "Input \u001b[0;32mIn [1]\u001b[0m, in \u001b[0;36m<module>\u001b[0;34m\u001b[0m\n\u001b[1;32m      1\u001b[0m \u001b[38;5;66;03m# Correction faite par Lamine\u001b[39;00m\n\u001b[1;32m      2\u001b[0m \u001b[38;5;66;03m# Correction du TP EXO1\u001b[39;00m\n\u001b[1;32m      4\u001b[0m \u001b[38;5;28;01mfrom\u001b[39;00m \u001b[38;5;21;01mtkinter\u001b[39;00m \u001b[38;5;28;01mimport\u001b[39;00m \u001b[38;5;241m*\u001b[39m\n\u001b[0;32m----> 5\u001b[0m \u001b[38;5;28;01mimport\u001b[39;00m \u001b[38;5;21;01mmodule\u001b[39;00m\n\u001b[1;32m      7\u001b[0m root \u001b[38;5;241m=\u001b[39m Tk()\n\u001b[1;32m      8\u001b[0m root\u001b[38;5;241m.\u001b[39mgeometry(\u001b[38;5;124m\"\u001b[39m\u001b[38;5;124m400x300\u001b[39m\u001b[38;5;124m\"\u001b[39m)\n",
      "\u001b[0;31mModuleNotFoundError\u001b[0m: No module named 'module'"
     ]
    }
   ],
   "source": [
    "# Correction faite par Lamine\n",
    "# Correction du TP EXO1\n",
    "\n",
    "from tkinter import *\n",
    "import module\n",
    "\n",
    "root = Tk()\n",
    "root.geometry(\"400x300\")\n",
    "root.title(\"Message\")\n",
    "\n",
    "def action():\n",
    "    age = int(entryName.get()) \n",
    "    var.set(module.isMajor(age))\n",
    "\n",
    "#création du label\n",
    "var = StringVar()\n",
    "lblResult = Label(root, textvariable = var)\n",
    "lblResult.place(x = 100, y = 50)\n",
    "\n",
    "#création du champ de saisie \n",
    "entryName = Entry(root)\n",
    "entryName.place(x = 100, y = 80, width = 150)\n",
    "\n",
    "#création du bouton validé\n",
    "btn_validate = Button(root, text=\"Valider\", command=action)\n",
    "btn_validate.place(x = 100, y = 120, width = 150)\n",
    "\n",
    "root.mainloop()"
   ]
  },
  {
   "cell_type": "code",
   "execution_count": 2,
   "id": "f989f585-714e-47f6-82e2-c80b5bdc8727",
   "metadata": {},
   "outputs": [
    {
     "ename": "ModuleNotFoundError",
     "evalue": "No module named 'module'",
     "output_type": "error",
     "traceback": [
      "\u001b[0;31m---------------------------------------------------------------------------\u001b[0m",
      "\u001b[0;31mModuleNotFoundError\u001b[0m                       Traceback (most recent call last)",
      "Input \u001b[0;32mIn [2]\u001b[0m, in \u001b[0;36m<module>\u001b[0;34m\u001b[0m\n\u001b[1;32m      1\u001b[0m \u001b[38;5;28;01mfrom\u001b[39;00m \u001b[38;5;21;01mtkinter\u001b[39;00m \u001b[38;5;28;01mimport\u001b[39;00m \u001b[38;5;241m*\u001b[39m\n\u001b[0;32m----> 2\u001b[0m \u001b[38;5;28;01mimport\u001b[39;00m \u001b[38;5;21;01mmodule\u001b[39;00m\n\u001b[1;32m      4\u001b[0m root \u001b[38;5;241m=\u001b[39m Tk()\n\u001b[1;32m      5\u001b[0m root\u001b[38;5;241m.\u001b[39mgeometry(\u001b[38;5;124m\"\u001b[39m\u001b[38;5;124m400x300\u001b[39m\u001b[38;5;124m\"\u001b[39m)\n",
      "\u001b[0;31mModuleNotFoundError\u001b[0m: No module named 'module'"
     ]
    }
   ],
   "source": [
    "from tkinter import *\n",
    "import module\n",
    "\n",
    "root = Tk()\n",
    "root.geometry(\"400x300\")\n",
    "root.title(\"Message\")\n",
    "\n",
    "def action():\n",
    "    poid = float(entryPoid.get()) \n",
    "    taille = float(entryTaille.get()) \n",
    "    var.set(module.check_etat(module.cal_imc(taille, poid)))\n",
    "\n",
    "#création du label\n",
    "var = StringVar()\n",
    "lblResult = Label(root, textvariable = var)\n",
    "lblResult.place(x = 100, y = 50)\n",
    "\n",
    "#création du champ de saisie \n",
    "lblPoid = Label(root, text = \"Poids\")\n",
    "lblPoid.place(x = 10, y = 80, width = 150)\n",
    "entryPoid = Entry(root)\n",
    "entryPoid.place(x = 100, y = 80, width = 150)\n",
    "\n",
    "lblTaille = Label(root, text = \"Taille\")\n",
    "lblTaille.place(x = 10, y = 100, width = 150)\n",
    "entryTaille = Entry(root)\n",
    "entryTaille.place(x = 100, y = 100, width = 150)\n",
    "\n",
    "#création du bouton validé\n",
    "btn_validate = Button(root, text=\"Valider\", command=action)\n",
    "btn_validate.place(x = 100, y = 180, width = 150)\n",
    "\n",
    "root.mainloop()"
   ]
  },
  {
   "cell_type": "code",
   "execution_count": 5,
   "id": "a3ba9e35-c192-4fc8-a10f-0584a5b6c96a",
   "metadata": {},
   "outputs": [],
   "source": [
    "# Correction faite par Maodo\n",
    "from collections import deque\n",
    "\n",
    "liste_number = deque()\n",
    "\n",
    "def askTask():\n",
    "    entier   = int(input(\"Entrez un nombre entier:\"))\n",
    "    if entier in liste_number :\n",
    "        askTask()\n",
    "    taskname = input(\"Entrez le nom d'une tache: \")\n",
    "    liste_number.appendleft(entier)\n",
    "    return taskname\n",
    "\n",
    "\n",
    "def askTasks():\n",
    "    tasks = deque()\n",
    "    for i in range(5):\n",
    "        tasks.appendleft(askTask())\n",
    "    return tasks\n",
    "    \n",
    "def unStackThread(tasks: deque):\n",
    "    tasks = deque(sorted(\n",
    "        tasks,\n",
    "        reverse=True,\n",
    "        key=lambda x: x[1]\n",
    "    ))\n",
    "    while True:\n",
    "        if len(tasks) > 0:\n",
    "            print(f'------ {time.time()}')\n",
    "            time.sleep(2)\n",
    "            print(f'Task of name {tasks.popleft()} is treat')\n",
    "        else:\n",
    "            break"
   ]
  },
  {
   "cell_type": "code",
   "execution_count": 6,
   "id": "e39b5701-ef6e-40d4-a0cf-d2ddb2351cb6",
   "metadata": {},
   "outputs": [
    {
     "ename": "ModuleNotFoundError",
     "evalue": "No module named 'module'",
     "output_type": "error",
     "traceback": [
      "\u001b[0;31m---------------------------------------------------------------------------\u001b[0m",
      "\u001b[0;31mModuleNotFoundError\u001b[0m                       Traceback (most recent call last)",
      "Input \u001b[0;32mIn [6]\u001b[0m, in \u001b[0;36m<module>\u001b[0;34m\u001b[0m\n\u001b[1;32m      1\u001b[0m \u001b[38;5;66;03m# Correction faite par Maodo\u001b[39;00m\n\u001b[1;32m      2\u001b[0m \u001b[38;5;66;03m# Correction sur les interfaces graphiques\u001b[39;00m\n\u001b[1;32m      4\u001b[0m \u001b[38;5;28;01mfrom\u001b[39;00m \u001b[38;5;21;01mtkinter\u001b[39;00m \u001b[38;5;28;01mimport\u001b[39;00m \u001b[38;5;241m*\u001b[39m\n\u001b[0;32m----> 5\u001b[0m \u001b[38;5;28;01mfrom\u001b[39;00m \u001b[38;5;21;01mmodule\u001b[39;00m \u001b[38;5;28;01mimport\u001b[39;00m \u001b[38;5;241m*\u001b[39m\n\u001b[1;32m      6\u001b[0m \u001b[38;5;28;01mfrom\u001b[39;00m \u001b[38;5;21;01mtkinter\u001b[39;00m \u001b[38;5;28;01mimport\u001b[39;00m ttk\n\u001b[1;32m      8\u001b[0m \u001b[38;5;28;01mdef\u001b[39;00m \u001b[38;5;21mmainLabel\u001b[39m():\n\u001b[1;32m      9\u001b[0m     \u001b[38;5;66;03m# label texte réponse et positionnement \u001b[39;00m\n",
      "\u001b[0;31mModuleNotFoundError\u001b[0m: No module named 'module'"
     ]
    }
   ],
   "source": [
    "# Correction faite par Maodo\n",
    "# Correction sur les interfaces graphiques\n",
    "\n",
    "from tkinter import *\n",
    "from module import *\n",
    "from tkinter import ttk\n",
    "\n",
    "def mainLabel():\n",
    "    # label texte réponse et positionnement \n",
    "    labelReponse =Label(fen, text=\"La personne est :\")\n",
    "    labelReponse.place(x = 50, y =100)\n",
    "    #label réponse et positionnement\n",
    "    label = Label(fen, text=checkAge(int(entryAge.get())))\n",
    "    label.place(x = 150, y = 100)\n",
    "    \n",
    "\n",
    "#geometry de la fenetre\n",
    "fen = Tk()\n",
    "fen.geometry(\"480x360\")\n",
    "#label Age et positionnement \n",
    "labelAge =Label(fen, text=\"Entrez une age:\")\n",
    "labelAge.place(x = 50, y =50)\n",
    "#Emplacement pour entrer l'age et positionnement \n",
    "entryAge = Entry(fen)\n",
    "entryAge.place(x = 150, y = 50)\n",
    "#Bouton valider et positionnement \n",
    "Valider = Button(fen,text ='valid', command = mainLabel)\n",
    "Valider.place(x = 280, y =50)\n",
    "\n",
    "fen.mainloop()"
   ]
  },
  {
   "cell_type": "code",
   "execution_count": 7,
   "id": "18001e54-9a7a-43b6-aa22-ea5f9d546e2d",
   "metadata": {},
   "outputs": [],
   "source": [
    "# Correction faite par Anselme\n",
    "# Utilisation de la deque\n",
    "\n",
    "import math\n",
    "import time\n",
    "from collections import deque\n",
    "\n",
    "\n",
    "listNombre = []\n",
    "\n",
    "def askNumber():\n",
    "    number = int(input('Entrer un nombre: '))\n",
    "    if number in listNombre:\n",
    "        return askNumber()\n",
    "    listNombre.append(number)\n",
    "    return number\n",
    "    \n",
    "def askTask():\n",
    "    taskName = input(\"Entrer un nom de tâche\")\n",
    "    nombre = askNumber()    \n",
    "    return [taskName,nombre]\n",
    "            \n",
    "        \n",
    "def askTasks():\n",
    "    listTask = deque()\n",
    "    for x in range(5):\n",
    "       listTask.appendleft(askTask())\n",
    "    return listTask   \n",
    "    \n",
    "\n",
    "def unStackThread(tasks: deque):\n",
    "    tasks = deque(sorted(\n",
    "        tasks,\n",
    "        reverse=True,\n",
    "        key=lambda x: x[1]\n",
    "    ))\n",
    "    while True:\n",
    "        if len(tasks) > 0:\n",
    "            print(f'------ {time.time()}')\n",
    "            time.sleep(2)\n",
    "            print(f'Task of name {tasks.popleft()[0]} is treat')\n",
    "        else:\n",
    "            break"
   ]
  },
  {
   "cell_type": "code",
   "execution_count": 9,
   "id": "638c137e-61bd-4257-98ba-e6aae718069a",
   "metadata": {},
   "outputs": [],
   "source": [
    "# Correction faite par Lamine\n",
    "\n",
    "import math\n",
    "import time\n",
    "from collections import deque\n",
    "\n",
    "numberProxy = []\n",
    "numberProxy = deque()\n",
    "\n",
    "def askNumber():\n",
    "    number = int(input('Entrer un nombre: '))\n",
    "    if number in numberProxy:\n",
    "        return askNumber()\n",
    "    numberProxy.appendleft(number)\n",
    "\n",
    "\n",
    "def askTask():\n",
    "    askNumber()\n",
    "    nomTache = input(\"Entrer une tâche\")\n",
    "    \n",
    "    return list([nomTache, numberProxy])\n",
    "\n",
    "\n",
    "def askTasks():\n",
    "    list_tasks = deque()\n",
    "    \n",
    "    i = 0\n",
    "    while i < 5:\n",
    "        list_tasks.appendleft(askTask())\n",
    "        i=i+1\n",
    "    return list_tasks\n",
    "\n",
    "\n",
    "def unStackThread(tasks: deque):\n",
    "    tasks = deque(sorted(\n",
    "        tasks,\n",
    "        reverse=True,\n",
    "        key=lambda x: x[1]\n",
    "    ))\n",
    "\n",
    "    while True:\n",
    "        if len(tasks) > 0:\n",
    "            print(f'------ {time.time()}')\n",
    "            time.sleep(2)\n",
    "            print(f'Task of name {tasks.popleft()[0]} is treat')\n",
    "        else:\n",
    "            break"
   ]
  },
  {
   "cell_type": "code",
   "execution_count": 10,
   "id": "9441ebc4-8a3e-40a2-ad21-cec515358d3a",
   "metadata": {},
   "outputs": [
    {
     "ename": "NameError",
     "evalue": "name 'data2' is not defined",
     "output_type": "error",
     "traceback": [
      "\u001b[0;31m---------------------------------------------------------------------------\u001b[0m",
      "\u001b[0;31mNameError\u001b[0m                                 Traceback (most recent call last)",
      "Input \u001b[0;32mIn [10]\u001b[0m, in \u001b[0;36m<module>\u001b[0;34m\u001b[0m\n\u001b[1;32m      1\u001b[0m \u001b[38;5;66;03m# Correction sur API REST COUNTRIES\u001b[39;00m\n\u001b[1;32m      2\u001b[0m \u001b[38;5;66;03m# Correction faite par Maodo\u001b[39;00m\n\u001b[1;32m      4\u001b[0m tab \u001b[38;5;241m=\u001b[39m \u001b[38;5;28mlist\u001b[39m()\n\u001b[0;32m----> 5\u001b[0m \u001b[38;5;28;01mfor\u001b[39;00m i \u001b[38;5;129;01min\u001b[39;00m \u001b[38;5;28mrange\u001b[39m(\u001b[38;5;28mlen\u001b[39m(\u001b[43mdata2\u001b[49m)):\n\u001b[1;32m      6\u001b[0m     \u001b[38;5;28;01mtry\u001b[39;00m:\n\u001b[1;32m      7\u001b[0m         c \u001b[38;5;241m=\u001b[39m \u001b[38;5;28mlist\u001b[39m(data2[::][i]\u001b[38;5;241m.\u001b[39mget(\u001b[38;5;124m'\u001b[39m\u001b[38;5;124mcurrencies\u001b[39m\u001b[38;5;124m'\u001b[39m)\u001b[38;5;241m.\u001b[39mvalues())[\u001b[38;5;241m0\u001b[39m]\u001b[38;5;241m.\u001b[39mget(\u001b[38;5;124m'\u001b[39m\u001b[38;5;124msymbol\u001b[39m\u001b[38;5;124m'\u001b[39m)\n",
      "\u001b[0;31mNameError\u001b[0m: name 'data2' is not defined"
     ]
    }
   ],
   "source": [
    "# Correction sur API REST COUNTRIES\n",
    "# Correction faite par Maodo\n",
    "\n",
    "# récupérer la data par l'appel de l'API Rest Countries\n",
    "# data2 = []\n",
    "\n",
    "tab = list()\n",
    "for i in range(len(data2)):\n",
    "    try:\n",
    "        c = list(data2[::][i].get('currencies').values())[0].get('symbol')\n",
    "    except AttributeError: \n",
    "        pass\n",
    "        #print(\"erreur de type\")\n",
    "    finally :\n",
    "        tab.append(c)\n",
    "        continue\n",
    "\n",
    "common_name_infos = list(map(lambda x: {\"name\": x['name']['common'],\"cca2\":x[\"cca2\"], \"cca3\": x[\"cca3\"]} , data2))\n",
    "common_name = list(map(lambda x: x['name']['common'] , data2))\n",
    "common_name_infos  = json.dumps(common_name_infos , indent=4)\n",
    "\n",
    "currency_symbol = list()\n",
    "for i in range(len(data2)):\n",
    "    try:\n",
    "        c = list(data2[::][i].get('currencies').values())[0].get('symbol')\n",
    "    except AttributeError: \n",
    "        pass\n",
    "        #print(\"erreur de type\")\n",
    "    finally :\n",
    "        currency_symbol.append(c)\n",
    "        continue\n",
    "liste = list(zip(common_name,currency_symbol))\n",
    "\n",
    "maps_key_object =list(map(lambda x: x[\"maps\"][\"googleMaps\"] , data2))\n",
    "print(maps_key_object[:10])\n",
    "\n",
    "country_begin_byb = list(filter(lambda x : x.lower().startswith('b'), common_name )) \n",
    "print(country_begin_byb)\n",
    "country_begin_byz = list(filter(lambda x : x.lower().startswith('z'), common_name )) \n",
    "print(country_begin_byz[:10])\n",
    "\n",
    "country_begin_bye = list(filter(lambda x : x.lower().startswith('e'), common_name )) \n",
    "print(country_begin_bye[:10])"
   ]
  },
  {
   "cell_type": "markdown",
   "id": "51d37665-404a-4e60-b0a4-20e245cbd705",
   "metadata": {},
   "source": [
    "## Suite des interfaces graphiques"
   ]
  },
  {
   "cell_type": "code",
   "execution_count": 1,
   "id": "bac9abf1-fe25-4077-a583-922879c5cd91",
   "metadata": {},
   "outputs": [],
   "source": [
    "# Les composants (Suite)\n",
    "# Les events (Suite)"
   ]
  },
  {
   "cell_type": "markdown",
   "id": "16608445-b506-4f50-a94e-e2a5d49e408b",
   "metadata": {},
   "source": [
    "## Les Expressions Régulières"
   ]
  },
  {
   "cell_type": "code",
   "execution_count": 2,
   "id": "3ba51147-1d89-41b8-b9d9-8c632029d9f3",
   "metadata": {},
   "outputs": [],
   "source": [
    "# Regular expressions\n",
    "# https://docs.python.org/fr/3/howto/regex.html\n",
    "# https://docs.oracle.com/javase/6/docs/api/java/util/regex/Pattern.html\n",
    "import re"
   ]
  },
  {
   "cell_type": "code",
   "execution_count": 3,
   "id": "e75b2a63-ae91-4d6b-a380-8140e802d0b7",
   "metadata": {},
   "outputs": [],
   "source": [
    "# Une expression régulière est une chaîne de caractères.\n",
    "# Le premier principe est qu'un caractère se représente lui-même. Ainsi le pattern \"bonjour\" représente simplement le mot \"bonjour\".\n",
    "# Il est ensuite possible d'ajouter des caractères spéciaux à un pattern, de façon à enrichir ce qu'il représente.\n",
    "# Par exemple, le pattern \"a*\" représente toutes les chaînes de caractères constituées d'un nombre quelconque de \"a\" (y compris la chaîne vide).\n",
    "# Ajouter le caractère \"*\" à un pattern signifie que ce pattern peut se répéter. Nous avons également vu que le caractère \".\" pouvait représenter n'importe quel caractère.\n",
    "# Nous en déduisons que le pattern \".*\", que nous avons déjà utilisé, représente toutes les chaînes de caractères, y compris la chaîne vide."
   ]
  },
  {
   "cell_type": "code",
   "execution_count": 4,
   "id": "9da9b2c9-8038-4f81-9342-2cef0e945788",
   "metadata": {},
   "outputs": [
    {
     "data": {
      "text/plain": [
       "True"
      ]
     },
     "execution_count": 4,
     "metadata": {},
     "output_type": "execute_result"
    }
   ],
   "source": [
    "var1 = \"DSI006\"\n",
    "var2 = \"DSI006 est en cours le 18/02/2022 avec Mr KUASSI\"\n",
    "\n",
    "\"DSI006\" in var2"
   ]
  },
  {
   "cell_type": "code",
   "execution_count": 5,
   "id": "9139336b-41c7-48e1-807a-369e43a47d3a",
   "metadata": {},
   "outputs": [],
   "source": [
    "# \"DSI006\" est un pattern\n",
    "# Parce qu'il peut être recherché. Ainsi un moty est en lui même un pattern poutr lui même"
   ]
  },
  {
   "cell_type": "code",
   "execution_count": 6,
   "id": "db629640-74db-48f4-b279-1ca2672054f7",
   "metadata": {},
   "outputs": [],
   "source": [
    "# La plupart des lettres ou caractères correspondent simplement à eux-mêmes.\n",
    "# Par exemple, l'expression régulière test correspond à la chaîne de caractères test, précisément.\n",
    "# Vous pouvez activer le mode non-sensible à la casse qui permet à cette RE de correspondre également à Test ou TEST (ce sujet est traité par la suite).\n",
    "# Il existe des exceptions à cette règle ; certains caractères sont des métacaractères spéciaux et ne correspondent pas à eux-mêmes.\n",
    "# Au lieu de cela, ils signalent que certaines choses non ordinaires doivent correspondre, ou ils affectent d'autre portions de la RE en les répétant ou en changeant leur sens.\n",
    "# Une grande partie de ce document est consacrée au fonctionnement de ces métacaractères.\n",
    "# Voici une liste complète des métacaractères ; leur sens est décrit dans la suite:\n",
    "#   ^ : Utiliser pour exprimer la négation (SAUF le caractère): [^5] === Tous les caractères sauf 5.\n",
    "#       Dans le cas ou il est utilisé comme suit: [5^] il est dépourvu de son premier sens.\n",
    "#       Ainsin dans ce cas on aura tous les caractères (5) et (^).\n",
    "#   $ : Trouver l'expression à la fin de la chaine de caractère.\n",
    "#   * : Métacaractère de répétition. Il spécifie que le caractère précédent peut correspondre zéro, une ou plusieurs fois (au lieu d'une seule fois).\n",
    "#       Par exemple, cha*t correspond à 'cht' (0 caractère 'a'), 'chat' (1 'a'), 'chaaat' (3 caractères 'a') et ainsi de suite.\n",
    "#       Exemple:  Considérons l'expression a[bcd]*b. Elle correspond à la lettre 'a', suivi d'aucune ou plusieurs lettres de la classe [bcd] et finit par un 'b'.\n",
    "#   + : Un autre métacaractère de répétition est +, qui fait correspondre une ou plusieurs fois.\n",
    "#       Pour continuer avec le même exemple, cha+t correspond avec 'chat' (1 'a'), 'chaaat' (3 'a') mais ne correspond pas avec 'cht'.\n",
    "#   ? : Il existe deux autres quantificateurs pour les répétitions.\n",
    "#       Le point d'interrogation, ?, fait correspondre zéro ou une fois ; vous pouvez vous le représenter comme indiquant une option.\n",
    "#       Par exemple, méta-?caractère fait correspondre soit métacaractère, soit méta-caractère.\n",
    "#   { } : {m,n} ou m represente le minimum et n le maximum.\n",
    "#         Par exemple, a/{1,3}b fait correspondre 'a/b', 'a//b' et 'a///b'.\n",
    "#         Elle ne fait pas correspondre 'ab' (pas de barre oblique) ni 'a////b' (quatre barres obliques).\n",
    "#         Vous pouvez omettre soit m, soit n ; dans ce cas, une valeur raisonnable est prise pour la valeur manquante.\n",
    "#         Omettre m considère que la borne basse est 0 alors qu'omettre n signifie qu'il n'y a pas de borne supérieure.\n",
    "#           - {0,} correspond à '*'\n",
    "#           - {1,} correspond à '+'\n",
    "#           - {0,1} correspond à '?'\n",
    "#   [ ] : Utiliser pour trouver un ensemble de caractère.\n",
    "#         [abcd] === [a-d] Tous les caractère de a à d.\n",
    "#         Ainsi on remarque aisément que (-) signé à ou défini une plage de caractères\n",
    "#   \\ : Utiliser pour soit échapper afin d'annuller la signification spéciale d'un métacaractère.\n",
    "#       Ou utiliser aussi pour renvoyer des ensembles de caractères bien définis. A savoir:\n",
    "#           - \\w : correspond à n'importe quel caractère alphanumérique.\n",
    "#               Si l'expression régulière est exprimée en bytes, c'est équivalent à la classe [a-zA-Z0-9_].\n",
    "#               Si l'expression régulière est une chaîne de caractères, il correspond à tous les caractères identifiés comme lettre dans la base de données Unicode.\n",
    "#           - \\d : Correspond à n'importe quel caractère numérique ; équivalent à la classe [0-9].\n",
    "#           - \\s : Correspond à n'importe quel caractère « blanc » ; équivalent à la classe [ \\t\\n\\r\\f\\v].\n",
    "#           - \\S : Correspond à n'importe quel caractère autre que « blanc » ; équivalent à la classe [^ \\t\\n\\r\\f\\v].\n",
    "#           - \\w : Correspond à n'importe quel caractère alphanumérique ; équivalent à la classe [a-zA-Z0-9_].\n",
    "#           - \\S : Correspond à n'importe quel caractère non-alphanumérique ; équivalent à la classe [^a-zA-Z0-9_].\n",
    "#       Exemple: [\\s,.] est une classe de caractères qui correspond à tous les caractères « blanc » ou ',' ou '.'.\n",
    "#   | : ou.\n",
    "#   ( ) :\n",
    "#   . : Il correspond à tous les caractères, à l'exception du caractère de retour à la ligne."
   ]
  },
  {
   "cell_type": "code",
   "execution_count": 21,
   "id": "2b63cc6a-0cde-43e5-a723-7091fb391a8c",
   "metadata": {},
   "outputs": [],
   "source": [
    "def dividerLine(n=20):\n",
    "    var = '-' * int(n)\n",
    "    print(var)\n",
    "\n",
    "\n",
    "var = \"Lorem Loooooooooooom Lopem Losem example@gmail.com ipsum example@yahoo.fr example@yahoo.com example@hotmail.fr dolor sit amet consectetur adipisicing elit. 777 787654432 78535090 76535090 79615516 +221777778865 +22997532341\""
   ]
  },
  {
   "cell_type": "code",
   "execution_count": 8,
   "id": "19487363-fae4-4446-8d8f-ddf5be313062",
   "metadata": {},
   "outputs": [
    {
     "name": "stdout",
     "output_type": "stream",
     "text": [
      "--------------------\n",
      "['L', 'o', 'r', 'e', 'm', 'L', 'o', 'p', 'e', 'm', 'L', 'o', 's', 'e', 'm', 'e', 'x', 'a', 'm', 'p', 'l', 'e', 'g', 'm', 'a', 'i', 'l', 'c', 'o', 'm', 'i', 'p', 's', 'u', 'm', 'e', 'x', 'a', 'm', 'p', 'l', 'e', 'y', 'a', 'h', 'o', 'o', 'f', 'r', 'e', 'x', 'a', 'm', 'p', 'l', 'e', 'y', 'a', 'h', 'o', 'o', 'c', 'o', 'm', 'e', 'x', 'a', 'm', 'p', 'l', 'e', 'h', 'o', 't', 'm', 'a', 'i', 'l', 'f', 'r', 'd', 'o', 'l', 'o', 'r', 's', 'i', 't', 'a', 'm', 'e', 't', 'c', 'o', 'n', 's', 'e', 'c', 't', 'e', 't', 'u', 'r', 'a', 'd', 'i', 'p', 'i', 's', 'i', 'c', 'i', 'n', 'g', 'e', 'l', 'i', 't', '7', '7', '7', '7', '8', '7', '6', '5', '4', '4', '3', '2', '7', '8', '5', '3', '5', '0', '9', '0', '7', '6', '5', '3', '5', '0', '9', '0', '7', '9', '6', '1', '5', '5', '1', '6', '2', '2', '1', '7', '7', '7', '7', '7', '8', '8', '6', '5', '2', '2', '9', '9', '7', '5', '3', '2', '3', '4', '1']\n"
     ]
    }
   ],
   "source": [
    "# Retrouver tous les caractères\n",
    "dividerLine()\n",
    "var1 = re.compile('\\w') # r'pattern'\n",
    "var1 = re.findall(var1, var)\n",
    "print(var1)"
   ]
  },
  {
   "cell_type": "code",
   "execution_count": 9,
   "id": "ca9b087c-e009-4671-8e3c-984f0cd0b0d3",
   "metadata": {},
   "outputs": [
    {
     "name": "stdout",
     "output_type": "stream",
     "text": [
      "--------------------\n",
      "[' ', ' ', ' ', '@', '.', ' ', ' ', '@', '.', ' ', '@', '.', ' ', '@', '.', ' ', ' ', ' ', ' ', ' ', ' ', '.', ' ', ' ', ' ', ' ', ' ', ' ', '+', ' ', '+']\n"
     ]
    }
   ],
   "source": [
    "# Retrouver tous les caractères\n",
    "dividerLine()\n",
    "var1 = re.compile('\\W') # r'pattern'\n",
    "var1 = re.findall(var1, var)\n",
    "print(var1)"
   ]
  },
  {
   "cell_type": "code",
   "execution_count": 10,
   "id": "bd48cfb1-8107-4785-b6f6-3b77799193fc",
   "metadata": {},
   "outputs": [
    {
     "name": "stdout",
     "output_type": "stream",
     "text": [
      "--------------------\n",
      "['Lorem', 'Lopem', 'Losem', 'example', 'gmail', 'com', 'ipsum', 'example', 'yahoo', 'fr', 'example', 'yahoo', 'com', 'example', 'hotmail', 'fr', 'dolor', 'sit', 'amet', 'consectetur', 'adipisicing', 'elit', '777', '787654432', '78535090', '76535090', '79615516', '221777778865', '22997532341']\n"
     ]
    }
   ],
   "source": [
    "# Retrouver tous les mots\n",
    "# L'astuce ici est d'utiliser la répétition au moins 1 FOIS\n",
    "# Au moins UNE FOIS === '+'\n",
    "dividerLine()\n",
    "var1 = re.compile('\\w+')\n",
    "var1 = re.findall(var1, var)\n",
    "print(var1)"
   ]
  },
  {
   "cell_type": "code",
   "execution_count": 11,
   "id": "4a909e39-bd86-4de0-805d-32f35dbf6ecf",
   "metadata": {},
   "outputs": [
    {
     "name": "stdout",
     "output_type": "stream",
     "text": [
      "--------------------\n",
      "['Lorem', '', 'Lopem', '', 'Losem', '', 'example', '', 'gmail', '', 'com', '', 'ipsum', '', 'example', '', 'yahoo', '', 'fr', '', 'example', '', 'yahoo', '', 'com', '', 'example', '', 'hotmail', '', 'fr', '', 'dolor', '', 'sit', '', 'amet', '', 'consectetur', '', 'adipisicing', '', 'elit', '', '', '777', '', '787654432', '', '78535090', '', '76535090', '', '79615516', '', '', '221777778865', '', '', '22997532341', '']\n"
     ]
    }
   ],
   "source": [
    "# Retrouver tous les mots\n",
    "# L'astuce ici est d'utiliser la répétition au moins 1 FOIS\n",
    "# Au moins UNE FOIS === '+'\n",
    "dividerLine()\n",
    "var1 = re.compile('\\w*')\n",
    "var1 = re.findall(var1, var)\n",
    "print(var1)"
   ]
  },
  {
   "cell_type": "code",
   "execution_count": 12,
   "id": "be32d35f-54a2-4e80-a0f2-3301af67d8bb",
   "metadata": {},
   "outputs": [
    {
     "name": "stdout",
     "output_type": "stream",
     "text": [
      "--------------------\n",
      "['Lorem', 'Lopem', 'Losem', 'example', 'gmail', 'com', 'ipsum', 'example', 'yahoo', 'fr', 'example', 'yahoo', 'com', 'example', 'hotmail', 'fr', 'dolor', 'sit', 'amet', 'consectetur', 'adipisicing', 'elit', '777', '787654432', '78535090', '76535090', '79615516', '221777778865', '22997532341']\n"
     ]
    }
   ],
   "source": [
    "# Retrouver tous les mots\n",
    "# L'astuce ici est d'utilisé la répétition au moins 1 FOIS\n",
    "# Au moins UNE FOIS === '{1,}'\n",
    "dividerLine()\n",
    "var1 = re.compile('\\w{1,}')\n",
    "var1 = re.findall(var1, var)\n",
    "print(var1)"
   ]
  },
  {
   "cell_type": "code",
   "execution_count": 13,
   "id": "6043d83b-cd86-4a8d-9e4b-8df5fc77c63d",
   "metadata": {},
   "outputs": [
    {
     "name": "stdout",
     "output_type": "stream",
     "text": [
      "--------------------\n",
      "['Lorem', '', 'Lopem', '', 'Losem', '', 'example', '', 'gmail', '', 'com', '', 'ipsum', '', 'example', '', 'yahoo', '', 'fr', '', 'example', '', 'yahoo', '', 'com', '', 'example', '', 'hotmail', '', 'fr', '', 'dolor', '', 'sit', '', 'amet', '', 'consectetur', '', 'adipisicing', '', 'elit', '', '', '777', '', '787654432', '', '78535090', '', '76535090', '', '79615516', '', '', '221777778865', '', '', '22997532341', '']\n"
     ]
    }
   ],
   "source": [
    "# Retrouver tous les mots\n",
    "# L'astuce ici est d'utilisé la répétition au moins 1 FOIS\n",
    "# Au moins UNE FOIS === '{1,}'\n",
    "dividerLine()\n",
    "var1 = re.compile('\\w{0,}')\n",
    "var1 = re.findall(var1, var)\n",
    "print(var1)"
   ]
  },
  {
   "cell_type": "code",
   "execution_count": 14,
   "id": "c4ddcd18-df6a-4284-96cd-ca44e83ecf7c",
   "metadata": {},
   "outputs": [
    {
     "name": "stdout",
     "output_type": "stream",
     "text": [
      "--------------------\n",
      "['7', '7', '7', '7', '8', '7', '6', '5', '4', '4', '3', '2', '7', '8', '5', '3', '5', '0', '9', '0', '7', '6', '5', '3', '5', '0', '9', '0', '7', '9', '6', '1', '5', '5', '1', '6', '2', '2', '1', '7', '7', '7', '7', '7', '8', '8', '6', '5', '2', '2', '9', '9', '7', '5', '3', '2', '3', '4', '1']\n"
     ]
    }
   ],
   "source": [
    "# Retrouver tous les chiffres\n",
    "dividerLine()\n",
    "var1 = re.compile('\\d')\n",
    "var1 = re.findall(var1, var)\n",
    "print(var1)"
   ]
  },
  {
   "cell_type": "code",
   "execution_count": 15,
   "id": "712d7b4c-b248-4377-9cf7-c8fa924964c4",
   "metadata": {},
   "outputs": [
    {
     "name": "stdout",
     "output_type": "stream",
     "text": [
      "--------------------\n",
      "['777', '787654432', '78535090', '76535090', '79615516', '221777778865', '22997532341']\n"
     ]
    }
   ],
   "source": [
    "# Retrouver tous les chiffres\n",
    "dividerLine()\n",
    "var1 = re.compile('\\d+')\n",
    "var1 = re.findall(var1, var)\n",
    "print(var1)"
   ]
  },
  {
   "cell_type": "code",
   "execution_count": 16,
   "id": "d2a88a9d-9507-4f3d-867e-ab647ba421fd",
   "metadata": {},
   "outputs": [
    {
     "name": "stdout",
     "output_type": "stream",
     "text": [
      "--------------------\n",
      "['', '', '', '', '', '', '', '', '', '', '', '', '', '', '', '', '', '', '', '', '', '', '', '', '', '', '', '', '', '', '', '', '', '', '', '', '', '', '', '', '', '', '', '', '', '', '', '', '', '', '', '', '', '', '', '', '', '', '', '', '', '', '', '', '', '', '', '', '', '', '', '', '', '', '', '', '', '', '', '', '', '', '', '', '', '', '', '', '', '', '', '', '', '', '', '', '', '', '', '', '', '', '', '', '', '', '', '', '', '', '', '', '', '', '', '', '', '', '', '', '', '', '', '', '', '', '', '', '', '', '', '', '', '', '', '', '', '', '', '', '', '777', '', '787654432', '', '78535090', '', '76535090', '', '79615516', '', '', '221777778865', '', '', '22997532341', '']\n"
     ]
    }
   ],
   "source": [
    "# Retrouver tous les chiffres\n",
    "dividerLine()\n",
    "var1 = re.compile('\\d*')\n",
    "var1 = re.findall(var1, var)\n",
    "print(var1)"
   ]
  },
  {
   "cell_type": "code",
   "execution_count": 17,
   "id": "bc66c5aa-6ca6-4ba1-a86e-14cf06989866",
   "metadata": {},
   "outputs": [
    {
     "name": "stdout",
     "output_type": "stream",
     "text": [
      "--------------------\n",
      "['777', '787654432', '78535090', '76535090', '79615516', '221777778865', '22997532341']\n"
     ]
    }
   ],
   "source": [
    "# Retrouver tous les chiffres\n",
    "dividerLine()\n",
    "var1 = re.compile('\\d{1,}')\n",
    "var1 = re.findall(var1, var)\n",
    "print(var1)"
   ]
  },
  {
   "cell_type": "code",
   "execution_count": 18,
   "id": "628ad5b4-dd88-4034-9114-880de2bf736b",
   "metadata": {},
   "outputs": [
    {
     "name": "stdout",
     "output_type": "stream",
     "text": [
      "--------------------\n",
      "['', '', '', '', '', '', '', '', '', '', '', '', '', '', '', '', '', '', '', '', '', '', '', '', '', '', '', '', '', '', '', '', '', '', '', '', '', '', '', '', '', '', '', '', '', '', '', '', '', '', '', '', '', '', '', '', '', '', '', '', '', '', '', '', '', '', '', '', '', '', '', '', '', '', '', '', '', '', '', '', '', '', '', '', '', '', '', '', '', '', '', '', '', '', '', '', '', '', '', '', '', '', '', '', '', '', '', '', '', '', '', '', '', '', '', '', '', '', '', '', '', '', '', '', '', '', '', '', '', '', '', '', '', '', '', '', '', '', '', '', '', '777', '', '787654432', '', '78535090', '', '76535090', '', '79615516', '', '', '221777778865', '', '', '22997532341', '']\n"
     ]
    }
   ],
   "source": [
    "# Retrouver tous les chiffres\n",
    "dividerLine()\n",
    "var1 = re.compile('\\d{0,}')\n",
    "var1 = re.findall(var1, var)\n",
    "print(var1)"
   ]
  },
  {
   "cell_type": "code",
   "execution_count": 19,
   "id": "a32fbe66-8d35-4b0d-80df-c2167098b736",
   "metadata": {},
   "outputs": [
    {
     "name": "stdout",
     "output_type": "stream",
     "text": [
      "--------------------\n",
      "['Lorem']\n"
     ]
    }
   ],
   "source": [
    "# Retrouver un mot en particulier\n",
    "# Méthode 1\n",
    "dividerLine()\n",
    "var1 = re.compile('Lorem')\n",
    "var1 = re.findall(var1, var)\n",
    "print(var1)"
   ]
  },
  {
   "cell_type": "code",
   "execution_count": 22,
   "id": "5ed72b62-b740-4733-aa73-6b9e75750921",
   "metadata": {},
   "outputs": [
    {
     "name": "stdout",
     "output_type": "stream",
     "text": [
      "--------------------\n",
      "['Lorem', 'Loooooooooooom', 'Lopem', 'Losem']\n"
     ]
    }
   ],
   "source": [
    "# Retrouver un mot en particulier\n",
    "# Méthode 2\n",
    "dividerLine()\n",
    "var1 = re.compile(\"L[a-z]{1,}m\")\n",
    "var1 = re.findall(var1, var)\n",
    "print(var1)"
   ]
  },
  {
   "cell_type": "code",
   "execution_count": 23,
   "id": "a1c9f242-ed00-4ad5-9d2e-79042b413d67",
   "metadata": {},
   "outputs": [
    {
     "name": "stdout",
     "output_type": "stream",
     "text": [
      "--------------------\n",
      "['Lorem', 'Loooooooooooom', 'Lopem', 'Losem']\n"
     ]
    }
   ],
   "source": [
    "# Retrouver un mot en particulier\n",
    "# Méthode 3\n",
    "dividerLine()\n",
    "var1 = re.compile(\"L[a-z]+m\")\n",
    "var1 = re.findall(var1, var)\n",
    "print(var1)"
   ]
  },
  {
   "cell_type": "code",
   "execution_count": 24,
   "id": "be32e5f9-7735-470a-8cfd-f50ea913b45a",
   "metadata": {},
   "outputs": [
    {
     "name": "stdout",
     "output_type": "stream",
     "text": [
      "--------------------\n",
      "['787654432']\n"
     ]
    }
   ],
   "source": [
    "# Retrouver un numéro en particulier\n",
    "# Méthode 1\n",
    "dividerLine()\n",
    "var1 = re.compile(\"787654432\")\n",
    "var1 = re.findall(var1, var)\n",
    "print(var1)"
   ]
  },
  {
   "cell_type": "code",
   "execution_count": 25,
   "id": "6d85ef0f-4037-49d7-9bc2-b276919affa0",
   "metadata": {},
   "outputs": [
    {
     "name": "stdout",
     "output_type": "stream",
     "text": [
      "--------------------\n",
      "['787654432', '78535090', '78865']\n"
     ]
    }
   ],
   "source": [
    "# Retrouver un numéro en particulier\n",
    "# Méthode 2\n",
    "dividerLine()\n",
    "var1 = re.compile(\"78\\d+\")\n",
    "var1 = re.findall(var1, var)\n",
    "print(var1)"
   ]
  },
  {
   "cell_type": "code",
   "execution_count": 26,
   "id": "90a63857-0df8-46bd-83db-1bec0fca4798",
   "metadata": {},
   "outputs": [
    {
     "name": "stdout",
     "output_type": "stream",
     "text": [
      "--------------------\n",
      "['787654432', '78535090', '78865']\n"
     ]
    }
   ],
   "source": [
    "# Retrouver un numéro en particulier\n",
    "# Méthode 2\n",
    "dividerLine()\n",
    "var1 = re.compile(\"78\\\\d+\")\n",
    "var1 = re.findall(var1, var)\n",
    "print(var1)"
   ]
  },
  {
   "cell_type": "code",
   "execution_count": 27,
   "id": "4f2e0350-1ce9-417b-9e53-b8932790b57e",
   "metadata": {},
   "outputs": [
    {
     "name": "stdout",
     "output_type": "stream",
     "text": [
      "------------------------------\n",
      "['787654432', '78535090', '78865']\n"
     ]
    }
   ],
   "source": [
    "# Retrouver un numéro en particulier\n",
    "# Méthode 3\n",
    "dividerLine(30)\n",
    "var1 = re.compile(\"78\\\\d{1,}\")\n",
    "var1 = re.findall(var1, var)\n",
    "print(var1)"
   ]
  },
  {
   "cell_type": "code",
   "execution_count": 28,
   "id": "a7eefa2a-9602-47c8-a219-d064a7a3fd70",
   "metadata": {},
   "outputs": [
    {
     "name": "stdout",
     "output_type": "stream",
     "text": [
      "------------------------------\n",
      "['787654432', '78535090', '76535090', '78865']\n"
     ]
    }
   ],
   "source": [
    "# Retrouver que les numéro commençant par 78 et 76\n",
    "# Méthode 1\n",
    "dividerLine(30)\n",
    "var1 = re.compile(\"(78\\\\d+|76\\\\d+)\")\n",
    "var1 = re.findall(var1, var)\n",
    "print(var1)"
   ]
  },
  {
   "cell_type": "code",
   "execution_count": 29,
   "id": "5be8e497-48f1-45d9-9cea-cae25126f75f",
   "metadata": {},
   "outputs": [
    {
     "name": "stdout",
     "output_type": "stream",
     "text": [
      "------------------------------\n",
      "['787654432', '78535090', '76535090', '78865']\n"
     ]
    }
   ],
   "source": [
    "# Retrouver que les numéro commençant par 78 et 76\n",
    "# Méthode 1\n",
    "dividerLine(30)\n",
    "var1 = re.compile(\"(78\\d+|76\\d+)\")\n",
    "var1 = re.findall(var1, var)\n",
    "print(var1)"
   ]
  },
  {
   "cell_type": "code",
   "execution_count": 30,
   "id": "a3655ba5-45c8-4ec3-88f2-46d0148a7ff2",
   "metadata": {},
   "outputs": [
    {
     "name": "stdout",
     "output_type": "stream",
     "text": [
      "----------------------------------------\n",
      "['787654432', '78535090', '76535090', '78865']\n"
     ]
    }
   ],
   "source": [
    "# Retrouver que les numéro commençant par 78 et 76\n",
    "# Méthode 3\n",
    "dividerLine(40)\n",
    "var1 = re.compile(\"(78[0-9]+|76[0-9]+)\")\n",
    "var1 = re.findall(var1, var)\n",
    "print(var1)"
   ]
  },
  {
   "cell_type": "code",
   "execution_count": 31,
   "id": "81ff3fbe-5d41-48d3-bf78-6f98471872a0",
   "metadata": {},
   "outputs": [
    {
     "name": "stdout",
     "output_type": "stream",
     "text": [
      "----------------------------------------\n",
      "['787654432', '78535090', '76535090', '78865']\n"
     ]
    }
   ],
   "source": [
    "# Retrouver que les numéro commençant par 78 et 76\n",
    "# Méthode 4\n",
    "dividerLine(40)\n",
    "var1 = re.compile(\"(78[0-9]{1,}|76[0-9]{1,})\")\n",
    "var1 = re.findall(var1, var)\n",
    "print(var1)"
   ]
  },
  {
   "cell_type": "code",
   "execution_count": 32,
   "id": "097270c5-7db6-44c7-8f34-36dc694b4687",
   "metadata": {},
   "outputs": [
    {
     "name": "stdout",
     "output_type": "stream",
     "text": [
      "----------------------------------------\n",
      "['777', '787654432', '78535090', '76535090', '79615516', '777778865', '7532341']\n"
     ]
    }
   ],
   "source": [
    "# Exercice 1\n",
    "# Retrouver que les numéro couvrant 78-76\n",
    "# Corriger le pattern\n",
    "# Méthode 5\n",
    "dividerLine(40)\n",
    "var1 = re.compile(\"[76-78][0-9]{1,}\")\n",
    "var1 = re.findall(var1, var)\n",
    "print(var1)"
   ]
  },
  {
   "cell_type": "code",
   "execution_count": 33,
   "id": "d2640742-338f-4953-a6c0-616b69f463fd",
   "metadata": {},
   "outputs": [
    {
     "name": "stdout",
     "output_type": "stream",
     "text": [
      "----------------------------------------\n",
      "['+221777778865']\n"
     ]
    }
   ],
   "source": [
    "# Retrouver que les numéro couvrant 78-76\n",
    "# Retrouver un numéro sénégalais\n",
    "# Méthode 5\n",
    "dividerLine(40)\n",
    "var1 = re.compile(\"\\+221[76-78][0-9]{1,}\")\n",
    "var1 = re.findall(var1, var)\n",
    "print(var1)"
   ]
  },
  {
   "cell_type": "code",
   "execution_count": 37,
   "id": "5d679071-b5e2-4ef8-aa3b-5d164dbcdc1c",
   "metadata": {},
   "outputs": [
    {
     "name": "stdout",
     "output_type": "stream",
     "text": [
      "----------------------------------------\n",
      "['+221777778865']\n"
     ]
    }
   ],
   "source": [
    "# Retrouver que les numéro couvrant 78-70\n",
    "# Retrouver un numéro sénégalais\n",
    "# Méthode 5\n",
    "dividerLine(40)\n",
    "var1 = re.compile(\"\\+221[70-78]{2}[0-9]{3}[0-9]{2}[0-9]{2}\")\n",
    "var1 = re.findall(var1, var)\n",
    "print(var1)"
   ]
  },
  {
   "cell_type": "code",
   "execution_count": 38,
   "id": "2ac38ab6-f70f-4140-b3fe-398e0d2cf10c",
   "metadata": {},
   "outputs": [
    {
     "name": "stdout",
     "output_type": "stream",
     "text": [
      "----------------------------------------\n",
      "['+22177777886']\n"
     ]
    }
   ],
   "source": [
    "# Retrouver que les numéro couvrant 78-70\n",
    "# Retrouver un numéro sénégalais\n",
    "# Méthode 5\n",
    "dividerLine(40)\n",
    "var1 = re.compile(\"\\+221[70-78]{1}[0-9]{3}[0-9]{2}[0-9]{2}\")\n",
    "var1 = re.findall(var1, var)\n",
    "print(var1)"
   ]
  },
  {
   "cell_type": "code",
   "execution_count": 40,
   "id": "4c1f34f5-f672-4714-a53b-f644850dc1b8",
   "metadata": {},
   "outputs": [
    {
     "name": "stdout",
     "output_type": "stream",
     "text": [
      "----------------------------------------\n",
      "['+22997532341']\n"
     ]
    }
   ],
   "source": [
    "# Exercice 2\n",
    "# Reformater le pattern en plus simple\n",
    "# Retrouver un numéro béninois\n",
    "# Méthode 5\n",
    "dividerLine(40)\n",
    "var1 = re.compile(\"\\+229[61,66,95-97]{2}[0-9]{2}[0-9]{2}[0-9]{2}\")\n",
    "var1 = re.findall(var1, var)\n",
    "print(var1)"
   ]
  },
  {
   "cell_type": "code",
   "execution_count": 41,
   "id": "da9e3cc2-cba0-4efa-8f25-62d60f2b98f6",
   "metadata": {},
   "outputs": [
    {
     "name": "stdout",
     "output_type": "stream",
     "text": [
      "----------------------------------------\n",
      "['example@gmail.com']\n"
     ]
    }
   ],
   "source": [
    "# Retrouver un email\n",
    "# Méthode 1\n",
    "dividerLine(40)\n",
    "var1 = re.compile(\"\\w+@gmail.com\")\n",
    "var1 = re.findall(var1, var)\n",
    "print(var1)"
   ]
  },
  {
   "cell_type": "code",
   "execution_count": 42,
   "id": "36b89e6d-a945-4ffc-a224-48eea489177c",
   "metadata": {},
   "outputs": [
    {
     "name": "stdout",
     "output_type": "stream",
     "text": [
      "----------------------------------------\n",
      "['example@gmail.com']\n"
     ]
    }
   ],
   "source": [
    "# Retrouver un email\n",
    "# Méthode 2\n",
    "dividerLine(40)\n",
    "var1 = re.compile(\"\\w+\\Wgmail.com\")\n",
    "var1 = re.findall(var1, var)\n",
    "print(var1)"
   ]
  },
  {
   "cell_type": "code",
   "execution_count": 43,
   "id": "6b24b767-25e2-404a-a63f-6b2f5c16eaa8",
   "metadata": {},
   "outputs": [
    {
     "name": "stdout",
     "output_type": "stream",
     "text": [
      "----------------------------------------\n",
      "['example@gmail.com']\n"
     ]
    }
   ],
   "source": [
    "# Retrouver un email\n",
    "# Méthode 3\n",
    "dividerLine(40)\n",
    "var1 = re.compile(\"\\w+\\Wgmail[\\.]com\")\n",
    "var1 = re.findall(var1, var)\n",
    "print(var1)"
   ]
  },
  {
   "cell_type": "code",
   "execution_count": 44,
   "id": "5f9d1992-0a16-46ff-ad74-3fbe51ee31a6",
   "metadata": {},
   "outputs": [
    {
     "name": "stdout",
     "output_type": "stream",
     "text": [
      "----------------------------------------\n",
      "['example@gmail.com', 'example@yahoo.com']\n"
     ]
    }
   ],
   "source": [
    "# Retrouver tous les emails\n",
    "# Methode 1\n",
    "dividerLine(40)\n",
    "var1 = re.compile(\"\\w+\\W[a-z]+.com\")\n",
    "var1 = re.findall(var1, var)\n",
    "print(var1)"
   ]
  },
  {
   "cell_type": "code",
   "execution_count": 45,
   "id": "a638dc83-90a9-4641-af28-0d68aed34ced",
   "metadata": {},
   "outputs": [
    {
     "name": "stdout",
     "output_type": "stream",
     "text": [
      "----------------------------------------\n",
      "['example@gmail.com', 'example@yahoo.com']\n"
     ]
    }
   ],
   "source": [
    "# Exercice 3\n",
    "# Retrouver tous les emails\n",
    "# Reformater ce pattern\n",
    "# Methode 2\n",
    "dividerLine(40)\n",
    "var1 = re.compile(\"\\w+\\W[\\w+]+.com\")\n",
    "var1 = re.findall(var1, var)\n",
    "print(var1)"
   ]
  },
  {
   "cell_type": "code",
   "execution_count": 46,
   "id": "d96a40c2-e12a-47a1-ad56-b556a634649c",
   "metadata": {},
   "outputs": [
    {
     "name": "stdout",
     "output_type": "stream",
     "text": [
      "----------------------------------------\n",
      "['example@gmail.com', 'example@yahoo.com']\n"
     ]
    }
   ],
   "source": [
    "# Retrouver tous les emails\n",
    "# Methode 3_1\n",
    "dividerLine(40)\n",
    "var1 = re.compile(\"\\w+\\W[yahoo,gmail,hotmail]+.com\")\n",
    "var1 = re.findall(var1, var)\n",
    "print(var1)"
   ]
  },
  {
   "cell_type": "code",
   "execution_count": 47,
   "id": "a4767f7b-6673-4b21-a8a5-425d752aaa8b",
   "metadata": {},
   "outputs": [
    {
     "name": "stdout",
     "output_type": "stream",
     "text": [
      "----------------------------------------\n",
      "['example@yahoo.fr', 'example@hotmail.fr']\n"
     ]
    }
   ],
   "source": [
    "# Retrouver tous les emails\n",
    "# Methode 3_2\n",
    "dividerLine(40)\n",
    "var1 = re.compile(\"\\w+\\W[yahoo,gmail,hotmail]+.fr\")\n",
    "var1 = re.findall(var1, var)\n",
    "print(var1)"
   ]
  },
  {
   "cell_type": "code",
   "execution_count": 48,
   "id": "26345ec8-8641-4792-a327-591f91a70b29",
   "metadata": {},
   "outputs": [],
   "source": [
    "# Exercice 4\n",
    "# Combiner la méthode 3_1 et 3_2 pour obtenir tous lelistes mails"
   ]
  },
  {
   "cell_type": "code",
   "execution_count": 57,
   "id": "6087db64-d95e-43ca-b12c-e9503693e5c8",
   "metadata": {},
   "outputs": [
    {
     "name": "stdout",
     "output_type": "stream",
     "text": [
      "----------------------------------------\n",
      "['example@gmail.com', 'example@yahoo.com']\n"
     ]
    }
   ],
   "source": [
    "# Exercice 4\n",
    "# Correction faite par Maodo\n",
    "dividerLine(40)\n",
    "var1 = re.compile(\"\\w+\\W[yahoo,gmail,hotmail]+.[com,fr]{3}\")\n",
    "var1 = re.findall(var1, var)\n",
    "print(var1)"
   ]
  },
  {
   "cell_type": "code",
   "execution_count": 66,
   "id": "120b79e4-2e70-4144-a90a-3bc4ad2be4ea",
   "metadata": {},
   "outputs": [
    {
     "name": "stdout",
     "output_type": "stream",
     "text": [
      "----------------------------------------\n",
      "['777', '787654432', '78535090', '76535090', '777778865']\n"
     ]
    }
   ],
   "source": [
    "# Exercice 1\n",
    "# Retrouver que les numéro couvrant 78-76\n",
    "# Correction faite par Maodo\n",
    "dividerLine(40)\n",
    "var1 = re.compile(\"7[6-8][0-9]+\")\n",
    "var1 = re.findall(var1, var)\n",
    "print(var1)"
   ]
  },
  {
   "cell_type": "code",
   "execution_count": 67,
   "id": "6f2ba3b2-57d4-4649-8708-5f8d54b302b9",
   "metadata": {},
   "outputs": [
    {
     "name": "stdout",
     "output_type": "stream",
     "text": [
      "----------------------------------------\n",
      "['+22997532341']\n"
     ]
    }
   ],
   "source": [
    "# Exercice 2\n",
    "# Correction faite par Maodo\n",
    "dividerLine(40)\n",
    "#var1 = re.compile(\"\\+229[61,66,95-97]{2}[0-9]{2}[0-9]{2}[0-9]{2}\")\n",
    "var1 = re.compile(\"\\+229[6-9][1-7][0-9]+\")\n",
    "var1 = re.findall(var1, var)\n",
    "print(var1)"
   ]
  },
  {
   "cell_type": "code",
   "execution_count": 68,
   "id": "09ed8420-baba-462b-928c-5032ed6395c5",
   "metadata": {},
   "outputs": [
    {
     "name": "stdout",
     "output_type": "stream",
     "text": [
      "----------------------------------------\n",
      "['example@gmail.com', 'example@yahoo.fr ', 'example@yahoo.com', 'example@hotmail.fr ']\n"
     ]
    }
   ],
   "source": [
    "# Exercice 3\n",
    "# Correction faite par Maodo\n",
    "dividerLine(40)\n",
    "var1 = re.compile(\"\\w+\\W[\\w+]+\\.['com', 'fr']{3}\")\n",
    "var1 = re.findall(var1, var)\n",
    "print(var1)"
   ]
  },
  {
   "cell_type": "code",
   "execution_count": 69,
   "id": "51200b94-0380-4ea8-a79e-855d5dec69dc",
   "metadata": {},
   "outputs": [
    {
     "name": "stdout",
     "output_type": "stream",
     "text": [
      "----------------------------------------\n",
      "['example@gmail.com', 'example@yahoo.fr ', 'example@yahoo.com', 'example@hotmail.fr ']\n"
     ]
    }
   ],
   "source": [
    "# Exercice 4\n",
    "# Correction faite par Maodo\n",
    "dividerLine(40)\n",
    "var1 = re.compile(\"\\w+\\W[yahoo,gmail,hotmail]+\\.['com', 'fr']{3}\")\n",
    "var1 = re.findall(var1, var)\n",
    "print(var1)"
   ]
  },
  {
   "cell_type": "markdown",
   "id": "10e09938-8615-4708-8575-413c7626cc2b",
   "metadata": {},
   "source": [
    "## SOLID Pattern"
   ]
  },
  {
   "cell_type": "code",
   "execution_count": 1,
   "id": "86714490-c674-4005-9879-d0e48686d773",
   "metadata": {},
   "outputs": [],
   "source": [
    "# SOLID Principes\n",
    "# \n",
    "# Principe de responsabilité unique : il stipule que\n",
    "# une classe ne devrait avoir qu'une seule raison de changer\n",
    "# ce qui signifie que chaque classe devrait avoir une seule responsabilité\n",
    "# ou un seul emploi ou un seul but.\n",
    "#\n",
    "# Principe ouvert/fermé : Il stipule que\n",
    "# les entités logicielles (classes, modules, fonctions, etc.) doivent être ouvertes\n",
    "# extension, mais fermée pour modification », ce qui signifie que vous devriez pouvoir\n",
    "# étendre un comportement de classe, sans le modifier.\n",
    "#\n",
    "# Principe de substitution de Liskov : Selon ce principe « Dérivé ou\n",
    "# les classes enfants doivent être substituables à leurs classes de base ou parents ».\n",
    "# Ce principe garantit que toute classe qui est l'enfant d'une classe parent\n",
    "# devrait être utilisable à la place de son parent sans aucun comportement inattendu.\n",
    "#\n",
    "# Principe de ségrégation d'interface : il stipule que \"ne forcez aucun client\n",
    "# de mettre en place une interface qui ne leur est pas pertinente ». Ici, vous devriez\n",
    "# préférer plusieurs interfaces client plutôt qu'une interface générale et\n",
    "# chaque interface doit avoir une responsabilité spécifique.\n",
    "#\n",
    "# Principe d'inversion des dépendances : les modules/classes de haut niveau ne doivent pas dépendre\n",
    "# sur les modules/classes de bas niveau. Les deux devraient dépendre d'abstractions.\n",
    "# Les abstractions ne doivent pas dépendre des détails.\n",
    "# Les détails doivent dépendre des abstractions."
   ]
  },
  {
   "cell_type": "code",
   "execution_count": 3,
   "id": "b3ffd398-25c0-4bee-bb03-1a5d4008b96d",
   "metadata": {},
   "outputs": [],
   "source": [
    "from abc import ABC, abstractmethod\n",
    "\n",
    "\n",
    "# Méthodes abstraite est facilement modifiable\n",
    "# Car elle ne déclare que les arguments d'entrée ou pas mais n'explicite pas les instructions\n",
    "# Ainsi toute classe qui hérite d'une autre classe abstraite peut alors donc overrider les méthodes de la classe parentes.\n",
    "\n",
    "def dividerLine(n=20):\n",
    "    var = '-' * int(n)\n",
    "    print(var)"
   ]
  },
  {
   "cell_type": "code",
   "execution_count": 4,
   "id": "3f5e11f9-20d1-4441-b38f-ccfea15a92db",
   "metadata": {},
   "outputs": [],
   "source": [
    "# Single Responsability\n",
    "class Point():\n",
    "    def __init__(self, x: float, y: float):\n",
    "        self.x = x\n",
    "        self.y = y"
   ]
  },
  {
   "cell_type": "code",
   "execution_count": 5,
   "id": "68182837-67f8-4286-8aa0-3d6587ed1b5e",
   "metadata": {},
   "outputs": [],
   "source": [
    "varP = Point(14.08, 25.99)"
   ]
  },
  {
   "cell_type": "code",
   "execution_count": 6,
   "id": "43c9c744-d699-45d6-8955-dfb63b9ba2e0",
   "metadata": {},
   "outputs": [
    {
     "data": {
      "text/plain": [
       "<__main__.Point at 0x7f93225cc9d0>"
      ]
     },
     "execution_count": 6,
     "metadata": {},
     "output_type": "execute_result"
    }
   ],
   "source": [
    "varP"
   ]
  },
  {
   "cell_type": "code",
   "execution_count": 7,
   "id": "b4c6c86a-5df1-4a7c-ae07-cae96807838b",
   "metadata": {},
   "outputs": [],
   "source": [
    "class DisplayPoint():\n",
    "    def __init__(self,\n",
    "                 point: Point,\n",
    "                 option: int):\n",
    "        self.point = point\n",
    "        self.option = option\n",
    "\n",
    "    def __repr__(self):\n",
    "        if self.option == 1:\n",
    "            return self.display1()\n",
    "        if self.option == 2:\n",
    "            return self.display2()\n",
    "        return self.display1()\n",
    "\n",
    "    def display1(self):\n",
    "        return f\"Point(x={self.point.x}, y={self.point.y})\"\n",
    "\n",
    "    def display2(self):\n",
    "        return f\"Le poiint a x={self.point.x} et y={self.point.y}\""
   ]
  },
  {
   "cell_type": "code",
   "execution_count": 10,
   "id": "ea640c4c-5828-4beb-8ed4-ee2c7627c3b5",
   "metadata": {},
   "outputs": [
    {
     "data": {
      "text/plain": [
       "Point(x=14.08, y=25.99)"
      ]
     },
     "execution_count": 10,
     "metadata": {},
     "output_type": "execute_result"
    }
   ],
   "source": [
    "varP = DisplayPoint(Point(14.08, 25.99), 1)\n",
    "varP"
   ]
  },
  {
   "cell_type": "code",
   "execution_count": 11,
   "id": "6354e465-f423-4122-82fc-2273cac5499a",
   "metadata": {},
   "outputs": [
    {
     "data": {
      "text/plain": [
       "Le poiint a x=14.08 et y=25.99"
      ]
     },
     "execution_count": 11,
     "metadata": {},
     "output_type": "execute_result"
    }
   ],
   "source": [
    "varP = DisplayPoint(Point(14.08, 25.99), 2)\n",
    "varP"
   ]
  },
  {
   "cell_type": "code",
   "execution_count": 12,
   "id": "87d04887-ae65-424b-810f-e5be6f281054",
   "metadata": {},
   "outputs": [],
   "source": [
    "class Animal(ABC):\n",
    "    @abstractmethod\n",
    "    def color(self, color: str):\n",
    "        pass\n",
    "\n",
    "    @abstractmethod\n",
    "    def sex(self, sexType: str):\n",
    "        pass\n",
    "\n",
    "    @abstractmethod\n",
    "    def tall(self, tall: float):\n",
    "        pass\n",
    "\n",
    "    def weight(self, weight: float):\n",
    "        pass"
   ]
  },
  {
   "cell_type": "code",
   "execution_count": 13,
   "id": "26a6ad32-84e1-47c3-8ddc-60a7ade1227a",
   "metadata": {},
   "outputs": [],
   "source": [
    "class Dog(Animal):\n",
    "    def color(self, color: str):\n",
    "        print(f\"De couleur {color}\")\n",
    "\n",
    "    def sex(self, sexType: str):\n",
    "        print(f\"Sexe de type {sexType}\")\n",
    "\n",
    "    def tall(self, tall: float):\n",
    "        print(f'Taille de {tall}')"
   ]
  },
  {
   "cell_type": "code",
   "execution_count": 14,
   "id": "0bdcd5a1-09c2-47b9-8bbd-017a36913fa8",
   "metadata": {},
   "outputs": [
    {
     "name": "stdout",
     "output_type": "stream",
     "text": [
      "De couleur blue\n",
      "Sexe de type Masculin\n",
      "Taille de 0.52\n"
     ]
    }
   ],
   "source": [
    "var = Dog()\n",
    "var.color('blue')\n",
    "var.sex('Masculin')\n",
    "var.tall(0.52)"
   ]
  },
  {
   "cell_type": "code",
   "execution_count": 15,
   "id": "df23d80a-49aa-44e8-998a-b7796c0c46fa",
   "metadata": {},
   "outputs": [],
   "source": [
    "class Animal(ABC):\n",
    "    @abstractmethod\n",
    "    def color(self, color: str):\n",
    "        pass\n",
    "\n",
    "    @abstractmethod\n",
    "    def sex(self, sexType: str):\n",
    "        pass\n",
    "\n",
    "    @abstractmethod\n",
    "    def tall(self, tall: float):\n",
    "        pass\n",
    "    \n",
    "    @abstractmethod\n",
    "    def weight(self, weight: float):\n",
    "        pass"
   ]
  },
  {
   "cell_type": "code",
   "execution_count": 20,
   "id": "4f9c9e5c-537e-4b6b-a08c-dcac229c75c1",
   "metadata": {},
   "outputs": [],
   "source": [
    "class Dog(Animal):\n",
    "    def color(self, color: str):\n",
    "        print(f\"De couleur {color}\")\n",
    "\n",
    "    def sex(self, sexType: str):\n",
    "        print(f\"Sexe de type {sexType}\")\n",
    "\n",
    "    def tall(self, tall: float):\n",
    "        print(f'Taille de {tall}')"
   ]
  },
  {
   "cell_type": "code",
   "execution_count": 21,
   "id": "520cbf22-9da6-408a-bd30-97aa3e971944",
   "metadata": {},
   "outputs": [
    {
     "ename": "TypeError",
     "evalue": "Can't instantiate abstract class Dog with abstract method weight",
     "output_type": "error",
     "traceback": [
      "\u001b[0;31m---------------------------------------------------------------------------\u001b[0m",
      "\u001b[0;31mTypeError\u001b[0m                                 Traceback (most recent call last)",
      "Input \u001b[0;32mIn [21]\u001b[0m, in \u001b[0;36m<module>\u001b[0;34m\u001b[0m\n\u001b[0;32m----> 1\u001b[0m var \u001b[38;5;241m=\u001b[39m \u001b[43mDog\u001b[49m\u001b[43m(\u001b[49m\u001b[43m)\u001b[49m\n\u001b[1;32m      2\u001b[0m var\u001b[38;5;241m.\u001b[39mcolor(\u001b[38;5;124m'\u001b[39m\u001b[38;5;124mblue\u001b[39m\u001b[38;5;124m'\u001b[39m)\n\u001b[1;32m      3\u001b[0m var\u001b[38;5;241m.\u001b[39msex(\u001b[38;5;124m'\u001b[39m\u001b[38;5;124mMasculin\u001b[39m\u001b[38;5;124m'\u001b[39m)\n",
      "\u001b[0;31mTypeError\u001b[0m: Can't instantiate abstract class Dog with abstract method weight"
     ]
    }
   ],
   "source": [
    "var = Dog()\n",
    "var.color('blue')\n",
    "var.sex('Masculin')\n",
    "var.tall(0.52)"
   ]
  },
  {
   "cell_type": "code",
   "execution_count": 22,
   "id": "8f7abfa0-ac66-488a-b80e-85c308170871",
   "metadata": {},
   "outputs": [],
   "source": [
    "class Dog(Animal):\n",
    "    def color(self, color: str):\n",
    "        print(f\"De couleur {color}\")\n",
    "\n",
    "    def sex(self, sexType: str):\n",
    "        print(f\"Sexe de type {sexType}\")\n",
    "\n",
    "    def tall(self, tall: float):\n",
    "        print(f'Taille de {tall}')\n",
    "        \n",
    "    def weight(self, weight: float):\n",
    "        pass"
   ]
  },
  {
   "cell_type": "markdown",
   "id": "cdc23706-9921-4e20-a7eb-07009f3676db",
   "metadata": {},
   "source": [
    "## Web Scrapping"
   ]
  },
  {
   "cell_type": "code",
   "execution_count": 24,
   "id": "2a3c34d3-ce5f-4a6a-84fd-ce0117f4e405",
   "metadata": {},
   "outputs": [],
   "source": [
    "# Web Scrapping\n",
    "# https://beautiful-soup-4.readthedocs.io/en/latest/\n",
    "# https://docs.python.org/3/library/time.html\n",
    "import re\n",
    "import time\n",
    "import requests\n",
    "from bs4 import BeautifulSoup"
   ]
  },
  {
   "cell_type": "code",
   "execution_count": 25,
   "id": "da37b87c-e04f-4776-a6f8-f48f85e02022",
   "metadata": {},
   "outputs": [],
   "source": [
    "def dividerLine(n=30):\n",
    "    print('-' * n)\n",
    "\n",
    "\n",
    "def fetch(url: str):\n",
    "    with requests.Session() as session:\n",
    "        data = session.get(url,\n",
    "                           headers={},\n",
    "                           params={})\n",
    "    return data.text"
   ]
  },
  {
   "cell_type": "code",
   "execution_count": 28,
   "id": "7251a9bf-d49d-4659-9239-1d0aff9e7daf",
   "metadata": {},
   "outputs": [],
   "source": [
    "# Get DIT Site html content\n",
    "# Parser xml\n",
    "# Parser lxml\n",
    "data = BeautifulSoup(\n",
    "    fetch('https://history.state.gov/countries/all'),\n",
    "    features=\"html.parser\"\n",
    ")"
   ]
  },
  {
   "cell_type": "code",
   "execution_count": 29,
   "id": "4fbc844b-76ec-457d-9b62-5a7927267f8b",
   "metadata": {},
   "outputs": [],
   "source": [
    "# Prettify data\n",
    "pretty = data.prettify()"
   ]
  },
  {
   "cell_type": "code",
   "execution_count": 31,
   "id": "76410c9d-98fc-4310-aa0d-cd8a6f3676f5",
   "metadata": {},
   "outputs": [
    {
     "name": "stdout",
     "output_type": "stream",
     "text": [
      "------------------------------\n",
      "<h2 class=\"hsg-sidebar-title\">Countries</h2>\n"
     ]
    }
   ],
   "source": [
    "# Get H2 tag\n",
    "dividerLine()\n",
    "var1 = data.find('h2')\n",
    "print(var1)"
   ]
  },
  {
   "cell_type": "code",
   "execution_count": 35,
   "id": "735fba9f-9f1f-4682-9892-82a7274f6802",
   "metadata": {},
   "outputs": [
    {
     "name": "stdout",
     "output_type": "stream",
     "text": [
      "------------------------------\n",
      "[<h2 class=\"hsg-sidebar-title\">Countries</h2>] <class 'bs4.element.ResultSet'>\n",
      "<h2 class=\"hsg-sidebar-title\">Countries</h2>\n"
     ]
    }
   ],
   "source": [
    "# Get H2 tag\n",
    "dividerLine()\n",
    "var1 = data.find_all('h2')\n",
    "print(var1, type(var1))\n",
    "print(var1[0]) # les itérables"
   ]
  },
  {
   "cell_type": "code",
   "execution_count": 37,
   "id": "0fe51b1c-c61e-4ade-9f63-9251b37c7d2b",
   "metadata": {},
   "outputs": [
    {
     "name": "stdout",
     "output_type": "stream",
     "text": [
      "------------------------------\n",
      "h2\n"
     ]
    }
   ],
   "source": [
    "# Get H2 tag\n",
    "# Get the name oh H2 tag\n",
    "dividerLine()\n",
    "var1 = data.find('h2')\n",
    "var2 = var1.name\n",
    "print(var2)"
   ]
  },
  {
   "cell_type": "code",
   "execution_count": 38,
   "id": "830b31b5-b1f7-44b2-b9f7-9a179199bbdb",
   "metadata": {},
   "outputs": [
    {
     "name": "stdout",
     "output_type": "stream",
     "text": [
      "------------------------------\n",
      "Countries\n"
     ]
    }
   ],
   "source": [
    "# Get H2 tag\n",
    "# Get the content oh H2 tag\n",
    "dividerLine()\n",
    "var1 = data.find('h2')\n",
    "var3 = var1.text\n",
    "print(var3)"
   ]
  },
  {
   "cell_type": "code",
   "execution_count": 39,
   "id": "8517a31d-62f9-476b-8499-74dafc2bc76d",
   "metadata": {},
   "outputs": [
    {
     "name": "stdout",
     "output_type": "stream",
     "text": [
      "------------------------------\n",
      "[<h3>A</h3>, <h3>B</h3>, <h3>C</h3>, <h3>D</h3>, <h3>E</h3>, <h3>F</h3>, <h3>G</h3>, <h3>H</h3>, <h3>I</h3>, <h3>J</h3>, <h3>K</h3>, <h3>L</h3>, <h3>M</h3>, <h3>N</h3>, <h3>O</h3>, <h3>P</h3>, <h3>Q</h3>, <h3>R</h3>, <h3>S</h3>, <h3>T</h3>, <h3>U</h3>, <h3>V</h3>, <h3>W</h3>, <h3>Y</h3>, <h3>Z</h3>, <h3 class=\"hsg-sidebar-title\">Related Resources</h3>]\n",
      "------------------------------\n",
      "26\n"
     ]
    }
   ],
   "source": [
    "# Get all H3 tag\n",
    "dividerLine()\n",
    "var5 = data.find_all('h3')\n",
    "print(var5)\n",
    "dividerLine()\n",
    "print(len(var5))"
   ]
  },
  {
   "cell_type": "code",
   "execution_count": 42,
   "id": "5239457f-b88b-43f7-b91b-669d1fe061ef",
   "metadata": {},
   "outputs": [
    {
     "data": {
      "text/plain": [
       "26"
      ]
     },
     "execution_count": 42,
     "metadata": {},
     "output_type": "execute_result"
    }
   ],
   "source": [
    "# Sur la page on 52 tag H3 <==> len(tagOnsite) = 52\n",
    "# len(var5) = 26\n",
    "# On aura si tag paire donc: len(tagOnsite) / 2\n",
    "# 52/2\n",
    "52 // 2"
   ]
  },
  {
   "cell_type": "code",
   "execution_count": 43,
   "id": "462f62a6-ee85-495c-8ae7-a64197c85d99",
   "metadata": {},
   "outputs": [
    {
     "name": "stdout",
     "output_type": "stream",
     "text": [
      "Nombre 1, Value=<h3>A</h3> \n",
      "Nombre 2, Value=<h3>B</h3> \n",
      "Nombre 3, Value=<h3>C</h3> \n",
      "Nombre 4, Value=<h3>D</h3> \n",
      "Nombre 5, Value=<h3>E</h3> \n",
      "Nombre 6, Value=<h3>F</h3> \n",
      "Nombre 7, Value=<h3>G</h3> \n",
      "Nombre 8, Value=<h3>H</h3> \n",
      "Nombre 9, Value=<h3>I</h3> \n",
      "Nombre 10, Value=<h3>J</h3> \n",
      "Nombre 11, Value=<h3>K</h3> \n",
      "Nombre 12, Value=<h3>L</h3> \n",
      "Nombre 13, Value=<h3>M</h3> \n",
      "Nombre 14, Value=<h3>N</h3> \n",
      "Nombre 15, Value=<h3>O</h3> \n",
      "Nombre 16, Value=<h3>P</h3> \n",
      "Nombre 17, Value=<h3>Q</h3> \n",
      "Nombre 18, Value=<h3>R</h3> \n",
      "Nombre 19, Value=<h3>S</h3> \n",
      "Nombre 20, Value=<h3>T</h3> \n",
      "Nombre 21, Value=<h3>U</h3> \n",
      "Nombre 22, Value=<h3>V</h3> \n",
      "Nombre 23, Value=<h3>W</h3> \n",
      "Nombre 24, Value=<h3>Y</h3> \n",
      "Nombre 25, Value=<h3>Z</h3> \n",
      "Nombre 26, Value=<h3 class=\"hsg-sidebar-title\">Related Resources</h3> \n"
     ]
    }
   ],
   "source": [
    "for index, value in enumerate(var5):\n",
    "    print(f'Nombre {index + 1}, Value={value} ')"
   ]
  },
  {
   "cell_type": "code",
   "execution_count": 46,
   "id": "75d576bc-b7ed-45c3-9043-b439dab4eeb9",
   "metadata": {},
   "outputs": [
    {
     "name": "stdout",
     "output_type": "stream",
     "text": [
      "------------------------------\n",
      "[<a href=\"/\">\n",
      "<img alt=\"Office of the Historian\" class=\"img-responsive\" src=\"/resources/images/Office-of-the-Historian-logo_500x168.jpg\" width=\"400\"/>\n",
      "</a>, <a href=\"/\" shape=\"rect\">\n",
      "<span>Home</span>\n",
      "</a>, <a aria-expanded=\"false\" aria-haspopup=\"true\" class=\"dropdown-toggle\" data-toggle=\"dropdown\" href=\"/historicaldocuments\" role=\"button\">\n",
      "<span>Historical Documents</span>\n",
      "</a>, <a href=\"/historicaldocuments\">\n",
      "<em>Foreign Relations of the United States</em>\n",
      "</a>, <a href=\"/historicaldocuments/about-frus\">About the\n",
      "                                            <em>Foreign Relations</em> Series</a>]\n",
      "------------------------------\n"
     ]
    }
   ],
   "source": [
    "# Get all links\n",
    "dividerLine()\n",
    "var6 = data.find_all('a')\n",
    "print(var6[:5])\n",
    "dividerLine()"
   ]
  },
  {
   "cell_type": "code",
   "execution_count": 47,
   "id": "4bf6d3e9-2ec7-4952-877f-bf3638de47fe",
   "metadata": {},
   "outputs": [
    {
     "name": "stdout",
     "output_type": "stream",
     "text": [
      "280\n"
     ]
    }
   ],
   "source": [
    "print(len(var6))"
   ]
  },
  {
   "cell_type": "code",
   "execution_count": 50,
   "id": "e5681e55-36cd-4f2a-8d31-75907d739e1f",
   "metadata": {},
   "outputs": [
    {
     "name": "stdout",
     "output_type": "stream",
     "text": [
      "------------------------------\n",
      "[<a href=\"/countries/afghanistan\">Afghanistan</a>, <a href=\"/countries/albania\">Albania</a>, <a href=\"/countries/algeria\">Algeria</a>, <a href=\"/countries/andorra\">Andorra</a>, <a href=\"/countries/angola\">Angola</a>, <a href=\"/countries/antigua-barbuda\">Antigua and Barbuda</a>, <a href=\"/countries/argentina\">Argentina</a>, <a href=\"/countries/armenia\">Armenia</a>]\n",
      "------------------------------\n",
      "229\n"
     ]
    }
   ],
   "source": [
    "# Get only countries links\n",
    "# We can use the regex\n",
    "# And use the attribute of HTML tags\n",
    "dividerLine()\n",
    "regex = re.compile('/countries/\\w+')\n",
    "var6 = data.find_all(href=regex)\n",
    "print(var6[2:10])\n",
    "dividerLine()\n",
    "print(len(var6))"
   ]
  },
  {
   "cell_type": "code",
   "execution_count": 51,
   "id": "2deb0eef-e0e9-46f2-93ef-bdca7416086e",
   "metadata": {},
   "outputs": [],
   "source": [
    "def getOnlyLinks(soupData: list):\n",
    "    for index, value in enumerate(soupData):\n",
    "        soupData[index] = value['href']\n",
    "        # soupData[index] = value.href\n",
    "    return soupData\n",
    "\n",
    "\n",
    "def buildCountry(sites: list):\n",
    "    for index, value in enumerate(sites):\n",
    "        sites[index] = (\n",
    "            f\"https://history.state.gov{value}\",\n",
    "            value.replace('/countries/', '').capitalize()\n",
    "        )\n",
    "    return sites"
   ]
  },
  {
   "cell_type": "code",
   "execution_count": 56,
   "id": "681b0958-f736-481e-b746-eb6ba3231f87",
   "metadata": {},
   "outputs": [
    {
     "name": "stdout",
     "output_type": "stream",
     "text": [
      "------------------------------\n"
     ]
    },
    {
     "data": {
      "text/plain": [
       "[('https://history.state.gov/countries/afghanistan', 'Afghanistan'),\n",
       " ('https://history.state.gov/countries/albania', 'Albania'),\n",
       " ('https://history.state.gov/countries/algeria', 'Algeria'),\n",
       " ('https://history.state.gov/countries/andorra', 'Andorra'),\n",
       " ('https://history.state.gov/countries/angola', 'Angola'),\n",
       " ('https://history.state.gov/countries/antigua-barbuda', 'Antigua-barbuda'),\n",
       " ('https://history.state.gov/countries/argentina', 'Argentina'),\n",
       " ('https://history.state.gov/countries/armenia', 'Armenia'),\n",
       " ('https://history.state.gov/countries/australia', 'Australia'),\n",
       " ('https://history.state.gov/countries/austria', 'Austria')]"
      ]
     },
     "execution_count": 56,
     "metadata": {},
     "output_type": "execute_result"
    }
   ],
   "source": [
    "var7 = var6[2:-1]\n",
    "# Anselme (-2)\n",
    "# Russell (-2)\n",
    "# Serigne (-1)\n",
    "# Maodo (-2)\n",
    "# Lamine (-1)\n",
    "dividerLine()\n",
    "links = buildCountry(getOnlyLinks(var7))\n",
    "links[:10]"
   ]
  },
  {
   "cell_type": "code",
   "execution_count": 57,
   "id": "a26dad93-abbf-4ba0-a264-c0117ac7ff9c",
   "metadata": {},
   "outputs": [],
   "source": [
    "data2 = BeautifulSoup(\n",
    "    fetch('https://history.state.gov/countries/afghanistan'),\n",
    "    features=\"html.parser\"\n",
    ")"
   ]
  },
  {
   "cell_type": "code",
   "execution_count": 58,
   "id": "65d08f3c-b34f-4d00-9849-cffec7cfa735",
   "metadata": {},
   "outputs": [
    {
     "data": {
      "text/plain": [
       "<img class=\"tei-graphic\" src=\"https://static.history.state.gov/countries/afghan-flag.jpg\" title=\"\"/>"
      ]
     },
     "execution_count": 58,
     "metadata": {},
     "output_type": "execute_result"
    }
   ],
   "source": [
    "data2.find(class_='tei-graphic')"
   ]
  },
  {
   "cell_type": "code",
   "execution_count": 60,
   "id": "10cd08c0-0f42-4b4f-adc6-f27fd4da02be",
   "metadata": {},
   "outputs": [
    {
     "data": {
      "text/plain": [
       "'https://static.history.state.gov/countries/afghan-flag.jpg'"
      ]
     },
     "execution_count": 60,
     "metadata": {},
     "output_type": "execute_result"
    }
   ],
   "source": [
    "data2.find(class_='tei-graphic')['src']"
   ]
  },
  {
   "cell_type": "code",
   "execution_count": 62,
   "id": "eb9d4603-892e-4f93-9c32-9f1c87ddb39f",
   "metadata": {},
   "outputs": [
    {
     "data": {
      "text/plain": [
       "[<span class=\"tei-persName\">King Amanullah</span>,\n",
       " <span class=\"tei-persName\">Osama bin Laden</span>,\n",
       " <span class=\"tei-persName\">Warren G. Harding</span>]"
      ]
     },
     "execution_count": 62,
     "metadata": {},
     "output_type": "execute_result"
    }
   ],
   "source": [
    "data2.find_all(class_='tei-persName')"
   ]
  },
  {
   "cell_type": "code",
   "execution_count": 63,
   "id": "2c48404d-66ce-4921-889b-207dbdc7dc7c",
   "metadata": {},
   "outputs": [
    {
     "data": {
      "text/plain": [
       "[<span class=\"tei-placeName\">Afghanistan</span>,\n",
       " <span class=\"tei-placeName\">United States</span>,\n",
       " <span class=\"tei-placeName\">Kabul</span>,\n",
       " <span class=\"tei-placeName\">Persia</span>,\n",
       " <span class=\"tei-placeName\">Kabul</span>,\n",
       " <span class=\"tei-placeName\">Kabul</span>,\n",
       " <span class=\"tei-placeName\">Kabul</span>,\n",
       " <span class=\"tei-placeName\">Kabul</span>,\n",
       " <span class=\"tei-placeName\">Doha</span>]"
      ]
     },
     "execution_count": 63,
     "metadata": {},
     "output_type": "execute_result"
    }
   ],
   "source": [
    "data2.find_all(class_='tei-placeName')"
   ]
  },
  {
   "cell_type": "code",
   "execution_count": 66,
   "id": "82a8034f-0b63-4a43-97d7-bacf5e5c35bd",
   "metadata": {},
   "outputs": [],
   "source": [
    "def cleanSpan(data: list, className: str):\n",
    "    if data is not None:\n",
    "        for index, value in enumerate(data):\n",
    "            tmp = BeautifulSoup(str(value), \"html.parser\")\n",
    "            tmp = tmp.find(class_=className)\n",
    "            data[index] = tmp.text\n",
    "        return data\n",
    "    return []\n",
    "\n",
    "def scrapCountry(sites: list):\n",
    "    print('----------- Scrapping -----------')\n",
    "    print(f\"Start time: {time.strftime('%X %x %Z')}\")\n",
    "    for index, (url, country) in enumerate(sites):\n",
    "        data = BeautifulSoup(\n",
    "            fetch(url),\n",
    "            features=\"html.parser\"\n",
    "        )\n",
    "\n",
    "        flag = data.find(class_='tei-graphic')\n",
    "        flag = flag['src'] if flag is not None else ''\n",
    "        data2 = data.find_all(class_='tei-div2')\n",
    "\n",
    "        tmp = {}\n",
    "        for item in data2:\n",
    "            title = item.find(class_='tei-head7')\n",
    "            title = title.text if title is not None else ''\n",
    "            impPlaces = item.find_all(class_='tei-placeName')\n",
    "            impPlaces = cleanSpan(\n",
    "                item.find_all(class_='tei-placeName'),\n",
    "                \"tei-placeName\"\n",
    "            )\n",
    "            impPersons = cleanSpan(\n",
    "                item.find_all(class_='tei-persName'),\n",
    "                \"tei-persName\"\n",
    "            )\n",
    "            impDates = cleanSpan(\n",
    "                item.find_all(class_='tei-date'),\n",
    "                \"tei-date\"\n",
    "            )\n",
    "            tmp[title] = {\n",
    "                'places': impPlaces,\n",
    "                'persons': impPersons,\n",
    "                'dates': impDates\n",
    "            }\n",
    "\n",
    "        sites[index] = {\n",
    "            'name': country,\n",
    "            'url': url,\n",
    "            'flag': flag,\n",
    "            'infos': tmp\n",
    "        }\n",
    "\n",
    "    print(sites)\n",
    "    print(f\"Final time: {time.strftime('%X %x %Z')}\")"
   ]
  },
  {
   "cell_type": "code",
   "execution_count": 67,
   "id": "14c428e8-4046-4e8f-b558-b9afd1242bc4",
   "metadata": {},
   "outputs": [
    {
     "name": "stdout",
     "output_type": "stream",
     "text": [
      "----------- Scrapping -----------\n",
      "Start time: 20:22:44 02/23/22 GMT\n",
      "[{'name': 'Afghanistan', 'url': 'https://history.state.gov/countries/afghanistan', 'flag': 'https://static.history.state.gov/countries/afghan-flag.jpg', 'infos': {'Summary': {'places': ['Afghanistan', 'United States', 'Kabul'], 'persons': ['King Amanullah', 'Osama bin Laden'], 'dates': ['1979', 'October 7, 2001']}, 'Recognition': {'places': [], 'persons': ['Warren G. Harding'], 'dates': ['1921', 'July 26,\\n                            1921']}, 'U.S. Recognition of Afghanistan, 1921.': {'places': [], 'persons': ['Warren G. Harding'], 'dates': ['1921', 'July 26,\\n                            1921']}, 'Diplomatic Relations': {'places': ['Persia', 'Kabul', 'Kabul', 'Kabul', 'Kabul', 'Doha'], 'persons': [], 'dates': ['1935', '1942', '1948', '1979', '1989', '2001', '2002', '2021']}, 'Establishment of Diplomatic Relations, 1935.': {'places': ['Persia'], 'persons': [], 'dates': ['1935']}, 'Establishment of U.S. Legation in Afghanistan, 1942.': {'places': ['Kabul'], 'persons': [], 'dates': ['1942']}, 'Elevation of U.S. Legation to Embassy Status, 1948.': {'places': [], 'persons': [], 'dates': ['1948']}, 'Assassination of the U.S. Ambassador, 1979.': {'places': [], 'persons': [], 'dates': ['1979']}, 'Closure of the U.S. Embassy in Afghanistan, 1989.': {'places': ['Kabul'], 'persons': [], 'dates': ['1989']}, 'Establishment of the U.S. Liaison Office in Kabul, 2001.': {'places': ['Kabul'], 'persons': [], 'dates': ['2001']}, 'Re-opening of the U.S. Embassy in Afghanistan, 2002.': {'places': [], 'persons': [], 'dates': ['2002']}, 'Suspension of Embassy Operations in Kabul, 2021.': {'places': ['Kabul', 'Doha'], 'persons': [], 'dates': ['2021']}, 'Resources': {'places': [], 'persons': [], 'dates': []}}}, {'name': 'Albania', 'url': 'https://history.state.gov/countries/albania', 'flag': 'https://static.history.state.gov/countries/albania-flag.jpg', 'infos': {'Summary': {'places': ['Italy', 'Albania'], 'persons': ['Enver Hoxha'], 'dates': []}, 'Recognition': {'places': [], 'persons': [], 'dates': ['1922']}, 'Mutual Recognition, 1922.': {'places': [], 'persons': [], 'dates': ['1922']}, 'Diplomatic Relations': {'places': ['Tirana', 'Tirana'], 'persons': ['Muhamet Kapllani'], 'dates': ['1922', '1939', '1991']}, 'Establishment of Diplomatic Relations, 1922.': {'places': ['Tirana'], 'persons': [], 'dates': ['1922']}, 'Diplomatic Relations Ended and American Legation Closed, 1939.': {'places': ['Tirana'], 'persons': [], 'dates': ['1939']}, 'Diplomatic Relations Reestablished, 1991.': {'places': [], 'persons': ['Muhamet Kapllani'], 'dates': ['1991']}, 'Treaties and Agreements': {'places': [], 'persons': ['Djafer Upi'], 'dates': ['1922', '1945']}, 'Establishment of Most-Favored-Nation Status, 1922.': {'places': [], 'persons': ['Djafer Upi'], 'dates': ['1922']}, 'Establishment of Relief Assistance, 1945.': {'places': [], 'persons': [], 'dates': ['1945']}, 'Resources': {'places': [], 'persons': [], 'dates': []}}}, {'name': 'Algeria', 'url': 'https://history.state.gov/countries/algeria', 'flag': 'https://static.history.state.gov/countries/algeria-flag.jpg', 'infos': {'Summary': {'places': ['Algeria'], 'persons': [], 'dates': []}, 'Recognition': {'places': [], 'persons': ['John Kennedy'], 'dates': ['1795', 'September 5, 1795', '1830-1962', '1962', 'July 1, 1962']}, 'Algerian Recognition of the United States, 1795.': {'places': [], 'persons': [], 'dates': ['1795', 'September 5, 1795']}, 'Algeria under French Control, 1830-1962.': {'places': [], 'persons': [], 'dates': ['1830-1962']}, 'U.S. Recognition of Algerian Independence, 1962.': {'places': [], 'persons': ['John Kennedy'], 'dates': ['1962', 'July 1, 1962']}, 'Consular Presence': {'places': ['Algiers', 'Algiers', 'Instanbul', 'Beni Saf', 'Bejaïa', 'Annaba', 'El Qoll', 'Philippeville', 'Qacentina (Constantine,\\n                                    Cirta)', 'Oran (Ouahran, Wahran', 'Algiers', 'Washington'], 'persons': ['Joel\\n                            Barlow', 'Dey Hassan', 'John\\n                            Paul Jones', 'Pierre Eric Skjöldebrand', 'David Porter', 'George F. Brown', 'William Shaler', 'William J. Porter'], 'dates': ['1796-1962', '1835', 'October 27, 1883', 'April 1904', 'November 1852', '1854', 'July 3,\\n                                    1875', 'December\\n                                    31, 1910', 'June 4, 1943,', 'January 11, 1944', '1882', '1897', 'June\\n                                    10, 1962', 'February\\n                                    1, 1972', '1823', 'December 8, 1864, which closed\\n                                    November 30, 1937', 'February 1943 and was\\n                                    closed May 9, 1946', 'June 11, 1962', 'June 6, 1967', 'August 1968', 'June 1993', '1962', 'September 29, 1962', '1967', 'June 6, 1967', '1974', 'November 12, 1974']}, 'U.S. Consulate at Algiers, 1796-1962,\\n                        with interruptions.': {'places': ['Algiers', 'Algiers', 'Instanbul', 'Beni Saf', 'Bejaïa', 'Annaba', 'El Qoll', 'Philippeville', 'Qacentina (Constantine,\\n                                    Cirta)', 'Oran (Ouahran, Wahran'], 'persons': ['Joel\\n                            Barlow', 'Dey Hassan', 'John\\n                            Paul Jones', 'Pierre Eric Skjöldebrand', 'David Porter', 'George F. Brown', 'William Shaler'], 'dates': ['1796-1962', '1835', 'October 27, 1883', 'April 1904', 'November 1852', '1854', 'July 3,\\n                                    1875', 'December\\n                                    31, 1910', 'June 4, 1943,', 'January 11, 1944', '1882', '1897', 'June\\n                                    10, 1962', 'February\\n                                    1, 1972', '1823', 'December 8, 1864, which closed\\n                                    November 30, 1937', 'February 1943 and was\\n                                    closed May 9, 1946', 'June 11, 1962', 'June 6, 1967', 'August 1968', 'June 1993']}, 'Diplomatic Relations': {'places': ['Algiers', 'Washington'], 'persons': ['William J. Porter'], 'dates': ['1962', 'September 29, 1962', '1967', 'June 6, 1967', '1974', 'November 12, 1974']}, 'Establishment of Diplomatic Relations and the American Embassy at\\n                            Algiers, 1962.': {'places': [], 'persons': ['William J. Porter'], 'dates': ['1962', 'September 29, 1962']}, 'Diplomatic Relations Severed by Algeria, 1967.': {'places': [], 'persons': [], 'dates': ['1967', 'June 6, 1967']}, 'Diplomatic Relations Reestablished and Embassy Reopened, 1974.': {'places': ['Algiers', 'Washington'], 'persons': [], 'dates': ['1974', 'November 12, 1974']}, 'Resources': {'places': [], 'persons': [], 'dates': []}}}, {'name': 'Andorra', 'url': 'https://history.state.gov/countries/andorra', 'flag': 'https://static.history.state.gov/countries/andorran-flag.jpg', 'infos': {'Summary': {'places': ['Andorra', 'Spain', 'Madrid'], 'persons': [], 'dates': []}, 'Recognition': {'places': [], 'persons': [], 'dates': []}, 'U.S. Recognition of Andorra': {'places': [], 'persons': [], 'dates': []}, 'Diplomatic Relations': {'places': ['Barcelona', 'Spain', 'Madrid'], 'persons': ['Juli F. Minoves-Triquell'], 'dates': ['1995', '1996']}, 'Establishment of Diplomatic Relations, 1995.': {'places': ['Barcelona', 'Spain', 'Madrid'], 'persons': [], 'dates': ['1995']}, 'Establishment of Andorran Embassy, 1996.': {'places': [], 'persons': ['Juli F. Minoves-Triquell'], 'dates': ['1996']}, 'Resources': {'places': [], 'persons': [], 'dates': []}}}, {'name': 'Angola', 'url': 'https://history.state.gov/countries/angola', 'flag': 'https://static.history.state.gov/countries/angolan-flag.jpg', 'infos': {'Summary': {'places': ['Angola'], 'persons': [], 'dates': []}, 'Recognition': {'places': [], 'persons': ['Bill Clinton'], 'dates': ['1975', 'November 11,\\n                            1975', 'May 19, 1993']}, 'U.S. Response to Angolan Independence, 1975.': {'places': [], 'persons': ['Bill Clinton'], 'dates': ['1975', 'November 11,\\n                            1975', 'May 19, 1993']}, 'Diplomatic Relations': {'places': ['Luanda'], 'persons': [], 'dates': ['1992', 'January 10, 1992', '1994']}, 'U.S. Liaison Office Established at Luanda, 1992.': {'places': ['Luanda'], 'persons': [], 'dates': ['1992', 'January 10, 1992']}, 'Establishment of Diplomatic Relations and the American Embassy in Angola,\\n                            1994.': {'places': [], 'persons': [], 'dates': ['1994']}, 'Resources': {'places': [], 'persons': [], 'dates': []}}}, {'name': 'Antigua-barbuda', 'url': 'https://history.state.gov/countries/antigua-barbuda', 'flag': 'https://static.history.state.gov/countries/antiguan-flag.jpg', 'infos': {'Summary': {'places': ['Antigua\\n                        and Barbuda', 'U.S. Virgin\\n                        Islands', 'Puerto Rico'], 'persons': [], 'dates': ['1981']}, 'Recognition': {'places': ['St.\\n                            Johns'], 'persons': ['Queen Elizabeth', 'Vere\\n                            Cornwall Bird'], 'dates': ['1981']}, 'U.S. Recognition of Antigua and Barbudan Independence, 1981.': {'places': ['St.\\n                            Johns'], 'persons': ['Queen Elizabeth', 'Vere\\n                            Cornwall Bird'], 'dates': ['1981']}, 'Diplomatic Relations': {'places': ['St. Johns', 'Bridgetown, Barbados.', 'St. Johns', 'Bridgetown'], 'persons': [], 'dates': ['1981', 'November 1, 1981', '1994']}, 'Establishment of Diplomatic Relations and the American Embassy in St.\\n                        Johns, 1981.': {'places': ['St. Johns', 'Bridgetown, Barbados.'], 'persons': [], 'dates': ['1981', 'November 1, 1981']}, 'American Embassy at St. Johns Closed, 1994.': {'places': ['St. Johns', 'Bridgetown'], 'persons': [], 'dates': ['1994']}, 'Resources': {'places': [], 'persons': [], 'dates': []}}}, {'name': 'Argentina', 'url': 'https://history.state.gov/countries/argentina', 'flag': 'https://static.history.state.gov/countries/argentinian-flag.jpg', 'infos': {'Summary': {'places': ['Argentina', 'Buenos\\n                        Aires'], 'persons': [], 'dates': []}, 'Recognition': {'places': ['Buenos Ayres', 'Spain'], 'persons': [], 'dates': ['1823', 'July 9, 1816']}, 'United States Recognition of Buenos Ayres, 1823.': {'places': ['Buenos Ayres', 'Spain'], 'persons': [], 'dates': ['1823', 'July 9, 1816']}, 'Diplomatic Relations': {'places': ['Buenos Aires', 'Parana', 'Buenos Aires', 'Buenos Aires', 'Mexico\\n                            City'], 'persons': ['Pedro Ramirez', 'Edelmiro\\n                            Farrell'], 'dates': ['1823', '1857', '1862', '1914', '1944', '1945']}, 'Establishment of Diplomatic Relations and the American Mission in Buenos\\n                        Ayres, 1823.': {'places': [], 'persons': [], 'dates': ['1823']}, 'American Mission Moved to Parana, 1857.': {'places': ['Buenos Aires', 'Parana'], 'persons': [], 'dates': ['1857']}, 'American Mission Returned to Buenos Aires, 1862.': {'places': ['Buenos Aires'], 'persons': [], 'dates': ['1862']}, 'Elevation of American Legation to Embassy Status, 1914.': {'places': ['Buenos Aires'], 'persons': [], 'dates': ['1914']}, 'Diplomatic Relations Interrupted, 1944.': {'places': [], 'persons': ['Pedro Ramirez', 'Edelmiro\\n                            Farrell'], 'dates': ['1944']}, 'Diplomatic Relations Resumed, 1945.': {'places': ['Mexico\\n                            City'], 'persons': [], 'dates': ['1945']}, 'Resources': {'places': [], 'persons': [], 'dates': []}}}, {'name': 'Armenia', 'url': 'https://history.state.gov/countries/armenia', 'flag': 'https://static.history.state.gov/countries/armenian-flag.jpg', 'infos': {'Summary': {'places': [], 'persons': [], 'dates': []}, 'Recognition': {'places': [], 'persons': ['Pasdermadjian', 'Woodrow Wilson', 'George H.W. Bush'], 'dates': ['1920', 'April 23, 1920', '1991']}, 'U.S. Recognition of the Armenian Republic, 1920.': {'places': [], 'persons': ['Pasdermadjian', 'Woodrow Wilson'], 'dates': ['1920', 'April 23, 1920']}, 'U.S. Recognition of Armenia, 1991.': {'places': [], 'persons': ['George H.W. Bush'], 'dates': ['1991']}, 'Diplomatic Relations': {'places': ['Soviet Union', 'Yerevan'], 'persons': ['George H.W. Bush'], 'dates': ['1991', 'December 25,\\n                            1991', '1992']}, 'Establishment of Diplomatic Relations, 1991.': {'places': ['Soviet Union'], 'persons': ['George H.W. Bush'], 'dates': ['1991', 'December 25,\\n                            1991']}, 'Establishment of the American Embassy in Yerevan, 1992.': {'places': ['Yerevan'], 'persons': [], 'dates': ['1992']}, 'Resources': {'places': [], 'persons': [], 'dates': []}}}, {'name': 'Australia', 'url': 'https://history.state.gov/countries/australia', 'flag': 'https://static.history.state.gov/countries/austrialian-flag.jpg', 'infos': {'Summary': {'places': ['Commonwealth of\\n                    Australia', 'United Kingdom'], 'persons': [], 'dates': ['January 1, 1901']}, 'Recognition': {'places': [], 'persons': [], 'dates': ['1940', 'January 8,\\n                            1940']}, 'U.S. Recognition of Australian Independence, 1940.': {'places': [], 'persons': [], 'dates': ['1940', 'January 8,\\n                            1940']}, 'Diplomatic Relations': {'places': [], 'persons': ['Richard Gardiner Casey', 'Norman J. O. Makin'], 'dates': ['1940', '1940', '1940', '1946']}, 'Establishment of Diplomatic Relations, 1940.': {'places': [], 'persons': [], 'dates': ['1940']}, 'Establishment of the Australian Legation in the United States,\\n                            1940.': {'places': [], 'persons': ['Richard Gardiner Casey'], 'dates': ['1940']}, 'Establishment of the American Legation in Australia,\\n                        1940.': {'places': [], 'persons': [], 'dates': ['1940']}, 'Elevation of Legations to Embassy Status, 1946.': {'places': [], 'persons': ['Norman J. O. Makin'], 'dates': ['1946']}, '70th Anniversary of Establishment of Diplomatic Relations': {'places': [], 'persons': [], 'dates': []}, 'Resources': {'places': [], 'persons': [], 'dates': []}}}, {'name': 'Austria', 'url': 'https://history.state.gov/countries/austria', 'flag': 'https://static.history.state.gov/countries/austria-flag.jpg', 'infos': {'Summary': {'places': [], 'persons': ['Charles I'], 'dates': []}, 'Recognition': {'places': ['Republic of\\n                            Austria', 'Vienna', 'Hungary', 'Czechoslovakia', 'Yugoslavia', 'Poland'], 'persons': ['Woodrow Wilson'], 'dates': ['1921']}, 'U.S. Recognition of Austrian Independence, 1921.': {'places': ['Republic of\\n                            Austria', 'Vienna', 'Hungary', 'Czechoslovakia', 'Yugoslavia', 'Poland'], 'persons': ['Woodrow Wilson'], 'dates': ['1921']}, 'Consular Presence': {'places': ['Germany', 'Vienna', 'Salzburg'], 'persons': [], 'dates': []}, '': {'places': ['Vienna'], 'persons': [], 'dates': []}, 'Diplomatic Relations': {'places': ['Vienna', 'Vienna', 'Vienna', 'Vienna', 'Vienna'], 'persons': ['Edgar L. G. Prochnik', 'Grenville T. Emmett', 'Ludwig Kleinwaechter'], 'dates': ['1921', '1921', '1936-48', '1946', '1951']}, 'Establishment of Diplomatic Relations, 1921.': {'places': ['Vienna'], 'persons': [], 'dates': ['1921']}, 'Establishment of American Legation in Austria 1921.': {'places': [], 'persons': ['Edgar L. G. Prochnik'], 'dates': ['1921']}, 'The Anschluss, Closure of the American Legation in Vienna, and post-World War II Revival of Austrian\\n                        Independence, 1936-48.': {'places': ['Vienna', 'Vienna'], 'persons': ['Grenville T. Emmett'], 'dates': ['1936-48']}, 'Re-establishment of Diplomatic Relations, 1946.': {'places': [], 'persons': ['Ludwig Kleinwaechter'], 'dates': ['1946']}, 'Elevation of American Legation to Embassy Status, 1951.': {'places': [], 'persons': [], 'dates': ['1951']}, 'Other U.S. Diplomatic Missions in Vienna': {'places': [], 'persons': [], 'dates': []}, 'Treaties and Agreements': {'places': ['Vienna', 'Vienna'], 'persons': [], 'dates': []}, 'Key Diplomatic Events': {'places': ['Vienna'], 'persons': [], 'dates': []}, 'Resources': {'places': [], 'persons': [], 'dates': []}}}, {'name': 'Austrian-empire', 'url': 'https://history.state.gov/countries/austrian-empire', 'flag': '', 'infos': {'Summary': {'places': [], 'persons': [], 'dates': ['April 8, 1917']}, 'Recognition': {'places': ['Trieste', 'Vienna', 'Venice', 'Triest', 'Vienna'], 'persons': ['Conrad\\n                            Frederick Wagner', 'John Lamson', 'Francis I', 'William Lee', 'Baron de Mareschal', 'Francis I', 'Lewis, Baron\\n                                de Lederer'], 'dates': ['1797', '1797-1917', '1838', '1838', '1902', '1917']}, 'Austrian Empire Recognition of the United States, 1797.': {'places': ['Trieste', 'Vienna'], 'persons': ['Conrad\\n                            Frederick Wagner', 'John Lamson', 'Francis I', 'William Lee'], 'dates': ['1797']}, 'Consular Presence': {'places': ['Venice', 'Triest'], 'persons': [], 'dates': ['1797-1917']}, 'U.S. Consulates in Venice, Trieste, and Vienna, 1797-1917, with interruptions.': {'places': ['Venice', 'Triest'], 'persons': [], 'dates': ['1797-1917']}, 'Diplomatic Relations': {'places': ['Vienna'], 'persons': ['Baron de Mareschal'], 'dates': ['1838', '1838', '1902', '1917']}, 'Establishment of Diplomatic Relations and the American Legation in\\n                                Vienna, 1838.': {'places': ['Vienna'], 'persons': [], 'dates': ['1838']}, 'Establishment of the Austrian Legation in Washington, 1838.': {'places': [], 'persons': ['Baron de Mareschal'], 'dates': ['1838']}, 'Elevation of American Legation to Embassy Status, 1902.': {'places': [], 'persons': [], 'dates': ['1902']}, 'Termination of Diplomatic Relations, 1917.': {'places': [], 'persons': [], 'dates': ['1917']}, 'Treaties and Agreements': {'places': [], 'persons': ['Francis I', 'Lewis, Baron\\n                                de Lederer'], 'dates': []}, '': {'places': [], 'persons': ['Francis I', 'Lewis, Baron\\n                                de Lederer'], 'dates': []}, 'Resources': {'places': [], 'persons': [], 'dates': []}}}, {'name': 'Azerbaijan', 'url': 'https://history.state.gov/countries/azerbaijan', 'flag': 'https://static.history.state.gov/countries/azerbaijan-flag.jpg', 'infos': {'Summary': {'places': ['Azerbaijan'], 'persons': [], 'dates': []}, 'Recognition': {'places': [], 'persons': ['George H.W. Bush'], 'dates': ['1991']}, 'U.S. Recognition of Azerbaijan, 1991.': {'places': [], 'persons': ['George H.W. Bush'], 'dates': ['1991']}, 'Diplomatic Relations': {'places': ['Baku'], 'persons': [], 'dates': ['1992', '1992']}, 'Establishment of Diplomatic Relations, 1992.': {'places': [], 'persons': [], 'dates': ['1992']}, 'Establishment of the American Embassy in Baku, 1992.': {'places': ['Baku'], 'persons': [], 'dates': ['1992']}, 'Resources': {'places': [], 'persons': [], 'dates': []}}}, {'name': 'Baden', 'url': 'https://history.state.gov/countries/baden', 'flag': '', 'infos': {'Summary': {'places': ['Baden'], 'persons': [], 'dates': []}, 'Recognition': {'places': ['Baden-Baden'], 'persons': [], 'dates': ['1832']}, 'Mutual Recognition, 1832.': {'places': ['Baden-Baden'], 'persons': [], 'dates': ['1832']}, 'Consular Presence': {'places': ['Frieburg', 'Kehl', 'Carlsruhe', 'Mannheim'], 'persons': ['C.F.\\n                            Hoyer'], 'dates': ['July 13, 1832', 'December 20, 1833']}, 'The first U.S. Consulate in the Grand Duchy of Baden was opened on July 13, 1832 in Baden-Baden.': {'places': ['Frieburg', 'Kehl', 'Carlsruhe', 'Mannheim'], 'persons': [], 'dates': ['July 13, 1832']}, 'The first Consulate of the Grand Duchy of Baden, December 20, 1833.': {'places': [], 'persons': ['C.F.\\n                            Hoyer'], 'dates': ['December 20, 1833']}, 'Diplomatic Relations': {'places': [], 'persons': ['George\\n                            Bancroft', 'Rudolph von Freydorf', 'Woodrow Wilson'], 'dates': ['1868', '1917']}, 'Expansion of Relations, 1868.': {'places': [], 'persons': ['George\\n                            Bancroft', 'Rudolph von Freydorf'], 'dates': ['1868']}, 'Cessation of Relations, 1917.': {'places': [], 'persons': ['Woodrow Wilson'], 'dates': ['1917']}, 'Treaties and Agreements': {'places': [], 'persons': ['Peter D. Vroom', 'Baron Marschall de\\n                            Bieberstein'], 'dates': ['1857', '1868']}, 'Extradition Convention, 1857.': {'places': [], 'persons': ['Peter D. Vroom', 'Baron Marschall de\\n                            Bieberstein'], 'dates': ['1857']}, 'Treaty on Naturalization, 1868.': {'places': [], 'persons': [], 'dates': ['1868']}, 'Key Diplomatic Events': {'places': [], 'persons': [], 'dates': ['1871']}, 'Baden Joins the German Empire, 1871.': {'places': [], 'persons': [], 'dates': ['1871']}, 'German Unification.': {'places': [], 'persons': [], 'dates': []}, 'Issues Relevant to U.S. Foreign Diplomacy': {'places': [], 'persons': [], 'dates': []}, 'The Second Reich, Trade, Citizenship, and Extradition.': {'places': [], 'persons': [], 'dates': []}, 'Resources': {'places': [], 'persons': [], 'dates': []}}}, {'name': 'Bahamas', 'url': 'https://history.state.gov/countries/bahamas', 'flag': 'https://static.history.state.gov/countries/bahamian-flag.jpg', 'infos': {'Summary': {'places': [], 'persons': [], 'dates': []}, 'Recognition': {'places': ['Nassau'], 'persons': [], 'dates': ['1973']}, 'U.S. Recognition of Bahamanian Independence, 1973.': {'places': ['Nassau'], 'persons': [], 'dates': ['1973']}, 'Diplomatic Relations': {'places': [], 'persons': [], 'dates': ['1973']}, 'Establishment of Diplomatic Relations and the American Embassy in Nassau,\\n                            1973.': {'places': [], 'persons': [], 'dates': ['1973']}, 'Resources': {'places': [], 'persons': [], 'dates': []}}}, {'name': 'Bahrain', 'url': 'https://history.state.gov/countries/bahrain', 'flag': 'https://static.history.state.gov/countries/bahrain-flag.jpg', 'infos': {'Summary': {'places': [], 'persons': [], 'dates': []}, 'Recognition': {'places': ['Manama'], 'persons': ['William A. Soltzfus, Jr.\\n                            '], 'dates': ['1971', '1971', '1974']}, 'U.S. Recognition of Bahraini Independence, 1971.': {'places': [], 'persons': [], 'dates': ['1971']}, 'Diplomatic Relations': {'places': ['Manama'], 'persons': ['William A. Soltzfus, Jr.\\n                            '], 'dates': ['1971', '1974']}, 'Establishment of Diplomatic Relationsand the American Embassy in\\n                            Bahrain, 1971.': {'places': [], 'persons': ['William A. Soltzfus, Jr.\\n                            '], 'dates': ['1971']}, 'Installation of American Ambassador at Manama, 1974.': {'places': ['Manama'], 'persons': [], 'dates': ['1974']}, 'Resources': {'places': [], 'persons': [], 'dates': []}}}, {'name': 'Bangladesh', 'url': 'https://history.state.gov/countries/bangladesh', 'flag': 'https://static.history.state.gov/countries/bangladesh.jpg', 'infos': {'Summary': {'places': ['Bangladesh', 'Pakistan'], 'persons': [], 'dates': []}, 'Recognition': {'places': ['Pakistan'], 'persons': ['Richard Nixon', 'Mujibur Rahman'], 'dates': ['1972']}, 'U.S. Recognition of Bangladeshi Independence, 1972.': {'places': ['Pakistan'], 'persons': ['Richard Nixon', 'Mujibur Rahman'], 'dates': ['1972']}, 'Consular Relations': {'places': ['Dhaka'], 'persons': [], 'dates': ['1949']}, 'Establishment of Consular Relations, 1949.': {'places': ['Dhaka'], 'persons': [], 'dates': ['1949']}, 'History of Diplomatic Relations': {'places': ['Dhaka'], 'persons': [], 'dates': ['1972']}, 'Establishment of Diplomatic Relations and the American Embassy at Dhaka,\\n                            1972.': {'places': ['Dhaka'], 'persons': [], 'dates': ['1972']}, 'Resources': {'places': [], 'persons': [], 'dates': []}}}, {'name': 'Barbados', 'url': 'https://history.state.gov/countries/barbados', 'flag': 'https://static.history.state.gov/countries/barbados-flag.jpg', 'infos': {'Summary': {'places': ['Bridgetown'], 'persons': [], 'dates': []}, 'Recognition': {'places': ['Bridgetown.', 'Bridgetown'], 'persons': [], 'dates': ['1966', '1966']}, 'U.S. Recognition of Barbados’ Independence, 1966.': {'places': ['Bridgetown.'], 'persons': [], 'dates': ['1966']}, 'Diplomatic Relations': {'places': ['Bridgetown'], 'persons': [], 'dates': ['1966']}, 'Establishment of Diplomatic Relations and the American Embassy in\\n                            Barbados, 1966.': {'places': ['Bridgetown'], 'persons': [], 'dates': ['1966']}, 'Resources': {'places': [], 'persons': [], 'dates': []}}}, {'name': 'Bavaria', 'url': 'https://history.state.gov/countries/bavaria', 'flag': '', 'infos': {'Summary': {'places': [' Bavaria'], 'persons': [], 'dates': []}, 'Recognition': {'places': ['Munich'], 'persons': ['Robert de Ruedorffer'], 'dates': ['1833']}, 'Mutual Recognition, 1833.': {'places': ['Munich'], 'persons': ['Robert de Ruedorffer'], 'dates': ['1833']}, 'Consular Presence': {'places': ['Augsburg', 'Rhenish', 'Nuremberg', 'Bamberg'], 'persons': [], 'dates': ['1833']}, 'The first U.S. Consulate in the Kingdom of Bavaria was opened in 1833.': {'places': ['Augsburg', 'Rhenish', 'Nuremberg', 'Bamberg'], 'persons': [], 'dates': ['1833']}, 'Diplomatic Relations': {'places': [], 'persons': ['George Bancroft', 'Woodrow Wilson'], 'dates': ['1868', '1917']}, 'Expansion of Relations, 1868.': {'places': [], 'persons': ['George Bancroft'], 'dates': ['1868']}, 'Cessation of Relations, 1917.': {'places': [], 'persons': ['Woodrow Wilson'], 'dates': ['1917']}, 'Treaties and Agreements': {'places': [], 'persons': ['James Buchanan', 'Augustus\\n                            Baron de Cetto', 'George Bancroft', 'Dr. Otto, Baron of Völderndorff'], 'dates': ['1845', '1853', '1868']}, 'Convention Abolishing Droit D’Aubaine and Taxes on Emigration, 1845.': {'places': [], 'persons': [], 'dates': ['1845']}, 'Extradition Convention, 1853.': {'places': [], 'persons': ['James Buchanan', 'Augustus\\n                            Baron de Cetto'], 'dates': ['1853']}, 'Naturalization Treaty, 1868.': {'places': [], 'persons': ['George Bancroft', 'Dr. Otto, Baron of Völderndorff'], 'dates': ['1868']}, 'Key Diplomatic Events': {'places': [], 'persons': [], 'dates': ['1871']}, 'Bavaria Joins the German Empire, 1871.': {'places': [], 'persons': [], 'dates': ['1871']}, 'German Unification.': {'places': [], 'persons': [], 'dates': []}, 'Issues Relevant to U.S. Foreign Diplomacy': {'places': [], 'persons': [], 'dates': []}, 'The Second Reich, Trade, Citizenship, and Extradition.': {'places': [], 'persons': [], 'dates': []}, 'Resources': {'places': [], 'persons': [], 'dates': []}}}, {'name': 'Belarus', 'url': 'https://history.state.gov/countries/belarus', 'flag': 'https://static.history.state.gov/countries/belarus_flag.jpg', 'infos': {'Summary': {'places': [], 'persons': ['Alexander Lukashenko'], 'dates': []}, 'Recognition': {'places': ['Belarus', 'Soviet Union'], 'persons': ['George H.W. Bush'], 'dates': ['1991']}, 'U.S. Recognition of Belarus, 1991.': {'places': ['Belarus', 'Soviet Union'], 'persons': ['George H.W. Bush'], 'dates': ['1991']}, 'Diplomatic Relations': {'places': ['Minsk', 'Minsk'], 'persons': ['George H.W. Bush', 'John Ford'], 'dates': ['1991', '1992']}, 'Establishment of Diplomatic Relations, 1991.': {'places': [], 'persons': ['George H.W. Bush'], 'dates': ['1991']}, 'Establishment of the American Embassy in Minsk, 1992.': {'places': ['Minsk'], 'persons': ['John Ford'], 'dates': ['1992']}, 'American Ambassador Recalled, 2008.': {'places': ['Minsk'], 'persons': [], 'dates': []}, 'Resources': {'places': [], 'persons': [], 'dates': []}}}, {'name': 'Belgium', 'url': 'https://history.state.gov/countries/belgium', 'flag': 'https://static.history.state.gov/countries/belgium.jpg', 'infos': {'Summary': {'places': ['Kingdom of Belgiu', 'Kingdom of the Netherlands'], 'persons': [], 'dates': []}, 'Recognition': {'places': [], 'persons': [], 'dates': ['1832']}, 'U.S. Recognition of Belgium Independence, 1832.': {'places': [], 'persons': [], 'dates': ['1832']}, 'History of Diplomatic Relations': {'places': ['Brussels'], 'persons': ['Baron\\n                            D. Behr'], 'dates': ['1832', '1832', '1919', '1940', '1944']}, 'Establishment of Diplomatic Relations, 1832.': {'places': [], 'persons': ['Baron\\n                            D. Behr'], 'dates': ['1832']}, 'Establishment of the U.S. Legation in Belgium, 1832.': {'places': ['Brussels'], 'persons': [], 'dates': ['1832']}, 'Elevation of Legation to Embassy, 1919.': {'places': [], 'persons': [], 'dates': ['1919']}, 'Closure of Embassy, 1940.': {'places': [], 'persons': [], 'dates': ['1940']}, 'Embassy in Brussels Reopened, 1944.': {'places': [], 'persons': [], 'dates': ['1944']}, 'Resources': {'places': [], 'persons': [], 'dates': []}}}, {'name': 'Belize', 'url': 'https://history.state.gov/countries/belize', 'flag': 'https://static.history.state.gov/countries/belize-flag.jpg', 'infos': {'Summary': {'places': ['Guatemala', 'Spain', 'Great Britain'], 'persons': [], 'dates': ['March 3, 1847']}, 'Recognition': {'places': ['Belize City', 'Belmopan'], 'persons': [], 'dates': ['1981', 'October 29, 1981', '1981', '2006']}, 'U.S. Recognition of Belizean Independence, 1981.': {'places': [], 'persons': [], 'dates': ['1981', 'October 29, 1981']}, 'Diplomatic Relations': {'places': ['Belize City', 'Belmopan'], 'persons': [], 'dates': ['1981', '2006']}, 'Establishment of Diplomatic Relations and the American Embassy in\\n                            Belize, 1981.': {'places': [], 'persons': [], 'dates': ['1981']}, 'Embassy Moved to Belmopan, 2006.': {'places': ['Belize City', 'Belmopan'], 'persons': [], 'dates': ['2006']}, 'Resources': {'places': [], 'persons': [], 'dates': []}}}, {'name': 'Benin', 'url': 'https://history.state.gov/countries/benin', 'flag': 'https://static.history.state.gov/countries/benin-flag.jpg', 'infos': {'Summary': {'places': ['Republic of Dahomey'], 'persons': ['Dwight D.\\n                        Eisenhower'], 'dates': []}, 'Recognition': {'places': ['Republic of Dahomey'], 'persons': ['Dwight D. Eisenhower'], 'dates': ['1960']}, 'U.S. Recognition of Dahomey’s Independence, 1960.': {'places': ['Republic of Dahomey'], 'persons': ['Dwight D. Eisenhower'], 'dates': ['1960']}, 'Diplomatic Relations': {'places': ['Cotonou'], 'persons': [], 'dates': ['1960', '1961']}, 'Establishment of Diplomatic Relations, 1960.': {'places': [], 'persons': [], 'dates': ['1960']}, 'Establishment of American Embassy, 1961.': {'places': ['Cotonou'], 'persons': [], 'dates': ['1961']}, 'Resources': {'places': [], 'persons': [], 'dates': []}}}, {'name': 'Bolivia', 'url': 'https://history.state.gov/countries/bolivia', 'flag': 'https://static.history.state.gov/countries/bolivia-flag.jpg', 'infos': {'Summary': {'places': [], 'persons': [], 'dates': ['August 6,\\n                        1825', 'May 30, 1848']}, 'Recognition': {'places': [], 'persons': ['John Appleton'], 'dates': ['1848']}, 'U.S. Recognition of Bolivian Independence, 1848.': {'places': [], 'persons': ['John Appleton'], 'dates': ['1848']}, 'Diplomatic Relations': {'places': ['La Paz'], 'persons': ['John Appleton', 'John Appleton', 'Señor Dr. Don Luis\\n                            Fernando Guachalla'], 'dates': ['1849', '1849', 'January 3, 1849', '1942']}, 'Establishment of Diplomatic Relations, 1849.': {'places': [], 'persons': ['John Appleton'], 'dates': ['1849']}, 'Establishment of the American Legation in La Paz, 1849.': {'places': ['La Paz'], 'persons': ['John Appleton'], 'dates': ['1849', 'January 3, 1849']}, 'Elevation of American Legation to Embassy Status, 1942.': {'places': [], 'persons': ['Señor Dr. Don Luis\\n                            Fernando Guachalla'], 'dates': ['1942']}, 'Resources': {'places': [], 'persons': [], 'dates': []}}}, {'name': 'Bosnia-herzegovina', 'url': 'https://history.state.gov/countries/bosnia-herzegovina', 'flag': 'https://static.history.state.gov/countries/bosnia-flag.jpg', 'infos': {'Summary': {'places': ['Yugoslavia'], 'persons': ['George H.W.\\n                        Bush'], 'dates': ['April 7, 1992']}, 'Recognition': {'places': [], 'persons': ['George H.W. Bush'], 'dates': ['1992']}, 'U.S. Recognition of Bosnia and Herzegovina, 1992.': {'places': [], 'persons': ['George H.W. Bush'], 'dates': ['1992']}, 'Diplomatic Relations': {'places': ['Sarajevo'], 'persons': [], 'dates': ['1992']}, 'Establishment of Diplomatic Relations, 1992.': {'places': [], 'persons': [], 'dates': []}, 'Establishment of the American Embassy in Bosnia and Herzegovina, 1992.': {'places': ['Sarajevo'], 'persons': [], 'dates': ['1992']}, 'Resources': {'places': [], 'persons': [], 'dates': []}}}, {'name': 'Botswana', 'url': 'https://history.state.gov/countries/botswana', 'flag': 'https://static.history.state.gov/countries/botswana-flag.jpg', 'infos': {'Summary': {'places': ['Botswana', 'Gaberones'], 'persons': [], 'dates': ['September 30, 1966']}, 'Recognition': {'places': ['Botswana'], 'persons': [], 'dates': ['1966']}, 'U.S. Recognition of Botswana’s Independence, 1966.': {'places': ['Botswana'], 'persons': [], 'dates': ['1966']}, 'Diplomatic Relations': {'places': ['Gaberones'], 'persons': [], 'dates': ['1966']}, 'Establishment of Diplomatic Relations and the American Embassy in\\n                        Botswana, 1966.': {'places': ['Gaberones'], 'persons': [], 'dates': ['1966']}, 'Resources': {'places': [], 'persons': [], 'dates': []}}}, {'name': 'Brazil', 'url': 'https://history.state.gov/countries/brazil', 'flag': 'https://static.history.state.gov/countries/brazil-flag.jpg', 'infos': {'Summary': {'places': ['Brazil', 'Pernambuco', 'Rio de Janeiro', 'Rio de Janeiro'], 'persons': ['James Monroe', 'José\\n                                Silvestre Rebello', 'James Monroe', 'José Silvestre Rebello'], 'dates': ['1824', '1824', '1825', '1905']}, 'Recognition': {'places': [], 'persons': ['James Monroe', 'José\\n                                Silvestre Rebello'], 'dates': ['1824']}, 'U.S. Recognition of Brazilian Independence, 1824.': {'places': [], 'persons': ['James Monroe', 'José\\n                                Silvestre Rebello'], 'dates': ['1824']}, 'Diplomatic Relations': {'places': ['Rio de Janeiro'], 'persons': ['James Monroe', 'José Silvestre Rebello'], 'dates': ['1824', '1825', '1905']}, 'Establishment of Diplomatic Relations, 1824.': {'places': [], 'persons': ['James Monroe', 'José Silvestre Rebello'], 'dates': ['1824']}, 'Establishment of the U.S. Legation in Brazil, 1825.': {'places': ['Rio de Janeiro'], 'persons': [], 'dates': ['1825']}, 'Elevation of American Legation to Embassy Status, 1905.': {'places': [], 'persons': [], 'dates': ['1905']}, 'Resources': {'places': [], 'persons': [], 'dates': []}}}, {'name': 'Brunei', 'url': 'https://history.state.gov/countries/brunei', 'flag': 'https://static.history.state.gov/countries/brunei-flag.jpg', 'infos': {'Summary': {'places': ['Bandar Seri\\n                                Begawan', '“Brunei, Borneo”'], 'persons': ['C. Lees Moses'], 'dates': ['1984', '1865', '1984']}, 'Recognition': {'places': ['Bandar Seri\\n                                Begawan'], 'persons': [], 'dates': ['1984']}, 'U.S. Recognition of Brunei Darussalami Independence, 1984.': {'places': ['Bandar Seri\\n                                Begawan'], 'persons': [], 'dates': ['1984']}, 'Consular Presence': {'places': ['“Brunei, Borneo”'], 'persons': ['C. Lees Moses'], 'dates': ['1865']}, 'Establishment of Consulate in Brunei, 1865.': {'places': ['“Brunei, Borneo”'], 'persons': ['C. Lees Moses'], 'dates': ['1865']}, 'Diplomatic Relations': {'places': [], 'persons': [], 'dates': ['1984']}, 'Establishment of Diplomatic Relations and the American Embassy in\\n                            Brunei, 1984.': {'places': [], 'persons': [], 'dates': ['1984']}, 'Treaties & Agreements': {'places': [], 'persons': [], 'dates': ['1850']}, 'Establishment of the Treaty of Peace, Friendship, Commerce and Navigation,\\n                            1850.': {'places': [], 'persons': [], 'dates': ['1850']}, 'Resources': {'places': [], 'persons': [], 'dates': []}}}, {'name': 'Brunswick-luneburg', 'url': 'https://history.state.gov/countries/brunswick-luneburg', 'flag': '', 'infos': {'Summary': {'places': ['Brunswick and Lüneburg', 'North\\n                        German Confederation', 'Berlin'], 'persons': [], 'dates': []}, 'Recognition': {'places': [], 'persons': ['John Dreyer Esq.'], 'dates': ['1848']}, 'Mutual Recognition, 1848.': {'places': [], 'persons': ['John Dreyer Esq.'], 'dates': ['1848']}, 'Consular Presence': {'places': [], 'persons': [], 'dates': ['March 17, 1856']}, 'Consulate opened in the Duchy of Brunswick and Luneburg, March 17, 1856.': {'places': [], 'persons': [], 'dates': ['March 17, 1856']}, 'Diplomatic Relations': {'places': [], 'persons': ['Julius Samson'], 'dates': ['1854', '1867', '1871']}, 'Establishment of Diplomatic Relations.': {'places': [], 'persons': [], 'dates': []}, 'Treaties and Agreements': {'places': [], 'persons': ['Julius Samson'], 'dates': ['1854']}, 'Convention Respecting the Disposition of Property, 1854.': {'places': [], 'persons': ['Julius Samson'], 'dates': ['1854']}, 'Key Diplomatic Events': {'places': [], 'persons': [], 'dates': ['1867', '1871']}, 'Brunswick and Lüneburg Join the North German Confederation, 1867.': {'places': [], 'persons': [], 'dates': ['1867']}, 'German Empire, 1871.': {'places': [], 'persons': [], 'dates': ['1871']}, 'German Unification.': {'places': [], 'persons': [], 'dates': []}, 'Resources': {'places': [], 'persons': [], 'dates': []}}}, {'name': 'Bulgaria', 'url': 'https://history.state.gov/countries/bulgaria', 'flag': 'https://static.history.state.gov/countries/bulgarian-flag.jpg', 'infos': {'Summary': {'places': [], 'persons': [], 'dates': []}, 'Recognition': {'places': [], 'persons': [], 'dates': ['1909', 'October 5,\\n                            1908', 'May 3, 1909']}, 'U.S. Recognition of Bulgarian Independence, 1909.': {'places': [], 'persons': [], 'dates': ['1909', 'October 5,\\n                            1908', 'May 3, 1909']}, 'Consular Presence': {'places': ['Sofia'], 'persons': [], 'dates': []}, '': {'places': [], 'persons': [], 'dates': []}, 'Diplomatic Relations': {'places': [], 'persons': ['Horace G.\\n                            Knowles', 'Stefan Panaretov', 'Franklin D. Roosevelt', 'Stoyan Athanassov', 'Nissim\\n                            Mevorah', 'Peter Voutov', 'Luben Guerassimov', 'John B. Jackson'], 'dates': ['1903', '1914', '1919', '1941', '1947', '1947', '1950', '1959-1960', '1960', '1966', '1966', '1906']}, 'Establishment of Diplomatic Relations, 1903.': {'places': [], 'persons': ['Horace G.\\n                            Knowles'], 'dates': ['1903']}, 'Establishment of Bulgarian Legation in the United States, 1914.': {'places': [], 'persons': ['Stefan Panaretov'], 'dates': ['1914']}, 'Establishment of American Legation in Sofia, 1919.': {'places': [], 'persons': [], 'dates': ['1919']}, 'Diplomatic Relations Severed, 1941.': {'places': [], 'persons': ['Franklin D. Roosevelt'], 'dates': ['1941']}, 'Diplomatic Relations Resumed and American Legation Reopened, 1947.': {'places': [], 'persons': [], 'dates': ['1947']}, 'Bulgarian Legation in the United States Reopened, 1947.': {'places': [], 'persons': ['Stoyan Athanassov', 'Nissim\\n                            Mevorah'], 'dates': ['1947']}, 'Diplomatic Relations Severed by Bulgaria, 1950.': {'places': [], 'persons': [], 'dates': ['1950']}, 'Diplomatic Relations Reestablished and American Legation Reopened, 1959-1960.': {'places': [], 'persons': [], 'dates': ['1959-1960']}, 'Bulgarian Legation in the United States Reopened, 1960.': {'places': [], 'persons': ['Peter Voutov'], 'dates': ['1960']}, 'Elevation of America Legation to Embassy Status, 1966.': {'places': [], 'persons': [], 'dates': ['1966']}, 'Bulgarian Legation Raised to Embassy Status, 1966.': {'places': [], 'persons': ['Luben Guerassimov'], 'dates': ['1966']}, 'Treaties and Agreements': {'places': [], 'persons': ['John B. Jackson'], 'dates': ['1906']}, 'Most-Favored-Nation Status, 1906.': {'places': [], 'persons': ['John B. Jackson'], 'dates': ['1906']}, 'Key Diplomatic Events': {'places': [], 'persons': [], 'dates': []}, 'Resources': {'places': [], 'persons': [], 'dates': []}}}, {'name': 'Burkina-faso', 'url': 'https://history.state.gov/countries/burkina-faso', 'flag': 'https://static.history.state.gov/countries/burkinafaso-flag.jpg', 'infos': {'Summary': {'places': [], 'persons': ['Dwight D. Eisenhower', 'Maurice Yameog'], 'dates': []}, 'Recognition': {'places': ['Burkina Faso'], 'persons': ['Dwight D.\\n                            Eisenhower'], 'dates': ['1960']}, 'U.S. Recognition of Upper Volta, 1960.': {'places': ['Burkina Faso'], 'persons': ['Dwight D.\\n                            Eisenhower'], 'dates': ['1960']}, 'Diplomatic Relations': {'places': ['Ouagadougou'], 'persons': [], 'dates': ['1960', '1960']}, 'Establishment of Diplomatic Relations, 1960.': {'places': [], 'persons': [], 'dates': ['1960']}, 'Establishment of the American Embassy in Upper Volta, 1960.': {'places': ['Ouagadougou'], 'persons': [], 'dates': ['1960']}, 'Resources': {'places': [], 'persons': [], 'dates': []}}}, {'name': 'Burma', 'url': 'https://history.state.gov/countries/burma', 'flag': 'https://static.history.state.gov/countries/burmese-flag.jpg', 'infos': {'Summary': {'places': [], 'persons': [], 'dates': []}, 'Recognition': {'places': [], 'persons': ['Harry S.\\n                            Truman', 'Sao Shwe Thaike'], 'dates': ['1948']}, 'U.S. Recognition of Burmese Independence, 1948.': {'places': [], 'persons': ['Harry S.\\n                            Truman', 'Sao Shwe Thaike'], 'dates': ['1948']}, 'Diplomatic Relations': {'places': ['Rangoon'], 'persons': [], 'dates': ['1947']}, 'Establishment of Diplomatic Relations and the American Embassy in Burma,\\n                            1947.': {'places': ['Rangoon'], 'persons': [], 'dates': ['1947']}, 'Resources': {'places': [], 'persons': [], 'dates': []}}}, {'name': 'Burundi', 'url': 'https://history.state.gov/countries/burundi', 'flag': 'https://static.history.state.gov/countries/burundi.jpg', 'infos': {'Summary': {'places': ['Kingdom of Burundi'], 'persons': ['John F.\\n                        Kennedy', 'Mwami\\n                        Mwambutsa IV'], 'dates': []}, 'Recognition': {'places': ['Kingdom of Burundi'], 'persons': ['John F. Kennedy', 'Mwami Mwambutsa'], 'dates': ['1962']}, 'U.S. Recognition of Burundi, 1962.': {'places': ['Kingdom of Burundi'], 'persons': ['John F. Kennedy', 'Mwami Mwambutsa'], 'dates': ['1962']}, 'Diplomatic Relations': {'places': ['Usumbura'], 'persons': [], 'dates': ['1962']}, 'Establishment of Diplomatic Relations and the American Embassy in Burundi,\\n                            1962.': {'places': ['Usumbura'], 'persons': [], 'dates': ['1962']}, 'Resources': {'places': [], 'persons': [], 'dates': []}}}, {'name': 'Cape-verde', 'url': 'https://history.state.gov/countries/cape-verde', 'flag': 'https://static.history.state.gov/countries/cape-verde-flag.jpg', 'infos': {'Summary': {'places': [], 'persons': ['Gerald R. Ford', 'Aristides Pereria'], 'dates': []}, 'Recognition': {'places': [], 'persons': ['Gerald R. Ford', 'Aristides Pereria'], 'dates': ['1975']}, 'U.S. Recognition of Cape Verde, 1975.': {'places': [], 'persons': ['Gerald R. Ford', 'Aristides Pereria'], 'dates': ['1975']}, 'Diplomatic Relations': {'places': ['Praia'], 'persons': ['Raul Querido Varela', 'Gerald R.\\n                        Ford'], 'dates': ['1975', '1976', '1978']}, 'Establishment of Diplomatic Relations, 1975.': {'places': [], 'persons': ['Raul Querido Varela', 'Gerald R.\\n                        Ford'], 'dates': ['1975']}, 'Accreditation of American Ambassador to Cape Verde, 1976.': {'places': [], 'persons': [], 'dates': ['1976']}, 'Establishment of American Embassy in Cape Verde, 1978.': {'places': ['Praia'], 'persons': [], 'dates': ['1978']}, 'Resources': {'places': [], 'persons': [], 'dates': []}}}, {'name': 'Cambodia', 'url': 'https://history.state.gov/countries/cambodia', 'flag': 'https://static.history.state.gov/countries/cambodian-flag.jpg', 'infos': {'Summary': {'places': [], 'persons': [], 'dates': []}, 'Recognition': {'places': [], 'persons': [], 'dates': ['1950', 'February 7, 1950']}, 'U.S. Recognition of Cambodian Independence, 1950.': {'places': [], 'persons': [], 'dates': ['1950', 'February 7, 1950']}, 'Diplomatic Relations': {'places': ['Saigon', 'Phnom Penh', 'South Vietnam', 'Phnom\\n                            Pehn'], 'persons': ['Gerald Ford'], 'dates': ['1950', '1950', '1952', '1965', '1969', '1969', '1975', '1991', '1994']}, 'Establishment of Diplomatic Relations, 1950.': {'places': ['Saigon'], 'persons': [], 'dates': ['1950']}, 'Establishment of the American Legation in Cambodia, 1950.': {'places': ['Phnom Penh'], 'persons': [], 'dates': ['1950']}, 'Elevation of Status of Legation in Phnom Penh to Embassy, 1952.': {'places': [], 'persons': [], 'dates': ['1952']}, 'Diplomatic Relations Severed, 1965.': {'places': ['South Vietnam'], 'persons': [], 'dates': ['1965']}, 'Diplomatic Relations Reestablished, 1969.': {'places': [], 'persons': [], 'dates': ['1969']}, 'American Embassy in Cambodia Reopened, 1969.': {'places': [], 'persons': [], 'dates': ['1969']}, 'U.S. Embassy Closed and Normal Relations Interrupted, 1975.': {'places': [], 'persons': ['Gerald Ford'], 'dates': ['1975']}, 'Establishment of U.S. Mission in Phnom Penh, 1991.': {'places': [], 'persons': [], 'dates': ['1991']}, 'U.S. Embassy in Phnom Penh Reestablished and Normal Relations Resumed,\\n                            1994.': {'places': ['Phnom\\n                            Pehn'], 'persons': [], 'dates': ['1994']}, 'Resources': {'places': [], 'persons': [], 'dates': []}}}, {'name': 'Cameroon', 'url': 'https://history.state.gov/countries/cameroon', 'flag': 'https://static.history.state.gov/countries/cameroon-flag.jpg', 'infos': {'Summary': {'places': [], 'persons': [], 'dates': []}, 'Recognition': {'places': [], 'persons': [], 'dates': ['1960']}, 'U.S. Recognition of Cameroon, 1960.': {'places': [], 'persons': [], 'dates': ['1960']}, 'Diplomatic Relations': {'places': ['Yaounde'], 'persons': ['Bolard More'], 'dates': ['1960']}, 'Establishment of Diplomatic Relations and the American Embassy in\\n                        Cameroon, 1960.': {'places': ['Yaounde'], 'persons': ['Bolard More'], 'dates': ['1960']}, 'Resources': {'places': [], 'persons': [], 'dates': []}}}, {'name': 'Canada', 'url': 'https://history.state.gov/countries/canada', 'flag': 'https://static.history.state.gov/countries/canada-flag.jpg', 'infos': {'Summary': {'places': [], 'persons': [], 'dates': []}, 'Recognition': {'places': [], 'persons': ['Vincent Massey'], 'dates': ['1927', 'February 18,\\n                            1927']}, 'U.S. Recognition of Canadian Independence, 1927.': {'places': [], 'persons': ['Vincent Massey'], 'dates': ['1927', 'February 18,\\n                            1927']}, 'Diplomatic Relations': {'places': ['Ottawa'], 'persons': ['Vincent Massey'], 'dates': ['1927', '1927', '1943']}, 'Establishment of Diplomatic Relations, 1927.': {'places': [], 'persons': ['Vincent Massey'], 'dates': ['1927']}, 'Establishment of American Legation in Ottawa, 1927.': {'places': ['Ottawa'], 'persons': [], 'dates': ['1927']}, 'Elevation of Legation to Embassy Status, 1943.': {'places': [], 'persons': [], 'dates': ['1943']}, 'Resources': {'places': [], 'persons': [], 'dates': []}}}, {'name': 'Cayman-islands', 'url': 'https://history.state.gov/countries/cayman-islands', 'flag': 'https://static.history.state.gov/countries/cayman-islands-flag.jpg', 'infos': {'Historical Overview': {'places': [], 'persons': [], 'dates': []}, 'Foreign Relations': {'places': [], 'persons': [], 'dates': []}}}, {'name': 'Central-african-republic', 'url': 'https://history.state.gov/countries/central-african-republic', 'flag': 'https://static.history.state.gov/countries/central-african-flag.jpg', 'infos': {'Summary': {'places': [], 'persons': ['Dwight D.\\n                        Eisenhower', 'David\\n                    Dacko'], 'dates': []}, 'Recognition': {'places': [], 'persons': ['Dwight D.\\n                            Eisenhower', 'David\\n                        Dacko'], 'dates': ['1960']}, 'U.S. Recognition of Central African Republican Independence, 1960.': {'places': [], 'persons': ['Dwight D.\\n                            Eisenhower', 'David\\n                        Dacko'], 'dates': ['1960']}, 'Diplomatic Relations': {'places': ['Bangui'], 'persons': [], 'dates': ['1960', '1961']}, 'Establishment of Diplomatic Relations, 1960.': {'places': [], 'persons': [], 'dates': ['1960']}, 'Establishment of the American Embassy in the Central African Republic,\\n                            1961.': {'places': ['Bangui'], 'persons': [], 'dates': ['1961']}, 'Resources': {'places': [], 'persons': [], 'dates': []}}}, {'name': 'Central-american-federation', 'url': 'https://history.state.gov/countries/central-american-federation', 'flag': '', 'infos': {'Summary': {'places': [], 'persons': [], 'dates': []}, 'Recognition': {'places': [], 'persons': [], 'dates': ['1824']}, 'U.S. Recognition of the Federation of the Centre of America’s\\n                        Independence, 1824.': {'places': [], 'persons': [], 'dates': ['1824']}, 'Diplomatic Relations': {'places': [], 'persons': [], 'dates': []}, 'Establishment of Diplomatic Relations, 1824.': {'places': [], 'persons': [], 'dates': []}, 'Establishment of the American Legation in Guatemala City, 1826.': {'places': [], 'persons': [], 'dates': []}, 'Cessation of Relations, 1838-40.': {'places': [], 'persons': [], 'dates': []}, 'Treaties and Agreements': {'places': [], 'persons': [], 'dates': []}, 'Treaty of Peace, Amity, Commerce, and Navigation, 1825.': {'places': [], 'persons': [], 'dates': []}, 'Resources': {'places': [], 'persons': [], 'dates': []}}}, {'name': 'Chad', 'url': 'https://history.state.gov/countries/chad', 'flag': 'https://static.history.state.gov/countries/chad-flag.jpg', 'infos': {'Summary': {'places': [], 'persons': ['Dwight D. Eisenhower', ' Tombalbaye'], 'dates': []}, 'Recognition': {'places': ['French Equatorial\\n                            Africa'], 'persons': ['Dwight D.\\n                            Eisenhower', 'Tombalbaye'], 'dates': ['1960']}, 'U.S. Recognition of Chad’s Independence, 1960.': {'places': ['French Equatorial\\n                            Africa'], 'persons': ['Dwight D.\\n                            Eisenhower', 'Tombalbaye'], 'dates': ['1960']}, 'Diplomatic Relations': {'places': ['Brazzaville', 'Fort Lamy', 'N’Djamena'], 'persons': [], 'dates': ['1960', '1961', '1980', '1982']}, 'Establishment of Diplomatic Relations, 1960.': {'places': ['Brazzaville'], 'persons': [], 'dates': ['1960']}, 'Establishment of the American Embassy in Chad, 1961.': {'places': ['Fort Lamy'], 'persons': [], 'dates': ['1961']}, 'American Embassy Closed, 1980.': {'places': [], 'persons': [], 'dates': ['1980']}, 'American Embassy Reopened, 1982.': {'places': ['N’Djamena'], 'persons': [], 'dates': ['1982']}, 'Resources': {'places': [], 'persons': [], 'dates': []}}}, {'name': 'Chile', 'url': 'https://history.state.gov/countries/chile', 'flag': 'https://static.history.state.gov/countries/chile-flag.jpg', 'infos': {'Summary': {'places': ['Valparaíso'], 'persons': [], 'dates': []}, 'Recognition': {'places': ['Peru'], 'persons': ['Napoleon’s'], 'dates': ['1823']}, 'U.S. Recognition of Chilean Independence, 1823.': {'places': ['Peru'], 'persons': ['Napoleon’s'], 'dates': ['1823']}, 'Diplomatic Relations': {'places': ['Santiago'], 'persons': ['Ramón Freire\\n                            Serrano', 'Bernardo\\n                            O’Higgins'], 'dates': ['1824', '1914', '2003']}, 'Establishment of Diplomatic Relations with Chile and the U.S. Legation,\\n                            1824.': {'places': [], 'persons': ['Ramón Freire\\n                            Serrano', 'Bernardo\\n                            O’Higgins'], 'dates': ['1824']}, 'Elevation of U.S. Legation to Embassy Status, 1914.': {'places': ['Santiago'], 'persons': [], 'dates': ['1914']}, 'Treaties and Agreements': {'places': [], 'persons': [], 'dates': ['2003']}, 'The United States - Chile Free Trade Agreement, 2003.': {'places': [], 'persons': [], 'dates': ['2003']}, 'Resources': {'places': [], 'persons': [], 'dates': []}}}, {'name': 'China', 'url': 'https://history.state.gov/countries/china', 'flag': 'https://static.history.state.gov/countries/china-flag.jpg', 'infos': {'Summary': {'places': [], 'persons': [], 'dates': []}, 'Recognition': {'places': [], 'persons': [], 'dates': ['1844']}, 'Mutual Recognition, 1844.': {'places': [], 'persons': [], 'dates': ['1844']}, 'Consular Relations': {'places': [], 'persons': [], 'dates': ['1844', '1844-1947']}, 'Establishment of Consular Relations, 1844.': {'places': [], 'persons': [], 'dates': ['1844']}, 'Establishment of Consular Posts, 1844-1947.': {'places': [], 'persons': [], 'dates': ['1844-1947']}, 'Diplomatic Relations': {'places': ['Chongqing', 'Nanjing', 'Guangzhou', 'Chongqing', 'Taipei', 'Beijing', 'Taipei', 'Beijing'], 'persons': [], 'dates': ['1844', '1862', '1912', '1913', '1924', '1928', '1928', '1935', '1937–1941', '1941', '1946', '1949', '1949', '1949', '1973', '1979', '1979', '1979']}, 'Establishment of Diplomatic Relations, 1844.': {'places': [], 'persons': [], 'dates': ['1844']}, 'Legation Moved to Beijing (Peking), 1862.': {'places': [], 'persons': [], 'dates': ['1862']}, 'Relations Interrupted, 1912.': {'places': [], 'persons': [], 'dates': ['1912']}, 'Relations Resumed, 1913.': {'places': [], 'persons': [], 'dates': ['1913']}, 'Relations Interrupted, 1924.': {'places': [], 'persons': [], 'dates': ['1924']}, 'Relations Resumed, 1928.': {'places': [], 'persons': [], 'dates': ['1928']}, 'Establishment of Subordinate Diplomatic Mission at Nanjing (Nanking),\\n                            1928.': {'places': [], 'persons': [], 'dates': ['1928']}, 'Legation Raised to Embassy, 1935.': {'places': [], 'persons': [], 'dates': ['1935']}, 'U.S. Diplomatic Representation during the Chinese-Japanese “undeclared\\n                        war,” 1937–1941.': {'places': [], 'persons': [], 'dates': ['1937–1941']}, 'Embassy Moved to Chongqing, 1941.': {'places': ['Chongqing'], 'persons': [], 'dates': ['1941']}, 'Embassy Moved to Nanjing, 1946.': {'places': ['Nanjing'], 'persons': [], 'dates': ['1946']}, 'Embassy Moved to Guangzhou, 1949.': {'places': ['Guangzhou'], 'persons': [], 'dates': ['1949']}, 'Embassy Moved to Chongqing, 1949.': {'places': ['Chongqing'], 'persons': [], 'dates': ['1949']}, 'Embassy Moved to Taipei, Formosa (Taiwan), 1949.': {'places': ['Taipei'], 'persons': [], 'dates': ['1949']}, 'Establishment of U.S. Liaison Office in Beijing, 1973.': {'places': ['Beijing'], 'persons': [], 'dates': ['1973']}, 'Establishment of Diplomatic Relations with PRC/Termination of Diplomatic\\n                        Relations with the Republic of China, 1979.': {'places': [], 'persons': [], 'dates': ['1979']}, 'Closing of U.S. Embassy at Taipei, 1979.': {'places': ['Taipei'], 'persons': [], 'dates': ['1979']}, 'Opening of U.S. Embassy at Beijing, 1979.': {'places': ['Beijing'], 'persons': [], 'dates': ['1979']}, 'Resources': {'places': [], 'persons': [], 'dates': []}}}, {'name': 'Colombia', 'url': 'https://history.state.gov/countries/colombia', 'flag': 'https://static.history.state.gov/countries/colombia-flag.jpg', 'infos': {'Summary': {'places': ['Spain', 'Bogotá'], 'persons': [], 'dates': []}, 'Recognition': {'places': ['Barranquilla', 'Bucaramanga', 'Buenaventura', 'Medellín'], 'persons': ['James Monroe', 'Manuel\\n                            Torres', 'James\\n                                Macpherson', 'Harris Fudger', 'Manuel Torres'], 'dates': ['1822', '1823', '1822', '1823', '1939']}, 'U.S. Recognition of Colombia, 1822.': {'places': [], 'persons': ['James Monroe', 'Manuel\\n                            Torres'], 'dates': ['1822']}, 'Consular Relations': {'places': ['Barranquilla', 'Bucaramanga', 'Buenaventura', 'Medellín'], 'persons': ['James\\n                                Macpherson', 'Harris Fudger'], 'dates': ['1823']}, 'Establishment of Consulates in Cartagena and Santa Marta, 1823.': {'places': ['Barranquilla', 'Bucaramanga', 'Buenaventura', 'Medellín'], 'persons': ['James\\n                                Macpherson', 'Harris Fudger'], 'dates': ['1823']}, 'Diplomatic Relations': {'places': [], 'persons': ['Manuel Torres'], 'dates': ['1822', '1823', '1939']}, 'Establishment of Diplomatic Relations, 1822.': {'places': [], 'persons': ['Manuel Torres'], 'dates': ['1822']}, 'Establishment of the U.S. Legation in Colombia, 1823.': {'places': [], 'persons': [], 'dates': ['1823']}, 'Elevation of Status of Legation in Bogotá to Embassy, 1939.': {'places': [], 'persons': [], 'dates': ['1939']}, 'Treaties and Agreements': {'places': [], 'persons': [], 'dates': ['1824', '1846']}, 'General Convention of Peace, Amity, Navigation, and Commerce, 1824.': {'places': [], 'persons': [], 'dates': ['1824']}, 'General Treaty of Peace, Amity, Navigation, and Commerce, 1846.': {'places': [], 'persons': [], 'dates': ['1846']}, 'Resources': {'places': [], 'persons': [], 'dates': []}}}, {'name': 'Comoros', 'url': 'https://history.state.gov/countries/comoros', 'flag': 'https://static.history.state.gov/countries/comoros-flag.jpg', 'infos': {'Summary': {'places': [], 'persons': [], 'dates': []}, 'Recognition': {'places': [], 'persons': [], 'dates': ['1977']}, 'U.S. Recognition of Comoros, 1977.': {'places': [], 'persons': [], 'dates': ['1977']}, 'Diplomatic Relations': {'places': ['Antananarivo, Madagascar', 'Moroni', 'Port\\n                            Louis'], 'persons': ['Mouzawior Abdallah'], 'dates': ['1977', '1985', '1993']}, 'Establishment of Diplomatic Relations, 1977.': {'places': ['Antananarivo, Madagascar'], 'persons': ['Mouzawior Abdallah'], 'dates': ['1977']}, 'Establishment of the American Embassy in Comoros, 1985.': {'places': [], 'persons': [], 'dates': ['1985']}, 'Closure of the American Embassy in Comoros, 1993.': {'places': ['Moroni', 'Port\\n                            Louis'], 'persons': [], 'dates': ['1993']}, 'Resources': {'places': [], 'persons': [], 'dates': []}}}, {'name': 'Congo-free-state', 'url': 'https://history.state.gov/countries/congo-free-state', 'flag': '', 'infos': {'Summary': {'places': [], 'persons': [], 'dates': []}, 'Recognition': {'places': [], 'persons': ['Grover\\n                            Cleveland', 'Leopold'], 'dates': ['1885', '1908']}, 'U.S. Recognition of the Independent State of Congo, 1885.': {'places': [], 'persons': ['Grover\\n                            Cleveland', 'Leopold'], 'dates': ['1885']}, 'Demise of Congo Free State, 1908.': {'places': [], 'persons': [], 'dates': ['1908']}, 'Diplomatic Relations': {'places': [], 'persons': [], 'dates': []}, '': {'places': [], 'persons': [], 'dates': []}}}, {'name': 'Costa-rica', 'url': 'https://history.state.gov/countries/costa-rica', 'flag': 'https://static.history.state.gov/countries/costa-rica-flag.jpg', 'infos': {'Summary': {'places': ['Mexico', 'San\\n                                José', 'Port Limon', 'Punta Arenas'], 'persons': ['Felipe Molina', 'Alfredo Gonzales', 'Federico Tinoco', 'Julio Acosta', 'Roy T. Davis', 'Don Francisco de P. Gutierrez'], 'dates': ['1849', '1851', '1917-1922', '1943']}, 'Recognition': {'places': [], 'persons': [], 'dates': ['1849']}, 'U.S. Recognition of Costa Rican Independence, 1849.': {'places': [], 'persons': [], 'dates': ['1849']}, 'Consular Presence': {'places': ['San\\n                                José', 'Port Limon', 'Punta Arenas'], 'persons': [], 'dates': []}, '': {'places': ['San\\n                                José', 'Port Limon', 'Punta Arenas'], 'persons': [], 'dates': []}, 'Diplomatic Relations': {'places': [], 'persons': ['Felipe Molina', 'Alfredo Gonzales', 'Federico Tinoco', 'Julio Acosta', 'Roy T. Davis', 'Don Francisco de P. Gutierrez'], 'dates': ['1851', '1917-1922', '1943']}, 'Establishment of Diplomatic Relations, 1851.': {'places': [], 'persons': ['Felipe Molina'], 'dates': ['1851']}, 'First American Minister accredited to Costa Rica, 1853.': {'places': [], 'persons': [], 'dates': []}, 'Establishment of the American Legation in San Jose, 1898.': {'places': [], 'persons': [], 'dates': []}, 'Interruption of Relations, 1917-1922.': {'places': [], 'persons': ['Alfredo Gonzales', 'Federico Tinoco', 'Julio Acosta', 'Roy T. Davis'], 'dates': ['1917-1922']}, 'Elevation of American Legation to Embassy Status, 1943.': {'places': [], 'persons': ['Don Francisco de P. Gutierrez'], 'dates': ['1943']}, 'Treaties & Agreements': {'places': [], 'persons': [], 'dates': ['1851']}, 'Treaty of Friendship, Commerce, and Navigation, 1851\\n': {'places': [], 'persons': [], 'dates': ['1851']}, 'Resources': {'places': [], 'persons': [], 'dates': []}}}, {'name': 'Cote-divoire', 'url': 'https://history.state.gov/countries/cote-divoire', 'flag': 'https://static.history.state.gov/countries/cote-flag.jpg', 'infos': {'Summary': {'places': ['Republic of the Ivory\\n                        Coast'], 'persons': ['Dwight D.\\n                        Eisenhower', 'Felix Houphouet-Boigny'], 'dates': []}, 'Recognition': {'places': ['Republic of the Ivory\\n                            Coast'], 'persons': ['Dwight D.\\n                            Eisenhower'], 'dates': ['1960']}, 'U.S. Recognition of the Ivory Coast, 1960.': {'places': ['Republic of the Ivory\\n                            Coast'], 'persons': ['Dwight D.\\n                            Eisenhower'], 'dates': ['1960']}, 'Diplomatic Relations': {'places': ['Abidjan'], 'persons': [], 'dates': ['1960']}, 'Establishment of Diplomatic Relations and the American Embassy in the\\n                        Ivory Coast, 1960.': {'places': ['Abidjan'], 'persons': [], 'dates': ['1960']}, 'Resources': {'places': [], 'persons': [], 'dates': []}}}, {'name': 'Croatia', 'url': 'https://history.state.gov/countries/croatia', 'flag': 'https://static.history.state.gov/countries/croatia-flag.jpg', 'infos': {'Summary': {'places': [], 'persons': [], 'dates': []}, 'Recognition': {'places': [], 'persons': ['George H.W. Bush', 'Ronald Nietzke'], 'dates': ['1992', '1992', '1992']}, 'U.S. Recognition of Croatia, 1992.': {'places': [], 'persons': ['George H.W. Bush'], 'dates': ['1992']}, 'Diplomatic Relations': {'places': [], 'persons': ['Ronald Nietzke'], 'dates': ['1992', '1992']}, 'Establishment of Diplomatic Relations, 1992.': {'places': [], 'persons': [], 'dates': ['1992']}, 'Establishment of the American Embassy in Croatia, 1992.': {'places': [], 'persons': ['Ronald Nietzke'], 'dates': ['1992']}, 'Resources': {'places': [], 'persons': [], 'dates': []}}}, {'name': 'Cuba', 'url': 'https://history.state.gov/countries/cuba', 'flag': 'https://static.history.state.gov/countries/cuban-flag.jpg', 'infos': {'Summary': {'places': ['Spain', 'Cuba'], 'persons': ['Fulgencio Batista'], 'dates': []}, 'Recognition': {'places': [], 'persons': [], 'dates': ['1902']}, 'U.S. Recognition of Cuban Independence, 1902.': {'places': [], 'persons': [], 'dates': ['1902']}, 'Diplomatic Relations': {'places': ['Havana'], 'persons': [], 'dates': ['1902', '1923', '1961', '1977', ' 2015']}, 'Establishment of Diplomatic Relations and the American Legation in Cuba,\\n                            1902.': {'places': ['Havana'], 'persons': [], 'dates': ['1902']}, 'Elevation of U.S. Legation to Embassy Status, 1923.': {'places': [], 'persons': [], 'dates': ['1923']}, 'Diplomatic Relations Severed, 1961.': {'places': [], 'persons': [], 'dates': ['1961']}, 'Establishment of U.S. Interests Section in Havana, 1977.': {'places': [], 'persons': [], 'dates': ['1977']}, 'Resumption of Diplomatic Relations and Reestablishment of the American\\n                        Embassy in Cuba,  2015.': {'places': [], 'persons': [], 'dates': [' 2015']}, 'Resources': {'places': [], 'persons': [], 'dates': []}}}, {'name': 'Cyprus', 'url': 'https://history.state.gov/countries/cyprus', 'flag': 'https://static.history.state.gov/countries/cyprus-flag.jpg', 'infos': {'Summary': {'places': ['Turkey'], 'persons': [], 'dates': []}, 'Recognition': {'places': [], 'persons': [], 'dates': ['1960']}, 'U.S. Recognition of Cyprus, 1960.': {'places': [], 'persons': [], 'dates': ['1960']}, 'Diplomatic Relations': {'places': ['Nicosia'], 'persons': [], 'dates': ['1960']}, 'Establishment of Diplomatic Relations and the American Embassy, 1960.': {'places': ['Nicosia'], 'persons': [], 'dates': ['1960']}, 'Resources': {'places': [], 'persons': [], 'dates': []}}}, {'name': 'Czech-republic', 'url': 'https://history.state.gov/countries/czech-republic', 'flag': 'https://static.history.state.gov/countries/czech-flag.jpg', 'infos': {'Summary': {'places': [], 'persons': [], 'dates': []}, 'Recognition': {'places': [], 'persons': ['Marlin Fitzwater'], 'dates': ['1993']}, 'U.S. Recognition of the Independence of Czechia, 1993.': {'places': [], 'persons': ['Marlin Fitzwater'], 'dates': ['1993']}, 'Diplomatic Relations': {'places': [], 'persons': [], 'dates': ['1993']}, 'Establishment of Diplomatic Relations, 1993.': {'places': [], 'persons': [], 'dates': ['1993']}, 'Establishment of American Embassy in Prague, 1993.': {'places': ['Prague'], 'persons': [], 'dates': ['1993']}, 'Resources': {'places': [], 'persons': [], 'dates': []}}}, {'name': 'Czechoslovakia', 'url': 'https://history.state.gov/countries/czechoslovakia', 'flag': 'https://static.history.state.gov/countries/czech-flag.jpg', 'infos': {'Summary': {'places': ['Bohemia', 'Holy Roman Empire', 'Soviet Union'], 'persons': ['Woodrow Wilson'], 'dates': []}, 'Recognition': {'places': ['Austria-Hungary'], 'persons': ['Woodrow Wilson'], 'dates': ['1918']}, 'U.S. Recognition of Czechoslovaskian Independence, 1918.': {'places': ['Austria-Hungary'], 'persons': ['Woodrow Wilson'], 'dates': ['1918']}, 'Consular Presence': {'places': ['Prague', 'Carlsbad', 'Karlovy Vary', 'Reichenberg', 'Liberec', 'Haida', 'Novy Bor', 'Brunn', 'Brno'], 'persons': [], 'dates': ['1869', '1906-1917', '1922', '1893-1917']}, 'First U.S. Consular Post, Prague, 1869.': {'places': ['Prague'], 'persons': [], 'dates': ['1869']}, 'Consulate in Carlsbad (Karlovy Vary), 1906-1917, permanently closed, 1922.': {'places': ['Carlsbad', 'Karlovy Vary'], 'persons': [], 'dates': ['1906-1917', '1922']}, 'Consulate in Reichenberg (Liberec), 1893-1917.': {'places': ['Reichenberg', 'Liberec', 'Haida', 'Novy Bor', 'Brunn', 'Brno'], 'persons': [], 'dates': ['1893-1917']}, 'Diplomatic Relations': {'places': ['Slovakia', 'Belgium', 'Greece', 'Luxembourg', 'the\\n                            Netherlands', 'Norway', 'Poland', 'Yugoslavia'], 'persons': ['Charles Pergler', 'Eduard Benes', 'Jan Masaryk', 'Thomas Masaryk', 'Bedrich Stepanek', 'Vladimir Hurban'], 'dates': ['1918', '1919', '1919', '1945', '1992']}, 'Establishment of Diplomatic Relations, 1918.': {'places': [], 'persons': ['Charles Pergler'], 'dates': ['1918']}, 'Establishment of American Legation in Prague, 1919.': {'places': [], 'persons': [], 'dates': ['1919']}, 'Establishment of a Czechoslovak Legation in Washington, 1919.': {'places': [], 'persons': ['Eduard Benes', 'Jan Masaryk', 'Thomas Masaryk', 'Bedrich Stepanek'], 'dates': ['1919']}, 'U.S.-Czechoslovakian Relations During World War II': {'places': ['Slovakia', 'Belgium', 'Greece', 'Luxembourg', 'the\\n                            Netherlands', 'Norway', 'Poland', 'Yugoslavia'], 'persons': ['Vladimir Hurban'], 'dates': []}, 'Establishment of American Legation to Embassy Status, 1945.': {'places': [], 'persons': [], 'dates': ['1945', '1992']}, 'Dissolution of Czechoslovakia, 1992.': {'places': [], 'persons': [], 'dates': ['1992']}, 'Treaties and Agreements': {'places': [], 'persons': [], 'dates': []}, 'Commericial relations treaty, October 1923.': {'places': [], 'persons': [], 'dates': []}, 'Air transport Services treaty, January 1946.': {'places': [], 'persons': [], 'dates': []}, 'Resources': {'places': [], 'persons': [], 'dates': []}}}, {'name': 'Congo-democratic-republic', 'url': 'https://history.state.gov/countries/congo-democratic-republic', 'flag': 'https://static.history.state.gov/countries/congo-flag.jpg', 'infos': {'Summary': {'places': [], 'persons': [], 'dates': []}, 'Recognition': {'places': [], 'persons': ['Dwight D. Eisenhower'], 'dates': ['1960']}, 'U.S. Recognition of Congo’s Independence, 1960.': {'places': [], 'persons': ['Dwight D. Eisenhower'], 'dates': ['1960']}, 'Diplomatic Relations': {'places': ['Leopoldville'], 'persons': [], 'dates': ['1960']}, 'Establishment of Diplomatic Relations and the American Embassy, 1960.': {'places': ['Leopoldville'], 'persons': [], 'dates': ['1960']}, 'Resources': {'places': [], 'persons': [], 'dates': []}}}, {'name': 'Denmark', 'url': 'https://history.state.gov/countries/denmark', 'flag': 'https://static.history.state.gov/countries/denmark-flag.jpg', 'infos': {'Summary': {'places': ['U.S. Virgin Islands'], 'persons': [], 'dates': []}, 'Recognition': {'places': [], 'persons': ['Hans Saabye,'], 'dates': ['1792']}, 'Danish Recognition of the United States, 1792.': {'places': [], 'persons': ['Hans Saabye,'], 'dates': ['1792']}, 'Consular Presence': {'places': [], 'persons': [], 'dates': ['1792']}, 'Establishment of Consular Relations, 1792.': {'places': [], 'persons': [], 'dates': ['1792']}, 'Diplomatic Relations': {'places': [], 'persons': [], 'dates': ['1801', '1827', '1941', '1945', '1947']}, 'Establishment of Diplomatic Relations, 1801.': {'places': [], 'persons': [], 'dates': ['1801']}, 'Legation Established at Copenhagen, 1827.': {'places': [], 'persons': [], 'dates': ['1827']}, 'Legation Closed, 1941.': {'places': [], 'persons': [], 'dates': ['1941']}, 'Legation at Copenhagen Reopened, 1945.': {'places': [], 'persons': [], 'dates': ['1945']}, 'Legation Raised to Embassy, 1947.': {'places': [], 'persons': [], 'dates': ['1947']}, 'Resources': {'places': [], 'persons': [], 'dates': []}}}, {'name': 'Djibouti', 'url': 'https://history.state.gov/countries/djibouti', 'flag': 'https://static.history.state.gov/countries/djibouti-flag.jpg', 'infos': {'Summary': {'places': ['Republic of Djibouti'], 'persons': ['Jimmy\\n                        Carter', 'Hassan Gouled\\n                    Aptidon'], 'dates': []}, 'Recognition': {'places': ['Republic of Djibouti'], 'persons': ['Jimmy\\n                            Carter', 'Hassan Gouled\\n                            Aptidon'], 'dates': ['1977']}, 'U.S. Recognition of Djibouti’s Independence, 1977.': {'places': ['Republic of Djibouti'], 'persons': ['Jimmy\\n                            Carter', 'Hassan Gouled\\n                            Aptidon'], 'dates': ['1977']}, 'Diplomatic Relations': {'places': [], 'persons': [], 'dates': ['1977']}, 'Establishment of Diplomatic Relations and the American Embassy in\\n                        Djibouti, 1977.': {'places': [], 'persons': [], 'dates': ['1977']}, 'Resources': {'places': [], 'persons': [], 'dates': []}}}, {'name': 'Dominica', 'url': 'https://history.state.gov/countries/dominica', 'flag': 'https://static.history.state.gov/countries/dominica.jpg', 'infos': {'Summary': {'places': [], 'persons': [], 'dates': []}, 'Recognition': {'places': ['Bridgetown,\\n                                Barbados', 'Bridgetown, Barbados'], 'persons': ['Jimmy Carter'], 'dates': ['1978', '1979']}, 'U.S. Recognition of Dominican Independence, 1978.': {'places': [], 'persons': ['Jimmy Carter'], 'dates': ['1978']}, 'Consular Relations': {'places': ['Bridgetown,\\n                                Barbados'], 'persons': [], 'dates': []}, '': {'places': ['Bridgetown,\\n                                Barbados'], 'persons': [], 'dates': []}, 'Diplomatic Relations': {'places': ['Bridgetown, Barbados'], 'persons': [], 'dates': ['1979']}, 'Appointment of First American Ambassador to Dominica, 1979.': {'places': ['Bridgetown, Barbados'], 'persons': [], 'dates': ['1979']}, 'Resources': {'places': [], 'persons': [], 'dates': []}}}, {'name': 'Dominican-republic', 'url': 'https://history.state.gov/countries/dominican-republic', 'flag': 'https://static.history.state.gov/countries/dominican-flag.jpg', 'infos': {'Summary': {'places': ['Haiti'], 'persons': [], 'dates': []}, 'Recognition': {'places': [], 'persons': ['J.W. Currier'], 'dates': ['1866']}, 'U.S. Recognition of Dominican Republic Independence, 1866.': {'places': [], 'persons': ['J.W. Currier'], 'dates': ['1866']}, 'Diplomatic Relations': {'places': [], 'persons': [], 'dates': ['1884', '1904', '1943']}, 'Establishment of Diplomatic Relations, 1884.': {'places': [], 'persons': [], 'dates': ['1884']}, 'Establishment of the American Legation in the Dominican Republic, 1904.': {'places': [], 'persons': [], 'dates': ['1904']}, 'Elevation of American Legation to Embassy Status, 1943.': {'places': [], 'persons': [], 'dates': ['1943']}, 'Resources': {'places': [], 'persons': [], 'dates': []}}}, {'name': 'Parma', 'url': 'https://history.state.gov/countries/parma', 'flag': '', 'infos': {'Summary': {'places': [], 'persons': [], 'dates': []}, 'Recognition': {'places': [], 'persons': [], 'dates': ['1850']}, 'Mutual Recognition, 1850.': {'places': [], 'persons': [], 'dates': ['1850']}, 'Consular Presence': {'places': [], 'persons': [], 'dates': []}, 'No Consular Presence.': {'places': [], 'persons': [], 'dates': []}, 'Diplomatic Relations': {'places': [], 'persons': [], 'dates': ['1853', '1860']}, 'Establishment of Diplomatic Relations, 1853.': {'places': [], 'persons': [], 'dates': ['1853']}, 'Cessation of Diplomatic Relations, 1860.': {'places': [], 'persons': [], 'dates': ['1860']}, 'Key Diplomatic Events': {'places': [], 'persons': [], 'dates': ['1861', '1861']}, 'Proclamation of the Kingdom of Italy, 1861.': {'places': [], 'persons': [], 'dates': ['1861']}, 'U.S. Recognition of Italian Independence, 1861.': {'places': [], 'persons': [], 'dates': ['1861']}, 'Resources': {'places': [], 'persons': [], 'dates': []}}}, {'name': 'German-democratic-republic', 'url': 'https://history.state.gov/countries/german-democratic-republic', 'flag': '', 'infos': {'Summary': {'places': [], 'persons': [], 'dates': []}, 'Recognition': {'places': ['Bonn', 'Berlin'], 'persons': [], 'dates': ['1949', '1974', 'September 4,\\n                            1974']}, 'Division of Germany and U.S. Non-Recognition of GDR, 1949.': {'places': ['Bonn'], 'persons': [], 'dates': ['1949']}, 'Recognition of the German Democratic Republic, and the Establishment of\\n                        Diplomatic Relations and the American Embassy in Berlin, 1974.': {'places': ['Berlin'], 'persons': [], 'dates': ['1974', 'September 4,\\n                            1974']}, 'Diplomatic Relations': {'places': ['Bonn', 'Berlin'], 'persons': ['George H.W. Bush'], 'dates': [' 1974', '1990-1991']}, 'Establishment of Diplomatic Relations with East Germany and the American\\n                        Embassy in Berlin, 1974.': {'places': [], 'persons': [], 'dates': [' 1974']}, 'Germany Reunified under Auspices of the FRG, 1990-1991.': {'places': ['Bonn', 'Berlin'], 'persons': ['George H.W. Bush'], 'dates': ['1990-1991']}, 'Resources': {'places': [], 'persons': [], 'dates': []}}}, {'name': 'Ecuador', 'url': 'https://history.state.gov/countries/ecuador', 'flag': 'https://static.history.state.gov/countries/ecuador-flag.jpg', 'infos': {'Summary': {'places': ['Quito'], 'persons': ['James Monroe', 'Manuel\\n                        Torres'], 'dates': []}, 'Recognition': {'places': ['Guayaquil', 'Bogota'], 'persons': ['Juan José\\n                            Flores', 'Andrew Jackson', 'Seth\\n                            Sweetser'], 'dates': ['1832']}, 'U.S. Recognition of Ecuador, 1832.': {'places': ['Guayaquil', 'Bogota'], 'persons': ['Juan José\\n                            Flores', 'Andrew Jackson', 'Seth\\n                            Sweetser'], 'dates': ['1832']}, 'Consular Presence': {'places': ['Guayaquil', 'Canada', 'Mexico', 'Brazil'], 'persons': ['William Wheelwright', 'Juan Paz Castillo', 'Horatio N. Beach'], 'dates': ['1825', '1884']}, 'Establishment of Consulate in Guayaquil, 1825.': {'places': ['Guayaquil'], 'persons': ['William Wheelwright', 'Juan Paz Castillo'], 'dates': ['1825']}, 'Elevation of Status of the Consulate in Guayaquil to Consulate General,\\n                            1884.': {'places': ['Canada', 'Mexico', 'Brazil'], 'persons': ['Horatio N. Beach'], 'dates': ['1884']}, 'Diplomatic Relations': {'places': ['Quito'], 'persons': [], 'dates': ['1848', '1942']}, 'Establishment of Diplomatic Relations, 1848.': {'places': [], 'persons': [], 'dates': ['1848']}, 'Elevation of Status of Legation in Quito to\\n                        Embassy, 1942.': {'places': ['Quito'], 'persons': [], 'dates': ['1942']}, 'Treaties and Agreements': {'places': [], 'persons': ['James D.\\n                            Pickett', 'Luis de\\n                            Saá'], 'dates': ['1839']}, 'Treaty of Peace, Friendship, Navigation, and Commerce, 1839.': {'places': [], 'persons': ['James D.\\n                            Pickett', 'Luis de\\n                            Saá'], 'dates': ['1839']}, 'Resources': {'places': [], 'persons': [], 'dates': []}}}, {'name': 'Egypt', 'url': 'https://history.state.gov/countries/egypt', 'flag': 'https://static.history.state.gov/countries/egypt-flag.jpg', 'infos': {'Summary': {'places': ['Istanbul (Constantinople)'], 'persons': [], 'dates': []}, 'Recognition': {'places': ['Cairo', 'United Arab\\n                            Republic (UAR', 'Cairo', 'Damascus'], 'persons': ['Warren G. Harding', 'Ahmed Fuad', 'J. Morton Howell,'], 'dates': ['1922', '1958-1961', '1922', '1967', '1967', '1974']}, 'U.S. Recognition of Egyptian Independence, 1922.': {'places': ['Cairo'], 'persons': ['Warren G. Harding', 'Ahmed Fuad'], 'dates': ['1922']}, 'Formation, Recognition, and Dissolution of the United Arab Republic, 1958-1961.': {'places': ['United Arab\\n                            Republic (UAR', 'Cairo', 'Damascus'], 'persons': [], 'dates': ['1958-1961']}, 'Diplomatic Relations': {'places': [], 'persons': ['J. Morton Howell,'], 'dates': ['1922', '1967', '1967', '1974']}, 'Establishment of Diplomatic Relations and the American Legation in\\n                            Egypt, 1922.': {'places': [], 'persons': ['J. Morton Howell,'], 'dates': ['1922']}, 'Diplomatic Relations Severed by the United Arab Republic, 1967.': {'places': [], 'persons': [], 'dates': ['1967']}, 'Establishment of U.S. Interest Section in Cairo, 1967.': {'places': [], 'persons': [], 'dates': ['1967']}, 'Re-establishment of Diplomatic Relations and the American Embassy in\\n                            Egypt, 1974.': {'places': [], 'persons': [], 'dates': ['1974']}, 'Resources': {'places': [], 'persons': [], 'dates': []}}}, {'name': 'El-salvador', 'url': 'https://history.state.gov/countries/el-salvador', 'flag': 'https://static.history.state.gov/countries/els-salvador-flag.jpg', 'infos': {'Summary': {'places': [], 'persons': ['Manuel Jose\\n                        Arce'], 'dates': []}, 'Recognition': {'places': ['Honduras', 'Guatemala', 'Nicaragua', 'Costa Rica', 'Salvador'], 'persons': ['James\\n                            Monroe', 'Canaz', 'E. George\\n                            Squier'], 'dates': ['1824', '1849']}, 'U.S. Recognition of Salvadoran Independence, 1824\\n                        & 1849.': {'places': ['Honduras', 'Guatemala', 'Nicaragua', 'Costa Rica', 'Salvador'], 'persons': ['James\\n                            Monroe', 'Canaz', 'E. George\\n                            Squier'], 'dates': ['1824', '1849']}, 'Diplomatic Relations': {'places': ['San Salvador', 'San Salvador', 'Honduras', 'Nicaragua', 'Salvador'], 'persons': ['James R.\\n                        Partridge', 'Grover\\n                            Cleveland'], 'dates': ['1863', '1863', '1896-1898', '1931', '1934', '1943']}, 'Establishment of Diplomatic Relations, 1863.': {'places': ['San Salvador'], 'persons': [], 'dates': ['1863']}, 'Establishment of the American Legation in San Salvador, 1863.': {'places': ['San Salvador'], 'persons': ['James R.\\n                        Partridge'], 'dates': ['1863']}, 'Diplomatic Relations Handled through Greater Republic of Central America,\\n                            1896-1898.': {'places': ['Honduras', 'Nicaragua', 'Salvador'], 'persons': ['Grover\\n                            Cleveland'], 'dates': ['1896-1898']}, 'Diplomatic Relations Interrupted, 1931.': {'places': [], 'persons': [], 'dates': ['1931']}, 'Diplomatic Relations Normalized, 1934.': {'places': [], 'persons': [], 'dates': ['1934']}, 'Elevation of American Legation to Embassy Status, 1943.': {'places': [], 'persons': [], 'dates': ['1943']}, 'Resources': {'places': [], 'persons': [], 'dates': []}}}, {'name': 'Equatorial-guinea', 'url': 'https://history.state.gov/countries/equatorial-guinea', 'flag': 'https://static.history.state.gov/countries/equatorial-flag.jpg', 'infos': {'Summary': {'places': [], 'persons': [], 'dates': []}, 'Recognition': {'places': [], 'persons': ['Lyndon Johnson'], 'dates': ['1968']}, 'United States Recognition of Equatorial Guinea, 1968.': {'places': [], 'persons': ['Lyndon Johnson'], 'dates': ['1968']}, 'Diplomatic Relations': {'places': ['Lomé', 'Santa\\n                            Isabel', 'Yaounde'], 'persons': ['Albert W. Sherer', 'Albert N. Williams'], 'dates': ['1968', '1969', '1976', '1979', '1981', '1995', '2006']}, 'Establishment of Diplomatic Relations, 1968.': {'places': ['Lomé'], 'persons': ['Albert W. Sherer'], 'dates': ['1968']}, 'Establishment of the American Embassy in Malabo, 1969.': {'places': ['Santa\\n                            Isabel'], 'persons': ['Albert N. Williams'], 'dates': ['1969']}, 'Suspension of Diplomatic Relations by the United States, 1976.': {'places': [], 'persons': [], 'dates': ['1976']}, 'Resumption of Normal Diplomatic Relations, 1979.': {'places': [], 'persons': [], 'dates': ['1979']}, 'American Embassy in Equatorial Guinea Reestablished, 1981.': {'places': [], 'persons': [], 'dates': ['1981']}, 'Closure of American Embassy in Equatorial Guinea, 1995.': {'places': ['Yaounde'], 'persons': [], 'dates': ['1995']}, 'Reopening of the American Embassy in Malabo, 2006.': {'places': [], 'persons': [], 'dates': ['2006']}, 'Resources': {'places': [], 'persons': [], 'dates': []}}}, {'name': 'Eritrea', 'url': 'https://history.state.gov/countries/eritrea', 'flag': 'https://static.history.state.gov/countries/eritrea.jpg', 'infos': {'Summary': {'places': ['Republic of Eritrea', 'Asmara'], 'persons': [], 'dates': []}, 'Recognition': {'places': ['Republic of Eritrea'], 'persons': [], 'dates': ['1993']}, 'U.S. Recognition of Eritrean Independence, 1993.': {'places': [], 'persons': ['Joseph P.\\n                            O’Neill'], 'dates': ['1993']}, 'Diplomatic Relations': {'places': [], 'persons': ['Joseph P.\\n                            O’Neill'], 'dates': ['1993']}, 'Resources': {'places': [], 'persons': [], 'dates': []}}}, {'name': 'Estonia', 'url': 'https://history.state.gov/countries/estonia', 'flag': 'https://static.history.state.gov/countries/estonia-flag.jpg', 'infos': {'Summary': {'places': ['Estonia', 'Riga, Latvia', 'Tallinn'], 'persons': [], 'dates': []}, 'Recognition': {'places': ['Estonia', 'Latvia', 'Lithuania'], 'persons': [], 'dates': ['1922']}, 'United States Recognition of Estonia, 1922.': {'places': ['Estonia', 'Latvia', 'Lithuania'], 'persons': [], 'dates': ['1922']}, 'Diplomatic Relations': {'places': ['Soviet Union'], 'persons': ['George H.W.\\n                        Bush', 'Lennart\\n                            Meri'], 'dates': ['1922', '1922', '1940', '1991', '1991', '1991']}, 'Establishment of Diplomatic Relations, 1922.': {'places': [], 'persons': [], 'dates': ['1922']}, 'American Legation established at Tallinn, 1922.': {'places': [], 'persons': [], 'dates': ['1922']}, 'Legation at Tallinn Closed, 1940.': {'places': ['Soviet Union'], 'persons': [], 'dates': ['1940']}, 'Recognition of Estonian Independence from the USSR, 1991.': {'places': [], 'persons': ['George H.W.\\n                        Bush'], 'dates': ['1991']}, 'Resumption of Normal Relations, 1991.': {'places': [], 'persons': ['Lennart\\n                            Meri'], 'dates': ['1991']}, 'American Embassy at Tallinn Opened, 1991.': {'places': [], 'persons': [], 'dates': ['1991']}, 'Resources': {'places': [], 'persons': [], 'dates': []}}}, {'name': 'Swaziland', 'url': 'https://history.state.gov/countries/swaziland', 'flag': 'https://static.history.state.gov/countries/swaziland-flag.jpg', 'infos': {'Summary': {'places': ['Swaziland'], 'persons': [], 'dates': []}, 'Recognition': {'places': ['Swaziland', 'Mbabane'], 'persons': [], 'dates': ['1968']}, 'U.S. Recognition of Swaziland’s Independence, 1968.': {'places': ['Swaziland', 'Mbabane'], 'persons': [], 'dates': ['1968']}, 'Diplomatic Relations': {'places': ['Mbabane'], 'persons': [], 'dates': ['1968']}, 'Establishment of Diplomatic Relations and the U.S. Embassy, 1968.': {'places': ['Mbabane'], 'persons': [], 'dates': ['1968']}, 'Resources': {'places': [], 'persons': [], 'dates': []}}}, {'name': 'Ethiopia', 'url': 'https://history.state.gov/countries/ethiopia', 'flag': 'https://static.history.state.gov/countries/ethiopia-flag.jpg', 'infos': {'Summary': {'places': [], 'persons': [], 'dates': []}, 'Recognition': {'places': [], 'persons': ['Menelik II', 'Robert P. Skinner'], 'dates': ['1903']}, 'First Official Diplomatic Interaction, 1903.': {'places': [], 'persons': ['Menelik II', 'Robert P. Skinner'], 'dates': ['1903']}, 'Diplomatic Relations': {'places': ['Addis\\n                            Ababa'], 'persons': ['Ethiopia Menelik I', 'Blatta Ephrem Tewelde Medhen', 'Ras H.S. Imru'], 'dates': ['1903', '1909', '1937', '1943', '1943', '1949', '1949']}, 'Establishment of Diplomatic Relations, 1903.': {'places': [], 'persons': ['Ethiopia Menelik I'], 'dates': ['1903']}, 'Establishment of American Legation in Addis Ababa, 1909.': {'places': ['Addis\\n                            Ababa'], 'persons': [], 'dates': ['1909']}, 'American Legation Closed, 1937.': {'places': [], 'persons': [], 'dates': ['1937']}, 'American Legation Reopened, 1943.': {'places': [], 'persons': [], 'dates': ['1943']}, 'Ethiopian Legation Reopened, 1943.': {'places': [], 'persons': ['Blatta Ephrem Tewelde Medhen'], 'dates': ['1943']}, 'American Legation Raised to Embassy, 1949.': {'places': [], 'persons': [], 'dates': ['1949']}, 'Ethiopian Legation Raised to Embassy, 1949.': {'places': [], 'persons': ['Ras H.S. Imru'], 'dates': ['1949']}, 'Resources': {'places': [], 'persons': [], 'dates': []}}}, {'name': 'Federal-government-germany', 'url': 'https://history.state.gov/countries/federal-government-germany', 'flag': '', 'infos': {'Summary': {'places': ['Frankfurt'], 'persons': [], 'dates': []}, 'Recognition': {'places': [], 'persons': [], 'dates': ['1848']}, 'U.S. Recognition of the German Federation, 1848.': {'places': [], 'persons': [], 'dates': ['1848']}, 'Diplomatic Relations': {'places': [], 'persons': [], 'dates': ['1848', '1849']}, 'Establishment of Diplomatic Relations, 1848.': {'places': [], 'persons': [], 'dates': ['1848']}, 'Termination of Diplomatic Relations, 1849.': {'places': [], 'persons': [], 'dates': ['1849']}, 'Key Diplomatic Events': {'places': [], 'persons': [], 'dates': []}, 'German Unification.': {'places': [], 'persons': [], 'dates': []}, 'Resources': {'places': [], 'persons': [], 'dates': []}}}, {'name': 'Fiji', 'url': 'https://history.state.gov/countries/fiji', 'flag': 'https://static.history.state.gov/countries/fiji-flag.jpg', 'infos': {'Summary': {'places': [], 'persons': [], 'dates': []}, 'Recognition': {'places': [], 'persons': [], 'dates': ['1970']}, 'U.S. Recognition of Fiji’s Independence, 1970.': {'places': [], 'persons': [], 'dates': ['1970']}, 'Consular Presence': {'places': ['Lauthala', 'Auckland, New\\n                            Zealand'], 'persons': [], 'dates': ['1844']}, 'Establishment of Consul at Lauthala,\\n                            1844.': {'places': ['Lauthala', 'Auckland, New\\n                            Zealand'], 'persons': [], 'dates': ['1844']}, 'Diplomatic Relations': {'places': ['Suva', 'Wellington'], 'persons': ['Semesa K. Sikivou', 'Richard M. Nixon'], 'dates': ['1971', '1971', '1978']}, 'Establishment of Diplomatic Relations, 1971.': {'places': [], 'persons': ['Semesa K. Sikivou', 'Richard M. Nixon'], 'dates': ['1971']}, 'Establishment of the American Embassy in Fiji, 1971.': {'places': ['Suva'], 'persons': [], 'dates': ['1971']}, 'American Ambassador Resident at Suva, 1978.': {'places': ['Wellington'], 'persons': [], 'dates': ['1978']}, 'Resources': {'places': [], 'persons': [], 'dates': []}}}, {'name': 'Finland', 'url': 'https://history.state.gov/countries/finland', 'flag': 'https://static.history.state.gov/countries/finland-flag.jpg', 'infos': {'Summary': {'places': ['Germany', 'Soviet Union'], 'persons': [], 'dates': []}, 'Recognition': {'places': ['Helsingfors', 'Helsinki'], 'persons': ['Rudolf Holsti', 'Herman Saastamoinen', 'Woodrow\\n                                Wilson', 'Benjamin M.\\n                                Hulley'], 'dates': ['1919', '1919', '1920', '1944', '1945', '1945', '1952']}, 'U.S. Recognition of Finnish Independence, 1919.': {'places': [], 'persons': ['Rudolf Holsti'], 'dates': ['1919']}, 'Diplomatic Relations': {'places': ['Helsingfors', 'Helsinki'], 'persons': ['Herman Saastamoinen', 'Woodrow\\n                                Wilson', 'Benjamin M.\\n                                Hulley'], 'dates': ['1919', '1920', '1944', '1945', '1945', '1952']}, 'Establishment of Diplomatic Relations, 1919.': {'places': [], 'persons': ['Herman Saastamoinen', 'Woodrow\\n                                Wilson'], 'dates': ['1919']}, 'Establishment of the American Legation in Helsingfors, 1920.': {'places': ['Helsingfors'], 'persons': [], 'dates': ['1920']}, 'United States Severs Diplomatic Relations, 1944.': {'places': [], 'persons': [], 'dates': ['1944']}, 'Establishment of American Mission at Helsinki, 1945.': {'places': ['Helsinki'], 'persons': [], 'dates': ['1945']}, 'Reestablishment of Diplomatic Relations and the American Legation in\\n                            Finland, 1945.': {'places': [], 'persons': ['Benjamin M.\\n                                Hulley'], 'dates': ['1945', '1952']}, 'Elevation of the American Legation to Embassy Status, 1952.': {'places': [], 'persons': [], 'dates': ['1952']}, 'Resources': {'places': [], 'persons': [], 'dates': []}}}, {'name': 'France', 'url': 'https://history.state.gov/countries/france', 'flag': 'https://static.history.state.gov/countries/france-flag.jpg', 'infos': {'Summary': {'places': [], 'persons': [], 'dates': []}, 'Recognition': {'places': [], 'persons': ['Conrad Alexandre Gérard', 'Silas Deane', 'Arthur\\n                            Lee'], 'dates': ['1778']}, 'French Recognition of the Independence of the United States, 1778.': {'places': [], 'persons': ['Conrad Alexandre Gérard', 'Silas Deane', 'Arthur\\n                            Lee'], 'dates': ['1778']}, 'Consular Presence': {'places': ['Bordeaux'], 'persons': [], 'dates': ['1778']}, 'First U.S. Consular Post Established in France, 1778.': {'places': ['Bordeaux'], 'persons': [], 'dates': ['1778']}, 'Diplomatic Relations': {'places': ['Morfontaine', 'Paris', 'Clermont-Ferrand', 'Vichy', 'Algiers'], 'persons': ['Paul Reynaud', 'Marshal Henri Philippe Pétain', 'Pierre Laval', 'Charles de Gaulle', 'Henri Giraud', 'Jefferson Caffery', 'Georges Bidault'], 'dates': ['1778', '1779', '1798', '1801', '1893', '1940', '1940', '1942', '1943', '1944', '1944']}, 'Establishment of Diplomatic Relations, 1778.': {'places': [], 'persons': [], 'dates': ['1778']}, 'Establishment of American Diplomatic Mission in France, 1779.': {'places': [], 'persons': [], 'dates': ['1779']}, 'Diplomatic Relations Interrupted, 1798.': {'places': [], 'persons': [], 'dates': ['1798']}, 'Resumption of Diplomatic and Cultural Relations with France, 1801.': {'places': ['Morfontaine'], 'persons': [], 'dates': ['1801']}, 'Elevation of American Legation to Embassy Status, 1893.': {'places': [], 'persons': [], 'dates': ['1893']}, 'American Ambassador Separated from the French Government, 1940.': {'places': ['Paris', 'Clermont-Ferrand'], 'persons': [], 'dates': ['1940']}, 'American Embassy Moved to Vichy, 1940.': {'places': ['Vichy'], 'persons': ['Paul Reynaud', 'Marshal Henri Philippe Pétain'], 'dates': ['1940']}, 'Diplomatic Relations Severed by France, 1942.': {'places': [], 'persons': ['Pierre Laval'], 'dates': ['1942']}, 'Limited U.S. Recognition of the French Committee of National Liberation,\\n                            1943.': {'places': ['Algiers'], 'persons': ['Charles de Gaulle', 'Henri Giraud'], 'dates': ['1943']}, 'U.S. Recognition of the Provisional Government of the French Republic,\\n                            1944.': {'places': [], 'persons': ['Jefferson Caffery', 'Georges Bidault'], 'dates': ['1944']}, 'Reopening of American Embassy in Paris, 1944.': {'places': [], 'persons': [], 'dates': ['1944']}, 'Treaties and Agreements': {'places': [], 'persons': [], 'dates': ['1778']}, 'Treaty of Amity and Commerce, 1778.': {'places': [], 'persons': [], 'dates': ['1778']}, 'Resources': {'places': [], 'persons': [], 'dates': []}}}, {'name': 'Gabon', 'url': 'https://history.state.gov/countries/gabon', 'flag': 'https://static.history.state.gov/countries/gabon-flag.jpg', 'infos': {'Summary': {'places': [], 'persons': ['Dwight D. Eisenhower', 'Leon M’ba'], 'dates': []}, 'Recognition': {'places': [], 'persons': ['Dwight D. Eisenhower'], 'dates': ['1960']}, 'U.S. Recognition of Gabon’s Independence, 1960.': {'places': [], 'persons': ['Dwight D. Eisenhower'], 'dates': ['1960']}, 'Diplomatic Relations': {'places': ['Libreville'], 'persons': [], 'dates': ['1960', '1961']}, 'Establishment of Diplomatic Relations, 1960.': {'places': [], 'persons': [], 'dates': ['1960']}, 'Establishment of the American Embassy in Gabon, 1961.': {'places': ['Libreville'], 'persons': [], 'dates': ['1961']}, 'Resources': {'places': [], 'persons': [], 'dates': []}}}, {'name': 'Gambia', 'url': 'https://history.state.gov/countries/gambia', 'flag': 'https://static.history.state.gov/countries/gambia-flag.jpg', 'infos': {'Summary': {'places': ['The Gambia', 'Bathurst', 'The Gambia', 'Dakar', 'Bathurst (now\\n                                Banjul)'], 'persons': ['Lyndon B. Johnson', 'Lyndon B.\\n                                Johnson'], 'dates': ['1965', '1965', '1965']}, 'Recognition': {'places': ['The Gambia'], 'persons': ['Lyndon B.\\n                                Johnson'], 'dates': ['1965']}, 'U.S. Recognition of Gambian Independence, 1965.': {'places': ['The Gambia'], 'persons': ['Lyndon B.\\n                                Johnson'], 'dates': ['1965']}, 'Diplomatic Relations': {'places': ['Dakar', 'Bathurst (now\\n                                Banjul)'], 'persons': [], 'dates': ['1965', '1965']}, 'Establishment of Diplomatic Relations, 1965.': {'places': ['Dakar'], 'persons': [], 'dates': ['1965']}, 'Establishment of the American Embassy in The Gambia, 1965.': {'places': ['Bathurst (now\\n                                Banjul)'], 'persons': [], 'dates': ['1965']}, 'Resources': {'places': [], 'persons': [], 'dates': []}}}, {'name': 'Georgia', 'url': 'https://history.state.gov/countries/georgia', 'flag': 'https://static.history.state.gov/countries/georgia-flag.jpg', 'infos': {'Summary': {'places': [], 'persons': ['George H.W. Bush'], 'dates': []}, 'Recognition': {'places': [], 'persons': [], 'dates': ['1992']}, 'Establishment of Diplomatic Relations, 1992.': {'places': [], 'persons': [], 'dates': ['1992']}, 'Diplomatic Relations': {'places': ['T’bilisi'], 'persons': [], 'dates': ['1992']}, 'Establishment of the American Embassy in T’bilisi,\\n                            1992.': {'places': ['T’bilisi'], 'persons': [], 'dates': ['1992']}, 'Resources': {'places': [], 'persons': [], 'dates': []}}}, {'name': 'Germany', 'url': 'https://history.state.gov/countries/germany', 'flag': 'https://static.history.state.gov/countries/germany-flag.jpg', 'infos': {'Summary': {'places': ['Berlin', 'Bonn', 'Berlin'], 'persons': ['Bernard König', 'Ulysses S. Grant', 'John\\n                                Adams', 'Frederick William II', 'Frederick\\n                                William III', 'Wilhelm\\n                                I', 'Ulysses S. Grant', 'Count Johann von Bernstorff', 'Woodrow Wilson', 'Arthur Balfour', 'Ellis Loring\\n                                Dresel', 'Dr. Friedrich Rosen', 'Hans\\n                                Heinrich Dieckhoff', 'Franklin\\n                                Roosevelt', 'Heinz L. Krekeler', 'George H.W. Bush'], 'dates': ['1785', '1871', '1797', '1871', '1893', '1917', '1917', '1921', '1938', '1941', '1951', '1949-1955', '1974', '1990-91', '1999']}, 'Recognition': {'places': [], 'persons': [], 'dates': ['1785']}, 'Prussian Recognition of the Independence of the United States, 1785.': {'places': [], 'persons': [], 'dates': ['1785']}, 'Consular Presence': {'places': ['Berlin'], 'persons': ['Bernard König', 'Ulysses S. Grant'], 'dates': ['1871']}, 'Consular Convention in Berlin,\\n                                1871.': {'places': ['Berlin'], 'persons': ['Bernard König', 'Ulysses S. Grant'], 'dates': ['1871']}, 'Diplomatic Relations': {'places': ['Bonn', 'Berlin'], 'persons': ['John\\n                                Adams', 'Frederick William II', 'Frederick\\n                                William III', 'Wilhelm\\n                                I', 'Ulysses S. Grant', 'Count Johann von Bernstorff', 'Woodrow Wilson', 'Arthur Balfour', 'Ellis Loring\\n                                Dresel', 'Dr. Friedrich Rosen', 'Hans\\n                                Heinrich Dieckhoff', 'Franklin\\n                                Roosevelt', 'Heinz L. Krekeler', 'George H.W. Bush'], 'dates': ['1797', '1871', '1893', '1917', '1917', '1921', '1938', '1941', '1951', '1949-1955', '1974', '1990-91', '1999']}, 'Establishment of Diplomatic Relations with Prussia and the American\\n                            Diplomatic Mission in Berlin, 1797.': {'places': [], 'persons': ['John\\n                                Adams', 'Frederick William II', 'Frederick\\n                                William III'], 'dates': ['1797']}, 'Establishment of Diplomatic Relations with the German Empire, 1871.': {'places': [], 'persons': ['Wilhelm\\n                                I', 'Ulysses S. Grant'], 'dates': ['1871']}, 'Elevation of American Legation to Embassy Status, 1893.': {'places': [], 'persons': [], 'dates': ['1893']}, 'Termination of Relations During the First World War, 1917.': {'places': [], 'persons': ['Count Johann von Bernstorff', 'Woodrow Wilson'], 'dates': ['1917']}, 'U.S. Declaration of War Against Germany, 1917.': {'places': [], 'persons': ['Arthur Balfour'], 'dates': ['1917']}, 'Reestablishment of Diplomatic Relations, 1921.': {'places': [], 'persons': ['Ellis Loring\\n                                Dresel', 'Dr. Friedrich Rosen'], 'dates': ['1921']}, 'Withdrawal of Ambassadors following the Reichskristallnacht, 1938.': {'places': [], 'persons': ['Hans\\n                                Heinrich Dieckhoff'], 'dates': ['1938']}, 'Diplomatic Relations Severed by Germany, 1941.': {'places': [], 'persons': ['Franklin\\n                                Roosevelt'], 'dates': ['1941']}, 'End of Hostilities between the United States and Germany, 1951.': {'places': [], 'persons': [], 'dates': ['1951']}, 'Division of Germany and the Establishment of Diplomatic Relations with\\n                            the German Federal Republic (FRG), 1949-1955.': {'places': ['Bonn'], 'persons': ['Heinz L. Krekeler'], 'dates': ['1949-1955']}, 'Recognition of the German Democratic Republic, and the Establishment\\n                            of Diplomatic Relations and the American Embassy in Berlin, 1974.': {'places': ['Berlin'], 'persons': [], 'dates': ['1974']}, 'International Recognition of Reunified Germany, 1990-91.': {'places': [], 'persons': ['George H.W. Bush'], 'dates': ['1990-91']}, 'American Embassy Moves from Bonn to Berlin, 1999.': {'places': [], 'persons': [], 'dates': ['1999']}, 'Resources': {'places': [], 'persons': [], 'dates': []}}}, {'name': 'Ghana', 'url': 'https://history.state.gov/countries/ghana', 'flag': 'https://static.history.state.gov/countries/ghana-flag.jpg', 'infos': {'Summary': {'places': ['Ghana'], 'persons': [], 'dates': []}, 'Recognition': {'places': ['Ghana'], 'persons': [], 'dates': ['1957']}, 'U.S. Recognition of Ghanaian Independence, 1957.': {'places': ['Ghana'], 'persons': [], 'dates': ['1957']}, 'Diplomatic Relations': {'places': ['Accra'], 'persons': [], 'dates': ['1957']}, 'Establishment of Diplomatic Relations and the American Embassy in Ghana,\\n                            1957.': {'places': ['Accra'], 'persons': [], 'dates': ['1957']}, 'Resources': {'places': [], 'persons': [], 'dates': []}}}, {'name': 'Grand-duchy-tuscany', 'url': 'https://history.state.gov/countries/grand-duchy-tuscany', 'flag': '', 'infos': {'Summary': {'places': ['Grand Duchy of Tuscany', 'Leghorn\\n                        (Livorno)'], 'persons': ['Ralph Izard'], 'dates': []}, 'Recognition': {'places': [], 'persons': [], 'dates': ['1794']}, 'Grand Duchy of Tuscany’s Recognition of the United States, 1794.': {'places': [], 'persons': [], 'dates': ['1794']}, 'Consular Presence': {'places': [], 'persons': ['Philip Felicchi', 'James\\n                        Ombrosi', 'John\\n                            F. Mansony', 'James\\n                            Monroe', 'G.B.\\n                            Tagliaferri', 'Franklin Pierce'], 'dates': []}, 'The first U.S. consulate was established in the Tuscan port city of\\n                        Leghorn (Livorno).': {'places': [], 'persons': ['Philip Felicchi', 'James\\n                        Ombrosi', 'John\\n                            F. Mansony', 'James\\n                            Monroe', 'G.B.\\n                            Tagliaferri', 'Franklin Pierce'], 'dates': []}, 'Diplomatic Relations': {'places': [], 'persons': [], 'dates': []}, 'No Diplomatic Relations Established.': {'places': [], 'persons': [], 'dates': []}, 'Treaties and Agreements': {'places': [], 'persons': [], 'dates': []}, 'No bilateral treaties or agreements between the United States and the\\n                        Grand Duchy of Tuscany.': {'places': [], 'persons': [], 'dates': []}, 'Key Diplomatic Events': {'places': [], 'persons': ['Ralph Izard'], 'dates': ['1777', '1861']}, 'Appointment of First U.S. Representative to the Grand Duchy of Tuscany,\\n                            1777.': {'places': [], 'persons': ['Ralph Izard'], 'dates': ['1777']}, 'Proclamation of the Kingdom of Italy, 1861.': {'places': [], 'persons': [], 'dates': ['1861']}, 'Issues Relevant to U.S. Foreign Diplomacy': {'places': [], 'persons': [], 'dates': []}, 'Trade and Commerce.': {'places': [], 'persons': [], 'dates': []}, 'Resources': {'places': [], 'persons': [], 'dates': []}}}, {'name': 'Greece', 'url': 'https://history.state.gov/countries/greece', 'flag': 'https://static.history.state.gov/countries/greece-flag.jpg', 'infos': {'Summary': {'places': ['Great\\n                            Britain', 'France', 'Russia', 'Athens', 'Athens'], 'persons': ['Otho', 'Gregory A.\\n                                Perdicaris'], 'dates': ['1837', '1837', '1868', '1941', '1942', '1943', '1944']}, 'Recognition': {'places': ['Great\\n                            Britain', 'France', 'Russia'], 'persons': ['Otho'], 'dates': ['1837']}, 'U.S. Recognition of Greek Independence, 1837.': {'places': ['Great\\n                            Britain', 'France', 'Russia'], 'persons': ['Otho'], 'dates': ['1837']}, 'Consular Presence': {'places': ['Athens'], 'persons': ['Gregory A.\\n                                Perdicaris'], 'dates': ['1837']}, 'Establishment of Consular Relations, 1837.': {'places': ['Athens'], 'persons': ['Gregory A.\\n                                Perdicaris'], 'dates': ['1837']}, 'Diplomatic Relations': {'places': ['Athens'], 'persons': [], 'dates': ['1868', '1941', '1942', '1943', '1944']}, 'Establishment of Diplomatic Relations and the American Legation in\\n                            Greece, 1868.': {'places': [], 'persons': [], 'dates': ['1868']}, 'Closure of American Legation in Athens and Opening of Legation in\\n                            London, 1941.': {'places': [], 'persons': [], 'dates': ['1941']}, 'Elevation of American Legation to Embassy Status, 1942.': {'places': [], 'persons': [], 'dates': ['1942']}, 'American Embassy Moved to Cairo, 1943.': {'places': [], 'persons': [], 'dates': ['1943']}, 'American Embassy Returned to Athens, 1944.': {'places': ['Athens'], 'persons': [], 'dates': ['1944']}, 'Treaties & Agreements': {'places': [], 'persons': [], 'dates': ['1837']}, 'Treaty of Commerce and Navigation, 1837.': {'places': [], 'persons': [], 'dates': ['1837']}, 'Resources': {'places': [], 'persons': [], 'dates': []}}}, {'name': 'Grenada', 'url': 'https://history.state.gov/countries/grenada', 'flag': 'https://static.history.state.gov/countries/grenada-flag.jpg', 'infos': {'Summary': {'places': [], 'persons': ['Maurice\\n                    Bishop'], 'dates': []}, 'Recognition': {'places': [], 'persons': [], 'dates': ['1974']}, 'U.S. Recognition of Grenadian Independence, 1974.': {'places': [], 'persons': [], 'dates': ['1974']}, 'Diplomatic Relations': {'places': ['St.\\n                            George’s'], 'persons': ['Marie J. McIntyre', 'Gerald R. Ford'], 'dates': ['1974', '1975', '1984']}, 'Establishment of Diplomatic Relations, 1974.': {'places': [], 'persons': ['Marie J. McIntyre', 'Gerald R. Ford'], 'dates': ['1974']}, 'Establishment of American Diplomatic Mission to Grenada, 1975.': {'places': ['St.\\n                            George’s'], 'persons': [], 'dates': ['1975']}, 'Establishment of the American Embassy in Grenada, 1984.': {'places': [], 'persons': [], 'dates': ['1984']}, 'Resources': {'places': [], 'persons': [], 'dates': []}}}, {'name': 'Guatemala', 'url': 'https://history.state.gov/countries/guatemala', 'flag': 'https://static.history.state.gov/countries/guatemala.jpg', 'infos': {'Summary': {'places': [], 'persons': [], 'dates': []}, 'Recognition': {'places': ['Honduras', 'Nicaragua', 'Costa Rica', 'El\\n                            Salvador'], 'persons': ['James Monroe', 'Antonio José\\n                            Cañaz', 'Antonío de\\n                            Aycinena'], 'dates': ['1824', '1844']}, 'United States Recognition of the Federation of Central American States,\\n                            1824.': {'places': ['Honduras', 'Nicaragua', 'Costa Rica', 'El\\n                            Salvador'], 'persons': ['James Monroe', 'Antonio José\\n                            Cañaz'], 'dates': ['1824']}, 'States Recognition of Independent Guatemala, 1844.': {'places': [], 'persons': ['Antonío de\\n                            Aycinena'], 'dates': ['1844']}, 'Diplomatic Relations': {'places': ['Guatemala\\n                            City'], 'persons': ['Antonio José Cañaz', 'Jacobo Arbenz Guzmán', 'Elfego H.\\n                            Monzon', 'Carlos Salazar\\n                            Gática', 'John Foster Dulles'], 'dates': ['1824', '1826', '1849', '1882', '1954', '1954']}, 'Establishment of Diplomatic Relations, 1824.': {'places': [], 'persons': ['Antonio José Cañaz'], 'dates': ['1824']}, 'Establishment of the American Legation in Guatemala, 1826.': {'places': [], 'persons': [], 'dates': ['1826']}, 'Establishment of Diplomatic Relations with Independent Guatemala, 1849.': {'places': [], 'persons': [], 'dates': ['1849']}, 'American Legation Raised to Embassy, 1882.': {'places': [], 'persons': [], 'dates': ['1882']}, 'Normal Relations Interrupted, 1954.': {'places': [], 'persons': ['Jacobo Arbenz Guzmán', 'Elfego H.\\n                            Monzon', 'Carlos Salazar\\n                            Gática'], 'dates': ['1954']}, 'Relations Resumed, 1954.': {'places': ['Guatemala\\n                            City'], 'persons': ['John Foster Dulles'], 'dates': ['1954']}, 'Resources': {'places': [], 'persons': [], 'dates': []}}}, {'name': 'Guinea', 'url': 'https://history.state.gov/countries/guinea', 'flag': 'https://static.history.state.gov/countries/guinea.jpg', 'infos': {'Summary': {'places': ['Republic of Guinea'], 'persons': ['Dwight D. Eisenhower', 'Sekou Toure'], 'dates': []}, 'Recognition': {'places': ['Republic of Guinea'], 'persons': ['Dwight D. Eisenhower', 'Sekou\\n                            Toure'], 'dates': ['1958']}, 'U.S. Recognition of Guinean Independence, 1958.': {'places': ['Republic of Guinea'], 'persons': ['Dwight D. Eisenhower', 'Sekou\\n                            Toure'], 'dates': ['1958']}, 'Diplomatic Relations': {'places': ['Conakry'], 'persons': [], 'dates': ['1959']}, 'Establishment of Diplomatic Relations and the American Embassy in Guinea,\\n                            1959.': {'places': ['Conakry'], 'persons': [], 'dates': ['1959']}, 'Resources': {'places': [], 'persons': [], 'dates': []}}}, {'name': 'Guinea-bissau', 'url': 'https://history.state.gov/countries/guinea-bissau', 'flag': 'https://static.history.state.gov/countries/guinea-bissau.jpg', 'infos': {'Summary': {'places': ['Republic of Guinea-Bissau'], 'persons': ['Gerald R. Ford', 'Luis de\\n                        Akmeida Cabral'], 'dates': []}, 'Recognition': {'places': ['Republic of\\n                            Guinea-Bissau'], 'persons': ['Gerald R. Ford', 'Luis de Akmeida\\n                            Cabral'], 'dates': ['1974']}, 'U.S. Recognition of Guinea-Bissau, 1974.': {'places': ['Republic of\\n                            Guinea-Bissau'], 'persons': ['Gerald R. Ford', 'Luis de Akmeida\\n                            Cabral'], 'dates': ['1974']}, 'Diplomatic Relations': {'places': [], 'persons': [], 'dates': []}, 'Establishment of Diplomatic Relations, 1975.': {'places': [], 'persons': ['Gil Vicente Vaz Fernandes', 'President Gerald R. Ford'], 'dates': ['1975']}, 'Establishment of the American Embassy in Guinea-Bissau, 1976.': {'places': ['Bissau'], 'persons': [], 'dates': ['1976']}, 'Suspension of the U.S. Embassy in Guinea-Bissau, 1998.': {'places': [], 'persons': [], 'dates': ['1998']}, 'Accreditation of U.S. Ambassador, 2003.': {'places': [], 'persons': ['Kumba Yala'], 'dates': ['2003']}, 'Resources': {'places': [], 'persons': [], 'dates': []}}}, {'name': 'Guyana', 'url': 'https://history.state.gov/countries/guyana', 'flag': 'https://static.history.state.gov/countries/guyana-flag.jpg', 'infos': {'Summary': {'places': [], 'persons': [], 'dates': []}, 'Recognition': {'places': ['Georgetown'], 'persons': [], 'dates': ['1966', '1966']}, 'U.S. Recognition of Guyanan Independence, 1966.': {'places': ['Georgetown'], 'persons': [], 'dates': ['1966']}, 'Diplomatic Relations': {'places': [], 'persons': [], 'dates': ['1966']}, 'Establishment of Diplomatic Relations and the American Embassy in\\n                            Guyana 1966.': {'places': [], 'persons': [], 'dates': ['1966']}, 'Resources': {'places': [], 'persons': [], 'dates': []}}}, {'name': 'Haiti', 'url': 'https://history.state.gov/countries/haiti', 'flag': 'https://static.history.state.gov/countries/haiti.jpg', 'infos': {'Summary': {'places': ['France'], 'persons': [], 'dates': []}, 'Recognition': {'places': [], 'persons': ['Abraham Lincoln'], 'dates': ['1862']}, 'U.S. Recognition of Haitian Independence, 1862.': {'places': [], 'persons': ['Abraham Lincoln'], 'dates': ['1862']}, 'Diplomatic Relations': {'places': ['Port-au-Prince'], 'persons': ['Benjamin F.\\n                            Whidden'], 'dates': ['1862', '1943']}, 'Establishment of Diplomatic Relations and the American Legation in Haiti,\\n                            1862.': {'places': ['Port-au-Prince'], 'persons': ['Benjamin F.\\n                            Whidden'], 'dates': ['1862']}, 'Elevation of American Legation to Embassy Status, 1943.': {'places': [], 'persons': [], 'dates': ['1943']}, 'Resources': {'places': [], 'persons': [], 'dates': []}}}, {'name': 'Hanover', 'url': 'https://history.state.gov/countries/hanover', 'flag': '', 'infos': {'Summary': {'places': ['Hanover'], 'persons': ['George III'], 'dates': []}, 'Recognition': {'places': [], 'persons': ['Theodore Meyer\\n                            Esq.'], 'dates': ['1830']}, 'Mutual Recognition, 1830.': {'places': [], 'persons': ['Theodore Meyer\\n                            Esq.'], 'dates': ['1830']}, 'Diplomatic Relations': {'places': [], 'persons': [], 'dates': []}, 'Establishment of Diplomatic Relations.': {'places': [], 'persons': [], 'dates': []}, 'Treaties and Agreements': {'places': [], 'persons': ['Henry Wheaton', 'Le Sieur Auguste de\\n                            Berger', 'Count Adolphus von\\n                            Kielmansegge', 'Norman B. Judd', 'August Wilhelm von Reitzenstein'], 'dates': ['1840', '1846', '1855', '1861']}, 'Treaty of Commerce and Navigation, 1840.': {'places': [], 'persons': ['Henry Wheaton', 'Le Sieur Auguste de\\n                            Berger'], 'dates': ['1840']}, 'Treaty of Commerce and Navigation, 1846.': {'places': [], 'persons': [], 'dates': ['1846']}, 'Extradition Treaty, 1855.': {'places': [], 'persons': ['Count Adolphus von\\n                            Kielmansegge'], 'dates': ['1855']}, 'Convention Abolishing Stade or Brunshausen Dues, 1861.': {'places': [], 'persons': ['Norman B. Judd', 'August Wilhelm von Reitzenstein'], 'dates': ['1861']}, 'Key Diplomatic Events': {'places': [], 'persons': [], 'dates': ['1866']}, 'The Austro-Prussian War of 1866.': {'places': [], 'persons': [], 'dates': ['1866']}, 'German Unification.': {'places': [], 'persons': [], 'dates': []}, 'Resources': {'places': [], 'persons': [], 'dates': []}}}, {'name': 'Hanseatic-republics', 'url': 'https://history.state.gov/countries/hanseatic-republics', 'flag': '', 'infos': {'Summary': {'places': ['Hanseatic Republics', 'Bremen', 'Lübeck', 'Hamburg'], 'persons': ['Napoleon Bonaparte'], 'dates': []}, 'Recognition': {'places': [], 'persons': ['John Parish', 'Arnold Delius', 'Vincent Rumpff'], 'dates': ['1790-1793', '1794', 'December 4,\\n                            1827']}, 'Mutual Acts of Recognition, 1790-1793.': {'places': [], 'persons': ['John Parish'], 'dates': ['1790-1793']}, 'Recognition between the U.S. and Breman, 1794.': {'places': [], 'persons': ['Arnold Delius'], 'dates': ['1794']}, 'Hanseatic Representation in the U.S., December 4,\\n                            1827.': {'places': [], 'persons': ['Vincent Rumpff'], 'dates': ['December 4,\\n                            1827']}, 'Consular Presence': {'places': [], 'persons': [], 'dates': ['May 29,\\n                            1794', 'June 27,\\n                            1882', 'June 17,\\n                            1790', 'August 6,\\n                            1824', 'January 24, 1857']}, 'First consulate opens in Bremen, May 29,\\n                            1794.': {'places': [], 'persons': [], 'dates': ['May 29,\\n                            1794']}, 'U.S. consulate opens in Bremerhaven, June 27,\\n                            1882.': {'places': [], 'persons': [], 'dates': ['June 27,\\n                            1882']}, 'U.S. consulate opens in Hamburg, June 17,\\n                            1790.': {'places': [], 'persons': [], 'dates': ['June 17,\\n                            1790']}, 'U.S. consulate opens in Lübeck, August 6,\\n                            1824.': {'places': [], 'persons': [], 'dates': ['August 6,\\n                            1824']}, 'U.S. consulate opens in Hanseatic and Free Cities, January 24, 1857.': {'places': [], 'persons': [], 'dates': ['January 24, 1857']}, 'Diplomatic Relations': {'places': [], 'persons': ['Rudolph\\n                            Schleiden', 'A. Schumacker', 'Dr. Johannes Rosing'], 'dates': ['1853', '1868']}, 'Establishment of Diplomatic Relations, 1853.': {'places': [], 'persons': ['Rudolph\\n                            Schleiden'], 'dates': ['1853']}, 'Cessation of Relations, 1868.': {'places': [], 'persons': ['A. Schumacker', 'Dr. Johannes Rosing'], 'dates': ['1868']}, 'Treaties and Agreements': {'places': [], 'persons': ['Vincent Rumpff'], 'dates': ['1827', '1827,\\n                            1828', '1852', '1853']}, 'Convention of Friendship, Commerce, and Navigation, 1827.': {'places': [], 'persons': ['Vincent Rumpff'], 'dates': ['1827']}, 'Additional Article to Convention of 1827,\\n                            1828.': {'places': [], 'persons': [], 'dates': ['1827,\\n                            1828']}, 'Consular Convention, 1852.': {'places': [], 'persons': [], 'dates': ['1852']}, 'Declaration of Accession of the Senate of the Free Hanseatic City of\\n                        Bremen to the Convention for the Extradition of Criminals, Fugitives From\\n                        Justice, Between Prussia and Other States of the Germanic Confederation and\\n                        the United States, 1853.': {'places': [], 'persons': [], 'dates': ['1853']}, 'Key Diplomatic Events': {'places': [], 'persons': [], 'dates': ['1867-68', '1871']}, 'Bremen, Lübeck, and Hamburg Join the North German Confederation, 1867-68.': {'places': [], 'persons': [], 'dates': ['1867-68']}, 'Bremen, Lübeck, and Hamburg Join the German Empire, 1871.': {'places': [], 'persons': [], 'dates': ['1871']}, 'Issues Relevant to U.S. Foreign Diplomacy': {'places': [], 'persons': [], 'dates': []}, 'Trade and Commerce.': {'places': [], 'persons': [], 'dates': []}, 'Resources': {'places': [], 'persons': [], 'dates': []}}}, {'name': 'Hawaii', 'url': 'https://history.state.gov/countries/hawaii', 'flag': '', 'infos': {'Summary': {'places': ['Hawaiian Islands'], 'persons': ['James Cook', 'King Kamehameha ', 'George Vancouver'], 'dates': []}, 'Recognition': {'places': [], 'persons': [], 'dates': ['1826']}, 'U.S. Recognition of Hawaiian Independence, 1826.': {'places': [], 'persons': [], 'dates': ['1826']}, 'Consular Presence': {'places': ['port of Honolulu', 'Hilo', 'Kahului', 'Lahaina', 'Mahukona'], 'persons': ['John Coffin Jones, Jr.', 'Peter A. Brinsmade'], 'dates': ['September 19,\\n                        1820', 'August 31, 1852', 'August 12, 1898', 'October, 1820', 'June 19, 1863', 'August 20, 1880', 'August 12, 1898', 'April 22, 1850', 'April 9,\\n                            1869', 'September 15, 1882', 'August 12, 1898']}, 'Port of Honolulu, September 19,\\n                        1820.': {'places': ['port of Honolulu'], 'persons': ['John Coffin Jones, Jr.', 'Peter A. Brinsmade'], 'dates': ['September 19,\\n                        1820']}, 'Hilo.': {'places': ['Hilo'], 'persons': [], 'dates': ['August 31, 1852', 'August 12, 1898']}, 'Honolulu.': {'places': [], 'persons': [], 'dates': ['October, 1820', 'June 19, 1863']}, 'Kahului.': {'places': ['Kahului'], 'persons': [], 'dates': ['August 20, 1880', 'August 12, 1898']}, 'Lahaina (Rahaina).': {'places': ['Lahaina'], 'persons': [], 'dates': ['April 22, 1850', 'April 9,\\n                            1869']}, 'Mahukona.': {'places': ['Mahukona'], 'persons': [], 'dates': ['September 15, 1882', 'August 12, 1898']}, 'Diplomatic Relations': {'places': [], 'persons': ['William\\n                            McKinley'], 'dates': ['1853', '1863', '1898']}, 'Establishment of Diplomatic Relations and the American Legation at\\n                        Honolulu, 1853.': {'places': [], 'persons': [], 'dates': ['1853']}, 'Elevation of the U.S. Representative to the Kingdom of Hawaii to Minister,\\n                            1863.': {'places': [], 'persons': [], 'dates': ['1863']}, 'Cessation of Relations and Closure of the American Legation, 1898.': {'places': [], 'persons': ['William\\n                            McKinley'], 'dates': ['1898']}, 'Treaties and Agreements': {'places': [], 'persons': ['James Jackson Jarves', 'Elisha H. Allen'], 'dates': ['1826', '1849', '1875', '1884']}, 'Treaty of Friendship, Commerce, and Navigation Between the United States\\n                        and the Sandwich Islands (Hawaii), 1826.': {'places': [], 'persons': [], 'dates': ['1826']}, 'Treaty of Friendship, Commerce, and Navigation and Extradition, 1849.': {'places': [], 'persons': ['James Jackson Jarves'], 'dates': ['1849']}, 'Treaty of Reciprocity, 1875.': {'places': [], 'persons': ['Elisha H. Allen'], 'dates': ['1875']}, 'Reciprocity Convention, 1884.': {'places': [], 'persons': [], 'dates': ['1884']}, 'Issues Relevant to U.S. Foreign Diplomacy': {'places': [], 'persons': [], 'dates': []}, 'Whaling Industry.': {'places': [], 'persons': [], 'dates': []}, 'Missionary Work.': {'places': [], 'persons': [], 'dates': []}, 'Sugar Trade.': {'places': [], 'persons': [], 'dates': []}, 'Resources': {'places': [], 'persons': [], 'dates': []}}}, {'name': 'Hesse', 'url': 'https://history.state.gov/countries/hesse', 'flag': '', 'infos': {'Summary': {'places': ['Hesse'], 'persons': [], 'dates': []}, 'Recognition': {'places': [], 'persons': ['Frederick Kahl'], 'dates': ['1829']}, 'Mutual Recognition, 1829.': {'places': [], 'persons': ['Frederick Kahl'], 'dates': ['1829']}, 'Consular Presence': {'places': ['Hessen-Romberg'], 'persons': [], 'dates': ['May 14, 1829']}, 'Grand Duchy of Hesse, May 14, 1829.': {'places': ['Hessen-Romberg'], 'persons': [], 'dates': ['May 14, 1829']}, 'Diplomatic Relations': {'places': ['Berlin'], 'persons': ['Woodrow Wilson'], 'dates': ['1868', '1917']}, 'Expansion of Relations, 1868.': {'places': [], 'persons': [], 'dates': ['1868']}, 'Cessation of Relations with Imperial Germany, 1917.': {'places': ['Berlin'], 'persons': ['Woodrow Wilson'], 'dates': ['1917']}, 'Treaties and Agreements': {'places': ['Darmstadt'], 'persons': ['Baron Schaeffer\\n                            Bernstein', 'Frederick Baron von Lindelof'], 'dates': ['1844', '1868']}, 'Convention for the Mutual Abolition of the Droit d’Aubaine and Taxes on\\n                        Emigration, 1844.': {'places': [], 'persons': ['Baron Schaeffer\\n                            Bernstein'], 'dates': ['1844']}, 'Agreement on Naturalization, 1868.': {'places': ['Darmstadt'], 'persons': ['Frederick Baron von Lindelof'], 'dates': ['1868']}, 'Key Diplomatic Events': {'places': [], 'persons': [], 'dates': ['1871']}, 'Hesse Joins the German Empire, 1871.': {'places': [], 'persons': [], 'dates': ['1871']}, 'German Unification.': {'places': [], 'persons': [], 'dates': []}, 'Resources': {'places': [], 'persons': [], 'dates': []}}}, {'name': 'Holy-see', 'url': 'https://history.state.gov/countries/holy-see', 'flag': '', 'infos': {'Summary': {'places': ['Vatican\\n                        City'], 'persons': [], 'dates': []}, 'Recognition': {'places': [], 'persons': ['Ronald Reagan', 'Pope John Paul\\n                            II'], 'dates': ['1984']}, 'U.S. Recognition of the Independence of the Holy See, 1984.': {'places': [], 'persons': ['Ronald Reagan', 'Pope John Paul\\n                            II'], 'dates': ['1984']}, 'Consular Presence': {'places': [], 'persons': [], 'dates': ['1797-1870']}, 'U.S. Consular Relations with the Papal States, 1797-1870.': {'places': [], 'persons': [], 'dates': ['1797-1870']}, 'Diplomatic Relations': {'places': [], 'persons': [], 'dates': ['1984', '1984']}, 'Establishment of Diplomatic Relations, 1984.': {'places': [], 'persons': [], 'dates': ['1984']}, 'Establishment of American Embassy at the Holy See, 1984.': {'places': [], 'persons': [], 'dates': ['1984']}, 'Resources': {'places': [], 'persons': [], 'dates': []}}}, {'name': 'Honduras', 'url': 'https://history.state.gov/countries/honduras', 'flag': 'https://static.history.state.gov/countries/honduras-flag.jpg', 'infos': {'Summary': {'places': [], 'persons': [], 'dates': []}, 'Recognition': {'places': ['Spain'], 'persons': ['James Monroe', 'Mr.\\n                            Canaz', 'Solon\\n                            Borland'], 'dates': ['1824', '1853']}, 'U.S. Recognition of Honduran Independence, 1824\\n                        & 1853.': {'places': ['Spain'], 'persons': ['James Monroe', 'Mr.\\n                            Canaz', 'Solon\\n                            Borland'], 'dates': ['1824', '1853']}, 'Diplomatic Relations': {'places': ['Tegucigalpa', 'Comayagua'], 'persons': ['John D. Irwin'], 'dates': ['1853', '1856', '1943']}, 'Establishment of Diplomatic Relations, 1853.': {'places': ['Tegucigalpa'], 'persons': [], 'dates': ['1853']}, 'Establishment of the American Legation in Tegucigalpa, 1856.': {'places': ['Comayagua'], 'persons': [], 'dates': ['1856']}, 'Elevation of American Legation to Embassy Status, 1943.': {'places': [], 'persons': ['John D. Irwin'], 'dates': ['1943']}, 'Resources': {'places': [], 'persons': [], 'dates': []}}}, {'name': 'Hungary', 'url': 'https://history.state.gov/countries/hungary', 'flag': 'https://static.history.state.gov/countries/hungary.jpg', 'infos': {'Summary': {'places': [], 'persons': ['Imre Nagy'], 'dates': []}, 'Recognition': {'places': [], 'persons': ['Woodrow Wilson'], 'dates': ['1921']}, 'U.S. Recognition of Hungarian Independence, 1921.': {'places': [], 'persons': ['Woodrow Wilson'], 'dates': ['1921']}, 'Consular Presence': {'places': ['Pesth', 'Budapest', 'Fiume'], 'persons': ['Fiorello LaGuardia'], 'dates': ['1869']}, 'Establishment of Consular Relations, 1869.': {'places': ['Pesth', 'Budapest', 'Fiume'], 'persons': ['Fiorello LaGuardia'], 'dates': ['1869']}, 'Diplomatic Relations': {'places': [], 'persons': ['Laszlo Szechenyi', 'Franklin D.\\n                            Roosevelt', 'Aladar de Szegedy-Maszak', 'Janos Nagy', 'Louis Kossuth', 'Jozsef\\n                                    Mindszenty'], 'dates': ['1921', '1921', '1922', '1941', '1945', '1956-1957', '1966', '1924', '', '', '']}, 'Establishment of Diplomatic Relations, 1921.': {'places': [], 'persons': [], 'dates': ['1921']}, 'Establishment of American Legation in Budapest, 1921.': {'places': [], 'persons': [], 'dates': ['1921']}, 'Establishment of Hungarian Legation in the United States, 1922.': {'places': [], 'persons': ['Laszlo Szechenyi'], 'dates': ['1922']}, 'Relations Interrupted, 1941.': {'places': [], 'persons': ['Franklin D.\\n                            Roosevelt'], 'dates': ['1941']}, 'Relations Resumed, 1945.': {'places': [], 'persons': ['Aladar de Szegedy-Maszak'], 'dates': ['1945']}, 'Revolution of 1956 and U.S.-Hungarian Relations, 1956-1957.': {'places': [], 'persons': [], 'dates': ['1956-1957']}, 'Elevation of American Legation to Embassy Status, 1966.': {'places': [], 'persons': ['Janos Nagy'], 'dates': ['1966']}, 'Treaties and Agreements': {'places': [], 'persons': ['Louis Kossuth', 'Jozsef\\n                                    Mindszenty'], 'dates': ['1924', '', '', '']}, 'Treaty of Friendship, Commerce, and Consular Rights, 1924.': {'places': [], 'persons': [], 'dates': ['1924']}, 'Key Diplomatic Events': {'places': [], 'persons': ['Louis Kossuth', 'Jozsef\\n                                    Mindszenty'], 'dates': ['', '', '']}, 'The United States and Hungarian Independence, 1849': {'places': [], 'persons': ['Louis Kossuth'], 'dates': ['']}, 'The United States and Hungarian Coronation Regalia, 1978': {'places': [], 'persons': [], 'dates': ['']}, 'Hugarian Refugees and the United States, 1949': {'places': [], 'persons': ['Jozsef\\n                                    Mindszenty'], 'dates': ['']}, 'Resources': {'places': [], 'persons': [], 'dates': []}}}, {'name': 'Iceland', 'url': 'https://history.state.gov/countries/iceland', 'flag': 'https://static.history.state.gov/countries/iceland.jpg', 'infos': {'Summary': {'places': [], 'persons': [], 'dates': []}, 'Recognition': {'places': ['Denmark', 'Reykjavik'], 'persons': ['Franklin D.\\n                            Roosevelt'], 'dates': ['1944', 'June 17,\\n                            1944', '1941', '1955']}, 'U.S. Recognition of Icelandic Independence, 1944.': {'places': ['Denmark'], 'persons': ['Franklin D.\\n                            Roosevelt'], 'dates': ['1944', 'June 17,\\n                            1944']}, 'Diplomatic Relations': {'places': ['Reykjavik'], 'persons': [], 'dates': ['1941', '1955']}, 'Establishment of Diplomatic Relations and the American Legation in\\n                            Iceland, 1941.': {'places': ['Reykjavik'], 'persons': [], 'dates': ['1941']}, 'Elevation of American Legation to Embassy Status, 1955.': {'places': [], 'persons': [], 'dates': ['1955']}, 'Resources': {'places': [], 'persons': [], 'dates': []}}}, {'name': 'India', 'url': 'https://history.state.gov/countries/india', 'flag': 'https://static.history.state.gov/countries/india.jpg', 'infos': {'Summary': {'places': [], 'persons': [], 'dates': []}, 'Recognition': {'places': [], 'persons': ['Harry S. Truman', 'Lord Louis Mountbatten'], 'dates': ['1947']}, 'U.S. Recognition of Indian Independence, 1947.': {'places': [], 'persons': ['Harry S. Truman', 'Lord Louis Mountbatten'], 'dates': ['1947']}, 'Diplomatic Relations': {'places': ['New Delhi', 'New\\n                            Delhi'], 'persons': [], 'dates': ['1946']}, 'Establishment of Diplomatic Relations and the American Embassy in India,\\n                            1946.': {'places': ['New Delhi', 'New\\n                            Delhi'], 'persons': [], 'dates': ['1946']}, 'Resources': {'places': [], 'persons': [], 'dates': []}}}, {'name': 'Indonesia', 'url': 'https://history.state.gov/countries/indonesia', 'flag': 'https://static.history.state.gov/countries/indonesia.jpg', 'infos': {'Summary': {'places': [], 'persons': [], 'dates': []}, 'Recognition': {'places': [], 'persons': ['Harry S.\\n                            Truman', 'President Sukarno'], 'dates': ['1949']}, 'U.S. Recognition of Indonesian Independence, 1949.': {'places': [], 'persons': ['Harry S.\\n                            Truman', 'President Sukarno'], 'dates': ['1949']}, 'Consular Presence': {'places': ['Jakarta'], 'persons': ['Thomas Hewes'], 'dates': ['1801']}, 'Establishment of Consular Relations, 1801.': {'places': ['Jakarta'], 'persons': ['Thomas Hewes'], 'dates': ['1801']}, 'Diplomatic Relations': {'places': [], 'persons': [], 'dates': ['1949']}, 'Establishment of Diplomatic Relations, 1949.': {'places': [], 'persons': [], 'dates': ['1949']}, 'Resources': {'places': [], 'persons': [], 'dates': []}}}, {'name': 'Iran', 'url': 'https://history.state.gov/countries/iran', 'flag': 'https://static.history.state.gov/countries/iran-flag.jpg', 'infos': {'Summary': {'places': [], 'persons': ['George P. Marsh'], 'dates': []}, 'Recognition': {'places': [], 'persons': [], 'dates': ['1850']}, 'Mutual Recognition, 1850.': {'places': [], 'persons': [], 'dates': ['1850']}, 'Diplomatic Relations': {'places': ['Tehran'], 'persons': [], 'dates': ['1883', '1980']}, 'Establishment of Diplomatic Relations and the American Legation in Iran,\\n                            1883.': {'places': [], 'persons': [], 'dates': ['1883']}, 'Diplomatic Relations Severed, 1980.': {'places': ['Tehran'], 'persons': [], 'dates': ['1980']}, 'Resources': {'places': [], 'persons': [], 'dates': []}}}, {'name': 'Iraq', 'url': 'https://history.state.gov/countries/iraq', 'flag': 'https://static.history.state.gov/countries/iraq-flag.jpg', 'infos': {'Summary': {'places': [], 'persons': ['David Porter'], 'dates': []}, 'Recognition': {'places': [], 'persons': [], 'dates': ['1930']}, 'U.S. Recognition of Iraqi Independence, 1930.': {'places': [], 'persons': [], 'dates': ['1930']}, 'Consular Presence': {'places': ['Baghdad', 'Constantinople, Turkey', 'Baghdad'], 'persons': ['John Henry Haynes'], 'dates': ['1888']}, 'Establishment of Consular Relations, 1888.': {'places': ['Baghdad', 'Constantinople, Turkey', 'Baghdad'], 'persons': ['John Henry Haynes'], 'dates': ['1888']}, 'Diplomatic Relations': {'places': ['Kuwait'], 'persons': ['Ronald Reagan', 'Tariq Aziz', 'L. Paul Bremer\\n                            III', 'Ayad Allawi\\n                        '], 'dates': ['1931', '1946', '1958', '1958', '1967', '1972', '1984', '1991', '2003', '2004', '2004']}, 'Establishment of Diplomatic Relations and the American Legation in Iraq,\\n                            1931.': {'places': [], 'persons': [], 'dates': ['1931']}, 'Legation Raised to Embassy, 1946.': {'places': [], 'persons': [], 'dates': ['1946']}, 'Establishment of the Arab Union, 1958.': {'places': [], 'persons': [], 'dates': ['1958']}, 'Dissolution of the Arab Union, 1958.': {'places': [], 'persons': [], 'dates': ['1958']}, 'Diplomatic Relations Severed by Iraq, 1967.': {'places': [], 'persons': [], 'dates': ['1967']}, 'Establishment of U.S. Interest Section in Baghdad, 1972.': {'places': [], 'persons': [], 'dates': ['1972']}, 'Resumption of Diplomatic Relations and Reestablishment of the American\\n                        Embassy in Iraq, 1984.': {'places': [], 'persons': ['Ronald Reagan', 'Tariq Aziz'], 'dates': ['1984']}, 'Closing of the U.S. Embassy in Baghdad and the Severing of Diplomatic\\n                        Relations, 1991.': {'places': ['Kuwait'], 'persons': [], 'dates': ['1991']}, 'Invasion of Iraq and Establishment of Coalition Provisional Authority\\n                        (CPA), 2003.': {'places': [], 'persons': ['L. Paul Bremer\\n                            III'], 'dates': ['2003']}, 'Transfer of Sovereignty, 2004.': {'places': [], 'persons': ['Ayad Allawi\\n                        '], 'dates': ['2004']}, 'U.S. Embassy in Baghdad Reopens; Diplomatic Relations Reestablished, 2004.': {'places': [], 'persons': [], 'dates': ['2004']}, 'Resources': {'places': [], 'persons': [], 'dates': []}}}, {'name': 'Ireland', 'url': 'https://history.state.gov/countries/ireland', 'flag': 'https://static.history.state.gov/countries/ireland-flag.jpg', 'infos': {'Summary': {'places': [], 'persons': [], 'dates': ['December 6, 1921']}, 'Recognition': {'places': [], 'persons': [], 'dates': ['1924', 'June 28,\\n                            1924', 'June 24,\\n                            1924']}, 'U.S. Recognition of Ireland, 1924.': {'places': [], 'persons': [], 'dates': ['1924', 'June 28,\\n                            1924', 'June 24,\\n                            1924']}, 'Diplomatic Relations': {'places': [], 'persons': ['Timothy A. Smiddy', 'Frederick A. Sterling'], 'dates': ['1924', 'October 7,\\n                            1924', '1927', 'July 27, 1927']}, 'Establishment of Diplomatic Relations, 1924.': {'places': [], 'persons': ['Timothy A. Smiddy'], 'dates': ['1924', 'October 7,\\n                            1924']}, 'Establishment of the American Legation in Dublin, 1927.': {'places': [], 'persons': ['Frederick A. Sterling'], 'dates': ['1927', 'July 27, 1927']}, 'Resources': {'places': [], 'persons': [], 'dates': []}}}, {'name': 'Israel', 'url': 'https://history.state.gov/countries/israel', 'flag': 'https://static.history.state.gov/countries/israel-flag.jpg', 'infos': {'Summary': {'places': [], 'persons': ['Harry Truma'], 'dates': []}, 'Recognition': {'places': [], 'persons': [], 'dates': ['1948', '1949']}, 'U.S. Recognition of Israel, 1948.': {'places': [], 'persons': [], 'dates': ['1948']}, 'Diplomatic Relations': {'places': [], 'persons': [], 'dates': ['1949']}, 'Establishment of Diplomatic Relations, 1949.': {'places': [], 'persons': [], 'dates': ['1949']}, 'Resources': {'places': [], 'persons': [], 'dates': []}}}, {'name': 'Italy', 'url': 'https://history.state.gov/countries/italy', 'flag': 'https://static.history.state.gov/countries/italy-flag.jpg', 'infos': {'Summary': {'places': [], 'persons': [], 'dates': []}, 'Recognition': {'places': [], 'persons': ['Chevalier Joseph Bertinatti '], 'dates': ['1861']}, 'U.S. Recognition of Italian Independence, 1861.': {'places': [], 'persons': ['Chevalier Joseph Bertinatti '], 'dates': ['1861']}, 'Consular Presence': {'places': [], 'persons': [], 'dates': []}, 'U.S. Consulate Generals.': {'places': [], 'persons': [], 'dates': []}, 'Diplomatic Relations': {'places': [], 'persons': [], 'dates': ['1861', '1831-48', '1861', '1865-71', '1893', '1893', '1941', '1944']}, 'Establishment of Diplomatic Relations, 1861.': {'places': [], 'persons': [], 'dates': ['1861']}, 'Establishment of American Legations in the Italian Peninsula, 1831-48.': {'places': [], 'persons': [], 'dates': ['1831-48']}, 'Legation of the Kingdom of Sardinia becomes the Legation of the Kingdom of\\n                        Italy, 1861.': {'places': [], 'persons': [], 'dates': ['1861']}, 'U.S. Legation to the Kingdom of Italy moves to Florence and then Rome,\\n                            1865-71.': {'places': [], 'persons': [], 'dates': ['1865-71']}, 'Elevation of American Legation to Embassy Status, 1893.': {'places': [], 'persons': [], 'dates': ['1893']}, 'Elevation of the Italian Legation to the Italian Embassy, 1893.': {'places': [], 'persons': [], 'dates': ['1893']}, 'Diplomatic Relations Severed, 1941.': {'places': [], 'persons': [], 'dates': ['1941']}, 'Diplomatic Relations Re-established, 1944.': {'places': [], 'persons': [], 'dates': ['1944']}, 'American Embassy in Italy Re-opened, 1945.': {'places': [], 'persons': [], 'dates': []}, 'Resources': {'places': [], 'persons': [], 'dates': []}}}, {'name': 'Jamaica', 'url': 'https://history.state.gov/countries/jamaica', 'flag': 'https://static.history.state.gov/countries/jamaica.jpg', 'infos': {'Summary': {'places': ['Montego Bay', 'Falmouth'], 'persons': [], 'dates': []}, 'Recognition': {'places': ['Kingston.'], 'persons': [], 'dates': ['1962', '1962']}, 'U.S. Recognition of Jamaican Independence, 1962.': {'places': ['Kingston.'], 'persons': [], 'dates': ['1962']}, 'Diplomatic Relations': {'places': [], 'persons': [], 'dates': ['1962']}, 'Establishment of Diplomatic Relations and the American Embassy in\\n                            Jamaica, 1962.': {'places': [], 'persons': [], 'dates': ['1962']}, 'Resources': {'places': [], 'persons': [], 'dates': []}}}, {'name': 'Japan', 'url': 'https://history.state.gov/countries/japan', 'flag': 'https://static.history.state.gov/countries/japan-flag.jpg', 'infos': {'Summary': {'places': ['China'], 'persons': [], 'dates': []}, 'Recognition': {'places': ['Kanagawa,\\n                            Japan'], 'persons': ['Matthew C. Perry'], 'dates': ['1854']}, 'Mutual Recognition, 1854.': {'places': ['Kanagawa,\\n                            Japan'], 'persons': ['Matthew C. Perry'], 'dates': ['1854']}, 'Consular Presence': {'places': ['Shimoda'], 'persons': [], 'dates': ['1855']}, 'Establishment of Consular Relations, 1855.': {'places': ['Shimoda'], 'persons': [], 'dates': ['1855']}, 'Diplomatic Relations': {'places': ['Nagasaki', 'Hakodate', 'Osaka', 'Yokohama', 'Kobe', 'Edo (Tokyo)'], 'persons': ['Townsend\\n                            Harris', 'Ryuji Takeuchi'], 'dates': ['1862-1950', '1862', '1865', '1868', '1869', '1897', '1902', '1918', '1918', '1950', '1950', '1858', '1859', '1906', '1941', '1952', 'April 28, 1952']}, 'Establishment of Additional Consular Posts, 1862-1950.': {'places': ['Nagasaki', 'Hakodate', 'Osaka', 'Yokohama', 'Kobe'], 'persons': [], 'dates': ['1862-1950', '1862', '1865', '1868', '1869', '1897', '1902', '1918', '1918', '1950', '1950']}, 'Establishment of Diplomatic Relations, 1858.': {'places': ['Edo (Tokyo)'], 'persons': ['Townsend\\n                            Harris'], 'dates': ['1858']}, 'Establishment of the U.S. Diplomatic Presence in Japan, 1859.': {'places': [], 'persons': [], 'dates': ['1859']}, 'Elevation from Legation to Embassy, 1906.': {'places': [], 'persons': [], 'dates': ['1906']}, 'Suspension of Diplomatic Relations, 1941.': {'places': [], 'persons': [], 'dates': ['1941']}, 'Resumption of Diplomatic Relations, 1952.': {'places': [], 'persons': ['Ryuji Takeuchi'], 'dates': ['1952', 'April 28, 1952']}, 'Resources': {'places': [], 'persons': [], 'dates': []}}}, {'name': 'Jordan', 'url': 'https://history.state.gov/countries/jordan', 'flag': 'https://static.history.state.gov/countries/jordan-flag.jpg', 'infos': {'Summary': {'places': [], 'persons': [], 'dates': []}, 'Recognition': {'places': [], 'persons': [], 'dates': ['1949']}, 'U.S. Recognition of Jordanian Independence, 1949.': {'places': [], 'persons': [], 'dates': ['1949']}, 'Diplomatic Relations': {'places': ['Amman'], 'persons': [], 'dates': ['1949']}, 'Establishment of Diplomatic Relations and the American Legation in Jordan,\\n                            1949.': {'places': ['Amman'], 'persons': [], 'dates': ['1949']}, 'Resources': {'places': [], 'persons': [], 'dates': []}}}, {'name': 'Kazakhstan', 'url': 'https://history.state.gov/countries/kazakhstan', 'flag': 'https://static.history.state.gov/countries/kazakh-flag.jpg', 'infos': {'Summary': {'places': ['Kazakhstan’s'], 'persons': [], 'dates': []}, 'Recognition': {'places': [], 'persons': [], 'dates': ['1991']}, 'U.S. Recognition of Kazakhstan, 1991.': {'places': [], 'persons': [], 'dates': ['1991']}, 'Diplomatic Relations': {'places': [], 'persons': [], 'dates': ['1991', '1992']}, 'Establishment of Diplomatic Relations, 1991.': {'places': [], 'persons': [], 'dates': ['1991']}, 'Establishment of the American Embassy in Alma-Ata (now Almaty),\\n                            1992.': {'places': [], 'persons': [], 'dates': ['1992']}, 'Resources': {'places': [], 'persons': [], 'dates': []}}}, {'name': 'Kenya', 'url': 'https://history.state.gov/countries/kenya', 'flag': 'https://static.history.state.gov/countries/kenya-flag.jpg', 'infos': {'Summary': {'places': ['Nairobi'], 'persons': [], 'dates': []}, 'Recognition': {'places': ['Kenya'], 'persons': ['Stewart Udall', 'Lyndon B. Johnson', 'Jomo Kenyatta'], 'dates': ['1963']}, 'United States Recognition of Kenya, 1963.': {'places': ['Kenya'], 'persons': ['Stewart Udall', 'Lyndon B. Johnson', 'Jomo Kenyatta'], 'dates': ['1963']}, 'Diplomatic Relations': {'places': ['Nairobi'], 'persons': [], 'dates': ['1964']}, 'Establishment of Diplomatic Relations and the American Embassy in Kenya,\\n                            1964.': {'places': ['Nairobi'], 'persons': [], 'dates': ['1964']}, 'Resources': {'places': [], 'persons': [], 'dates': []}}}, {'name': 'Kingdom-of-yugoslavia', 'url': 'https://history.state.gov/countries/kingdom-of-yugoslavia', 'flag': '', 'infos': {'Summary': {'places': ['Kingdom of Serbia'], 'persons': [], 'dates': []}, 'Recognition': {'places': [], 'persons': [], 'dates': ['1881', '1919']}, 'U.S. Recognition of Serbian Independence, 1881.': {'places': [], 'persons': [], 'dates': ['1881']}, 'U.S. Recognition of the Independence of the Kingdom of Serbs, Croats, and\\n                        Slovenes, 1919.': {'places': [], 'persons': [], 'dates': ['1919']}, 'Diplomatic Relations': {'places': ['Belgrade'], 'persons': [], 'dates': ['1882', '1919', '1941', '1942', '1943', '1944', '1945', '1992']}, 'Establishment of Diplomatic Relations and the American Legation in Serbia,\\n                            1882.': {'places': [], 'persons': [], 'dates': ['1882']}, 'U.S. Recognition of Yugoslav Legation, 1919.': {'places': [], 'persons': [], 'dates': ['1919']}, 'American Legation Moved to London, 1941.': {'places': [], 'persons': [], 'dates': ['1941']}, 'Elevation of American Legation to Embassy Status, 1942.': {'places': [], 'persons': [], 'dates': ['1942']}, 'American Embassy Moves to Egypt, 1943.': {'places': [], 'persons': [], 'dates': ['1943']}, 'American Embassy Returns to London, 1944.': {'places': [], 'persons': [], 'dates': ['1944']}, 'American Embassy Returns to Belgrade, 1945.': {'places': ['Belgrade'], 'persons': [], 'dates': ['1945']}, 'Cessation of Relations, 1992.': {'places': [], 'persons': [], 'dates': ['1992']}, 'Treaties and Agreements': {'places': ['Bucharest'], 'persons': [], 'dates': ['1881', '1881', '1901']}, 'Claims Convention, 1832.': {'places': [], 'persons': [], 'dates': []}, 'Treaty on Commercial Relations, 1881.': {'places': ['Bucharest'], 'persons': [], 'dates': ['1881']}, 'Convention on Rights, Privileges, and Immunities of Consular Officers,\\n                            1881.': {'places': [], 'persons': [], 'dates': ['1881']}, 'Treaty on Extradition, 1901.': {'places': [], 'persons': [], 'dates': ['1901']}, 'Key Diplomatic Events': {'places': [], 'persons': [], 'dates': ['1918', '1929', '1946']}, 'Establishment of the Kingdom of Serbs, Croats, and Slovenes, 1918.': {'places': [], 'persons': [], 'dates': ['1918']}, 'Establishment of the Kingdom of Yugoslavia, 1929.': {'places': [], 'persons': [], 'dates': ['1929']}, 'Establishment of the Socialist Federal Republic of Yugoslavia (SFRY),\\n                            1946.': {'places': [], 'persons': [], 'dates': ['1946']}, 'Issues Relevant to U.S. Foreign Diplomacy': {'places': [], 'persons': [], 'dates': []}, 'The Cold War.': {'places': [], 'persons': [], 'dates': []}, 'Resources': {'places': [], 'persons': [], 'dates': []}}}, {'name': 'Kiribati', 'url': 'https://history.state.gov/countries/kiribati', 'flag': 'https://static.history.state.gov/countries/kiribati-flag.jpg', 'infos': {'Summary': {'places': ['Butaritari', 'Tuvalu'], 'persons': ['Adolph\\n                        Rick'], 'dates': []}, 'Recognition': {'places': [], 'persons': [], 'dates': ['1979']}, 'U.S. Recognition of Kiribati Independence, 1979.': {'places': [], 'persons': [], 'dates': ['1979']}, 'Diplomatic Relations': {'places': ['Fiji'], 'persons': [], 'dates': ['1980', '1980']}, 'Establishment of Diplomatic Relations, 1980.': {'places': [], 'persons': [], 'dates': ['1980']}, 'U.S. Ambassador Appointed, 1980.': {'places': ['Fiji'], 'persons': [], 'dates': ['1980']}, 'Resources': {'places': [], 'persons': [], 'dates': []}}}, {'name': 'Korea', 'url': 'https://history.state.gov/countries/korea', 'flag': '', 'infos': {'Recognition': {'places': [], 'persons': [], 'dates': ['1882']}, 'Recognition, 1882.': {'places': [], 'persons': [], 'dates': ['1882']}, 'Diplomatic Relations': {'places': [], 'persons': [], 'dates': ['1883', '1905']}, 'Establishment of Diplomatic Relations and Legation in Korea, 1883.': {'places': [], 'persons': [], 'dates': ['1883']}, 'Diplomatic Relations Ended, 1905.': {'places': [], 'persons': [], 'dates': ['1905']}}}, {'name': 'Kosovo', 'url': 'https://history.state.gov/countries/kosovo', 'flag': 'https://static.history.state.gov/countries/kosovo-flag.jpg', 'infos': {'Historical Overview': {'places': [], 'persons': [], 'dates': []}, 'Foreign Relations': {'places': [], 'persons': [], 'dates': []}, 'Recognition and Diplomatic Relations': {'places': [], 'persons': [], 'dates': ['2008']}, 'Recognition and Establishment of Diplomatic Relations, 2008.': {'places': [], 'persons': [], 'dates': ['2008']}}}, {'name': 'Kuwait', 'url': 'https://history.state.gov/countries/kuwait', 'flag': 'https://static.history.state.gov/countries/kuwait-flag.jpg', 'infos': {'Summary': {'places': ['Kuwait'], 'persons': [], 'dates': []}, 'Recognition': {'places': [], 'persons': [], 'dates': ['1961', '1951', '1961', '1990', '1991']}, 'U.S. Recognition of Kuwaiti Independence, 1961.': {'places': [], 'persons': [], 'dates': ['1961']}, 'Consular Presence': {'places': [], 'persons': [], 'dates': ['1951']}, 'U.S. Consulate in Kuwait, 1951, with\\n                            interruptions.': {'places': [], 'persons': [], 'dates': ['1951']}, 'Diplomatic Relations': {'places': [], 'persons': [], 'dates': ['1961', '1990', '1991']}, 'Establishment of Diplomatic Relations and the American Embassy in\\n                            Kuwait, 1961.': {'places': [], 'persons': [], 'dates': ['1961']}, 'Evacuation of American Embassy Staff, 1990.': {'places': [], 'persons': [], 'dates': ['1990']}, 'American Embassy Reopened, 1991.': {'places': [], 'persons': [], 'dates': ['1991']}, 'Resources': {'places': [], 'persons': [], 'dates': []}}}, {'name': 'Kyrgyzstan', 'url': 'https://history.state.gov/countries/kyrgyzstan', 'flag': 'https://static.history.state.gov/countries/kyrgyzstan-flag.jpg', 'infos': {'Summary': {'places': ['Soviet\\n                        Union'], 'persons': ['George H.W. Bush'], 'dates': []}, 'Recognition': {'places': ['Soviet Union'], 'persons': ['George H.W. Bush'], 'dates': ['1991']}, 'U.S. Recognition of Kyrgyzstan, 1991.': {'places': ['Soviet Union'], 'persons': ['George H.W. Bush'], 'dates': ['1991']}, 'Diplomatic Relations': {'places': ['Bishkek'], 'persons': ['George H.W. Bush'], 'dates': ['1991', '2004']}, 'Establishment of Diplomatic Relations, 1991.': {'places': [], 'persons': ['George H.W. Bush'], 'dates': ['1991']}, 'Establishment of the American Embassy in Bishkek, 2004.': {'places': ['Bishkek'], 'persons': [], 'dates': ['2004']}, 'Resources': {'places': [], 'persons': [], 'dates': []}}}, {'name': 'Laos', 'url': 'https://history.state.gov/countries/laos', 'flag': 'https://static.history.state.gov/countries/laos-flag.jpg', 'infos': {'Summary': {'places': ['Laos'], 'persons': [], 'dates': []}, 'Recognition': {'places': [], 'persons': [], 'dates': ['1950']}, 'U.S. Recognition of Laotian Independence, 1950.': {'places': [], 'persons': [], 'dates': ['1950']}, 'Consular Presence': {'places': ['Vientiane'], 'persons': ['Charles J. Baker', 'Alfred T. Willborn'], 'dates': ['1950']}, 'Establishment of Consular Relations, 1950.': {'places': ['Vientiane'], 'persons': ['Charles J. Baker', 'Alfred T. Willborn'], 'dates': ['1950']}, 'Diplomatic Relations': {'places': ['Vientiane', 'Vientiane', 'Lao People’s\\n                            Democratic Republic (LPDR)'], 'persons': [], 'dates': ['1950', '1950', '1955', '1975', '1992']}, 'Establishment of Diplomatic Relations, 1950.': {'places': [], 'persons': [], 'dates': ['1950']}, 'Establishment of the American Legation in Laos, 1950.': {'places': [], 'persons': [], 'dates': ['1950']}, 'Elevation of Status of Legation in Vientiane to Embassy, 1955.': {'places': ['Vientiane', 'Vientiane'], 'persons': [], 'dates': ['1955']}, 'Relations Altered, 1975.': {'places': ['Lao People’s\\n                            Democratic Republic (LPDR)'], 'persons': [], 'dates': ['1975']}, 'Ambassadorial Relations Restored, 1992.': {'places': [], 'persons': [], 'dates': ['1992']}, 'Resources': {'places': [], 'persons': [], 'dates': []}}}, {'name': 'Latvia', 'url': 'https://history.state.gov/countries/latvia', 'flag': 'https://static.history.state.gov/countries/latvia-flag.jpg', 'infos': {'Summary': {'places': ['Latvia'], 'persons': [], 'dates': []}, 'Recognition': {'places': ['Riga'], 'persons': ['Evan\\n                            Young'], 'dates': ['1922']}, 'United States Recognition of Latvia, 1922.': {'places': ['Riga'], 'persons': ['Evan\\n                            Young'], 'dates': ['1922']}, 'Diplomatic Relations': {'places': ['Riga'], 'persons': ['George H.W.\\n                        Bush', 'Martins Virsis'], 'dates': ['1922', '1922', '1940', '1991', '1991', '1991']}, 'Establishment of Diplomatic Relations, 1922.': {'places': [], 'persons': [], 'dates': ['1922']}, 'Legation established at Riga, 1922.': {'places': [], 'persons': [], 'dates': ['1922']}, 'Legation at Riga Closed, 1940.': {'places': [], 'persons': [], 'dates': ['1940']}, 'Recognition of Latvian Independence from the USSR, 1991.': {'places': [], 'persons': ['George H.W.\\n                        Bush'], 'dates': ['1991']}, 'Resumption of Normal Relations, 1991.': {'places': [], 'persons': ['Martins Virsis'], 'dates': ['1991']}, 'American Embassy at Riga Opened, 1991.': {'places': ['Riga'], 'persons': [], 'dates': ['1991']}, 'Resources': {'places': [], 'persons': [], 'dates': []}}}, {'name': 'Lebanon', 'url': 'https://history.state.gov/countries/lebanon', 'flag': 'https://static.history.state.gov/countries/lebanon-flag.jpg', 'infos': {'Summary': {'places': ['Lebanon'], 'persons': [], 'dates': []}, 'Recognition': {'places': [], 'persons': [], 'dates': ['1944']}, 'U.S. Recognition of Lebanese Independence, 1944.': {'places': [], 'persons': [], 'dates': ['1944']}, 'Diplomatic Relations': {'places': ['Beirut'], 'persons': [], 'dates': ['1944', '1952', '1989', '1990']}, 'Establishment of Diplomatic Relations and the American Legation in\\n                        Lebanon, 1944.': {'places': [], 'persons': [], 'dates': ['1944']}, 'American Legation in Beirut Raised to\\n                        Embassy, 1952.': {'places': ['Beirut'], 'persons': [], 'dates': ['1952']}, 'American Embassy Staff Withdrawn, 1989.': {'places': [], 'persons': [], 'dates': ['1989']}, 'American Embassy Reopened, 1990.': {'places': [], 'persons': [], 'dates': ['1990']}, 'Resources': {'places': [], 'persons': [], 'dates': []}}}, {'name': 'Lesotho', 'url': 'https://history.state.gov/countries/lesotho', 'flag': 'https://static.history.state.gov/countries/lesotho-flag.jpg', 'infos': {'Summary': {'places': ['Lesotho', 'Maseru'], 'persons': [], 'dates': []}, 'Recognition': {'places': [], 'persons': [], 'dates': ['1966']}, 'U.S. Recognition of Lesotho’s Independence, 1966.': {'places': [], 'persons': [], 'dates': ['1966']}, 'Diplomatic Relations': {'places': [], 'persons': [], 'dates': ['1966']}, 'Establishment of Diplomatic Relations and American Embassy in Lesotho,\\n                            1966.': {'places': [], 'persons': [], 'dates': ['1966']}, 'Resources': {'places': [], 'persons': [], 'dates': []}}}, {'name': 'Lew-chew', 'url': 'https://history.state.gov/countries/lew-chew', 'flag': '', 'infos': {'Summary': {'places': ['Lew Chew', 'Japan'], 'persons': ['U.S. Commodore Matthew Perry'], 'dates': []}, 'Recognition': {'places': [], 'persons': [], 'dates': ['1854']}, 'Mutual Recognition, 1854.': {'places': [], 'persons': [], 'dates': ['1854']}, 'Diplomatic Relations': {'places': [], 'persons': [], 'dates': []}, 'Establishment of Diplomatic Relations.': {'places': [], 'persons': [], 'dates': []}, 'Treaties and Agreements': {'places': [], 'persons': [], 'dates': []}, '1854 Compact.': {'places': [], 'persons': [], 'dates': []}, 'Issues Relevant to U.S. Foreign Diplomacy': {'places': [], 'persons': [], 'dates': []}, 'Potential Conflict of Interests with Japan.': {'places': [], 'persons': [], 'dates': []}, 'Resources': {'places': [], 'persons': [], 'dates': []}}}, {'name': 'Liberia', 'url': 'https://history.state.gov/countries/liberia', 'flag': 'https://static.history.state.gov/countries/liberia-flag.jpg', 'infos': {'Summary': {'places': ['Republic of\\n                        Liberia'], 'persons': ['Charles F. Adams'], 'dates': []}, 'Recognition': {'places': [], 'persons': ['Charles F. Adams'], 'dates': ['1862']}, 'U.S. Recognition of Liberia, 1862.': {'places': [], 'persons': ['Charles F. Adams'], 'dates': ['1862']}, 'Diplomatic Relations': {'places': ['Monrovia'], 'persons': [], 'dates': ['1864', '1949']}, 'Establishment of Diplomatic Relations and American Legation in Liberia,\\n                            1864.': {'places': ['Monrovia'], 'persons': [], 'dates': ['1864']}, 'Elevation of Legation to Embassy Status, 1949.': {'places': [], 'persons': [], 'dates': ['1949']}, 'Resources': {'places': [], 'persons': [], 'dates': []}}}, {'name': 'Libya', 'url': 'https://history.state.gov/countries/libya', 'flag': 'https://static.history.state.gov/countries/libya-flag.png', 'infos': {'Summary': {'places': ['Libya'], 'persons': [], 'dates': []}, 'Recognition': {'places': [], 'persons': ['Abdurrahman', 'Yusuf Qaramanli', 'Harry\\n                            Truman', 'King Idris I'], 'dates': ['1786-1796', '1835-1947', '1951']}, 'Tripolitan Recognition of the United States, 1786-1796.': {'places': [], 'persons': ['Abdurrahman', 'Yusuf Qaramanli'], 'dates': ['1786-1796']}, 'Tripoli/Libya under Ottoman and Italian Control, 1835-1947.': {'places': [], 'persons': [], 'dates': ['1835-1947']}, 'U.S. Recognition of Libyan Independence, 1951.': {'places': [], 'persons': ['Harry\\n                            Truman', 'King Idris I'], 'dates': ['1951']}, 'Consular Relations': {'places': [], 'persons': ['James Leander Cathcart', 'Yusuf\\n                        Qaramanli', 'John Adams', 'Tobias Lear', 'John Ridgely', 'George Davis'], 'dates': ['1799-1949']}, 'Consulate at Tripoli and Italian Libya, 1799-1949 (with interruptions).': {'places': [], 'persons': ['James Leander Cathcart', 'Yusuf\\n                        Qaramanli', 'John Adams', 'Tobias Lear', 'John Ridgely', 'George Davis'], 'dates': ['1799-1949']}, 'Other Consulates in Libya': {'places': [], 'persons': [], 'dates': []}, 'Diplomatic Relations': {'places': [], 'persons': ['Andrew Lynch', 'John N. Gatch, Jr.', 'John L. Tappin', 'William Eagleton, Jr.', 'Gregory L. Berry', 'Gregory L. Berry', 'J. Christopher Stevens', 'Greg Hicks'], 'dates': ['1951', '1954', '1980 to\\n                        2004', '2004', '2006', '2011', '2011', '2012', '2014']}, 'Establishment of Diplomatic Relations and the American Legation in Libya,\\n                            1951.': {'places': [], 'persons': ['Andrew Lynch'], 'dates': ['1951']}, 'Legation in Libya was raised to Embassy status, 1954\\n': {'places': [], 'persons': ['John N. Gatch, Jr.', 'John L. Tappin'], 'dates': ['1954']}, 'Relations from 1980 to\\n                        2004.': {'places': [], 'persons': ['William Eagleton, Jr.'], 'dates': ['1980 to\\n                        2004']}, 'United States Interests Section and Liaison Office Established, 2004.': {'places': [], 'persons': ['Gregory L. Berry'], 'dates': ['2004']}, 'Elevation of Liaison Office to Embassy Status and Resumption of Full\\n                        Diplomatic Relations, 2006.': {'places': [], 'persons': ['Gregory L. Berry'], 'dates': ['2006']}, 'Suspension of U.S. Embassy Tripoli Operations, 2011\\n': {'places': [], 'persons': [], 'dates': ['2011']}, 'Resumption of U.S. Embassy Tripoli Operations, 2011.': {'places': [], 'persons': [], 'dates': ['2011']}, 'Assassination of the American Ambassador, 2012.': {'places': [], 'persons': ['J. Christopher Stevens', 'Greg Hicks'], 'dates': ['2012']}, 'Suspension of U.S. Embassy Tripoli Operations, 2014.': {'places': [], 'persons': [], 'dates': ['2014']}, 'Resources': {'places': [], 'persons': [], 'dates': []}}}, {'name': 'Liechtenstein', 'url': 'https://history.state.gov/countries/liechtenstein', 'flag': 'https://static.history.state.gov/countries/liechtenstein-flag.jpg', 'infos': {'Summary': {'places': ['Liechtenstein'], 'persons': [], 'dates': []}, 'Recognition': {'places': ['Switzerland'], 'persons': [], 'dates': ['1926']}, 'U.S. Recognition of Liechtenstein, 1926.': {'places': ['Switzerland'], 'persons': [], 'dates': ['1926']}, 'History of Diplomatic Relations': {'places': [], 'persons': [], 'dates': ['1997']}, 'Establishment of Diplomatic Relations, 1997.': {'places': [], 'persons': [], 'dates': ['1997']}, 'Resources': {'places': [], 'persons': [], 'dates': []}}}, {'name': 'Lithuania', 'url': 'https://history.state.gov/countries/lithuania', 'flag': 'https://static.history.state.gov/countries/lithuania-flag.jpg', 'infos': {'Summary': {'places': ['Lithuania', 'Kovno'], 'persons': [], 'dates': []}, 'Recognition': {'places': [], 'persons': [], 'dates': ['1922']}, 'United States Recognition of Lithuania, 1922.': {'places': [], 'persons': [], 'dates': ['1922']}, 'Diplomatic Relations': {'places': ['Kovno', 'Kaunas', 'Vilnius', 'Vilnius'], 'persons': ['Hugh S. Fullerton', 'George H.W.\\n                            Bush', 'Valdemaras Katkus'], 'dates': ['1922', '1922', '1940', '1991', '1991', '1991']}, 'Establishment of Diplomatic Relations, 1922.': {'places': [], 'persons': [], 'dates': ['1922']}, 'American Legation established at Kovno\\n                        (later Kaunas), 1922.': {'places': ['Kovno'], 'persons': ['Hugh S. Fullerton'], 'dates': ['1922']}, 'Legation at Kaunas Closed, 1940.': {'places': ['Kaunas'], 'persons': [], 'dates': ['1940']}, 'Recognition of Lithuanian Independence from the USSR, 1991.': {'places': [], 'persons': ['George H.W.\\n                            Bush'], 'dates': ['1991']}, 'Resumption of Normal Relations, 1991.': {'places': [], 'persons': ['Valdemaras Katkus'], 'dates': ['1991']}, 'American Embassy at Vilnius Opened, 1991.': {'places': ['Vilnius', 'Vilnius'], 'persons': [], 'dates': ['1991']}, 'Resources': {'places': [], 'persons': [], 'dates': []}}}, {'name': 'Luxembourg', 'url': 'https://history.state.gov/countries/luxembourg', 'flag': 'https://static.history.state.gov/countries/luxembourg-flag.jpg', 'infos': {'Summary': {'places': ['Luxembourg'], 'persons': [], 'dates': []}, 'Recognition': {'places': [], 'persons': ['Rutherford B. Hayes', 'François Berger'], 'dates': ['1878']}, 'U.S. Recognition of Luxembourg, 1878.': {'places': [], 'persons': ['Rutherford B. Hayes', 'François Berger'], 'dates': ['1878']}, 'History of Diplomatic Relations': {'places': ['The\\n                            Hague', 'Brussels', 'Ottaw', 'London'], 'persons': ['Winthrop\\n                            S. Green'], 'dates': ['1923', '1940', '1941', '1943', '1944', '1956']}, 'Establishment of Diplomatic Relations, 1903.': {'places': ['The\\n                            Hague'], 'persons': [], 'dates': []}, 'Change from The Hague to Brussels, 1923.': {'places': ['Brussels'], 'persons': [], 'dates': ['1923']}, 'Closure of Legation Luxembourg, 1940.': {'places': [], 'persons': [], 'dates': ['1940']}, 'Luxembourg Government in Canada, 1941.': {'places': ['Ottaw'], 'persons': [], 'dates': ['1941']}, 'Luxembourg Government in the United Kingdom, 1943.': {'places': ['London'], 'persons': [], 'dates': ['1943']}, 'Reestablishment of Legation Luxembourg, 1944.': {'places': [], 'persons': ['Winthrop\\n                            S. Green'], 'dates': ['1944']}, 'Elevation of Representation to Ambassadorship, 1956.': {'places': [], 'persons': [], 'dates': ['1956']}, 'Resources': {'places': [], 'persons': [], 'dates': []}}}, {'name': 'Madagascar', 'url': 'https://history.state.gov/countries/madagascar', 'flag': 'https://static.history.state.gov/countries/madagascar-flag.jpg', 'infos': {'Summary': {'places': ['Madagascar', 'Tananarive (now\\n                                Antananarivo)'], 'persons': ['Dwight D. Eisenhower', 'Philibert Tsiranana', 'J. Roland Jacobs'], 'dates': ['1960', '1960', '1960']}, 'Recognition': {'places': [], 'persons': ['Dwight D. Eisenhower', 'Philibert Tsiranana'], 'dates': ['1960']}, 'U.S. Recognition of Malagasy Independence, 1960.': {'places': [], 'persons': ['Dwight D. Eisenhower', 'Philibert Tsiranana'], 'dates': ['1960']}, 'Diplomatic Relations': {'places': ['Tananarive (now\\n                                Antananarivo)'], 'persons': ['J. Roland Jacobs'], 'dates': ['1960', '1960']}, 'Elevation of U.S. Consulate to Embassy and Establishment of Diplomatic\\n                            Relations, 1960.': {'places': ['Tananarive (now\\n                                Antananarivo)'], 'persons': ['J. Roland Jacobs'], 'dates': ['1960']}, 'First U.S. Ambassador to the Malagasy Republic Appointed, 1960.': {'places': [], 'persons': [], 'dates': ['1960']}, 'Resources': {'places': [], 'persons': [], 'dates': []}}}, {'name': 'Malawi', 'url': 'https://history.state.gov/countries/malawi', 'flag': 'https://static.history.state.gov/countries/malawi-flag.jpg', 'infos': {'Summary': {'places': ['Malawi', 'Blantyre'], 'persons': [], 'dates': []}, 'Recognition': {'places': ['Malawi', 'Nyasaland'], 'persons': [], 'dates': ['1964']}, 'U.S. Recognition of Malawian Independence, 1964.': {'places': ['Malawi', 'Nyasaland'], 'persons': [], 'dates': ['1964']}, 'Diplomatic Relations': {'places': ['Lilongwe'], 'persons': [], 'dates': ['1964', '1976']}, 'Establishment of Diplomatic Relations and the American Embassy in Malawi,\\n                            1964.': {'places': [], 'persons': [], 'dates': ['1964']}, 'Relocation of the American Embassy in Malawi, 1976.': {'places': ['Lilongwe'], 'persons': [], 'dates': ['1976']}, 'Resources': {'places': [], 'persons': [], 'dates': []}}}, {'name': 'Malaysia', 'url': 'https://history.state.gov/countries/malaysia', 'flag': 'https://static.history.state.gov/countries/malaysia-flag.jpg', 'infos': {'Summary': {'places': ['Federation of Malaya'], 'persons': [], 'dates': []}, 'Recognition': {'places': [], 'persons': [], 'dates': ['1957']}, 'U.S. Recognition of Malaysian Independence, 1957.': {'places': [], 'persons': [], 'dates': ['1957']}, 'Consular Presence': {'places': ['Penang', 'Kuala Lumpur', 'Kuching'], 'persons': [], 'dates': ['1918', '1948', '1964']}, 'Establishment of Consular Relations, 1918.': {'places': ['Penang'], 'persons': [], 'dates': ['1918']}, 'Establishment of Consular Posts, 1948 & 1964.': {'places': ['Kuala Lumpur', 'Kuching'], 'persons': [], 'dates': ['1948', '1964']}, 'Diplomatic Relations': {'places': ['Singapore', 'Sarawak', 'Borneo'], 'persons': [], 'dates': ['1957', '1963']}, 'Establishment of Diplomatic Relations, 1957.': {'places': [], 'persons': [], 'dates': ['1957']}, 'Change in Accreditation, 1963.': {'places': ['Singapore', 'Sarawak', 'Borneo'], 'persons': [], 'dates': ['1963']}, 'Resources': {'places': [], 'persons': [], 'dates': []}}}, {'name': 'Maldives', 'url': 'https://history.state.gov/countries/maldives', 'flag': 'https://static.history.state.gov/countries/maldives-flag.jpg', 'infos': {'Summary': {'places': ['Maldives', 'Malé'], 'persons': [], 'dates': []}, 'Recognition': {'places': [], 'persons': ['Lyndon B. Johnson', 'Ibrahim\\n                            Nasir'], 'dates': ['1965']}, 'U.S. Recognition of Maldivian Independence, 1965.': {'places': [], 'persons': ['Lyndon B. Johnson', 'Ibrahim\\n                            Nasir'], 'dates': ['1965']}, 'History of Diplomatic Relations': {'places': [], 'persons': ['Cecil B.\\n                            Lyon'], 'dates': ['1966', '1968']}, 'Establishment of Diplomatic Relations, 1966.': {'places': [], 'persons': ['Cecil B.\\n                            Lyon'], 'dates': ['1966']}, 'The Maldives becomes a Republic, 1968.': {'places': [], 'persons': [], 'dates': ['1968']}, 'Resources': {'places': [], 'persons': [], 'dates': []}}}, {'name': 'Mali', 'url': 'https://history.state.gov/countries/mali', 'flag': 'https://static.history.state.gov/countries/mali-flag.jpg', 'infos': {'Summary': {'places': ['Federation of\\n                        Mali'], 'persons': ['Dwight D. Eisenhower', 'Modibo Keita'], 'dates': []}, 'Recognition': {'places': ['Federation of Mali', 'Republic of Mali', 'Bamako', 'Republic of\\n                                Senegal'], 'persons': ['Dwight\\n                            D. Eisenhower', 'John G. Dean'], 'dates': ['1960', '1960', '1960', '1960']}, 'U.S. Recognition of Mali’s Independence, 1960.': {'places': ['Federation of Mali'], 'persons': ['Dwight\\n                            D. Eisenhower'], 'dates': ['1960']}, 'Diplomatic Relations': {'places': ['Republic of Mali', 'Bamako', 'Republic of\\n                                Senegal'], 'persons': ['John G. Dean'], 'dates': ['1960', '1960', '1960']}, 'U.S. Recognition of the Republic of Mali, 1960.': {'places': ['Republic of Mali', 'Bamako', 'Republic of\\n                                Senegal'], 'persons': [], 'dates': ['1960']}, 'Establishment of Diplomatic Relations and the American Embassy in the\\n                            Federation of Mali, 1960.': {'places': [], 'persons': [], 'dates': ['1960']}, 'Establishment of Diplomatic Relations and the American Embassy in the\\n                            Republic of Mali, 1960.': {'places': [], 'persons': ['John G. Dean'], 'dates': ['1960']}, 'Resources': {'places': [], 'persons': [], 'dates': []}}}, {'name': 'Malta', 'url': 'https://history.state.gov/countries/malta', 'flag': 'https://static.history.state.gov/countries/malta-flag.jpg', 'infos': {'Summary': {'places': ['Malta', 'Valletta'], 'persons': ['Lyndon B. Johnson', 'Giorgio Borg Olivier'], 'dates': ['1964', '1964']}, 'Recognition': {'places': [], 'persons': ['Lyndon B. Johnson', 'Giorgio Borg Olivier'], 'dates': ['1964']}, 'U.S. Recognition of Maltese Independence, 1964.': {'places': [], 'persons': ['Lyndon B. Johnson', 'Giorgio Borg Olivier'], 'dates': ['1964']}, 'Diplomatic Relations': {'places': ['Valletta'], 'persons': [], 'dates': ['1964']}, 'Establishment of Diplomatic Relations, 1964.': {'places': ['Valletta'], 'persons': [], 'dates': ['1964']}, 'Resources': {'places': [], 'persons': [], 'dates': []}}}, {'name': 'Marshall-islands', 'url': 'https://history.state.gov/countries/marshall-islands', 'flag': 'https://static.history.state.gov/countries/marshall-islands-flag.png', 'infos': {'Summary': {'places': [], 'persons': [], 'dates': []}, 'Recognition': {'places': [], 'persons': [], 'dates': ['1986']}, 'U.S. Recognition of Marshall Islands, 1986.': {'places': [], 'persons': [], 'dates': ['1986']}, 'History of Diplomatic Relations': {'places': [], 'persons': [], 'dates': ['1986', '1989', '1989']}, 'Establishment of the Office of the U.S. Representative in Majurio, 1986.': {'places': [], 'persons': [], 'dates': ['1986']}, 'Establishment of Diplomatic Relations, 1989.': {'places': [], 'persons': [], 'dates': ['1989']}, 'Establishment of the American Embassy in the Marshall Islands, 1989.': {'places': [], 'persons': [], 'dates': ['1989']}, 'Resources': {'places': [], 'persons': [], 'dates': []}}}, {'name': 'Mauritania', 'url': 'https://history.state.gov/countries/mauritania', 'flag': 'https://static.history.state.gov/countries/mauritania-flag.jpg', 'infos': {'Summary': {'places': ['Islamic Republic of\\n                        Mauritania'], 'persons': ['Dwight D. Eisenhower', 'Daddah'], 'dates': []}, 'Recognition': {'places': [], 'persons': ['Dwight D.\\n                            Eisenhower'], 'dates': ['1960']}, 'U.S. Recognition of Mauritanian Independence, 1960.': {'places': [], 'persons': ['Dwight D.\\n                            Eisenhower'], 'dates': ['1960']}, 'Diplomatic Relations': {'places': ['Senegal', 'Dakar', 'Nouakchott'], 'persons': [], 'dates': ['1960', '1962', '1967', '1969', '1970']}, 'Establishment of Diplomatic Relations, 1960.': {'places': ['Senegal', 'Dakar'], 'persons': [], 'dates': ['1960']}, 'Establishment of the American Embassy in Mauritania, 1962.': {'places': ['Nouakchott'], 'persons': [], 'dates': ['1962']}, 'Diplomatic Relations Severed by Mauritania, 1967.': {'places': [], 'persons': [], 'dates': ['1967']}, 'Resumption of Diplomatic Relations, 1969.': {'places': [], 'persons': [], 'dates': ['1969']}, 'Reestablishment of the American Embassy in Mauritania, 1970.': {'places': [], 'persons': [], 'dates': ['1970']}, 'Resources': {'places': [], 'persons': [], 'dates': []}}}, {'name': 'Mauritius', 'url': 'https://history.state.gov/countries/mauritius', 'flag': 'https://static.history.state.gov/countries/mauritius-flag.jpg', 'infos': {'Summary': {'places': ['Mauritius'], 'persons': [], 'dates': []}, 'Recognition': {'places': ['Mauritius', 'Port\\n                            Louis'], 'persons': [], 'dates': ['1968']}, 'U.S. Recognition of Mauritius’ Independence, 1968.': {'places': ['Mauritius', 'Port\\n                            Louis'], 'persons': [], 'dates': ['1968']}, 'Diplomatic Relations': {'places': ['Port Louis'], 'persons': [], 'dates': ['1968']}, 'Establishment of Diplomatic Relations and the American Embassy in\\n                        Mauritius, 1968.': {'places': ['Port Louis'], 'persons': [], 'dates': ['1968']}, 'Resources': {'places': [], 'persons': [], 'dates': []}}}, {'name': 'Mecklenburg-schwerin', 'url': 'https://history.state.gov/countries/mecklenburg-schwerin', 'flag': '', 'infos': {'Summary': {'places': ['Mecklenburg-Schwerin'], 'persons': [], 'dates': []}, 'Recognition': {'places': [], 'persons': ['John M.\\n                            Forbes'], 'dates': ['1816']}, 'Mutual Recognition, 1816.': {'places': [], 'persons': ['John M.\\n                            Forbes'], 'dates': ['1816']}, 'Diplomatic Relations': {'places': [], 'persons': [], 'dates': []}, 'Establishment of Diplomatic Relations.': {'places': [], 'persons': [], 'dates': []}, 'Treaties and Agreements': {'places': [], 'persons': ['L. de Liitzow', 'A. Dudley Mann'], 'dates': ['June 10, 1846, 1847', '1853']}, 'Declaration of Accession to the Stipulations and Provisions of the Treaty\\n                        with Hanover of June 10, 1846, 1847.': {'places': [], 'persons': ['L. de Liitzow', 'A. Dudley Mann'], 'dates': ['June 10, 1846, 1847']}, 'Declaration of Accession to the Convention for the Extradition of\\n                        Criminals, Fugitive from Justice, of June 16, 1852, between the United\\n                        States and Prussia and Other States of the Germanic Confederation, 1853.': {'places': [], 'persons': [], 'dates': ['1853']}, 'Key Diplomatic Events': {'places': [], 'persons': [], 'dates': ['1867', '1871']}, 'Mecklenburg-Schwerin Joins the North German Confederation, 1867.': {'places': [], 'persons': [], 'dates': ['1867']}, 'Mecklenburg-Schwerin Joins the German Empire, 1871.': {'places': [], 'persons': [], 'dates': ['1871']}, 'German Unification.': {'places': [], 'persons': [], 'dates': []}, 'Resources': {'places': [], 'persons': [], 'dates': []}}}, {'name': 'Mecklenburg-strelitz', 'url': 'https://history.state.gov/countries/mecklenburg-strelitz', 'flag': '', 'infos': {'Summary': {'places': ['Mecklenburg-Strelitz'], 'persons': [], 'dates': []}, 'Recognition': {'places': [], 'persons': ['Leon Herckenrath'], 'dates': ['1853']}, 'Mutual Recognition, 1853.': {'places': [], 'persons': ['Leon Herckenrath'], 'dates': ['1853']}, 'Diplomatic Relations': {'places': [], 'persons': [], 'dates': ['1853']}, 'Establishment of Diplomatic Relations.': {'places': [], 'persons': [], 'dates': []}, 'Declaration of Accession to the Convention for the Extradition of\\n                        Criminals, Fugitive from Justice, of June 16, 1852, between the United\\n                        States and Prussia and Other States of the Germanic Confederation, 1853.': {'places': [], 'persons': [], 'dates': ['1853']}, 'Key Diplomatic Events': {'places': [], 'persons': [], 'dates': ['1867', '1871']}, 'Mecklenburg-Sterlitz Joins the North German Confederation, 1867.': {'places': [], 'persons': [], 'dates': ['1867']}, 'Mecklenburg-Sterlitz Joins the German Empire, 1871.': {'places': [], 'persons': [], 'dates': ['1871']}, 'German Unification.': {'places': [], 'persons': [], 'dates': []}, 'Resources': {'places': [], 'persons': [], 'dates': []}}}, {'name': 'Mexico', 'url': 'https://history.state.gov/countries/mexico', 'flag': 'https://static.history.state.gov/countries/mexico-flag.jpg', 'infos': {'Summary': {'places': ['Mexico'], 'persons': ['Henry Clay', 'John Quincy\\n                        Adams'], 'dates': []}, 'Recognition': {'places': [], 'persons': ['James Monroe', 'José Manuel\\n                            Zozaya'], 'dates': ['1822']}, 'United States Recognition of Mexican Independence, 1822.': {'places': [], 'persons': ['James Monroe', 'José Manuel\\n                            Zozaya'], 'dates': ['1822']}, 'Diplomatic Relations': {'places': ['Mexico City', 'Texas', 'Guadalupe-Hidalgo', 'Veracruz'], 'persons': ['Guadalupe\\n                            Victoria', 'John Tyler', 'James Knox Polk', 'Wilson Shannon', 'Luis de la Rosa', 'Miguel Miramón y Tarelo', 'Benito\\n                            Juárez', 'Woodrow Wilson', 'Venustiano Carranza'], 'dates': ['1822', '1825', '1845', '1848', '1858', '1859', '1899', '1914', '1917']}, 'Establishment of Diplomatic Relations, 1822.': {'places': [], 'persons': [], 'dates': ['1822']}, 'Establishment of the American Legation in Mexico City, 1825.': {'places': ['Mexico City'], 'persons': ['Guadalupe\\n                            Victoria'], 'dates': ['1825']}, 'Diplomatic Relations Severed by Mexico, 1845.': {'places': ['Texas'], 'persons': ['John Tyler', 'James Knox Polk', 'Wilson Shannon'], 'dates': ['1845']}, 'Diplomatic Relations Reestablished, 1848.': {'places': ['Guadalupe-Hidalgo'], 'persons': ['Luis de la Rosa'], 'dates': ['1848']}, 'Diplomatic Relations Severed by the United States, 1858.': {'places': [], 'persons': ['Miguel Miramón y Tarelo', 'Benito\\n                            Juárez'], 'dates': ['1858']}, 'Diplomatic Relations Reestablished, 1859.': {'places': [], 'persons': [], 'dates': ['1859']}, 'Elevation of American Legation to Embassy Status, 1899.': {'places': [], 'persons': [], 'dates': ['1899']}, 'Diplomatic Relations Severed by Mexico, 1914.': {'places': ['Veracruz'], 'persons': ['Woodrow Wilson'], 'dates': ['1914']}, 'Diplomatic Relations Reestablished, 1917.': {'places': [], 'persons': ['Venustiano Carranza'], 'dates': ['1917']}, 'Resources': {'places': [], 'persons': [], 'dates': []}}}, {'name': 'Micronesia', 'url': 'https://history.state.gov/countries/micronesia', 'flag': 'https://static.history.state.gov/countries/micronesia-flag.jpg', 'infos': {'Summary': {'places': ['Federated States of\\n                        Micronesia', 'Kolonia'], 'persons': [], 'dates': []}, 'Recognition': {'places': [], 'persons': ['Ronald Reagan'], 'dates': ['1986']}, 'U.S. Recognition of Micronesian Independence, 1986.': {'places': [], 'persons': ['Ronald Reagan'], 'dates': ['1986']}, 'Diplomatic Relations': {'places': [], 'persons': [], 'dates': ['1986', '1989']}, 'Establishment of Diplomatic Relations, 1986.': {'places': [], 'persons': [], 'dates': ['1986']}, 'Establishment of the American Embassy in Micronesia, 1989.': {'places': [], 'persons': [], 'dates': ['1989']}, 'Resources': {'places': [], 'persons': [], 'dates': []}}}, {'name': 'Moldova', 'url': 'https://history.state.gov/countries/moldova', 'flag': 'https://static.history.state.gov/countries/moldova-flag.jpg', 'infos': {'Summary': {'places': ['Moldova'], 'persons': ['George H.W.\\n                        Bush'], 'dates': []}, 'Recognition': {'places': [], 'persons': ['George H.W. Bush'], 'dates': ['1991']}, 'U.S. Recognition of Moldova, 1991.': {'places': [], 'persons': ['George H.W. Bush'], 'dates': ['1991']}, 'Diplomatic Relations': {'places': ['Chisinau'], 'persons': ['George H.W.\\n                            Bush', 'Mircea\\n                            Snegur', 'Howard Steers'], 'dates': ['1992', '1992']}, 'Establishment of Diplomatic Relations, 1992.': {'places': [], 'persons': ['George H.W.\\n                            Bush', 'Mircea\\n                            Snegur'], 'dates': ['1992']}, 'Establishment of the American Embassy in Chisinau, 1992.': {'places': ['Chisinau'], 'persons': ['Howard Steers'], 'dates': ['1992']}, 'Resources': {'places': [], 'persons': [], 'dates': []}}}, {'name': 'Monaco', 'url': 'https://history.state.gov/countries/monaco', 'flag': 'https://static.history.state.gov/countries/monaco-flag.jpg', 'infos': {'Summary': {'places': ['Principality of Monaco'], 'persons': ['Louis XVI', 'Prince Albert I', 'Grace Kelly', 'Prince Rainier\\n                        III'], 'dates': []}, 'Recognition': {'places': [], 'persons': ['Louis Borg', 'Napoleon III'], 'dates': ['1865']}, 'First Official State-to-State Interaction, 1865.': {'places': [], 'persons': ['Louis Borg', 'Napoleon III'], 'dates': ['1865']}, 'Consular Presence': {'places': ['Monte Carlo'], 'persons': ['Emile de Loth', 'Gilles Noghès', 'George W. Bush', 'Craig Stapleton', 'Prince Albert II', 'Prince Albert I', 'Woodrow\\n                                    Wilson', 'Col. William Frederick\\n                                    Cody'], 'dates': ['1874', 'December\\n                                2006', '1939', '1952', '2009', '1913', '1918', '1956']}, 'Establishment of U.S. Consul in Monaco, 1874.': {'places': ['Monte Carlo'], 'persons': ['Emile de Loth'], 'dates': ['1874']}, 'Diplomatic Relations': {'places': [], 'persons': ['Gilles Noghès', 'George W. Bush', 'Craig Stapleton', 'Prince Albert II'], 'dates': ['December\\n                                2006']}, 'Establishment of Full Diplomatic Relations, December\\n                                2006.': {'places': [], 'persons': ['Gilles Noghès', 'George W. Bush', 'Craig Stapleton', 'Prince Albert II'], 'dates': ['December\\n                                2006']}, 'Treaties and Agreements': {'places': [], 'persons': ['Prince Albert I', 'Woodrow\\n                                    Wilson', 'Col. William Frederick\\n                                    Cody'], 'dates': ['1939', '1952', '2009', '1913', '1918', '1956']}, 'Treaty of Extradition, 1939.': {'places': [], 'persons': [], 'dates': ['1939']}, 'Agreement on Passport Visas, 1952.': {'places': [], 'persons': [], 'dates': ['1952']}, 'Tax Information Exchange Agreement, 2009.': {'places': [], 'persons': [], 'dates': ['2009']}, 'Key Diplomatic Events': {'places': [], 'persons': ['Prince Albert I', 'Woodrow\\n                                    Wilson', 'Col. William Frederick\\n                                    Cody'], 'dates': ['1913', '1918', '1956']}, 'Reception of Monégasque Prince by U.S. President, 1913.': {'places': [], 'persons': ['Prince Albert I', 'Woodrow\\n                                    Wilson', 'Col. William Frederick\\n                                    Cody'], 'dates': ['1913']}, 'Franco-Monégasque Treaty Signed, 1918.': {'places': [], 'persons': [], 'dates': ['1918']}, 'Marriage of Grace Kelly to Prince Rainier III, 1956.': {'places': [], 'persons': [], 'dates': ['1956']}, 'Resources': {'places': [], 'persons': [], 'dates': []}}}, {'name': 'Mongolia', 'url': 'https://history.state.gov/countries/mongolia', 'flag': 'https://static.history.state.gov/countries/mongolia-flag.jpg', 'infos': {'Summary': {'places': ['Mongolia', 'China', 'Soviet Union'], 'persons': [], 'dates': []}, 'Recognition': {'places': [], 'persons': [], 'dates': ['1987']}, 'U.S. Recognition of Mongolia, 1987.': {'places': [], 'persons': [], 'dates': ['1987']}, 'Diplomatic Relations': {'places': ['Ulaanbaatar'], 'persons': [], 'dates': ['1987', '1988']}, 'Establishment of Diplomatic Relations, 1987.': {'places': [], 'persons': [], 'dates': ['1987']}, 'Establishment of the American Embassy in Mongolia, 1988.': {'places': ['Ulaanbaatar'], 'persons': [], 'dates': ['1988']}, 'Resources': {'places': [], 'persons': [], 'dates': []}}}, {'name': 'Montenegro', 'url': 'https://history.state.gov/countries/montenegro', 'flag': 'https://static.history.state.gov/countries/montenegro-flag.jpg', 'infos': {'Summary': {'places': ['Montenegro', 'Federation of Yugoslavia'], 'persons': ['Woodrow Wilson'], 'dates': []}, 'Recognition': {'places': ['Greece'], 'persons': ['Theodore Roosevelt', 'William F. Dix', 'King\\n                            Nikola'], 'dates': ['1905', '1920-21', '2006']}, 'United States Recognition of Montenegro, 1905.': {'places': ['Greece'], 'persons': ['Theodore Roosevelt'], 'dates': ['1905']}, 'Recognition of Independent Montenegro Withdrawn by the United States,\\n                            1920-21.': {'places': [], 'persons': ['William F. Dix', 'King\\n                            Nikola'], 'dates': ['1920-21']}, 'United States Recognition of Montenegro, 2006.': {'places': [], 'persons': [], 'dates': ['2006']}, 'Diplomatic Relations': {'places': ['Cetinje', 'Podgorica'], 'persons': ['Prince Nikola', 'George W. Bush', 'Filip Vujanovic'], 'dates': ['1905', '1920-21', '2006', '2006']}, 'Diplomatic Relations Established, 1905.': {'places': ['Cetinje'], 'persons': ['Prince Nikola'], 'dates': ['1905']}, 'Diplomatic Relations Ended, 1920-21.': {'places': [], 'persons': [], 'dates': ['1920-21']}, 'Re-establishment of Diplomatic Relations, 2006.': {'places': [], 'persons': ['George W. Bush', 'Filip Vujanovic'], 'dates': ['2006']}, 'Establishment of the American Embassy in Podgorica, 2006.': {'places': ['Podgorica'], 'persons': [], 'dates': ['2006']}, 'Resources': {'places': [], 'persons': [], 'dates': []}}}, {'name': 'Morocco', 'url': 'https://history.state.gov/countries/morocco', 'flag': 'https://static.history.state.gov/countries/moroccan-flag.jpg', 'infos': {'Summary': {'places': ['Morocco'], 'persons': [], 'dates': []}, 'Recognition': {'places': ['Marrakech'], 'persons': ['Thomas\\n                            Barclay', 'Sidi Muhammad', 'Robert\\n                            Lansing', 'Jean Jules Jusserand'], 'dates': ['1786', '1912-1956', '1956']}, 'Moroccan Recognition of the United States, 1786.': {'places': ['Marrakech'], 'persons': ['Thomas\\n                            Barclay', 'Sidi Muhammad'], 'dates': ['1786']}, 'Morocco Under French and Spanish Control, 1912-1956.': {'places': [], 'persons': ['Robert\\n                            Lansing', 'Jean Jules Jusserand'], 'dates': ['1912-1956']}, 'U.S. Recognition of Moroccan Independence, 1956.': {'places': [], 'persons': [], 'dates': ['1956']}, 'Consular Presence': {'places': ['Tangier', 'Tangier (Tanger, Tangiers', 'Essaouira (Mogador)', 'Larache', 'Asilah', 'Tétouan (Tetuan)', 'Casablanca (Casa Blanca, Dar El-Beïda,\\n                                    Anfa)', 'Rabat (Ribāt, Salé, Sali, Sallee)', 'Safi (Saffi)', 'El Jadida (Mazagan, Magazan)', 'Tangier', 'Rabat'], 'persons': ['James Simpson', 'El Mehdi Mohammed Ben\\n                                Aboud'], 'dates': ['1797', '1905', '1912-1956', '1956']}, 'U.S. Consul Appointed to Morocco, 1797.': {'places': ['Tangier', 'Tangier (Tanger, Tangiers', 'Essaouira (Mogador)', 'Larache', 'Asilah', 'Tétouan (Tetuan)', 'Casablanca (Casa Blanca, Dar El-Beïda,\\n                                    Anfa)', 'Rabat (Ribāt, Salé, Sali, Sallee)', 'Safi (Saffi)', 'El Jadida (Mazagan, Magazan)'], 'persons': ['James Simpson'], 'dates': ['1797']}, 'Diplomatic Relations': {'places': ['Tangier', 'Rabat'], 'persons': ['El Mehdi Mohammed Ben\\n                                Aboud'], 'dates': ['1905', '1912-1956', '1956']}, 'Establishment of Diplomatic Relations and the American Legation at\\n                            Tangier, 1905.': {'places': [], 'persons': [], 'dates': ['1905']}, 'Morocco under French and Spanish Control, 1912-1956.': {'places': ['Tangier'], 'persons': [], 'dates': ['1912-1956']}, 'Diplomatic Relations Reestablished and Establishment of American\\n                            Embassy, 1956.': {'places': ['Rabat'], 'persons': ['El Mehdi Mohammed Ben\\n                                Aboud'], 'dates': ['1956']}, 'Resources': {'places': [], 'persons': [], 'dates': []}}}, {'name': 'Mozambique', 'url': 'https://history.state.gov/countries/mozambique', 'flag': 'https://static.history.state.gov/countries/mozambique-flag.jpg', 'infos': {'Summary': {'places': ['People’s Republic of\\n                        Mozambique'], 'persons': ['Gerald R.\\n                        Ford', 'Samora\\n                        Moises Machel'], 'dates': []}, 'Recognition': {'places': ['People’s Republic of\\n                            Mozambique'], 'persons': ['Gerald\\n                            R. Ford'], 'dates': ['1975']}, 'U.S. Recognition of Mozambique, 1975.': {'places': ['People’s Republic of\\n                            Mozambique'], 'persons': ['Gerald\\n                            R. Ford'], 'dates': ['1975']}, 'Diplomatic Relations': {'places': ['Lourenco Marques (now Maputo)'], 'persons': ['Joachim Alberto\\n                            Chissano'], 'dates': ['1975', '1975']}, 'Establishment of Diplomatic Relations, 1975.': {'places': [], 'persons': ['Joachim Alberto\\n                            Chissano'], 'dates': ['1975']}, 'Establishment of the American Embassy in Mozambique, 1975.': {'places': ['Lourenco Marques (now Maputo)'], 'persons': [], 'dates': ['1975']}, 'Resources': {'places': [], 'persons': [], 'dates': []}}}, {'name': 'Namibia', 'url': 'https://history.state.gov/countries/namibia', 'flag': 'https://static.history.state.gov/countries/namibia.jpg', 'infos': {'Summary': {'places': ['Namibia', 'Windhoek'], 'persons': [], 'dates': []}, 'Recognition': {'places': ['Namibia'], 'persons': [], 'dates': ['1990']}, 'U.S. Recognition of Namibia’s Independence, 1990.': {'places': ['Namibia'], 'persons': [], 'dates': ['1990']}, 'Diplomatic Relations': {'places': [], 'persons': [], 'dates': ['1990']}, 'Establishment of Diplomatic Relations and the American Embassy in Namibia,\\n                            1990.': {'places': [], 'persons': [], 'dates': ['1990']}, 'Resources': {'places': [], 'persons': [], 'dates': []}}}, {'name': 'Nassau', 'url': 'https://history.state.gov/countries/nassau', 'flag': '', 'infos': {'Summary': {'places': ['Nassau'], 'persons': [], 'dates': []}, 'Recognition': {'places': [], 'persons': ['Henry Wheaton', 'Otto Wilhelm Carl von Roeder'], 'dates': ['1846']}, 'Mutual Recognition, 1846.': {'places': [], 'persons': ['Henry Wheaton', 'Otto Wilhelm Carl von Roeder'], 'dates': ['1846']}, 'Consular Presence': {'places': [], 'persons': ['John B.\\n                            Muller Melchiors'], 'dates': ['November 1, 1853']}, 'The first U.S. Consul appointed to the Duchy of Nassau was John B. Muller\\n                        Melchiors on November 1, 1853.': {'places': [], 'persons': ['John B.\\n                            Muller Melchiors'], 'dates': ['November 1, 1853']}, 'Diplomatic Relations': {'places': [], 'persons': [], 'dates': []}, 'Establishment of Diplomatic Relations.': {'places': [], 'persons': [], 'dates': []}, 'Treaties and Agreements': {'places': [], 'persons': ['Henry Wheaton', 'Otto Wilhelm\\n                            Carl von Roeder'], 'dates': ['1846']}, 'Convention Abolishing Droit d’Aubaine and Emigration Taxes, 1846.': {'places': [], 'persons': ['Henry Wheaton', 'Otto Wilhelm\\n                            Carl von Roeder'], 'dates': ['1846']}, 'Key Diplomatic Events': {'places': [], 'persons': [], 'dates': ['1866']}, 'The Austro-Prussian War of 1866.': {'places': [], 'persons': [], 'dates': ['1866']}, 'German Unification.': {'places': [], 'persons': [], 'dates': []}, 'Resources': {'places': [], 'persons': [], 'dates': []}}}, {'name': 'Nauru', 'url': 'https://history.state.gov/countries/nauru', 'flag': 'https://static.history.state.gov/countries/nauru-flag.jpg', 'infos': {'Summary': {'places': ['Nauru', 'Yaren District'], 'persons': [], 'dates': []}, 'Recognition': {'places': [], 'persons': [], 'dates': ['1976']}, 'U.S. Recognition of Nauru, 1976.': {'places': [], 'persons': [], 'dates': ['1976']}, 'Diplomatic Relations': {'places': [], 'persons': [], 'dates': ['1976', '1996']}, 'Establishment of Diplomatic Relations, 1976.': {'places': [], 'persons': [], 'dates': ['1976']}, 'Accreditation of U.S. Ambassador to Nauru changed from Canberra to Suva,\\n                            1996.': {'places': [], 'persons': [], 'dates': ['1996']}, 'Resources': {'places': [], 'persons': [], 'dates': []}}}, {'name': 'Nepal', 'url': 'https://history.state.gov/countries/nepal', 'flag': 'https://static.history.state.gov/countries/nepal-flag.jpg', 'infos': {'Summary': {'places': ['Nepal'], 'persons': [], 'dates': []}, 'Recognition': {'places': [], 'persons': ['Harry S. Truman', 'Tribhubana Bir Bikram Jung Bahadur Shah Bahadur\\n                            Shum Shere Jung Deva'], 'dates': ['1947']}, 'U.S. Recognition of Nepal, 1947.': {'places': [], 'persons': ['Harry S. Truman', 'Tribhubana Bir Bikram Jung Bahadur Shah Bahadur\\n                            Shum Shere Jung Deva'], 'dates': ['1947']}, 'Diplomatic Relations': {'places': ['Kathmandu'], 'persons': [], 'dates': ['1948', '1947']}, 'Establishment of Diplomatic Relations, 1948.': {'places': [], 'persons': [], 'dates': ['1948']}, 'Establishment of the American Embassy in Nepal, 1947.': {'places': ['Kathmandu'], 'persons': [], 'dates': ['1947']}, 'Resources': {'places': [], 'persons': [], 'dates': []}}}, {'name': 'Netherlands', 'url': 'https://history.state.gov/countries/netherlands', 'flag': 'https://static.history.state.gov/countries/netherlands-flag.jpg', 'infos': {'Historical Overview': {'places': ['Rotterdam', 'Dordrecht', 'Harlingen', 'Den Helder', 'Zierikzee', 'The\\n                                Hague'], 'persons': ['Henry\\n                        Laurens', 'Jan Beeldermaker', 'Peter John Van Berckel', 'Sylvanus Bourne', 'R. G. van Polanen', 'Louis Bonaparte', 'François Daniel Changuion'], 'dates': ['1782', '1798', '1986', '1782', '1783', '1801', '1810-1814', '1814', '1940', '1942', '1945']}, 'Recognition': {'places': [], 'persons': [], 'dates': ['1782']}, 'Dutch Recognition of U.S. Independence, 1782.': {'places': [], 'persons': [], 'dates': ['1782']}, 'Consular Presence': {'places': ['Rotterdam', 'Dordrecht', 'Harlingen', 'Den Helder', 'Zierikzee'], 'persons': ['Jan Beeldermaker'], 'dates': ['1798', '1986']}, 'Establishment of Consular Relations, 1798.': {'places': ['Rotterdam'], 'persons': ['Jan Beeldermaker'], 'dates': ['1798']}, 'Closure of Consulate in Rotterdam, 1986.': {'places': [], 'persons': [], 'dates': ['1986']}, 'Other Consulates.': {'places': ['Dordrecht', 'Harlingen', 'Den Helder', 'Zierikzee'], 'persons': [], 'dates': []}, 'Diplomatic Relations': {'places': ['The\\n                                Hague'], 'persons': ['Peter John Van Berckel', 'Sylvanus Bourne', 'R. G. van Polanen', 'Louis Bonaparte', 'François Daniel Changuion'], 'dates': ['1782', '1783', '1801', '1810-1814', '1814', '1940', '1942', '1945']}, 'Establishment of Diplomatic Relations and the American Legation in The\\n                            Hague, 1782.': {'places': ['The\\n                                Hague'], 'persons': [], 'dates': ['1782']}, 'Establishment of the Dutch Legation to the United States, 1783.': {'places': [], 'persons': ['Peter John Van Berckel'], 'dates': ['1783']}, 'Closure of American Legation in The Hague, 1801.': {'places': [], 'persons': ['Sylvanus Bourne', 'R. G. van Polanen'], 'dates': ['1801']}, 'Netherlands Under French Control, 1810-1814.': {'places': [], 'persons': ['Louis Bonaparte'], 'dates': ['1810-1814']}, 'Re-Opening of Diplomatic Relations, 1814.': {'places': [], 'persons': ['François Daniel Changuion'], 'dates': ['1814']}, 'U.S. Legation moved to London, 1940.': {'places': [], 'persons': [], 'dates': ['1940']}, 'Elevation of American Legation to Embassy Status, 1942.': {'places': [], 'persons': [], 'dates': ['1942']}, 'U.S. Embassy Returned to The Hague, 1945.': {'places': [], 'persons': [], 'dates': ['1945']}, 'Treaties and Agreements': {'places': [], 'persons': [], 'dates': ['1782', '1782', '1839', '1852', '1855', '1839']}, 'Treaty of Amity and Commerce, 1782.': {'places': [], 'persons': [], 'dates': ['1782']}, 'Convention on Recaptured Vessels, 1782.': {'places': [], 'persons': [], 'dates': ['1782']}, 'Treaty of Commerce and Navigation, 1839.': {'places': [], 'persons': [], 'dates': ['1839']}, 'Convention on Commerce, 1852.': {'places': [], 'persons': [], 'dates': ['1852']}, 'Convention on Consuls, 1855.': {'places': [], 'persons': [], 'dates': ['1855']}, 'Convention on Rights, Privileges, and Immunities of Consular Officers,\\n                            1839.': {'places': [], 'persons': [], 'dates': ['1839']}, 'Key Diplomatic Events': {'places': [], 'persons': [], 'dates': ['1795', '1806', '1814']}, 'Establishment of the Batavian Republic, 1795.': {'places': [], 'persons': [], 'dates': ['1795']}, 'Establishment of the Kingdom of Holland, 1806.': {'places': [], 'persons': [], 'dates': ['1806']}, 'Establishment of the Kingdom of the Netherlands, 1814.': {'places': [], 'persons': [], 'dates': ['1814']}, 'Resources': {'places': [], 'persons': [], 'dates': []}}}, {'name': 'New-zealand', 'url': 'https://history.state.gov/countries/new-zealand', 'flag': 'https://static.history.state.gov/countries/new-zealand-flag.jpg', 'infos': {'Summary': {'places': ['New Zealand'], 'persons': [], 'dates': []}, 'Recognition': {'places': [], 'persons': ['Walter\\n                            Nash', 'Franklin Roosevelt'], 'dates': ['1942']}, 'U.S. Recognition of New Zealand’s Independence, 1942.': {'places': [], 'persons': ['Walter\\n                            Nash', 'Franklin Roosevelt'], 'dates': ['1942']}, 'Diplomatic Relations': {'places': ['Wellington'], 'persons': ['Harry S. Truman'], 'dates': ['1942', '1942', '1948', '1948']}, 'Establishment of Diplomatic Relations and the New Zealand Legation in the\\n                        United States, 1942.': {'places': [], 'persons': [], 'dates': ['1942']}, 'Establishment of the American Legation in New Zealand, 1942.': {'places': ['Wellington'], 'persons': [], 'dates': ['1942']}, 'Elevation of New Zealand Legation in the United States to Embassy Status,\\n                            1948.': {'places': [], 'persons': ['Harry S. Truman'], 'dates': ['1948']}, 'Elevation of American Legation in New Zealand to Embassy Status, 1948.': {'places': [], 'persons': [], 'dates': ['1948']}, 'Resources': {'places': [], 'persons': [], 'dates': []}}}, {'name': 'Nicaragua', 'url': 'https://history.state.gov/countries/nicaragua', 'flag': 'https://static.history.state.gov/countries/nicaragua-flag.jpg', 'infos': {'Summary': {'places': ['Nicaragua', 'Managua'], 'persons': ['James\\n                                Monroe', 'Antonio José Cañaz', 'James K. Polk', 'Eduardo\\n                                Carcache', 'James Monroe', 'Antonio José Caña', 'Eduardo\\n                                Carcache', 'Philander Chase\\n                                Knox', 'José Santos\\n                            Zelaya', 'Leonard Croce', 'Lee\\n                                Roy Cannon', 'Juan J. Estrada', 'Elliot Northcott', 'Emiliano Chamorro\\n                                Vargas', 'Sebastián Uriza', 'Adolfo Díaz', 'Lawrence Dennis', 'Anastasio Somoza\\n                                García', 'Leonardo Argüello Barreto', 'Guillermo Sevilla\\n                                Sacasa', 'Víctor Manuel Román y Reyes', 'Richard Melton', 'Carlos Tunnerman'], 'dates': ['1824', '1849', '1824', '1849', '1851', '1909', '1911', '1926', '1926', '1942', '1947', '1948', '1988', '1990']}, 'Recognition': {'places': [], 'persons': ['James\\n                                Monroe', 'Antonio José Cañaz', 'James K. Polk', 'Eduardo\\n                                Carcache'], 'dates': ['1824', '1849']}, 'United States Recognition of the Federation of Central American\\n                            States, 1824.': {'places': [], 'persons': ['James\\n                                Monroe', 'Antonio José Cañaz'], 'dates': ['1824']}, 'United States Recognition of Nicaragua, 1849.': {'places': [], 'persons': ['James K. Polk', 'Eduardo\\n                                Carcache'], 'dates': ['1849']}, 'Consular Presence': {'places': [], 'persons': [], 'dates': []}, '': {'places': [], 'persons': [], 'dates': []}, 'Diplomatic Relations': {'places': ['Managua'], 'persons': ['James Monroe', 'Antonio José Caña', 'Eduardo\\n                                Carcache', 'Philander Chase\\n                                Knox', 'José Santos\\n                            Zelaya', 'Leonard Croce', 'Lee\\n                                Roy Cannon', 'Juan J. Estrada', 'Elliot Northcott', 'Emiliano Chamorro\\n                                Vargas', 'Sebastián Uriza', 'Adolfo Díaz', 'Lawrence Dennis', 'Anastasio Somoza\\n                                García', 'Leonardo Argüello Barreto', 'Guillermo Sevilla\\n                                Sacasa', 'Víctor Manuel Román y Reyes', 'Richard Melton', 'Carlos Tunnerman'], 'dates': ['1824', '1849', '1851', '1909', '1911', '1926', '1926', '1942', '1947', '1948', '1988', '1990']}, 'Establishment of Diplomatic Relations with the Federation of Central\\n                            American States, 1824.': {'places': [], 'persons': ['James Monroe', 'Antonio José Caña'], 'dates': ['1824']}, 'Establishment of Diplomatic Relations with Nicaragua, 1849.': {'places': [], 'persons': ['Eduardo\\n                                Carcache'], 'dates': ['1849']}, 'Establishment of U.S. Diplomatic Mission, 1851.': {'places': [], 'persons': [], 'dates': ['1851']}, 'Diplomatic Relations Severed by the United States, 1909.': {'places': [], 'persons': ['Philander Chase\\n                                Knox', 'José Santos\\n                            Zelaya', 'Leonard Croce', 'Lee\\n                                Roy Cannon', 'Juan J. Estrada'], 'dates': ['1909']}, 'Diplomatic Relations Re-established by the United States, 1911.': {'places': [], 'persons': ['Elliot Northcott'], 'dates': ['1911']}, 'Normal Relations Interrupted, 1926.': {'places': [], 'persons': ['Emiliano Chamorro\\n                                Vargas', 'Sebastián Uriza'], 'dates': ['1926']}, 'Normal Relations Resumed, 1926.': {'places': [], 'persons': ['Adolfo Díaz', 'Lawrence Dennis'], 'dates': ['1926']}, 'Legation Raised to Embassy, 1942.': {'places': [], 'persons': [], 'dates': ['1942']}, 'Diplomatic Relations Severed by the United States, 1947.': {'places': [], 'persons': ['Anastasio Somoza\\n                                García', 'Leonardo Argüello Barreto', 'Guillermo Sevilla\\n                                Sacasa'], 'dates': ['1947']}, 'Diplomatic Relations Reestablished, 1948.': {'places': [], 'persons': ['Víctor Manuel Román y Reyes'], 'dates': ['1948']}, 'Ambassadors Expelled, 1988.': {'places': ['Managua'], 'persons': ['Richard Melton', 'Carlos Tunnerman'], 'dates': ['1988']}, 'Ambassadorial Relations Resumed, 1990.': {'places': [], 'persons': [], 'dates': ['1990']}, 'Resources': {'places': [], 'persons': [], 'dates': []}}}, {'name': 'Niger', 'url': 'https://history.state.gov/countries/niger', 'flag': 'https://static.history.state.gov/countries/niger-flag.jpg', 'infos': {'Summary': {'places': ['Niger'], 'persons': [], 'dates': []}, 'Recognition': {'places': ['Republic of Niger'], 'persons': ['Dwight\\n                            D. Eisenhower', 'Hamani\\n                            Diori'], 'dates': ['1960']}, 'U.S. Recognition of Niger’s Independence, 1960.': {'places': ['Republic of Niger'], 'persons': ['Dwight\\n                            D. Eisenhower', 'Hamani\\n                            Diori'], 'dates': ['1960']}, 'Diplomatic Relations': {'places': ['Niamey'], 'persons': [], 'dates': ['1960', '1961']}, 'Establishment of Diplomatic Relations, 1960.': {'places': [], 'persons': [], 'dates': ['1960']}, 'Establishment of the American Embassy in Niger, 1961.': {'places': ['Niamey'], 'persons': [], 'dates': ['1961']}, 'Resources': {'places': [], 'persons': [], 'dates': []}}}, {'name': 'Nigeria', 'url': 'https://history.state.gov/countries/nigeria', 'flag': 'https://static.history.state.gov/countries/nigeria-flag.jpg', 'infos': {'Summary': {'places': ['Federation of Nigeria'], 'persons': ['Christian\\n                        Herter', 'Dwight D. Eisenhowe', 'Sir Abubukar Tafawa Balewa'], 'dates': []}, 'Recognition': {'places': [], 'persons': [], 'dates': ['1960']}, 'U.S. Recognition of Nigerian Independence, 1960.': {'places': [], 'persons': [], 'dates': ['1960']}, 'Diplomatic Relations': {'places': ['Lagos'], 'persons': ['M. J. Garba', 'Joseph Palmer II'], 'dates': ['1960', '1960']}, 'Establishment of Diplomatic Relations, 1960.': {'places': [], 'persons': ['M. J. Garba'], 'dates': ['1960']}, 'Establishment of the American Embassy in Lagos, 1960.': {'places': ['Lagos'], 'persons': ['Joseph Palmer II'], 'dates': ['1960']}, '': {'places': [], 'persons': [], 'dates': []}}}, {'name': 'North-german-confederation', 'url': 'https://history.state.gov/countries/north-german-confederation', 'flag': '', 'infos': {'Summary': {'places': [], 'persons': [], 'dates': []}, 'Recognition': {'places': [], 'persons': ['King Wilhelm I'], 'dates': ['1867']}, 'U.S. Recognition of the North German Confederation, 1867.': {'places': [], 'persons': ['King Wilhelm I'], 'dates': ['1867']}, 'Diplomatic Relations': {'places': [], 'persons': [], 'dates': ['1868', '1871']}, 'Establishment of Diplomatic Relations, 1868.': {'places': [], 'persons': [], 'dates': ['1868']}, 'Cessation of Diplomatic Relations with the North German Union, 1871.': {'places': [], 'persons': [], 'dates': ['1871']}, 'Key Diplomatic Events': {'places': [], 'persons': [], 'dates': []}, 'German Unification.': {'places': [], 'persons': [], 'dates': []}, 'Resources': {'places': [], 'persons': [], 'dates': []}}}, {'name': 'North-german-union', 'url': 'https://history.state.gov/countries/north-german-union', 'flag': '', 'infos': {'Summary': {'places': ['North German Union (Confederation)'], 'persons': [], 'dates': []}, 'Recognition': {'places': [], 'persons': ['George\\n                            Bancroft', 'King Wilhelm I'], 'dates': ['1867']}, 'U.S. Recognition of the North German Confederation, 1867.': {'places': [], 'persons': ['George\\n                            Bancroft', 'King Wilhelm I'], 'dates': ['1867']}, 'Diplomatic Relations': {'places': [], 'persons': [], 'dates': ['1868', '1871']}, 'Establishment of Diplomatic Relations, 1868.': {'places': [], 'persons': [], 'dates': ['1868']}, 'Cessation of Diplomatic Relations with the North German Union, 1871.': {'places': [], 'persons': [], 'dates': ['1871']}, 'Key Diplomatic Events': {'places': [], 'persons': [], 'dates': []}, 'German Unification.': {'places': [], 'persons': [], 'dates': []}, 'Resources': {'places': [], 'persons': [], 'dates': []}}}, {'name': 'Macedonia', 'url': 'https://history.state.gov/countries/macedonia', 'flag': 'https://static.history.state.gov/countries/macedonia-flag.jpg', 'infos': {'Summary': {'places': ['Macedonia'], 'persons': [], 'dates': []}, 'Recognition': {'places': [], 'persons': [], 'dates': ['1994']}, 'U.S. Recognition of Former Yugoslav Republic of Macedonia, 1994.': {'places': [], 'persons': [], 'dates': ['1994']}, 'History of Diplomatic Relations': {'places': ['Skopje'], 'persons': ['Robert L.\\n                            Norman', 'William J. Clinton', 'Kiro Gligorov'], 'dates': ['1995', '1996']}, 'Establishment of the U.S. Liaison Office in Skopje, 1993.': {'places': ['Skopje'], 'persons': ['Robert L.\\n                            Norman'], 'dates': []}, 'Establishment of Diplomatic Relations, 1995.': {'places': [], 'persons': ['William J. Clinton', 'Kiro Gligorov'], 'dates': ['1995']}, 'Elevation of U.S. Legation to Embassy Status, 1996.': {'places': [], 'persons': [], 'dates': ['1996']}, 'Resources': {'places': [], 'persons': [], 'dates': []}}}, {'name': 'Norway', 'url': 'https://history.state.gov/countries/norway', 'flag': 'https://static.history.state.gov/countries/norway-flag.jpg', 'infos': {'Summary': {'places': ['Norway'], 'persons': ['Napoleon', 'Prince Charles\\n                        of Denmark', 'Haakon\\n                        VII'], 'dates': []}, 'Recognition': {'places': [], 'persons': [], 'dates': ['1905']}, 'U.S. Recognition of Norwegian Independence, 1905.': {'places': [], 'persons': [], 'dates': ['1905']}, 'Consular Presence': {'places': ['Christiania (Oslo', 'Christiansand', 'Bergen', 'Trondheim', 'Stavanger', 'Tromso', 'Hammerfest'], 'persons': [], 'dates': ['1925', '1809', '1900', '1821', '1917', '1919', '1828', '1941', '1948', '1953', '1863-97', '1899-1917', '1917-21', '1863-97', '1899-1905', '1905-33', '1866-70', '1896-99', '1866-70']}, 'The first U.S. Consulates established in Norway were at Christiania (Oslo since 1925) and Christiansand in 1809.': {'places': ['Christiania (Oslo', 'Christiansand', 'Bergen', 'Trondheim', 'Stavanger', 'Tromso', 'Hammerfest'], 'persons': [], 'dates': ['1925', '1809', '1900', '1821', '1917', '1919', '1828', '1941', '1948', '1953', '1863-97', '1899-1917', '1917-21', '1863-97', '1899-1905', '1905-33', '1866-70', '1896-99', '1866-70']}, 'Diplomatic Relations': {'places': ['Oslo'], 'persons': ['Christian Hauge'], 'dates': ['1905', '1905', '1940', '1940', '1942', '1945']}, 'Establishment of Diplomatic Relations, 1905.': {'places': [], 'persons': ['Christian Hauge'], 'dates': ['1905']}, 'First American Diplomatic Representative Accredited to Norway, 1905.': {'places': [], 'persons': [], 'dates': ['1905']}, 'Establishment of the American Legation in Christiania (Oslo).': {'places': [], 'persons': [], 'dates': []}, 'American Legation in Oslo Closed, 1940.': {'places': ['Oslo'], 'persons': [], 'dates': ['1940']}, 'Opening of the American Legation Near the Government of Norway in London,\\n                            1940.': {'places': [], 'persons': [], 'dates': ['1940']}, 'Elevation of American Legation to Embassy Status, 1942.': {'places': [], 'persons': [], 'dates': ['1942']}, 'American Embassy Transferred to Oslo, 1945.': {'places': [], 'persons': [], 'dates': ['1945']}, 'Treaties & Agreements': {'places': [], 'persons': [], 'dates': ['1893', '1908']}, 'First treaty between the United States and Norway signed, June 7, 1893.': {'places': [], 'persons': [], 'dates': ['1893']}, 'First treaty the U.S. signed with Independent Norway, April 1908.': {'places': [], 'persons': [], 'dates': ['1908']}, 'Resources': {'places': [], 'persons': [], 'dates': []}}}, {'name': 'Oldenburg', 'url': 'https://history.state.gov/countries/oldenburg', 'flag': '', 'infos': {'Summary': {'places': ['Oldenburg', 'Berlin'], 'persons': [], 'dates': []}, 'Recognition': {'places': [], 'persons': ['Frederick A. Mensch\\n                            Esq.'], 'dates': ['1847']}, 'Mutual Recognition, 1847.': {'places': [], 'persons': ['Frederick A. Mensch\\n                            Esq.'], 'dates': ['1847']}, 'Diplomatic Relations': {'places': [], 'persons': [], 'dates': []}, 'Establishment of Diplomatic Relations.': {'places': [], 'persons': [], 'dates': []}, 'Treaties and Agreements': {'places': ['Hanover'], 'persons': ['A.D. Mann', 'Baron W.E. de Beaulieu Marconnay'], 'dates': ['1847']}, 'Declaration of Accession to the Treaty of Commerce and Navigation with\\n                        Hanover, 1847.': {'places': ['Hanover'], 'persons': ['A.D. Mann', 'Baron W.E. de Beaulieu Marconnay'], 'dates': ['1847']}, 'Declaration of Accession to the Convention for the Extradition of\\n                        Criminals, Fugitive from Justice, of June 16, 1852, between the United\\n                        States and Prussia and Other States of the Germanic Confederation,\\n                        1853.': {'places': [], 'persons': [], 'dates': []}, 'Key Diplomatic Events': {'places': ['North German Union'], 'persons': [], 'dates': []}, 'Oldenburg Joins the North German Union, 1867.': {'places': ['North German Union'], 'persons': [], 'dates': []}, 'Oldenburg Joins the German Empire, 1871.': {'places': [], 'persons': [], 'dates': []}, 'German Unification.': {'places': [], 'persons': [], 'dates': []}, 'Resources': {'places': [], 'persons': [], 'dates': []}}}, {'name': 'Oman', 'url': 'https://history.state.gov/countries/oman', 'flag': 'https://static.history.state.gov/countries/oman-flag.jpg', 'infos': {'Summary': {'places': ['Oman'], 'persons': [], 'dates': []}, 'Recognition': {'places': [], 'persons': ['Edmund Roberts', 'Seyed\\n                            Syeed bin Sultan'], 'dates': ['1833']}, 'Mutual Recognition, 1833.': {'places': [], 'persons': ['Edmund Roberts', 'Seyed\\n                            Syeed bin Sultan'], 'dates': ['1833']}, 'Consular Presence': {'places': ['Muscat', 'Muscat'], 'persons': [], 'dates': ['1880', '1915']}, 'Establishment of U.S. consulate in Muscat, 1880 until 1915.': {'places': ['Muscat', 'Muscat'], 'persons': [], 'dates': ['1880', '1915']}, 'Diplomatic Relations': {'places': [], 'persons': [], 'dates': ['1972', '1972']}, 'Establishment of Diplomatic Relations, 1972.': {'places': [], 'persons': [], 'dates': ['1972']}, 'Establishment of the American Embassy in Oman, 1972.': {'places': [], 'persons': [], 'dates': ['1972']}, 'Resources': {'places': [], 'persons': [], 'dates': []}}}, {'name': 'Orange-free-state', 'url': 'https://history.state.gov/countries/orange-free-state', 'flag': '', 'infos': {'Summary': {'places': ['Orange Free State'], 'persons': [], 'dates': []}, 'Recognition': {'places': [], 'persons': [], 'dates': ['1871']}, 'Mutual Recognition, 1871.': {'places': [], 'persons': [], 'dates': ['1871']}, 'Consular Presence': {'places': [], 'persons': ['Ernst\\n                            Richard Landgraf'], 'dates': ['December 16, 1891']}, 'Bloemfontein, December 16, 1891\\n': {'places': [], 'persons': ['Ernst\\n                            Richard Landgraf'], 'dates': ['December 16, 1891']}, 'Diplomatic Relations': {'places': [], 'persons': [], 'dates': []}, 'Establishment of Diplomatic Relations.': {'places': [], 'persons': [], 'dates': []}, 'Treaties and Agreements': {'places': ['Cape of Good\\n                            Hope'], 'persons': ['Willard W. Edgcomb', 'Friedrich Kaufman Höhne', 'Charles D. Pierce'], 'dates': ['1871', '1896']}, 'Convention of Friendship and Commerce and Extradition, 1871.': {'places': ['Cape of Good\\n                            Hope'], 'persons': ['Willard W. Edgcomb', 'Friedrich Kaufman Höhne'], 'dates': ['1871']}, 'Extradition Treaty, 1896.': {'places': [], 'persons': ['Charles D. Pierce'], 'dates': ['1896']}, 'Issues Relevant to U.S. Foreign Diplomacy': {'places': [], 'persons': [], 'dates': []}, 'Colonization.': {'places': [], 'persons': [], 'dates': []}, 'Resources': {'places': [], 'persons': [], 'dates': []}}}, {'name': 'Pakistan', 'url': 'https://history.state.gov/countries/pakistan', 'flag': 'https://static.history.state.gov/countries/pakistan-flag.jpg', 'infos': {'Summary': {'places': ['Pakistan'], 'persons': [], 'dates': []}, 'Recognition': {'places': [], 'persons': ['Harry S. Truman', 'Mohammed Ali Jinnah'], 'dates': ['1947']}, 'U.S. Recognition of Pakistani Independence, 1947.': {'places': [], 'persons': ['Harry S. Truman', 'Mohammed Ali Jinnah'], 'dates': ['1947']}, 'Diplomatic Relations': {'places': ['Karachi'], 'persons': [], 'dates': ['1947']}, 'Establishment of Diplomatic Relations and the American Embassy in\\n                        Pakistan, 1947.': {'places': ['Karachi'], 'persons': [], 'dates': ['1947']}, 'Resources': {'places': [], 'persons': [], 'dates': []}}}, {'name': 'Palau', 'url': 'https://history.state.gov/countries/palau', 'flag': '', 'infos': {'Summary': {'places': ['Palau', 'Koror'], 'persons': [], 'dates': []}, 'Recognition': {'places': [], 'persons': ['William Clinton'], 'dates': ['1994']}, 'U.S. Recognition of Palauan Independence, 1994.': {'places': [], 'persons': ['William Clinton'], 'dates': ['1994']}, 'Diplomatic Relations': {'places': ['Manila', 'Koror'], 'persons': ['Deborah L. Kingsland'], 'dates': ['1996', '2004']}, 'Establishment of Diplomatic Relations, 1996.': {'places': ['Manila'], 'persons': [], 'dates': ['1996']}, 'Establishment of the American Embassy at Palau, 2004.': {'places': ['Koror'], 'persons': ['Deborah L. Kingsland'], 'dates': ['2004']}, 'Resources': {'places': [], 'persons': [], 'dates': []}}}, {'name': 'Panama', 'url': 'https://history.state.gov/countries/panama', 'flag': 'https://static.history.state.gov/countries/panama-flag.jpg', 'infos': {'Summary': {'places': ['Panama', 'Panama City', 'Panama\\n                                City'], 'persons': ['Tomas Herran', 'David\\n                                Craig', 'Philippe Bunau-Varilla', 'Florencio\\n                                Arosemena', 'Roy Davis', 'Arnulfo\\n                                Aria', 'Dean Acheson', 'Roberto Chiari', 'George Bush'], 'dates': ['1903', '1823', '1903', '1903', '1931', '1931', '1939', '1949', '1949', '1964', '1964', '1968', '1968', '1989']}, 'Recognition': {'places': ['Panama City'], 'persons': ['Tomas Herran'], 'dates': ['1903']}, 'United States Recognition of Panama, 1903.': {'places': ['Panama City'], 'persons': ['Tomas Herran'], 'dates': ['1903']}, 'Consular Presence': {'places': [], 'persons': ['David\\n                                Craig'], 'dates': ['1823']}, 'Establishment of Consular Relations, 1823.': {'places': [], 'persons': ['David\\n                                Craig'], 'dates': ['1823']}, 'Diplomatic Relations': {'places': ['Panama\\n                                City'], 'persons': ['Philippe Bunau-Varilla', 'Florencio\\n                                Arosemena', 'Roy Davis', 'Arnulfo\\n                                Aria', 'Dean Acheson', 'Roberto Chiari', 'George Bush'], 'dates': ['1903', '1903', '1931', '1931', '1939', '1949', '1949', '1964', '1964', '1968', '1968', '1989']}, 'Establishment of Diplomatic Relations, 1903.': {'places': [], 'persons': ['Philippe Bunau-Varilla'], 'dates': ['1903']}, 'Establishment of U.S. Diplomatic Mission, 1903.': {'places': [], 'persons': [], 'dates': ['1903']}, 'Diplomatic Relations Interrupted, 1931.': {'places': [], 'persons': ['Florencio\\n                                Arosemena', 'Roy Davis'], 'dates': ['1931']}, 'Diplomatic Relations Resumed, 1931.': {'places': [], 'persons': [], 'dates': ['1931']}, 'Legation Raised to Embassy, 1939.': {'places': [], 'persons': [], 'dates': ['1939']}, 'Diplomatic Relations Interrupted, 1949.': {'places': [], 'persons': ['Arnulfo\\n                                Aria'], 'dates': ['1949']}, 'Diplomatic Relations Resumed, 1949.': {'places': [], 'persons': ['Dean Acheson'], 'dates': ['1949']}, 'Diplomatic Relations Severed by Panama, 1964.': {'places': [], 'persons': ['Roberto Chiari'], 'dates': ['1964']}, 'Diplomatic Relations Reestablished, 1964.': {'places': [], 'persons': [], 'dates': ['1964']}, 'Diplomatic Relations Interrupted, 1968.': {'places': [], 'persons': [], 'dates': ['1968']}, 'Diplomatic Relations Resumed, 1968.': {'places': ['Panama\\n                                City'], 'persons': [], 'dates': ['1968']}, 'U.S. Ambassador Recalled, 1989.': {'places': [], 'persons': ['George Bush'], 'dates': ['1989']}, 'Resources': {'places': [], 'persons': [], 'dates': []}}}, {'name': 'Papal-states', 'url': 'https://history.state.gov/countries/papal-states', 'flag': '', 'infos': {'Summary': {'places': [], 'persons': [], 'dates': []}, 'Recognition': {'places': [], 'persons': [], 'dates': ['1784']}, 'Papal States Recognize the United States, 1784.': {'places': [], 'persons': [], 'dates': ['1784']}, 'Consular Presence': {'places': ['Rome'], 'persons': ['Count Ferdinando Lucchesi', 'John Quincy Adams'], 'dates': ['June 26, 1797', 'May 30, 1826']}, 'The first U.S. consul at Rome, John Baptiste Sartori, was appointed on\\n                            June 26, 1797.': {'places': ['Rome'], 'persons': [], 'dates': ['June 26, 1797']}, 'The first representative of the Papal States in the United States.': {'places': [], 'persons': ['Count Ferdinando Lucchesi', 'John Quincy Adams'], 'dates': ['May 30, 1826']}, 'Diplomatic Relations': {'places': [], 'persons': ['Jacob L. Martin', 'Lewis\\n                            Cass'], 'dates': ['1848', '1848', '1867']}, 'Establishment of Diplomatic Relations, 1848.': {'places': [], 'persons': ['Jacob L. Martin', 'Lewis\\n                            Cass'], 'dates': ['1848']}, 'Establishment of the American Legation in Rome, 1848.': {'places': [], 'persons': [], 'dates': ['1848']}, 'Cessation of Relations and Closure of the American Legation in Rome, 1867.': {'places': [], 'persons': [], 'dates': ['1867']}, 'Key Diplomatic Events': {'places': ['Florence'], 'persons': ['Chevalier Joseph Bertinatti'], 'dates': ['1861', '1861', '1870', '1865-71']}, 'Proclamation of the Kingdom of Italy, 1861.': {'places': [], 'persons': [], 'dates': ['1861']}, 'U.S. Recognition of Italian Independence, 1861.': {'places': [], 'persons': ['Chevalier Joseph Bertinatti'], 'dates': ['1861']}, 'Incorporation of Rome into the Kingdom of Italy, 1870.': {'places': [], 'persons': [], 'dates': ['1870']}, 'U.S. Legation to the Kingdom of Italy moves to Florence and then Rome, 1865-71.': {'places': ['Florence'], 'persons': [], 'dates': ['1865-71']}, 'Issues Relevant to U.S. Foreign Diplomacy': {'places': [], 'persons': ['James Buchanan'], 'dates': []}, 'Religion.': {'places': [], 'persons': ['James Buchanan'], 'dates': []}, 'Trade and Commerce.': {'places': [], 'persons': [], 'dates': []}, 'Resources': {'places': [], 'persons': [], 'dates': []}}}, {'name': 'Papua-new-guinea', 'url': 'https://history.state.gov/countries/papua-new-guinea', 'flag': 'https://static.history.state.gov/countries/papua-new-guinea-flag.jpg', 'infos': {'Summary': {'places': ['Papua New\\n                        Guinea', 'Port Moresby', 'Port\\n                                Moresby'], 'persons': ['Robert D. Ray', 'Gerald Ford', 'Mary S. Olmsted'], 'dates': ['1975', '1974', '1975']}, 'Recognition': {'places': [], 'persons': ['Robert D. Ray', 'Gerald Ford'], 'dates': ['1975']}, 'U.S. Recognition of Papua New Guinea’s Independence, 1975.': {'places': [], 'persons': ['Robert D. Ray', 'Gerald Ford'], 'dates': ['1975']}, 'Consular Presence': {'places': ['Port Moresby'], 'persons': [], 'dates': ['1974']}, 'Establishment of Consular Relations, 1974.': {'places': ['Port Moresby'], 'persons': [], 'dates': ['1974']}, 'Diplomatic Relations': {'places': ['Port\\n                                Moresby'], 'persons': ['Mary S. Olmsted'], 'dates': ['1975']}, 'Establishment of Diplomatic Relations and the U.S. Embassy in Papua\\n                            New Guinea, 1975.': {'places': ['Port\\n                                Moresby'], 'persons': ['Mary S. Olmsted'], 'dates': ['1975']}, 'Resources': {'places': [], 'persons': [], 'dates': []}}}, {'name': 'Paraguay', 'url': 'https://history.state.gov/countries/paraguay', 'flag': 'https://static.history.state.gov/countries/paraguay-flag.jpg', 'infos': {'Summary': {'places': ['Paraguay', 'Asuncion'], 'persons': ['John\\n                                M. Pendleton', 'Señor Dr. Don Celso\\n                            R. Velazquez'], 'dates': ['1852', '1861', '1942']}, 'Recognition': {'places': [], 'persons': ['John\\n                                M. Pendleton'], 'dates': ['1852']}, 'U.S. Recognition of Paraguayan Independence, 1852.': {'places': [], 'persons': ['John\\n                                M. Pendleton'], 'dates': ['1852']}, 'Diplomatic Relations': {'places': ['Asuncion'], 'persons': [], 'dates': ['1861']}, 'Establishment of Diplomatic Relations & the American Legation in\\n                            Paraguay, 1861.': {'places': ['Asuncion'], 'persons': [], 'dates': ['1861']}, 'Elevation of American Legation to Embassy Status, 1942.': {'places': [], 'persons': ['Señor Dr. Don Celso\\n                            R. Velazquez'], 'dates': ['1942']}, 'Resources': {'places': [], 'persons': [], 'dates': []}}}, {'name': 'Peru', 'url': 'https://history.state.gov/countries/peru', 'flag': 'https://static.history.state.gov/countries/peru-flag.jpg', 'infos': {'Summary': {'places': ['Peru', 'Lima'], 'persons': ['General San Martin', 'James Cooley', 'Juan Ignacio de\\n                                Osma'], 'dates': ['1826', '1838', '1827', '1846', '1920']}, 'Recognition': {'places': [], 'persons': [], 'dates': ['1826', '1838']}, 'United States Recognition of Peru, 1826.': {'places': [], 'persons': [], 'dates': ['1826']}, 'United States Recognition of the Peru-Bolivian Confederation, 1838.': {'places': [], 'persons': [], 'dates': ['1838']}, 'Diplomatic Relations': {'places': ['Lima'], 'persons': ['James Cooley', 'Juan Ignacio de\\n                                Osma'], 'dates': ['1827', '1846', '1920']}, 'Establishment of Diplomatic Relations and the American Legation in\\n                                Lima, 1827.': {'places': ['Lima'], 'persons': ['James Cooley'], 'dates': ['1827']}, 'Establishment of the Peruvian Legation in the United States, 1846.': {'places': [], 'persons': ['Juan Ignacio de\\n                                Osma'], 'dates': ['1846']}, 'Elevation of American Legation to Embassy Status, 1920.': {'places': [], 'persons': [], 'dates': ['1920']}, 'Resources': {'places': [], 'persons': [], 'dates': []}}}, {'name': 'Philippines', 'url': 'https://history.state.gov/countries/philippines', 'flag': 'https://static.history.state.gov/countries/philippines-flag.jpg', 'infos': {'Summary': {'places': ['Philippines'], 'persons': ['Harry S.\\n                                Truman'], 'dates': ['1946', '1946']}, 'Recognition': {'places': [], 'persons': ['Harry S.\\n                                Truman'], 'dates': ['1946']}, 'U.S. Recognition of Philippine Independence, 1946.': {'places': [], 'persons': ['Harry S.\\n                                Truman'], 'dates': ['1946']}, 'Diplomatic Relations': {'places': [], 'persons': [], 'dates': ['1946']}, 'Establishment of Diplomatic Relations and the American Embassy in the\\n                            Philippines, 1946.': {'places': [], 'persons': [], 'dates': ['1946']}, 'Resources': {'places': [], 'persons': [], 'dates': []}}}, {'name': 'Piedmont-sardinia', 'url': 'https://history.state.gov/countries/piedmont-sardinia', 'flag': '', 'infos': {'Summary': {'places': ['Kingdom of Piedmont-Sardinia', 'Florence', 'Rome'], 'persons': ['Victor Emmanuel II'], 'dates': []}, 'Recognition': {'places': [], 'persons': ['François de\\n                        Navoni'], 'dates': ['1802']}, 'Mutual Recognition, 1802.': {'places': [], 'persons': ['François de\\n                        Navoni'], 'dates': ['1802']}, 'Consular Presence': {'places': ['Cagliari', 'Genoa', 'Nice'], 'persons': ['Gaspare\\n                            Deabbate'], 'dates': []}, 'The earliest U.S. consulates in the Kingdom of Piedmont-Sardinia were at\\n                        Cagliari and Genoa.': {'places': ['Cagliari', 'Genoa', 'Nice'], 'persons': ['Gaspare\\n                            Deabbate'], 'dates': []}, 'Diplomatic Relations': {'places': [], 'persons': ['Count August Avogadro de Collobiano', 'Hezekiah Gold Rogers', 'Hezekiah Gold Rogers', 'Victor Emmanuel II', 'George Perkins\\n                            Marsh', 'Joseph Bertinatti'], 'dates': ['1839', '1840', '1861']}, 'Expansion of Relations, 1839.': {'places': [], 'persons': ['Count August Avogadro de Collobiano', 'Hezekiah Gold Rogers'], 'dates': ['1839']}, 'Establishment of the American Legation in Turin, 1840.': {'places': [], 'persons': ['Hezekiah Gold Rogers'], 'dates': ['1840']}, 'Cessation of Relations, 1861.': {'places': [], 'persons': ['Victor Emmanuel II', 'George Perkins\\n                            Marsh', 'Joseph Bertinatti'], 'dates': ['1861']}, 'Treaties and Agreements': {'places': [], 'persons': ['Nathaniel\\n                            Niles', 'Count Clement Solar de la\\n                            Marguerite'], 'dates': ['1838']}, 'Treaty of Commerce and Navigation, 1838.': {'places': [], 'persons': ['Nathaniel\\n                            Niles', 'Count Clement Solar de la\\n                            Marguerite'], 'dates': ['1838']}, 'Key Diplomatic Events': {'places': [], 'persons': ['Napoleon III', 'Joseph Bertinatti'], 'dates': ['1859', '1861', '1861']}, 'Franco-Austrian War, 1859.': {'places': [], 'persons': ['Napoleon III'], 'dates': ['1859']}, 'Proclamation of the Kingdom of Italy, 1861.': {'places': [], 'persons': [], 'dates': ['1861']}, 'U.S. Recognition of Italian Independence, 1861.': {'places': [], 'persons': ['Joseph Bertinatti'], 'dates': ['1861']}, 'Issues Relevant to U.S. Foreign Diplomacy': {'places': ['Spezia'], 'persons': [], 'dates': []}, 'Trade and Commerce.': {'places': [], 'persons': [], 'dates': []}, 'Naval Port.': {'places': ['Spezia'], 'persons': [], 'dates': []}, 'Resources': {'places': [], 'persons': [], 'dates': []}}}, {'name': 'Poland', 'url': 'https://history.state.gov/countries/poland', 'flag': 'https://static.history.state.gov/countries/poland-flag.jpg', 'infos': {'Summary': {'places': ['Commonwealth of\\n                        Poland', 'Warsaw', 'Poznan', 'Krakow'], 'persons': ['Joseph Pilsudski', 'Ignace Jan Paderewski'], 'dates': ['1919', '1871-1917', '1946', '1947']}, 'Recognition': {'places': [], 'persons': ['Ignace Jan Paderewski'], 'dates': ['1919']}, 'U.S. Recognition of Polish Independence, 1919.': {'places': [], 'persons': ['Ignace Jan Paderewski'], 'dates': ['1919']}, 'Consular Presence': {'places': ['Warsaw', 'Poznan', 'Krakow'], 'persons': [], 'dates': ['1871-1917', '1946', '1947']}, 'First U.S. Consulate, Warsaw\\n                            (under Russian administration) 1871-1917.': {'places': ['Warsaw'], 'persons': [], 'dates': ['1871-1917']}, 'Consular Posts at Poznan and Krakow, 1946\\n                            & 1947.': {'places': ['Poznan', 'Krakow'], 'persons': [], 'dates': ['1946', '1947']}, 'Diplomatic Relations': {'places': [], 'persons': ['Prince Casimir Lubomirski', 'Tytus\\n                        Filipowicz', 'Anthony J. Drexel Biddle Jr.'], 'dates': ['1919', '1919', '1930', '1930', '1939', '1940', '1945', '1945']}, 'Establishment of Diplomatic Relations and the American Legation in Warsaw,\\n                            1919.': {'places': [], 'persons': [], 'dates': ['1919']}, 'Establishment of a Polish Legation in the United States, 1919.': {'places': [], 'persons': ['Prince Casimir Lubomirski'], 'dates': ['1919']}, 'Elevation of American Legation to Embassy Status, 1930.': {'places': [], 'persons': [], 'dates': ['1930']}, 'Elevation of Polish Legation to Embassy Status, 1930.': {'places': [], 'persons': ['Tytus\\n                        Filipowicz'], 'dates': ['1930']}, 'Move of American Embassy from Warsaw to Paris, 1939.': {'places': [], 'persons': [], 'dates': ['1939']}, 'Move of American Embassy from Paris to London, 1940.': {'places': [], 'persons': ['Anthony J. Drexel Biddle Jr.'], 'dates': ['1940']}, 'Termination of U.S. Mission to the Government of Poland in London, 1945.': {'places': [], 'persons': [], 'dates': ['1945']}, 'Re-establishment of U.S. Embassy in Warsaw, 1945.': {'places': [], 'persons': [], 'dates': ['1945']}, 'Resources': {'places': [], 'persons': [], 'dates': []}}}, {'name': 'Portugal', 'url': 'https://history.state.gov/countries/portugal', 'flag': 'https://static.history.state.gov/countries/portugal-flag.jpg', 'infos': {'Summary': {'places': ['Portugal', 'Lisbon', 'Madeira', 'Azores', 'island of Flores', 'Oporto', 'St. Ubes', 'Lisbon', 'Paco d’Arcos', 'Vianna', 'Aveiro', 'Leca', 'Matozinbos', 'Setubal', 'Faro'], 'persons': ['George Washington', 'John Marsden Pintard', 'John Street'], 'dates': ['1791', '1790', '1795', '1821-1966', '1835', '1863-current', '1867-1870', '1870', '1870', '1874-1905', '1895-1908', '1791', '1810-21', '1822', '1944']}, 'Recognition': {'places': ['Lisbon'], 'persons': [], 'dates': ['1791']}, 'Portuguese Recognition of U.S. Independence, 1791.': {'places': ['Lisbon'], 'persons': [], 'dates': ['1791']}, 'Consular Presence': {'places': ['Madeira', 'Azores', 'island of Flores', 'Oporto', 'St. Ubes', 'Lisbon', 'Paco d’Arcos', 'Vianna', 'Aveiro', 'Leca', 'Matozinbos', 'Setubal', 'Faro'], 'persons': ['George Washington', 'John Marsden Pintard', 'John Street'], 'dates': ['1790', '1795', '1821-1966', '1835', '1863-current', '1867-1870', '1870', '1870', '1874-1905', '1895-1908']}, 'U.S. Consulate in Madeira, 1790.': {'places': ['Madeira'], 'persons': ['George Washington', 'John Marsden Pintard'], 'dates': ['1790']}, 'U.S. Consulate in the Azores,\\n                                1795.': {'places': ['Azores', 'island of Flores', 'Oporto', 'St. Ubes', 'Lisbon', 'Paco d’Arcos', 'Vianna', 'Aveiro', 'Leca', 'Matozinbos', 'Setubal', 'Faro'], 'persons': ['John Street'], 'dates': ['1795', '1821-1966', '1835', '1863-current', '1867-1870', '1870', '1870', '1874-1905', '1895-1908']}, 'Diplomatic Relations': {'places': [], 'persons': [], 'dates': ['1791', '1810-21', '1822', '1944']}, 'Establishment of Diplomatic Relations and the American Legation in\\n                            Portugal, 1791.': {'places': [], 'persons': [], 'dates': ['1791']}, 'U.S. Legation moves to Rio de Janeiro, 1810-21.': {'places': [], 'persons': [], 'dates': ['1810-21']}, 'U.S. Legation Returns to Lisbon, 1822.': {'places': [], 'persons': [], 'dates': ['1822']}, 'Elevation of American Legation to Embassy Status, 1944.': {'places': [], 'persons': [], 'dates': ['1944']}, 'Resources': {'places': [], 'persons': [], 'dates': []}}}, {'name': 'Qatar', 'url': 'https://history.state.gov/countries/qatar', 'flag': 'https://static.history.state.gov/countries/qatar-flag.jpg', 'infos': {'Summary': {'places': ['Qatar', 'Doha'], 'persons': [], 'dates': ['1971', '1972', '1973']}, 'Recognition': {'places': [], 'persons': [], 'dates': ['1971']}, 'U.S. Recognition of Qatar’s Independence, 1971.': {'places': [], 'persons': [], 'dates': ['1971']}, 'Diplomatic Relations': {'places': ['Doha'], 'persons': [], 'dates': ['1972', '1973']}, 'Establishment of Diplomatic Relations, 1972.': {'places': [], 'persons': [], 'dates': ['1972']}, 'Establishment of the American Embassy in Qatar, 1973.': {'places': ['Doha'], 'persons': [], 'dates': ['1973']}, 'Resources': {'places': [], 'persons': [], 'dates': []}}}, {'name': 'Genoa', 'url': 'https://history.state.gov/countries/genoa', 'flag': '', 'infos': {'Summary': {'places': ['Republic of Genoa'], 'persons': ['Joseph Ravara', 'Napoleon'], 'dates': []}, 'Recognition': {'places': [], 'persons': ['George Washington'], 'dates': ['1791']}, 'Republic of Genoa’s Recognition of the United States, 1791.': {'places': [], 'persons': ['George Washington'], 'dates': ['1791']}, 'Consular Presence': {'places': [], 'persons': [], 'dates': ['1791']}, 'The first Genovese consulate in the United States was established at\\n                        Philadelphia in October 1791.': {'places': [], 'persons': [], 'dates': ['1791']}, 'Diplomatic Relations': {'places': [], 'persons': [], 'dates': []}, 'No diplomatic relations established.': {'places': [], 'persons': [], 'dates': []}, 'Treaties and Agreements': {'places': [], 'persons': [], 'dates': []}, 'No treaty or agreement signed.': {'places': [], 'persons': [], 'dates': []}, 'Key Diplomatic Events': {'places': [], 'persons': ['Chevalier Joseph Bertinatti'], 'dates': ['1815', '1861', '1861']}, 'Incorporation of the Republic of Genoa into the Kingdom of\\n                        Piedmont-Sardinia, 1815.': {'places': [], 'persons': [], 'dates': ['1815']}, 'Proclamation of the Kingdom of Italy, 1861.': {'places': [], 'persons': [], 'dates': ['1861']}, 'U.S. Recognition of Italian Independence, 1861.': {'places': [], 'persons': ['Chevalier Joseph Bertinatti'], 'dates': ['1861']}, 'Issues Relevant to U.S. Foreign Diplomacy': {'places': [], 'persons': [], 'dates': []}, 'Trade and Commerce.': {'places': [], 'persons': [], 'dates': []}, 'Resources': {'places': [], 'persons': [], 'dates': []}}}, {'name': 'Korea-south', 'url': 'https://history.state.gov/countries/korea-south', 'flag': 'https://static.history.state.gov/countries/korea-south-flag.png', 'infos': {'Recognition': {'places': [], 'persons': [], 'dates': ['1949']}, 'Recognition, 1949.': {'places': [], 'persons': [], 'dates': ['1949']}, 'Diplomatic Relations': {'places': [], 'persons': [], 'dates': ['1949']}, 'Establishment of Diplomatic Relations, 1949.': {'places': [], 'persons': [], 'dates': ['1949']}, 'Resources': {'places': [], 'persons': [], 'dates': []}}}, {'name': 'Congo-republic', 'url': 'https://history.state.gov/countries/congo-republic', 'flag': 'https://static.history.state.gov/countries/congo-republic-flag.png', 'infos': {'Summary': {'places': ['Brazzaville'], 'persons': ['Charles DeGaulle', 'Denis\\n                        Sassou-Nguesso'], 'dates': []}, 'Recognition': {'places': [], 'persons': ['Dwight D.\\n                            Eisenhower', 'Fulbert Youlou'], 'dates': ['1960']}, 'U.S. Recognition of the Republic of Congo’s Independence, 1960.': {'places': [], 'persons': ['Dwight D.\\n                            Eisenhower', 'Fulbert Youlou'], 'dates': ['1960']}, 'Diplomatic Relations': {'places': [], 'persons': [], 'dates': ['1960', '1965', '1977']}, 'Establishment of Diplomatic Relations and the American Embassy in\\n                        Brazzaville, 1960.': {'places': [], 'persons': [], 'dates': ['1960']}, 'Suspension of Diplomatic Relations and the Closure of Embassy Brazzaville,\\n                            1965.': {'places': [], 'persons': [], 'dates': ['1965']}, 'Resumption of Diplomatic Relations and Reopening of Embassy Brazzaville,\\n                            1977.': {'places': [], 'persons': [], 'dates': ['1977']}, 'Resources': {'places': [], 'persons': [], 'dates': []}}}, {'name': 'Romania', 'url': 'https://history.state.gov/countries/romania', 'flag': 'https://static.history.state.gov/countries/romania-flag.jpg', 'infos': {'Summary': {'places': ['Ottoman Empire', 'Romania', 'Soviet Union'], 'persons': ['Charles of\\n                        Hohenzollern-Sigmaringen'], 'dates': []}, 'Recognition': {'places': [], 'persons': [], 'dates': ['1881']}, 'U.S. Recognition of Romanian Independence, 1881.': {'places': [], 'persons': [], 'dates': ['1881']}, 'Consular Presence': {'places': ['Bucharest'], 'persons': ['Louis J.\\n                        Czapkay', 'Benjamin Franklin Peixotto'], 'dates': ['1866-1876']}, 'Early U.S. Consulates in Romania, 1866-1876.': {'places': ['Bucharest'], 'persons': ['Louis J.\\n                        Czapkay', 'Benjamin Franklin Peixotto'], 'dates': ['1866-1876']}, 'Diplomatic Relations': {'places': ['Bucharest', 'Greece', 'Serbia', 'Greece', 'Romania', 'Serbia', 'Bulgaria'], 'persons': ['Constantin Angelescu', 'Miha Ralea', 'Petre Balaceanu'], 'dates': ['1880', '1882', '1918', '1941', '1946', '1947', '1964', '1964', '1881']}, 'Establishment of Diplomatic Relations, 1880.': {'places': [], 'persons': [], 'dates': ['1880']}, 'Establishment of American Legation in Bucharest, 1882.': {'places': ['Bucharest', 'Greece', 'Serbia', 'Greece', 'Romania', 'Serbia', 'Bulgaria'], 'persons': [], 'dates': ['1882']}, 'Establishment of Romanian Legation in Washington, 1918.': {'places': [], 'persons': ['Constantin Angelescu'], 'dates': ['1918']}, 'Severance of Diplomatic Relations, 1941.': {'places': [], 'persons': [], 'dates': ['1941']}, 'Re-establishment of Diplomatic Relations, 1946.': {'places': [], 'persons': ['Miha Ralea'], 'dates': ['1946']}, 'Re-establishment of American Legation in Bucharest, 1947.': {'places': [], 'persons': [], 'dates': ['1947']}, 'Elevation of American Legation to Embassy Status, 1964.': {'places': [], 'persons': [], 'dates': ['1964']}, 'Elevation of Romanian Legation to Embassy Status, 1964.': {'places': [], 'persons': ['Petre Balaceanu'], 'dates': ['1964']}, 'Treaties and Agreements': {'places': [], 'persons': [], 'dates': ['1881']}, 'First Diplomatic Agreement Signed, 1881.': {'places': [], 'persons': [], 'dates': ['1881']}, 'Resources': {'places': [], 'persons': [], 'dates': []}}}, {'name': 'Russia', 'url': 'https://history.state.gov/countries/russia', 'flag': 'https://static.history.state.gov/countries/russia-flag.jpg', 'infos': {'Summary': {'places': ['Paris', 'Russia', 'St.\\n                        Petersburg'], 'persons': ['Francis Dana'], 'dates': ['1780']}, 'Recognition': {'places': [], 'persons': ['Czar\\n                            Alexander I', 'Levett Harris'], 'dates': ['1803']}, 'Russian Recognition of the United States, 1803.': {'places': [], 'persons': ['Czar\\n                            Alexander I', 'Levett Harris'], 'dates': ['1803']}, 'Diplomatic Relations': {'places': ['St.\\n                            Petersburg', 'Vologda', 'Archangel', 'Moscow', 'Archangel', 'Moscow'], 'persons': ['Andrei Dashkov', 'James Madison', 'James Monroe', 'Maksim Alopeus', 'William Pinkney', 'Alexander\\n                            I', 'Thomas\\n                            Jefferson', 'John Quincy Adams', 'John Quincy Adams', 'Nicholas II', 'Woodrow Wilson', 'Franklin Roosevelt', 'Maxim Litvinov', 'William Bullitt', 'Kalinin', 'George H.W.\\n                            Bush', 'Mikhail Gorbachev', 'Boris\\n                            Yeltsin'], 'dates': ['1809', '1809', '1898', '1917', '1918', '1919', '1933', '1933', '1991', '1991']}, 'Establishment of Diplomatic Relations, 1809.': {'places': [], 'persons': ['Andrei Dashkov', 'James Madison', 'James Monroe', 'Maksim Alopeus', 'William Pinkney', 'Alexander\\n                            I', 'Thomas\\n                            Jefferson', 'John Quincy Adams'], 'dates': ['1809']}, 'Establishment of the American Legation in Russia, 1809.': {'places': ['St.\\n                            Petersburg'], 'persons': ['John Quincy Adams'], 'dates': ['1809']}, 'American Legation Raised to Embassy, 1898.': {'places': [], 'persons': [], 'dates': ['1898']}, 'Normal Diplomatic Relations Interrupted, 1917.': {'places': [], 'persons': ['Nicholas II', 'Woodrow Wilson'], 'dates': ['1917']}, 'American Embassy Moved Twice, 1918.': {'places': ['Vologda', 'Archangel', 'Moscow'], 'persons': [], 'dates': ['1918']}, 'American Embassy Closed, 1919.': {'places': ['Archangel'], 'persons': [], 'dates': ['1919']}, 'Normal Diplomatic Relations Resumed, 1933.': {'places': [], 'persons': ['Franklin Roosevelt', 'Maxim Litvinov'], 'dates': ['1933']}, 'American Embassy Established in Moscow, 1933.': {'places': ['Moscow'], 'persons': ['William Bullitt', 'Kalinin'], 'dates': ['1933']}, 'Dissolution of the Soviet Union and Recognition of the Russian Federation,\\n                            1991.': {'places': [], 'persons': ['George H.W.\\n                            Bush', 'Mikhail Gorbachev'], 'dates': ['1991']}, 'Establishment of Diplomatic Relations with Russia, 1991.': {'places': [], 'persons': ['Boris\\n                            Yeltsin'], 'dates': ['1991']}, 'Resources': {'places': [], 'persons': [], 'dates': []}}}, {'name': 'Rwanda', 'url': 'https://history.state.gov/countries/rwanda', 'flag': 'https://static.history.state.gov/countries/rwanda-flag.jpg', 'infos': {'Summary': {'places': ['Rwanda'], 'persons': [], 'dates': []}, 'Recognition': {'places': ['Republic of Rwanda'], 'persons': ['John F. Kennedy', 'Gregoire Kayibanda'], 'dates': ['1962']}, 'U.S. Recognition of Rwandan Independence, 1962.': {'places': ['Republic of Rwanda'], 'persons': ['John F. Kennedy', 'Gregoire Kayibanda'], 'dates': ['1962']}, 'Diplomatic Relations': {'places': ['Kigali'], 'persons': [], 'dates': ['1962']}, 'Establishment of Diplomatic Relations and the American Embassy in Rwanda,\\n                            1962.': {'places': ['Kigali'], 'persons': [], 'dates': ['1962']}}}, {'name': 'Saint-kitts-nevis', 'url': 'https://history.state.gov/countries/saint-kitts-nevis', 'flag': 'https://static.history.state.gov/countries/st-kitts-nevis-flag.jpg', 'infos': {'Summary': {'places': ['Saint Kitts and Nevis', 'Anguilla', 'Great Britain'], 'persons': [], 'dates': ['1623']}, 'Recognition': {'places': [], 'persons': [], 'dates': ['1983']}, 'U.S. Recognition of Saint Kitts and Nevis’ Independence, 1983.': {'places': [], 'persons': [], 'dates': ['1983']}, 'Consular Presence': {'places': [], 'persons': [], 'dates': []}, '': {'places': [], 'persons': [], 'dates': []}, 'Diplomatic Relations': {'places': ['Antigua', 'Dominica', 'Saint\\n                            Christopher-Nevis-Anguilla', 'St.\\n                        Lucia', 'Saint Vincent', 'Barbados', 'Grenada'], 'persons': [], 'dates': ['1977', '1983', '1984']}, 'U.S. Special Representative to Saint Kitts and Nevis Appointed, 1977.': {'places': ['Antigua', 'Dominica', 'Saint\\n                            Christopher-Nevis-Anguilla', 'St.\\n                        Lucia', 'Saint Vincent', 'Barbados', 'Grenada'], 'persons': [], 'dates': ['1977']}, 'Diplomatic Relations Established, 1983.': {'places': [], 'persons': [], 'dates': ['1983']}, 'First U.S. Ambassador Presents Credentials, 1984.': {'places': [], 'persons': [], 'dates': ['1984']}, 'Resources': {'places': [], 'persons': [], 'dates': []}}}, {'name': 'Saint-lucia', 'url': 'https://history.state.gov/countries/saint-lucia', 'flag': 'https://static.history.state.gov/countries/saint-lucia-flag.jpg', 'infos': {'Summary': {'places': ['St.\\n                        Lucia', 'United Kingdom'], 'persons': [], 'dates': ['1815']}, 'Recognition': {'places': [], 'persons': [], 'dates': ['1979']}, 'U.S. Recognition of Saint Lucian Independence, 1979.': {'places': [], 'persons': [], 'dates': ['1979']}, 'Consular Presence': {'places': ['Barbados'], 'persons': [], 'dates': []}, '': {'places': ['Barbados'], 'persons': [], 'dates': []}, 'Diplomatic Relations': {'places': ['Antigua', 'Dominica', 'St.\\n                            Christopher-Nevis-Anguilla', 'St.\\n                        Lucia', 'St. Vincent', 'Barbados', 'Grenada', 'Barbados'], 'persons': [], 'dates': ['1977', '1983']}, 'U.S. Special Representative to Saint Lucia Appointed, 1977.': {'places': ['Antigua', 'Dominica', 'St.\\n                            Christopher-Nevis-Anguilla', 'St.\\n                        Lucia', 'St. Vincent', 'Barbados', 'Grenada'], 'persons': [], 'dates': ['1977']}, 'Diplomatic Relations Established, 1983.': {'places': ['Barbados'], 'persons': [], 'dates': ['1983']}, 'Resources': {'places': [], 'persons': [], 'dates': []}}}, {'name': 'Saint-vincent-grenadines', 'url': 'https://history.state.gov/countries/saint-vincent-grenadines', 'flag': 'https://static.history.state.gov/countries/saint-vincent-grenadines-flag.jpg', 'infos': {'Summary': {'places': ['Saint Vincent'], 'persons': [], 'dates': []}, 'Recognition': {'places': [], 'persons': [], 'dates': ['1981']}, 'U.S. Recognition of St. Vincent’s Independence, 1981.': {'places': [], 'persons': [], 'dates': ['1981']}, 'Consular Presence': {'places': ['Barbados'], 'persons': [], 'dates': []}, '': {'places': ['Barbados'], 'persons': [], 'dates': []}, 'Diplomatic Relations': {'places': ['Antigua', 'Dominica', 'St.\\n                            Christopher-Nevis-Anguilla', 'St.\\n                        Lucia', 'St. Vincent', 'Barbados', 'Grenada', 'Bridgeport'], 'persons': ['Hudson Kemul Tannis'], 'dates': ['1977', '1981']}, 'U.S. Special Representative to Saint Vincent Appointed, 1977.': {'places': ['Antigua', 'Dominica', 'St.\\n                            Christopher-Nevis-Anguilla', 'St.\\n                        Lucia', 'St. Vincent', 'Barbados', 'Grenada'], 'persons': [], 'dates': ['1977']}, 'Diplomatic Relations Established, 1981.': {'places': ['Bridgeport'], 'persons': ['Hudson Kemul Tannis'], 'dates': ['1981']}, 'Resources': {'places': [], 'persons': [], 'dates': []}}}, {'name': 'Samoa', 'url': 'https://history.state.gov/countries/samoa', 'flag': 'https://static.history.state.gov/countries/samoa-flag.jpg', 'infos': {'Summary': {'places': ['Samoa'], 'persons': [], 'dates': []}, 'Recognition': {'places': ['New Zealand'], 'persons': ['Oren Long', 'John F. Kennedy', 'Tupua Tamesese Mea’ole', 'Malietoa Tanumafili II'], 'dates': ['1962']}, 'U.S. Recognition of Western Samoa, 1962.': {'places': ['New Zealand'], 'persons': ['Oren Long', 'John F. Kennedy', 'Tupua Tamesese Mea’ole', 'Malietoa Tanumafili II'], 'dates': ['1962']}, 'Consular Presence': {'places': ['Apia', 'Pago Pago', 'Leone'], 'persons': ['Jonathan S.\\n                            Jenkins'], 'dates': ['1856']}, 'Establishment of Consular Relations, 1856.': {'places': ['Apia'], 'persons': ['Jonathan S.\\n                            Jenkins'], 'dates': ['1856']}, 'Establishment of Consular Posts.': {'places': ['Pago Pago', 'Leone'], 'persons': [], 'dates': []}, 'Diplomatic Relations': {'places': ['New Zealand', 'Fiji', 'Tonga', 'Wellington, New Zealand'], 'persons': [], 'dates': ['1971', '1988']}, 'Establishment of Diplomatic Relations, 1971.': {'places': ['New Zealand', 'Fiji', 'Tonga', 'Wellington, New Zealand'], 'persons': [], 'dates': ['1971']}, 'Establishment of U.S. Embassy in Apia, 1988.': {'places': [], 'persons': [], 'dates': ['1988']}, 'Resources': {'places': [], 'persons': [], 'dates': []}}}, {'name': 'San-marino', 'url': 'https://history.state.gov/countries/san-marino', 'flag': 'https://static.history.state.gov/countries/san-marino-flag.jpg', 'infos': {'Summary': {'places': ['San\\n                        Marino'], 'persons': ['Abraham Lincoln'], 'dates': []}, 'Recognition': {'places': [], 'persons': [], 'dates': ['1861']}, 'U.S. Recognition of San Marino’s Independence, 1861.': {'places': [], 'persons': [], 'dates': ['1861']}, 'Consular Presence': {'places': [], 'persons': [], 'dates': ['1925']}, 'Establishment of Consular Relations, 1925.': {'places': [], 'persons': [], 'dates': ['1925']}, 'Diplomatic Relations': {'places': [], 'persons': [], 'dates': ['1861']}, 'Establishment of Diplomatic Relations, 1861.': {'places': [], 'persons': [], 'dates': ['1861']}, 'Treaties & Agreements': {'places': [], 'persons': [], 'dates': ['1906', '1934']}, 'Treaty of Extradition, 1906.': {'places': [], 'persons': [], 'dates': ['1906']}, 'Treaty of Extradition, 1934.': {'places': [], 'persons': [], 'dates': ['1934']}, 'Key Diplomatic Events': {'places': [], 'persons': [], 'dates': []}, 'Resources': {'places': [], 'persons': [], 'dates': []}}}, {'name': 'Sao-tome-and-principe', 'url': 'https://history.state.gov/countries/sao-tome-and-principe', 'flag': 'https://static.history.state.gov/countries/sao-tome-principe-flag.jpg', 'infos': {'Summary': {'places': [], 'persons': [], 'dates': []}, 'Recognition': {'places': ['Democratic Republic of Sao Tome\\n                            and Principe'], 'persons': ['Gerald R. Ford', 'Manuel Pinto de Costa'], 'dates': ['1975']}, 'U.S. Recognition of Sao Tome and Principe, 1975.': {'places': ['Democratic Republic of Sao Tome\\n                            and Principe'], 'persons': ['Gerald R. Ford', 'Manuel Pinto de Costa'], 'dates': ['1975']}, 'Diplomatic Relations': {'places': [], 'persons': [], 'dates': ['1975']}, 'Establishment of Diplomatic Relations, 1975.': {'places': [], 'persons': [], 'dates': ['1975']}, 'Resources': {'places': [], 'persons': [], 'dates': []}}}, {'name': 'Saudi-arabia', 'url': 'https://history.state.gov/countries/saudi-arabia', 'flag': 'https://static.history.state.gov/countries/saudi-arabia-flag.jpg', 'infos': {'Summary': {'places': ['Saudi Arabia', 'Jeddah', 'Riyadh', 'Dhahran'], 'persons': [], 'dates': []}, 'Recognition': {'places': [], 'persons': [], 'dates': ['1931']}, 'U.S. Recognition of Saudi Arabia, 1931.': {'places': [], 'persons': [], 'dates': ['1931']}, 'Diplomatic Relations': {'places': ['Egypt', 'Cairo'], 'persons': [], 'dates': ['1940', '1942', '1949', '1984']}, 'Establishment of Diplomatic Relations, 1940.': {'places': ['Egypt', 'Cairo'], 'persons': [], 'dates': ['1940']}, 'Establishment of U.S. Legation in Saudi Arabia, 1942.': {'places': [], 'persons': [], 'dates': ['1942']}, 'Elevation of the U.S. Legation to Embassy Status, 1949.': {'places': [], 'persons': [], 'dates': ['1949']}, 'American Embassy Moved from Jidda to Riyadh, 1984.': {'places': [], 'persons': [], 'dates': ['1984']}, 'Resources': {'places': [], 'persons': [], 'dates': []}}}, {'name': 'Schaumburg-lippe', 'url': 'https://history.state.gov/countries/schaumburg-lippe', 'flag': '', 'infos': {'Summary': {'places': [], 'persons': [], 'dates': []}, 'Recognition': {'places': [], 'persons': [], 'dates': ['1854']}, 'Mutual Recognition, 1854.': {'places': [], 'persons': [], 'dates': ['1854']}, 'Diplomatic Relations': {'places': [], 'persons': [], 'dates': []}, 'Establishment of Diplomatic Relations.': {'places': [], 'persons': [], 'dates': []}, 'Treaties and Agreements': {'places': [], 'persons': [], 'dates': ['1854']}, 'Declaration of Accession to the Convention for the Extradition of\\n                        Criminals, Fugitive from Justice, of June 16, 1852, between the United\\n                        States and Prussia and other States of the German Confederation, 1854.': {'places': [], 'persons': [], 'dates': ['1854']}, 'Key Diplomatic Events': {'places': [], 'persons': [], 'dates': ['1867', '1871']}, 'Schaumburg-Lippe Joins the North German Confederation, 1867.': {'places': [], 'persons': [], 'dates': ['1867']}, 'Schaumburg-Lippe Joins the German Empire, 1871.': {'places': [], 'persons': [], 'dates': ['1871']}, 'German Unification.': {'places': [], 'persons': [], 'dates': []}, 'Resources': {'places': [], 'persons': [], 'dates': []}}}, {'name': 'Senegal', 'url': 'https://history.state.gov/countries/senegal', 'flag': 'https://static.history.state.gov/countries/senegal-flag.jpg', 'infos': {'Summary': {'places': ['Senegal'], 'persons': [], 'dates': []}, 'Recognition': {'places': ['Republic of Senegal', 'Dakar'], 'persons': [], 'dates': ['1960']}, 'U.S. Recognition of the Republic of Senegal, 1960.': {'places': ['Republic of Senegal', 'Dakar'], 'persons': [], 'dates': ['1960']}, 'Diplomatic Relations': {'places': [], 'persons': [], 'dates': ['1960']}, 'Establishment of Diplomatic Relations and the American Embassy in Senegal,\\n                            1960.': {'places': [], 'persons': [], 'dates': ['1960']}, 'Resources': {'places': [], 'persons': [], 'dates': []}}}, {'name': 'Serbia', 'url': 'https://history.state.gov/countries/serbia', 'flag': 'https://static.history.state.gov/countries/serbia-flag.jpg', 'infos': {'Summary': {'places': ['Serbia', 'Montenegro', 'Montenegro'], 'persons': ['Vojislav Kostunica', 'Svetozar Marovic'], 'dates': []}, 'Recognition': {'places': [], 'persons': ['William J. Clinton', 'Vojislav Kostunica'], 'dates': ['2000']}, 'U.S. Recognition of the Federal Republic of Yugoslavia, 2000.': {'places': [], 'persons': ['William J. Clinton', 'Vojislav Kostunica'], 'dates': ['2000']}, 'Diplomatic Relations': {'places': ['Serbia', 'Montenegro', 'Belgrade', 'Yugoslavia', 'Kosovo'], 'persons': ['William J. Clinton', 'Kostunica'], 'dates': ['1992', '1999', '2000', '2001']}, 'Normal Relations with Socialist Federal Republic of Yugoslavia\\n                        Interrupted, 1992.': {'places': ['Serbia', 'Montenegro', 'Belgrade'], 'persons': [], 'dates': ['1992']}, 'Diplomatic Relations Severed, 1999.': {'places': ['Yugoslavia', 'Kosovo'], 'persons': [], 'dates': ['1999']}, 'Establishment of Full Diplomatic Relations, 2000.': {'places': [], 'persons': ['William J. Clinton', 'Kostunica'], 'dates': ['2000']}, 'U.S. Embassy in Serbia Reopened, 2001.': {'places': [], 'persons': [], 'dates': ['2001']}, 'Resources': {'places': [], 'persons': [], 'dates': []}}}, {'name': 'Seychelles', 'url': 'https://history.state.gov/countries/seychelles', 'flag': 'https://static.history.state.gov/countries/seychelles-flag.jpg', 'infos': {'Summary': {'places': ['Seychelles'], 'persons': [], 'dates': []}, 'Recognition': {'places': ['Seychelles', 'Mahe', 'Victoria'], 'persons': [], 'dates': ['1976']}, 'U.S. Recognition of the Seychelles’ Independence, 1976.': {'places': ['Seychelles', 'Mahe', 'Victoria'], 'persons': [], 'dates': ['1976']}, 'Diplomatic Relations': {'places': ['Victoria'], 'persons': [], 'dates': ['1976']}, 'Establishment of Diplomatic Relations and the American Embassy in\\n                        Mauritius, 1976.': {'places': ['Victoria'], 'persons': [], 'dates': ['1976']}, 'Resources': {'places': [], 'persons': [], 'dates': []}}}, {'name': 'Sierra-leone', 'url': 'https://history.state.gov/countries/sierra-leone', 'flag': 'https://static.history.state.gov/countries/sierra-leone-flag.jpg', 'infos': {'Summary': {'places': ['Sierra Leone'], 'persons': [], 'dates': []}, 'Recognition': {'places': ['Sierra Leone'], 'persons': ['John F. Kennedy'], 'dates': ['1961']}, 'U.S. Recognition of Sierra Leone’s Independence, 1961.': {'places': ['Sierra Leone'], 'persons': ['John F. Kennedy'], 'dates': ['1961']}, 'Diplomatic Relations': {'places': ['Sierra Leone', 'Freetown'], 'persons': [], 'dates': ['1961']}, 'Establishment of Diplomatic Relations and the American Embassy in\\n                            Sierra Leone, 1961.': {'places': ['Sierra Leone', 'Freetown'], 'persons': [], 'dates': ['1961']}, 'Resources': {'places': [], 'persons': [], 'dates': []}}}, {'name': 'Singapore', 'url': 'https://history.state.gov/countries/singapore', 'flag': 'https://static.history.state.gov/countries/singapore-flag.jpg', 'infos': {'Summary': {'places': ['Singapore', 'China'], 'persons': ['Sinnathamby\\n                                Raja Ratnam', 'Joseph Balestier'], 'dates': ['1965', '1836', '1966']}, 'Recognition': {'places': [], 'persons': ['Sinnathamby\\n                                Raja Ratnam'], 'dates': ['1965']}, 'U.S. Recognition of Singapore, 1965.': {'places': [], 'persons': ['Sinnathamby\\n                                Raja Ratnam'], 'dates': ['1965']}, 'Consular Presence': {'places': [], 'persons': ['Joseph Balestier'], 'dates': ['1836']}, 'Establishment of Consular Relations, 1836.': {'places': [], 'persons': ['Joseph Balestier'], 'dates': ['1836']}, 'Diplomatic Relations': {'places': [], 'persons': [], 'dates': ['1966']}, 'Establishment of Diplomatic Relations and the American Embassy in\\n                            Singapore, 1966.': {'places': [], 'persons': [], 'dates': ['1966']}, 'Resources': {'places': [], 'persons': [], 'dates': []}}}, {'name': 'Slovakia', 'url': 'https://history.state.gov/countries/slovakia', 'flag': 'https://static.history.state.gov/countries/slovakia-flag.jpg', 'infos': {'Summary': {'places': ['Slovakia'], 'persons': [], 'dates': []}, 'Recognition': {'places': [], 'persons': [], 'dates': ['1993']}, 'U.S. Recognition of Slovak Independence, 1993.': {'places': [], 'persons': [], 'dates': ['1993']}, 'Diplomatic Relations': {'places': ['Bratislava'], 'persons': ['Paul Hacker'], 'dates': ['1993']}, 'Establishment of Diplomatic Relations and the American Embassy in\\n                        Bratislava, 1993.': {'places': ['Bratislava'], 'persons': ['Paul Hacker'], 'dates': ['1993']}, 'Resources': {'places': [], 'persons': [], 'dates': []}}}, {'name': 'Slovenia', 'url': 'https://history.state.gov/countries/slovenia', 'flag': 'https://static.history.state.gov/countries/slovenia-flag.jpg', 'infos': {'Summary': {'places': ['Slovenia', 'Yugoslavia', 'Afghanistan', 'Ljubljana'], 'persons': ['George H.W. Bush'], 'dates': ['1992', '1992', '1992']}, 'Recognition': {'places': [], 'persons': ['George H.W. Bush'], 'dates': ['1992']}, 'U.S. Recognition of Slovenia, 1992.': {'places': [], 'persons': ['George H.W. Bush'], 'dates': ['1992']}, 'Diplomatic Relations': {'places': ['Ljubljana'], 'persons': [], 'dates': ['1992', '1992']}, 'Establishment of Diplomatic Relations, 1992.': {'places': [], 'persons': [], 'dates': ['1992']}, 'Establishment of the American Embassy in Slovenia, 1992.': {'places': ['Ljubljana'], 'persons': [], 'dates': ['1992']}, 'Resources': {'places': [], 'persons': [], 'dates': []}}}, {'name': 'Solomon-islands', 'url': 'https://history.state.gov/countries/solomon-islands', 'flag': 'https://static.history.state.gov/countries/solomon-islands-flag.jpg', 'infos': {'Summary': {'places': ['Solomon Islands', 'Guadalcanal', 'Papua New\\n                                Guinea', 'Port\\n                                Moresby', 'Honiara'], 'persons': ['John H. Glenn', 'Jimmy Carter', 'Peter\\n                                Kauona Keniaraisoona Kenilorea', 'Robert William'], 'dates': ['1978', '1978', '1988', '1993']}, 'Recognition': {'places': [], 'persons': ['John H. Glenn', 'Jimmy Carter', 'Peter\\n                                Kauona Keniaraisoona Kenilorea'], 'dates': ['1978']}, 'U.S. Recognition of the Solomon Islands, 1978.': {'places': [], 'persons': ['John H. Glenn', 'Jimmy Carter', 'Peter\\n                                Kauona Keniaraisoona Kenilorea'], 'dates': ['1978']}, 'Diplomatic Relations': {'places': ['Papua New\\n                                Guinea', 'Port\\n                                Moresby', 'Honiara'], 'persons': ['Robert William'], 'dates': ['1978', '1988', '1993']}, 'Establishment of Diplomatic Relations, 1978.': {'places': ['Papua New\\n                                Guinea', 'Port\\n                                Moresby'], 'persons': [], 'dates': ['1978']}, 'Establishment of the U.S. Embassy in the Solomon Islands, 1988.': {'places': ['Honiara'], 'persons': [], 'dates': ['1988']}, 'Closure of U.S. Embassy in the Solomon Islands, 1993.': {'places': [], 'persons': ['Robert William'], 'dates': ['1993']}, 'Resources': {'places': [], 'persons': [], 'dates': []}}}, {'name': 'Somalia', 'url': 'https://history.state.gov/countries/somalia', 'flag': 'https://static.history.state.gov/countries/somalia-flag.jpg', 'infos': {'Summary': {'places': ['Somalia', 'Mogadishu'], 'persons': [], 'dates': []}, 'Recognition': {'places': ['Somali Republic'], 'persons': ['Dwight D.\\n                            Eisenhower', 'Aden Abdulla\\n                            Osman'], 'dates': ['1960']}, 'U.S. Recognition of Somalia’s Independence, 1960.': {'places': ['Somali Republic'], 'persons': ['Dwight D.\\n                            Eisenhower', 'Aden Abdulla\\n                            Osman'], 'dates': ['1960']}, 'Diplomatic Relations': {'places': ['Mogadiscio (now Mogadishu)', 'Nairobi', 'Mogadishu', 'Nairobi'], 'persons': [], 'dates': ['1960', '1991', '2018']}, 'Establishment of Diplomatic Relations and the U.S. Embassy in Somalia,\\n                            1960.': {'places': ['Mogadiscio (now Mogadishu)'], 'persons': [], 'dates': ['1960']}, 'Closure of U.S. Embassy in Somalia, 1991.': {'places': ['Nairobi'], 'persons': [], 'dates': ['1991']}, 'Re-opening of the U.S. Embassy in Somalia, 2018.': {'places': ['Mogadishu', 'Nairobi'], 'persons': [], 'dates': ['2018']}, 'Resources': {'places': [], 'persons': [], 'dates': []}}}, {'name': 'South-africa', 'url': 'https://history.state.gov/countries/south-africa', 'flag': 'https://static.history.state.gov/countries/south-africa-flag.jpg', 'infos': {'Summary': {'places': ['South Africa'], 'persons': [], 'dates': []}, 'Recognition': {'places': [], 'persons': ['Herbert Hoover', 'Eric Hendrik Louw'], 'dates': ['1929']}, 'U.S. Recognition of South African Independence, 1929.': {'places': [], 'persons': ['Herbert Hoover', 'Eric Hendrik Louw'], 'dates': ['1929']}, 'Diplomatic Relations': {'places': ['Cape Town', 'Pretoria'], 'persons': ['H. T. Andrews', 'Harry S. Truman'], 'dates': ['1929', '1929', '1949', '1961']}, 'Establishment of Diplomatic Relations and the South African Legation in\\n                        the United States, 1929.': {'places': [], 'persons': [], 'dates': ['1929']}, 'Establishment of U.S. Legation in South Africa, 1929.': {'places': ['Cape Town', 'Pretoria'], 'persons': [], 'dates': ['1929']}, 'Elevation of Legations to Embassy Status, 1949.': {'places': [], 'persons': ['H. T. Andrews', 'Harry S. Truman'], 'dates': ['1949']}, 'The Republic of South Africa, 1961.': {'places': [], 'persons': [], 'dates': ['1961']}, 'Resources': {'places': [], 'persons': [], 'dates': []}}}, {'name': 'South-sudan', 'url': 'https://history.state.gov/countries/south-sudan', 'flag': 'https://static.history.state.gov/countries/south-sudan-flag.png', 'infos': {'Summary': {'places': [], 'persons': [], 'dates': []}, 'Recognition': {'places': [], 'persons': [], 'dates': ['2011']}, 'Recognition, 2011.': {'places': [], 'persons': [], 'dates': ['2011']}, 'Consular Relations': {'places': [], 'persons': [], 'dates': ['2005']}, 'Establishment of Consular Relations, 2005.': {'places': [], 'persons': [], 'dates': ['2005']}, 'Diplomatic Relations': {'places': [], 'persons': [], 'dates': ['2011', '2011']}, 'Establishment of Diplomatic Relations, 2011.': {'places': [], 'persons': [], 'dates': ['2011']}, 'Consulate Elevated to Embassy, 2011.': {'places': [], 'persons': [], 'dates': ['2011']}, 'Resources': {'places': [], 'persons': [], 'dates': []}}}, {'name': 'Spain', 'url': 'https://history.state.gov/countries/spain', 'flag': 'https://static.history.state.gov/countries/spain-flag.jpg', 'infos': {'Summary': {'places': ['Spain', 'Madrid', 'Barcelona', 'Barcelona', 'St. Jean de Luz, France', 'Burgos'], 'persons': ['John\\n                        Jay', 'Don Diego\\n                                Gardoqui', 'H. Freeman\\n                                Matthews'], 'dates': ['1783', '1797', '1783', '1785', '1783', '1898', '1899', '1913', '1936-39', '1795']}, 'Recognition': {'places': [], 'persons': [], 'dates': ['1783']}, 'Spanish Recognition of U.S. Independence, 1783.': {'places': [], 'persons': [], 'dates': ['1783']}, 'Consular Presence': {'places': ['Barcelona'], 'persons': [], 'dates': ['1797']}, 'U.S. Consulate in Barcelona, 1797.': {'places': ['Barcelona'], 'persons': [], 'dates': ['1797']}, 'Diplomatic Relations': {'places': ['Barcelona', 'St. Jean de Luz, France', 'Burgos'], 'persons': ['Don Diego\\n                                Gardoqui', 'H. Freeman\\n                                Matthews'], 'dates': ['1783', '1785', '1783', '1898', '1899', '1913', '1936-39']}, 'Establishment of Diplomatic Relations, 1783.': {'places': [], 'persons': [], 'dates': ['1783']}, 'First Spanish Envoy in the United States, 1785.': {'places': [], 'persons': ['Don Diego\\n                                Gardoqui'], 'dates': ['1785']}, 'Establishment of the American Legation in Madrid, 1783.': {'places': [], 'persons': [], 'dates': ['1783']}, 'Severance of Relations, 1898.': {'places': [], 'persons': [], 'dates': ['1898']}, 'Reestablishment of Relations, 1899.': {'places': [], 'persons': [], 'dates': ['1899']}, 'Elevation of American Legation to Embassy Status, 1913.': {'places': [], 'persons': [], 'dates': ['1913']}, 'American Legation Moves During the Spanish Civil War, 1936-39.': {'places': ['Barcelona', 'St. Jean de Luz, France', 'Burgos'], 'persons': ['H. Freeman\\n                                Matthews'], 'dates': ['1936-39']}, 'Treaties & Agreements': {'places': [], 'persons': [], 'dates': ['1795']}, 'Treaty of Friendship, Limits, and Navigation, 1795.': {'places': [], 'persons': [], 'dates': ['1795']}, 'Resources': {'places': [], 'persons': [], 'dates': []}}}, {'name': 'Sri-lanka', 'url': 'https://history.state.gov/countries/sri-lanka', 'flag': 'https://static.history.state.gov/countries/sri-lanka-flag.jpg', 'infos': {'Summary': {'places': ['Ceylon (now Sri\\n                        Lanka)'], 'persons': [], 'dates': []}, 'Recognition': {'places': [], 'persons': ['Harry S.\\n                            Truman', 'Henry Moore'], 'dates': ['1948']}, 'U.S. Recognition of Ceylon’s Independence, 1948.': {'places': [], 'persons': ['Harry S.\\n                            Truman', 'Henry Moore'], 'dates': ['1948']}, 'Diplomatic Relations': {'places': [], 'persons': ['Claude\\n                            Corea'], 'dates': ['1948', '1949']}, 'Establishment of Diplomatic Relations, 1948.': {'places': [], 'persons': ['Claude\\n                            Corea'], 'dates': ['1948']}, 'Establishment of American Embassy in Colombo, 1949.': {'places': [], 'persons': [], 'dates': ['1949']}, 'Resources': {'places': [], 'persons': [], 'dates': []}}}, {'name': 'Sudan', 'url': 'https://history.state.gov/countries/sudan', 'flag': 'https://static.history.state.gov/countries/sudan-flag.jpg', 'infos': {'Summary': {'places': [], 'persons': [], 'dates': []}, 'Recognition': {'places': ['Republic of\\n                            Sudan', 'Khartoum', 'Khartoum'], 'persons': ['Abdel Fattah Mohammed del\\n                        Maghrabi'], 'dates': ['1956', '1956', '1967', '1967', '1967', '1972', '1973', '1996', '2002']}, 'U.S. Recognition of Sudanese Independence, 1956.': {'places': ['Republic of\\n                            Sudan', 'Khartoum'], 'persons': ['Abdel Fattah Mohammed del\\n                        Maghrabi'], 'dates': ['1956']}, 'Diplomatic Relations': {'places': ['Khartoum'], 'persons': [], 'dates': ['1956', '1967', '1967', '1967', '1972', '1973', '1996', '2002']}, 'Establishment of Diplomatic Relations and the American Embassy in\\n                            Sudan, 1956.': {'places': ['Khartoum'], 'persons': [], 'dates': ['1956']}, 'Closure of American Embassy, 1967.': {'places': [], 'persons': [], 'dates': ['1967']}, 'Diplomatic Relations Severed by Sudan, 1967.': {'places': [], 'persons': [], 'dates': ['1967']}, 'Establishment of U.S. Interests Section, 1967.': {'places': [], 'persons': [], 'dates': ['1967']}, 'Re-establishment of Diplomatic Relations and the American Embassy,\\n                                1972.': {'places': [], 'persons': [], 'dates': ['1972']}, 'Assassination of American Ambassador, 1973.': {'places': [], 'persons': [], 'dates': ['1973']}, 'Suspension of Operations at American Embassy, 1996.': {'places': [], 'persons': [], 'dates': ['1996']}, 'Resumption of Operations at American Embassy, 2002.': {'places': [], 'persons': [], 'dates': ['2002']}, 'Resources': {'places': [], 'persons': [], 'dates': []}}}, {'name': 'Suriname', 'url': 'https://history.state.gov/countries/suriname', 'flag': 'https://static.history.state.gov/countries/suriname-flag.jpg', 'infos': {'Summary': {'places': ['Suriname'], 'persons': ['Desi Bouterse'], 'dates': []}, 'Recognition': {'places': ['Paramaribo'], 'persons': ['Gerald Ford', 'Johan Henri Eliza Ferrier'], 'dates': ['1975']}, 'U.S. Recognition of Suriname Independence, 1975.': {'places': ['Paramaribo'], 'persons': ['Gerald Ford', 'Johan Henri Eliza Ferrier'], 'dates': ['1975']}, 'Diplomatic Relations': {'places': [], 'persons': [], 'dates': ['1975']}, 'Establishment of Diplomatic Relations and the American Embassy in\\n                        Suriname, 1975.': {'places': [], 'persons': [], 'dates': ['1975']}, 'Resources': {'places': [], 'persons': [], 'dates': []}}}, {'name': 'Sweden', 'url': 'https://history.state.gov/countries/sweden', 'flag': 'https://static.history.state.gov/countries/sweden-flag.jpg', 'infos': {'Summary': {'places': ['Sweden'], 'persons': [], 'dates': []}, 'Recognition': {'places': [], 'persons': [], 'dates': ['1783']}, 'Swedish Recognition of the United States, 1783.': {'places': [], 'persons': [], 'dates': ['1783']}, 'Consular Presence': {'places': ['Stockholm'], 'persons': ['Charles\\n                            Hellstedt', 'David Erskine'], 'dates': ['1783', '1818']}, 'Establishment of Swedish Consular Relations in the United States, 1783.': {'places': [], 'persons': ['Charles\\n                            Hellstedt'], 'dates': ['1783']}, 'Establishment of Consular Relations, 1818.': {'places': ['Stockholm'], 'persons': ['David Erskine'], 'dates': ['1818']}, 'Diplomatic Relations': {'places': [], 'persons': [], 'dates': ['1818', '1947', '1784']}, 'Establishment of Diplomatic Relations, 1818.': {'places': [], 'persons': [], 'dates': ['1818']}, 'Elevation of U.S. Legation to Embassy Status, 1947.': {'places': [], 'persons': [], 'dates': ['1947']}, 'Treaties and Agreements': {'places': [], 'persons': [], 'dates': ['1784']}, 'Treaty of Amity and Commerce, 1784.': {'places': [], 'persons': [], 'dates': ['1784']}, 'Resources': {'places': [], 'persons': [], 'dates': []}}}, {'name': 'Switzerland', 'url': 'https://history.state.gov/countries/switzerland', 'flag': 'https://static.history.state.gov/countries/switzerland-flag.jpg', 'infos': {'Summary': {'places': ['Switzerland'], 'persons': [], 'dates': []}, 'Recognition': {'places': ['Basel'], 'persons': ['John Godfrey\\n                            Boeker'], 'dates': ['1829']}, 'U.S. Recognition of Switzerland, 1829.': {'places': ['Basel'], 'persons': ['John Godfrey\\n                            Boeker'], 'dates': ['1829']}, 'Consular Presence': {'places': [], 'persons': ['John Godfrey Boeker'], 'dates': ['1829', '1853', '1953', '1847']}, 'Establishment of Consular Relations, 1829.': {'places': [], 'persons': ['John Godfrey Boeker'], 'dates': ['1829']}, 'Diplomatic Relations': {'places': [], 'persons': [], 'dates': ['1853', '1953']}, 'Establishment of Diplomatic Relations and the American Legation in\\n                            Switzerland, 1853.': {'places': [], 'persons': [], 'dates': ['1853']}, 'Elevation of Legation to Embassy Status, 1953.': {'places': [], 'persons': [], 'dates': ['1953']}, 'Treaties and Agreements': {'places': [], 'persons': [], 'dates': ['1847']}, 'Convention for the Disposal of Property, 1847.': {'places': [], 'persons': [], 'dates': ['1847']}, 'Resources': {'places': [], 'persons': [], 'dates': []}}}, {'name': 'Syria', 'url': 'https://history.state.gov/countries/syria', 'flag': 'https://static.history.state.gov/countries/syria-flag.jpg', 'infos': {'Summary': {'places': ['Syri'], 'persons': ['George Wadsworth'], 'dates': []}, 'Recognition': {'places': ['Egypt'], 'persons': ['Jamil Mardam\\n                            Bey'], 'dates': ['1944', '1958', '1961']}, 'U.S. Recognition of Syrian Independence, 1944.': {'places': [], 'persons': ['Jamil Mardam\\n                            Bey'], 'dates': ['1944']}, 'Formation and Recognition of the United Arab Republic, 1958.': {'places': [], 'persons': [], 'dates': ['1958']}, 'Dissolution of the United Arab Republic and Recognition of Syria, 1961.': {'places': ['Egypt'], 'persons': [], 'dates': ['1961']}, 'Diplomatic Relations': {'places': ['Lebanon', 'Damascus'], 'persons': [], 'dates': ['1944', '1958', '1961', '1967', '1974', '1974']}, 'Establishment of Diplomatic Relations and the American Legation in Syria,\\n                            1944.': {'places': ['Lebanon'], 'persons': [], 'dates': ['1944']}, 'Diplomatic Relations with Syria Relations Ended, Embassy in Damascus\\n                        Downgraded, and Relations Established with the United Arab Republic, 1958.': {'places': ['Damascus'], 'persons': [], 'dates': ['1958']}, 'Reestablishment of Diplomatic Relations and the American Embassy in Syria,\\n                            1961.': {'places': [], 'persons': [], 'dates': ['1961']}, 'Diplomatic Relations Severed, 1967.': {'places': [], 'persons': [], 'dates': ['1967']}, 'Establishment of U.S. Interests Section, 1974.': {'places': [], 'persons': [], 'dates': ['1974']}, 'Reestablishment of Diplomatic Relations and American Embassy, 1974.': {'places': [], 'persons': [], 'dates': ['1974']}, 'Resources': {'places': [], 'persons': [], 'dates': []}}}, {'name': 'Tajikistan', 'url': 'https://history.state.gov/countries/tajikistan', 'flag': 'https://static.history.state.gov/countries/tajikistan-flag.jpg', 'infos': {'Summary': {'places': ['Tajikistan'], 'persons': [], 'dates': []}, 'Recognition': {'places': ['Dushanbe'], 'persons': ['George H.W. Bush', 'Edmund McWilliams'], 'dates': ['1991', '1992', '1992']}, 'U.S. Recognition of Tajikistan, 1991.': {'places': [], 'persons': ['George H.W. Bush'], 'dates': ['1991']}, 'Diplomatic Relations': {'places': ['Dushanbe'], 'persons': ['Edmund McWilliams'], 'dates': ['1992', '1992']}, 'Establishment of Diplomatic Relations, 1992.': {'places': [], 'persons': [], 'dates': ['1992']}, 'Establishment of the American Embassy in Dushanbe, 1992.': {'places': ['Dushanbe'], 'persons': ['Edmund McWilliams'], 'dates': ['1992']}, 'Resources': {'places': [], 'persons': [], 'dates': []}}}, {'name': 'Tanzania', 'url': 'https://history.state.gov/countries/tanzania', 'flag': 'https://static.history.state.gov/countries/tanzania-flag.jpg', 'infos': {'Summary': {'places': ['Tanzania', 'Dar es Salaam'], 'persons': [], 'dates': []}, 'Recognition': {'places': ['Tanganyika'], 'persons': ['John F.\\n                            Kennedy'], 'dates': ['1961']}, 'U.S. Recognition of Tanganyika’s Independence, 1961.': {'places': ['Tanganyika'], 'persons': ['John F.\\n                            Kennedy'], 'dates': ['1961']}, 'Diplomatic Relations': {'places': [], 'persons': [], 'dates': ['1961']}, 'Establishment of Diplomatic Relations and the American Embassy in\\n                        Tanganyika, 1961.': {'places': [], 'persons': [], 'dates': ['1961']}, 'Resources': {'places': [], 'persons': [], 'dates': []}}}, {'name': 'Texas', 'url': 'https://history.state.gov/countries/texas', 'flag': '', 'infos': {'Summary': {'places': [], 'persons': [], 'dates': []}, 'Recognition': {'places': [], 'persons': ['Andrew Jackson', 'Alcée La\\n                            Branche'], 'dates': ['1837']}, 'U.S. Recognition of Texan Independence, 1837.': {'places': [], 'persons': ['Andrew Jackson', 'Alcée La\\n                            Branche'], 'dates': ['1837']}, 'Consular Presence': {'places': [], 'persons': [], 'dates': []}, 'U.S. Consulate at Galveston': {'places': [], 'persons': [], 'dates': []}, 'Diplomatic Relations': {'places': [], 'persons': ['Andrew J.\\n                            Donelson'], 'dates': ['1837', '1846']}, 'Establishment of Diplomatic Relations and the U.S. Legation in Houston,\\n                            1837.': {'places': [], 'persons': [], 'dates': ['1837']}, 'Cessation of Relations, 1846.': {'places': [], 'persons': ['Andrew J.\\n                            Donelson'], 'dates': ['1846']}, 'Treaties and Agreements': {'places': [], 'persons': [], 'dates': ['1838', '1838']}, 'Claims Convention, 1838.': {'places': [], 'persons': [], 'dates': ['1838']}, 'Convention for Marking Boundary, 1838.': {'places': [], 'persons': [], 'dates': ['1838']}, 'Issues Relevant to U.S. Foreign Diplomacy': {'places': [], 'persons': [], 'dates': []}, 'Summary.': {'places': [], 'persons': [], 'dates': []}, 'Disrupting Relations With Mexico.': {'places': [], 'persons': [], 'dates': []}, 'Slavery and Cotton.': {'places': [], 'persons': [], 'dates': []}, 'Resources': {'places': [], 'persons': [], 'dates': []}}}, {'name': 'Thailand', 'url': 'https://history.state.gov/countries/thailand', 'flag': 'https://static.history.state.gov/countries/thailand.jpg', 'infos': {'Summary': {'places': ['Thailand'], 'persons': [], 'dates': []}, 'Recognition': {'places': [], 'persons': ['Edmund Roberts'], 'dates': ['1833']}, 'First Official Diplomatic Interaction, 1833.': {'places': [], 'persons': ['Edmund Roberts'], 'dates': ['1833']}, 'Consular Presence': {'places': ['Bangkok'], 'persons': ['John Hassett Chandler', 'John A.\\n                                Halderman'], 'dates': ['1859', '1882', '1947', '1836']}, 'Establishment of Consular Relations, 1859.': {'places': [], 'persons': ['John Hassett Chandler'], 'dates': ['1859']}, 'Diplomatic Relations': {'places': [], 'persons': ['John A.\\n                                Halderman'], 'dates': ['1882', '1947']}, 'Establishment of Diplomatic Relations and the American Legation in\\n                            Siam, 1882.': {'places': [], 'persons': ['John A.\\n                                Halderman'], 'dates': ['1882']}, 'Elevation of American Legation to Embassy Status, 1947.': {'places': [], 'persons': [], 'dates': ['1947']}, 'Treaties and Agreements': {'places': ['Bangkok'], 'persons': [], 'dates': ['1836']}, 'Treaty of Amnity and Commerce, 1836.': {'places': ['Bangkok'], 'persons': [], 'dates': ['1836']}, 'Resources': {'places': [], 'persons': [], 'dates': []}}}, {'name': 'Timor-leste', 'url': 'https://history.state.gov/countries/timor-leste', 'flag': 'https://static.history.state.gov/countries/timor-leste-flag.jpg', 'infos': {'Summary': {'places': ['Timor-Leste', 'East\\n                                Timor', 'Dili'], 'persons': ['Shari Villarossa', 'Grover Rees'], 'dates': ['2002', '2002']}, 'Recognition': {'places': ['East\\n                                Timor'], 'persons': [], 'dates': ['2002']}, 'U.S. Recognition of Timorese Independence, 2002.': {'places': ['East\\n                                Timor'], 'persons': [], 'dates': ['2002']}, 'Diplomatic Relations': {'places': ['Dili'], 'persons': ['Shari Villarossa', 'Grover Rees'], 'dates': ['2002']}, 'Establishment of Diplomatic Relations, 2002.': {'places': ['Dili'], 'persons': ['Shari Villarossa', 'Grover Rees'], 'dates': ['2002']}, 'Resources': {'places': [], 'persons': [], 'dates': []}}}, {'name': 'Togo', 'url': 'https://history.state.gov/countries/togo', 'flag': 'https://static.history.state.gov/countries/togo-flag.jpg', 'infos': {'Summary': {'places': ['Togo'], 'persons': [], 'dates': []}, 'Recognition': {'places': [], 'persons': ['William Rogers', 'Dwight D. Eisenhower', 'Sylvanus\\n                            Olympio'], 'dates': ['1960']}, 'U.S. Recognition of Togo’s Independence, 1960.': {'places': [], 'persons': ['William Rogers', 'Dwight D. Eisenhower', 'Sylvanus\\n                            Olympio'], 'dates': ['1960']}, 'Diplomatic Relations': {'places': ['Lomé'], 'persons': [], 'dates': ['1960']}, 'Establishment of Diplomatic Relations and the American Embassy in Togo,\\n                            1960.': {'places': ['Lomé'], 'persons': [], 'dates': ['1960']}, 'Resources': {'places': [], 'persons': [], 'dates': []}}}, {'name': 'Tonga', 'url': 'https://history.state.gov/countries/tonga', 'flag': 'https://static.history.state.gov/countries/tonga-flag.jpg', 'infos': {'Summary': {'places': ['Tonga', 'Tongatapu', 'New Zealand', 'Fiji', 'Western Samoa'], 'persons': ['George Tupou\\n                        I'], 'dates': []}, 'Recognition': {'places': [], 'persons': [], 'dates': ['1886', '1972']}, 'U.S. Recognition of Tonga, 1886.': {'places': [], 'persons': [], 'dates': ['1886']}, 'U.S. Recognition of Tongan Independence, 1972.': {'places': [], 'persons': [], 'dates': ['1972']}, 'Consular Presence': {'places': [], 'persons': ['Church\\n                        Howe', 'Luther W. Osborn'], 'dates': []}, '': {'places': [], 'persons': ['Church\\n                        Howe', 'Luther W. Osborn'], 'dates': []}, 'Diplomatic Relations': {'places': [], 'persons': [], 'dates': ['1972', '1979']}, 'Establishment of Diplomatic Relations, 1972.': {'places': [], 'persons': [], 'dates': ['1972']}, 'Change from Wellington to Suva, 1979.': {'places': [], 'persons': [], 'dates': ['1979']}, 'Treaties & Agreements': {'places': [], 'persons': [], 'dates': ['1920']}, 'Treaty of 1886 Terminated, 1920.': {'places': [], 'persons': [], 'dates': ['1920']}, 'Key Diplomatic Events': {'places': [], 'persons': [], 'dates': ['1900', '1970']}, 'Treaty of Friendship and Protectorship, 1900.': {'places': [], 'persons': [], 'dates': ['1900', '1970']}, 'Entry of Tonga into the British Commonwealth, 1970.': {'places': [], 'persons': [], 'dates': ['1970']}, 'Resources': {'places': [], 'persons': [], 'dates': []}}}, {'name': 'Trinidad-and-tobago', 'url': 'https://history.state.gov/countries/trinidad-and-tobago', 'flag': 'https://static.history.state.gov/countries/trinidad-tobago-flag.jpg', 'infos': {'Summary': {'places': ['Trinidad and Tobago'], 'persons': [], 'dates': []}, 'Recognition': {'places': ['Port-of-Spain'], 'persons': [], 'dates': ['1962']}, 'U.S. Recognition of the Independence of Trinidad and Tobago, 1962.': {'places': ['Port-of-Spain'], 'persons': [], 'dates': ['1962']}, 'Diplomatic Relations': {'places': [], 'persons': [], 'dates': ['1962']}, 'Establishment of Diplomatic Relations, 1962.': {'places': [], 'persons': [], 'dates': ['1962']}, 'Resources': {'places': [], 'persons': [], 'dates': []}}}, {'name': 'Tunisia', 'url': 'https://history.state.gov/countries/tunisia', 'flag': 'https://static.history.state.gov/countries/tunisia-flag.jpg', 'infos': {'Summary': {'places': ['Tunisia', 'Bizerte', 'Jerba', 'La Goulette', 'Mahdia', 'Monatico', 'Sfax', 'Sousse'], 'persons': ['Joseph Donaldson', 'Joseph Étienne\\n                                Famin'], 'dates': ['1795', '1795 to 1956', '1796-1881', '1956']}, 'Recognition': {'places': [], 'persons': ['Joseph Donaldson', 'Joseph Étienne\\n                                Famin'], 'dates': ['1795']}, 'Tunisian Recognition of the United States, 1795.': {'places': [], 'persons': ['Joseph Donaldson', 'Joseph Étienne\\n                                Famin'], 'dates': ['1795']}, 'Tunisia under French Control, 1881-1956.': {'places': [], 'persons': [], 'dates': []}, 'U.S. Recognition of Tunisian Independence, 1956.': {'places': [], 'persons': [], 'dates': []}, 'Consular Presence': {'places': ['Bizerte', 'Jerba', 'La Goulette', 'Mahdia', 'Monatico', 'Sfax', 'Sousse'], 'persons': [], 'dates': ['1795 to 1956']}, 'Consulate at Tunis, 1795 to 1956\\n                            (with interruptions).': {'places': ['Bizerte', 'Jerba', 'La Goulette', 'Mahdia', 'Monatico', 'Sfax', 'Sousse'], 'persons': [], 'dates': ['1795 to 1956']}, 'Diplomatic Relations': {'places': [], 'persons': [], 'dates': ['1796-1881', '1956']}, 'No Permanent Diplomatic Relations, 1796-1881.': {'places': [], 'persons': [], 'dates': ['1796-1881']}, 'Establishment of Diplomatic Relations and the American Embassy in\\n                            Tunisia, 1956.': {'places': [], 'persons': [], 'dates': ['1956']}, 'Resources': {'places': [], 'persons': [], 'dates': []}}}, {'name': 'Turkey', 'url': 'https://history.state.gov/countries/turkey', 'flag': 'https://static.history.state.gov/countries/turkey-flag.jpg', 'infos': {'Summary': {'places': ['Turkey'], 'persons': [], 'dates': []}, 'Recognition': {'places': [], 'persons': ['James Biddle', 'David\\n                        Offley', 'Charles Rhind'], 'dates': ['1830']}, 'Mutual Recognition, 1830.': {'places': [], 'persons': ['James Biddle', 'David\\n                        Offley', 'Charles Rhind'], 'dates': ['1830']}, 'Diplomatic Relations': {'places': ['Constantinople (Istanbul)', 'Angora'], 'persons': [], 'dates': ['1831', '1906', '1917', '1927']}, 'Establishment of Diplomatic Relations and the American Legation in the\\n                        Ottoman Empire, 1831.': {'places': ['Constantinople (Istanbul)'], 'persons': [], 'dates': ['1831']}, 'Elevation of American Legation to Embassy Status, 1906.': {'places': [], 'persons': [], 'dates': ['1906']}, 'Diplomatic Relations Severed, 1917.': {'places': [], 'persons': [], 'dates': ['1917']}, 'Diplomatic Relations Reestablished, 1927.': {'places': ['Angora'], 'persons': [], 'dates': ['1927']}, 'Resources': {'places': [], 'persons': [], 'dates': []}}}, {'name': 'Turkmenistan', 'url': 'https://history.state.gov/countries/turkmenistan', 'flag': 'https://static.history.state.gov/countries/turkmenistan-flag.jpg', 'infos': {'Summary': {'places': ['Turkmenistan', 'USSR', 'Ashkabad'], 'persons': ['George H.W. Bush', 'Jeffrey White'], 'dates': ['1991', '1992', '1992']}, 'Recognition': {'places': ['USSR'], 'persons': ['George H.W. Bush'], 'dates': ['1991']}, 'U.S. Recognition of Turkmenistan, 1991.': {'places': ['USSR'], 'persons': ['George H.W. Bush'], 'dates': ['1991']}, 'Consular Presence': {'places': [], 'persons': [], 'dates': []}, '': {'places': [], 'persons': [], 'dates': []}, 'Diplomatic Relations': {'places': ['Ashkabad'], 'persons': ['Jeffrey White'], 'dates': ['1992', '1992']}, 'Establishment of Diplomatic Relations, 1992.': {'places': [], 'persons': [], 'dates': ['1992']}, 'Establishment of the American Embassy in Ashkabad (now Ashgabat), 1992.': {'places': ['Ashkabad'], 'persons': ['Jeffrey White'], 'dates': ['1992']}, 'Resources': {'places': [], 'persons': [], 'dates': []}}}, {'name': 'Tuvalu', 'url': 'https://history.state.gov/countries/tuvalu', 'flag': 'https://static.history.state.gov/countries/tuvalu-flag.jpg', 'infos': {'Summary': {'places': ['Tuvalu'], 'persons': [], 'dates': []}, 'Recognition': {'places': [], 'persons': ['Elizabeth G. Stevens', 'Jimmy Carter', 'Penitala\\n                            Teo'], 'dates': ['1978']}, 'U.S. Recogntion of Tuvalu, 1978.': {'places': [], 'persons': ['Elizabeth G. Stevens', 'Jimmy Carter', 'Penitala\\n                            Teo'], 'dates': ['1978']}, 'Diplomatic Relations': {'places': ['Fiji', 'Tonga', 'Funafuti'], 'persons': ['Inoke Faletau', 'Jimmy Carter'], 'dates': ['1979', '1980']}, 'Establishment of Diplomatic Relations, 1979.': {'places': [], 'persons': ['Inoke Faletau', 'Jimmy Carter'], 'dates': ['1979']}, 'Establishment of Ambassadorial Relations, 1980.': {'places': ['Fiji', 'Tonga', 'Funafuti'], 'persons': [], 'dates': ['1980']}, 'Resources': {'places': [], 'persons': [], 'dates': []}}}, {'name': 'Two-sicilies', 'url': 'https://history.state.gov/countries/two-sicilies', 'flag': '', 'infos': {'Summary': {'places': [], 'persons': ['Napoleon', 'Joachim\\n                        Murat'], 'dates': []}, 'Recognition': {'places': [], 'persons': ['John S. M. Matthiew'], 'dates': ['1796']}, 'Kingdom of Naples (after 1816, Kingdom of the Two Sicilies) Recognition of\\n                        the United States, 1796.': {'places': [], 'persons': ['John S. M. Matthiew'], 'dates': ['1796']}, 'Consular Presence': {'places': [], 'persons': ['Frederick Degan', 'Joseph Barnes', 'Abraham Gibbs', 'John Broadbent', 'Count Ferdinando Lucchesi', 'John Quincy Adams'], 'dates': []}, 'U.S. Consular Agents': {'places': [], 'persons': ['Frederick Degan', 'Joseph Barnes', 'Abraham Gibbs', 'John Broadbent', 'Count Ferdinando Lucchesi', 'John Quincy Adams'], 'dates': []}, 'Diplomatic Relations': {'places': [], 'persons': ['William Pinkney', 'John\\n                            Nelson', 'Robert Dale Owen', 'Giuseppe Anfora dei Duchi di\\n                            Liccignano', 'Giuseppe Garibaldi', ' Victor Emmanuel II'], 'dates': ['1832', '1861']}, 'Establishment of Diplomatic Relations, 1832.': {'places': [], 'persons': ['William Pinkney', 'John\\n                            Nelson', 'Robert Dale Owen', 'Giuseppe Anfora dei Duchi di\\n                            Liccignano'], 'dates': ['1832']}, 'Cessation of Relations, 1861.': {'places': [], 'persons': ['Giuseppe Garibaldi', ' Victor Emmanuel II'], 'dates': ['1861']}, 'Treaties and Agreements': {'places': [], 'persons': ['William H. Polk', 'Giustino\\n                            Fortunato', 'Michael Gravina', 'Robert\\n                            Dale Owen', 'Louis Carafa della Spina', 'Robert Dale Owen', 'Louis Carafa della\\n                            Spina', 'Michael Gravina e\\n                            Requesnez', 'Joseph Marius Arpino'], 'dates': ['October 14, 1832', '1845', '1855', '1855']}, 'Claims Convention, 1832.': {'places': [], 'persons': [], 'dates': []}, 'Arrangement Providing for the Reception in One Payment of the Balance of\\n                        the Indemnity Remaining Under the Convention of October 14, 1832.': {'places': [], 'persons': [], 'dates': ['October 14, 1832']}, 'Treaty of Commerce and Navigation, 1845.': {'places': [], 'persons': ['William H. Polk', 'Giustino\\n                            Fortunato', 'Michael Gravina'], 'dates': ['1845']}, 'Convention Relative to Rights of Neutrals at Sea, 1855.': {'places': [], 'persons': ['Robert\\n                            Dale Owen', 'Louis Carafa della Spina'], 'dates': ['1855']}, 'Convention of Amity, Commerce, Navigation, and Extradition, 1855.': {'places': [], 'persons': ['Robert Dale Owen', 'Louis Carafa della\\n                            Spina', 'Michael Gravina e\\n                            Requesnez', 'Joseph Marius Arpino'], 'dates': ['1855']}, 'Key Diplomatic Events': {'places': [], 'persons': [], 'dates': ['1861', '1861']}, 'Proclamation of the Kingdom of Italy, 1861.': {'places': [], 'persons': [], 'dates': ['1861']}, 'U.S. Recognition of Italian Independence, 1861.': {'places': [], 'persons': [], 'dates': ['1861']}, 'Issues Relevant to U.S. Foreign Diplomacy': {'places': [], 'persons': [], 'dates': []}, 'Compensation.': {'places': [], 'persons': [], 'dates': []}, 'Resources': {'places': [], 'persons': [], 'dates': []}}}, {'name': 'Uganda', 'url': 'https://history.state.gov/countries/uganda', 'flag': 'https://static.history.state.gov/countries/uganda-flag.jpg', 'infos': {'Summary': {'places': ['Uganda'], 'persons': ['John F. Kennedy'], 'dates': []}, 'Recognition': {'places': ['Uganda'], 'persons': ['John F.\\n                            Kennedy'], 'dates': ['1962']}, 'U.S. Recognition of Ugandan Independence, 1962.': {'places': ['Uganda'], 'persons': ['John F.\\n                            Kennedy'], 'dates': ['1962']}, 'Diplomatic Relations': {'places': ['Kampala'], 'persons': [], 'dates': ['1962', '1973', '1979']}, 'Establishment of Diplomatic Relations and the American Embassy in Uganda,\\n                            1962.': {'places': ['Kampala'], 'persons': [], 'dates': ['1962']}, 'Closure of American Embassy, 1973.': {'places': [], 'persons': [], 'dates': ['1973']}, 'Re-establishment of American Embassy, 1979.': {'places': [], 'persons': [], 'dates': ['1979']}, 'Resources': {'places': [], 'persons': [], 'dates': []}}}, {'name': 'Ukraine', 'url': 'https://history.state.gov/countries/ukraine', 'flag': 'https://static.history.state.gov/countries/ukraine-flag.jpg', 'infos': {'Summary': {'places': ['Ukraine'], 'persons': [], 'dates': []}, 'Recognition': {'places': [], 'persons': ['George H.W. Bush'], 'dates': ['1991']}, 'U.S. Recognition of Ukraine, 1991.': {'places': [], 'persons': ['George H.W. Bush'], 'dates': ['1991']}, 'Diplomatic Relations': {'places': ['Kiev'], 'persons': ['George H.W. Bush'], 'dates': ['1991', '1992']}, 'Establishment of Diplomatic Relations, 1991.': {'places': [], 'persons': ['George H.W. Bush'], 'dates': ['1991']}, 'Establishment of the American Embassy in Kiev (Kyiv), 1992.': {'places': ['Kiev'], 'persons': [], 'dates': ['1992']}, 'Resources': {'places': [], 'persons': [], 'dates': []}}}, {'name': 'Soviet-union', 'url': 'https://history.state.gov/countries/soviet-union', 'flag': '', 'infos': {'Summary': {'places': [], 'persons': ['Maxim\\n                        Litvinov'], 'dates': []}}}, {'name': 'United-arab-emirates', 'url': 'https://history.state.gov/countries/united-arab-emirates', 'flag': 'https://static.history.state.gov/countries/united-arab-emirate-flag.jpg', 'infos': {'Summary': {'places': ['United Arab Emirates', 'Abu\\n                                Dhabi'], 'persons': [], 'dates': ['1971', '1972', '1974']}, 'Recognition': {'places': [], 'persons': [], 'dates': ['1971']}, 'U.S. Recognition of the United Arab Emirates’ Independence, 1971.': {'places': [], 'persons': [], 'dates': ['1971']}, 'Diplomatic Relations': {'places': ['Abu\\n                                Dhabi'], 'persons': [], 'dates': ['1972', '1974']}, 'Establishment of Diplomatic Relations, 1972.': {'places': [], 'persons': [], 'dates': ['1972']}, 'Establishment of the American Embassy in the United Arab Emirates,\\n                                1974.': {'places': ['Abu\\n                                Dhabi'], 'persons': [], 'dates': ['1974']}, '': {'places': [], 'persons': [], 'dates': []}, 'Resources': {'places': [], 'persons': [], 'dates': []}}}, {'name': 'United-kingdom', 'url': 'https://history.state.gov/countries/united-kingdom', 'flag': 'https://static.history.state.gov/countries/united-kingdom.jpg', 'infos': {'Summary': {'places': ['United Kingdom of Great Britain', 'Scotland', 'Leith', 'Edinburgh', 'Glasgow', 'Dundee', 'Aberdeen', 'Dunfermline', 'Greenock', 'Kirkcaldy', 'Galashiels', 'Troon', 'Wales', 'Beaumaris', 'Cardiff', 'Holyhead', 'Llanelly', 'Milford Haven', 'Newport', 'Northern\\n                                Ireland', 'Belfast', 'Londonderry', 'England', 'Liverpool', 'Isle of Wight', 'London', 'Bristol', 'Falmouth', 'Kingston upon\\n                                    Hull', 'Plymouth', 'Bridgeport', 'Leeds', 'Manchester', 'Southampton', 'Newcastle-on-Tyne', 'Portsmouth', 'Weymouth', 'Hull', 'Sunderland', 'Birmingham', 'Worcester', 'Jersey', 'Nottingham', 'Bradford', 'Sheffield', 'Huddersfield', 'Carlisle', 'Tunstall', 'Gloucester', 'St. Helen’s', 'Old Hartlepool and West\\n                                    Hartlepool', 'Hartlepool', 'Leicester', 'Wolverhampton', 'Kidderminister', 'Dover', 'Ramsgate, Margate and Deal', 'Redditch', 'Brixham', 'Derby', 'Barnsley', 'Dartmouth', 'Grimsby', 'Burslem', 'Stoke on Trent', 'Guernsey'], 'persons': ['George Washington', 'John Adams', 'Harry\\n                                Grant', 'George\\n                                Hammond', 'Jonathan\\n                                Russell', 'Thomas Bayard'], 'dates': ['1783', '1785', '1791', '1812', '1815', '1893']}, 'Recognition': {'places': [], 'persons': [], 'dates': ['1783']}, 'British Recognition of U.S. Independence, 1783.': {'places': [], 'persons': [], 'dates': ['1783']}, 'Consular Presence': {'places': ['Scotland', 'Leith', 'Edinburgh', 'Glasgow', 'Dundee', 'Aberdeen', 'Dunfermline', 'Greenock', 'Kirkcaldy', 'Galashiels', 'Troon', 'Wales', 'Beaumaris', 'Cardiff', 'Holyhead', 'Llanelly', 'Milford Haven', 'Newport', 'Northern\\n                                Ireland', 'Belfast', 'Londonderry', 'England', 'Liverpool', 'Isle of Wight', 'London', 'Bristol', 'Falmouth', 'Kingston upon\\n                                    Hull', 'Plymouth', 'Bridgeport', 'Leeds', 'Manchester', 'Southampton', 'Newcastle-on-Tyne', 'Portsmouth', 'Weymouth', 'Hull', 'Sunderland', 'Birmingham', 'Worcester', 'Jersey', 'Nottingham', 'Bradford', 'Sheffield', 'Huddersfield', 'Carlisle', 'Tunstall', 'Gloucester', 'St. Helen’s', 'Old Hartlepool and West\\n                                    Hartlepool', 'Hartlepool', 'Leicester', 'Wolverhampton', 'Kidderminister', 'Dover', 'Ramsgate, Margate and Deal', 'Redditch', 'Brixham', 'Derby', 'Barnsley', 'Dartmouth', 'Grimsby', 'Burslem', 'Stoke on Trent', 'Guernsey'], 'persons': ['John Adams', 'Harry\\n                                Grant'], 'dates': []}, 'Consulates in Scotland.': {'places': ['Scotland', 'Leith', 'Edinburgh', 'Glasgow', 'Dundee', 'Aberdeen', 'Dunfermline', 'Greenock', 'Kirkcaldy', 'Galashiels', 'Troon'], 'persons': ['John Adams', 'Harry\\n                                Grant'], 'dates': []}, 'Consulates in Wales.': {'places': ['Wales', 'Beaumaris', 'Cardiff', 'Holyhead', 'Llanelly', 'Milford Haven', 'Newport'], 'persons': [], 'dates': []}, 'Consulates in Northern\\n                                Ireland.': {'places': ['Northern\\n                                Ireland', 'Belfast', 'Londonderry'], 'persons': [], 'dates': []}, 'Consulates in England.': {'places': ['England', 'Liverpool', 'Isle of Wight', 'London', 'Bristol', 'Falmouth', 'Kingston upon\\n                                    Hull', 'Plymouth', 'Bridgeport', 'Leeds', 'Manchester', 'Southampton', 'Newcastle-on-Tyne', 'Portsmouth', 'Weymouth', 'Hull', 'Sunderland', 'Birmingham', 'Worcester', 'Jersey', 'Nottingham', 'Bradford', 'Sheffield', 'Huddersfield', 'Carlisle', 'Tunstall', 'Gloucester', 'St. Helen’s', 'Old Hartlepool and West\\n                                    Hartlepool', 'Hartlepool', 'Leicester', 'Wolverhampton', 'Kidderminister', 'Dover', 'Ramsgate, Margate and Deal', 'Redditch', 'Brixham', 'Derby', 'Barnsley', 'Dartmouth', 'Grimsby', 'Burslem', 'Stoke on Trent', 'Guernsey'], 'persons': [], 'dates': []}, 'Diplomatic Relations': {'places': [], 'persons': ['George\\n                                Hammond', 'Jonathan\\n                                Russell', 'Thomas Bayard'], 'dates': ['1785', '1791', '1812', '1815', '1893']}, 'Establishment of Diplomatic Relations and the American Legation in\\n                            London, 1785.': {'places': [], 'persons': [], 'dates': ['1785']}, 'Establishment of the British Legation in the U.S., 1791.': {'places': [], 'persons': ['George\\n                                Hammond'], 'dates': ['1791']}, 'Interruption of Relations, 1812.': {'places': [], 'persons': ['Jonathan\\n                                Russell'], 'dates': ['1812']}, 'Re-establishment of Relations, 1815.': {'places': [], 'persons': [], 'dates': ['1815']}, 'Elevation of Legation to Embassy, 1893.': {'places': [], 'persons': ['Thomas Bayard'], 'dates': ['1893']}, 'Resources': {'places': [], 'persons': [], 'dates': []}}}, {'name': 'Uruguay', 'url': 'https://history.state.gov/countries/uruguay', 'flag': 'https://static.history.state.gov/countries/uruguay-flag.jpg', 'infos': {'Summary': {'places': ['Uruguay', 'Montevideo'], 'persons': ['John Darby'], 'dates': ['1836', '1867', '1870', '1941']}, 'Recognition': {'places': [], 'persons': ['John Darby'], 'dates': ['1836']}, 'U.S. Recognition of Uruguayan Independence, 1836.': {'places': [], 'persons': ['John Darby'], 'dates': ['1836']}, 'Diplomatic Relations': {'places': ['Montevideo'], 'persons': [], 'dates': ['1867', '1870', '1941']}, 'Establishment of Diplomatic Relations, 1867.': {'places': [], 'persons': [], 'dates': ['1867']}, 'Establishment of the American Legation in Montevideo, 1870.': {'places': ['Montevideo'], 'persons': [], 'dates': ['1870']}, 'Elevation of American Legation to Embassy Status, 1941.': {'places': [], 'persons': [], 'dates': ['1941']}, 'Resources': {'places': [], 'persons': [], 'dates': []}}}, {'name': 'Uzbekistan', 'url': 'https://history.state.gov/countries/uzbekistan', 'flag': 'https://static.history.state.gov/countries/uzbekistan-flag.jpg', 'infos': {'Historical Overview': {'places': ['Uzbekistan', 'Tashkent'], 'persons': ['George H.W. Bush', 'Michael Mozur'], 'dates': ['1991', '1992', '1992']}, 'Recognition': {'places': [], 'persons': [], 'dates': ['1991']}, 'U.S. Recognition of Uzbekistan, 1991.': {'places': [], 'persons': [], 'dates': ['1991']}, 'Consular Presence': {'places': [], 'persons': [], 'dates': []}, 'Diplomatic Relations': {'places': ['Tashkent'], 'persons': ['George H.W. Bush', 'Michael Mozur'], 'dates': ['1992', '1992']}, 'Establishment of Diplomatic Relations, 1992.': {'places': [], 'persons': ['George H.W. Bush'], 'dates': ['1992']}, 'Establishment of the American Embassy in Tashkent, 1992.': {'places': ['Tashkent'], 'persons': ['Michael Mozur'], 'dates': ['1992']}, 'Resources': {'places': [], 'persons': [], 'dates': []}}}, {'name': 'Vanuatu', 'url': 'https://history.state.gov/countries/vanuatu', 'flag': 'https://static.history.state.gov/countries/vanuatu-flag.jpg', 'infos': {'Summary': {'places': ['Pacific islands', 'Vanuatu', 'France', 'United\\n                                Kingdom', 'Port Vila', 'Papua New Guinea', 'Solomon Islands'], 'persons': ['Jimmy Carter\\n                            '], 'dates': ['1980', '1986', '1987']}, 'Recognition': {'places': ['France', 'United\\n                                Kingdom'], 'persons': ['Jimmy Carter\\n                            '], 'dates': ['1980']}, 'U.S. Recognition of Vanuatu, 1980.': {'places': ['France', 'United\\n                                Kingdom'], 'persons': ['Jimmy Carter\\n                            '], 'dates': ['1980']}, 'Diplomatic Relations': {'places': ['Port Vila', 'Papua New Guinea', 'Solomon Islands'], 'persons': [], 'dates': ['1986', '1987']}, 'Establishment of Diplomatic Relations, 1986.': {'places': [], 'persons': [], 'dates': ['1986']}, 'Establishment of Ambassadorial Relations, 1987.': {'places': ['Port Vila', 'Papua New Guinea', 'Solomon Islands'], 'persons': [], 'dates': ['1987']}, 'Resources': {'places': [], 'persons': [], 'dates': []}}}, {'name': 'Venezuela', 'url': 'https://history.state.gov/countries/venezuela', 'flag': 'https://static.history.state.gov/countries/venezuela-flag.jpg', 'infos': {'Summary': {'places': ['Venezuela', 'Republic of\\n                        Colombia', 'Venezuela'], 'persons': [], 'dates': []}, 'Recognition': {'places': [], 'persons': ['Nicholas D.C. Moller'], 'dates': ['1835']}, 'U.S. Recognition of Venezuela, 1835.': {'places': [], 'persons': ['Nicholas D.C. Moller'], 'dates': ['1835']}, 'Consular Presence': {'places': ['Maracaibo', 'Maracaibo'], 'persons': [], 'dates': ['1824']}, 'Establishment of Consulate in Maracaibo, 1824.': {'places': ['Maracaibo', 'Maracaibo'], 'persons': [], 'dates': ['1824']}, 'Diplomatic Relations': {'places': ['Caracas'], 'persons': [], 'dates': ['1835', '1939']}, 'Establishment of Diplomatic Relations, 1835.': {'places': [], 'persons': [], 'dates': ['1835']}, 'Elevation of Status of Legation in Caracas to Embassy, 1939.': {'places': ['Caracas'], 'persons': [], 'dates': ['1939']}, 'Treaties & Agreements': {'places': [], 'persons': [], 'dates': ['1836']}, 'Treaty of Peace, Friendship, Navigation, and Commerce, 1836.': {'places': [], 'persons': [], 'dates': ['1836']}, 'Resources': {'places': [], 'persons': [], 'dates': []}}}, {'name': 'Vietnam', 'url': 'https://history.state.gov/countries/vietnam', 'flag': 'https://static.history.state.gov/countries/vietnam-flag.jpg', 'infos': {'Summary': {'places': ['Vietnam'], 'persons': [], 'dates': []}, 'Recognition': {'places': [], 'persons': [], 'dates': ['1950']}, 'U.S. Recognition of Vietnamese Independence, 1950.': {'places': [], 'persons': [], 'dates': ['1950']}, 'Consular Presence': {'places': ['Hanoi', 'Hue'], 'persons': [], 'dates': ['1907', '1947-57']}, 'Establishment of Consular Relations, 1907.': {'places': [], 'persons': [], 'dates': ['1907']}, 'Establishment of Additional Consular Posts, 1947-57.': {'places': ['Hanoi', 'Hue'], 'persons': [], 'dates': ['1947-57']}, 'Diplomatic Relations': {'places': ['North Vietnam', 'South Vietnam'], 'persons': [], 'dates': ['1950', '1952', '1955', '1975', '1995', '1995']}, 'Establishment of Diplomatic Relations, 1950.': {'places': [], 'persons': [], 'dates': ['1950']}, 'Elevation of U.S. Legation to Embassy Status, 1952.': {'places': [], 'persons': [], 'dates': ['1952']}, 'Diplomatic Relations and the North-South Division of Vietnam, 1955.': {'places': ['North Vietnam', 'South Vietnam'], 'persons': [], 'dates': ['1955']}, 'Relations Interrupted, 1975.': {'places': [], 'persons': [], 'dates': ['1975']}, 'U.S. Liaison Office Opened, 1995.': {'places': [], 'persons': [], 'dates': ['1995']}, 'Relations Resumed, 1995.': {'places': [], 'persons': [], 'dates': ['1995']}, 'Resources': {'places': [], 'persons': [], 'dates': []}}}, {'name': 'Wurttemberg', 'url': 'https://history.state.gov/countries/wurttemberg', 'flag': '', 'infos': {'Summary': {'places': [], 'persons': ['Napoleon'], 'dates': []}, 'Recognition': {'places': [], 'persons': ['Christian Mayer Esq.'], 'dates': ['1842']}, 'Mutual Recognition, 1842.': {'places': [], 'persons': ['Christian Mayer Esq.'], 'dates': ['1842']}, 'Consular Presence': {'places': [], 'persons': [], 'dates': ['October 13, 1842']}, 'The first U.S. consulate opened in Württemberg on October 13, 1842.': {'places': [], 'persons': [], 'dates': ['October 13, 1842']}, 'Diplomatic Relations': {'places': [], 'persons': [], 'dates': ['1868', '1917']}, 'Expansion of Relations, 1868.': {'places': [], 'persons': [], 'dates': ['1868']}, 'Cessation of Relations, 1917.': {'places': [], 'persons': [], 'dates': ['1917']}, 'Treaties and Agreements': {'places': [], 'persons': ['Baron de\\n                            Maucler', 'Charles Baron\\n                            Varnbüler'], 'dates': ['1844', '1853', '1868']}, 'Convention Abolishing Droit d’Aubaine and Taxes on\\n                        Emigration, 1844.': {'places': [], 'persons': ['Baron de\\n                            Maucler'], 'dates': ['1844']}, 'Declaration of Accession to the Convention for the Extradition of\\n                        Criminals, Fugitive from Justice, of June 16, 1852, Between the United\\n                        States and Prussia and Other States of the Germanic Confederation, 1853.': {'places': [], 'persons': [], 'dates': ['1853']}, 'Convention as to Naturalization and Extradition, 1868.': {'places': [], 'persons': ['Charles Baron\\n                            Varnbüler'], 'dates': ['1868']}, 'Key Diplomatic Events': {'places': [], 'persons': [], 'dates': ['1871']}, 'Württemberg Joins the German Empire, 1871.': {'places': [], 'persons': [], 'dates': ['1871']}, 'German Unification.': {'places': [], 'persons': [], 'dates': []}, 'Issues Relevant to U.S. Foreign Diplomacy': {'places': [], 'persons': [], 'dates': []}, 'Trade.': {'places': [], 'persons': [], 'dates': []}, 'Resources': {'places': [], 'persons': [], 'dates': []}}}, {'name': 'Yemen', 'url': 'https://history.state.gov/countries/yemen', 'flag': 'https://static.history.state.gov/countries/yemen-flag.jpg', 'infos': {'Summary': {'places': [], 'persons': [], 'dates': []}, 'Recognition': {'places': [], 'persons': [], 'dates': ['1946', '1962', '1967']}, 'U.S. Recognition of Yemen (Northern Yemen), 1946.': {'places': [], 'persons': [], 'dates': ['1946']}, 'U.S. Recognition of Yemen Arab Republic (North Yemen), 1962.': {'places': [], 'persons': [], 'dates': ['1962']}, 'U.S. Recognition of People’s Republic of Southern Yemen, 1967.': {'places': [], 'persons': [], 'dates': ['1967']}, 'Diplomatic Relations': {'places': [], 'persons': [], 'dates': ['1946', '1946', '1959', '1963', '1966', '1967', '1967', '1967', '1969', '1969', '1972', '1990', '1990']}, 'Establishment of Diplomatic Relations with the Kingdom of Yemen (North\\n                        Yemen), 1946.': {'places': [], 'persons': [], 'dates': ['1946']}, 'First U.S. Minister to Kingdom of Yemen (North Yemen), 1946.': {'places': [], 'persons': [], 'dates': ['1946']}, 'Establishment of American Legation at Taiz (North Yemen), 1959.': {'places': [], 'persons': [], 'dates': ['1959']}, 'Elevation of American Legation in Taiz (North Yemen) to Embassy Status,\\n                            1963.': {'places': [], 'persons': [], 'dates': ['1963']}, 'Movement of American Embassy from Taiz to San’a (North Yemen), 1966.': {'places': [], 'persons': [], 'dates': ['1966']}, 'Diplomatic Relations Severed, 1967.': {'places': [], 'persons': [], 'dates': ['1967']}, 'Establishment of Diplomatic Relations with People’s Republic of Southern\\n                        Yemen (South Yemen), 1967.': {'places': [], 'persons': [], 'dates': ['1967']}, 'Establishment of American Embassy in Aden (South Yemen), 1967.': {'places': [], 'persons': [], 'dates': ['1967']}, 'Severance of Diplomatic Relations, 1969.': {'places': [], 'persons': [], 'dates': ['1969']}, 'Closure of Embassy Aden (South Yemen), 1969.': {'places': [], 'persons': [], 'dates': ['1969']}, 'Diplomatic Relations Resumed and Reopening of American Embassy San’a,\\n                            1972.': {'places': [], 'persons': [], 'dates': ['1972']}, 'Resumption of Diplomatic Relations with the People’s Democratic Republic\\n                        of Yemen (South Yemen), 1990.': {'places': [], 'persons': [], 'dates': ['1990']}, 'Unification of the Yemen Arab Republic and the People’s Democratic\\n                        Republic of Yemen, 1990.': {'places': [], 'persons': [], 'dates': ['1990']}, 'Resources': {'places': [], 'persons': [], 'dates': []}}}, {'name': 'Zambia', 'url': 'https://history.state.gov/countries/zambia', 'flag': 'https://static.history.state.gov/countries/zambia-flag.jpg', 'infos': {'Summary': {'places': ['Zambia'], 'persons': [], 'dates': []}, 'Recognition': {'places': ['Zambia', 'Lusaka', 'Zambia', 'Lusaka'], 'persons': [], 'dates': ['1964', '1964', '1964']}, 'U.S. Recognition of Zambian Independence, 1964.': {'places': ['Zambia', 'Lusaka'], 'persons': [], 'dates': ['1964']}, 'Diplomatic Relations': {'places': ['Zambia', 'Lusaka'], 'persons': [], 'dates': ['1964']}, 'Establishment of Diplomatic Relations and the American Embassy in Zambia,\\n                            1964.': {'places': [], 'persons': [], 'dates': ['1964']}, 'Resources': {'places': [], 'persons': [], 'dates': []}}}, {'name': 'Zimbabwe', 'url': 'https://history.state.gov/countries/zimbabwe', 'flag': 'https://static.history.state.gov/countries/zimbabwe.jpg', 'infos': {'Summary': {'places': ['Zimbabwe'], 'persons': [], 'dates': []}, 'Recognition': {'places': ['Zimbabwe', 'Rhodesia'], 'persons': [], 'dates': ['1980']}, 'U.S. Recognition of Zimbabwe’s Independence, 1980.': {'places': ['Zimbabwe', 'Rhodesia'], 'persons': [], 'dates': ['1980']}, 'Diplomatic Relations': {'places': ['Salisbury (now Harare)'], 'persons': [], 'dates': ['1980']}, 'Establishment of Diplomatic Relations and the American Embassy in\\n                        Zimbabwe, 1980.': {'places': ['Salisbury (now Harare)'], 'persons': [], 'dates': ['1980']}, 'Resources': {'places': [], 'persons': [], 'dates': []}}}]\n",
      "Final time: 20:25:16 02/23/22 GMT\n"
     ]
    }
   ],
   "source": [
    "scrapCountry(links)"
   ]
  },
  {
   "cell_type": "code",
   "execution_count": null,
   "id": "2e04ccb6-eb79-44eb-9f27-5db092ab0260",
   "metadata": {},
   "outputs": [],
   "source": [
    "# Scrapper DIT site\n",
    "\n",
    "# Partie 1\n",
    "# Les FORMATIONS\n",
    "# Les DIPLOMES\n",
    "# La LOCALISATION\n",
    "# Le NUMERO DE TELEPHONE\n",
    "# Les PROGRAMMES\n",
    "# La MAQUETTES DES FORMATIONS\n",
    "\n",
    "# FORMATIONS (Nom, durée, coût, mots clés, programmes( Intitulé, liste des modules, la durée du module, lien de la plaquette ))\n",
    "\n",
    "# FORMATIONS:\n",
    "#     Tableau / Dictionnaire:\n",
    "#         Nom (23/02/2022)\n",
    "#         Durée (23/02/2022)\n",
    "#         Coût (23/02/2022)\n",
    "#         Mots clés (A venir)\n",
    "#         Programme (Dictionnaire) (A venir)\n",
    "#             clé(name), value(Intitulé)\n",
    "#             clé(modules), value(Tableau des modules)\n",
    "#             clé(lien_maquette), value(lien en lui même)"
   ]
  }
 ],
 "metadata": {
  "kernelspec": {
   "display_name": "Python 3 (ipykernel)",
   "language": "python",
   "name": "python3"
  },
  "language_info": {
   "codemirror_mode": {
    "name": "ipython",
    "version": 3
   },
   "file_extension": ".py",
   "mimetype": "text/x-python",
   "name": "python",
   "nbconvert_exporter": "python",
   "pygments_lexer": "ipython3",
   "version": "3.9.6"
  }
 },
 "nbformat": 4,
 "nbformat_minor": 5
}
