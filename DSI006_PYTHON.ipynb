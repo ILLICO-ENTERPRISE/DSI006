{
 "cells": [
  {
   "cell_type": "markdown",
   "id": "a68db0dc-15bf-4484-84df-487e1376bf2b",
   "metadata": {},
   "source": [
    "# Variables"
   ]
  },
  {
   "cell_type": "code",
   "execution_count": 1,
   "id": "a3bf6d2a-0a6b-4d1d-ac3b-48bde103ace6",
   "metadata": {},
   "outputs": [],
   "source": [
    "# Variables\n",
    "\n",
    "# Python est un langage non typé\n",
    "# Les variables permettent de stocker des valeurs\n",
    "# Les variables permettent de stocker quelques soit le type\n",
    "# A chaque assignation de valeur à une variable on parle d'assignation ou d'affectation\n",
    "\n",
    "# Première METHODE\n",
    "var1 = 'Ali'\n",
    "var2 = 100.100\n",
    "var3 = 22\n",
    "var4 = 188.\n",
    "\n",
    "# Deuxième METHODE\n",
    "# Cette mlethode permet de regrouper (PACK)...\n",
    "var5, var6, var7, var8 = 'Ali', 100.100, 22, 188."
   ]
  },
  {
   "cell_type": "code",
   "execution_count": 9,
   "id": "373e9be0-e824-49a2-94db-691b796b12dd",
   "metadata": {},
   "outputs": [
    {
     "data": {
      "text/plain": [
       "('Ali', 100.1, 22, 188.0)"
      ]
     },
     "execution_count": 9,
     "metadata": {},
     "output_type": "execute_result"
    }
   ],
   "source": [
    "# Afficher les variables dans le prompt de Jupyter Lab\n",
    "var1, var2, var3, var4"
   ]
  },
  {
   "cell_type": "code",
   "execution_count": 10,
   "id": "08b79b9e-6768-478a-a479-3967f572516b",
   "metadata": {},
   "outputs": [
    {
     "data": {
      "text/plain": [
       "('Ali', 100.1, 22, 188.0)"
      ]
     },
     "execution_count": 10,
     "metadata": {},
     "output_type": "execute_result"
    }
   ],
   "source": [
    "# Afficher les variables dans le prompt de Jupyter Lab\n",
    "var5, var6, var7, var8"
   ]
  },
  {
   "cell_type": "code",
   "execution_count": 11,
   "id": "bd1114b8-145d-4fe2-ae46-9720795d447f",
   "metadata": {},
   "outputs": [],
   "source": [
    "# Les entiers\n",
    "# Les réels\n",
    "# les chaines de caractères\n",
    "# Les booléens\n",
    "# Les tableau ( Entier, Reels, Chaine de caractères)"
   ]
  },
  {
   "cell_type": "markdown",
   "id": "57be0686-6630-43a2-b269-247dfc81ce00",
   "metadata": {},
   "source": [
    "# Les types de Variables"
   ]
  },
  {
   "cell_type": "code",
   "execution_count": 14,
   "id": "9dc8fdb3-c305-40de-aeb4-40ef665bfc73",
   "metadata": {},
   "outputs": [
    {
     "data": {
      "text/plain": [
       "(str, float, int, float)"
      ]
     },
     "execution_count": 14,
     "metadata": {},
     "output_type": "execute_result"
    }
   ],
   "source": [
    "# La fonction pour afficher le type est la fonction type\n",
    "\n",
    "# var1 = 'Ali'    type = str (chaine de caractère)\n",
    "# var2 = 100.100  type = float (reel)\n",
    "# var3 = 22       type = int (entier)\n",
    "# var4 = 188.     type = float (reel)\n",
    "\n",
    "type(var1), type(var2), type(var3), type(var4)"
   ]
  },
  {
   "cell_type": "code",
   "execution_count": 16,
   "id": "d196ada5-5eda-4bb6-bb0c-a241c7448611",
   "metadata": {},
   "outputs": [
    {
     "data": {
      "text/plain": [
       "(188.0, 188.0)"
      ]
     },
     "execution_count": 16,
     "metadata": {},
     "output_type": "execute_result"
    }
   ],
   "source": [
    "# Les deux manières d'écrire un float\n",
    "\n",
    "188.000, 188. # 188.0000000000"
   ]
  },
  {
   "cell_type": "code",
   "execution_count": 17,
   "id": "84359a73-0f4d-477d-b282-635a6a78f4f0",
   "metadata": {},
   "outputs": [
    {
     "data": {
      "text/plain": [
       "(str, float, int, float)"
      ]
     },
     "execution_count": 17,
     "metadata": {},
     "output_type": "execute_result"
    }
   ],
   "source": [
    "type(var5), type(var6), type(var7), type(var8)"
   ]
  },
  {
   "cell_type": "markdown",
   "id": "8b873f15-c5f9-4341-b77f-4326989b2833",
   "metadata": {},
   "source": [
    "# Les opérations usuelles en python"
   ]
  },
  {
   "cell_type": "code",
   "execution_count": 19,
   "id": "b9b3e011-ceb7-414c-b540-8c2e510e1f89",
   "metadata": {},
   "outputs": [],
   "source": [
    "add    = var2 + var3    # Addition\n",
    "sous   = var2 - var3    # Soustraction\n",
    "divi   = var2 / var3    # Divion simple\n",
    "mult   = var2 * var3    # Multiplication\n",
    "pow2   = var2 ** 2      # Exposant au carré (puissance)\n",
    "pow3   = var2 ** 3      # Exposant au cube (puissance)\n",
    "divE   = var2 // var3   # Division Entière\n",
    "divE2  = 4 // 3         # Division Entière\n",
    "modulo = 4 % 3          # Modulo (retourne le reste)"
   ]
  },
  {
   "cell_type": "code",
   "execution_count": 20,
   "id": "8fd3a7c4-8b66-48b0-87c9-a8afe1ead211",
   "metadata": {},
   "outputs": [
    {
     "data": {
      "text/plain": [
       "(122.1, 78.1, 4.55, 2202.2, 10020.009999999998, 1003003.0009999998)"
      ]
     },
     "execution_count": 20,
     "metadata": {},
     "output_type": "execute_result"
    }
   ],
   "source": [
    "add, sous, divi, mult, pow2, pow3"
   ]
  },
  {
   "cell_type": "code",
   "execution_count": 23,
   "id": "2f5f1e64-d183-447d-ae0f-77f2c59bfef6",
   "metadata": {},
   "outputs": [
    {
     "data": {
      "text/plain": [
       "(1.3333333333333333, 1)"
      ]
     },
     "execution_count": 23,
     "metadata": {},
     "output_type": "execute_result"
    }
   ],
   "source": [
    "4/3, 4//3    # La division entière filtre et retient la partie entiere du résultat"
   ]
  },
  {
   "cell_type": "code",
   "execution_count": 24,
   "id": "e9bd92f8-ab3f-476b-b2f4-3ff69ff99834",
   "metadata": {},
   "outputs": [],
   "source": [
    "# Déclarer des variables\n",
    "# Une variable <name>, contenant votre NOM\n",
    "# Une variable <age>, contenant votre AGE\n",
    "# Une variable <sex>, contenant votre sexe\n",
    "# Une variable <country>, contenant votre pays."
   ]
  },
  {
   "cell_type": "code",
   "execution_count": 27,
   "id": "90640e10-bc2d-4d7e-ab67-9c423494a237",
   "metadata": {},
   "outputs": [],
   "source": [
    "# Correction Déclarer des variables\n",
    "name    = 'Eric'\n",
    "age     = 28\n",
    "sex     = 'Masculin'\n",
    "country = 'Cameroune'"
   ]
  },
  {
   "cell_type": "code",
   "execution_count": 25,
   "id": "c2afd5e1-36e1-4b4d-9f7b-77f8c7b8d4ab",
   "metadata": {},
   "outputs": [],
   "source": [
    "# Afficher le type de vos variables\n",
    "# Afficher le type de la variable <name>\n",
    "# Afficher le type de la variable <age>\n",
    "# Afficher le type de la variable <sex>\n",
    "# Afficher le type de la variable <country>"
   ]
  },
  {
   "cell_type": "code",
   "execution_count": 29,
   "id": "c5a08c98-9455-4181-a84c-13c084f2c4e6",
   "metadata": {},
   "outputs": [
    {
     "data": {
      "text/plain": [
       "(str, int, str, str)"
      ]
     },
     "execution_count": 29,
     "metadata": {},
     "output_type": "execute_result"
    }
   ],
   "source": [
    "# Correction Afficher le type des variables\n",
    "type(name), type(age), type(sex), type(country)"
   ]
  },
  {
   "cell_type": "code",
   "execution_count": 26,
   "id": "f9b160f0-ad54-4cff-b3a3-af8cd651a163",
   "metadata": {},
   "outputs": [],
   "source": [
    "# Manipulation des varaibles\n",
    "# Declarer une variable du nom <surface>\n",
    "# Le rayon du cercle est de 18 et PI = 22/7\n",
    "# Calculer la surfaceCercle d'un cercle = PI * r**2\n",
    "# Considérer un triangle avec les dimensions suivantes:\n",
    "# Base = 22\n",
    "# Hauteur = 17\n",
    "# calculer la surface de ce triangle dans une variable surfaceTriangle\n",
    "# NB: Perimètre d'un triangle = (B * H) / 2 "
   ]
  },
  {
   "cell_type": "code",
   "execution_count": 30,
   "id": "4bd3609a-b8c6-4852-bc00-39159d1bdac2",
   "metadata": {},
   "outputs": [
    {
     "data": {
      "text/plain": [
       "(1018.2857142857142, 187.0)"
      ]
     },
     "execution_count": 30,
     "metadata": {},
     "output_type": "execute_result"
    }
   ],
   "source": [
    "# Correction Manipulation des varaibles\n",
    "PI, r, Base, Hauteur = 22/7, 18, 22, 17\n",
    "surfaceCercle        = PI * (r**2)\n",
    "surfaceTriangle      = (Base * Hauteur) / 2\n",
    "\n",
    "surfaceCercle, surfaceTriangle"
   ]
  },
  {
   "cell_type": "markdown",
   "id": "e7182a60-c6f4-4801-b577-a7aa842e6f35",
   "metadata": {},
   "source": [
    "# List, tuple, dict"
   ]
  },
  {
   "cell_type": "markdown",
   "id": "f827af7b-df7b-436f-91f2-7b9ee9ab8211",
   "metadata": {},
   "source": [
    "## Les Listes en python ou tableau"
   ]
  },
  {
   "cell_type": "code",
   "execution_count": 31,
   "id": "1149537d-3a66-494c-9082-699e34f0f126",
   "metadata": {},
   "outputs": [],
   "source": [
    "# Déclaration d'une liste ou d'un tableau\n",
    "\n",
    "tableau = []\n",
    "# tableau = list()"
   ]
  },
  {
   "cell_type": "code",
   "execution_count": 33,
   "id": "6a079d0c-5b52-4696-8687-80e86190e6c0",
   "metadata": {},
   "outputs": [],
   "source": [
    "# Ajouter des élements dans le tableau\n",
    "# La particularité des tableaux en Java ou langage C est de ne déclarer que des tableaux ne contenant que des valeurs du même type\n",
    "# En python les LISTES sont des META DONNEES ( communément appelées des STRUCTURES DE DONNEES)\n",
    "# La particularité des STRUCTURES DE DONNEES est de contenir tous types de variables\n",
    "\n",
    "# Cas en Java ou en C (Appliqué au python)\n",
    "tableau1 = [0, 1, 2, 3, 4, 5, 1991, 20778] # que des entiers\n",
    "tableau2 = [0.00, 1.00, 2.00, 3.00, 4.00, 1991.012] # que des réels\n",
    "tableau3 = ['Eric', 'Marius', 'Maodo', 'Russell'] # que des chaines de caractères\n",
    "\n",
    "# Cas en python\n",
    "tableau4 = [11, 188.02, 'Eric']\n",
    "tableau5 = [11.88, 12, 'Russell', []]\n",
    "tableau6 = [[1,2,3], [99.88, 'ALI'], []]"
   ]
  },
  {
   "cell_type": "code",
   "execution_count": 35,
   "id": "08975023-3065-4f31-9334-ee6abf64a15c",
   "metadata": {},
   "outputs": [
    {
     "data": {
      "text/plain": [
       "(0, 1, 1991)"
      ]
     },
     "execution_count": 35,
     "metadata": {},
     "output_type": "execute_result"
    }
   ],
   "source": [
    "# Afficher les valeurs du tableau en passant par les indexes\n",
    "tableau1[0], tableau1[1], tableau1[6]"
   ]
  },
  {
   "cell_type": "code",
   "execution_count": 37,
   "id": "f5c0870e-61c1-4913-8d10-d4812ec3e9ef",
   "metadata": {},
   "outputs": [
    {
     "data": {
      "text/plain": [
       "('Eric', 1.0, 1991.012)"
      ]
     },
     "execution_count": 37,
     "metadata": {},
     "output_type": "execute_result"
    }
   ],
   "source": [
    "# Afficher les valeurs du tableau en passant par les indexes\n",
    "tableau3[0], tableau2[1], tableau2[5]"
   ]
  },
  {
   "cell_type": "code",
   "execution_count": 38,
   "id": "f1291955-e17c-4cf1-b8af-7e5387897b98",
   "metadata": {},
   "outputs": [
    {
     "data": {
      "text/plain": [
       "(11.88, 'Russell', 3.0)"
      ]
     },
     "execution_count": 38,
     "metadata": {},
     "output_type": "execute_result"
    }
   ],
   "source": [
    "# Afficher les valeurs du tableau en passant par les indexes\n",
    "tableau5[0], tableau5[2], tableau2[3]"
   ]
  },
  {
   "cell_type": "code",
   "execution_count": 39,
   "id": "264555c1-0e26-4eb1-bdf2-cfecf66525d8",
   "metadata": {},
   "outputs": [
    {
     "data": {
      "text/plain": [
       "([1, 2, 3], [99.88, 'ALI'], [])"
      ]
     },
     "execution_count": 39,
     "metadata": {},
     "output_type": "execute_result"
    }
   ],
   "source": [
    "# Afficher les valeurs du tableau en passant par les indexes\n",
    "tableau6[0], tableau6[1], tableau6[2]"
   ]
  },
  {
   "cell_type": "code",
   "execution_count": 40,
   "id": "022557ce-ec5b-4538-8ce5-e3cee95055a2",
   "metadata": {},
   "outputs": [
    {
     "data": {
      "text/plain": [
       "(1, 'ALI', [])"
      ]
     },
     "execution_count": 40,
     "metadata": {},
     "output_type": "execute_result"
    }
   ],
   "source": [
    "# Afficher les valeurs du tableau en passant par les indexes\n",
    "# Manipulation des matrices (tableau dimension 2)\n",
    "tableau6[0][0], tableau6[1][1], tableau6[2]"
   ]
  },
  {
   "cell_type": "code",
   "execution_count": 41,
   "id": "de575615-0c74-4594-ab8b-ca00317ec0da",
   "metadata": {},
   "outputs": [
    {
     "data": {
      "text/plain": [
       "(list, list, list, list)"
      ]
     },
     "execution_count": 41,
     "metadata": {},
     "output_type": "execute_result"
    }
   ],
   "source": [
    "# Affichage du type des tableaux\n",
    "type(tableau1), type(tableau2), type(tableau5), type(tableau6)"
   ]
  },
  {
   "cell_type": "code",
   "execution_count": 46,
   "id": "c051e498-c1a0-4b44-a350-ca9971d2c3fc",
   "metadata": {},
   "outputs": [],
   "source": [
    "# Petite Remarque\n",
    "# On peut modifier les valeurs contenues dans une LISTE\n",
    "# La modification de ces valeurs se font par les index du tableau\n",
    "# Exemple\n",
    "tableau4    = [11, 188.02, 'Eric']\n",
    "tableau4[0] = 100.2\n",
    "tableau4[1] = 'Ali'\n",
    "tableau4[2] = 'Maodo Sene'"
   ]
  },
  {
   "cell_type": "code",
   "execution_count": 48,
   "id": "3f94f2d8-eac6-4463-a21a-18cdd5a10aa1",
   "metadata": {},
   "outputs": [
    {
     "data": {
      "text/plain": [
       "[100.2, 'Ali', 'Maodo Sene']"
      ]
     },
     "execution_count": 48,
     "metadata": {},
     "output_type": "execute_result"
    }
   ],
   "source": [
    "# Affichage des modifications apportées au tableau4\n",
    "tableau4"
   ]
  },
  {
   "cell_type": "code",
   "execution_count": 49,
   "id": "778f3e31-61a6-4f9f-9bf0-c2c15ca86026",
   "metadata": {},
   "outputs": [
    {
     "ename": "IndexError",
     "evalue": "list index out of range",
     "output_type": "error",
     "traceback": [
      "\u001b[0;31m---------------------------------------------------------------------------\u001b[0m",
      "\u001b[0;31mIndexError\u001b[0m                                Traceback (most recent call last)",
      "Input \u001b[0;32mIn [49]\u001b[0m, in \u001b[0;36m<module>\u001b[0;34m\u001b[0m\n\u001b[1;32m      1\u001b[0m \u001b[38;5;66;03m# test de la propriété d'immutabilité des listes\u001b[39;00m\n\u001b[1;32m      2\u001b[0m testListe \u001b[38;5;241m=\u001b[39m \u001b[38;5;28mlist\u001b[39m()  \u001b[38;5;66;03m# testListe = []\u001b[39;00m\n\u001b[0;32m----> 4\u001b[0m \u001b[43mtestListe\u001b[49m\u001b[43m[\u001b[49m\u001b[38;5;241;43m0\u001b[39;49m\u001b[43m]\u001b[49m\n",
      "\u001b[0;31mIndexError\u001b[0m: list index out of range"
     ]
    }
   ],
   "source": [
    "# test de la propriété d'immutabilité des listes (Part 1)\n",
    "testListe = list()  # testListe = []\n",
    "\n",
    "testListe[0]"
   ]
  },
  {
   "cell_type": "code",
   "execution_count": 50,
   "id": "1caddd1b-c59c-4d97-8a4a-e8ab11f4697b",
   "metadata": {},
   "outputs": [
    {
     "ename": "IndexError",
     "evalue": "list assignment index out of range",
     "output_type": "error",
     "traceback": [
      "\u001b[0;31m---------------------------------------------------------------------------\u001b[0m",
      "\u001b[0;31mIndexError\u001b[0m                                Traceback (most recent call last)",
      "Input \u001b[0;32mIn [50]\u001b[0m, in \u001b[0;36m<module>\u001b[0;34m\u001b[0m\n\u001b[1;32m      1\u001b[0m \u001b[38;5;66;03m# test de la propriété d'immutabilité des listes (Part 2)\u001b[39;00m\n\u001b[1;32m      2\u001b[0m testListe \u001b[38;5;241m=\u001b[39m \u001b[38;5;28mlist\u001b[39m()  \u001b[38;5;66;03m# testListe = []\u001b[39;00m\n\u001b[0;32m----> 4\u001b[0m testListe[\u001b[38;5;241m0\u001b[39m] \u001b[38;5;241m=\u001b[39m \u001b[38;5;241m188.19\u001b[39m\n",
      "\u001b[0;31mIndexError\u001b[0m: list assignment index out of range"
     ]
    }
   ],
   "source": [
    "# test de la propriété d'immutabilité des listes (Part 2)\n",
    "testListe = list()  # testListe = []\n",
    "\n",
    "testListe[0] = 188.19"
   ]
  },
  {
   "cell_type": "code",
   "execution_count": 53,
   "id": "0f077ce5-8df4-4046-8f66-2721ba3c1841",
   "metadata": {},
   "outputs": [],
   "source": [
    "# List comprehension (Part 1)\n",
    "# NB: la fonction native range(n) affiche les éléments a partir de 0 jusqu'à n-1\n",
    "# NB exemple: range(3) = [0,1,2] car n-1 = 3-1 = 2\n",
    "\n",
    "var1 = []   # list()\n",
    "var2 = [1, 2, 3, 4, 5]\n",
    "var3 = [x for x in var2]\n",
    "var4 = [x for x in var2]\n",
    "var5 = [x for x in range(6)]\n",
    "var6 = [x for x in range(10)]"
   ]
  },
  {
   "cell_type": "code",
   "execution_count": 51,
   "id": "f3e695a1-e8a1-42cc-baec-82ec21b0c262",
   "metadata": {},
   "outputs": [
    {
     "data": {
      "text/plain": [
       "([1, 2, 3, 4, 5], [1, 2, 3, 4, 5])"
      ]
     },
     "execution_count": 51,
     "metadata": {},
     "output_type": "execute_result"
    }
   ],
   "source": [
    "# Afficher les valeurs des variables var3, var4\n",
    "var3, var4"
   ]
  },
  {
   "cell_type": "code",
   "execution_count": 52,
   "id": "4cad3bea-d750-4df3-be34-0b2e0be568e1",
   "metadata": {},
   "outputs": [
    {
     "data": {
      "text/plain": [
       "([0, 1, 2, 3, 4, 5], [0, 1, 2, 3, 4, 5, 6, 7, 8, 9])"
      ]
     },
     "execution_count": 52,
     "metadata": {},
     "output_type": "execute_result"
    }
   ],
   "source": [
    "# Afficher les valeurs des variables var5, var6\n",
    "var5, var6"
   ]
  },
  {
   "cell_type": "code",
   "execution_count": 54,
   "id": "7a1e0e64-a519-448e-8153-22306472be78",
   "metadata": {},
   "outputs": [
    {
     "data": {
      "text/plain": [
       "(list, list)"
      ]
     },
     "execution_count": 54,
     "metadata": {},
     "output_type": "execute_result"
    }
   ],
   "source": [
    "# Afficher les types des variables var5, var6\n",
    "type(var5), type(var6)"
   ]
  },
  {
   "cell_type": "code",
   "execution_count": 6,
   "id": "25693563-0a4a-4048-8c44-486bdd0adfd3",
   "metadata": {},
   "outputs": [
    {
     "data": {
      "text/plain": [
       "[0, 1, 2, 3, 4, 5, 6, 7, 8, 9]"
      ]
     },
     "execution_count": 6,
     "metadata": {},
     "output_type": "execute_result"
    }
   ],
   "source": [
    "# Manipulation de la fonction range (Exemple 1)\n",
    "# Syntaxe range(number) \n",
    "test_range1 = list(range(10))\n",
    "test_range1"
   ]
  },
  {
   "cell_type": "code",
   "execution_count": 7,
   "id": "99ae6296-0573-4bc3-bc01-e2d8773ead02",
   "metadata": {},
   "outputs": [
    {
     "data": {
      "text/plain": [
       "[5, 6, 7, 8, 9, 10, 11, 12, 13, 14, 15, 16, 17, 18, 19, 20, 21, 22, 23, 24]"
      ]
     },
     "execution_count": 7,
     "metadata": {},
     "output_type": "execute_result"
    }
   ],
   "source": [
    "# Manipulation de la fonction range (Exemple 2)\n",
    "# Syntaxe range(start, end)\n",
    "test_range2 = list(range(5, 25))\n",
    "test_range2"
   ]
  },
  {
   "cell_type": "code",
   "execution_count": 8,
   "id": "0c613efc-6950-44d9-8036-61b1db9a1e79",
   "metadata": {},
   "outputs": [],
   "source": [
    "# List comprehension (Part 3)\n",
    "# Add, remove, pop, extend, insert, remove value\n",
    "var = []\n",
    "\n",
    "# Ajouter des elements avec la fonction append\n",
    "var.append(1)\n",
    "var.append(2)\n",
    "var.append(28.88)\n",
    "var.append('Ali')\n",
    "var.append('Sarr')\n",
    "var.append(['Ali', 18, [-155.88, 68.78]])"
   ]
  },
  {
   "cell_type": "code",
   "execution_count": 9,
   "id": "11afa0cb-b5a1-4a13-bd7b-c978139cc635",
   "metadata": {},
   "outputs": [
    {
     "data": {
      "text/plain": [
       "[1, 2, 28.88, 'Ali', 'Sarr', ['Ali', 18, [-155.88, 68.78]]]"
      ]
     },
     "execution_count": 9,
     "metadata": {},
     "output_type": "execute_result"
    }
   ],
   "source": [
    "var"
   ]
  },
  {
   "cell_type": "code",
   "execution_count": 10,
   "id": "03115189-7d0f-4586-9972-0134d64d0ddd",
   "metadata": {},
   "outputs": [],
   "source": [
    "# Ajouter des elements a la liste a partir d'une autre liste\n",
    "# iterable c'est un structure de donnees capable de rendre de manière successive les valeurs qu'elle contient\n",
    "# On parle d'itération (terme grossuère=boucle)\n",
    "var.extend([201, 202, 203])\n",
    "var.extend([301, 302, 303])\n",
    "var.extend([401, 402, 403])"
   ]
  },
  {
   "cell_type": "code",
   "execution_count": 11,
   "id": "fbb67c36-830b-424f-9dec-8e335da6ad30",
   "metadata": {},
   "outputs": [
    {
     "data": {
      "text/plain": [
       "[1,\n",
       " 2,\n",
       " 28.88,\n",
       " 'Ali',\n",
       " 'Sarr',\n",
       " ['Ali', 18, [-155.88, 68.78]],\n",
       " 201,\n",
       " 202,\n",
       " 203,\n",
       " 301,\n",
       " 302,\n",
       " 303,\n",
       " 401,\n",
       " 402,\n",
       " 403]"
      ]
     },
     "execution_count": 11,
     "metadata": {},
     "output_type": "execute_result"
    }
   ],
   "source": [
    "var"
   ]
  },
  {
   "cell_type": "code",
   "execution_count": 12,
   "id": "bff7c282-6991-4ea4-a7f0-5194529e2efe",
   "metadata": {},
   "outputs": [
    {
     "ename": "TypeError",
     "evalue": "'int' object is not iterable",
     "output_type": "error",
     "traceback": [
      "\u001b[0;31m---------------------------------------------------------------------------\u001b[0m",
      "\u001b[0;31mTypeError\u001b[0m                                 Traceback (most recent call last)",
      "Input \u001b[0;32mIn [12]\u001b[0m, in \u001b[0;36m<module>\u001b[0;34m\u001b[0m\n\u001b[0;32m----> 1\u001b[0m \u001b[43mvar\u001b[49m\u001b[38;5;241;43m.\u001b[39;49m\u001b[43mextend\u001b[49m\u001b[43m(\u001b[49m\u001b[38;5;241;43m1999\u001b[39;49m\u001b[43m)\u001b[49m\n",
      "\u001b[0;31mTypeError\u001b[0m: 'int' object is not iterable"
     ]
    }
   ],
   "source": [
    "var.extend(1999) # append"
   ]
  },
  {
   "cell_type": "code",
   "execution_count": 13,
   "id": "c8f8541f-76a6-418f-9135-ca348c14a87e",
   "metadata": {},
   "outputs": [],
   "source": [
    "var.extend(['Ali', 18, [-155.88, 68.78]])"
   ]
  },
  {
   "cell_type": "code",
   "execution_count": 17,
   "id": "791ef62a-e7c9-4aca-97d2-a9f1250804de",
   "metadata": {},
   "outputs": [
    {
     "data": {
      "text/plain": [
       "[-155.88, 68.78]"
      ]
     },
     "execution_count": 17,
     "metadata": {},
     "output_type": "execute_result"
    }
   ],
   "source": [
    "# suppression des élément d'une liste\n",
    "# Utilisation de la fonction POP\n",
    "# La fonction native POP permet de supprimer un élément en bout de liste et renvoi l'élément supprimé\n",
    "var.pop()"
   ]
  },
  {
   "cell_type": "code",
   "execution_count": 19,
   "id": "3e22d39f-7298-4f52-9009-629133ee0f5c",
   "metadata": {},
   "outputs": [
    {
     "data": {
      "text/plain": [
       "1"
      ]
     },
     "execution_count": 19,
     "metadata": {},
     "output_type": "execute_result"
    }
   ],
   "source": [
    "# Suppression avec précision de l'index de l'élément à supprimer\n",
    "var.pop(0)"
   ]
  },
  {
   "cell_type": "code",
   "execution_count": 21,
   "id": "69aec764-fe79-4a54-b0df-3006fb4bee1b",
   "metadata": {},
   "outputs": [],
   "source": [
    "# Inserer des éléments dans une liste avec la fonction INSERT\n",
    "# Syntaxe de INSERT: <list>.insert(index, value)\n",
    "var.insert(1, 555)\n",
    "var.insert(1, 665)\n",
    "var.insert(3, 888)"
   ]
  },
  {
   "cell_type": "code",
   "execution_count": 23,
   "id": "14c9f6bc-43f7-4bbe-bb15-14d28c857409",
   "metadata": {},
   "outputs": [],
   "source": [
    "# Suppression d'un élément d'une liste avec la fonction remove\n",
    "# Syntaxe de REMOVE: <list>.remove(value)\n",
    "var.remove(665)"
   ]
  },
  {
   "cell_type": "code",
   "execution_count": 25,
   "id": "2f7892eb-3966-4933-aeb1-f6c5685e3818",
   "metadata": {},
   "outputs": [],
   "source": [
    "var.remove(888)"
   ]
  },
  {
   "cell_type": "code",
   "execution_count": 28,
   "id": "42ec6eef-7e51-403a-8b30-f67043d8cf46",
   "metadata": {},
   "outputs": [],
   "source": [
    "# Ajout de deux éléments identiques dans la liste\n",
    "var.insert(1, 200)\n",
    "var.insert(1, 200)"
   ]
  },
  {
   "cell_type": "code",
   "execution_count": 33,
   "id": "ead3b5aa-666f-4bd2-b6c0-2aa5fb113dcb",
   "metadata": {},
   "outputs": [],
   "source": [
    "# NB: en cas d'occurence remove ne supprime qu'un élément par élément\n",
    "var.remove(200)"
   ]
  },
  {
   "cell_type": "code",
   "execution_count": 35,
   "id": "653f1cf4-1710-4b92-8524-af6ce2cee10f",
   "metadata": {},
   "outputs": [],
   "source": [
    "var = list(range(10))"
   ]
  },
  {
   "cell_type": "code",
   "execution_count": 37,
   "id": "9340c9c7-646f-4378-bd2b-7088b4f49bce",
   "metadata": {},
   "outputs": [
    {
     "data": {
      "text/plain": [
       "[0, 1, 2, 3, 4, 5, 6, 7, 8, 9]"
      ]
     },
     "execution_count": 37,
     "metadata": {},
     "output_type": "execute_result"
    }
   ],
   "source": [
    "# Afficher tous les éléments de la liste (Méthode 1)\n",
    "var"
   ]
  },
  {
   "cell_type": "code",
   "execution_count": 38,
   "id": "349b4625-651f-420c-96c8-07203581e448",
   "metadata": {},
   "outputs": [
    {
     "data": {
      "text/plain": [
       "[0, 1, 2, 3, 4, 5, 6, 7, 8, 9]"
      ]
     },
     "execution_count": 38,
     "metadata": {},
     "output_type": "execute_result"
    }
   ],
   "source": [
    "# Afficher tous les éléments de la liste (Méthode 2)\n",
    "var[:]"
   ]
  },
  {
   "cell_type": "code",
   "execution_count": 39,
   "id": "a4af9661-5003-4ece-b0f4-51ae01f5d0ad",
   "metadata": {},
   "outputs": [
    {
     "data": {
      "text/plain": [
       "[9, 8, 7, 6, 5, 4, 3, 2, 1, 0]"
      ]
     },
     "execution_count": 39,
     "metadata": {},
     "output_type": "execute_result"
    }
   ],
   "source": [
    "# Afficher tous les éléments de la liste à partir du dernier élément\n",
    "var[::-1]"
   ]
  },
  {
   "cell_type": "code",
   "execution_count": 40,
   "id": "2f43473e-8cc8-4aa8-9976-c8cdcc4cc406",
   "metadata": {},
   "outputs": [
    {
     "data": {
      "text/plain": [
       "(0, 9)"
      ]
     },
     "execution_count": 40,
     "metadata": {},
     "output_type": "execute_result"
    }
   ],
   "source": [
    "# Afficher le premier et le dernier élément de la liste\n",
    "var[0], var[-1]"
   ]
  },
  {
   "cell_type": "code",
   "execution_count": 42,
   "id": "b64a2f79-a9db-40e3-8753-7525b3a7078e",
   "metadata": {},
   "outputs": [
    {
     "data": {
      "text/plain": [
       "([0, 1, 2, 3, 4], [0, 1, 2, 3, 4, 5], [0, 1, 2, 3, 4, 5, 6])"
      ]
     },
     "execution_count": 42,
     "metadata": {},
     "output_type": "execute_result"
    }
   ],
   "source": [
    "# Afficher les n premiers éléments de la liste\n",
    "# Exemple des cinq premiers élements\n",
    "var[0:5], var[0:6], var[0:7] # ou var[:5]"
   ]
  },
  {
   "cell_type": "code",
   "execution_count": 44,
   "id": "28ac36fa-be17-489f-b161-446755526f22",
   "metadata": {},
   "outputs": [
    {
     "data": {
      "text/plain": [
       "([2, 3, 4], [2, 3, 4, 5, 6, 7], [3, 4])"
      ]
     },
     "execution_count": 44,
     "metadata": {},
     "output_type": "execute_result"
    }
   ],
   "source": [
    "# Afficher n éléments de la liste a partir d'un index de départ\n",
    "var[2:5], var[2:8], var[3:5]"
   ]
  },
  {
   "cell_type": "code",
   "execution_count": 47,
   "id": "a2166f90-c5a7-477c-923d-7de984894deb",
   "metadata": {},
   "outputs": [
    {
     "data": {
      "text/plain": [
       "([5, 6, 7, 8], [4, 5, 6, 7], [3, 4, 5, 6, 7, 8])"
      ]
     },
     "execution_count": 47,
     "metadata": {},
     "output_type": "execute_result"
    }
   ],
   "source": [
    "# Affichage des éléments de la liste a partir des index négatifs\n",
    "# Quand on utilise les indexes négatifs on décompte de la droite vers la gauche\n",
    "var[-5:-1], var[-6:-2], var[-7:-1]"
   ]
  },
  {
   "cell_type": "code",
   "execution_count": 48,
   "id": "21f24620-1268-4afb-9667-b406b5a32806",
   "metadata": {},
   "outputs": [
    {
     "data": {
      "text/plain": [
       "[9, 8, 7, 6, 5, 4, 3, 2, 1, 0]"
      ]
     },
     "execution_count": 48,
     "metadata": {},
     "output_type": "execute_result"
    }
   ],
   "source": [
    "# Affichage des éléments de la liste a partir du dernier par pas de 1\n",
    "var[::-1]"
   ]
  },
  {
   "cell_type": "code",
   "execution_count": 49,
   "id": "b7db6c56-1c20-4ce0-afc9-8f1f1acabef8",
   "metadata": {},
   "outputs": [
    {
     "data": {
      "text/plain": [
       "([9, 7, 5, 3, 1], [9, 6, 3, 0], [9, 5, 1])"
      ]
     },
     "execution_count": 49,
     "metadata": {},
     "output_type": "execute_result"
    }
   ],
   "source": [
    "# Affichage des éléments de la liste a partir du dernier par pas de 2\n",
    "# Le pas peut varier qu'a l'intervalle de la longueur du tableu\n",
    "var[::-2], var[::-3], var[::-4]"
   ]
  },
  {
   "cell_type": "code",
   "execution_count": 51,
   "id": "08f7cd13-eceb-46b1-a8e1-c8bd57509260",
   "metadata": {},
   "outputs": [],
   "source": [
    "# List comprehension (Part 4)\n",
    "# Opérations usuelles sur les listes\n",
    "\n",
    "var1 = list(range(10))\n",
    "var2 = list(range(6))\n",
    "\n",
    "var3 = var1 + var2 # Concaténation\n",
    "var4 = var2 * 3 # répétition des éléments du tableau par 3"
   ]
  },
  {
   "cell_type": "code",
   "execution_count": 52,
   "id": "a2e41a5d-01ec-4609-9a32-6cbf230d2989",
   "metadata": {},
   "outputs": [
    {
     "data": {
      "text/plain": [
       "([0, 1, 2, 3, 4, 5, 6, 7, 8, 9, 0, 1, 2, 3, 4, 5],\n",
       " [0, 1, 2, 3, 4, 5, 0, 1, 2, 3, 4, 5, 0, 1, 2, 3, 4, 5])"
      ]
     },
     "execution_count": 52,
     "metadata": {},
     "output_type": "execute_result"
    }
   ],
   "source": [
    "var3, var4"
   ]
  },
  {
   "cell_type": "markdown",
   "id": "6d61d848-879f-4a4d-831f-0a3d297cfba1",
   "metadata": {},
   "source": [
    "## Les dictionnaires en python"
   ]
  },
  {
   "cell_type": "code",
   "execution_count": 58,
   "id": "1316c168-295c-48aa-b3f1-89fc656d7683",
   "metadata": {},
   "outputs": [
    {
     "data": {
      "text/plain": [
       "(dict, dict)"
      ]
     },
     "execution_count": 58,
     "metadata": {},
     "output_type": "execute_result"
    }
   ],
   "source": [
    "# Dictionnaire (Part 1)\n",
    "# Les dictionnaires se base sur la notion de key/value\n",
    "# Notion de clé et de valeur (A une clé => valeur)\n",
    "\n",
    "var  = {} # or var = dict()\n",
    "var2 = dict()\n",
    "tab  = list()\n",
    "\n",
    "type(var), type(var2)"
   ]
  },
  {
   "cell_type": "code",
   "execution_count": 54,
   "id": "91e8a2b0-2078-46e7-b4d0-31b162af2322",
   "metadata": {},
   "outputs": [],
   "source": [
    "# Ajouter des éléments dans le dictionnaire\n",
    "var['name']    = 'Ali'\n",
    "var['age']     = 18\n",
    "var['poids']   = 75.50\n",
    "var['country'] = 'SN'"
   ]
  },
  {
   "cell_type": "code",
   "execution_count": 55,
   "id": "93c52d15-d880-46cc-b4a9-912678fd9797",
   "metadata": {},
   "outputs": [
    {
     "data": {
      "text/plain": [
       "{'name': 'Ali', 'age': 18, 'poids': 75.5, 'country': 'SN'}"
      ]
     },
     "execution_count": 55,
     "metadata": {},
     "output_type": "execute_result"
    }
   ],
   "source": [
    "var"
   ]
  },
  {
   "cell_type": "code",
   "execution_count": 56,
   "id": "9f41f974-b84a-481d-b6dd-39c486cbc682",
   "metadata": {},
   "outputs": [
    {
     "data": {
      "text/plain": [
       "('Ali', 18, 75.5, 'SN')"
      ]
     },
     "execution_count": 56,
     "metadata": {},
     "output_type": "execute_result"
    }
   ],
   "source": [
    "# Afficher les éléments de ce dictionnaire\n",
    "var['name'], var['age'], var['poids'], var['country']"
   ]
  },
  {
   "cell_type": "code",
   "execution_count": 61,
   "id": "5159faee-2c9c-456f-a5b9-6cfd55cfb3bf",
   "metadata": {},
   "outputs": [
    {
     "ename": "IndexError",
     "evalue": "list assignment index out of range",
     "output_type": "error",
     "traceback": [
      "\u001b[0;31m---------------------------------------------------------------------------\u001b[0m",
      "\u001b[0;31mIndexError\u001b[0m                                Traceback (most recent call last)",
      "Input \u001b[0;32mIn [61]\u001b[0m, in \u001b[0;36m<module>\u001b[0;34m\u001b[0m\n\u001b[0;32m----> 1\u001b[0m tab[\u001b[38;5;241m0\u001b[39m] \u001b[38;5;241m=\u001b[39m \u001b[38;5;124m'\u001b[39m\u001b[38;5;124mAli\u001b[39m\u001b[38;5;124m'\u001b[39m\n",
      "\u001b[0;31mIndexError\u001b[0m: list assignment index out of range"
     ]
    }
   ],
   "source": [
    "tab[0] = 'Ali'"
   ]
  },
  {
   "cell_type": "code",
   "execution_count": 66,
   "id": "ca7da609-e81d-4ba5-ab9e-1c3c0d289a35",
   "metadata": {},
   "outputs": [
    {
     "data": {
      "text/plain": [
       "{0: 4, 1: [1, 2, 3, 5], 2: {'tall': 1.85, 'color': 'black'}}"
      ]
     },
     "execution_count": 66,
     "metadata": {},
     "output_type": "execute_result"
    }
   ],
   "source": [
    "# Ajouter des listes et dictionnaires dans un dictionnaire\n",
    "var2[0] = 4\n",
    "var2[1] = [1, 2, 3, 5]\n",
    "var2[2] = {'tall': 1.85, 'color': 'black'}\n",
    "var2"
   ]
  },
  {
   "cell_type": "code",
   "execution_count": 67,
   "id": "4fc529b7-9fc9-422b-8dc5-650ceb9bc563",
   "metadata": {},
   "outputs": [],
   "source": [
    "# Dictionnaire (Part 2)\n",
    "# Quelques propriétés des dictionnaires\n",
    "\n",
    "var2.update({'language': 'Wolof',\n",
    "            'classe': 'DSI006',\n",
    "            'year': 1995, })"
   ]
  },
  {
   "cell_type": "code",
   "execution_count": 68,
   "id": "a2f2e3be-1224-4e52-860e-e19bc35fda96",
   "metadata": {},
   "outputs": [
    {
     "data": {
      "text/plain": [
       "{0: 4,\n",
       " 1: [1, 2, 3, 5],\n",
       " 2: {'tall': 1.85, 'color': 'black'},\n",
       " 'language': 'Wolof',\n",
       " 'classe': 'DSI006',\n",
       " 'year': 1995}"
      ]
     },
     "execution_count": 68,
     "metadata": {},
     "output_type": "execute_result"
    }
   ],
   "source": [
    "var2"
   ]
  },
  {
   "cell_type": "code",
   "execution_count": 69,
   "id": "5006b326-71d3-4345-aa4b-7eff85321427",
   "metadata": {},
   "outputs": [],
   "source": [
    "var2.update({'language': 'Anglais',\n",
    "            'classe': 'DSI007',\n",
    "            'year': 1994, })"
   ]
  },
  {
   "cell_type": "code",
   "execution_count": 70,
   "id": "ead33c8a-0ed9-4a5d-9aa9-95ef05531fb5",
   "metadata": {},
   "outputs": [
    {
     "data": {
      "text/plain": [
       "{0: 4,\n",
       " 1: [1, 2, 3, 5],\n",
       " 2: {'tall': 1.85, 'color': 'black'},\n",
       " 'language': 'Anglais',\n",
       " 'classe': 'DSI007',\n",
       " 'year': 1994}"
      ]
     },
     "execution_count": 70,
     "metadata": {},
     "output_type": "execute_result"
    }
   ],
   "source": [
    "var2"
   ]
  },
  {
   "cell_type": "code",
   "execution_count": 71,
   "id": "0fc64586-5125-4521-8f03-b10ea373093a",
   "metadata": {},
   "outputs": [
    {
     "data": {
      "text/plain": [
       "{0: 4,\n",
       " 1: [1, 2, 3, 5],\n",
       " 2: {'tall': 1.85, 'color': 'black'},\n",
       " 'language': 'Russe',\n",
       " 'classe': 'DSI008',\n",
       " 'year': 1992}"
      ]
     },
     "execution_count": 71,
     "metadata": {},
     "output_type": "execute_result"
    }
   ],
   "source": [
    "# La fonction update ou | mettent à jour les éléments du dictionnaires\n",
    "# Si ces éléments existent dans la liste il met à jour\n",
    "# Sinon il ajoute les nouveaux éléments avec leur clé\n",
    "var4 = {'language': 'Russe','classe': 'DSI008','year': 1992}\n",
    "var2 = var2 | var4\n",
    "var2"
   ]
  },
  {
   "cell_type": "code",
   "execution_count": 72,
   "id": "ef27e1a8-2693-4fcb-a3b5-38648b596e0d",
   "metadata": {},
   "outputs": [
    {
     "data": {
      "text/plain": [
       "dict_keys([0, 1, 2, 'language', 'classe', 'year'])"
      ]
     },
     "execution_count": 72,
     "metadata": {},
     "output_type": "execute_result"
    }
   ],
   "source": [
    "# Dictionnaire (Part 3)\n",
    "# Quelques fonction sur les dictionnaires\n",
    "\n",
    "# Afficher toutes les clés du dictionnaire\n",
    "var2.keys()"
   ]
  },
  {
   "cell_type": "code",
   "execution_count": 73,
   "id": "49eec6e9-b345-4700-b539-906a7b472d6a",
   "metadata": {},
   "outputs": [
    {
     "data": {
      "text/plain": [
       "dict_values([4, [1, 2, 3, 5], {'tall': 1.85, 'color': 'black'}, 'Russe', 'DSI008', 1992])"
      ]
     },
     "execution_count": 73,
     "metadata": {},
     "output_type": "execute_result"
    }
   ],
   "source": [
    "# Afficher toutes les valeurs du dictionnaire\n",
    "var2.values()"
   ]
  },
  {
   "cell_type": "code",
   "execution_count": 74,
   "id": "5cf28705-f092-438f-8d06-2bfda395d11b",
   "metadata": {},
   "outputs": [
    {
     "data": {
      "text/plain": [
       "[0, 1, 2, 'language', 'classe', 'year']"
      ]
     },
     "execution_count": 74,
     "metadata": {},
     "output_type": "execute_result"
    }
   ],
   "source": [
    "list(var2.keys())"
   ]
  },
  {
   "cell_type": "code",
   "execution_count": 75,
   "id": "b80f352a-1742-49d9-b8f4-718f7c403107",
   "metadata": {},
   "outputs": [
    {
     "data": {
      "text/plain": [
       "[4, [1, 2, 3, 5], {'tall': 1.85, 'color': 'black'}, 'Russe', 'DSI008', 1992]"
      ]
     },
     "execution_count": 75,
     "metadata": {},
     "output_type": "execute_result"
    }
   ],
   "source": [
    "list(var2.values())"
   ]
  },
  {
   "cell_type": "code",
   "execution_count": 76,
   "id": "d32c3de0-2107-4a85-93e1-309837404893",
   "metadata": {},
   "outputs": [
    {
     "data": {
      "text/plain": [
       "dict_items([(0, 4), (1, [1, 2, 3, 5]), (2, {'tall': 1.85, 'color': 'black'}), ('language', 'Russe'), ('classe', 'DSI008'), ('year', 1992)])"
      ]
     },
     "execution_count": 76,
     "metadata": {},
     "output_type": "execute_result"
    }
   ],
   "source": [
    "# Afficher les clés et les valeurs en même temps\n",
    "var2.items()"
   ]
  },
  {
   "cell_type": "code",
   "execution_count": 77,
   "id": "97e4af50-7bba-4521-a052-c23c2af68097",
   "metadata": {},
   "outputs": [
    {
     "data": {
      "text/plain": [
       "[(0, 4),\n",
       " (1, [1, 2, 3, 5]),\n",
       " (2, {'tall': 1.85, 'color': 'black'}),\n",
       " ('language', 'Russe'),\n",
       " ('classe', 'DSI008'),\n",
       " ('year', 1992)]"
      ]
     },
     "execution_count": 77,
     "metadata": {},
     "output_type": "execute_result"
    }
   ],
   "source": [
    "list(var2.items())"
   ]
  },
  {
   "cell_type": "code",
   "execution_count": 78,
   "id": "2f3a0c9d-ca6f-4b3f-91d9-126f37535c6c",
   "metadata": {},
   "outputs": [],
   "source": [
    "# Supprimer un élément du dictionnaire (Méthode 1)\n",
    "# pour supprimer dans ce cas on utilise la clé\n",
    "del var2[0]"
   ]
  },
  {
   "cell_type": "code",
   "execution_count": 79,
   "id": "93a0722e-1dec-416d-b480-326592a88758",
   "metadata": {},
   "outputs": [
    {
     "data": {
      "text/plain": [
       "{1: [1, 2, 3, 5],\n",
       " 2: {'tall': 1.85, 'color': 'black'},\n",
       " 'language': 'Russe',\n",
       " 'classe': 'DSI008',\n",
       " 'year': 1992}"
      ]
     },
     "execution_count": 79,
     "metadata": {},
     "output_type": "execute_result"
    }
   ],
   "source": [
    "var2"
   ]
  },
  {
   "cell_type": "code",
   "execution_count": 81,
   "id": "4f095058-2a51-4ae8-b59c-46e0f666c33c",
   "metadata": {},
   "outputs": [
    {
     "data": {
      "text/plain": [
       "[1, 2, 3, 5]"
      ]
     },
     "execution_count": 81,
     "metadata": {},
     "output_type": "execute_result"
    }
   ],
   "source": [
    "# Supprimer un élément du dictionnaire (Méthode 2)\n",
    "# Utilisation de la méthode pop pour supprimer a partir de l'indexe\n",
    "var2.pop(1)"
   ]
  },
  {
   "cell_type": "code",
   "execution_count": 82,
   "id": "ae896885-9a35-4598-bcab-d4de616e945f",
   "metadata": {},
   "outputs": [],
   "source": [
    "#Exercice\n",
    "# Créér un dictionnaire contenant:\n",
    "# La valeur de vôtre nom assignée à une clé fullname\n",
    "# La valeur de vôtre poids assignée à une clé weight\n",
    "# La valeur de vôtre taille assignée à une clé tall\n",
    "# Puis calcule l'IMC (indice de masse corporelle)\n",
    "# Formule= Poids/(taille*taille) en kg/m2\n",
    "# Exprimer ce résultat en g/m2, en g/mm2\n",
    "# et stocker ces trois résultats dans une liste\n",
    "# et stocker cette liste dans le dictionnaire de départ sous la clé <imc>"
   ]
  },
  {
   "cell_type": "code",
   "execution_count": 85,
   "id": "c7280dcb-290f-4212-b9b0-65c8937244df",
   "metadata": {},
   "outputs": [
    {
     "data": {
      "text/plain": [
       "{'fullname': 'Eric Djiky',\n",
       " 'weight': 70,\n",
       " 'tall': 1.75,\n",
       " 'IMC': [22.857142857142858, 22857.14285714286, 0.022857142857142857]}"
      ]
     },
     "execution_count": 85,
     "metadata": {},
     "output_type": "execute_result"
    }
   ],
   "source": [
    "# Correction faite par Eric Djiky\n",
    "person = {}\n",
    "\n",
    "person['fullname'] = 'Eric Djiky'\n",
    "person['weight']   = 70\n",
    "person['tall']     = 1.75\n",
    "imc                = person['weight'] / (person['tall'] * person['tall'])\n",
    "imc2               = (person['weight'] * 1000) / (person['tall'] * person['tall'])\n",
    "imc3               = (person['weight'] * 1000) / ((person['tall'] * 1000) * (person['tall'] * 1000))\n",
    "\n",
    "person['IMC']      = [imc, imc2, imc3]\n",
    "person"
   ]
  },
  {
   "cell_type": "code",
   "execution_count": 87,
   "id": "ece85331-5bd9-4cef-88d2-4ade291a0ade",
   "metadata": {},
   "outputs": [
    {
     "data": {
      "text/plain": [
       "{'fullnam': 'Maodo',\n",
       " 'weight': 78,\n",
       " 'tall': 1.75,\n",
       " 'imc': [25.46938775510204, 25469.38775510204, 25.46938775510204]}"
      ]
     },
     "execution_count": 87,
     "metadata": {},
     "output_type": "execute_result"
    }
   ],
   "source": [
    "# Correction faite par Maodo Sene\n",
    "\n",
    "# Créér un dictionnaire contenant:\n",
    "mes_infos = {}\n",
    "mes_infos['fullnam']  ='Maodo'\n",
    "mes_infos['weight']   = 78\n",
    "mes_infos['tall']     = 1.75\n",
    "\n",
    "#calcule l'IMC (indice de masse corporelle) en kg/m²\n",
    "IMC1 = mes_infos['weight']/(mes_infos['tall']**2)\n",
    "\n",
    "# Exprimer ce résultat en g/m2\n",
    "IMC2 = (mes_infos['weight']*1000)/(mes_infos['tall']**2)\n",
    "\n",
    "# Exprimer ce résultat en g/mm2\n",
    "IMC3 = (mes_infos['weight']*1000)/((mes_infos['tall']**2)*1000)\n",
    "\n",
    "imc  = {'imc': [IMC1, IMC2, IMC3]}\n",
    "mes_infos.update(imc)\n",
    "mes_infos"
   ]
  },
  {
   "cell_type": "code",
   "execution_count": 86,
   "id": "9c1cb1f6-40d7-457f-8aac-81db502b2549",
   "metadata": {},
   "outputs": [],
   "source": [
    "# Exercice2\n",
    "fruits = ['orange', 'banane', 'kiwi', 'papaye', 'pomme', 'pomme']\n",
    "\n",
    "# Afficher la taille du tableau avec la fonction len:\n",
    "# Exemple Liste1 = [1,2] => longueur = len(Liste1)\n",
    "\n",
    "# Compter le nombre d'occurence de POMME:\n",
    "# Exemple Liste1 = ['tata', 'tata', 'tati'] => occurence = Liste1.count('tata')\n",
    "\n",
    "# Ordonner la liste avec REVERSE\n",
    "# Exemple Liste1 = [1,2,3] => Liste1Reverse = Liste1.reverse()\n",
    "\n",
    "# Trier les éléments du tableau avec la fonction SORTED\n",
    "# Exemple Liste1   = [1,2,3]\n",
    "# Liste1SortedAsc  = sorted(Liste1, reverse=Fasle)\n",
    "# Liste1SortedDesc = sorted(Liste2, reverse=True)\n",
    "\n",
    "# Supprimer l'élément ORANGE de la liste de départ\n",
    "# Ajouter dans la liste le résultat de l'exercice précédent avec l'IMC"
   ]
  },
  {
   "cell_type": "code",
   "execution_count": 88,
   "id": "027cc0bf-6754-4e68-acee-8207f4ab68b4",
   "metadata": {},
   "outputs": [
    {
     "data": {
      "text/plain": [
       "(6,\n",
       " 2,\n",
       " ['banane', 'kiwi', 'orange', 'papaye', 'pomme', 'pomme'],\n",
       " ['pomme', 'pomme', 'papaye', 'orange', 'kiwi', 'banane'])"
      ]
     },
     "execution_count": 88,
     "metadata": {},
     "output_type": "execute_result"
    }
   ],
   "source": [
    "# Correction Exercice2 fait par Wilfried\n",
    "fruits = ['orange', 'banane', 'kiwi', 'papaye', 'pomme', 'pomme']\n",
    "\n",
    "# Afficher la taille du tableau avec la fonction len:\n",
    "# Exemple Liste1 = [1,2] => longueur = len(Liste1)\n",
    "lenghtFruit = len(fruits)\n",
    "\n",
    "# Compter le nombre d'occurence de POMME:\n",
    "# Exemple Liste1 = ['tata', 'tata', 'tati'] => occurence = Liste1.count('tata')\n",
    "occurencePomme = fruits.count('pomme')\n",
    "\n",
    "# Trier les éléments du tableau avec la fonction SORTED\n",
    "# Exemple Liste1   = [1,2,3]\n",
    "# Liste1SortedAsc  = sorted(Liste1, reverse=Fasle)\n",
    "fruitsSortedAsc = sorted(fruits, reverse=False)\n",
    "\n",
    "# Liste1SortedDesc = sorted(Liste2, reverse=True)\n",
    "fruitsSortedDesc = sorted(fruits, reverse=True)\n",
    "\n",
    "lenghtFruit,occurencePomme,fruitsSortedAsc,fruitsSortedDesc"
   ]
  },
  {
   "cell_type": "code",
   "execution_count": 89,
   "id": "8804fd09-8681-4fd8-ac62-d46d41aa2a0c",
   "metadata": {},
   "outputs": [],
   "source": [
    "# Supprimer l'élément ORANGE de la liste de départ\n",
    "del fruits[0]"
   ]
  },
  {
   "cell_type": "code",
   "execution_count": 91,
   "id": "1bfeba8a-b56a-4719-94c3-11c3f91747e1",
   "metadata": {},
   "outputs": [],
   "source": [
    "# Ajouter dans la liste le résultat de l'exercice précédent avec l'IMC\n",
    "fruits.extend(person['IMC'])"
   ]
  },
  {
   "cell_type": "code",
   "execution_count": 92,
   "id": "862e87df-7353-4412-8d11-2c038191ef3c",
   "metadata": {},
   "outputs": [
    {
     "data": {
      "text/plain": [
       "['banane',\n",
       " 'kiwi',\n",
       " 'papaye',\n",
       " 'pomme',\n",
       " 'pomme',\n",
       " 22.857142857142858,\n",
       " 22857.14285714286,\n",
       " 0.022857142857142857]"
      ]
     },
     "execution_count": 92,
     "metadata": {},
     "output_type": "execute_result"
    }
   ],
   "source": [
    "fruits"
   ]
  },
  {
   "cell_type": "code",
   "execution_count": 93,
   "id": "c4bbd09a-db95-49d1-abf5-750c05b3fe39",
   "metadata": {},
   "outputs": [],
   "source": [
    "fruits.reverse()"
   ]
  },
  {
   "cell_type": "code",
   "execution_count": 94,
   "id": "cc091278-c33e-4754-a51c-d5759b2cf49e",
   "metadata": {},
   "outputs": [
    {
     "data": {
      "text/plain": [
       "[0.022857142857142857,\n",
       " 22857.14285714286,\n",
       " 22.857142857142858,\n",
       " 'pomme',\n",
       " 'pomme',\n",
       " 'papaye',\n",
       " 'kiwi',\n",
       " 'banane']"
      ]
     },
     "execution_count": 94,
     "metadata": {},
     "output_type": "execute_result"
    }
   ],
   "source": [
    "fruits"
   ]
  },
  {
   "cell_type": "markdown",
   "id": "f7a71356-3906-47bc-a253-42fcec23bb40",
   "metadata": {},
   "source": [
    "## Les tuples en python"
   ]
  },
  {
   "cell_type": "code",
   "execution_count": 100,
   "id": "842c5e89-4105-4542-90ee-85c1f73d87b2",
   "metadata": {},
   "outputs": [],
   "source": [
    "# Tuple (Part 1)\n",
    "\n",
    "var1 = ()   # ou var1 = tuple()\n",
    "var2 = (1, 2, 3, 4, 5)\n",
    "var3 = (x for x in var2)\n",
    "var4 = (x for x in range(6))\n",
    "\n",
    "var6 = [x for x in var2]\n",
    "var7 = [x for x in range(6)]"
   ]
  },
  {
   "cell_type": "code",
   "execution_count": 101,
   "id": "1511d6f2-10aa-4987-89b1-dab545e3adac",
   "metadata": {},
   "outputs": [
    {
     "data": {
      "text/plain": [
       "((1, 2, 3, 4, 5),\n",
       " <generator object <genexpr> at 0x7ffec88ec430>,\n",
       " <generator object <genexpr> at 0x7ffec88ec580>)"
      ]
     },
     "execution_count": 101,
     "metadata": {},
     "output_type": "execute_result"
    }
   ],
   "source": [
    "# Afficher les valeurs des tuples var2, var3, var4\n",
    "var2, var3, var4"
   ]
  },
  {
   "cell_type": "code",
   "execution_count": 102,
   "id": "66ba93bc-32b4-4266-864c-5c32894fe62c",
   "metadata": {},
   "outputs": [
    {
     "data": {
      "text/plain": [
       "([1, 2, 3, 4, 5], [0, 1, 2, 3, 4, 5])"
      ]
     },
     "execution_count": 102,
     "metadata": {},
     "output_type": "execute_result"
    }
   ],
   "source": [
    "var6, var7"
   ]
  },
  {
   "cell_type": "code",
   "execution_count": 103,
   "id": "42ac6494-46c1-458b-b929-6a735639008a",
   "metadata": {},
   "outputs": [
    {
     "data": {
      "text/plain": [
       "[1, 2, 3, 4, 5]"
      ]
     },
     "execution_count": 103,
     "metadata": {},
     "output_type": "execute_result"
    }
   ],
   "source": [
    "var3 = list(var3) # caster: forcer en un type donné\n",
    "var3"
   ]
  },
  {
   "cell_type": "code",
   "execution_count": 105,
   "id": "7e37e9a5-63f7-40f2-9bb2-5059a08fcd72",
   "metadata": {},
   "outputs": [
    {
     "data": {
      "text/plain": [
       "(1, 2, 3, 4, 5)"
      ]
     },
     "execution_count": 105,
     "metadata": {},
     "output_type": "execute_result"
    }
   ],
   "source": [
    "var3 = tuple(var3) # caster: forcer en un type donné\n",
    "var3"
   ]
  },
  {
   "cell_type": "code",
   "execution_count": 1,
   "id": "19d87519-c0fe-48f1-950c-40c248969484",
   "metadata": {},
   "outputs": [
    {
     "data": {
      "text/plain": [
       "tuple"
      ]
     },
     "execution_count": 1,
     "metadata": {},
     "output_type": "execute_result"
    }
   ],
   "source": [
    "# déclaration des Tuples (Part 2)\n",
    "tampon = 12344, 76171, 'Sénégal', 'CAN 2022'\n",
    "type(tampon)"
   ]
  },
  {
   "cell_type": "code",
   "execution_count": 2,
   "id": "9a34d261-1e54-4ac7-96a9-cac242fed5da",
   "metadata": {},
   "outputs": [
    {
     "data": {
      "text/plain": [
       "(12344, 76171, 'Sénégal')"
      ]
     },
     "execution_count": 2,
     "metadata": {},
     "output_type": "execute_result"
    }
   ],
   "source": [
    "# Afficher les éléments d'un tuple par les indexes\n",
    "tampon[0], tampon[1], tampon[2]"
   ]
  },
  {
   "cell_type": "code",
   "execution_count": 3,
   "id": "cd16f8d5-9938-4d9f-a673-eea9ec2714d3",
   "metadata": {},
   "outputs": [
    {
     "data": {
      "text/plain": [
       "((12344, 76171, 'Sénégal', 'CAN 2022'), [1, 2, 778, 100], 188.0, 'Egypte')"
      ]
     },
     "execution_count": 3,
     "metadata": {},
     "output_type": "execute_result"
    }
   ],
   "source": [
    "# Les tuples peuvent contenir tous types de variables comme les Listes\n",
    "tampon2 = (tampon, [1,2,778,100], 188., 'Egypte')\n",
    "tampon2"
   ]
  },
  {
   "cell_type": "code",
   "execution_count": 4,
   "id": "961aa723-14bf-4f4c-bbc5-8e4b160dd206",
   "metadata": {},
   "outputs": [
    {
     "ename": "TypeError",
     "evalue": "'tuple' object does not support item assignment",
     "output_type": "error",
     "traceback": [
      "\u001b[0;31m---------------------------------------------------------------------------\u001b[0m",
      "\u001b[0;31mTypeError\u001b[0m                                 Traceback (most recent call last)",
      "Input \u001b[0;32mIn [4]\u001b[0m, in \u001b[0;36m<module>\u001b[0;34m\u001b[0m\n\u001b[0;32m----> 1\u001b[0m tampon[\u001b[38;5;241m0\u001b[39m] \u001b[38;5;241m=\u001b[39m \u001b[38;5;241m8890\u001b[39m\n",
      "\u001b[0;31mTypeError\u001b[0m: 'tuple' object does not support item assignment"
     ]
    }
   ],
   "source": [
    "# Erreur : 'tuple' object does not support item assignment\n",
    "# Les tuples ne supportent pas l'assignation \n",
    "# Les tuples sont immuables.\n",
    "tampon[0] = 8890"
   ]
  },
  {
   "cell_type": "code",
   "execution_count": 5,
   "id": "c998f9fd-3fc0-4212-8d90-7e71116eb863",
   "metadata": {},
   "outputs": [
    {
     "data": {
      "text/plain": [
       "((), ('Plat de Mafé',), tuple, tuple)"
      ]
     },
     "execution_count": 5,
     "metadata": {},
     "output_type": "execute_result"
    }
   ],
   "source": [
    "# Déclaration d'un tuple vide\n",
    "# Déclaration par ajout d'une virgule\n",
    "tampon3 = ()\n",
    "singleton = 'Plat de Mafé', # remarquez la virgule à la fin\n",
    "\n",
    "tampon3, singleton, type(tampon3), type(singleton)"
   ]
  },
  {
   "cell_type": "code",
   "execution_count": 9,
   "id": "b7ddc18b-cbc1-4703-8094-43c79a5a0704",
   "metadata": {},
   "outputs": [
    {
     "data": {
      "text/plain": [
       "'Papa'"
      ]
     },
     "execution_count": 9,
     "metadata": {},
     "output_type": "execute_result"
    }
   ],
   "source": [
    "tampon4 = ('Papa')\n",
    "tampon5 = ('Papa',)\n",
    "\n",
    "tampon4"
   ]
  },
  {
   "cell_type": "code",
   "execution_count": 10,
   "id": "b6befedb-9ef5-4f28-ad8d-0febcfcf9b2f",
   "metadata": {},
   "outputs": [
    {
     "data": {
      "text/plain": [
       "('Papa',)"
      ]
     },
     "execution_count": 10,
     "metadata": {},
     "output_type": "execute_result"
    }
   ],
   "source": [
    "tampon5"
   ]
  },
  {
   "cell_type": "code",
   "execution_count": 11,
   "id": "f5f470de-5333-4cb5-bf13-d1341ceb9b5e",
   "metadata": {},
   "outputs": [
    {
     "data": {
      "text/plain": [
       "(12344, 76171, 'Sénégal', 'CAN 2022')"
      ]
     },
     "execution_count": 11,
     "metadata": {},
     "output_type": "execute_result"
    }
   ],
   "source": [
    "# Grouper ou dégrouper des valeurs\n",
    "# Pack or Unpack values or data\n",
    "tampon = 12344, 76171, 'Sénégal', 'CAN 2022' # pack\n",
    "\n",
    "tampon"
   ]
  },
  {
   "cell_type": "code",
   "execution_count": 12,
   "id": "558d3c44-41d1-4b4e-affa-b78f89adf3d2",
   "metadata": {},
   "outputs": [],
   "source": [
    "x, y, w, z = tampon # Unpack"
   ]
  },
  {
   "cell_type": "code",
   "execution_count": 14,
   "id": "c5244020-e335-45c2-9127-86d4cb5ee736",
   "metadata": {},
   "outputs": [
    {
     "data": {
      "text/plain": [
       "12344"
      ]
     },
     "execution_count": 14,
     "metadata": {},
     "output_type": "execute_result"
    }
   ],
   "source": [
    "x"
   ]
  },
  {
   "cell_type": "code",
   "execution_count": 15,
   "id": "3a63946c-08aa-4fa5-aafe-43c35af7ad9f",
   "metadata": {},
   "outputs": [
    {
     "data": {
      "text/plain": [
       "76171"
      ]
     },
     "execution_count": 15,
     "metadata": {},
     "output_type": "execute_result"
    }
   ],
   "source": [
    "y"
   ]
  },
  {
   "cell_type": "code",
   "execution_count": 16,
   "id": "a4bf2b69-b215-4b21-88bb-c7bb7edcd89b",
   "metadata": {},
   "outputs": [
    {
     "data": {
      "text/plain": [
       "'Sénégal'"
      ]
     },
     "execution_count": 16,
     "metadata": {},
     "output_type": "execute_result"
    }
   ],
   "source": [
    "w"
   ]
  },
  {
   "cell_type": "code",
   "execution_count": 17,
   "id": "a648f314-006d-425e-85d4-25780f8780f7",
   "metadata": {},
   "outputs": [
    {
     "data": {
      "text/plain": [
       "'CAN 2022'"
      ]
     },
     "execution_count": 17,
     "metadata": {},
     "output_type": "execute_result"
    }
   ],
   "source": [
    "z"
   ]
  },
  {
   "cell_type": "markdown",
   "id": "e12f199f-41f8-4186-a6e8-499e36bf6710",
   "metadata": {},
   "source": [
    "# Structures conditionnelles "
   ]
  },
  {
   "cell_type": "markdown",
   "id": "9dbd061a-3bc3-41a0-86bd-35044e4ac12e",
   "metadata": {},
   "source": [
    "## Structure conditionnelle _if_"
   ]
  },
  {
   "cell_type": "code",
   "execution_count": 23,
   "id": "792e3bfc-32e4-42ad-baa2-54d6f61d4b86",
   "metadata": {},
   "outputs": [],
   "source": [
    "# Les structures conditionnelles permettent d'évaluer une condition\n",
    "# Syntaxe de if:\n",
    "# if (condition) :\n",
    "#     instruction1\n",
    "#     instruction2\n",
    "#     instruction3\n",
    "#     ............\n",
    "#     instructionN\n",
    "# elif (condition):\n",
    "#     instruction1\n",
    "#     instruction2\n",
    "#     instruction3\n",
    "#     ............\n",
    "#     instructionN\n",
    "# else:\n",
    "#     instruction1\n",
    "#     instruction2\n",
    "#     instruction3\n",
    "#     ............\n",
    "#     instructionN"
   ]
  },
  {
   "cell_type": "code",
   "execution_count": 20,
   "id": "62eadac5-9bf4-4d8a-99bf-64cb995558d6",
   "metadata": {},
   "outputs": [
    {
     "name": "stdout",
     "output_type": "stream",
     "text": [
      "Majeur\n"
     ]
    }
   ],
   "source": [
    "# Condition d'évalution: Si age > 18 ou afficher Majeur dans le cas contraire affiché Mineur\n",
    "# pour afficher en python on utilise la fonction I/O print\n",
    "age = 20\n",
    "\n",
    "if age > 18:\n",
    "    print('Majeur')\n",
    "else:\n",
    "    print('Mineur')"
   ]
  },
  {
   "cell_type": "code",
   "execution_count": 21,
   "id": "8d04c0e5-8bb9-496b-b851-1e3455c778c3",
   "metadata": {},
   "outputs": [
    {
     "name": "stdout",
     "output_type": "stream",
     "text": [
      "Mineur\n"
     ]
    }
   ],
   "source": [
    "age = 16\n",
    "\n",
    "if age > 18:\n",
    "    print('Majeur')\n",
    "else:\n",
    "    print('Mineur')"
   ]
  },
  {
   "cell_type": "code",
   "execution_count": 22,
   "id": "1d4f2453-18ac-4662-9c08-4d408857efad",
   "metadata": {},
   "outputs": [],
   "source": [
    "# Exercice\n",
    "# reprenez les données de l'IMC de l'exercice passé\n",
    "# Puis d'après les informations officielles concernant cet indicateur\n",
    "# Si IMC < 18.5 afficher 'Insuffisance pondérale'\n",
    "# Si IMC compris entre 18.5 et 25 afficher 'Corpulance normale'\n",
    "# Si IMC compris entre 25 à 30 afficher 'Surpoids'\n",
    "# Si IMC compris entre 30 à 40 afficher 'obésité'\n",
    "\n",
    "# Refaite le même exercice pour les individus suivants:\n",
    "individu1 = {'poids': 75, 'taille': 1.68 }\n",
    "individu2 = {'poids': 105, 'taille': 1.68 }\n",
    "individu3 = {'poids': 88, 'taille': 1.88 }\n",
    "individu4 = {'poids': 65, 'taille': 1.78 }"
   ]
  },
  {
   "cell_type": "markdown",
   "id": "57d8d616-a4c4-484f-bd7f-a664e98de00b",
   "metadata": {},
   "source": [
    "## Boucle for"
   ]
  },
  {
   "cell_type": "code",
   "execution_count": 24,
   "id": "63b61194-d2c8-43cc-98b4-8c3af7561a00",
   "metadata": {},
   "outputs": [],
   "source": [
    "# Les boucles permettent de parcourir un itérable et d'itérer selon les valeurs successives contenues dans l'itérables\n",
    "\n",
    "# Syntaxe de for: (Méthode 1)\n",
    "# for index in index in range(len(tableau)):\n",
    "#     print(array[index])\n",
    "\n",
    "# Syntaxe de for: (Méthode 2)\n",
    "# for value in array:\n",
    "#     print(value)"
   ]
  },
  {
   "cell_type": "code",
   "execution_count": 31,
   "id": "73da07ad-deb6-4a28-9dc3-1334140f8bc7",
   "metadata": {},
   "outputs": [
    {
     "name": "stdout",
     "output_type": "stream",
     "text": [
      "1 2 4 55 66 100 "
     ]
    }
   ],
   "source": [
    "# Exemple (Méthode 1):\n",
    "tableau = [1, 2, 4, 55, 66, 100]\n",
    "\n",
    "for index in range(len(tableau)):\n",
    "    print(tableau[index], end=' ')"
   ]
  },
  {
   "cell_type": "code",
   "execution_count": 30,
   "id": "fecc3414-2707-4f99-adfe-e98fd15c887a",
   "metadata": {},
   "outputs": [
    {
     "name": "stdout",
     "output_type": "stream",
     "text": [
      "1 2 4 55 66 100 "
     ]
    }
   ],
   "source": [
    "# Exemple (Méthode 2):\n",
    "tableau = [1, 2, 4, 55, 66, 100]\n",
    "\n",
    "for value in tableau:\n",
    "    print(value, end=' ')"
   ]
  },
  {
   "cell_type": "code",
   "execution_count": 32,
   "id": "4dfd22f7-edf0-4558-b2dd-40d6b04ca436",
   "metadata": {},
   "outputs": [
    {
     "name": "stdout",
     "output_type": "stream",
     "text": [
      "0 1\n",
      "1 2\n",
      "2 4\n",
      "3 55\n",
      "4 66\n",
      "5 100\n"
     ]
    }
   ],
   "source": [
    "# Exemple (Méthode 3):\n",
    "tableau = [1, 2, 4, 55, 66, 100]\n",
    "\n",
    "# Avec la fonction enumerate(iterable) on récupère et les indexes et les valeurs\n",
    "# Pack et de Unpack\n",
    "for index, value in enumerate(tableau):\n",
    "    print(index, value)"
   ]
  },
  {
   "cell_type": "code",
   "execution_count": 33,
   "id": "07ae11af-9825-4f20-9467-597006592505",
   "metadata": {},
   "outputs": [],
   "source": [
    "# Exercice\n",
    "start_list = [x for x in range(201)]\n",
    "\n",
    "# Déterminer les valeurs paires de start_list\n",
    "# Déterminer les valeurs impaires de start_list\n",
    "# Stocker les valeurs paires dans une nouvelle liste PAIRES\n",
    "# Stocker les valeurs impaires dans une nouvelle liste IMPAIRES\n",
    "# Pour évaluer la parité on utilise le MODULO PAR 2 (N%2 ==0)\n",
    "# Puis une fois déterminer appliquer un REVERSE aux deux nouvelles liste pour les afficher en sens inverse"
   ]
  },
  {
   "cell_type": "code",
   "execution_count": 34,
   "id": "763640d7-dcfb-40c9-8deb-4d5f368b333c",
   "metadata": {},
   "outputs": [],
   "source": [
    "# Correction\n",
    "PAIRES = [x for x in start_list if x%2 == 0]\n",
    "PAIRES.reverse()\n",
    "IMPAIRES = [x for x in start_list if x%2 != 0]\n",
    "IMPAIRES.reverse()"
   ]
  },
  {
   "cell_type": "code",
   "execution_count": 35,
   "id": "36cdd5c9-2b6b-4ec9-9e07-66465acfb493",
   "metadata": {},
   "outputs": [],
   "source": [
    "# Exercice\n",
    "start_list = [1, 200, 3, 6, 1888, 32, 56, 2000]\n",
    "\n",
    "# Déterminer le minimum de cette liste en utilisant la boucle for\n",
    "# Déterminer le maximum de cette liste en utilisant la boucle for\n",
    "# Ordonner cette liste\n",
    "# Afficher cette liste"
   ]
  },
  {
   "cell_type": "code",
   "execution_count": 36,
   "id": "ee53007e-77de-420b-ac5e-e8d488efcd84",
   "metadata": {},
   "outputs": [
    {
     "name": "stdout",
     "output_type": "stream",
     "text": [
      "Minimum de la liste : 1\n"
     ]
    }
   ],
   "source": [
    "# Correction\n",
    "# Méthode simple à complexité algorithmique faible\n",
    "minimum = start_list[0]\n",
    "\n",
    "for val in start_list:\n",
    "    if val < minimum:\n",
    "        minimum = val\n",
    "        \n",
    "print('Minimum de la liste :', minimum)"
   ]
  },
  {
   "cell_type": "code",
   "execution_count": 37,
   "id": "8791cf2e-bc49-4bea-a5a2-985eb0e22ee3",
   "metadata": {},
   "outputs": [
    {
     "name": "stdout",
     "output_type": "stream",
     "text": [
      "Maximum de la liste: 2000\n"
     ]
    }
   ],
   "source": [
    "maximum = start_list[0]\n",
    "\n",
    "for val in start_list:\n",
    "    if maximum < val:\n",
    "        maximum = val\n",
    "        \n",
    "print('Maximum de la liste:', maximum)"
   ]
  },
  {
   "cell_type": "code",
   "execution_count": 38,
   "id": "9bfca294-4a07-4cbb-b7ed-7d9e92a07879",
   "metadata": {},
   "outputs": [
    {
     "name": "stdout",
     "output_type": "stream",
     "text": [
      "Liste ordonnée : [1, 3, 6, 32, 56, 200, 1888, 2000]\n"
     ]
    }
   ],
   "source": [
    "start_list.sort()\n",
    "print('Liste ordonnée :', start_list)"
   ]
  },
  {
   "cell_type": "code",
   "execution_count": 40,
   "id": "32cfc68c-a58a-49c7-9f5e-04053d0aae87",
   "metadata": {},
   "outputs": [
    {
     "data": {
      "text/plain": [
       "(1, 2000, [1, 3, 6, 32, 56, 200, 1888, 2000])"
      ]
     },
     "execution_count": 40,
     "metadata": {},
     "output_type": "execute_result"
    }
   ],
   "source": [
    "# Correction avec min et max en python\n",
    "# Utilisation des fonctions de base de python\n",
    "start_list = [1, 200, 3, 6, 1888, 32, 56, 2000]\n",
    "\n",
    "minimum  = min(start_list)\n",
    "maximum  = max(start_list)\n",
    "start_list.sort()\n",
    "\n",
    "minimum, maximum, start_list"
   ]
  },
  {
   "cell_type": "code",
   "execution_count": 43,
   "id": "5c4305de-2d6c-4d78-a975-4d57fe023d94",
   "metadata": {},
   "outputs": [
    {
     "name": "stdout",
     "output_type": "stream",
     "text": [
      "Minimum:  1\n",
      "Maximum:  2000\n",
      "Liste triée:  [1, 3, 6, 32, 56, 200, 1888, 2000]\n"
     ]
    }
   ],
   "source": [
    "# Correction naive et moins efficace\n",
    "# Méthode simple mais à complexité algorithmique élévée\n",
    "start_list = [1, 200, 3, 6, 1888, 32, 56, 2000]\n",
    "\n",
    "start_list.sort()\n",
    "\n",
    "print('Minimum: ', start_list[0])\n",
    "print('Maximum: ', start_list[-1])\n",
    "print('Liste triée: ', start_list)"
   ]
  },
  {
   "cell_type": "markdown",
   "id": "0054bc0d-848d-487f-a831-8bff80a36d93",
   "metadata": {},
   "source": [
    "## La boucle while"
   ]
  },
  {
   "cell_type": "code",
   "execution_count": 44,
   "id": "cf0f46c7-edf0-43a8-afb3-8fe26d28f851",
   "metadata": {},
   "outputs": [
    {
     "name": "stdout",
     "output_type": "stream",
     "text": [
      "0 1 2 3 4 5 6 7 8 9 "
     ]
    }
   ],
   "source": [
    "# La boucle while permet d'itérer comme le fait la boucle for \n",
    "# La particularité c'est quelle s'appuie sur une condition\n",
    "# Syntaxe \n",
    "# while (condition)    Tant que c'est vrai\n",
    "#     instruction1\n",
    "#     instruction2\n",
    "#     instruction3\n",
    "#     invalider la condition pour sortir de la boucle en cas contraire à la condition évaluer\n",
    "\n",
    "# Exemple:\n",
    "var = range(10)\n",
    "checker = 0\n",
    "while checker < 10:\n",
    "    print(var[checker], end=' ')\n",
    "    checker += 1"
   ]
  },
  {
   "cell_type": "markdown",
   "id": "f8b507db-a6f4-4fb8-9320-a6c0b93c8c52",
   "metadata": {},
   "source": [
    "# Manipulation des strings"
   ]
  },
  {
   "cell_type": "code",
   "execution_count": 45,
   "id": "7efd4719-c9f4-4952-a741-5b54bed62579",
   "metadata": {},
   "outputs": [
    {
     "data": {
      "text/plain": [
       "('NOUS SOMMES EN COURS DSI006 AVEC DIT',\n",
       " 'nous sommes en cours dsi006 avec dit',\n",
       " 'Nous sommes en cours dsi006 avec dit',\n",
       " 'Nous Sommes En Cours Dsi006 Avec Dit')"
      ]
     },
     "execution_count": 45,
     "metadata": {},
     "output_type": "execute_result"
    }
   ],
   "source": [
    "# Strings sont des chaines de caractères\n",
    "# on peut les manipuler aussi presque des structures de données \n",
    "# Structures de données comme les listes les tuples etc...\n",
    "\n",
    "string = 'Nous sommes en cours DSI006 avec DIT'\n",
    "\n",
    "# utilisation de quelques fonctions usuelles\n",
    "\n",
    "UPPER      = string.upper()\n",
    "LOWER      = string.lower()\n",
    "CAPITALIZE = string.capitalize()\n",
    "TITLE      = string.title()\n",
    "\n",
    "UPPER, LOWER, CAPITALIZE, TITLE"
   ]
  },
  {
   "cell_type": "code",
   "execution_count": 46,
   "id": "573a79ce-411f-4542-bdc5-f5507db0c6c5",
   "metadata": {},
   "outputs": [
    {
     "data": {
      "text/plain": [
       "['Nous', 'sommes', 'en', 'cours', 'DSI006', 'avec', 'DIT']"
      ]
     },
     "execution_count": 46,
     "metadata": {},
     "output_type": "execute_result"
    }
   ],
   "source": [
    "# Transformer une chaine de caractères en tableau\n",
    "# Utilisation de la fonction split(separateur)\n",
    "# Exemple: <string>.split('\\n')\n",
    "string        = 'Nous sommes en cours DSI006 avec DIT'\n",
    "tableauString = string.split()\n",
    "tableauString"
   ]
  },
  {
   "cell_type": "code",
   "execution_count": 47,
   "id": "9d9e95fd-cb76-41d9-abdd-a02d4e4c8ac9",
   "metadata": {},
   "outputs": [
    {
     "data": {
      "text/plain": [
       "['Nous ', ' en cours DSI006 avec DIT']"
      ]
     },
     "execution_count": 47,
     "metadata": {},
     "output_type": "execute_result"
    }
   ],
   "source": [
    "tableauString = string.split('sommes')\n",
    "tableauString"
   ]
  },
  {
   "cell_type": "code",
   "execution_count": 48,
   "id": "36574493-3658-43fc-b3bc-9d734172d860",
   "metadata": {},
   "outputs": [
    {
     "data": {
      "text/plain": [
       "'Nous soes en cours DSI006 avec DIT'"
      ]
     },
     "execution_count": 48,
     "metadata": {},
     "output_type": "execute_result"
    }
   ],
   "source": [
    "# Utilisation de la fonction replace\n",
    "# Syntaxe <string>.replace(start_char, final_char)\n",
    "# Exemple: <string>.replace('s', 'o')\n",
    "\n",
    "string = 'Nous sommes en cours DSI006 avec DIT'\n",
    "new_string = string.replace('m', '')\n",
    "new_string"
   ]
  },
  {
   "cell_type": "code",
   "execution_count": 49,
   "id": "61421dd8-0fb4-40ab-82fc-cf61984330f3",
   "metadata": {},
   "outputs": [],
   "source": [
    "t = 1, 2, 'Ali'"
   ]
  },
  {
   "cell_type": "code",
   "execution_count": 50,
   "id": "e69d3b03-f540-431c-bdf2-175dfb828fad",
   "metadata": {},
   "outputs": [
    {
     "data": {
      "text/plain": [
       "(1, 2, 'Ali')"
      ]
     },
     "execution_count": 50,
     "metadata": {},
     "output_type": "execute_result"
    }
   ],
   "source": [
    "t"
   ]
  },
  {
   "cell_type": "code",
   "execution_count": 51,
   "id": "abb93201-a679-4fd6-956b-f99d525bd14c",
   "metadata": {},
   "outputs": [],
   "source": [
    "x, y, z = t"
   ]
  },
  {
   "cell_type": "code",
   "execution_count": 52,
   "id": "1a9928e6-cf2a-4ade-b638-efc5953c9408",
   "metadata": {},
   "outputs": [
    {
     "data": {
      "text/plain": [
       "(1, 2)"
      ]
     },
     "execution_count": 52,
     "metadata": {},
     "output_type": "execute_result"
    }
   ],
   "source": [
    "x, y"
   ]
  },
  {
   "cell_type": "markdown",
   "id": "6274ca02-897b-46a1-822f-b4b961dd19da",
   "metadata": {},
   "source": [
    "# Les fonctions d'entrée et sortie (I/O)"
   ]
  },
  {
   "cell_type": "code",
   "execution_count": 7,
   "id": "90a35040-66c9-4cce-8a9e-2ebd839a321e",
   "metadata": {},
   "outputs": [
    {
     "name": "stdout",
     "output_type": "stream",
     "text": [
      "Maodo Sene\n",
      "Lamine Faty\n",
      "Nous sommes à la formation DSI006\n"
     ]
    }
   ],
   "source": [
    "# Une fonction d'entrée permet d'interagir avec un utilisateur final pour recevoir des données\n",
    "# Une fonction de sortie permet d'afficher à la console une donnée ou des données\n",
    "# La fonction usuelle d'entrée en python3 est INPUT() (python2: raw_input)\n",
    "# La syntaxe est: input('Instruction....')\n",
    "# La fonction usuelle de sortie en python3 est PRINT() (python2: print ___ instruction)\n",
    "# La syntaxe est: print('Instruction.......')\n",
    "\n",
    "print('Maodo Sene')\n",
    "print('Lamine Faty')\n",
    "print('Nous sommes à la formation DSI006')"
   ]
  },
  {
   "cell_type": "code",
   "execution_count": 8,
   "id": "23103ad3-e820-4515-9c3b-0d73bfdb02a5",
   "metadata": {},
   "outputs": [
    {
     "name": "stdout",
     "output_type": "stream",
     "text": [
      "Nom: Maodo, Prénom: Sene, Profession: Chef de projet\n"
     ]
    }
   ],
   "source": [
    "# Afficher des variables avec print (Méthode 1)\n",
    "first_name = 'Maodo'\n",
    "last_name = 'Sene'\n",
    "profession = 'Chef de projet'\n",
    "\n",
    "print(f'Nom: {first_name}, Prénom: {last_name}, Profession: {profession}')"
   ]
  },
  {
   "cell_type": "code",
   "execution_count": 9,
   "id": "8448891c-394c-4e29-89cb-8da1af30c0e9",
   "metadata": {},
   "outputs": [
    {
     "name": "stdout",
     "output_type": "stream",
     "text": [
      "Nom: Maodo, Prénom: Sene, Profession: Chef de projet\n"
     ]
    }
   ],
   "source": [
    "# Afficher des variables avec print (Méthode 2)\n",
    "first_name = 'Maodo'\n",
    "last_name = 'Sene'\n",
    "profession = 'Chef de projet'\n",
    "\n",
    "print('Nom: {0}, Prénom: {1}, Profession: {2}'.format(first_name, last_name, profession))"
   ]
  },
  {
   "cell_type": "code",
   "execution_count": 10,
   "id": "f95d5756-3689-40f6-88cc-e5df2b58063a",
   "metadata": {},
   "outputs": [
    {
     "ename": "IndexError",
     "evalue": "Replacement index 1 out of range for positional args tuple",
     "output_type": "error",
     "traceback": [
      "\u001b[0;31m---------------------------------------------------------------------------\u001b[0m",
      "\u001b[0;31mIndexError\u001b[0m                                Traceback (most recent call last)",
      "Input \u001b[0;32mIn [10]\u001b[0m, in \u001b[0;36m<module>\u001b[0;34m\u001b[0m\n\u001b[1;32m      4\u001b[0m last_name \u001b[38;5;241m=\u001b[39m \u001b[38;5;124m'\u001b[39m\u001b[38;5;124mSene\u001b[39m\u001b[38;5;124m'\u001b[39m\n\u001b[1;32m      5\u001b[0m profession \u001b[38;5;241m=\u001b[39m \u001b[38;5;124m'\u001b[39m\u001b[38;5;124mChef de projet\u001b[39m\u001b[38;5;124m'\u001b[39m\n\u001b[0;32m----> 7\u001b[0m \u001b[38;5;28mprint\u001b[39m(\u001b[38;5;124;43m'\u001b[39;49m\u001b[38;5;124;43mNom: \u001b[39;49m\u001b[38;5;132;43;01m{1}\u001b[39;49;00m\u001b[38;5;124;43m'\u001b[39;49m\u001b[38;5;241;43m.\u001b[39;49m\u001b[43mformat\u001b[49m\u001b[43m(\u001b[49m\u001b[43mfirst_name\u001b[49m\u001b[43m)\u001b[49m)\n",
      "\u001b[0;31mIndexError\u001b[0m: Replacement index 1 out of range for positional args tuple"
     ]
    }
   ],
   "source": [
    "# Afficher des variables avec print (Méthode 2)\n",
    "# Remarque: Génération d'exception suite aux indexes mal choisis\n",
    "first_name = 'Maodo'\n",
    "last_name = 'Sene'\n",
    "profession = 'Chef de projet'\n",
    "\n",
    "print('Nom: {1}'.format(first_name)) # index 1 rejeté"
   ]
  },
  {
   "cell_type": "code",
   "execution_count": 11,
   "id": "a668224b-9f42-4c5a-aa1f-491b75fa0e54",
   "metadata": {},
   "outputs": [
    {
     "name": "stdout",
     "output_type": "stream",
     "text": [
      "Nom: Maodo\n"
     ]
    }
   ],
   "source": [
    "# Afficher des variables avec print (Méthode 2)\n",
    "# Remarque: Génération d'exception suite aux indexes mal choisis\n",
    "first_name = 'Maodo'\n",
    "last_name = 'Sene'\n",
    "profession = 'Chef de projet'\n",
    "\n",
    "print('Nom: {0}'.format(first_name)) # index 0 accepté"
   ]
  },
  {
   "cell_type": "code",
   "execution_count": 12,
   "id": "7d5dd7a7-5875-4e76-8db7-836b6c7d7298",
   "metadata": {},
   "outputs": [
    {
     "name": "stdout",
     "output_type": "stream",
     "text": [
      "Nom: Maodo\n"
     ]
    }
   ],
   "source": [
    "# Afficher des variables avec print (Méthode 2)\n",
    "# Remarque: Génération d'exception suite aux indexes mal choisis\n",
    "# En conclusion avec la méthode format les indexes se comportent comme ceux d'une liste ou d'un tuple\n",
    "first_name = 'Maodo'\n",
    "last_name = 'Sene'\n",
    "profession = 'Chef de projet'\n",
    "\n",
    "print('Nom: {}'.format(first_name)) # index 0 accepté. Ici {} <==> {0}"
   ]
  },
  {
   "cell_type": "code",
   "execution_count": 13,
   "id": "72f3d171-b8a2-4450-837f-f7229ea69c04",
   "metadata": {},
   "outputs": [
    {
     "name": "stdout",
     "output_type": "stream",
     "text": [
      "Nom: Maodo\n",
      "Prénom: Sene\n",
      "Profession: Chef de projet\n"
     ]
    }
   ],
   "source": [
    "# Afficher des variables avec print (Méthode 3)\n",
    "# En sommes choississez la méthode la plus aisée pour vous.\n",
    "# Toutes les méthodes se valent\n",
    "first_name = 'Maodo'\n",
    "last_name = 'Sene'\n",
    "profession = 'Chef de projet'\n",
    "\n",
    "print('Nom: %s' % first_name)\n",
    "print('Prénom: %s' % last_name)\n",
    "print('Profession: %s' % profession)"
   ]
  },
  {
   "cell_type": "code",
   "execution_count": 14,
   "id": "838823b3-203c-428b-8cf0-616f98d1bc1b",
   "metadata": {},
   "outputs": [
    {
     "name": "stdin",
     "output_type": "stream",
     "text": [
      "Entrer votre nom svp?  MAODO\n"
     ]
    }
   ],
   "source": [
    "# Utilisation de la fonction input\n",
    "name = input('Entrer votre nom svp? ')"
   ]
  },
  {
   "cell_type": "code",
   "execution_count": 15,
   "id": "a912a99c-0247-401d-ac85-ac7cd7b84ae0",
   "metadata": {},
   "outputs": [
    {
     "data": {
      "text/plain": [
       "'MAODO'"
      ]
     },
     "execution_count": 15,
     "metadata": {},
     "output_type": "execute_result"
    }
   ],
   "source": [
    "name"
   ]
  },
  {
   "cell_type": "code",
   "execution_count": 18,
   "id": "80681be1-9966-405f-b64e-9dfdfe9703ce",
   "metadata": {},
   "outputs": [
    {
     "name": "stdin",
     "output_type": "stream",
     "text": [
      "Entrer votre age svp?  18\n"
     ]
    }
   ],
   "source": [
    "# Utilisation de la fonction input\n",
    "age = int(input('Entrer votre age svp? '))\n",
    "#age = float(input('Entrer votre age svp? '))\n",
    "#age = str(input('Entrer votre age svp? '))"
   ]
  },
  {
   "cell_type": "code",
   "execution_count": 19,
   "id": "673ae558-6e9e-4a04-b49c-6123fa35c82b",
   "metadata": {},
   "outputs": [
    {
     "data": {
      "text/plain": [
       "18"
      ]
     },
     "execution_count": 19,
     "metadata": {},
     "output_type": "execute_result"
    }
   ],
   "source": [
    "age"
   ]
  },
  {
   "cell_type": "code",
   "execution_count": 20,
   "id": "c12cc183-8fd4-4cbe-91ba-b3c10a6aa7f9",
   "metadata": {},
   "outputs": [
    {
     "name": "stdin",
     "output_type": "stream",
     "text": [
      "Entrer nom, prenom, age MAODO, Sene, 42\n"
     ]
    }
   ],
   "source": [
    "informations = input('Entrer nom, prenom, age')"
   ]
  },
  {
   "cell_type": "code",
   "execution_count": 21,
   "id": "a1a9d673-03e1-457e-a44f-5701bf3dcc87",
   "metadata": {},
   "outputs": [
    {
     "data": {
      "text/plain": [
       "'MAODO, Sene, 42'"
      ]
     },
     "execution_count": 21,
     "metadata": {},
     "output_type": "execute_result"
    }
   ],
   "source": [
    "informations"
   ]
  },
  {
   "cell_type": "code",
   "execution_count": 28,
   "id": "84f17eee-3dd7-4ba0-9963-82fba67950bf",
   "metadata": {},
   "outputs": [
    {
     "data": {
      "text/plain": [
       "['MAODO', 'Sene', '42']"
      ]
     },
     "execution_count": 28,
     "metadata": {},
     "output_type": "execute_result"
    }
   ],
   "source": [
    "# recupérer plusieurs donnée avec input et split\n",
    "informations.replace(' ', '').split(',')"
   ]
  },
  {
   "cell_type": "code",
   "execution_count": 36,
   "id": "cc280892-fbc8-4965-be21-e9f094746197",
   "metadata": {},
   "outputs": [
    {
     "data": {
      "text/plain": [
       "['MAODO', 'Sene', '42']"
      ]
     },
     "execution_count": 36,
     "metadata": {},
     "output_type": "execute_result"
    }
   ],
   "source": [
    "# Méthode alternative à <string>.replace(' ', '')\n",
    "informations.strip().split(',')"
   ]
  },
  {
   "cell_type": "code",
   "execution_count": 29,
   "id": "8a7a7c1b-70a3-463b-b2fb-19e016377029",
   "metadata": {},
   "outputs": [],
   "source": [
    "# Exercice\n",
    "# reprenez le calcule de l'IMC\n",
    "# En demandant à la console le poids\n",
    "# En demandant à la console la taille\n",
    "# En calculant alors l'IMC puis en l'affichant"
   ]
  },
  {
   "cell_type": "code",
   "execution_count": 35,
   "id": "db8aae13-7813-4576-89b4-3237ff0f8896",
   "metadata": {},
   "outputs": [
    {
     "name": "stdin",
     "output_type": "stream",
     "text": [
      "Entrz le poids :  188\n",
      "Entrz la taille :  1.88\n"
     ]
    },
    {
     "name": "stdout",
     "output_type": "stream",
     "text": [
      "l'IMC est de  53.19 kg/m²\n"
     ]
    }
   ],
   "source": [
    "# Exercice\n",
    "# reprenez le calcule de l'IMC\n",
    "# En demandant à la console le poids\n",
    "poids = int(input('Entrz le poids : '))\n",
    "# En demandant à la console la taille\n",
    "taille = float(input('Entrz la taille : '))          \n",
    "# En calculant alors l'IMC puis en l'affichant\n",
    "IMC = poids/taille**2\n",
    "print(f\"l'IMC est de {IMC: .2f} kg/m²\")"
   ]
  },
  {
   "cell_type": "code",
   "execution_count": 62,
   "id": "5fa3ad9e-e0d6-4dbb-86a0-9c15c511f532",
   "metadata": {},
   "outputs": [],
   "source": [
    "# Exercice\n",
    "data = \"\"\"\n",
    "Lorem ipsum dolor sit amet consectetur adipisicing elit. Maxime mollitia,\n",
    "molestiae quas vel sint commodi repudiandae consequuntur voluptatum laborum\n",
    "numquam blanditiis harum quisquam eius sed odit fugiat iusto fuga praesentium\n",
    "optio, eaque rerum! Provident similique accusantium nemo autem.\n",
    "\"\"\"\n",
    "\n",
    "# Avec les fonctions appliquées aux strings \n",
    "# Nettoyer cette phrase et obtenez que la liste contenant les mots de cette phrase\n",
    "# Puis dans une liste afficher chacun de ces mots comme suit:\n",
    "# Chaque élément de cette liste doit être de la forme (Mot, Index, Poids)\n",
    "# Ici le Mot = mot\n",
    "# Ici Index = Position du mot dans la liste\n",
    "# Ici le Poids = Représente la taille du mot\n",
    "# Puis Ordonner par ordre décroissant les mots selon leur poids\n",
    "# Puis déterminer le mot ayant le plus grand poids\n",
    "# Puis déterminer le mot ayant le plus petit poids"
   ]
  },
  {
   "cell_type": "code",
   "execution_count": 83,
   "id": "ca6ec760-b993-4dcc-a9cb-707187ff1959",
   "metadata": {},
   "outputs": [
    {
     "data": {
      "text/plain": [
       "(('sed', 23, 3), ('praesentiumoptio', 28, 16))"
      ]
     },
     "execution_count": 83,
     "metadata": {},
     "output_type": "execute_result"
    }
   ],
   "source": [
    "data = \"\"\"\n",
    "Lorem ipsum dolor sit amet consectetur adipisicing elit. Maxime mollitia,\n",
    "molestiae quas vel sint commodi repudiandae consequuntur voluptatum laborum\n",
    "numquam blanditiis harum quisquam eius sed odit fugiat iusto fuga praesentium\n",
    "optio, eaque rerum! Provident similique accusantium nemo autem.\n",
    "\"\"\"\n",
    "\n",
    "data = data.replace('\\n', '').replace('.', '').replace('!', '').replace(',',', ').replace(',', '').replace('  ', ' ').split(' ')\n",
    "data = [(x, y, len(x)) for y,x in enumerate(data)]\n",
    "data = sorted(data, reverse=True, key=lambda list: list[2])\n",
    "maximum = data[0]\n",
    "minimum = data[-1]\n",
    "#data\n",
    "minimum, maximum"
   ]
  },
  {
   "cell_type": "markdown",
   "id": "0b9438df-781c-4e6d-92b4-c8db1f701e80",
   "metadata": {},
   "source": [
    "## Utilisation du mot clé assert"
   ]
  },
  {
   "cell_type": "code",
   "execution_count": 85,
   "id": "07689ecf-5433-475f-965f-8e7a384f8948",
   "metadata": {},
   "outputs": [],
   "source": [
    "# Le mot clé assert permet d'évaluer une condition\n",
    "# Ce mot clé renvoie une exception si la condition évaluée est fausse\n",
    "# Ce mot clé n'émet pas d'exception en cas de condition évaluée à vraie\n",
    "age = 20\n",
    "\n",
    "# Exemple 1\n",
    "assert age == 20"
   ]
  },
  {
   "cell_type": "code",
   "execution_count": 86,
   "id": "57769921-488f-489b-8595-00fb27e23dad",
   "metadata": {},
   "outputs": [
    {
     "ename": "AssertionError",
     "evalue": "",
     "output_type": "error",
     "traceback": [
      "\u001b[0;31m---------------------------------------------------------------------------\u001b[0m",
      "\u001b[0;31mAssertionError\u001b[0m                            Traceback (most recent call last)",
      "Input \u001b[0;32mIn [86]\u001b[0m, in \u001b[0;36m<module>\u001b[0;34m\u001b[0m\n\u001b[1;32m      1\u001b[0m \u001b[38;5;66;03m# Exemple 2\u001b[39;00m\n\u001b[0;32m----> 2\u001b[0m \u001b[38;5;28;01massert\u001b[39;00m age \u001b[38;5;241m==\u001b[39m \u001b[38;5;241m30\u001b[39m\n",
      "\u001b[0;31mAssertionError\u001b[0m: "
     ]
    }
   ],
   "source": [
    "# Exemple 2\n",
    "assert age == 30"
   ]
  },
  {
   "cell_type": "markdown",
   "id": "2f5b4feb-99e6-4060-a90d-c2daa1cc3d3a",
   "metadata": {},
   "source": [
    "# Les fonctions"
   ]
  },
  {
   "cell_type": "code",
   "execution_count": 87,
   "id": "4e42bfa1-f8ca-4674-ae88-4cf85e1452cc",
   "metadata": {},
   "outputs": [],
   "source": [
    "# Une fonction permet de regrouper en un bloc un ensemble d'instructions\n",
    "# Ces instructions doivent être répétitives pour afin de donner lieu à l'utilisation impérative d'une fonction\n",
    "# Ces instructions doivent ne résoudre qu'un seul problème afin d'être optimal et smart\n",
    "\n",
    "# Syntaxe: def <nomFonction>(args1, args2, args3, .....):\n",
    "#              Instruction1\n",
    "#              Instruction2\n",
    "#              ............\n",
    "#              InstructionN\n",
    "#              return resultat1, resultat2, ..., resultatN"
   ]
  },
  {
   "cell_type": "code",
   "execution_count": 91,
   "id": "94884069-a735-4ba1-938c-f101f9dbd2e4",
   "metadata": {},
   "outputs": [
    {
     "data": {
      "text/plain": [
       "'Majeur'"
      ]
     },
     "execution_count": 91,
     "metadata": {},
     "output_type": "execute_result"
    }
   ],
   "source": [
    "# Exemple d'une fonction qui détermine la majorité d'un individu\n",
    "\n",
    "# Approche naive\n",
    "def isMajor(age):\n",
    "    if age > 18:\n",
    "        return 'Majeur'\n",
    "    else:\n",
    "        return 'Mineur'\n",
    "\n",
    "# Approche plus smart\n",
    "# Optimisation du code\n",
    "def isMajor2(age):\n",
    "    if age > 18:\n",
    "        return 'Majeur'\n",
    "    return 'Mineur'\n",
    "\n",
    "# Meilleure approche\n",
    "# Utilisation d'une condition ternaire\n",
    "def isMajor3(age):\n",
    "    return 'Majeur' if age > 18 else 'Mineur'\n",
    "\n",
    "\n",
    "isMajor3(20)"
   ]
  },
  {
   "cell_type": "code",
   "execution_count": 4,
   "id": "7ef19068-1846-4ecc-8c87-06dde9e06147",
   "metadata": {},
   "outputs": [
    {
     "name": "stdout",
     "output_type": "stream",
     "text": [
      "Majeur\n"
     ]
    }
   ],
   "source": [
    "# Les fonctions imbriquées\n",
    "# En python nous pouvons écrire des fonctions qui contiennent d'autres fonctions\n",
    "# On parle en terme courant de WRAPPER. Ces fonctions sont utiliser généralement comme des DECORATEUR\n",
    "# Un décorateur est une fonction qu s'exécute avant une autre\n",
    "# décorateur, Syntaxe: @<nomDeFonction>(args1, ..., argsN) Les arguments sont les arguments de la fonction qu'il décore\n",
    "\n",
    "#Exemple\n",
    "\n",
    "def isMajor(age):\n",
    "    def checkIfIsInteger():\n",
    "        return isinstance(age, int)\n",
    "    \n",
    "    def checkIsAge(age):\n",
    "        return age > 18\n",
    "    \n",
    "    def toFormat(age):\n",
    "        return 'Majeur' if checkIsAge(age) else 'Mineur'\n",
    "    \n",
    "    return toFormat(age)\n",
    "\n",
    "# La fonction isMajor est la fonction WRAPPER\n",
    "# Les fonctions qui sont à l'intérieure exécutent un ensemble de processus\n",
    "# Remarquer que le WRAPPER return des le résultat de l'un des fonctions de traitements\n",
    "print(isMajor(20))"
   ]
  },
  {
   "cell_type": "code",
   "execution_count": 9,
   "id": "ab4d8fbf-7de3-44c3-ba43-fca69bee839f",
   "metadata": {},
   "outputs": [
    {
     "name": "stdout",
     "output_type": "stream",
     "text": [
      "Majeur\n",
      "Mineur\n"
     ]
    }
   ],
   "source": [
    "# Dans la syntaxe des fonctions\n",
    "# Python3 nous permet aujourd'hui de préciser le type des arguments en entrée\n",
    "# Ainsi la signature d'une fonctin s'accompagne des types de arguments en entrée\n",
    "\n",
    "def isMajor1(age: int):\n",
    "    return 'Majeur' if age > 18 else 'Mineur'\n",
    "\n",
    "# Dans la syntaxe des fonctions\n",
    "# Python3 nous permet aussi de donner le type du résultat\n",
    "# Cette syntaxe est valable à partir des versions 3.7+\n",
    "def isMajor2(age: int) -> str:\n",
    "    return 'Majeur' if age > 18 else 'Mineur'\n",
    "\n",
    "print(isMajor1(18.12))\n",
    "print(isMajor2(18))"
   ]
  },
  {
   "cell_type": "code",
   "execution_count": 11,
   "id": "c77a15eb-1945-4730-b3ee-b7a0a6bf65a5",
   "metadata": {},
   "outputs": [
    {
     "data": {
      "text/plain": [
       "(True, True, True)"
      ]
     },
     "execution_count": 11,
     "metadata": {},
     "output_type": "execute_result"
    }
   ],
   "source": [
    "# Dans le controle des types de variables attendues\n",
    "# L'utilisation de la méthode ISINSTANCE permet de faire cette vérification\n",
    "# Cette fonction retourne un booléen\n",
    "\n",
    "var, var2, var3 = [], (), {}\n",
    "\n",
    "varTest = isinstance(var, list)\n",
    "var2Test = isinstance(var2, tuple)\n",
    "var3Test = isinstance(var3, dict)\n",
    "\n",
    "varTest, var2Test, var3Test"
   ]
  },
  {
   "cell_type": "markdown",
   "id": "848171db-920f-4913-be07-7902a816bbaf",
   "metadata": {},
   "source": [
    "## La gestion des exceptions"
   ]
  },
  {
   "cell_type": "code",
   "execution_count": 12,
   "id": "95e5c476-c0e7-4d86-b7d2-3bdc07d537c0",
   "metadata": {},
   "outputs": [],
   "source": [
    "# Une Exception est une erreur levée par l'interpreteur afin de signaler une anomalie\n",
    "# Pour la capture de ces Exceptions python prévoit l'ultilisation du TRY/EXCEPT\n",
    "# Syntaxe:\n",
    "# try:\n",
    "#     Instruction1\n",
    "#     Instruction2\n",
    "#     ............\n",
    "#     InstructionN\n",
    "# except Exception|<nomException> as e:\n",
    "#     Instruction en cas d'exception"
   ]
  },
  {
   "cell_type": "code",
   "execution_count": 18,
   "id": "2b43bfdc-8b49-4e9c-ae77-d5e8ff3a1afb",
   "metadata": {},
   "outputs": [
    {
     "ename": "ZeroDivisionError",
     "evalue": "division by zero",
     "output_type": "error",
     "traceback": [
      "\u001b[0;31m---------------------------------------------------------------------------\u001b[0m",
      "\u001b[0;31mZeroDivisionError\u001b[0m                         Traceback (most recent call last)",
      "Input \u001b[0;32mIn [18]\u001b[0m, in \u001b[0;36m<module>\u001b[0;34m\u001b[0m\n\u001b[1;32m     40\u001b[0m         \u001b[38;5;28;01mreturn\u001b[39;00m \u001b[38;5;241m0\u001b[39m\n\u001b[1;32m     42\u001b[0m \u001b[38;5;66;03m# print(div2Number(1, 2))\u001b[39;00m\n\u001b[0;32m---> 43\u001b[0m \u001b[38;5;28mprint\u001b[39m(\u001b[43mdiv2Number\u001b[49m\u001b[43m(\u001b[49m\u001b[38;5;241;43m1\u001b[39;49m\u001b[43m,\u001b[49m\u001b[43m \u001b[49m\u001b[38;5;241;43m0\u001b[39;49m\u001b[43m)\u001b[49m)\n",
      "Input \u001b[0;32mIn [18]\u001b[0m, in \u001b[0;36mdiv2Number\u001b[0;34m(num1, num2, mode)\u001b[0m\n\u001b[1;32m      5\u001b[0m \u001b[38;5;28;01mdef\u001b[39;00m \u001b[38;5;21mdiv2Number\u001b[39m(num1: \u001b[38;5;28mfloat\u001b[39m,\n\u001b[1;32m      6\u001b[0m                num2: \u001b[38;5;28mfloat\u001b[39m,\n\u001b[1;32m      7\u001b[0m                mode: \u001b[38;5;28mstr\u001b[39m \u001b[38;5;241m=\u001b[39m \u001b[38;5;124m'\u001b[39m\u001b[38;5;124m/\u001b[39m\u001b[38;5;124m'\u001b[39m):\n\u001b[1;32m      8\u001b[0m     \u001b[38;5;28;01mif\u001b[39;00m mode \u001b[38;5;241m==\u001b[39m \u001b[38;5;124m'\u001b[39m\u001b[38;5;124m/\u001b[39m\u001b[38;5;124m'\u001b[39m:\n\u001b[0;32m----> 9\u001b[0m         div \u001b[38;5;241m=\u001b[39m \u001b[43mnum1\u001b[49m\u001b[43m \u001b[49m\u001b[38;5;241;43m/\u001b[39;49m\u001b[43m \u001b[49m\u001b[43mnum2\u001b[49m\n\u001b[1;32m     10\u001b[0m         \u001b[38;5;28;01mreturn\u001b[39;00m div\n\u001b[1;32m     11\u001b[0m     div \u001b[38;5;241m=\u001b[39m num1 \u001b[38;5;241m/\u001b[39m\u001b[38;5;241m/\u001b[39m num2\n",
      "\u001b[0;31mZeroDivisionError\u001b[0m: division by zero"
     ]
    }
   ],
   "source": [
    "def jumpNextLine():\n",
    "    print('\\n')\n",
    "\n",
    "\n",
    "def div2Number(num1: float,\n",
    "               num2: float,\n",
    "               mode: str = '/'):\n",
    "    if mode == '/':\n",
    "        div = num1 / num2\n",
    "        return div\n",
    "    div = num1 // num2\n",
    "    return div\n",
    "\n",
    "\n",
    "def div2NumberExc(num1: float,\n",
    "                  num2: float,\n",
    "                  mode: str = '/'):\n",
    "    try:\n",
    "        if mode == '/':\n",
    "            div = num1 / num2\n",
    "            return div\n",
    "        div = num1 // num2\n",
    "    except ZeroDivisionError as Exc:\n",
    "        return 0\n",
    "    else:\n",
    "        return div\n",
    "\n",
    "\n",
    "def div2NumberExc2(num1: float,\n",
    "                   num2: float,\n",
    "                   mode: str = '/'):\n",
    "    try:\n",
    "        if mode == '/':\n",
    "            div = num1 / num2\n",
    "            return div\n",
    "        div = num1 // num2\n",
    "        return div\n",
    "    except Exception as Exc:\n",
    "        print(type(Exc))\n",
    "        return 0\n",
    "    \n",
    "# print(div2Number(1, 2))\n",
    "print(div2Number(1, 0))"
   ]
  },
  {
   "cell_type": "code",
   "execution_count": 19,
   "id": "42560092-8f17-4e7a-ba48-1ca87f439208",
   "metadata": {},
   "outputs": [
    {
     "name": "stdout",
     "output_type": "stream",
     "text": [
      "0\n"
     ]
    }
   ],
   "source": [
    "print(div2NumberExc(1, 0))"
   ]
  },
  {
   "cell_type": "code",
   "execution_count": 20,
   "id": "cde8c394-0dab-40ca-83d2-7277261e7e76",
   "metadata": {},
   "outputs": [
    {
     "name": "stdout",
     "output_type": "stream",
     "text": [
      "<class 'ZeroDivisionError'>\n",
      "<class 'int'>\n"
     ]
    }
   ],
   "source": [
    "print(type(div2NumberExc2(1, 0)))"
   ]
  },
  {
   "cell_type": "code",
   "execution_count": 21,
   "id": "e5ec5754-5088-4ee2-9dbf-a33a8d370de3",
   "metadata": {},
   "outputs": [
    {
     "data": {
      "text/plain": [
       "0.5"
      ]
     },
     "execution_count": 21,
     "metadata": {},
     "output_type": "execute_result"
    }
   ],
   "source": [
    "div2NumberExc(1,2)"
   ]
  },
  {
   "cell_type": "code",
   "execution_count": 22,
   "id": "db24ee80-3c93-4a15-b15d-54654c0b98ee",
   "metadata": {},
   "outputs": [
    {
     "data": {
      "text/plain": [
       "\"\\nDemander à l'utilisateur de renseigner un nombre entier supérieur à 10 pour le temps. Tant que la condition n'est pas respectée répéter l'instruction jusquà ce qu'il donne la bonne valeur\\nDemander lui de renseigner la distance qui soit positive et supérieur à 28.8. Tant que ces conditions ne sont pas respectées redemander le jusquà obtention de la bonne distance\\nConvertisser le résultat de la vitesse en:\\n    1. m/s\\n    2. m/ms\\n    3. km/s\\n    4. km/ms\\n\""
      ]
     },
     "execution_count": 22,
     "metadata": {},
     "output_type": "execute_result"
    }
   ],
   "source": [
    "\"\"\"\n",
    "Demander à l'utilisateur de renseigner un nombre entier supérieur à 10 pour le temps. Tant que la condition n'est pas respectée répéter l'instruction jusquà ce qu'il donne la bonne valeur\n",
    "Demander lui de renseigner la distance qui soit positive et supérieur à 28.8. Tant que ces conditions ne sont pas respectées redemander le jusquà obtention de la bonne distance\n",
    "Convertisser le résultat de la vitesse en:\n",
    "    1. m/s\n",
    "    2. m/ms\n",
    "    3. km/s\n",
    "    4. km/ms\n",
    "\"\"\"\n",
    "\n",
    "# Ecrire une fonction tackeTime() qui permet de récupérer le temps selon les critères définis dans l'énoncé\n",
    "# Ecrire une fonction takeDistance() qui permet de récupérer la distance selon les critères définis dans l'énoncé\n",
    "# Ecrire une fonction calcVitesse(time: float, distance: float) et retourne la vitesse\n",
    "# Ecrire une fonction formatVitesse(vitesse: float) et qui affiche selon les 4 modalités d'affiches définies\n",
    "# Puis regrouper les quatre fonction dans une fonction globale main()\n",
    "# Puis éxécuter"
   ]
  },
  {
   "cell_type": "code",
   "execution_count": 24,
   "id": "5a3af6e6-f26e-4979-8254-47803d888c5d",
   "metadata": {},
   "outputs": [
    {
     "name": "stdin",
     "output_type": "stream",
     "text": [
      "Renseigner un nombre entier supérieur à 10 pour le temps : 12\n",
      "Entrer un nombre positif et supérieur à 28.8 pour la distance: 30\n"
     ]
    },
    {
     "name": "stdout",
     "output_type": "stream",
     "text": [
      "--------------------------\n",
      "Vitesse en m/s: 2.5\n",
      "--------------------------\n",
      "Vitesse en m/ms: 0.0025\n",
      "--------------------------\n",
      "Vitesse en km/s: 2500.0\n",
      "--------------------------\n",
      "Vitesse en km/ms: 2.5e-06\n",
      "--------------------------\n"
     ]
    }
   ],
   "source": [
    "def takeTime():\n",
    "    while True:\n",
    "        temps = float(input(\"Renseigner un nombre entier supérieur à 10 pour le temps :\"))\n",
    "        if temps>10:\n",
    "            break\n",
    "    return temps\n",
    "\n",
    "def takeDistance():\n",
    "    while True:\n",
    "        distance = float(input(\"Entrer un nombre positif et supérieur à 28.8 pour la distance:\"))\n",
    "        if distance>28.8:\n",
    "            break\n",
    "    return distance\n",
    "\n",
    "def calcVitesse(temps: float, \n",
    "                distance: float):\n",
    "    try:\n",
    "        vitesse = distance/temps\n",
    "    except Exception as e:\n",
    "        return 0.00\n",
    "    else:\n",
    "        return vitesse\n",
    "\n",
    "def formatVitesse(vitesse: float):\n",
    "    if vitesse != 0 :\n",
    "        vitesse1 = vitesse / 1000\n",
    "        vitesse2 = vitesse * 1000\n",
    "        vitesse3 = vitesse / 10**6\n",
    "        \n",
    "        print('--------------------------')\n",
    "        print(f'Vitesse en m/s: {vitesse}')\n",
    "        print('--------------------------')\n",
    "        print(f'Vitesse en m/ms: {vitesse1}')\n",
    "        print('--------------------------')\n",
    "        print(f'Vitesse en km/s: {vitesse2}')\n",
    "        print('--------------------------')\n",
    "        print(f'Vitesse en km/ms: {vitesse3}')\n",
    "        print('--------------------------')\n",
    "    else:\n",
    "        print('--------------------------')\n",
    "        print(f'Cette vitesse est nulle')\n",
    "        print('--------------------------')\n",
    "\n",
    "def main():\n",
    "    formatVitesse(calcVitesse(takeTime(), takeDistance()))\n",
    "    \n",
    "main()"
   ]
  },
  {
   "cell_type": "code",
   "execution_count": 25,
   "id": "6043b8ea-f6bb-48e7-ac5b-7d95800f145b",
   "metadata": {},
   "outputs": [],
   "source": [
    "# Ecrire une fonction qui permet de renvoyer les indexes des lettres majuscules:\n",
    "# demander à l'utilisateur de donner une phrase ou un mot qui soit être une chaine de caractère:\n",
    "# veuillez à ce que la longueur de ce que l'utilisateur entre soit supérieure à 2 dans le cas contraire obnligez le à entrer la bonne phrase ou un mot dont la longueur est supérieur à 2\n",
    "# après retourner les indexes des lettres en majuscules\n",
    "# Puis tester l'application avec différentes phrases que voici:\n",
    "# HeLl0 ==> [0, 2, 4]\n",
    "# HeLlO Les etudiaNtS ==> [0, 2, 4, 6, 16, 18]"
   ]
  },
  {
   "cell_type": "code",
   "execution_count": 26,
   "id": "c91873bb-01a2-44bb-8dd0-67ecfbaedb51",
   "metadata": {},
   "outputs": [
    {
     "name": "stdin",
     "output_type": "stream",
     "text": [
      "Saisir une phrase dont la longueur est supérieure à 2 HeLlO Les etudiaNtS\n"
     ]
    },
    {
     "data": {
      "text/plain": [
       "[0, 2, 4, 6, 16, 18]"
      ]
     },
     "execution_count": 26,
     "metadata": {},
     "output_type": "execute_result"
    }
   ],
   "source": [
    "# Correction faite par Anselme Wilfried\n",
    "def indexRenvoi():\n",
    "    indexes = []\n",
    "    while True:\n",
    "        phrase = input(\"Saisir une phrase dont la longueur est supérieure à 2\")\n",
    "        if len(phrase)>2:\n",
    "            for index,value in enumerate(phrase):\n",
    "                if value.isupper():\n",
    "                    indexes.append(index)\n",
    "            break\n",
    "    return indexes\n",
    "\n",
    "indexRenvoi()"
   ]
  },
  {
   "cell_type": "code",
   "execution_count": 27,
   "id": "09f0cbb1-f6df-4062-981a-fde7dc3c893d",
   "metadata": {},
   "outputs": [
    {
     "name": "stdin",
     "output_type": "stream",
     "text": [
      "Entrainer une phrase ou un mot de plus de 2 caractères:  HeLlO Les etudiaNtS\n"
     ]
    },
    {
     "ename": "TypeError",
     "evalue": "'NoneType' object is not iterable",
     "output_type": "error",
     "traceback": [
      "\u001b[0;31m---------------------------------------------------------------------------\u001b[0m",
      "\u001b[0;31mTypeError\u001b[0m                                 Traceback (most recent call last)",
      "Input \u001b[0;32mIn [27]\u001b[0m, in \u001b[0;36m<module>\u001b[0;34m\u001b[0m\n\u001b[1;32m     13\u001b[0m     index_maj \u001b[38;5;241m=\u001b[39m[chaine\u001b[38;5;241m.\u001b[39mindex(letter) \u001b[38;5;28;01mfor\u001b[39;00m letter \u001b[38;5;129;01min\u001b[39;00m chaine \u001b[38;5;28;01mif\u001b[39;00m letter\u001b[38;5;241m.\u001b[39misupper()]\n\u001b[1;32m     14\u001b[0m     \u001b[38;5;28;01mreturn\u001b[39;00m index_maj\n\u001b[0;32m---> 16\u001b[0m \u001b[43mverifMaj\u001b[49m\u001b[43m(\u001b[49m\u001b[43mEnterChaine\u001b[49m\u001b[43m(\u001b[49m\u001b[43m)\u001b[49m\u001b[43m)\u001b[49m\n",
      "Input \u001b[0;32mIn [27]\u001b[0m, in \u001b[0;36mverifMaj\u001b[0;34m(chaine)\u001b[0m\n\u001b[1;32m     12\u001b[0m \u001b[38;5;28;01mdef\u001b[39;00m \u001b[38;5;21mverifMaj\u001b[39m(chaine):\n\u001b[0;32m---> 13\u001b[0m     index_maj \u001b[38;5;241m=\u001b[39m[chaine\u001b[38;5;241m.\u001b[39mindex(letter) \u001b[38;5;28;01mfor\u001b[39;00m letter \u001b[38;5;129;01min\u001b[39;00m chaine \u001b[38;5;28;01mif\u001b[39;00m letter\u001b[38;5;241m.\u001b[39misupper()]\n\u001b[1;32m     14\u001b[0m     \u001b[38;5;28;01mreturn\u001b[39;00m index_maj\n",
      "\u001b[0;31mTypeError\u001b[0m: 'NoneType' object is not iterable"
     ]
    }
   ],
   "source": [
    "# Correcction faite par Maodo Sene\n",
    "# Ecrire une fonction qui permet de renvoyer les indexes des lettres majuscules:\n",
    "# demander à l'utilisateur de donner une phrase ou un mot qui soit être une chaine de caractère:\n",
    "\n",
    "def EnterChaine():\n",
    "    while True:\n",
    "        chaine = str(input(\"Entrainer une phrase ou un mot de plus de 2 caractères: \"))\n",
    "        if len(chaine)>2 :\n",
    "            break\n",
    "        return chaine\n",
    "\n",
    "def verifMaj(chaine):\n",
    "    index_maj =[chaine.index(letter) for letter in chaine if letter.isupper()]\n",
    "    return index_maj\n",
    "\n",
    "verifMaj(EnterChaine())"
   ]
  },
  {
   "cell_type": "code",
   "execution_count": null,
   "id": "9363c470-1fcf-4205-8275-6f33840b0097",
   "metadata": {},
   "outputs": [],
   "source": []
  }
 ],
 "metadata": {
  "kernelspec": {
   "display_name": "Python 3 (ipykernel)",
   "language": "python",
   "name": "python3"
  },
  "language_info": {
   "codemirror_mode": {
    "name": "ipython",
    "version": 3
   },
   "file_extension": ".py",
   "mimetype": "text/x-python",
   "name": "python",
   "nbconvert_exporter": "python",
   "pygments_lexer": "ipython3",
   "version": "3.9.6"
  }
 },
 "nbformat": 4,
 "nbformat_minor": 5
}
