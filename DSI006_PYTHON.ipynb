{
 "cells": [
  {
   "cell_type": "markdown",
   "id": "a68db0dc-15bf-4484-84df-487e1376bf2b",
   "metadata": {},
   "source": [
    "# Variables"
   ]
  },
  {
   "cell_type": "code",
   "execution_count": 1,
   "id": "a3bf6d2a-0a6b-4d1d-ac3b-48bde103ace6",
   "metadata": {},
   "outputs": [],
   "source": [
    "# Variables\n",
    "\n",
    "# Python est un langage non typé\n",
    "# Les variables permettent de stocker des valeurs\n",
    "# Les variables permettent de stocker quelques soit le type\n",
    "# A chaque assignation de valeur à une variable on parle d'assignation ou d'affectation\n",
    "\n",
    "# Première METHODE\n",
    "var1 = 'Ali'\n",
    "var2 = 100.100\n",
    "var3 = 22\n",
    "var4 = 188.\n",
    "\n",
    "# Deuxième METHODE\n",
    "# Cette mlethode permet de regrouper (PACK)...\n",
    "var5, var6, var7, var8 = 'Ali', 100.100, 22, 188."
   ]
  },
  {
   "cell_type": "code",
   "execution_count": 9,
   "id": "373e9be0-e824-49a2-94db-691b796b12dd",
   "metadata": {},
   "outputs": [
    {
     "data": {
      "text/plain": [
       "('Ali', 100.1, 22, 188.0)"
      ]
     },
     "execution_count": 9,
     "metadata": {},
     "output_type": "execute_result"
    }
   ],
   "source": [
    "# Afficher les variables dans le prompt de Jupyter Lab\n",
    "var1, var2, var3, var4"
   ]
  },
  {
   "cell_type": "code",
   "execution_count": 10,
   "id": "08b79b9e-6768-478a-a479-3967f572516b",
   "metadata": {},
   "outputs": [
    {
     "data": {
      "text/plain": [
       "('Ali', 100.1, 22, 188.0)"
      ]
     },
     "execution_count": 10,
     "metadata": {},
     "output_type": "execute_result"
    }
   ],
   "source": [
    "# Afficher les variables dans le prompt de Jupyter Lab\n",
    "var5, var6, var7, var8"
   ]
  },
  {
   "cell_type": "code",
   "execution_count": 11,
   "id": "bd1114b8-145d-4fe2-ae46-9720795d447f",
   "metadata": {},
   "outputs": [],
   "source": [
    "# Les entiers\n",
    "# Les réels\n",
    "# les chaines de caractères\n",
    "# Les booléens\n",
    "# Les tableau ( Entier, Reels, Chaine de caractères)"
   ]
  },
  {
   "cell_type": "markdown",
   "id": "57be0686-6630-43a2-b269-247dfc81ce00",
   "metadata": {},
   "source": [
    "# Les types de Variables"
   ]
  },
  {
   "cell_type": "code",
   "execution_count": 14,
   "id": "9dc8fdb3-c305-40de-aeb4-40ef665bfc73",
   "metadata": {},
   "outputs": [
    {
     "data": {
      "text/plain": [
       "(str, float, int, float)"
      ]
     },
     "execution_count": 14,
     "metadata": {},
     "output_type": "execute_result"
    }
   ],
   "source": [
    "# La fonction pour afficher le type est la fonction type\n",
    "\n",
    "# var1 = 'Ali'    type = str (chaine de caractère)\n",
    "# var2 = 100.100  type = float (reel)\n",
    "# var3 = 22       type = int (entier)\n",
    "# var4 = 188.     type = float (reel)\n",
    "\n",
    "type(var1), type(var2), type(var3), type(var4)"
   ]
  },
  {
   "cell_type": "code",
   "execution_count": 16,
   "id": "d196ada5-5eda-4bb6-bb0c-a241c7448611",
   "metadata": {},
   "outputs": [
    {
     "data": {
      "text/plain": [
       "(188.0, 188.0)"
      ]
     },
     "execution_count": 16,
     "metadata": {},
     "output_type": "execute_result"
    }
   ],
   "source": [
    "# Les deux manières d'écrire un float\n",
    "\n",
    "188.000, 188. # 188.0000000000"
   ]
  },
  {
   "cell_type": "code",
   "execution_count": 17,
   "id": "84359a73-0f4d-477d-b282-635a6a78f4f0",
   "metadata": {},
   "outputs": [
    {
     "data": {
      "text/plain": [
       "(str, float, int, float)"
      ]
     },
     "execution_count": 17,
     "metadata": {},
     "output_type": "execute_result"
    }
   ],
   "source": [
    "type(var5), type(var6), type(var7), type(var8)"
   ]
  },
  {
   "cell_type": "markdown",
   "id": "8b873f15-c5f9-4341-b77f-4326989b2833",
   "metadata": {},
   "source": [
    "# Les opérations usuelles en python"
   ]
  },
  {
   "cell_type": "code",
   "execution_count": 19,
   "id": "b9b3e011-ceb7-414c-b540-8c2e510e1f89",
   "metadata": {},
   "outputs": [],
   "source": [
    "add    = var2 + var3    # Addition\n",
    "sous   = var2 - var3    # Soustraction\n",
    "divi   = var2 / var3    # Divion simple\n",
    "mult   = var2 * var3    # Multiplication\n",
    "pow2   = var2 ** 2      # Exposant au carré (puissance)\n",
    "pow3   = var2 ** 3      # Exposant au cube (puissance)\n",
    "divE   = var2 // var3   # Division Entière\n",
    "divE2  = 4 // 3         # Division Entière\n",
    "modulo = 4 % 3          # Modulo (retourne le reste)"
   ]
  },
  {
   "cell_type": "code",
   "execution_count": 20,
   "id": "8fd3a7c4-8b66-48b0-87c9-a8afe1ead211",
   "metadata": {},
   "outputs": [
    {
     "data": {
      "text/plain": [
       "(122.1, 78.1, 4.55, 2202.2, 10020.009999999998, 1003003.0009999998)"
      ]
     },
     "execution_count": 20,
     "metadata": {},
     "output_type": "execute_result"
    }
   ],
   "source": [
    "add, sous, divi, mult, pow2, pow3"
   ]
  },
  {
   "cell_type": "code",
   "execution_count": 23,
   "id": "2f5f1e64-d183-447d-ae0f-77f2c59bfef6",
   "metadata": {},
   "outputs": [
    {
     "data": {
      "text/plain": [
       "(1.3333333333333333, 1)"
      ]
     },
     "execution_count": 23,
     "metadata": {},
     "output_type": "execute_result"
    }
   ],
   "source": [
    "4/3, 4//3    # La division entière filtre et retient la partie entiere du résultat"
   ]
  },
  {
   "cell_type": "code",
   "execution_count": 24,
   "id": "e9bd92f8-ab3f-476b-b2f4-3ff69ff99834",
   "metadata": {},
   "outputs": [],
   "source": [
    "# Déclarer des variables\n",
    "# Une variable <name>, contenant votre NOM\n",
    "# Une variable <age>, contenant votre AGE\n",
    "# Une variable <sex>, contenant votre sexe\n",
    "# Une variable <country>, contenant votre pays."
   ]
  },
  {
   "cell_type": "code",
   "execution_count": 27,
   "id": "90640e10-bc2d-4d7e-ab67-9c423494a237",
   "metadata": {},
   "outputs": [],
   "source": [
    "# Correction Déclarer des variables\n",
    "name    = 'Eric'\n",
    "age     = 28\n",
    "sex     = 'Masculin'\n",
    "country = 'Cameroune'"
   ]
  },
  {
   "cell_type": "code",
   "execution_count": 25,
   "id": "c2afd5e1-36e1-4b4d-9f7b-77f8c7b8d4ab",
   "metadata": {},
   "outputs": [],
   "source": [
    "# Afficher le type de vos variables\n",
    "# Afficher le type de la variable <name>\n",
    "# Afficher le type de la variable <age>\n",
    "# Afficher le type de la variable <sex>\n",
    "# Afficher le type de la variable <country>"
   ]
  },
  {
   "cell_type": "code",
   "execution_count": 29,
   "id": "c5a08c98-9455-4181-a84c-13c084f2c4e6",
   "metadata": {},
   "outputs": [
    {
     "data": {
      "text/plain": [
       "(str, int, str, str)"
      ]
     },
     "execution_count": 29,
     "metadata": {},
     "output_type": "execute_result"
    }
   ],
   "source": [
    "# Correction Afficher le type des variables\n",
    "type(name), type(age), type(sex), type(country)"
   ]
  },
  {
   "cell_type": "code",
   "execution_count": 26,
   "id": "f9b160f0-ad54-4cff-b3a3-af8cd651a163",
   "metadata": {},
   "outputs": [],
   "source": [
    "# Manipulation des varaibles\n",
    "# Declarer une variable du nom <surface>\n",
    "# Le rayon du cercle est de 18 et PI = 22/7\n",
    "# Calculer la surfaceCercle d'un cercle = PI * r**2\n",
    "# Considérer un triangle avec les dimensions suivantes:\n",
    "# Base = 22\n",
    "# Hauteur = 17\n",
    "# calculer la surface de ce triangle dans une variable surfaceTriangle\n",
    "# NB: Perimètre d'un triangle = (B * H) / 2 "
   ]
  },
  {
   "cell_type": "code",
   "execution_count": 30,
   "id": "4bd3609a-b8c6-4852-bc00-39159d1bdac2",
   "metadata": {},
   "outputs": [
    {
     "data": {
      "text/plain": [
       "(1018.2857142857142, 187.0)"
      ]
     },
     "execution_count": 30,
     "metadata": {},
     "output_type": "execute_result"
    }
   ],
   "source": [
    "# Correction Manipulation des varaibles\n",
    "PI, r, Base, Hauteur = 22/7, 18, 22, 17\n",
    "surfaceCercle        = PI * (r**2)\n",
    "surfaceTriangle      = (Base * Hauteur) / 2\n",
    "\n",
    "surfaceCercle, surfaceTriangle"
   ]
  },
  {
   "cell_type": "markdown",
   "id": "e7182a60-c6f4-4801-b577-a7aa842e6f35",
   "metadata": {},
   "source": [
    "# List, tuple, dict"
   ]
  },
  {
   "cell_type": "markdown",
   "id": "f827af7b-df7b-436f-91f2-7b9ee9ab8211",
   "metadata": {},
   "source": [
    "## Les Listes en python ou tableau"
   ]
  },
  {
   "cell_type": "code",
   "execution_count": 31,
   "id": "1149537d-3a66-494c-9082-699e34f0f126",
   "metadata": {},
   "outputs": [],
   "source": [
    "# Déclaration d'une liste ou d'un tableau\n",
    "\n",
    "tableau = []\n",
    "# tableau = list()"
   ]
  },
  {
   "cell_type": "code",
   "execution_count": 33,
   "id": "6a079d0c-5b52-4696-8687-80e86190e6c0",
   "metadata": {},
   "outputs": [],
   "source": [
    "# Ajouter des élements dans le tableau\n",
    "# La particularité des tableaux en Java ou langage C est de ne déclarer que des tableaux ne contenant que des valeurs du même type\n",
    "# En python les LISTES sont des META DONNEES ( communément appelées des STRUCTURES DE DONNEES)\n",
    "# La particularité des STRUCTURES DE DONNEES est de contenir tous types de variables\n",
    "\n",
    "# Cas en Java ou en C (Appliqué au python)\n",
    "tableau1 = [0, 1, 2, 3, 4, 5, 1991, 20778] # que des entiers\n",
    "tableau2 = [0.00, 1.00, 2.00, 3.00, 4.00, 1991.012] # que des réels\n",
    "tableau3 = ['Eric', 'Marius', 'Maodo', 'Russell'] # que des chaines de caractères\n",
    "\n",
    "# Cas en python\n",
    "tableau4 = [11, 188.02, 'Eric']\n",
    "tableau5 = [11.88, 12, 'Russell', []]\n",
    "tableau6 = [[1,2,3], [99.88, 'ALI'], []]"
   ]
  },
  {
   "cell_type": "code",
   "execution_count": 35,
   "id": "08975023-3065-4f31-9334-ee6abf64a15c",
   "metadata": {},
   "outputs": [
    {
     "data": {
      "text/plain": [
       "(0, 1, 1991)"
      ]
     },
     "execution_count": 35,
     "metadata": {},
     "output_type": "execute_result"
    }
   ],
   "source": [
    "# Afficher les valeurs du tableau en passant par les indexes\n",
    "tableau1[0], tableau1[1], tableau1[6]"
   ]
  },
  {
   "cell_type": "code",
   "execution_count": 37,
   "id": "f5c0870e-61c1-4913-8d10-d4812ec3e9ef",
   "metadata": {},
   "outputs": [
    {
     "data": {
      "text/plain": [
       "('Eric', 1.0, 1991.012)"
      ]
     },
     "execution_count": 37,
     "metadata": {},
     "output_type": "execute_result"
    }
   ],
   "source": [
    "# Afficher les valeurs du tableau en passant par les indexes\n",
    "tableau3[0], tableau2[1], tableau2[5]"
   ]
  },
  {
   "cell_type": "code",
   "execution_count": 38,
   "id": "f1291955-e17c-4cf1-b8af-7e5387897b98",
   "metadata": {},
   "outputs": [
    {
     "data": {
      "text/plain": [
       "(11.88, 'Russell', 3.0)"
      ]
     },
     "execution_count": 38,
     "metadata": {},
     "output_type": "execute_result"
    }
   ],
   "source": [
    "# Afficher les valeurs du tableau en passant par les indexes\n",
    "tableau5[0], tableau5[2], tableau2[3]"
   ]
  },
  {
   "cell_type": "code",
   "execution_count": 39,
   "id": "264555c1-0e26-4eb1-bdf2-cfecf66525d8",
   "metadata": {},
   "outputs": [
    {
     "data": {
      "text/plain": [
       "([1, 2, 3], [99.88, 'ALI'], [])"
      ]
     },
     "execution_count": 39,
     "metadata": {},
     "output_type": "execute_result"
    }
   ],
   "source": [
    "# Afficher les valeurs du tableau en passant par les indexes\n",
    "tableau6[0], tableau6[1], tableau6[2]"
   ]
  },
  {
   "cell_type": "code",
   "execution_count": 40,
   "id": "022557ce-ec5b-4538-8ce5-e3cee95055a2",
   "metadata": {},
   "outputs": [
    {
     "data": {
      "text/plain": [
       "(1, 'ALI', [])"
      ]
     },
     "execution_count": 40,
     "metadata": {},
     "output_type": "execute_result"
    }
   ],
   "source": [
    "# Afficher les valeurs du tableau en passant par les indexes\n",
    "# Manipulation des matrices (tableau dimension 2)\n",
    "tableau6[0][0], tableau6[1][1], tableau6[2]"
   ]
  },
  {
   "cell_type": "code",
   "execution_count": 41,
   "id": "de575615-0c74-4594-ab8b-ca00317ec0da",
   "metadata": {},
   "outputs": [
    {
     "data": {
      "text/plain": [
       "(list, list, list, list)"
      ]
     },
     "execution_count": 41,
     "metadata": {},
     "output_type": "execute_result"
    }
   ],
   "source": [
    "# Affichage du type des tableaux\n",
    "type(tableau1), type(tableau2), type(tableau5), type(tableau6)"
   ]
  },
  {
   "cell_type": "code",
   "execution_count": 46,
   "id": "c051e498-c1a0-4b44-a350-ca9971d2c3fc",
   "metadata": {},
   "outputs": [],
   "source": [
    "# Petite Remarque\n",
    "# On peut modifier les valeurs contenues dans une LISTE\n",
    "# La modification de ces valeurs se font par les index du tableau\n",
    "# Exemple\n",
    "tableau4    = [11, 188.02, 'Eric']\n",
    "tableau4[0] = 100.2\n",
    "tableau4[1] = 'Ali'\n",
    "tableau4[2] = 'Maodo Sene'"
   ]
  },
  {
   "cell_type": "code",
   "execution_count": 48,
   "id": "3f94f2d8-eac6-4463-a21a-18cdd5a10aa1",
   "metadata": {},
   "outputs": [
    {
     "data": {
      "text/plain": [
       "[100.2, 'Ali', 'Maodo Sene']"
      ]
     },
     "execution_count": 48,
     "metadata": {},
     "output_type": "execute_result"
    }
   ],
   "source": [
    "# Affichage des modifications apportées au tableau4\n",
    "tableau4"
   ]
  },
  {
   "cell_type": "code",
   "execution_count": 49,
   "id": "778f3e31-61a6-4f9f-9bf0-c2c15ca86026",
   "metadata": {},
   "outputs": [
    {
     "ename": "IndexError",
     "evalue": "list index out of range",
     "output_type": "error",
     "traceback": [
      "\u001b[0;31m---------------------------------------------------------------------------\u001b[0m",
      "\u001b[0;31mIndexError\u001b[0m                                Traceback (most recent call last)",
      "Input \u001b[0;32mIn [49]\u001b[0m, in \u001b[0;36m<module>\u001b[0;34m\u001b[0m\n\u001b[1;32m      1\u001b[0m \u001b[38;5;66;03m# test de la propriété d'immutabilité des listes\u001b[39;00m\n\u001b[1;32m      2\u001b[0m testListe \u001b[38;5;241m=\u001b[39m \u001b[38;5;28mlist\u001b[39m()  \u001b[38;5;66;03m# testListe = []\u001b[39;00m\n\u001b[0;32m----> 4\u001b[0m \u001b[43mtestListe\u001b[49m\u001b[43m[\u001b[49m\u001b[38;5;241;43m0\u001b[39;49m\u001b[43m]\u001b[49m\n",
      "\u001b[0;31mIndexError\u001b[0m: list index out of range"
     ]
    }
   ],
   "source": [
    "# test de la propriété d'immutabilité des listes (Part 1)\n",
    "testListe = list()  # testListe = []\n",
    "\n",
    "testListe[0]"
   ]
  },
  {
   "cell_type": "code",
   "execution_count": 50,
   "id": "1caddd1b-c59c-4d97-8a4a-e8ab11f4697b",
   "metadata": {},
   "outputs": [
    {
     "ename": "IndexError",
     "evalue": "list assignment index out of range",
     "output_type": "error",
     "traceback": [
      "\u001b[0;31m---------------------------------------------------------------------------\u001b[0m",
      "\u001b[0;31mIndexError\u001b[0m                                Traceback (most recent call last)",
      "Input \u001b[0;32mIn [50]\u001b[0m, in \u001b[0;36m<module>\u001b[0;34m\u001b[0m\n\u001b[1;32m      1\u001b[0m \u001b[38;5;66;03m# test de la propriété d'immutabilité des listes (Part 2)\u001b[39;00m\n\u001b[1;32m      2\u001b[0m testListe \u001b[38;5;241m=\u001b[39m \u001b[38;5;28mlist\u001b[39m()  \u001b[38;5;66;03m# testListe = []\u001b[39;00m\n\u001b[0;32m----> 4\u001b[0m testListe[\u001b[38;5;241m0\u001b[39m] \u001b[38;5;241m=\u001b[39m \u001b[38;5;241m188.19\u001b[39m\n",
      "\u001b[0;31mIndexError\u001b[0m: list assignment index out of range"
     ]
    }
   ],
   "source": [
    "# test de la propriété d'immutabilité des listes (Part 2)\n",
    "testListe = list()  # testListe = []\n",
    "\n",
    "testListe[0] = 188.19"
   ]
  },
  {
   "cell_type": "code",
   "execution_count": 53,
   "id": "0f077ce5-8df4-4046-8f66-2721ba3c1841",
   "metadata": {},
   "outputs": [],
   "source": [
    "# List comprehension (Part 1)\n",
    "# NB: la fonction native range(n) affiche les éléments a partir de 0 jusqu'à n-1\n",
    "# NB exemple: range(3) = [0,1,2] car n-1 = 3-1 = 2\n",
    "\n",
    "var1 = []   # list()\n",
    "var2 = [1, 2, 3, 4, 5]\n",
    "var3 = [x for x in var2]\n",
    "var4 = [x for x in var2]\n",
    "var5 = [x for x in range(6)]\n",
    "var6 = [x for x in range(10)]"
   ]
  },
  {
   "cell_type": "code",
   "execution_count": 51,
   "id": "f3e695a1-e8a1-42cc-baec-82ec21b0c262",
   "metadata": {},
   "outputs": [
    {
     "data": {
      "text/plain": [
       "([1, 2, 3, 4, 5], [1, 2, 3, 4, 5])"
      ]
     },
     "execution_count": 51,
     "metadata": {},
     "output_type": "execute_result"
    }
   ],
   "source": [
    "# Afficher les valeurs des variables var3, var4\n",
    "var3, var4"
   ]
  },
  {
   "cell_type": "code",
   "execution_count": 52,
   "id": "4cad3bea-d750-4df3-be34-0b2e0be568e1",
   "metadata": {},
   "outputs": [
    {
     "data": {
      "text/plain": [
       "([0, 1, 2, 3, 4, 5], [0, 1, 2, 3, 4, 5, 6, 7, 8, 9])"
      ]
     },
     "execution_count": 52,
     "metadata": {},
     "output_type": "execute_result"
    }
   ],
   "source": [
    "# Afficher les valeurs des variables var5, var6\n",
    "var5, var6"
   ]
  },
  {
   "cell_type": "code",
   "execution_count": 54,
   "id": "7a1e0e64-a519-448e-8153-22306472be78",
   "metadata": {},
   "outputs": [
    {
     "data": {
      "text/plain": [
       "(list, list)"
      ]
     },
     "execution_count": 54,
     "metadata": {},
     "output_type": "execute_result"
    }
   ],
   "source": [
    "# Afficher les types des variables var5, var6\n",
    "type(var5), type(var6)"
   ]
  },
  {
   "cell_type": "code",
   "execution_count": null,
   "id": "25693563-0a4a-4048-8c44-486bdd0adfd3",
   "metadata": {},
   "outputs": [],
   "source": []
  }
 ],
 "metadata": {
  "kernelspec": {
   "display_name": "Python 3 (ipykernel)",
   "language": "python",
   "name": "python3"
  },
  "language_info": {
   "codemirror_mode": {
    "name": "ipython",
    "version": 3
   },
   "file_extension": ".py",
   "mimetype": "text/x-python",
   "name": "python",
   "nbconvert_exporter": "python",
   "pygments_lexer": "ipython3",
   "version": "3.9.6"
  }
 },
 "nbformat": 4,
 "nbformat_minor": 5
}
